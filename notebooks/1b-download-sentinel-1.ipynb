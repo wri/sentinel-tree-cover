{
 "cells": [
  {
   "cell_type": "markdown",
   "metadata": {},
   "source": [
    "# Download and process Sentinel 1 data\n",
    "\n",
    "This notebook downloads and processes one year of Sentinel 1 data for training and testing plots labelled in Collect Earth Online.\n",
    "\n",
    "## John Brandt\n",
    "## July 12, 2021\n",
    "\n",
    "## Package imports, API import, source scripts"
   ]
  },
  {
   "cell_type": "code",
   "execution_count": null,
   "metadata": {},
   "outputs": [],
   "source": [
    "import datetime\n",
    "import logging\n",
    "import pandas as pd\n",
    "import numpy as np\n",
    "import matplotlib.pyplot as plt\n",
    "import math\n",
    "import os\n",
    "import scipy.sparse as sparse\n",
    "import seaborn as sns\n",
    "import yaml\n",
    "\n",
    "from collections import Counter\n",
    "from random import shuffle\n",
    "from scipy.sparse.linalg import splu\n",
    "from sentinelhub import WmsRequest, WcsRequest, MimeType\n",
    "from sentinelhub import CRS, BBox, constants, DataSource, CustomUrlParam\n",
    "from skimage.transform import resize\n",
    "from sentinelhub.config import SHConfig\n",
    "\n",
    "import reverse_geocoder as rg\n",
    "import pycountry\n",
    "import pycountry_convert as pc\n",
    "import hickle as hkl\n",
    "from shapely.geometry import Point, Polygon\n",
    "\n",
    "with open(\"../config.yaml\", 'r') as stream:\n",
    "    key = (yaml.safe_load(stream))\n",
    "    API_KEY = key['key']\n",
    "    SHUB_SECRET = key['shub_secret']\n",
    "    SHUB_KEY = key['shub_id']\n",
    "    AWSKEY = key['awskey']\n",
    "    AWSSECRET = key['awssecret']\n",
    "            \n",
    "shconfig = SHConfig()\n",
    "shconfig.instance_id = API_KEY\n",
    "shconfig.sh_client_id = SHUB_KEY\n",
    "shconfig.sh_client_secret = SHUB_SECRET\n",
    "        \n",
    "%matplotlib inline\n",
    "%run ../src/downloading/utils.py"
   ]
  },
  {
   "cell_type": "code",
   "execution_count": null,
   "metadata": {},
   "outputs": [],
   "source": [
    "time = ('2019-12-15', '2021-01-15')\n",
    "YEAR = 2020\n",
    "IMSIZE = 32\n",
    "\n",
    "starting_days = np.cumsum([0, 31, 28, 31, 30, 31, 30, 31, 31, 30, 31, 30])"
   ]
  },
  {
   "cell_type": "markdown",
   "metadata": {},
   "source": [
    "# Bounding boxes"
   ]
  },
  {
   "cell_type": "code",
   "execution_count": null,
   "metadata": {},
   "outputs": [],
   "source": [
    "def identify_s1_layer(coords: list) -> str:\n",
    "    coords = (coords[1], coords[0])\n",
    "    results = rg.search(coords)\n",
    "    admin1 = (results[-1]['admin1'])\n",
    "    admin2 = results[-1]['admin2']\n",
    "    country = results[-1]['cc']\n",
    "    continent_name = pc.country_alpha2_to_continent_code(country)\n",
    "    print(admin1, admin2, country, continent_name)\n",
    "    if continent_name in ['AF', 'OC', 'EU']:\n",
    "        layer = \"SENT\"\n",
    "    if continent_name in ['SA']:\n",
    "        if coords[0] > -7.11:\n",
    "            layer = \"SENT\"\n",
    "        else:\n",
    "            layer = \"SENT_DESC\"\n",
    "    if continent_name in ['AS']:\n",
    "        if coords[0] > 23.3:\n",
    "            layer = \"SENT\"\n",
    "        else:\n",
    "            layer = \"SENT_DESC\"\n",
    "    if continent_name in ['NA']:\n",
    "        layer = \"SENT_DESC\"\n",
    "    return layer\n",
    "\n",
    "\n",
    "def calc_bbox(plot_id: int, df: pd.DataFrame) -> list:\n",
    "    \"\"\" Calculates the corners of a bounding box from an input\n",
    "        pandas dataframe as output by Collect Earth Online\n",
    "\n",
    "        Parameters:\n",
    "         plot_id (int): plot_id of associated plot\n",
    "         df (pandas.DataFrame): dataframe of associated CEO survey\n",
    "    \n",
    "        Returns:\n",
    "         bounding_box (list): [(min(x), min(y)),\n",
    "                              (max(x), max_y))]\n",
    "    \"\"\"\n",
    "    subs = df[df['PLOT_ID'] == plot_id]\n",
    "    return [(min(subs['LON']), min(subs['LAT'])),\n",
    "            (max(subs['LON']), max(subs['LAT']))]\n",
    "\n",
    "\n",
    "def bounding_box(points: list, expansion: int = 160) -> (tuple, 'CRS'):\n",
    "    \"\"\" Calculates the corners of a bounding box with an\n",
    "        input expansion in meters from a given bounding_box\n",
    "        \n",
    "        Subcalls:\n",
    "         calculate_epsg, convertCoords\n",
    "\n",
    "        Parameters:\n",
    "         points (list): output of calc_bbox\n",
    "         expansion (float): number of meters to expand or shrink the\n",
    "                            points edges to be\n",
    "    \n",
    "        Returns:\n",
    "         bl (tuple): x, y of bottom left corner with edges of expansion meters\n",
    "         tr (tuple): x, y of top right corner with edges of expansion meters\n",
    "    \"\"\"\n",
    "    bl = list(points[0])\n",
    "    tr = list(points[1])\n",
    "    inproj = Proj('epsg:4326')\n",
    "    outproj_code = calculate_epsg(bl)\n",
    "    outproj = Proj('epsg:' + str(outproj_code))\n",
    "    \n",
    "    bl_utm =  transform(inproj, outproj, bl[1], bl[0])\n",
    "    tr_utm =  transform(inproj, outproj, tr[1], tr[0])\n",
    "\n",
    "    distance1 = tr_utm[0] - bl_utm[0]\n",
    "    distance2 = tr_utm[1] - bl_utm[1]\n",
    "    expansion1 = (expansion - distance1)/2\n",
    "    expansion2 = (expansion - distance2)/2\n",
    "    \n",
    "    bl_utm = [bl_utm[0] - expansion1, bl_utm[1] - expansion2]\n",
    "    tr_utm = [tr_utm[0] + expansion1, tr_utm[1] + expansion2]\n",
    "    \n",
    "    zone = str(outproj_code)[3:]\n",
    "    zone = zone[1:] if zone[0] == \"0\" else zone\n",
    "    direction = 'N' if tr[1] >= 0 else 'S'\n",
    "    utm_epsg = \"UTM_\" + zone + direction\n",
    "    return (bl_utm, tr_utm), CRS[utm_epsg]"
   ]
  },
  {
   "cell_type": "markdown",
   "metadata": {},
   "source": [
    "# Data download"
   ]
  },
  {
   "cell_type": "code",
   "execution_count": null,
   "metadata": {},
   "outputs": [],
   "source": [
    "def extract_dates(date_dict: dict, year: int) -> List:\n",
    "    \"\"\" Transforms a SentinelHub date dictionary to a\n",
    "         list of integer calendar dates\n",
    "    \"\"\"\n",
    "    dates = []\n",
    "    days_per_month = [0, 31, 28, 31, 30, 31, 30, 31, 31, 30, 31, 30]\n",
    "    starting_days = np.cumsum(days_per_month)\n",
    "    for date in date_dict:\n",
    "        if date.year == year - 1:\n",
    "            dates.append(-365 + starting_days[(date.month-1)] + date.day)\n",
    "        if date.year == year:\n",
    "            dates.append(starting_days[(date.month-1)] + date.day)\n",
    "        if date.year == year + 1:\n",
    "            dates.append(365 + starting_days[(date.month-1)]+date.day)\n",
    "    return dates\n",
    "\n",
    "\n",
    "def identify_dates_to_download(dates: list) -> list:\n",
    "    \"\"\" Identify the S1 dates to download\"\"\"\n",
    "    days_per_month = [0, 31, 28, 31, 30, 31, 30, 31, 31, 30, 31, 30]\n",
    "    days_per_month = np.array(days_per_month)\n",
    "    #days_per_month = np.reshape(days_per_month, (4, 3))\n",
    "    #days_per_month = np.sum(days_per_month, axis = 1)\n",
    "\n",
    "    starting_days = np.cumsum(days_per_month)\n",
    "\n",
    "    dates = np.array(dates)\n",
    "    dates_to_download = []\n",
    "    for i in starting_days:\n",
    "        s1_month = dates[dates > i]\n",
    "        s1_month = s1_month[s1_month < (i + 30)]\n",
    "        if len(s1_month) > 0:\n",
    "            dates_to_download.append(s1_month[0])\n",
    "    return dates_to_download\n",
    "\n",
    "\n",
    "def download_sentinel_1(bbox, epsg, time = time, \n",
    "                        layer = \"SENT\", year = 2020, \n",
    "                        image_format = MimeType.TIFF, \n",
    "                        data = DataSource.SENTINEL1_IW_ASC):\n",
    "    \"\"\" Downloads all 10 and 20 meter L2A bands from sentinel-hub\n",
    "        for input bbox and epsg, within time range\n",
    "        \n",
    "        Parameters:\n",
    "         bbox (list): output of calc_bbox\n",
    "         epsg (float): UTM EPSG associated with bbox \n",
    "         time (tuple): YY-MM-DD - YY-MM-DD bounds for downloading \n",
    "    \n",
    "        Returns:\n",
    "         s1 (arr): (Time, X, Y, 2) array of sentinel 1 data\n",
    "         image_dates (list): number of days since time[0] for each\n",
    "                              image in s1.shape[0]\n",
    "    \"\"\"\n",
    "    try:\n",
    "        print(f\"The data is {data}\")\n",
    "        box = BBox(bbox, crs = epsg)\n",
    "        image_request = WcsRequest(\n",
    "                layer=layer,\n",
    "                bbox=box,\n",
    "                time=time,\n",
    "                image_format = image_format,\n",
    "                data_source= data,\n",
    "                maxcc=1.0,\n",
    "                resx='20m', resy='20m',\n",
    "                config=shconfig,\n",
    "                custom_url_params = {constants.CustomUrlParam.DOWNSAMPLING: 'NEAREST',\n",
    "                                    constants.CustomUrlParam.UPSAMPLING: 'NEAREST'},\n",
    "                time_difference=datetime.timedelta(hours=72),\n",
    "            )\n",
    "        \n",
    "        \n",
    "        s1_dates_dict = [x for x in image_request.get_dates()]\n",
    "        s1_dates = extract_dates(s1_dates_dict, year)\n",
    "        dates_to_download = identify_dates_to_download(s1_dates)\n",
    "        \n",
    "        steps_to_download = [i for i, val in enumerate(s1_dates) if val in dates_to_download]\n",
    "        print(f\"The following steps will be downloaded: {steps_to_download}, for {dates_to_download}\")\n",
    "        \n",
    "        \n",
    "        data_filter = steps_to_download\n",
    "        if len(image_request.download_list) <= 3 or len(steps_to_download) <= 3:\n",
    "            return np.empty((0,)), np.empty((0,))\n",
    "        s1 = image_request.get_data(data_filter = data_filter)\n",
    "        s1 = np.stack(s1)\n",
    "        s1 = to_float32(s1)\n",
    "        \n",
    "        assert np.max(s1) <= 1.\n",
    "        assert s1.shape[1] == 16.\n",
    "        assert s1.shape[2] == 16.\n",
    "        \n",
    "        print(f\"Sentinel 1 used {(2/3)*s1.shape[0] * (s1.shape[1]*s1.shape[2])/(512*512)} PU for\"\n",
    "              f\" {s1.shape[0]} out of {len(image_request.download_list)} images\")\n",
    "        \n",
    "        original = s1.shape\n",
    "        #s1 = s1.repeat(3, axis = 0)\n",
    "        # Store it with nearest upsample, but this will be converted to bilinear at train time\n",
    "        s1 = resize(s1, (s1.shape[0], 32, 32, 2), 0)\n",
    "        new = s1.shape\n",
    "        print(f\"{original} -> {new}\")\n",
    "        \n",
    "        image_dates = []\n",
    "        for date in image_request.get_dates():\n",
    "            if date.year == year - 1:\n",
    "                image_dates.append(-365 + starting_days[(date.month-1)] + date.day)\n",
    "            if date.year == year:\n",
    "                image_dates.append(starting_days[(date.month-1)] + date.day)\n",
    "            if date.year == year + 1:\n",
    "                image_dates.append(365 + starting_days[(date.month-1)]+date.day)\n",
    "        image_dates = [val for idx, val in enumerate(image_dates) if idx in data_filter]\n",
    "        image_dates = np.array(image_dates)\n",
    "        \n",
    "        s1c = np.copy(s1)\n",
    "        s1c[np.where(s1c < 1.)] = 0\n",
    "        n_pix_oob = np.sum(s1c, axis = (1, 2, 3))\n",
    "        to_remove = np.argwhere(n_pix_oob > (32*32*2)/10)\n",
    "        if len(to_remove) > 0:\n",
    "            print(f'A total of {len(to_remove)} steps of {s1.shape[0]} were removed.')\n",
    "            s1 = np.delete(s1, to_remove, 0)\n",
    "            image_dates = np.delete(image_dates, to_remove)\n",
    "\n",
    "        return s1, image_dates\n",
    "\n",
    "    except Exception as e:\n",
    "        logging.fatal(e, exc_info=True)"
   ]
  },
  {
   "cell_type": "markdown",
   "metadata": {},
   "source": [
    "# Download function"
   ]
  },
  {
   "cell_type": "code",
<<<<<<< HEAD
   "execution_count": null,
   "metadata": {},
=======
   "execution_count": 5,
   "metadata": {
    "scrolled": true
   },
>>>>>>> 00e127d (adds download_job_fast, and cirrus cloud removal)
   "outputs": [],
   "source": [
    "def download_plots(data_location: str, output_folder: str, image_format = MimeType.TIFF) -> None:\n",
    "    \"\"\" Downloads sentinel-1 data for the plot IDs associated\n",
    "        with an input CSV from a collect earth online survey\n",
    "        \n",
    "        Parameters:\n",
    "         data_location (os.path)\n",
    "         output_folder (os.path)\n",
    "        \n",
    "        Subcalls:\n",
    "         calc_bbox, bounding_box\n",
    "         download_sentinel_1,\n",
    "         calculate_and_save_best_images\n",
    "         \n",
    "        Creates:\n",
    "         output_folder/{plot_id}.npy\n",
    "    \n",
    "        Returns:\n",
    "         None\n",
    "    \"\"\"\n",
    "    df = pd.read_csv(data_location, encoding = \"ISO-8859-1\")\n",
    "    df.columns = [x.upper() for x in df.columns]\n",
    "    for column in ['IMAGERY_TITLE', 'STACKINGPROFILEDG', 'PL_PLOTID', 'IMAGERYYEARDG',\n",
    "                  'IMAGERYMONTHPLANET', 'IMAGERYYEARPLANET', 'IMAGERYDATESECUREWATCH',\n",
    "                  'IMAGERYENDDATESECUREWATCH', 'IMAGERYFEATUREPROFILESECUREWATCH',\n",
    "                  'IMAGERYSTARTDATESECUREWATCH',\n",
    "                  'IMAGERY_ATTRIBUTIONS',\n",
    "                  'SAMPLE_GEOM']:\n",
    "        if column in df.columns:\n",
    "            df = df.drop(column, axis = 1)\n",
    "    df = df.dropna(axis = 0)\n",
    "    plot_ids = sorted(df['PLOT_ID'].unique())\n",
    "    existing = [int(x[:-4]) for x in os.listdir(output_folder) if \".DS\" not in x]\n",
    "\n",
    "    to_download = [x for x in plot_ids if x not in existing]\n",
    "    print(f\"Starting download of {len(to_download)}\"\n",
    "          f\" plots from {data_location} to {output_folder}\")\n",
    "    errors = []\n",
    "    for i, val in enumerate(to_download):\n",
    "        print(f\"Downloading {i+1}/{len(to_download)}, {val}\")\n",
    "        location_wgs = calc_bbox(val, df = df)\n",
    "        print(location_wgs)\n",
    "        location, epsg = bounding_box(location_wgs, expansion = IMSIZE*10)\n",
    "        try:\n",
    "            # Identify cloud steps, download DEM, and download L2A series\n",
    "            s1_layer = identify_s1_layer(location_wgs[0])\n",
    "            data_source = DataSource.SENTINEL1_IW_DES if s1_layer == \"SENT_DESC\" else DataSource.SENTINEL1_IW_ASC\n",
    "            s1, s1_dates = download_sentinel_1(location, \n",
    "                                               layer = s1_layer, \n",
    "                                               epsg = epsg,\n",
    "                                               data = data_source)\n",
    "            if s1.shape[0] < 2:\n",
    "                s1_layer = \"SENT_DESC\" if s1_layer == \"SENT\" else \"SENT\"\n",
    "                data_source = DataSource.SENTINEL1_IW_DES if s1_layer == \"SENT_DESC\" else DataSource.SENTINEL1_IW_ASC\n",
    "                print(f'Switching to {s1_layer}')\n",
    "                s1, s1_dates = download_sentinel_1(location, \n",
    "                                                   layer = s1_layer,\n",
    "                                                   epsg = epsg,\n",
    "                                                   data = data_source)\n",
    "            \n",
    "            s1_a = np.copy(s1)\n",
    "            print(s1.shape, len(s1_dates))\n",
    "            s1, max_distance = calculate_and_save_best_images(s1, s1_dates)\n",
    "            print(s1.shape)\n",
    "\n",
    "            s1_b = np.copy(s1)\n",
    "            # Retain only iamgery every month\n",
    "            monthly = np.empty((12, IMSIZE, IMSIZE, 2))\n",
    "            index = 0\n",
    "            for start, end in zip(range(0, 24 + 2, 24 // 12), #0, 72, 6\n",
    "                                  range(24 // 12, 24 + 2, 24 // 12)): # 6, 72, 6\n",
    "                monthly[index] = np.median(s1[start:end], axis = 0)\n",
    "                index += 1\n",
    "\n",
    "            s1 = monthly\n",
    "            s1_c = np.copy(s1)\n",
    "            print(s1.shape)\n",
    "            \n",
    "            assert s1.shape[1] == IMSIZE\n",
    "            assert s1.shape[2] == IMSIZE\n",
    "            if max_distance < 200:\n",
    "                hkl.dump(s1, output_folder + str(val) + \".hkl\", mode='w', compression='gzip')\n",
    "                print('\\n')\n",
    "            else:\n",
    "                print(f\"Skipping {val} because max distance is {max_distance}\")\n",
    "            \n",
    "        except Exception as e:\n",
    "            print(e)\n",
    "            logging.fatal(e, exc_info=True)\n",
    "            errors.append(i)"
   ]
  },
  {
   "cell_type": "code",
   "execution_count": null,
   "metadata": {},
   "outputs": [
    {
     "name": "stdout",
     "output_type": "stream",
     "text": [
      "ceo-chaco-eucalyptus-30.csv\n",
      "Starting download of 60 plots from ../data/train-csv/ceo-chaco-eucalyptus-30.csv to ../data/train-s1/\n",
      "Downloading 1/60, 30001\n",
      "[(-40.04642630493476, -18.46293865148583), (-40.04525849506524, -18.46183094672672)]\n",
      "Loading formatted geocoded file...\n",
      "Espirito Santo Boa Esperanca BR SA\n",
      "The data is DataCollection.SENTINEL1_IW_DES\n",
      "The following steps will be downloaded: [1, 4, 6, 9, 11, 14, 16, 19, 21, 24, 26, 29], for [7, 43, 66, 102, 126, 162, 186, 222, 246, 282, 306, 354]\n",
      "The original max value is 34014\n",
      "Sentinel 1 used 0.0078125 PU for 12 out of 32 images\n",
      "(12, 16, 16, 2) -> (12, 32, 32, 2)\n",
      "(12, 32, 32, 2) 12\n",
      "(24, 32, 32, 2)\n",
      "(12, 32, 32, 2)\n",
      "\n",
      "\n",
      "Downloading 2/60, 30002\n",
      "[(-40.044506144934765, -18.466707849320017), (-40.04333833506524, -18.46560016889224)]\n"
     ]
    },
    {
     "name": "stderr",
     "output_type": "stream",
     "text": [
      "/Users/jbrandt.terminal/Documents/GitHub/sentinel-tree-cover/src/downloading/utils.py:253: FutureWarning: Using a non-tuple sequence for multidimensional indexing is deprecated; use `arr[tuple(seq)]` instead of `arr[seq]`. In the future this will be interpreted as an array index, `arr[np.array(seq)]`, which will result either in an error or a different result.\n",
      "  step = np.median(img_bands[info['image_idx']], axis = 0)\n"
     ]
    },
    {
     "name": "stdout",
     "output_type": "stream",
     "text": [
      "Espirito Santo Boa Esperanca BR SA\n",
      "The data is DataCollection.SENTINEL1_IW_DES\n",
      "The following steps will be downloaded: [1, 4, 6, 9, 11, 14, 16, 19, 21, 24, 26, 29], for [7, 43, 66, 102, 126, 162, 186, 222, 246, 282, 306, 354]\n",
      "The original max value is 33786\n",
      "Sentinel 1 used 0.0078125 PU for 12 out of 32 images\n",
      "(12, 16, 16, 2) -> (12, 32, 32, 2)\n",
      "(12, 32, 32, 2) 12\n",
      "(24, 32, 32, 2)\n",
      "(12, 32, 32, 2)\n",
      "\n",
      "\n",
      "Downloading 3/60, 30003\n",
      "[(-40.04692413493476, -18.40611614460116), (-40.04575632506524, -18.40500807361612)]\n"
     ]
    },
    {
     "name": "stderr",
     "output_type": "stream",
     "text": [
      "/Users/jbrandt.terminal/Documents/GitHub/sentinel-tree-cover/src/downloading/utils.py:253: FutureWarning: Using a non-tuple sequence for multidimensional indexing is deprecated; use `arr[tuple(seq)]` instead of `arr[seq]`. In the future this will be interpreted as an array index, `arr[np.array(seq)]`, which will result either in an error or a different result.\n",
      "  step = np.median(img_bands[info['image_idx']], axis = 0)\n"
     ]
    },
    {
     "name": "stdout",
     "output_type": "stream",
     "text": [
      "Espirito Santo Boa Esperanca BR SA\n",
      "The data is DataCollection.SENTINEL1_IW_DES\n",
      "The following steps will be downloaded: [1, 4, 6, 9, 11, 14, 16, 19, 21, 24, 26, 29], for [7, 43, 66, 102, 126, 162, 186, 222, 246, 282, 306, 354]\n",
      "The original max value is 48187\n",
      "Sentinel 1 used 0.0078125 PU for 12 out of 32 images\n",
      "(12, 16, 16, 2) -> (12, 32, 32, 2)\n",
      "(12, 32, 32, 2) 12\n",
      "(24, 32, 32, 2)\n",
      "(12, 32, 32, 2)\n",
      "\n",
      "\n",
      "Downloading 4/60, 30004\n",
      "[(-40.03938570493476, -18.40661396299928), (-40.038217895065245, -18.40550589521797)]\n"
     ]
    },
    {
     "name": "stderr",
     "output_type": "stream",
     "text": [
      "/Users/jbrandt.terminal/Documents/GitHub/sentinel-tree-cover/src/downloading/utils.py:253: FutureWarning: Using a non-tuple sequence for multidimensional indexing is deprecated; use `arr[tuple(seq)]` instead of `arr[seq]`. In the future this will be interpreted as an array index, `arr[np.array(seq)]`, which will result either in an error or a different result.\n",
      "  step = np.median(img_bands[info['image_idx']], axis = 0)\n"
     ]
    },
    {
     "name": "stdout",
     "output_type": "stream",
     "text": [
      "Espirito Santo Boa Esperanca BR SA\n",
      "The data is DataCollection.SENTINEL1_IW_DES\n",
      "The following steps will be downloaded: [1, 4, 6, 9, 11, 14, 16, 19, 21, 24, 26, 29], for [7, 43, 66, 102, 126, 162, 186, 222, 246, 282, 306, 354]\n",
      "The original max value is 37315\n",
      "Sentinel 1 used 0.0078125 PU for 12 out of 32 images\n",
      "(12, 16, 16, 2) -> (12, 32, 32, 2)\n",
      "(12, 32, 32, 2) 12\n",
      "(24, 32, 32, 2)\n",
      "(12, 32, 32, 2)\n",
      "\n",
      "\n",
      "Downloading 5/60, 30005\n",
      "[(-40.03490531493476, -18.35377402279589), (-40.03373750506524, -18.352665615425707)]\n"
     ]
    },
    {
     "name": "stderr",
     "output_type": "stream",
     "text": [
      "/Users/jbrandt.terminal/Documents/GitHub/sentinel-tree-cover/src/downloading/utils.py:253: FutureWarning: Using a non-tuple sequence for multidimensional indexing is deprecated; use `arr[tuple(seq)]` instead of `arr[seq]`. In the future this will be interpreted as an array index, `arr[np.array(seq)]`, which will result either in an error or a different result.\n",
      "  step = np.median(img_bands[info['image_idx']], axis = 0)\n"
     ]
    },
    {
     "name": "stdout",
     "output_type": "stream",
     "text": [
      "Espirito Santo Boa Esperanca BR SA\n",
      "The data is DataCollection.SENTINEL1_IW_DES\n",
      "The following steps will be downloaded: [1, 4, 6, 9, 11, 14, 16, 19, 21, 24, 26, 29], for [7, 43, 66, 102, 126, 162, 186, 222, 246, 282, 306, 354]\n",
      "The original max value is 45574\n",
      "Sentinel 1 used 0.0078125 PU for 12 out of 32 images\n",
      "(12, 16, 16, 2) -> (12, 32, 32, 2)\n",
      "(12, 32, 32, 2) 12\n",
      "(24, 32, 32, 2)\n",
      "(12, 32, 32, 2)\n",
      "\n",
      "\n",
      "Downloading 6/60, 30006\n",
      "[(-40.04116363493476, -18.355267478003285), (-40.03999582506524, -18.35415908021821)]\n"
     ]
    },
    {
     "name": "stderr",
     "output_type": "stream",
     "text": [
      "/Users/jbrandt.terminal/Documents/GitHub/sentinel-tree-cover/src/downloading/utils.py:253: FutureWarning: Using a non-tuple sequence for multidimensional indexing is deprecated; use `arr[tuple(seq)]` instead of `arr[seq]`. In the future this will be interpreted as an array index, `arr[np.array(seq)]`, which will result either in an error or a different result.\n",
      "  step = np.median(img_bands[info['image_idx']], axis = 0)\n"
     ]
    },
    {
     "name": "stdout",
     "output_type": "stream",
     "text": [
      "Espirito Santo Boa Esperanca BR SA\n",
      "The data is DataCollection.SENTINEL1_IW_DES\n",
      "The following steps will be downloaded: [1, 4, 6, 9, 11, 14, 16, 19, 21, 24, 26, 29], for [7, 43, 66, 102, 126, 162, 186, 222, 246, 282, 306, 354]\n",
      "The original max value is 39777\n",
      "Sentinel 1 used 0.0078125 PU for 12 out of 32 images\n",
      "(12, 16, 16, 2) -> (12, 32, 32, 2)\n",
      "(12, 32, 32, 2) 12\n",
      "(24, 32, 32, 2)\n",
      "(12, 32, 32, 2)\n",
      "\n",
      "\n",
      "Downloading 7/60, 30007\n"
     ]
    },
    {
     "name": "stderr",
     "output_type": "stream",
     "text": [
      "/Users/jbrandt.terminal/Documents/GitHub/sentinel-tree-cover/src/downloading/utils.py:253: FutureWarning: Using a non-tuple sequence for multidimensional indexing is deprecated; use `arr[tuple(seq)]` instead of `arr[seq]`. In the future this will be interpreted as an array index, `arr[np.array(seq)]`, which will result either in an error or a different result.\n",
      "  step = np.median(img_bands[info['image_idx']], axis = 0)\n"
     ]
    },
    {
     "name": "stdout",
     "output_type": "stream",
     "text": [
      "[(-40.02554444493476, -18.48967553513548), (-40.024376635065245, -18.488568003074832)]\n",
      "Espirito Santo Boa Esperanca BR SA\n",
      "The data is DataCollection.SENTINEL1_IW_DES\n",
      "The following steps will be downloaded: [1, 4, 6, 9, 11, 14, 16, 19, 21, 24, 26, 29], for [7, 43, 66, 102, 126, 162, 186, 222, 246, 282, 306, 354]\n",
      "The original max value is 41296\n",
      "Sentinel 1 used 0.0078125 PU for 12 out of 32 images\n",
      "(12, 16, 16, 2) -> (12, 32, 32, 2)\n",
      "(12, 32, 32, 2) 12\n",
      "(24, 32, 32, 2)\n",
      "(12, 32, 32, 2)\n"
     ]
    },
    {
     "name": "stderr",
     "output_type": "stream",
     "text": [
      "/Users/jbrandt.terminal/Documents/GitHub/sentinel-tree-cover/src/downloading/utils.py:253: FutureWarning: Using a non-tuple sequence for multidimensional indexing is deprecated; use `arr[tuple(seq)]` instead of `arr[seq]`. In the future this will be interpreted as an array index, `arr[np.array(seq)]`, which will result either in an error or a different result.\n",
      "  step = np.median(img_bands[info['image_idx']], axis = 0)\n"
     ]
    },
    {
     "name": "stdout",
     "output_type": "stream",
     "text": [
      "\n",
      "\n",
      "Downloading 8/60, 30008\n",
      "[(-40.02377429493476, -18.49029255314132), (-40.022606485065246, -18.489185025068963)]\n",
      "Espirito Santo Boa Esperanca BR SA\n",
      "The data is DataCollection.SENTINEL1_IW_DES\n",
      "The following steps will be downloaded: [1, 4, 6, 9, 11, 14, 16, 19, 21, 24, 26, 29], for [7, 43, 66, 102, 126, 162, 186, 222, 246, 282, 306, 354]\n",
      "The original max value is 41149\n",
      "Sentinel 1 used 0.0078125 PU for 12 out of 32 images\n",
      "(12, 16, 16, 2) -> (12, 32, 32, 2)\n",
      "(12, 32, 32, 2) 12\n",
      "(24, 32, 32, 2)\n",
      "(12, 32, 32, 2)\n",
      "\n",
      "\n",
      "Downloading 9/60, 30009\n",
      "[(-40.01952668493477, -18.49178517831696), (-40.018358875065246, -18.49067765989315)]\n"
     ]
    },
    {
     "name": "stderr",
     "output_type": "stream",
     "text": [
      "/Users/jbrandt.terminal/Documents/GitHub/sentinel-tree-cover/src/downloading/utils.py:253: FutureWarning: Using a non-tuple sequence for multidimensional indexing is deprecated; use `arr[tuple(seq)]` instead of `arr[seq]`. In the future this will be interpreted as an array index, `arr[np.array(seq)]`, which will result either in an error or a different result.\n",
      "  step = np.median(img_bands[info['image_idx']], axis = 0)\n"
     ]
    },
    {
     "name": "stdout",
     "output_type": "stream",
     "text": [
      "Espirito Santo Sao Mateus BR SA\n",
      "The data is DataCollection.SENTINEL1_IW_DES\n",
      "The following steps will be downloaded: [1, 4, 6, 9, 11, 14, 16, 19, 21, 24, 26, 29], for [7, 43, 66, 102, 126, 162, 186, 222, 246, 282, 306, 354]\n",
      "The original max value is 33095\n",
      "Sentinel 1 used 0.0078125 PU for 12 out of 32 images\n",
      "(12, 16, 16, 2) -> (12, 32, 32, 2)\n",
      "(12, 32, 32, 2) 12\n",
      "(24, 32, 32, 2)\n",
      "(12, 32, 32, 2)\n"
     ]
    },
    {
     "name": "stderr",
     "output_type": "stream",
     "text": [
      "/Users/jbrandt.terminal/Documents/GitHub/sentinel-tree-cover/src/downloading/utils.py:253: FutureWarning: Using a non-tuple sequence for multidimensional indexing is deprecated; use `arr[tuple(seq)]` instead of `arr[seq]`. In the future this will be interpreted as an array index, `arr[np.array(seq)]`, which will result either in an error or a different result.\n",
      "  step = np.median(img_bands[info['image_idx']], axis = 0)\n"
     ]
    },
    {
     "name": "stdout",
     "output_type": "stream",
     "text": [
      "\n",
      "\n",
      "Downloading 10/60, 300010\n",
      "[(-40.04828583493476, -18.440192074854), (-40.04711802506524, -18.439084223360453)]\n",
      "Espirito Santo Boa Esperanca BR SA\n",
      "The data is DataCollection.SENTINEL1_IW_DES\n",
      "The following steps will be downloaded: [1, 4, 6, 9, 11, 14, 16, 19, 21, 24, 26, 29], for [7, 43, 66, 102, 126, 162, 186, 222, 246, 282, 306, 354]\n",
      "The original max value is 65535\n",
      "Sentinel 1 used 0.0078125 PU for 12 out of 32 images\n",
      "(12, 16, 16, 2) -> (12, 32, 32, 2)\n",
      "(12, 32, 32, 2) 12\n",
      "(24, 32, 32, 2)\n",
      "(12, 32, 32, 2)\n",
      "\n",
      "\n",
      "Downloading 11/60, 300011\n",
      "[(-40.04573021493476, -18.440399294186008), (-40.04456240506524, -18.4392914440284)]\n"
     ]
    },
    {
     "name": "stderr",
     "output_type": "stream",
     "text": [
      "/Users/jbrandt.terminal/Documents/GitHub/sentinel-tree-cover/src/downloading/utils.py:253: FutureWarning: Using a non-tuple sequence for multidimensional indexing is deprecated; use `arr[tuple(seq)]` instead of `arr[seq]`. In the future this will be interpreted as an array index, `arr[np.array(seq)]`, which will result either in an error or a different result.\n",
      "  step = np.median(img_bands[info['image_idx']], axis = 0)\n"
     ]
    },
    {
     "name": "stdout",
     "output_type": "stream",
     "text": [
      "Espirito Santo Boa Esperanca BR SA\n",
      "The data is DataCollection.SENTINEL1_IW_DES\n",
      "The following steps will be downloaded: [1, 4, 6, 9, 11, 14, 16, 19, 21, 24, 26, 29], for [7, 43, 66, 102, 126, 162, 186, 222, 246, 282, 306, 354]\n",
      "The original max value is 49098\n",
      "Sentinel 1 used 0.0078125 PU for 12 out of 32 images\n",
      "(12, 16, 16, 2) -> (12, 32, 32, 2)\n",
      "(12, 32, 32, 2) 12\n",
      "(24, 32, 32, 2)\n",
      "(12, 32, 32, 2)\n",
      "\n",
      "\n",
      "Downloading 12/60, 300012\n",
      "[(-40.042069454934754, -18.442954905947232), (-40.04090164506524, -18.44184707226696)]\n"
     ]
    },
    {
     "name": "stderr",
     "output_type": "stream",
     "text": [
      "/Users/jbrandt.terminal/Documents/GitHub/sentinel-tree-cover/src/downloading/utils.py:253: FutureWarning: Using a non-tuple sequence for multidimensional indexing is deprecated; use `arr[tuple(seq)]` instead of `arr[seq]`. In the future this will be interpreted as an array index, `arr[np.array(seq)]`, which will result either in an error or a different result.\n",
      "  step = np.median(img_bands[info['image_idx']], axis = 0)\n"
     ]
    },
    {
     "name": "stdout",
     "output_type": "stream",
     "text": [
      "Espirito Santo Boa Esperanca BR SA\n",
      "The data is DataCollection.SENTINEL1_IW_DES\n",
      "The following steps will be downloaded: [1, 4, 6, 9, 11, 14, 16, 19, 21, 24, 26, 29], for [7, 43, 66, 102, 126, 162, 186, 222, 246, 282, 306, 354]\n",
      "The original max value is 37890\n",
      "Sentinel 1 used 0.0078125 PU for 12 out of 32 images\n",
      "(12, 16, 16, 2) -> (12, 32, 32, 2)\n",
      "(12, 32, 32, 2) 12\n",
      "(24, 32, 32, 2)\n",
      "(12, 32, 32, 2)\n",
      "\n",
      "\n",
      "Downloading 13/60, 300013\n",
      "[(-40.03902234493476, -18.42203147336761), (-40.03785453506524, -18.420923504848343)]\n"
     ]
    },
    {
     "name": "stderr",
     "output_type": "stream",
     "text": [
      "/Users/jbrandt.terminal/Documents/GitHub/sentinel-tree-cover/src/downloading/utils.py:253: FutureWarning: Using a non-tuple sequence for multidimensional indexing is deprecated; use `arr[tuple(seq)]` instead of `arr[seq]`. In the future this will be interpreted as an array index, `arr[np.array(seq)]`, which will result either in an error or a different result.\n",
      "  step = np.median(img_bands[info['image_idx']], axis = 0)\n"
     ]
    },
    {
     "name": "stdout",
     "output_type": "stream",
     "text": [
      "Espirito Santo Boa Esperanca BR SA\n",
      "The data is DataCollection.SENTINEL1_IW_DES\n",
      "The following steps will be downloaded: [1, 4, 6, 9, 11, 14, 16, 19, 21, 24, 26, 29], for [7, 43, 66, 102, 126, 162, 186, 222, 246, 282, 306, 354]\n",
      "The original max value is 37845\n",
      "Sentinel 1 used 0.0078125 PU for 12 out of 32 images\n",
      "(12, 16, 16, 2) -> (12, 32, 32, 2)\n",
      "(12, 32, 32, 2) 12\n",
      "(24, 32, 32, 2)\n",
      "(12, 32, 32, 2)\n",
      "\n",
      "\n",
      "Downloading 14/60, 300014\n",
      "[(-40.03560550493476, -18.363061632985108), (-40.03443769506524, -18.361953285235742)]\n"
     ]
    },
    {
     "name": "stderr",
     "output_type": "stream",
     "text": [
      "/Users/jbrandt.terminal/Documents/GitHub/sentinel-tree-cover/src/downloading/utils.py:253: FutureWarning: Using a non-tuple sequence for multidimensional indexing is deprecated; use `arr[tuple(seq)]` instead of `arr[seq]`. In the future this will be interpreted as an array index, `arr[np.array(seq)]`, which will result either in an error or a different result.\n",
      "  step = np.median(img_bands[info['image_idx']], axis = 0)\n"
     ]
    },
    {
     "name": "stdout",
     "output_type": "stream",
     "text": [
      "Espirito Santo Boa Esperanca BR SA\n",
      "The data is DataCollection.SENTINEL1_IW_DES\n",
      "The following steps will be downloaded: [1, 4, 6, 9, 11, 14, 16, 19, 21, 24, 26, 29], for [7, 43, 66, 102, 126, 162, 186, 222, 246, 282, 306, 354]\n",
      "The original max value is 39751\n",
      "Sentinel 1 used 0.0078125 PU for 12 out of 32 images\n",
      "(12, 16, 16, 2) -> (12, 32, 32, 2)\n",
      "(12, 32, 32, 2) 12\n",
      "(24, 32, 32, 2)\n",
      "(12, 32, 32, 2)\n",
      "\n",
      "\n",
      "Downloading 15/60, 300015\n",
      "[(-40.03354166493476, -18.36212957597739), (-40.032373855065245, -18.36102122224349)]\n"
     ]
    },
    {
     "name": "stderr",
     "output_type": "stream",
     "text": [
      "/Users/jbrandt.terminal/Documents/GitHub/sentinel-tree-cover/src/downloading/utils.py:253: FutureWarning: Using a non-tuple sequence for multidimensional indexing is deprecated; use `arr[tuple(seq)]` instead of `arr[seq]`. In the future this will be interpreted as an array index, `arr[np.array(seq)]`, which will result either in an error or a different result.\n",
      "  step = np.median(img_bands[info['image_idx']], axis = 0)\n"
     ]
    },
    {
     "name": "stdout",
     "output_type": "stream",
     "text": [
      "Espirito Santo Boa Esperanca BR SA\n",
      "The data is DataCollection.SENTINEL1_IW_DES\n",
      "The following steps will be downloaded: [1, 4, 6, 9, 11, 14, 16, 19, 21, 24, 26, 29], for [7, 43, 66, 102, 126, 162, 186, 222, 246, 282, 306, 354]\n",
      "The original max value is 29022\n",
      "Sentinel 1 used 0.0078125 PU for 12 out of 32 images\n",
      "(12, 16, 16, 2) -> (12, 32, 32, 2)\n",
      "(12, 32, 32, 2) 12\n",
      "(24, 32, 32, 2)\n",
      "(12, 32, 32, 2)\n",
      "\n",
      "\n",
      "Downloading 16/60, 300016\n",
      "[(-40.033341934934754, -18.36475930753444), (-40.03217412506524, -18.36365097068628)]\n"
     ]
    },
    {
     "name": "stderr",
     "output_type": "stream",
     "text": [
      "/Users/jbrandt.terminal/Documents/GitHub/sentinel-tree-cover/src/downloading/utils.py:253: FutureWarning: Using a non-tuple sequence for multidimensional indexing is deprecated; use `arr[tuple(seq)]` instead of `arr[seq]`. In the future this will be interpreted as an array index, `arr[np.array(seq)]`, which will result either in an error or a different result.\n",
      "  step = np.median(img_bands[info['image_idx']], axis = 0)\n"
     ]
    },
    {
     "name": "stdout",
     "output_type": "stream",
     "text": [
      "Espirito Santo Boa Esperanca BR SA\n",
      "The data is DataCollection.SENTINEL1_IW_DES\n",
      "The following steps will be downloaded: [1, 4, 6, 9, 11, 14, 16, 19, 21, 24, 26, 29], for [7, 43, 66, 102, 126, 162, 186, 222, 246, 282, 306, 354]\n",
      "The original max value is 30211\n",
      "Sentinel 1 used 0.0078125 PU for 12 out of 32 images\n",
      "(12, 16, 16, 2) -> (12, 32, 32, 2)\n",
      "(12, 32, 32, 2) 12\n",
      "(24, 32, 32, 2)\n",
      "(12, 32, 32, 2)\n",
      "\n",
      "\n",
      "Downloading 17/60, 300017\n",
      "[(-40.03127808493476, -18.36542506539677), (-40.03011027506524, -18.364316732823863)]\n"
     ]
    },
    {
     "name": "stderr",
     "output_type": "stream",
     "text": [
      "/Users/jbrandt.terminal/Documents/GitHub/sentinel-tree-cover/src/downloading/utils.py:253: FutureWarning: Using a non-tuple sequence for multidimensional indexing is deprecated; use `arr[tuple(seq)]` instead of `arr[seq]`. In the future this will be interpreted as an array index, `arr[np.array(seq)]`, which will result either in an error or a different result.\n",
      "  step = np.median(img_bands[info['image_idx']], axis = 0)\n"
     ]
    },
    {
     "name": "stdout",
     "output_type": "stream",
     "text": [
      "Espirito Santo Boa Esperanca BR SA\n",
      "The data is DataCollection.SENTINEL1_IW_DES\n",
      "The following steps will be downloaded: [1, 4, 6, 9, 11, 14, 16, 19, 21, 24, 26, 29], for [7, 43, 66, 102, 126, 162, 186, 222, 246, 282, 306, 354]\n",
      "The original max value is 30069\n",
      "Sentinel 1 used 0.0078125 PU for 12 out of 32 images\n",
      "(12, 16, 16, 2) -> (12, 32, 32, 2)\n",
      "(12, 32, 32, 2) 12\n",
      "(24, 32, 32, 2)\n",
      "(12, 32, 32, 2)\n",
      "\n",
      "\n",
      "Downloading 18/60, 300018\n",
      "[(-40.04965297493476, -18.36752218866269), (-40.04848516506524, -18.36641386955776)]\n"
     ]
    },
    {
     "name": "stderr",
     "output_type": "stream",
     "text": [
      "/Users/jbrandt.terminal/Documents/GitHub/sentinel-tree-cover/src/downloading/utils.py:253: FutureWarning: Using a non-tuple sequence for multidimensional indexing is deprecated; use `arr[tuple(seq)]` instead of `arr[seq]`. In the future this will be interpreted as an array index, `arr[np.array(seq)]`, which will result either in an error or a different result.\n",
      "  step = np.median(img_bands[info['image_idx']], axis = 0)\n"
     ]
    },
    {
     "name": "stdout",
     "output_type": "stream",
     "text": [
      "Espirito Santo Boa Esperanca BR SA\n",
      "The data is DataCollection.SENTINEL1_IW_DES\n",
      "The following steps will be downloaded: [1, 4, 6, 9, 11, 14, 16, 19, 21, 24, 26, 29], for [7, 43, 66, 102, 126, 162, 186, 222, 246, 282, 306, 354]\n",
      "The original max value is 47998\n",
      "Sentinel 1 used 0.0078125 PU for 12 out of 32 images\n",
      "(12, 16, 16, 2) -> (12, 32, 32, 2)\n",
      "(12, 32, 32, 2) 12\n",
      "(24, 32, 32, 2)\n",
      "(12, 32, 32, 2)\n",
      "\n",
      "\n",
      "Downloading 19/60, 300019\n",
      "[(-40.04252937493476, -18.36921986321076), (-40.04136156506524, -18.368111555009577)]\n"
     ]
    },
    {
     "name": "stderr",
     "output_type": "stream",
     "text": [
      "/Users/jbrandt.terminal/Documents/GitHub/sentinel-tree-cover/src/downloading/utils.py:253: FutureWarning: Using a non-tuple sequence for multidimensional indexing is deprecated; use `arr[tuple(seq)]` instead of `arr[seq]`. In the future this will be interpreted as an array index, `arr[np.array(seq)]`, which will result either in an error or a different result.\n",
      "  step = np.median(img_bands[info['image_idx']], axis = 0)\n"
     ]
    },
    {
     "name": "stdout",
     "output_type": "stream",
     "text": [
      "Espirito Santo Boa Esperanca BR SA\n",
      "The data is DataCollection.SENTINEL1_IW_DES\n",
      "The following steps will be downloaded: [1, 4, 6, 9, 11, 14, 16, 19, 21, 24, 26, 29], for [7, 43, 66, 102, 126, 162, 186, 222, 246, 282, 306, 354]\n",
      "The original max value is 40506\n",
      "Sentinel 1 used 0.0078125 PU for 12 out of 32 images\n",
      "(12, 16, 16, 2) -> (12, 32, 32, 2)\n",
      "(12, 32, 32, 2) 12\n",
      "(24, 32, 32, 2)\n",
      "(12, 32, 32, 2)\n",
      "\n",
      "\n",
      "Downloading 20/60, 300020\n",
      "[(-40.04083169493476, -18.367455608876497), (-40.039663885065245, -18.366347289343977)]\n"
     ]
    },
    {
     "name": "stderr",
     "output_type": "stream",
     "text": [
      "/Users/jbrandt.terminal/Documents/GitHub/sentinel-tree-cover/src/downloading/utils.py:253: FutureWarning: Using a non-tuple sequence for multidimensional indexing is deprecated; use `arr[tuple(seq)]` instead of `arr[seq]`. In the future this will be interpreted as an array index, `arr[np.array(seq)]`, which will result either in an error or a different result.\n",
      "  step = np.median(img_bands[info['image_idx']], axis = 0)\n"
     ]
    },
    {
     "name": "stdout",
     "output_type": "stream",
     "text": [
      "Espirito Santo Boa Esperanca BR SA\n",
      "The data is DataCollection.SENTINEL1_IW_DES\n",
      "The following steps will be downloaded: [1, 4, 6, 9, 11, 14, 16, 19, 21, 24, 26, 29], for [7, 43, 66, 102, 126, 162, 186, 222, 246, 282, 306, 354]\n",
      "The original max value is 36730\n",
      "Sentinel 1 used 0.0078125 PU for 12 out of 32 images\n",
      "(12, 16, 16, 2) -> (12, 32, 32, 2)\n",
      "(12, 32, 32, 2) 12\n",
      "(24, 32, 32, 2)\n",
      "(12, 32, 32, 2)\n",
      "\n",
      "\n",
      "Downloading 21/60, 300021\n",
      "[(-40.03960004493476, -18.365591494862382), (-40.03843223506525, -18.36448316335826)]\n"
     ]
    },
    {
     "name": "stderr",
     "output_type": "stream",
     "text": [
      "/Users/jbrandt.terminal/Documents/GitHub/sentinel-tree-cover/src/downloading/utils.py:253: FutureWarning: Using a non-tuple sequence for multidimensional indexing is deprecated; use `arr[tuple(seq)]` instead of `arr[seq]`. In the future this will be interpreted as an array index, `arr[np.array(seq)]`, which will result either in an error or a different result.\n",
      "  step = np.median(img_bands[info['image_idx']], axis = 0)\n"
     ]
    },
    {
     "name": "stdout",
     "output_type": "stream",
     "text": [
      "Espirito Santo Boa Esperanca BR SA\n",
      "The data is DataCollection.SENTINEL1_IW_DES\n",
      "The following steps will be downloaded: [1, 4, 6, 9, 11, 14, 16, 19, 21, 24, 26, 29], for [7, 43, 66, 102, 126, 162, 186, 222, 246, 282, 306, 354]\n",
      "The original max value is 41038\n",
      "Sentinel 1 used 0.0078125 PU for 12 out of 32 images\n",
      "(12, 16, 16, 2) -> (12, 32, 32, 2)\n",
      "(12, 32, 32, 2) 12\n",
      "(24, 32, 32, 2)\n",
      "(12, 32, 32, 2)\n",
      "\n",
      "\n",
      "Downloading 22/60, 300022\n",
      "[(-40.039034154934754, -18.367988217166115), (-40.03786634506524, -18.36687990105429)]\n"
     ]
    },
    {
     "name": "stderr",
     "output_type": "stream",
     "text": [
      "/Users/jbrandt.terminal/Documents/GitHub/sentinel-tree-cover/src/downloading/utils.py:253: FutureWarning: Using a non-tuple sequence for multidimensional indexing is deprecated; use `arr[tuple(seq)]` instead of `arr[seq]`. In the future this will be interpreted as an array index, `arr[np.array(seq)]`, which will result either in an error or a different result.\n",
      "  step = np.median(img_bands[info['image_idx']], axis = 0)\n"
     ]
    },
    {
     "name": "stdout",
     "output_type": "stream",
     "text": [
      "Espirito Santo Boa Esperanca BR SA\n",
      "The data is DataCollection.SENTINEL1_IW_DES\n",
      "The following steps will be downloaded: [1, 4, 6, 9, 11, 14, 16, 19, 21, 24, 26, 29], for [7, 43, 66, 102, 126, 162, 186, 222, 246, 282, 306, 354]\n",
      "The original max value is 50507\n",
      "Sentinel 1 used 0.0078125 PU for 12 out of 32 images\n",
      "(12, 16, 16, 2) -> (12, 32, 32, 2)\n",
      "(12, 32, 32, 2) 12\n",
      "(24, 32, 32, 2)\n",
      "(12, 32, 32, 2)\n",
      "\n",
      "\n",
      "Downloading 23/60, 300023\n",
      "[(-40.044739514934754, -18.359526584333395), (-40.04357170506524, -18.35841821388773)]\n"
     ]
    },
    {
     "name": "stderr",
     "output_type": "stream",
     "text": [
      "/Users/jbrandt.terminal/Documents/GitHub/sentinel-tree-cover/src/downloading/utils.py:253: FutureWarning: Using a non-tuple sequence for multidimensional indexing is deprecated; use `arr[tuple(seq)]` instead of `arr[seq]`. In the future this will be interpreted as an array index, `arr[np.array(seq)]`, which will result either in an error or a different result.\n",
      "  step = np.median(img_bands[info['image_idx']], axis = 0)\n"
     ]
    },
    {
     "name": "stdout",
     "output_type": "stream",
     "text": [
      "Espirito Santo Boa Esperanca BR SA\n",
      "The data is DataCollection.SENTINEL1_IW_DES\n",
      "The following steps will be downloaded: [1, 4, 6, 9, 11, 14, 16, 19, 21, 24, 26, 29], for [7, 43, 66, 102, 126, 162, 186, 222, 246, 282, 306, 354]\n",
      "The original max value is 29887\n",
      "Sentinel 1 used 0.0078125 PU for 12 out of 32 images\n",
      "(12, 16, 16, 2) -> (12, 32, 32, 2)\n",
      "(12, 32, 32, 2) 12\n",
      "(24, 32, 32, 2)\n",
      "(12, 32, 32, 2)\n",
      "\n",
      "\n",
      "Downloading 24/60, 300024\n",
      "[(-40.04979653493476, -18.35751675078445), (-40.04862872506524, -18.356408367436828)]\n"
     ]
    },
    {
     "name": "stderr",
     "output_type": "stream",
     "text": [
      "/Users/jbrandt.terminal/Documents/GitHub/sentinel-tree-cover/src/downloading/utils.py:253: FutureWarning: Using a non-tuple sequence for multidimensional indexing is deprecated; use `arr[tuple(seq)]` instead of `arr[seq]`. In the future this will be interpreted as an array index, `arr[np.array(seq)]`, which will result either in an error or a different result.\n",
      "  step = np.median(img_bands[info['image_idx']], axis = 0)\n"
     ]
    },
    {
     "name": "stdout",
     "output_type": "stream",
     "text": [
      "Espirito Santo Boa Esperanca BR SA\n",
      "The data is DataCollection.SENTINEL1_IW_DES\n",
      "The following steps will be downloaded: [1, 4, 6, 9, 11, 14, 16, 19, 21, 24, 26, 29], for [7, 43, 66, 102, 126, 162, 186, 222, 246, 282, 306, 354]\n",
      "The original max value is 39816\n",
      "Sentinel 1 used 0.0078125 PU for 12 out of 32 images\n",
      "(12, 16, 16, 2) -> (12, 32, 32, 2)\n",
      "(12, 32, 32, 2) 12\n",
      "(24, 32, 32, 2)\n",
      "(12, 32, 32, 2)\n",
      "\n",
      "\n",
      "Downloading 25/60, 300025\n",
      "[(-40.04726802493476, -18.35369158306044), (-40.046100215065245, -18.35258317516117)]\n"
     ]
    },
    {
     "name": "stderr",
     "output_type": "stream",
     "text": [
      "/Users/jbrandt.terminal/Documents/GitHub/sentinel-tree-cover/src/downloading/utils.py:253: FutureWarning: Using a non-tuple sequence for multidimensional indexing is deprecated; use `arr[tuple(seq)]` instead of `arr[seq]`. In the future this will be interpreted as an array index, `arr[np.array(seq)]`, which will result either in an error or a different result.\n",
      "  step = np.median(img_bands[info['image_idx']], axis = 0)\n"
     ]
    },
    {
     "name": "stdout",
     "output_type": "stream",
     "text": [
      "Espirito Santo Boa Esperanca BR SA\n",
      "The data is DataCollection.SENTINEL1_IW_DES\n",
      "The following steps will be downloaded: [1, 4, 6, 9, 11, 14, 16, 19, 21, 24, 26, 29], for [7, 43, 66, 102, 126, 162, 186, 222, 246, 282, 306, 354]\n",
      "The original max value is 51755\n",
      "Sentinel 1 used 0.0078125 PU for 12 out of 32 images\n",
      "(12, 16, 16, 2) -> (12, 32, 32, 2)\n",
      "(12, 32, 32, 2) 12\n",
      "(24, 32, 32, 2)\n",
      "(12, 32, 32, 2)\n",
      "\n",
      "\n",
      "Downloading 26/60, 300026\n",
      "[(-39.981642074934754, -18.60592698828411), (-39.98047426506523, -18.6048202099166)]\n"
     ]
    },
    {
     "name": "stderr",
     "output_type": "stream",
     "text": [
      "/Users/jbrandt.terminal/Documents/GitHub/sentinel-tree-cover/src/downloading/utils.py:253: FutureWarning: Using a non-tuple sequence for multidimensional indexing is deprecated; use `arr[tuple(seq)]` instead of `arr[seq]`. In the future this will be interpreted as an array index, `arr[np.array(seq)]`, which will result either in an error or a different result.\n",
      "  step = np.median(img_bands[info['image_idx']], axis = 0)\n"
     ]
    },
    {
     "name": "stdout",
     "output_type": "stream",
     "text": [
      "Espirito Santo Sao Mateus BR SA\n",
      "The data is DataCollection.SENTINEL1_IW_DES\n",
      "The following steps will be downloaded: [1, 4, 6, 9, 11, 14, 16, 19, 21, 24, 26, 29], for [7, 43, 66, 102, 126, 162, 186, 222, 246, 282, 306, 354]\n",
      "The original max value is 43316\n",
      "Sentinel 1 used 0.0078125 PU for 12 out of 32 images\n",
      "(12, 16, 16, 2) -> (12, 32, 32, 2)\n",
      "(12, 32, 32, 2) 12\n",
      "(24, 32, 32, 2)\n",
      "(12, 32, 32, 2)\n",
      "\n",
      "\n",
      "Downloading 27/60, 300027\n",
      "[(-39.97384094493476, -18.606208957367272), (-39.97267313506524, -18.6051021808334)]\n"
     ]
    },
    {
     "name": "stderr",
     "output_type": "stream",
     "text": [
      "/Users/jbrandt.terminal/Documents/GitHub/sentinel-tree-cover/src/downloading/utils.py:253: FutureWarning: Using a non-tuple sequence for multidimensional indexing is deprecated; use `arr[tuple(seq)]` instead of `arr[seq]`. In the future this will be interpreted as an array index, `arr[np.array(seq)]`, which will result either in an error or a different result.\n",
      "  step = np.median(img_bands[info['image_idx']], axis = 0)\n"
     ]
    },
    {
     "name": "stdout",
     "output_type": "stream",
     "text": [
      "Espirito Santo Sao Mateus BR SA\n",
      "The data is DataCollection.SENTINEL1_IW_DES\n",
      "The following steps will be downloaded: [1, 4, 6, 9, 11, 14, 16, 19, 21, 24, 26, 29], for [7, 43, 66, 102, 126, 162, 186, 222, 246, 282, 306, 354]\n",
      "The original max value is 56665\n",
      "Sentinel 1 used 0.0078125 PU for 12 out of 32 images\n",
      "(12, 16, 16, 2) -> (12, 32, 32, 2)\n",
      "(12, 32, 32, 2) 12\n",
      "(24, 32, 32, 2)\n",
      "(12, 32, 32, 2)\n",
      "\n",
      "\n",
      "Downloading 28/60, 300028\n",
      "[(-39.99987602493476, -18.59972370845078), (-39.99870821506524, -18.59861688975043)]\n"
     ]
    },
    {
     "name": "stderr",
     "output_type": "stream",
     "text": [
      "/Users/jbrandt.terminal/Documents/GitHub/sentinel-tree-cover/src/downloading/utils.py:253: FutureWarning: Using a non-tuple sequence for multidimensional indexing is deprecated; use `arr[tuple(seq)]` instead of `arr[seq]`. In the future this will be interpreted as an array index, `arr[np.array(seq)]`, which will result either in an error or a different result.\n",
      "  step = np.median(img_bands[info['image_idx']], axis = 0)\n"
     ]
    },
    {
     "name": "stdout",
     "output_type": "stream",
     "text": [
      "Espirito Santo Sao Mateus BR SA\n",
      "The data is DataCollection.SENTINEL1_IW_DES\n",
      "The following steps will be downloaded: [1, 4, 6, 9, 11, 14, 16, 19, 21, 24, 26, 29], for [7, 43, 66, 102, 126, 162, 186, 222, 246, 282, 306, 354]\n",
      "The original max value is 37485\n",
      "Sentinel 1 used 0.0078125 PU for 12 out of 32 images\n",
      "(12, 16, 16, 2) -> (12, 32, 32, 2)\n",
      "(12, 32, 32, 2) 12\n",
      "(24, 32, 32, 2)\n",
      "(12, 32, 32, 2)\n",
      "\n",
      "\n",
      "Downloading 29/60, 300029\n",
      "[(-39.99160495493476, -18.59380239769472), (-39.99043714506524, -18.592695540506952)]\n"
     ]
    },
    {
     "name": "stderr",
     "output_type": "stream",
     "text": [
      "/Users/jbrandt.terminal/Documents/GitHub/sentinel-tree-cover/src/downloading/utils.py:253: FutureWarning: Using a non-tuple sequence for multidimensional indexing is deprecated; use `arr[tuple(seq)]` instead of `arr[seq]`. In the future this will be interpreted as an array index, `arr[np.array(seq)]`, which will result either in an error or a different result.\n",
      "  step = np.median(img_bands[info['image_idx']], axis = 0)\n"
     ]
    },
    {
     "name": "stdout",
     "output_type": "stream",
     "text": [
      "Espirito Santo Sao Mateus BR SA\n",
      "The data is DataCollection.SENTINEL1_IW_DES\n",
      "The following steps will be downloaded: [1, 4, 6, 9, 11, 14, 16, 19, 21, 24, 26, 29], for [7, 43, 66, 102, 126, 162, 186, 222, 246, 282, 306, 354]\n",
      "The original max value is 31102\n",
      "Sentinel 1 used 0.0078125 PU for 12 out of 32 images\n",
      "(12, 16, 16, 2) -> (12, 32, 32, 2)\n",
      "(12, 32, 32, 2) 12\n",
      "(24, 32, 32, 2)\n",
      "(12, 32, 32, 2)\n",
      "\n",
      "\n",
      "Downloading 30/60, 300030\n",
      "[(-39.99846618493476, -18.588632994490183), (-39.99729837506524, -18.587526103711937)]\n"
     ]
    },
    {
     "name": "stderr",
     "output_type": "stream",
     "text": [
      "/Users/jbrandt.terminal/Documents/GitHub/sentinel-tree-cover/src/downloading/utils.py:253: FutureWarning: Using a non-tuple sequence for multidimensional indexing is deprecated; use `arr[tuple(seq)]` instead of `arr[seq]`. In the future this will be interpreted as an array index, `arr[np.array(seq)]`, which will result either in an error or a different result.\n",
      "  step = np.median(img_bands[info['image_idx']], axis = 0)\n"
     ]
    },
    {
     "name": "stdout",
     "output_type": "stream",
     "text": [
      "Espirito Santo Sao Mateus BR SA\n",
      "The data is DataCollection.SENTINEL1_IW_DES\n",
      "The following steps will be downloaded: [1, 4, 6, 9, 11, 14, 16, 19, 21, 24, 26, 29], for [7, 43, 66, 102, 126, 162, 186, 222, 246, 282, 306, 354]\n",
      "The original max value is 25946\n",
      "Sentinel 1 used 0.0078125 PU for 12 out of 32 images\n",
      "(12, 16, 16, 2) -> (12, 32, 32, 2)\n",
      "(12, 32, 32, 2) 12\n",
      "(24, 32, 32, 2)\n",
      "(12, 32, 32, 2)\n",
      "\n",
      "\n",
      "Downloading 31/60, 300031\n",
      "[(-40.01416242493477, -18.58487342670223), (-40.012994615065246, -18.58376651150021)]\n"
     ]
    },
    {
     "name": "stderr",
     "output_type": "stream",
     "text": [
      "/Users/jbrandt.terminal/Documents/GitHub/sentinel-tree-cover/src/downloading/utils.py:253: FutureWarning: Using a non-tuple sequence for multidimensional indexing is deprecated; use `arr[tuple(seq)]` instead of `arr[seq]`. In the future this will be interpreted as an array index, `arr[np.array(seq)]`, which will result either in an error or a different result.\n",
      "  step = np.median(img_bands[info['image_idx']], axis = 0)\n"
     ]
    },
    {
     "name": "stdout",
     "output_type": "stream",
     "text": [
      "Espirito Santo Sao Mateus BR SA\n",
      "The data is DataCollection.SENTINEL1_IW_DES\n",
      "The following steps will be downloaded: [1, 4, 6, 9, 11, 14, 16, 19, 21, 24, 26, 29], for [7, 43, 66, 102, 126, 162, 186, 222, 246, 282, 306, 354]\n",
      "The original max value is 28604\n",
      "Sentinel 1 used 0.0078125 PU for 12 out of 32 images\n",
      "(12, 16, 16, 2) -> (12, 32, 32, 2)\n",
      "(12, 32, 32, 2) 12\n",
      "(24, 32, 32, 2)\n"
     ]
    },
    {
     "name": "stderr",
     "output_type": "stream",
     "text": [
      "/Users/jbrandt.terminal/Documents/GitHub/sentinel-tree-cover/src/downloading/utils.py:253: FutureWarning: Using a non-tuple sequence for multidimensional indexing is deprecated; use `arr[tuple(seq)]` instead of `arr[seq]`. In the future this will be interpreted as an array index, `arr[np.array(seq)]`, which will result either in an error or a different result.\n",
      "  step = np.median(img_bands[info['image_idx']], axis = 0)\n"
     ]
    },
    {
     "name": "stdout",
     "output_type": "stream",
     "text": [
      "(12, 32, 32, 2)\n",
      "\n",
      "\n",
      "Downloading 32/60, 300032\n",
      "[(-40.07999389493476, -18.574887289128228), (-40.078826085065245, -18.57378030907502)]\n",
      "Espirito Santo Boa Esperanca BR SA\n",
      "The data is DataCollection.SENTINEL1_IW_DES\n",
      "The following steps will be downloaded: [1, 4, 6, 9, 11, 14, 16, 19, 21, 24, 26, 29], for [7, 43, 66, 102, 126, 162, 186, 222, 246, 282, 306, 354]\n",
      "The original max value is 41868\n",
      "Sentinel 1 used 0.0078125 PU for 12 out of 32 images\n",
      "(12, 16, 16, 2) -> (12, 32, 32, 2)\n",
      "(12, 32, 32, 2) 12\n",
      "(24, 32, 32, 2)\n",
      "(12, 32, 32, 2)\n",
      "\n",
      "\n",
      "Downloading 33/60, 300033\n",
      "[(-40.07640426493476, -18.57351805357297), (-40.075236455065244, -18.5724110646304)]\n"
     ]
    },
    {
     "name": "stderr",
     "output_type": "stream",
     "text": [
      "/Users/jbrandt.terminal/Documents/GitHub/sentinel-tree-cover/src/downloading/utils.py:253: FutureWarning: Using a non-tuple sequence for multidimensional indexing is deprecated; use `arr[tuple(seq)]` instead of `arr[seq]`. In the future this will be interpreted as an array index, `arr[np.array(seq)]`, which will result either in an error or a different result.\n",
      "  step = np.median(img_bands[info['image_idx']], axis = 0)\n"
     ]
    },
    {
     "name": "stdout",
     "output_type": "stream",
     "text": [
      "Espirito Santo Boa Esperanca BR SA\n",
      "The data is DataCollection.SENTINEL1_IW_DES\n",
      "The following steps will be downloaded: [1, 4, 6, 9, 11, 14, 16, 19, 21, 24, 26, 29], for [7, 43, 66, 102, 126, 162, 186, 222, 246, 282, 306, 354]\n",
      "The original max value is 56727\n",
      "Sentinel 1 used 0.0078125 PU for 12 out of 32 images\n",
      "(12, 16, 16, 2) -> (12, 32, 32, 2)\n",
      "(12, 32, 32, 2) 12\n",
      "(24, 32, 32, 2)\n",
      "(12, 32, 32, 2)\n",
      "\n",
      "\n",
      "Downloading 34/60, 300034\n",
      "[(-40.08669206493476, -18.56556167939425), (-40.08552425506524, -18.56445463880977)]\n"
     ]
    },
    {
     "name": "stderr",
     "output_type": "stream",
     "text": [
      "/Users/jbrandt.terminal/Documents/GitHub/sentinel-tree-cover/src/downloading/utils.py:253: FutureWarning: Using a non-tuple sequence for multidimensional indexing is deprecated; use `arr[tuple(seq)]` instead of `arr[seq]`. In the future this will be interpreted as an array index, `arr[np.array(seq)]`, which will result either in an error or a different result.\n",
      "  step = np.median(img_bands[info['image_idx']], axis = 0)\n"
     ]
    },
    {
     "name": "stdout",
     "output_type": "stream",
     "text": [
      "Espirito Santo Boa Esperanca BR SA\n",
      "The data is DataCollection.SENTINEL1_IW_DES\n",
      "The following steps will be downloaded: [1, 4, 6, 9, 11, 14, 16, 19, 21, 24, 26, 29], for [7, 43, 66, 102, 126, 162, 186, 222, 246, 282, 306, 354]\n",
      "The original max value is 38328\n",
      "Sentinel 1 used 0.0078125 PU for 12 out of 32 images\n",
      "(12, 16, 16, 2) -> (12, 32, 32, 2)\n",
      "(12, 32, 32, 2) 12\n",
      "(24, 32, 32, 2)\n",
      "(12, 32, 32, 2)\n"
     ]
    },
    {
     "name": "stderr",
     "output_type": "stream",
     "text": [
      "/Users/jbrandt.terminal/Documents/GitHub/sentinel-tree-cover/src/downloading/utils.py:253: FutureWarning: Using a non-tuple sequence for multidimensional indexing is deprecated; use `arr[tuple(seq)]` instead of `arr[seq]`. In the future this will be interpreted as an array index, `arr[np.array(seq)]`, which will result either in an error or a different result.\n",
      "  step = np.median(img_bands[info['image_idx']], axis = 0)\n"
     ]
    },
    {
     "name": "stdout",
     "output_type": "stream",
     "text": [
      "\n",
      "\n",
      "Downloading 35/60, 300035\n",
      "[(-39.934901554934754, -18.620668660333365), (-39.93373374506523, -18.61956197786614)]\n",
      "Espirito Santo Sao Mateus BR SA\n",
      "The data is DataCollection.SENTINEL1_IW_DES\n",
      "The following steps will be downloaded: [1, 4, 6, 9, 11, 14, 16, 19, 21, 24, 26, 29], for [7, 43, 66, 102, 126, 162, 186, 222, 246, 282, 306, 354]\n",
      "The original max value is 32636\n",
      "Sentinel 1 used 0.0078125 PU for 12 out of 32 images\n",
      "(12, 16, 16, 2) -> (12, 32, 32, 2)\n",
      "(12, 32, 32, 2) 12\n",
      "(24, 32, 32, 2)\n",
      "(12, 32, 32, 2)\n"
     ]
    },
    {
     "name": "stderr",
     "output_type": "stream",
     "text": [
      "/Users/jbrandt.terminal/Documents/GitHub/sentinel-tree-cover/src/downloading/utils.py:253: FutureWarning: Using a non-tuple sequence for multidimensional indexing is deprecated; use `arr[tuple(seq)]` instead of `arr[seq]`. In the future this will be interpreted as an array index, `arr[np.array(seq)]`, which will result either in an error or a different result.\n",
      "  step = np.median(img_bands[info['image_idx']], axis = 0)\n"
     ]
    },
    {
     "name": "stdout",
     "output_type": "stream",
     "text": [
      "\n",
      "\n",
      "Downloading 36/60, 300036\n",
      "[(-39.93125218493476, -18.60632508698967), (-39.93008437506524, -18.605218311210976)]\n",
      "Espirito Santo Sao Mateus BR SA\n",
      "The data is DataCollection.SENTINEL1_IW_DES\n",
      "The following steps will be downloaded: [1, 4, 6, 9, 11, 14, 16, 19, 21, 24, 26, 29], for [7, 43, 66, 102, 126, 162, 186, 222, 246, 282, 306, 354]\n",
      "The original max value is 42767\n",
      "Sentinel 1 used 0.0078125 PU for 12 out of 32 images\n",
      "(12, 16, 16, 2) -> (12, 32, 32, 2)\n",
      "(12, 32, 32, 2) 12\n",
      "(24, 32, 32, 2)\n",
      "(12, 32, 32, 2)\n",
      "\n",
      "\n",
      "Downloading 37/60, 300037\n",
      "[(-39.81002953493476, -18.58829839557714), (-39.80886172506524, -18.587191502625004)]\n"
     ]
    },
    {
     "name": "stderr",
     "output_type": "stream",
     "text": [
      "/Users/jbrandt.terminal/Documents/GitHub/sentinel-tree-cover/src/downloading/utils.py:253: FutureWarning: Using a non-tuple sequence for multidimensional indexing is deprecated; use `arr[tuple(seq)]` instead of `arr[seq]`. In the future this will be interpreted as an array index, `arr[np.array(seq)]`, which will result either in an error or a different result.\n",
      "  step = np.median(img_bands[info['image_idx']], axis = 0)\n"
     ]
    },
    {
     "name": "stdout",
     "output_type": "stream",
     "text": [
      "Espirito Santo Conceicao Da Barra BR SA\n",
      "The data is DataCollection.SENTINEL1_IW_DES\n",
      "The following steps will be downloaded: [1, 4, 6, 9, 11, 14, 16, 19, 21, 24, 26, 29], for [7, 43, 66, 102, 126, 162, 186, 222, 246, 282, 306, 354]\n",
      "The original max value is 32496\n",
      "Sentinel 1 used 0.0078125 PU for 12 out of 32 images\n",
      "(12, 16, 16, 2) -> (12, 32, 32, 2)\n",
      "(12, 32, 32, 2) 12\n",
      "(24, 32, 32, 2)\n",
      "(12, 32, 32, 2)\n",
      "\n",
      "\n",
      "Downloading 38/60, 300038\n",
      "[(-39.82515956493476, -18.58961654129496), (-39.82399175506525, -18.58850965690705)]\n"
     ]
    },
    {
     "name": "stderr",
     "output_type": "stream",
     "text": [
      "/Users/jbrandt.terminal/Documents/GitHub/sentinel-tree-cover/src/downloading/utils.py:253: FutureWarning: Using a non-tuple sequence for multidimensional indexing is deprecated; use `arr[tuple(seq)]` instead of `arr[seq]`. In the future this will be interpreted as an array index, `arr[np.array(seq)]`, which will result either in an error or a different result.\n",
      "  step = np.median(img_bands[info['image_idx']], axis = 0)\n"
     ]
    },
    {
     "name": "stdout",
     "output_type": "stream",
     "text": [
      "Espirito Santo Conceicao Da Barra BR SA\n",
      "The data is DataCollection.SENTINEL1_IW_DES\n",
      "The following steps will be downloaded: [1, 4, 6, 9, 11, 14, 16, 19, 21, 24, 26, 29], for [7, 43, 66, 102, 126, 162, 186, 222, 246, 282, 306, 354]\n",
      "The original max value is 30245\n",
      "Sentinel 1 used 0.0078125 PU for 12 out of 32 images\n",
      "(12, 16, 16, 2) -> (12, 32, 32, 2)\n",
      "(12, 32, 32, 2) 12\n",
      "(24, 32, 32, 2)\n",
      "(12, 32, 32, 2)\n",
      "\n",
      "\n",
      "Downloading 39/60, 300039\n",
      "[(-39.82800492493476, -18.56920431757392), (-39.826837115065246, -18.56809730062983)]\n"
     ]
    },
    {
     "name": "stderr",
     "output_type": "stream",
     "text": [
      "/Users/jbrandt.terminal/Documents/GitHub/sentinel-tree-cover/src/downloading/utils.py:253: FutureWarning: Using a non-tuple sequence for multidimensional indexing is deprecated; use `arr[tuple(seq)]` instead of `arr[seq]`. In the future this will be interpreted as an array index, `arr[np.array(seq)]`, which will result either in an error or a different result.\n",
      "  step = np.median(img_bands[info['image_idx']], axis = 0)\n"
     ]
    },
    {
     "name": "stdout",
     "output_type": "stream",
     "text": [
      "Espirito Santo Conceicao Da Barra BR SA\n",
      "The data is DataCollection.SENTINEL1_IW_DES\n",
      "The following steps will be downloaded: [1, 4, 6, 9, 11, 14, 16, 19, 21, 24, 26, 29], for [7, 43, 66, 102, 126, 162, 186, 222, 246, 282, 306, 354]\n",
      "The original max value is 34212\n",
      "Sentinel 1 used 0.0078125 PU for 12 out of 32 images\n",
      "(12, 16, 16, 2) -> (12, 32, 32, 2)\n",
      "(12, 32, 32, 2) 12\n",
      "(24, 32, 32, 2)\n",
      "(12, 32, 32, 2)\n",
      "\n",
      "\n",
      "Downloading 40/60, 300040\n",
      "[(-39.86493123493476, -18.6061809874582), (-39.86376342506525, -18.60507421074243)]\n"
     ]
    },
    {
     "name": "stderr",
     "output_type": "stream",
     "text": [
      "/Users/jbrandt.terminal/Documents/GitHub/sentinel-tree-cover/src/downloading/utils.py:253: FutureWarning: Using a non-tuple sequence for multidimensional indexing is deprecated; use `arr[tuple(seq)]` instead of `arr[seq]`. In the future this will be interpreted as an array index, `arr[np.array(seq)]`, which will result either in an error or a different result.\n",
      "  step = np.median(img_bands[info['image_idx']], axis = 0)\n"
     ]
    },
    {
     "name": "stdout",
     "output_type": "stream",
     "text": [
      "Espirito Santo Sao Mateus BR SA\n",
      "The data is DataCollection.SENTINEL1_IW_DES\n",
      "The following steps will be downloaded: [1, 4, 6, 9, 11, 14, 16, 19, 21, 24, 26, 29], for [7, 43, 66, 102, 126, 162, 186, 222, 246, 282, 306, 354]\n",
      "The original max value is 39741\n",
      "Sentinel 1 used 0.0078125 PU for 12 out of 32 images\n",
      "(12, 16, 16, 2) -> (12, 32, 32, 2)\n",
      "(12, 32, 32, 2) 12\n",
      "(24, 32, 32, 2)\n",
      "(12, 32, 32, 2)\n",
      "\n",
      "\n",
      "Downloading 41/60, 300041\n",
      "[(-39.97491906493476, -18.47802670277176), (-39.973751255065245, -18.4769190954395)]\n"
     ]
    },
    {
     "name": "stderr",
     "output_type": "stream",
     "text": [
      "/Users/jbrandt.terminal/Documents/GitHub/sentinel-tree-cover/src/downloading/utils.py:253: FutureWarning: Using a non-tuple sequence for multidimensional indexing is deprecated; use `arr[tuple(seq)]` instead of `arr[seq]`. In the future this will be interpreted as an array index, `arr[np.array(seq)]`, which will result either in an error or a different result.\n",
      "  step = np.median(img_bands[info['image_idx']], axis = 0)\n"
     ]
    },
    {
     "name": "stdout",
     "output_type": "stream",
     "text": [
      "Espirito Santo Sao Mateus BR SA\n",
      "The data is DataCollection.SENTINEL1_IW_DES\n",
      "The following steps will be downloaded: [1, 4, 6, 9, 11, 14, 16, 19, 21, 24, 26, 29], for [7, 43, 66, 102, 126, 162, 186, 222, 246, 282, 306, 354]\n",
      "The original max value is 45585\n",
      "Sentinel 1 used 0.0078125 PU for 12 out of 32 images\n",
      "(12, 16, 16, 2) -> (12, 32, 32, 2)\n",
      "(12, 32, 32, 2) 12\n",
      "(24, 32, 32, 2)\n",
      "(12, 32, 32, 2)\n",
      "\n",
      "\n",
      "Downloading 42/60, 300042\n",
      "[(-40.00569121493476, -18.39204663985717), (-40.00452340506524, -18.39093847836128)]\n"
     ]
    },
    {
     "name": "stderr",
     "output_type": "stream",
     "text": [
      "/Users/jbrandt.terminal/Documents/GitHub/sentinel-tree-cover/src/downloading/utils.py:253: FutureWarning: Using a non-tuple sequence for multidimensional indexing is deprecated; use `arr[tuple(seq)]` instead of `arr[seq]`. In the future this will be interpreted as an array index, `arr[np.array(seq)]`, which will result either in an error or a different result.\n",
      "  step = np.median(img_bands[info['image_idx']], axis = 0)\n"
     ]
    },
    {
     "name": "stdout",
     "output_type": "stream",
     "text": [
      "Espirito Santo Boa Esperanca BR SA\n",
      "The data is DataCollection.SENTINEL1_IW_DES\n",
      "The following steps will be downloaded: [1, 4, 6, 9, 11, 14, 16, 19, 21, 24, 26, 29], for [7, 43, 66, 102, 126, 162, 186, 222, 246, 282, 306, 354]\n",
      "The original max value is 29195\n",
      "Sentinel 1 used 0.0078125 PU for 12 out of 32 images\n",
      "(12, 16, 16, 2) -> (12, 32, 32, 2)\n",
      "(12, 32, 32, 2) 12\n",
      "(24, 32, 32, 2)\n",
      "(12, 32, 32, 2)\n",
      "\n",
      "\n",
      "Downloading 43/60, 300043\n",
      "[(-40.01371891493476, -18.394907980656072), (-40.01255110506524, -18.39379983756212)]\n"
     ]
    },
    {
     "name": "stderr",
     "output_type": "stream",
     "text": [
      "/Users/jbrandt.terminal/Documents/GitHub/sentinel-tree-cover/src/downloading/utils.py:253: FutureWarning: Using a non-tuple sequence for multidimensional indexing is deprecated; use `arr[tuple(seq)]` instead of `arr[seq]`. In the future this will be interpreted as an array index, `arr[np.array(seq)]`, which will result either in an error or a different result.\n",
      "  step = np.median(img_bands[info['image_idx']], axis = 0)\n"
     ]
    },
    {
     "name": "stdout",
     "output_type": "stream",
     "text": [
      "Espirito Santo Boa Esperanca BR SA\n",
      "The data is DataCollection.SENTINEL1_IW_DES\n",
      "The following steps will be downloaded: [1, 4, 6, 9, 11, 14, 16, 19, 21, 24, 26, 29], for [7, 43, 66, 102, 126, 162, 186, 222, 246, 282, 306, 354]\n",
      "The original max value is 26326\n",
      "Sentinel 1 used 0.0078125 PU for 12 out of 32 images\n",
      "(12, 16, 16, 2) -> (12, 32, 32, 2)\n",
      "(12, 32, 32, 2) 12\n",
      "(24, 32, 32, 2)\n",
      "(12, 32, 32, 2)\n",
      "\n",
      "\n",
      "Downloading 44/60, 300044\n",
      "[(-40.00386312493476, -18.39848466915272), (-40.002695315065246, -18.39737654906517)]\n"
     ]
    },
    {
     "name": "stderr",
     "output_type": "stream",
     "text": [
      "/Users/jbrandt.terminal/Documents/GitHub/sentinel-tree-cover/src/downloading/utils.py:253: FutureWarning: Using a non-tuple sequence for multidimensional indexing is deprecated; use `arr[tuple(seq)]` instead of `arr[seq]`. In the future this will be interpreted as an array index, `arr[np.array(seq)]`, which will result either in an error or a different result.\n",
      "  step = np.median(img_bands[info['image_idx']], axis = 0)\n"
     ]
    },
    {
     "name": "stdout",
     "output_type": "stream",
     "text": [
      "Espirito Santo Boa Esperanca BR SA\n",
      "The data is DataCollection.SENTINEL1_IW_DES\n",
      "The following steps will be downloaded: [1, 4, 6, 9, 11, 14, 16, 19, 21, 24, 26, 29], for [7, 43, 66, 102, 126, 162, 186, 222, 246, 282, 306, 354]\n",
      "The original max value is 36003\n",
      "Sentinel 1 used 0.0078125 PU for 12 out of 32 images\n",
      "(12, 16, 16, 2) -> (12, 32, 32, 2)\n",
      "(12, 32, 32, 2) 12\n",
      "(24, 32, 32, 2)\n",
      "(12, 32, 32, 2)\n",
      "\n",
      "\n",
      "Downloading 45/60, 300045\n",
      "[(-39.98642075493476, -18.484073863236816), (-39.98525294506524, -18.482966294973977)]\n"
     ]
    },
    {
     "name": "stderr",
     "output_type": "stream",
     "text": [
      "/Users/jbrandt.terminal/Documents/GitHub/sentinel-tree-cover/src/downloading/utils.py:253: FutureWarning: Using a non-tuple sequence for multidimensional indexing is deprecated; use `arr[tuple(seq)]` instead of `arr[seq]`. In the future this will be interpreted as an array index, `arr[np.array(seq)]`, which will result either in an error or a different result.\n",
      "  step = np.median(img_bands[info['image_idx']], axis = 0)\n"
     ]
    },
    {
     "name": "stdout",
     "output_type": "stream",
     "text": [
      "Espirito Santo Sao Mateus BR SA\n",
      "The data is DataCollection.SENTINEL1_IW_DES\n",
      "The following steps will be downloaded: [1, 4, 6, 9, 11, 14, 16, 19, 21, 24, 26, 29], for [7, 43, 66, 102, 126, 162, 186, 222, 246, 282, 306, 354]\n",
      "The original max value is 42892\n",
      "Sentinel 1 used 0.0078125 PU for 12 out of 32 images\n",
      "(12, 16, 16, 2) -> (12, 32, 32, 2)\n",
      "(12, 32, 32, 2) 12\n",
      "(24, 32, 32, 2)\n",
      "(12, 32, 32, 2)\n",
      "\n",
      "\n",
      "Downloading 46/60, 300046\n",
      "[(107.03116509506523, 10.88789341669451), (107.03233290493476, 10.889040202201684)]\n"
     ]
    },
    {
     "name": "stderr",
     "output_type": "stream",
     "text": [
      "/Users/jbrandt.terminal/Documents/GitHub/sentinel-tree-cover/src/downloading/utils.py:253: FutureWarning: Using a non-tuple sequence for multidimensional indexing is deprecated; use `arr[tuple(seq)]` instead of `arr[seq]`. In the future this will be interpreted as an array index, `arr[np.array(seq)]`, which will result either in an error or a different result.\n",
      "  step = np.median(img_bands[info['image_idx']], axis = 0)\n"
     ]
    },
    {
     "name": "stdout",
     "output_type": "stream",
     "text": [
      "Dong Nai  VN AS\n",
      "The data is DataCollection.SENTINEL1_IW_DES\n",
      "The following steps will be downloaded: [3, 7, 12, 17, 22, 28, 33, 38, 43, 48, 53, 58], for [2, 32, 61, 91, 121, 157, 187, 217, 247, 277, 307, 337]\n",
      "The original max value is 65535\n",
      "Sentinel 1 used 0.0078125 PU for 12 out of 66 images\n",
      "(12, 16, 16, 2) -> (12, 32, 32, 2)\n",
      "A total of 5 steps of 12 were removed.\n",
      "(7, 32, 32, 2) 7\n",
      "(24, 32, 32, 2)\n",
      "(12, 32, 32, 2)\n",
      "\n",
      "\n",
      "Downloading 47/60, 300047\n",
      "[(107.02594129506524, 10.887698586319472), (107.02710910493477, 10.888845372576752)]\n"
     ]
    },
    {
     "name": "stderr",
     "output_type": "stream",
     "text": [
      "/Users/jbrandt.terminal/Documents/GitHub/sentinel-tree-cover/src/downloading/utils.py:236: VisibleDeprecationWarning: Creating an ndarray from ragged nested sequences (which is a list-or-tuple of lists-or-tuples-or ndarrays with different lengths or shapes) is deprecated. If you meant to do this, you must specify 'dtype=object' when creating the ndarray.\n",
      "  selected_images[i] = {'image_date': np.array([prior_dates, after_dates]).flatten(),\n",
      "/Users/jbrandt.terminal/Documents/GitHub/sentinel-tree-cover/src/downloading/utils.py:253: FutureWarning: Using a non-tuple sequence for multidimensional indexing is deprecated; use `arr[tuple(seq)]` instead of `arr[seq]`. In the future this will be interpreted as an array index, `arr[np.array(seq)]`, which will result either in an error or a different result.\n",
      "  step = np.median(img_bands[info['image_idx']], axis = 0)\n"
     ]
    },
    {
     "name": "stdout",
     "output_type": "stream",
     "text": [
      "Dong Nai  VN AS\n",
      "The data is DataCollection.SENTINEL1_IW_DES\n",
      "The following steps will be downloaded: [3, 7, 12, 17, 22, 28, 33, 38, 43, 48, 53, 58], for [2, 32, 61, 91, 121, 157, 187, 217, 247, 277, 307, 337]\n",
      "The original max value is 65535\n",
      "Sentinel 1 used 0.0078125 PU for 12 out of 66 images\n",
      "(12, 16, 16, 2) -> (12, 32, 32, 2)\n",
      "(12, 32, 32, 2) 12\n",
      "(24, 32, 32, 2)\n",
      "(12, 32, 32, 2)\n",
      "\n",
      "\n",
      "Downloading 48/60, 300048\n",
      "[(107.02624059506525, 10.893347977197235), (107.02740840493476, 10.894494741698438)]\n"
     ]
    },
    {
     "name": "stderr",
     "output_type": "stream",
     "text": [
      "/Users/jbrandt.terminal/Documents/GitHub/sentinel-tree-cover/src/downloading/utils.py:253: FutureWarning: Using a non-tuple sequence for multidimensional indexing is deprecated; use `arr[tuple(seq)]` instead of `arr[seq]`. In the future this will be interpreted as an array index, `arr[np.array(seq)]`, which will result either in an error or a different result.\n",
      "  step = np.median(img_bands[info['image_idx']], axis = 0)\n"
     ]
    },
    {
     "name": "stdout",
     "output_type": "stream",
     "text": [
      "Dong Nai  VN AS\n",
      "The data is DataCollection.SENTINEL1_IW_DES\n",
      "The following steps will be downloaded: [3, 7, 12, 17, 22, 28, 33, 38, 43, 48, 53, 58], for [2, 32, 61, 91, 121, 157, 187, 217, 247, 277, 307, 337]\n",
      "The original max value is 61799\n",
      "Sentinel 1 used 0.0078125 PU for 12 out of 66 images\n",
      "(12, 16, 16, 2) -> (12, 32, 32, 2)\n",
      "(12, 32, 32, 2) 12\n",
      "(24, 32, 32, 2)\n",
      "(12, 32, 32, 2)\n",
      "\n",
      "\n",
      "Downloading 49/60, 300049\n",
      "[(107.03152859506524, 10.896391083058958), (107.03269640493475, 10.897537835836388)]\n"
     ]
    },
    {
     "name": "stderr",
     "output_type": "stream",
     "text": [
      "/Users/jbrandt.terminal/Documents/GitHub/sentinel-tree-cover/src/downloading/utils.py:253: FutureWarning: Using a non-tuple sequence for multidimensional indexing is deprecated; use `arr[tuple(seq)]` instead of `arr[seq]`. In the future this will be interpreted as an array index, `arr[np.array(seq)]`, which will result either in an error or a different result.\n",
      "  step = np.median(img_bands[info['image_idx']], axis = 0)\n"
     ]
    },
    {
     "name": "stdout",
     "output_type": "stream",
     "text": [
      "Dong Nai  VN AS\n",
      "The data is DataCollection.SENTINEL1_IW_DES\n",
      "The following steps will be downloaded: [3, 7, 12, 17, 22, 28, 33, 38, 43, 48, 53, 58], for [2, 32, 61, 91, 121, 157, 187, 217, 247, 277, 307, 337]\n",
      "The original max value is 65535\n",
      "Sentinel 1 used 0.0078125 PU for 12 out of 66 images\n",
      "(12, 16, 16, 2) -> (12, 32, 32, 2)\n",
      "(12, 32, 32, 2) 12\n",
      "(24, 32, 32, 2)\n",
      "(12, 32, 32, 2)\n",
      "\n",
      "\n",
      "Downloading 50/60, 300050\n",
      "[(107.03546969506525, 10.891901264411077), (107.03663750493476, 10.893048034484693)]\n"
     ]
    },
    {
     "name": "stderr",
     "output_type": "stream",
     "text": [
      "/Users/jbrandt.terminal/Documents/GitHub/sentinel-tree-cover/src/downloading/utils.py:253: FutureWarning: Using a non-tuple sequence for multidimensional indexing is deprecated; use `arr[tuple(seq)]` instead of `arr[seq]`. In the future this will be interpreted as an array index, `arr[np.array(seq)]`, which will result either in an error or a different result.\n",
      "  step = np.median(img_bands[info['image_idx']], axis = 0)\n"
     ]
    }
   ],
   "source": [
    "import warnings\n",
    "warnings.filterwarnings(\"ignore\", category=DeprecationWarning) \n",
    "\n",
    "def to_float32(array: np.array) -> np.array:\n",
    "    \"\"\"Converts an int_x array to float32\"\"\"\n",
    "    print(f'The original max value is {np.max(array)}')\n",
    "    if not isinstance(array.flat[0], np.floating):\n",
    "        assert np.max(array) > 1\n",
    "        array = np.float32(array) / 65535.\n",
    "    assert np.max(array) <= 1\n",
    "    return array\n",
    "\n",
    "for i in (os.listdir(\"../data/train-csv/\")):\n",
    "    if \"chaco\" in i:\n",
    "        print(i)\n",
    "        download_plots(\"../data/train-csv/\" + i, \n",
    "                       \"../data/train-s1/\",\n",
    "                       image_format = MimeType.TIFF)"
   ]
  },
  {
   "cell_type": "code",
   "execution_count": null,
   "metadata": {},
   "outputs": [],
   "source": []
  }
 ],
 "metadata": {
  "kernelspec": {
   "display_name": "tf",
   "language": "python",
   "name": "tf"
  },
  "language_info": {
   "codemirror_mode": {
    "name": "ipython",
    "version": 3
   },
   "file_extension": ".py",
   "mimetype": "text/x-python",
   "name": "python",
   "nbconvert_exporter": "python",
   "pygments_lexer": "ipython3",
   "version": "3.7.10"
  }
 },
 "nbformat": 4,
 "nbformat_minor": 2
}
