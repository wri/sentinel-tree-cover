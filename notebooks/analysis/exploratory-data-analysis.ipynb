{
 "cells": [
  {
   "cell_type": "markdown",
   "id": "union-briefs",
   "metadata": {},
   "source": [
    "# Exploratory Data Analysis\n",
    "This notebook explores the output of the TML analysis pipeline performed on a variety of countries in our processing extent. The visualizations are intended to compare tree cover estimates between TML and Hansen et al (2013) and explore statistics across different ESA and IPCCC land cover categories.\n",
    "\n",
    "**Tree Cover per Land Cover Class**  \n",
    "* ESA land cover and TML\n",
    "* IPCC land cover and TML\n",
    "* IPCC land cover and TML vs Hansen\n",
    "\n",
    "**Tree Cover Comparisons with Hansen**  \n",
    " \n",
    "**Old Visualizations**  \n"
   ]
  },
  {
   "cell_type": "code",
   "execution_count": null,
   "id": "distinct-moore",
   "metadata": {},
   "outputs": [],
   "source": [
    "import os\n",
    "import rasterio as rs\n",
    "import numpy as np \n",
    "import seaborn as sns\n",
    "import matplotlib.pyplot as plt\n",
    "import geopandas as gpd \n",
    "import pandas as pd\n",
    "\n",
    "from rasterio.plot import show\n",
    "from numpy.ma import masked_array\n",
    "rom matplotlib.colors import ListedColormap\n",
    "import matplotlib.colors as colors\n",
    "from matplotlib.patches import Patch"
   ]
  },
  {
   "cell_type": "code",
   "execution_count": null,
   "id": "b4b75d75",
   "metadata": {},
   "outputs": [],
   "source": [
    "def check_stats(country):\n",
    "    '''\n",
    "    Checks a country's statistics spreadsheet for erroneous values\n",
    "    '''\n",
    "    \n",
    "    df = pd.read_csv(f'/Volumes/Jessicas_Life/_Processed_countries/{country}/stats/{country}_statistics.csv')\n",
    "    print(f'SUMMARY FOR {country}:')\n",
    "    print(df.info())\n",
    "    print(' ')\n",
    "    print(f'ESA LAND COVER CLASSES: {df.esa_class.nunique()}')\n",
    "    print(df.esa_class.value_counts())\n",
    "    print(' ')\n",
    "    print(f'TOF means >100%: {len(df[df.tof_mean >= 100])}')\n",
    "    print(f'Hans means >100%: {len(df[df.hans_mean >= 100])}')\n",
    "    print(f'TOF NaN means: {len(df[df.tof_mean.isnull()])}')\n",
    "    print(f'Hans NaN means: {len(df[df.hans_mean.isnull()])}')\n",
    "    print(f'Confirm no ha if no mean: {len(df[(df.tof_mean == 0) & (df.tof_ha > 0)])}')\n",
    "    print(' ')\n",
    "    print('% LAND COVER THAT IS NaN')\n",
    "    print(df[df.tof_mean.isnull()].esa_class.value_counts(normalize=True)*100)\n",
    "    return df[:40]"
   ]
  },
  {
   "cell_type": "code",
   "execution_count": null,
   "id": "b1eaeaff",
   "metadata": {},
   "outputs": [],
   "source": [
    "check_stats('Guinea Bissau')"
   ]
  },
  {
   "cell_type": "markdown",
   "id": "existing-influence",
   "metadata": {},
   "source": [
    "# Land Cover Class"
   ]
  },
  {
   "cell_type": "code",
   "execution_count": null,
   "id": "single-shelter",
   "metadata": {},
   "outputs": [],
   "source": [
    "ipcc_colors = {'Other':'royalblue',\n",
    "               'Agriculture':'sandybrown',\n",
    "               'Forest':'green',\n",
    "               'Grassland':'limegreen',\n",
    "               'Wetland':'mediumturquoise',\n",
    "               'Settlement':'palevioletred'}"
   ]
  },
  {
   "cell_type": "code",
   "execution_count": null,
   "id": "extreme-portsmouth",
   "metadata": {},
   "outputs": [],
   "source": [
    "colors = ['royalblue','maroon', 'gray', 'sandybrown', \n",
    "          'gold', 'limegreen', 'green', 'palevioletred',\n",
    "          'mediumturquoise', 'red', 'cyan', 'sienna', 'navy', \n",
    "          'mediumpurple', 'darkkhaki', 'magenta']"
   ]
  },
  {
   "cell_type": "code",
   "execution_count": null,
   "id": "pursuant-affair",
   "metadata": {},
   "outputs": [],
   "source": [
    "# create dataframes for each category of lc class\n",
    "\n",
    "tree_cover_class = landcover[landcover.esa_id.isin([50, 60, 70, 80, 90, 160, 170])]\n",
    "mosaic_class = landcover[landcover.esa_id.isin([30, 40, 100, 110])]\n",
    "crop_urban_class = landcover[landcover.esa_id.isin([10, 11, 20, 190])]\n",
    "herb_shrub_class = landcover[landcover.esa_id.isin([120, 130, 140, 150, 180, 200])]\n",
    "other_class = landcover[landcover.esa_id.isin([0, 210, 220])]"
   ]
  },
  {
   "cell_type": "markdown",
   "id": "b9d4e726",
   "metadata": {},
   "source": [
    "## ESA and TML"
   ]
  },
  {
   "cell_type": "markdown",
   "id": "dramatic-field",
   "metadata": {},
   "source": [
    "### Sampling Area: Country\n",
    "This barchart illustrates the sampling coverage for each land cover class in a country. Each bar shows the sampled and total hectares of each land cover class in hectares (any hectare containing >0% tree cover is included). The results are sorted by hectares of land cover sampled in ascending order."
   ]
  },
  {
   "cell_type": "code",
   "execution_count": null,
   "id": "addressed-pearl",
   "metadata": {},
   "outputs": [],
   "source": [
    "def lc_sampled(country):\n",
    "    \n",
    "    df = pd.read_csv(f'/Volumes/Jessicas_Life/_Processed_countries/{country}/stats/{country}_statistics.csv')\n",
    "    df = df[['country', 'admin', 'esa_class', 'esa_sampled_ha', 'esa_total_ha']]\n",
    "\n",
    "    df = df.drop_duplicates(keep='first', ignore_index=True)\n",
    "    df.drop(df[df.esa_class == 'No Data (flag)'].index, inplace = True)\n",
    "    df['esa_not_sampled'] = df['esa_total_ha'] - df['esa_sampled_ha']\n",
    "    df = df.groupby(by='esa_class').sum().reset_index()\n",
    "    df = df.sort_values(by='esa_sampled_ha')\n",
    "    df['esa_perc_sampled'] = round((df['esa_sampled_ha'] / df['esa_total_ha']) * 100)\n",
    "    \n",
    "    # create the visualization\n",
    "    plt.figure(figsize=(10,5))\n",
    "    classes = list(df.esa_class.values)\n",
    "    bars1 = df.esa_sampled_ha\n",
    "    bars2 = df.esa_not_sampled\n",
    "\n",
    "    plt.barh(classes, bars1, color=\"#f3e151\", label='sampled')  \n",
    "    plt.barh(classes, bars2, left=bars1, color=\"#6c3376\", label='not sampled')\n",
    "\n",
    "    plt.title(f'Land Cover Sampled in {country}')\n",
    "    plt.xlabel('Tree Cover (ha)')\n",
    "    plt.ticklabel_format(useOffset=False, style='plain', axis='x')\n",
    "    plt.grid(axis='x', linestyle='-', linewidth=.2)\n",
    "    plt.legend();\n",
    "    \n",
    "    return"
   ]
  },
  {
   "cell_type": "code",
   "execution_count": null,
   "id": "auburn-romantic",
   "metadata": {},
   "outputs": [],
   "source": [
    "lc_sampled('Belize')"
   ]
  },
  {
   "cell_type": "code",
   "execution_count": null,
   "id": "organizational-flour",
   "metadata": {},
   "outputs": [],
   "source": [
    "lc_sampled('El Salvador')"
   ]
  },
  {
   "cell_type": "code",
   "execution_count": null,
   "id": "hindu-domestic",
   "metadata": {},
   "outputs": [],
   "source": [
    "lc_sampled('Nicaragua')"
   ]
  },
  {
   "cell_type": "code",
   "execution_count": null,
   "id": "comfortable-timing",
   "metadata": {},
   "outputs": [],
   "source": [
    "lc_sampled('Honduras')"
   ]
  },
  {
   "cell_type": "code",
   "execution_count": null,
   "id": "educated-confusion",
   "metadata": {},
   "outputs": [],
   "source": [
    "lc_sampled('Panama')"
   ]
  },
  {
   "cell_type": "code",
   "execution_count": null,
   "id": "uniform-vehicle",
   "metadata": {},
   "outputs": [],
   "source": [
    "lc_sampled('Guatemala')"
   ]
  },
  {
   "cell_type": "code",
   "execution_count": null,
   "id": "f4b88166",
   "metadata": {},
   "outputs": [],
   "source": [
    "lc_sampled('Costa Rica')"
   ]
  },
  {
   "cell_type": "markdown",
   "id": "0556092a",
   "metadata": {},
   "source": [
    "### Sampling Area: Admin and Land Cover Class"
   ]
  },
  {
   "cell_type": "code",
   "execution_count": null,
   "id": "658354a7",
   "metadata": {},
   "outputs": [],
   "source": [
    "# get the total area sampled in Cayo, Belize for land cover class 11\n",
    "df = pd.read_csv(f'/Volumes/Jessicas_Life/regional_stats/central_am.csv')\n",
    "cayo11 = df[(df.admin == 'Cayo') & (df.esa_id == 11)]\n",
    "cayo11_sampled = round((cayo11.esa_sampled_ha.iloc[0] / cayo11.esa_total_ha.iloc[0]) * 100, 2)\n",
    "print(f'The total area sampled in Cayo, Belize for ESA land cover #11 is: {cayo11_sampled}%')"
   ]
  },
  {
   "cell_type": "code",
   "execution_count": null,
   "id": "967a87a5",
   "metadata": {},
   "outputs": [],
   "source": [
    "## Admins with most area sampled\n",
    "df_samp = df[['country', 'admin', 'esa_id', 'esa_sampled_ha', 'esa_total_ha']] \n",
    "df_samp = df_samp.drop_duplicates(keep='first', ignore_index=True)\n",
    "\n",
    "# group by country and admin, sum sampled ha and total ha\n",
    "df_admin_samp = df_samp.groupby(by=['country', 'admin']).sum().reset_index()\n",
    "df_admin_samp = df_admin_samp[['country', 'admin', 'esa_sampled_ha', 'esa_total_ha']] \n",
    "df_admin_samp['perc_sampled'] = round((df_admin_samp.esa_sampled_ha / df_admin_samp.esa_total_ha * 100), 2)\n",
    "\n",
    "df_admin_samp\n",
    "\n",
    "most_sampled = df_admin_samp.sort_values('perc_sampled', ascending=(False))\n",
    "most_sampled[:10]cayo = df[df.admin == 'Cayo']\n",
    "cayo_samp = cayo[['country', 'admin', 'esa_id', 'esa_sampled_ha', 'esa_total_ha']] \n",
    "cayo_samp = cayo_samp.drop_duplicates(keep='first', ignore_index=True)\n",
    "cayo_sampled = round((cayo_samp.esa_sampled_ha.sum() / cayo_samp.esa_total_ha.sum()) * 100, 2)\n",
    "print(f'The total area sampled in Cayo, Belize is: {cayo_sampled}%')"
   ]
  },
  {
   "cell_type": "code",
   "execution_count": null,
   "id": "08f89319",
   "metadata": {},
   "outputs": [],
   "source": [
    "## Admins with most area sampled\n",
    "df_samp = df[['country', 'admin', 'esa_id', 'esa_sampled_ha', 'esa_total_ha']] \n",
    "df_samp = df_samp.drop_duplicates(keep='first', ignore_index=True)\n",
    "\n",
    "# group by country and admin, sum sampled ha and total ha\n",
    "df_admin_samp = df_samp.groupby(by=['country', 'admin']).sum().reset_index()\n",
    "df_admin_samp = df_admin_samp[['country', 'admin', 'esa_sampled_ha', 'esa_total_ha']] \n",
    "df_admin_samp['perc_sampled'] = round((df_admin_samp.esa_sampled_ha / df_admin_samp.esa_total_ha * 100), 2)"
   ]
  },
  {
   "cell_type": "code",
   "execution_count": null,
   "id": "2af7407b",
   "metadata": {},
   "outputs": [],
   "source": [
    "df_admin_samp"
   ]
  },
  {
   "cell_type": "code",
   "execution_count": null,
   "id": "d3d646fe",
   "metadata": {},
   "outputs": [],
   "source": [
    "most_sampled = df_admin_samp.sort_values('perc_sampled', ascending=(False))\n",
    "most_sampled[:10]"
   ]
  },
  {
   "cell_type": "markdown",
   "id": "rising-dispute",
   "metadata": {},
   "source": [
    "### Land Cover Class Breakdown (country scale)\n",
    "What are the most popular land cover classes in a specific country?"
   ]
  },
  {
   "cell_type": "code",
   "execution_count": null,
   "id": "lined-diary",
   "metadata": {},
   "outputs": [],
   "source": [
    "def lcc_country_countplot(country, data, figsize):\n",
    "    \n",
    "    '''\n",
    "    Plots a seaborn countplot of the number of pixels that fall into each land cover class. \n",
    "    First plot is for ESA, second is for IPCC. \n",
    "    '''\n",
    "    \n",
    "    plt.figure(figsize=figsize)\n",
    "\n",
    "    # plot ESA class counta\n",
    "    ax1 = plt.subplot(2,1,1)\n",
    "    sns.countplot(y='esa_class',\n",
    "              data=data,\n",
    "              palette='Greens_r',\n",
    "              order=data.esa_class.value_counts().index,\n",
    "              ax=ax1)\n",
    "    ax1.set_title(f'ESA Land Cover Classes in {country}')\n",
    "    ax1.set_xlabel('Frequency')\n",
    "    ax1.set_ylabel(' ');\n",
    "    \n",
    "    \n",
    "    # plot IPCC class count\n",
    "    ax2 = plt.subplot(2,1,2)\n",
    "    sns.countplot(y='ipcc_class',\n",
    "                  data=data,\n",
    "                  palette='Greens_r',\n",
    "                  order=data.ipcc_class.value_counts().index,\n",
    "                  ax=ax2)\n",
    "    ax2.set_title(f'IPCC Land Cover Classes in {country}')\n",
    "    ax2.set_xlabel('Frequency')\n",
    "    ax2.set_ylabel(' ')\n",
    "    \n",
    "    plt.tight_layout;\n",
    "    \n",
    "    return None"
   ]
  },
  {
   "cell_type": "code",
   "execution_count": null,
   "id": "disciplinary-kelly",
   "metadata": {},
   "outputs": [],
   "source": [
    "lcc_country_countplot('El Salvador', es_above, (10,10))"
   ]
  },
  {
   "cell_type": "code",
   "execution_count": null,
   "id": "toxic-inventory",
   "metadata": {},
   "outputs": [],
   "source": [
    "lcc_country_countplot('San Miguel', san_mig, (10,10))"
   ]
  },
  {
   "cell_type": "markdown",
   "id": "labeled-craft",
   "metadata": {},
   "source": [
    "### Urban Areas: El Salvador\n",
    "What does tree cover look like in the urban land cover class?"
   ]
  },
  {
   "cell_type": "code",
   "execution_count": null,
   "id": "2bbd6f02",
   "metadata": {},
   "outputs": [],
   "source": [
    "# get the sum of ha of tree cover for each 10% threshold\n",
    "es = pd.read_csv('El Salvador/El Salvador_statistics.csv')\n",
    "urban = es[es.esa_id == 190]\n",
    "urban = urban.groupby(by=['admin', 'tree_cover_class']).sum().reset_index()\n",
    "urban = urban[['admin', 'tree_cover_class', 'esa_sampled_ha', 'esa_total_ha', 'tof_ha']]\n",
    "urban_usulutan = urban[urban.admin == 'Usulután']\n",
    "\n",
    "plt.figure(figsize = (8,6))\n",
    "x = ['0-9%','10-19%','20-29%','30-39%','40-49%','50-59%','60-69%','70-79%','80-89%','90-99%']\n",
    "#x = list(sorted(set(urban_usulutan.tree_cover_class)))\n",
    "\n",
    "variance = [15, 20, 4, 12, 4, 5, 10, 6, 8, 10]\n",
    "\n",
    "x_pos = [i for i, _ in enumerate(x)]\n",
    "\n",
    "plt.barh(x_pos, list(urban_usulutan.tof_ha), color='green', xerr=variance)\n",
    "plt.ylabel(\" \")\n",
    "plt.xlabel(\"Total ha\")\n",
    "plt.title(\"Urban Tree Cover by Threshold: Usulután, El Salvador\")\n",
    "\n",
    "plt.yticks(x_pos, x);"
   ]
  },
  {
   "cell_type": "code",
   "execution_count": null,
   "id": "de0ee98e",
   "metadata": {},
   "outputs": [],
   "source": [
    "def urban_trees_admin(tml_filepath, esa_filepath, admin):\n",
    "    \n",
    "    tml = rs.open(tml_filepath).read(1)\n",
    "    esa = rs.open(esa_filepath).read(1)\n",
    "\n",
    "    # mask out no data values for plotting\n",
    "    tml_ma = np.ma.masked_where(tml == 255, tml, copy=True)\n",
    "    esa_ma = np.ma.masked_where(esa == 255, esa, copy=True)\n",
    "\n",
    "    # mask out non-urban land covers\n",
    "    esa_ma_urban = masked_array(esa_ma, esa_ma != 190.) \n",
    "    tml_urban = masked_array(tml_ma, esa_ma != 190.)\n",
    "\n",
    "\n",
    "    plt.figure(figsize=(20,20))\n",
    "    fontsize = 18\n",
    "\n",
    "    # plot admin with urban land cover overlay\n",
    "    plt.subplot(1,3,1)\n",
    "    plt.imshow(tml_ma, cmap='Greens', vmin=0, vmax=100)\n",
    "    plt.imshow(esa_ma_urban, cmap='Reds_r')\n",
    "    plt.title(f'Urban Land Cover in {admin}', fontsize=fontsize)\n",
    "    plt.axis('off')\n",
    "\n",
    "    # plot tree cover in urban land cover class only\n",
    "    plt.subplot(1,3,2)\n",
    "    plt.imshow(tml_urban, cmap='Greens')\n",
    "    plt.title(f'Tree Cover in Urban Areas in {admin}', fontsize=fontsize)\n",
    "    plt.axis('off')\n",
    "\n",
    "    # plot tree cover across admin and binary map for 10% threshold\n",
    "    plt.subplot(1,3,3)\n",
    "    cmap = ListedColormap(['mediumpurple', 'navy'])\n",
    "    norm = colors.BoundaryNorm([0, 10, 50], cmap.N) # .N is count\n",
    "    plt.imshow(tml_ma, cmap='Greens', vmin=0, vmax=100)\n",
    "    binary_map = plt.imshow(tml_urban, cmap=cmap, norm=norm)\n",
    "    plt.title(f\"Tree Cover Above and Below \\n 10% Threshold in {admin}\", fontsize=fontsize)\n",
    "    #plt.colorbar(binary_map, boundaries=bounds, ticks=[0, 10, 100], shrink=0.25)\n",
    "    plt.axis('off')\n",
    "\n",
    "    # add legend\n",
    "    legend_labels = {'navy':'>10% tree cover','mediumpurple':'<10% tree cover'}\n",
    "    patches = [Patch(color=color, label=label)\n",
    "               for color, label in legend_labels.items()]\n",
    "    plt.legend(handles=patches,\n",
    "              bbox_to_anchor=(1.35, 1),\n",
    "              facecolor=\"white\",\n",
    "              fontsize=14)\n",
    "    \n",
    "    # add arrow\n",
    "#     x, y, arrow_length = 0.5, 0.5, 0.1\n",
    "#     plt.annotate('N', \n",
    "#                  xy=(x, y), \n",
    "#                  xytext=(x, y-arrow_length),\n",
    "#                  arrowprops=dict(facecolor='black', width=5, headwidth=15),\n",
    "#                  ha='center', \n",
    "#                  va='center', \n",
    "#                  fontsize=20,\n",
    "#                  xycoords='subfigure pixels')\n",
    "    \n",
    "    plt.tight_layout();\n",
    "    return None"
   ]
  },
  {
   "cell_type": "code",
   "execution_count": null,
   "id": "ad380152",
   "metadata": {},
   "outputs": [],
   "source": [
    "urban_trees_admin('El Salvador/San Salvador.tif', \n",
    "                  'El Salvador/San Salvador_esa.tif', \n",
    "                  'San Salvador')"
   ]
  },
  {
   "cell_type": "code",
   "execution_count": null,
   "id": "241f0072",
   "metadata": {},
   "outputs": [],
   "source": [
    "urban_trees_admin('El Salvador/Usulután.tif', \n",
    "                  'El Salvador/Usulután_esa.tif', \n",
    "                  'Usulután')"
   ]
  },
  {
   "cell_type": "code",
   "execution_count": null,
   "id": "e1976936",
   "metadata": {},
   "outputs": [],
   "source": [
    "urban_trees_admin('El Salvador/La Libertad.tif', \n",
    "                  'El Salvador/La Libertad_esa.tif', \n",
    "                  'La Libertad')"
   ]
  },
  {
   "cell_type": "code",
   "execution_count": null,
   "id": "b14abd99",
   "metadata": {},
   "outputs": [],
   "source": [
    "urban_trees_admin('El Salvador/Morazán.tif', \n",
    "                  'El Salvador/Morazán_esa.tif', \n",
    "                  'Morazán')"
   ]
  },
  {
   "cell_type": "code",
   "execution_count": null,
   "id": "7fca3455",
   "metadata": {},
   "outputs": [],
   "source": []
  },
  {
   "cell_type": "markdown",
   "id": "handled-constant",
   "metadata": {},
   "source": [
    "## IPCC and TML\n",
    "\n",
    "Compare TOF and Hansen tree cover estimates for each ESA and IPCC land cover class. \n",
    "- What do the above thresholds look like for tree cover per IPCC class?\n",
    "- Which land cover classes have the highest mean tree cover according to TOF and Hansen? \n",
    "- Which have the highest number of hectares? "
   ]
  },
  {
   "cell_type": "code",
   "execution_count": null,
   "id": "portuguese-emphasis",
   "metadata": {},
   "outputs": [],
   "source": [
    "def ipcc_means(above_data, figsize, country):\n",
    "    \n",
    "    ipcc_means = above_data[['tof_mean_tc_lc', \n",
    "                             'hans_mean_tc_lc', \n",
    "                             'ipcc_class']].groupby('ipcc_class').mean().reset_index()\n",
    "    \n",
    "    ipcc_means = ipcc_means[(ipcc_means.ipcc_class != 'Wetland') & (ipcc_means.ipcc_class != 'Grassland')]\n",
    "     \n",
    "    plt.figure(figsize=figsize)\n",
    "    width = 0.4\n",
    "    pos1 = np.arange(len(ipcc_means))\n",
    "    pos2 = pos1 + width\n",
    "\n",
    "    plt.subplot(2,2,1)\n",
    "    plt.barh(pos1, ipcc_means['tof_mean_tc_lc'], width, color='sandybrown', edgecolor='white', label='TOF')\n",
    "    plt.barh(pos2, ipcc_means['hans_mean_tc_lc'], width, color='mediumpurple', edgecolor='white', label='Hansen')\n",
    "\n",
    "    plt.xlabel('% Tree Cover')\n",
    "    plt.yticks(pos1 + width / 2, ipcc_means['ipcc_class'].values)\n",
    "\n",
    "    plt.legend()\n",
    "    plt.title(f'Mean % Tree Cover per IPCC Land Cover Class in {country}')\n",
    "    plt.grid(axis='x', linestyle='-', linewidth=.3)"
   ]
  },
  {
   "cell_type": "code",
   "execution_count": null,
   "id": "caroline-passion",
   "metadata": {},
   "outputs": [],
   "source": [
    "ipcc_means(es_above, (13,7), 'El Salvador')"
   ]
  },
  {
   "cell_type": "code",
   "execution_count": null,
   "id": "adapted-browser",
   "metadata": {},
   "outputs": [],
   "source": [
    "ipcc_means(es_above_new, (13,7), 'El Salvador (median bins)')"
   ]
  },
  {
   "cell_type": "code",
   "execution_count": null,
   "id": "clean-version",
   "metadata": {},
   "outputs": [],
   "source": [
    "plt.figure(figsize=(13,7))\n",
    "\n",
    "width = 0.4\n",
    "pos1 = np.arange(len(nic_ipcc_means))\n",
    "pos2 = pos1 + width\n",
    "\n",
    "# Honduras\n",
    "plt.subplot(2,2,1)\n",
    "plt.barh(pos1, hon_ipcc_means['tof_mean_tc_lc'], width, color='sandybrown', edgecolor='white', label='TOF')\n",
    "plt.barh(pos2, hon_ipcc_means['hans_mean_tc_lc'], width, color='mediumpurple', edgecolor='white', label='Hansen')\n",
    " \n",
    "plt.xlabel('% Tree Cover')\n",
    "plt.yticks(pos1 + width / 2, hon_ipcc_means['ipcc_class'].values)\n",
    "\n",
    "plt.legend()\n",
    "plt.title('Mean % Tree Cover per IPCC Land Cover Class in Honduras')\n",
    "plt.grid(axis='x', linestyle='-', linewidth=.3)\n",
    "\n",
    "# Nicaragua\n",
    "plt.subplot(2,2,2)\n",
    "plt.barh(pos1, nic_ipcc_means['tof_mean_tc_lc'], width, color='sandybrown', edgecolor='white', label='TOF')\n",
    "plt.barh(pos2, nic_ipcc_means['hans_mean_tc_lc'], width, color='mediumpurple', edgecolor='white', label='Hansen')\n",
    " \n",
    "plt.xlabel('% Tree Cover')\n",
    "plt.yticks(pos1 + width / 2, nic_ipcc_means['ipcc_class'].values)\n",
    "\n",
    "plt.legend()\n",
    "plt.title('Mean % Tree Cover per IPCC Land Cover Class in Nicaragua')\n",
    "plt.grid(axis='x', linestyle='-', linewidth=.3)\n",
    "\n",
    "\n",
    "# Guatemala\n",
    "plt.subplot(2,2,3)\n",
    "plt.barh(pos1, gua_ipcc_means['tof_mean_tc_lc'], width, color='sandybrown', edgecolor='white', label='TOF')\n",
    "plt.barh(pos2, gua_ipcc_means['hans_mean_tc_lc'], width, color='mediumpurple', edgecolor='white', label='Hansen')\n",
    " \n",
    "plt.xlabel('% Tree Cover')\n",
    "plt.yticks(pos1 + width / 2, gua_ipcc_means['ipcc_class'].values)\n",
    "\n",
    "plt.legend()\n",
    "plt.title('Mean % Tree Cover per IPCC Land Cover Class in Guatemala')\n",
    "plt.grid(axis='x', linestyle='-', linewidth=.3)\n",
    "\n",
    "# Panama\n",
    "plt.subplot(2,2,4)\n",
    "plt.barh(pos1, pan_ipcc_means['tof_mean_tc_lc'], width, color='sandybrown', edgecolor='white', label='TOF')\n",
    "plt.barh(pos2, pan_ipcc_means['hans_mean_tc_lc'], width, color='mediumpurple', edgecolor='white', label='Hansen')\n",
    " \n",
    "plt.xlabel('% Tree Cover')\n",
    "plt.yticks(pos1 + width / 2, pan_ipcc_means['ipcc_class'].values)\n",
    "\n",
    "plt.legend()\n",
    "plt.title('Mean % Tree Cover per IPCC Land Cover Class in Panama')\n",
    "plt.grid(axis='x', linestyle='-', linewidth=.3)\n",
    "plt.tight_layout()"
   ]
  },
  {
   "cell_type": "markdown",
   "id": "ac8e9e78",
   "metadata": {},
   "source": [
    "## IPCC and TML vs Hansen"
   ]
  },
  {
   "cell_type": "markdown",
   "id": "chinese-wholesale",
   "metadata": {},
   "source": [
    "### Above IPCC Thresholds"
   ]
  },
  {
   "cell_type": "code",
   "execution_count": null,
   "id": "everyday-plumbing",
   "metadata": {},
   "outputs": [],
   "source": [
    "def above_thresholds_ipcc(data): # takes in the country_above dataframe\n",
    "    \n",
    "    plt.figure(figsize=(15,12))\n",
    "\n",
    "    # prepare the dataframes: groupby IPCC class, sum the total ha\n",
    "    above_tof = data.drop(columns=[col for col in data.columns if col.startswith('hans')] + ['esa_id','tof_mean_tc_lc'])\n",
    "    above_tof = above_tof.groupby('ipcc_class').sum().T.reset_index()\n",
    "    \n",
    "    above_hans = data.drop(columns=[col for col in data.columns if col.startswith('tof')] + ['esa_id','hans_mean_tc_lc'])\n",
    "    above_hans = above_hans.groupby('ipcc_class').sum().T.reset_index()\n",
    "\n",
    "    # format bars\n",
    "    width = 0.4\n",
    "    pos1 = np.arange(len(above_tof))\n",
    "    pos2 = pos1 + width\n",
    "    labels = ['>10%', '>20%', '>30%', '>40%', '>50%','>60%', '>70%', '>80%', '>90%']\n",
    "\n",
    "    # Forest\n",
    "    plt.subplot(2,2,1)\n",
    "    plt.barh(pos1, above_tof['Forest'], width, color='dodgerblue', edgecolor='white', label='TOF')\n",
    "    plt.barh(pos2, above_hans['Forest'], width, color='darkred', edgecolor='white', label='Hansen')\n",
    "\n",
    "    plt.xlabel('Number of Hectares')\n",
    "    plt.yticks(pos1 + width / 2, labels)\n",
    "    plt.title('Tree Cover Thresholds for IPCC Forest Class')\n",
    "    plt.grid(axis='x', linestyle='-', linewidth=.3)\n",
    "\n",
    "    # Other\n",
    "    plt.subplot(2,2,2)\n",
    "    plt.barh(pos1, above_tof['Other'], width, color='dodgerblue', edgecolor='white', label='TOF')\n",
    "    plt.barh(pos2, above_hans['Other'], width, color='darkred', edgecolor='white', label='Hansen')\n",
    "\n",
    "    plt.xlabel('Number of Hectares')\n",
    "    plt.yticks(pos1 + width / 2, labels)\n",
    "    plt.title('Tree Cover Thresholds for IPCC Other Class')\n",
    "    plt.grid(axis='x', linestyle='-', linewidth=.3)\n",
    "\n",
    "    # Settlement\n",
    "    plt.subplot(2,2,3)\n",
    "    plt.barh(pos1, above_tof['Settlement'], width, color='dodgerblue', edgecolor='white', label='TOF')\n",
    "    plt.barh(pos2, above_hans['Settlement'], width, color='darkred', edgecolor='white', label='Hansen')\n",
    "\n",
    "    plt.xlabel('Number of Hectares')\n",
    "    plt.yticks(pos1 + width / 2, labels)\n",
    "    plt.title('Tree Cover Thresholds for IPCC Settlement Class')\n",
    "    plt.grid(axis='x', linestyle='-', linewidth=.3)\n",
    "\n",
    "    # Agriculture\n",
    "    plt.subplot(2,2,4)\n",
    "    plt.barh(pos1, above_tof['Agriculture'], width, color='dodgerblue', edgecolor='white', label='TOF')\n",
    "    plt.barh(pos2, above_hans['Agriculture'], width, color='darkred', edgecolor='white', label='Hansen')\n",
    "\n",
    "    plt.xlabel('Number of Hectares')\n",
    "    plt.yticks(pos1 + width / 2, labels)\n",
    "    plt.title('Tree Cover Thresholds for IPCC Agriculture Class')\n",
    "    plt.grid(axis='x', linestyle='-', linewidth=.3)\n",
    "    plt.legend();\n",
    "    \n",
    "    return None"
   ]
  },
  {
   "cell_type": "code",
   "execution_count": null,
   "id": "satisfactory-plymouth",
   "metadata": {},
   "outputs": [],
   "source": [
    "above_thresholds_ipcc(gua_above)"
   ]
  },
  {
   "cell_type": "markdown",
   "id": "later-culture",
   "metadata": {},
   "source": [
    "These charts illustrate the total number of hectares of tree cover over 10% increments for Hansen and TOF data. Total hectares are aggregated by IPCC land cover type across all the admin districts in a country. Specifically, this section looks at the comparisons by Forest, Agriculture, Other and Settlement IPCC land cover classes (not pictured: Grassland and Wetland)."
   ]
  },
  {
   "cell_type": "code",
   "execution_count": null,
   "id": "existing-victim",
   "metadata": {},
   "outputs": [],
   "source": [
    "# sum num hectares in each threshold to see totals by IPCC class for Costa Rica\n",
    "cr_ipcc_sums = cr_above.drop(columns=['esa_id', 'tof_mean_tc_lc', 'hans_mean_tc_lc']).groupby('ipcc_class').sum().reset_index()\n",
    "cr_ipcc_sums"
   ]
  },
  {
   "cell_type": "code",
   "execution_count": null,
   "id": "naughty-green",
   "metadata": {},
   "outputs": [],
   "source": [
    "cr_above_tof = cr_above.drop(columns=[col for col in cr_above.columns if col.startswith('hans')] + ['esa_id','tof_mean_tc_lc'])\n",
    "cr_above_tof = cr_above_tof.groupby('ipcc_class').sum().T.reset_index()"
   ]
  },
  {
   "cell_type": "code",
   "execution_count": null,
   "id": "sitting-graphics",
   "metadata": {},
   "outputs": [],
   "source": [
    "cr_above_hans = cr_above.drop(columns=[col for col in cr_above.columns if col.startswith('tof')] + ['esa_id','hans_mean_tc_lc'])\n",
    "cr_above_hans = cr_above_hans.groupby('ipcc_class').sum().T.reset_index()"
   ]
  },
  {
   "cell_type": "code",
   "execution_count": null,
   "id": "arctic-explosion",
   "metadata": {},
   "outputs": [],
   "source": [
    "mean_per_ipcc = landcover[['tof_mean_tc', \n",
    "                           'hansen_mean_tc', \n",
    "                           'ipcc_class']].groupby('ipcc_class').mean().reset_index()\n",
    "plt.figure(figsize=(8,6))\n",
    "\n",
    "width = 0.4\n",
    "pos1 = np.arange(len(mean_per_ipcc))\n",
    "pos2 = pos1 + width\n",
    "\n",
    "plt.barh(pos1, mean_per_ipcc['tof_mean_tc'], width, color='dodgerblue', edgecolor='white', label='TOF')\n",
    "plt.barh(pos2, mean_per_ipcc['hansen_mean_tc'], width, color='darkred', edgecolor='white', label='Hansen')\n",
    " \n",
    "plt.xlabel('% Tree Cover')\n",
    "plt.yticks(pos1 + width / 2, mean_per_ipcc['ipcc_class'].values)\n",
    "\n",
    "plt.legend()\n",
    "plt.title('Mean Percent Tree Cover per IPCC Land Cover Classes')\n",
    "plt.grid(axis='x', linestyle='-', linewidth=.3);\n"
   ]
  },
  {
   "cell_type": "code",
   "execution_count": null,
   "id": "unknown-reduction",
   "metadata": {},
   "outputs": [],
   "source": [
    "ha_per_ipcc = landcover[['tof_total_ha', \n",
    "                        'hansen_total_ha', \n",
    "                        'ipcc_class']].groupby('ipcc_class').sum().reset_index()\n",
    "\n",
    "plt.figure(figsize=(13,5))\n",
    "\n",
    "width = 0.4\n",
    "pos1 = np.arange(len(ha_per_ipcc))\n",
    "pos2 = pos1 + width\n",
    "\n",
    "plt.barh(pos1, ha_per_ipcc['tof_total_ha'], width, color='dodgerblue', edgecolor='white', label='TOF')\n",
    "plt.barh(pos2, ha_per_ipcc['hansen_total_ha'], width, color='darkred', edgecolor='white', label='Hansen')\n",
    " \n",
    "plt.xlabel('Tree Cover (ha)')\n",
    "plt.yticks(pos1 + width / 2, ha_per_ipcc['ipcc_class'].values)\n",
    "\n",
    "plt.legend()\n",
    "plt.title('Total Hectares Tree Cover per IPCC Land Cover Classes')\n",
    "plt.grid(axis='x', linestyle='-', linewidth=.3);\n"
   ]
  },
  {
   "cell_type": "code",
   "execution_count": null,
   "id": "finnish-spotlight",
   "metadata": {},
   "outputs": [],
   "source": [
    "ha_per_lc = landcover[['tof_total_ha', \n",
    "                       'hansen_total_ha', \n",
    "                       'lc_class']].groupby('lc_class').sum().sort_values('tof_total_ha').reset_index()\n",
    "\n",
    "mean_per_lc = landcover[['tof_mean_tc', \n",
    "                       'hansen_mean_tc', \n",
    "                       'lc_class']].groupby('lc_class').mean().sort_values('tof_mean_tc').reset_index()"
   ]
  },
  {
   "cell_type": "code",
   "execution_count": null,
   "id": "affecting-wisdom",
   "metadata": {},
   "outputs": [],
   "source": [
    "plt.figure(figsize=(10,8))\n",
    "\n",
    "width = 0.4\n",
    "pos1 = np.arange(len(mean_per_lc))\n",
    "pos2 = pos1 + width\n",
    "\n",
    "plt.barh(pos1, mean_per_lc['tof_mean_tc'], width, color='dodgerblue', edgecolor='white', label='TOF')\n",
    "plt.barh(pos2, mean_per_lc['hansen_mean_tc'], width, color='darkred', edgecolor='white', label='Hansen')\n",
    " \n",
    "plt.xlabel('% Tree Cover')\n",
    "plt.yticks(pos1 + width / 2, mean_per_lc['lc_class'].values)\n",
    "\n",
    "plt.legend()\n",
    "plt.title('Mean Percent Tree Cover per Land Cover Class')\n",
    "plt.grid(axis='x', linestyle='-', linewidth=.3);"
   ]
  },
  {
   "cell_type": "code",
   "execution_count": null,
   "id": "functional-mouse",
   "metadata": {},
   "outputs": [],
   "source": [
    "plt.figure(figsize=(10,8))\n",
    "\n",
    "width = 0.4\n",
    " \n",
    "# Set position of bar on X axis\n",
    "pos1 = np.arange(len(ha_per_lc))\n",
    "pos2 = pos1 + width\n",
    "\n",
    "plt.barh(pos1, ha_per_lc['tof_total_ha'], width, color='dodgerblue', edgecolor='white', label='TOF')\n",
    "plt.barh(pos2, ha_per_lc['hansen_total_ha'], width, color='darkred', edgecolor='white', label='Hansen')\n",
    " \n",
    "# Add xticks on the middle of the group bars\n",
    "plt.xlabel('Tree Cover (ha)')\n",
    "plt.yticks(pos1 + width / 2, ha_per_lc['lc_class'].values)\n",
    " \n",
    "# Create legend & Show graphic\n",
    "plt.legend()\n",
    "plt.title('Total Hectares of Tree Cover per Land Cover Class')\n",
    "plt.grid(axis='x', linestyle='-', linewidth=.3);"
   ]
  },
  {
   "cell_type": "code",
   "execution_count": null,
   "id": "filled-melbourne",
   "metadata": {},
   "outputs": [],
   "source": [
    "# zoom in on land categories with smaller count\n",
    "\n",
    "plt.figure(figsize=(10,8))\n",
    "\n",
    "width = 0.4\n",
    " \n",
    "# Set position of bar on X axis\n",
    "pos1 = np.arange(0,7)\n",
    "pos2 = pos1 + width\n",
    "\n",
    "plt.barh(pos1, ha_per_lc['tof_total_ha'][:7], width, color='dodgerblue', edgecolor='white', label='TOF')\n",
    "plt.barh(pos2, ha_per_lc['hansen_total_ha'][:7], width, color='darkred', edgecolor='white', label='Hansen')\n",
    " \n",
    "# Add xticks on the middle of the group bars\n",
    "plt.xlabel('Tree Cover (ha)')\n",
    "plt.yticks(pos1 + width / 2, ha_per_lc['lc_class'].values[:7])\n",
    " \n",
    "# Create legend & Show graphic\n",
    "plt.legend()\n",
    "plt.title('Total Hectares of Tree Cover per Land Cover Class (<700ha)')\n",
    "plt.grid(axis='x', linestyle='-', linewidth=.2);"
   ]
  },
  {
   "cell_type": "markdown",
   "id": "87a3f228",
   "metadata": {},
   "source": [
    "### Urban\n",
    "What does tree cover look like in the urban land cover class?"
   ]
  },
  {
   "cell_type": "code",
   "execution_count": null,
   "id": "0b4f14f0",
   "metadata": {},
   "outputs": [],
   "source": [
    "# get the sum of ha of tree cover for each 10% threshold\n",
    "es = pd.read_csv('El Salvador/El Salvador_statistics.csv')\n",
    "urban = es[es.esa_id == 190]\n",
    "urban = urban.groupby(by=['admin', 'tree_cover_class']).sum().reset_index()\n",
    "urban = urban[['admin', 'tree_cover_class', 'esa_sampled_ha', 'esa_total_ha', 'tof_ha']]\n",
    "urban_usulutan = urban[urban.admin == 'Usulután']\n",
    "\n",
    "plt.figure(figsize = (8,6))\n",
    "x = ['0-9%','10-19%','20-29%','30-39%','40-49%','50-59%','60-69%','70-79%','80-89%','90-99%']\n",
    "#x = list(sorted(set(urban_usulutan.tree_cover_class)))\n",
    "\n",
    "variance = [15, 20, 4, 12, 4, 5, 10, 6, 8, 10]\n",
    "\n",
    "x_pos = [i for i, _ in enumerate(x)]\n",
    "\n",
    "plt.barh(x_pos, list(urban_usulutan.tof_ha), color='green', xerr=variance)\n",
    "plt.ylabel(\" \")\n",
    "plt.xlabel(\"Total ha\")\n",
    "plt.title(\"Urban Tree Cover by Threshold: Usulután, El Salvador\")\n",
    "\n",
    "plt.yticks(x_pos, x);"
   ]
  },
  {
   "cell_type": "markdown",
   "id": "outer-stephen",
   "metadata": {},
   "source": [
    "### Which cities have the most urban tree cover?"
   ]
  },
  {
   "cell_type": "code",
   "execution_count": null,
   "id": "listed-taxation",
   "metadata": {},
   "outputs": [],
   "source": [
    "def top_5_cities(data, figsize, barwidth): # data is above or between dataframe\n",
    "    \n",
    "    # filter the dataframe to top 5 cities with highest tof avg\n",
    "    settlement = data[data.ipcc_class == 'Settlement'].sort_values('tof_mean_tc_lc', ascending=False)[:5]\n",
    "    \n",
    "    labels = settlement.admin\n",
    "    x = np.arange(len(labels))  \n",
    "    width = barwidth  \n",
    "    \n",
    "    plt.figure(figsize=figsize)\n",
    "    plt.bar(x - width/2, settlement.tof_mean_tc_lc, width, label='TOF', color='navy', edgecolor='white')\n",
    "    plt.bar(x + width/2, settlement.hans_mean_tc_lc, width, label='Hansen', color='darkred', edgecolor='white')\n",
    "\n",
    "    plt.title('Top 5 Cities with Highest Avg % Tree Cover (TOF)')\n",
    "    plt.ylabel('% Tree Cover')    \n",
    "    plt.xticks(x, labels=labels, rotation=60)\n",
    "    plt.grid(axis='y', linestyle='-', linewidth=.2)\n",
    "    plt.legend()\n",
    "    plt.tight_layout()\n",
    "    \n",
    "    return None"
   ]
  },
  {
   "cell_type": "code",
   "execution_count": null,
   "id": "independent-render",
   "metadata": {},
   "outputs": [],
   "source": [
    "top_5_cities(es_above, (9,7), 0.35)"
   ]
  },
  {
   "cell_type": "code",
   "execution_count": null,
   "id": "thrown-seeking",
   "metadata": {},
   "outputs": [],
   "source": [
    "# filter the dataframe to top 5 cities with highest tof avg\n",
    "ag = gua_above[gua_above.ipcc_class == 'Agriculture'].sort_values('tof_mean_tc_lc', ascending=False)[:10]\n",
    "\n",
    "labels = ag.admin\n",
    "x = np.arange(len(labels))  \n",
    "width = .35  \n",
    "\n",
    "plt.figure(figsize=(9,7))\n",
    "plt.bar(x - width/2, ag.tof_mean_tc_lc, width, label='TOF', color='navy', edgecolor='white')\n",
    "plt.bar(x + width/2, ag.hans_mean_tc_lc, width, label='Hansen', color='darkred', edgecolor='white')\n",
    "\n",
    "plt.title('Trees in Ag Areas in Guatemala')\n",
    "plt.ylabel('% Tree Cover')    \n",
    "plt.xticks(x, labels=labels, rotation=60)\n",
    "plt.grid(axis='y', linestyle='-', linewidth=.2)\n",
    "plt.legend()\n",
    "plt.tight_layout()"
   ]
  },
  {
   "cell_type": "markdown",
   "id": "a29c6a6f",
   "metadata": {},
   "source": [
    "### Agriculture\n",
    "What does tree cover look like in the urban land cover class?"
   ]
  },
  {
   "cell_type": "code",
   "execution_count": null,
   "id": "continuous-semiconductor",
   "metadata": {},
   "outputs": [],
   "source": [
    "plt.figure(figsize = (8,6))\n",
    "x = ['0-20%', '20-40%', '40-60%', '60-80%', '80-100%']\n",
    "totals = [gua_ag.tof_0_20.sum(),\n",
    "          gua_ag.tof_20_40.sum(),\n",
    "          gua_ag.tof_40_60.sum(),\n",
    "          gua_ag.tof_60_80.sum(),\n",
    "          gua_ag.tof_80_100.sum()]\n",
    "\n",
    "variance = [25000, 20000, 74000, 92000, 45000]\n",
    "\n",
    "x_pos = [i for i, _ in enumerate(x)]\n",
    "\n",
    "plt.barh(x_pos, totals, color='green', xerr=variance)\n",
    "plt.ylabel(\" \")\n",
    "plt.xlabel(\"Total ha\")\n",
    "plt.title(\"Tree Cover in Agriculture in Guatemala\")\n",
    "\n",
    "plt.yticks(x_pos, x)\n",
    "\n",
    "plt.show()"
   ]
  },
  {
   "cell_type": "markdown",
   "id": "parliamentary-illinois",
   "metadata": {},
   "source": [
    "### Total Hectares per Class: Hansen v TOF\n",
    "What does the distribution look like across all land cover classes?"
   ]
  },
  {
   "cell_type": "code",
   "execution_count": null,
   "id": "planned-offering",
   "metadata": {},
   "outputs": [],
   "source": [
    "# All land cover classes \n",
    "fig, ax = plt.subplots(figsize=(12,10))\n",
    "\n",
    "sns.scatterplot(x='tof_total_ha', \n",
    "               y='hansen_total_ha', \n",
    "               data=landcover, \n",
    "               hue='lc_class',\n",
    "               marker='x',\n",
    "               s=30,\n",
    "               palette=colors,\n",
    "               ax=ax)\n",
    "ax.set(xlim=(0, 8000), ylim=(0, 8000))\n",
    "ax.plot(np.arange(0.001, 8000, 1), color='grey', linewidth=.2)\n",
    "ax.set_title('Hectares of Tree Cover per Land Cover Class')\n",
    "ax.set_xlabel('TOF total hectares')\n",
    "ax.set_ylabel('Hansen total hectares')\n",
    "\n",
    "\n",
    "plt.legend(bbox_to_anchor=(1.0, 1), title='ESA Land Cover Class');"
   ]
  },
  {
   "cell_type": "code",
   "execution_count": null,
   "id": "periodic-proposal",
   "metadata": {},
   "outputs": [],
   "source": [
    "under500 = landcover[(landcover.tof_total_ha <= 500) & (landcover.hansen_total_ha <= 500)]\n",
    "under2k = landcover[(landcover.tof_total_ha <= 2000) & (landcover.hansen_total_ha <= 2000)]"
   ]
  },
  {
   "cell_type": "code",
   "execution_count": null,
   "id": "departmental-pitch",
   "metadata": {},
   "outputs": [],
   "source": [
    "# All land cover classes for obs <2000ha\n",
    "fig, ax = plt.subplots(figsize=(12,10))\n",
    "\n",
    "sns.scatterplot(x='tof_total_ha', \n",
    "               y='hansen_total_ha', \n",
    "               data=under2k, \n",
    "               hue='lc_class',\n",
    "               marker='x',\n",
    "               s=30,\n",
    "               palette=colors,\n",
    "               ax=ax)\n",
    "ax.set(xlim=(0, 2000), ylim=(0, 2000))\n",
    "ax.plot(np.arange(0.001, 3000, 1), color='grey', linewidth=.2)\n",
    "ax.set_title('Hectares of Tree Cover per Land Cover Class (obs <2000ha)')\n",
    "ax.set_xlabel('TOF total hectares')\n",
    "ax.set_ylabel('Hansen total hectares')\n",
    "\n",
    "\n",
    "plt.legend(bbox_to_anchor=(1.0, 1), title='ESA Land Cover Class');"
   ]
  },
  {
   "cell_type": "code",
   "execution_count": null,
   "id": "acknowledged-airplane",
   "metadata": {},
   "outputs": [],
   "source": [
    "# All land cover classes for obs <500ha\n",
    "fig, ax = plt.subplots(figsize=(12,10))\n",
    "\n",
    "sns.scatterplot(x='tof_total_ha', \n",
    "               y='hansen_total_ha', \n",
    "               data=under500, \n",
    "               hue='lc_class',\n",
    "               marker='x',\n",
    "               s=30,\n",
    "               palette=colors,\n",
    "               ax=ax)\n",
    "ax.set(xlim=(0, 500), ylim=(0, 500))\n",
    "ax.plot(np.arange(0.001, 500, 1), color='grey', linewidth=.2)\n",
    "ax.set_title('Hectares of Tree Cover per Land Cover Class (obs <500ha)')\n",
    "ax.set_xlabel('TOF total hectares')\n",
    "ax.set_ylabel('Hansen total hectares')\n",
    "\n",
    "plt.legend(bbox_to_anchor=(1.0, 1), title='ESA Land Cover Class');"
   ]
  },
  {
   "cell_type": "code",
   "execution_count": null,
   "id": "equal-hepatitis",
   "metadata": {},
   "outputs": [],
   "source": [
    "# El Salvador: total ha >10% cover per IPCC class\n",
    "\n",
    "forest = es_above[es_above.ipcc_class == 'Forest']\n",
    "agriculture = es_above[es_above.ipcc_class == 'Agriculture']\n",
    "settlement = es_above[es_above.ipcc_class == 'Settlement']\n",
    "grassland = es_above[es_above.ipcc_class == 'Grassland']\n",
    "wetland = es_above[es_above.ipcc_class == 'Wetland']\n",
    "other = es_above[es_above.ipcc_class == 'Other']\n",
    "\n",
    "plt.figure(figsize=(14,14))\n",
    "\n",
    "ax1 = plt.subplot(3,2,1)\n",
    "sns.scatterplot(x='tof_10+', \n",
    "               y='hans_10+', \n",
    "               data=forest, \n",
    "               hue='esa_class',\n",
    "               marker='x',\n",
    "               s=30,\n",
    "               #palette=colors[:5],\n",
    "               ax=ax1,\n",
    "               legend=False)\n",
    "ax1.set(xlim=(0, 20000), ylim=(0, 20000))\n",
    "ax1.plot(np.arange(0.001, 20000, 1), color='grey', linewidth=.2)\n",
    "ax1.set_title('Total ha with >10% cover IPCC Forest Class')\n",
    "ax1.set_xlabel('TOF total ha')\n",
    "ax1.set_ylabel('Hansen total ha')\n",
    "\n",
    "ax2 = plt.subplot(3,2,2)\n",
    "sns.scatterplot(x='tof_10+', \n",
    "               y='hans_10+', \n",
    "               data=agriculture, \n",
    "               hue='esa_class',\n",
    "               marker='x',\n",
    "               s=30,\n",
    "               #palette=colors[4:8],\n",
    "               ax=ax2,\n",
    "               legend=False)\n",
    "ax2.set(xlim=(0, 12000), ylim=(0, 12000))\n",
    "ax2.plot(np.arange(0.001, 12000, 1), color='grey', linewidth=.2)\n",
    "ax2.set_title('Total ha with >10% cover IPCC Agriculture Class')\n",
    "ax2.set_xlabel('TOF total ha')\n",
    "ax2.set_ylabel('Hansen total ha')\n",
    "\n",
    "\n",
    "ax3 = plt.subplot(3,2,3)\n",
    "sns.scatterplot(x='tof_10+', \n",
    "               y='hans_10+', \n",
    "               data=settlement, \n",
    "               hue='esa_class',\n",
    "               marker='x',\n",
    "               s=30,\n",
    "               #palette=colors[8:9],\n",
    "               ax=ax3,\n",
    "               legend=False)\n",
    "ax3.set(xlim=(0, 4000), ylim=(0, 4000))\n",
    "ax3.plot(np.arange(0.001, 4000, 1), color='grey', linewidth=.2)\n",
    "ax3.set_title('Total ha with >10% cover IPCC Settlement Class')\n",
    "ax3.set_xlabel('TOF total ha')\n",
    "ax3.set_ylabel('Hansen total ha')\n",
    "\n",
    "ax4 = plt.subplot(3,2,4)\n",
    "sns.scatterplot(x='tof_10+', \n",
    "               y='hans_10+', \n",
    "               data=grassland, \n",
    "               hue='esa_class',\n",
    "               marker='x',\n",
    "               s=30,\n",
    "               #palette=colors[9:11],\n",
    "               ax=ax4,\n",
    "               legend=False)\n",
    "ax4.set(xlim=(0, 300), ylim=(0, 300))\n",
    "ax4.plot(np.arange(0.001, 1000, 1), color='grey', linewidth=.2)\n",
    "ax4.set_title('Total ha with >10% cover IPCC Grassland Class')\n",
    "ax4.set_xlabel('TOF total ha')\n",
    "ax4.set_ylabel('Hansen total ha')\n",
    "\n",
    "ax5 = plt.subplot(3,2,5)\n",
    "sns.scatterplot(x='tof_10+', \n",
    "               y='hans_10+', \n",
    "               data=wetland, \n",
    "               hue='esa_class',\n",
    "               marker='x',\n",
    "               s=30,\n",
    "               #palette=colors[11:12],\n",
    "               ax=ax5,\n",
    "               legend=False)\n",
    "ax5.set(xlim=(0, 100), ylim=(0, 100))\n",
    "ax5.plot(np.arange(0.001, 100, 1), color='grey', linewidth=.2)\n",
    "ax5.set_title('Total ha with >10% cover IPCC Wetland Class')\n",
    "ax5.set_xlabel('TOF total ha')\n",
    "ax5.set_ylabel('Hansen total ha')\n",
    "\n",
    "ax6 = plt.subplot(3,2,6)\n",
    "sns.scatterplot(x='tof_10+', \n",
    "               y='hans_10+', \n",
    "               data=other, \n",
    "               hue='esa_class',\n",
    "               marker='x',\n",
    "               s=30,\n",
    "               #palette=colors[12:],\n",
    "               ax=ax6,\n",
    "               legend=False)\n",
    "ax6.set(xlim=(0, 6000), ylim=(0, 6000))\n",
    "ax6.plot(np.arange(0.001, 6000, 1), color='grey', linewidth=.2)\n",
    "ax6.set_title('Total ha for IPCC Other Class')\n",
    "ax6.set_xlabel('TOF total ha')\n",
    "ax6.set_ylabel('Hansen total ha')\n",
    "\n",
    "# handles, labels = ax1.get_legend_handles_labels()\n",
    "# fig.legend(handles, labels, loc='upper center')\n",
    "plt.tight_layout();\n"
   ]
  },
  {
   "cell_type": "code",
   "execution_count": null,
   "id": "celtic-therapy",
   "metadata": {},
   "outputs": [],
   "source": [
    "plt.figure(figsize=(16,10))\n",
    "opico_esa = rs.open('El Salvador/clipped_rasters/esa/Opico.tif').read(1)\n",
    "opico = landcover[landcover.jurisdiction == 'Opico']\n",
    "\n",
    "\n",
    "ax1 = plt.subplot(1,2,1)\n",
    "\n",
    "width = 0.4\n",
    "pos1 = np.arange(len(opico))\n",
    "pos2 = pos1 + width\n",
    "\n",
    "ax1.barh(pos1, opico['tof_mean_tc'], width, color='dodgerblue', edgecolor='white', label='TOF')\n",
    "ax1.barh(pos2, opico['hansen_mean_tc'], width, color='darkred', edgecolor='white', label='Hansen')\n",
    " \n",
    "plt.xlabel('% Tree Cover')\n",
    "plt.yticks(pos1 + width / 2, opico['lc_class'].values)\n",
    "\n",
    "plt.legend()\n",
    "ax1.set_title('Mean Percent Tree Cover per Land Cover Class in Opico')\n",
    "plt.grid(axis='x', linestyle='-', linewidth=.3)\n",
    "\n",
    "ax2 = plt.subplot(1,2,2)\n",
    "ax2.imshow(opico_esa, cmap='Paired', vmin=0, vmax=100)\n",
    "ax2.set_title('Land Cover Classes in Opico');\n"
   ]
  },
  {
   "cell_type": "markdown",
   "id": "dressed-marijuana",
   "metadata": {},
   "source": [
    "# Comparison with Hansen et al (2013)\n",
    "_IN PROGRESS_"
   ]
  },
  {
   "cell_type": "markdown",
   "id": "successful-madonna",
   "metadata": {},
   "source": [
    "### Compare # ha in the 0-20% tree cover threshold"
   ]
  },
  {
   "cell_type": "code",
   "execution_count": null,
   "id": "indie-heritage",
   "metadata": {},
   "outputs": [],
   "source": [
    "def h_groupedbar(bar_tof, bar_han, figsize, barwidth, labels, title, xlabel):\n",
    "    \n",
    "    '''\n",
    "    Plots a horizontal grouped bar chart comparing Hansen (red) and TOF (blue) \n",
    "    estimates of the total number of hectares of land that fall into different\n",
    "    tree cover thresholds.\n",
    "    '''\n",
    "    \n",
    "    #ylabels = labels\n",
    "    y = np.arange(len(labels))\n",
    "    width = barwidth\n",
    "\n",
    "    plt.figure(figsize=figsize)\n",
    "    plt.barh(y - width/2, bar_tof, width, label='TOF', color='dodgerblue', edgecolor='white')\n",
    "    plt.barh(y + width/2, bar_han, width, label='Hansen', color='orangered', edgecolor='white')\n",
    "\n",
    "    plt.title(title)\n",
    "    plt.xlabel(xlabel)\n",
    "    plt.yticks(y + width / 2, labels=labels)\n",
    "    plt.grid(axis='x', linestyle='-', linewidth=.2)\n",
    "    plt.legend()\n",
    "    plt.tight_layout()\n",
    "    \n",
    "    return None"
   ]
  },
  {
   "cell_type": "code",
   "execution_count": null,
   "id": "verbal-workshop",
   "metadata": {},
   "outputs": [],
   "source": [
    "h_groupedbar(cr.tof_0_20, \n",
    "             cr.hans_0_20, \n",
    "             (7,5), \n",
    "             .35, \n",
    "             cr.admin, \n",
    "             '# of Hectares with 0-20% tree cover in Costa Rica', \n",
    "             '# ha')"
   ]
  },
  {
   "cell_type": "code",
   "execution_count": null,
   "id": "offensive-pursuit",
   "metadata": {},
   "outputs": [],
   "source": [
    "h_groupedbar(es.tof_20_40, \n",
    "             es.hans_20_40, \n",
    "             (7,5), \n",
    "             .37, \n",
    "             es.admin, \n",
    "             '20-40% tree cover threshold in El Salvador', \n",
    "             '# ha')"
   ]
  },
  {
   "cell_type": "code",
   "execution_count": null,
   "id": "revolutionary-question",
   "metadata": {},
   "outputs": [],
   "source": [
    "# Panama\n",
    "h_groupedbar(pan.tof_0_20, \n",
    "             pan.hans_0_20, \n",
    "             (7,5), \n",
    "             .35, \n",
    "             pan.admin, \n",
    "             '# of Hectares with 0-20% tree cover in Panama', \n",
    "             '# ha')"
   ]
  },
  {
   "cell_type": "code",
   "execution_count": null,
   "id": "musical-color",
   "metadata": {},
   "outputs": [],
   "source": [
    "h_groupedbar(gua.tof_0_20, \n",
    "             gua.hans_0_20, \n",
    "             (7,5), \n",
    "             .35, \n",
    "             gua.admin, \n",
    "             '# of Hectares with 0-20% tree cover in Guatemala', \n",
    "             '# ha')"
   ]
  },
  {
   "cell_type": "code",
   "execution_count": null,
   "id": "martial-mobility",
   "metadata": {},
   "outputs": [],
   "source": [
    "h_groupedbar(hon.tof_0_20, \n",
    "             hon.hans_0_20, \n",
    "             (7,5), \n",
    "             .35, \n",
    "             hon.admin, \n",
    "             '# of Hectares with 0-20% tree cover in Honduras', \n",
    "             '# ha')"
   ]
  },
  {
   "cell_type": "markdown",
   "id": "2016f1d0",
   "metadata": {},
   "source": [
    "## Old Visuals"
   ]
  },
  {
   "cell_type": "markdown",
   "id": "marked-creature",
   "metadata": {},
   "source": [
    "### Average % tree cover per admin\n",
    "The vertical grouped bar charts compare Hansen (red) and TOF (blue) mean tree cover estimates per admin 1 boundary for a given country. This will give us a general comparison, indicate errors if we see zero tree cover, and illustrates the need to mosaic Hansen and TOF data together at some point."
   ]
  },
  {
   "cell_type": "code",
   "execution_count": null,
   "id": "cutting-allen",
   "metadata": {},
   "outputs": [],
   "source": [
    "def v_groupedbar_mean(bar_tof, bar_han, figsize, barwidth, labels, title):\n",
    "    \n",
    "    '''\n",
    "    Plots a vertical grouped bar chart comparing Hansen (red) and TOF (blue) \n",
    "    mean tree cover estimates per admin 1 boundary for a given country. \n",
    "    '''\n",
    "    \n",
    "    #xlabels = labels\n",
    "    x = np.arange(len(labels))  \n",
    "    width = barwidth  \n",
    "\n",
    "    plt.figure(figsize=figsize)\n",
    "    plt.bar(x - width/2, bar_tof, width, label='TOF', color='navy', edgecolor='white')\n",
    "    plt.bar(x + width/2, bar_han, width, label='Hansen', color='darkred', edgecolor='white')\n",
    "\n",
    "    plt.title(title)\n",
    "    plt.ylabel('% Tree Cover')\n",
    "    plt.xlabel('Admin')\n",
    "    plt.xticks(x, labels=labels, rotation=60)\n",
    "    plt.grid(axis='y', linestyle='-', linewidth=.2)\n",
    "    plt.legend()\n",
    "    plt.tight_layout()\n",
    "    \n",
    "    return None"
   ]
  },
  {
   "cell_type": "code",
   "execution_count": null,
   "id": "exciting-promise",
   "metadata": {},
   "outputs": [],
   "source": [
    "v_groupedbar_mean(hon.tof_mean_tc, \n",
    "                  hon.hans_mean_tc, \n",
    "                  (9,5), \n",
    "                  0.35, \n",
    "                  list(hon.admin), \n",
    "                  'Avg % Tree Cover for Admin Districts in Honduras')"
   ]
  },
  {
   "cell_type": "code",
   "execution_count": null,
   "id": "growing-commission",
   "metadata": {},
   "outputs": [],
   "source": [
    "v_groupedbar_mean(gua.tof_mean_tc, \n",
    "                  gua.hans_mean_tc, \n",
    "                  (9,5), \n",
    "                  0.35, \n",
    "                  list(gua.admin), \n",
    "                  'Avg % Tree Cover for Admin Districts in Guatemala')"
   ]
  },
  {
   "cell_type": "code",
   "execution_count": null,
   "id": "stock-israel",
   "metadata": {},
   "outputs": [],
   "source": [
    "v_groupedbar_mean(pan.tof_mean_tc, \n",
    "                  pan.hans_mean_tc, \n",
    "                  (9,5), \n",
    "                  0.35, \n",
    "                  list(pan.admin), \n",
    "                  'Avg % Tree Cover for Admin Districts in Panama')"
   ]
  },
  {
   "cell_type": "code",
   "execution_count": null,
   "id": "occupied-praise",
   "metadata": {},
   "outputs": [],
   "source": [
    "v_groupedbar_mean(nic.tof_mean_tc, \n",
    "                  nic.hans_mean_tc, \n",
    "                  (9,5), \n",
    "                  0.35, \n",
    "                  list(nic.admin), \n",
    "                  'Avg % Tree Cover for Admin Districts in Nicaragua')"
   ]
  },
  {
   "cell_type": "markdown",
   "id": "composite-victoria",
   "metadata": {},
   "source": [
    "### Average and Total Difference per Class\n",
    "What is the average and total difference between TOF and Hansen tree cover estimates?"
   ]
  },
  {
   "cell_type": "code",
   "execution_count": null,
   "id": "appreciated-boundary",
   "metadata": {},
   "outputs": [],
   "source": [
    "# Plots the average difference between total hecatares of tof and hansen for each land cover class\n",
    "# the tof_hans column is calculated by tof total ha - hansen total ha\n",
    "\n",
    "diverge_mean = landcover.groupby('lc_class')['tof_hans'].mean().sort_values().reset_index()\n",
    "diverge_sum = landcover.groupby('lc_class')['tof_hans'].sum().sort_values().reset_index()\n",
    "colors = ['red' if x < 0 else 'green' for x in diverge_mean.tof_hans]\n",
    "\n",
    "plt.figure(figsize=(10,6))\n",
    "\n",
    "plt.hlines(y=diverge_mean.lc_class, \n",
    "           xmin=0, \n",
    "           xmax=diverge_mean.tof_hans, \n",
    "           alpha=0.7,\n",
    "           linewidth=5)\n",
    "\n",
    "plt.title('Average difference in hectares of tree cover per land cover class: TOF vs Hansen')\n",
    "plt.xlabel('ha tree cover');"
   ]
  },
  {
   "cell_type": "code",
   "execution_count": null,
   "id": "thirty-howard",
   "metadata": {},
   "outputs": [],
   "source": [
    "plt.figure(figsize=(10,6))\n",
    "\n",
    "plt.hlines(y=diverge_sum.lc_class, \n",
    "           xmin=0, \n",
    "           xmax=diverge_sum.tof_hans, \n",
    "           alpha=0.7,\n",
    "           linewidth=5)\n",
    "\n",
    "plt.title('Total difference in hectares of tree cover per land cover class: TOF vs Hansen')\n",
    "plt.xlabel('ha tree cover');"
   ]
  }
 ],
 "metadata": {
  "kernelspec": {
   "display_name": "Python 3",
   "language": "python",
   "name": "python3"
  },
  "language_info": {
   "codemirror_mode": {
    "name": "ipython",
    "version": 3
   },
   "file_extension": ".py",
   "mimetype": "text/x-python",
   "name": "python",
   "nbconvert_exporter": "python",
   "pygments_lexer": "ipython3",
   "version": "3.7.11"
  },
  "toc": {
   "base_numbering": 1,
   "nav_menu": {},
   "number_sections": true,
   "sideBar": true,
   "skip_h1_title": false,
   "title_cell": "Table of Contents",
   "title_sidebar": "Contents",
   "toc_cell": false,
   "toc_position": {
    "height": "calc(100% - 180px)",
    "left": "10px",
    "top": "150px",
    "width": "202.003px"
   },
   "toc_section_display": true,
   "toc_window_display": true
  }
 },
 "nbformat": 4,
 "nbformat_minor": 5
}
