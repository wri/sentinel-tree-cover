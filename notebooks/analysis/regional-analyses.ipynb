{
 "cells": [
  {
   "cell_type": "markdown",
   "id": "forced-melissa",
   "metadata": {},
   "source": [
    "# Regional Analyses\n",
    "Building on the exploratory data analyses, this notebook analyzes and visualizes TML data at the regional level, with a specific focus on results in Central America.\n",
    "\n",
    "**Agricultural and Urban Areas Meeting Forest Cover Definition (>10%)**  \n",
    "**Top 5 Admins with Trees on Farms**  \n",
    "**Top 5 Admins with Urban Trees**  \n",
    "**Top 5 Admins with Fragmented Forests**\n",
    "**Tree Cover Distribution: Regional Comparisons** "
   ]
  },
  {
   "cell_type": "code",
   "execution_count": 4,
   "id": "catholic-quality",
   "metadata": {},
   "outputs": [],
   "source": [
    "import os\n",
    "import rasterio as rs\n",
    "import numpy as np \n",
    "import seaborn as sns\n",
    "import matplotlib.pyplot as plt\n",
    "import geopandas as gpd \n",
    "import pandas as pd\n",
    "import matplotlib\n",
    "from bokeh.plotting import figure, save\n",
    "from bokeh.models import ColumnDataSource, HoverTool, LogColorMapper"
   ]
  },
  {
   "cell_type": "markdown",
   "id": "advised-andrews",
   "metadata": {},
   "source": [
    "## Create Regional Spreadsheets\n",
    "Combines country stats spreadsheets into one csv for the region."
   ]
  },
  {
   "cell_type": "code",
   "execution_count": 2,
   "id": "vanilla-billy",
   "metadata": {},
   "outputs": [],
   "source": [
    "def create_regional_csv(list_of_countries, region):\n",
    "    \n",
    "    regional_df = pd.DataFrame()\n",
    "    dfs_to_concat = []\n",
    "    \n",
    "    for country in list_of_countries:\n",
    "        country_df = pd.read_csv(f'/Volumes/Jessicas_Life/_Processed_countries/{country}/stats/{country}_statistics.csv')\n",
    "        dfs_to_concat.append(country_df)\n",
    "    \n",
    "    regional_df = pd.concat(dfs_to_concat, ignore_index=True)\n",
    "    regional_df.to_csv(f'/Volumes/Jessicas_Life/regional_stats/{region}.csv', index=False)\n",
    "    \n",
    "    return None"
   ]
  },
  {
   "cell_type": "code",
   "execution_count": 3,
   "id": "touched-contest",
   "metadata": {},
   "outputs": [],
   "source": [
    "create_regional_csv(['Belize', 'El Salvador', 'Honduras', 'Nicaragua', 'Panama', 'Guatemala', 'Costa Rica'], \n",
    "                    'central_am')"
   ]
  },
  {
   "cell_type": "code",
   "execution_count": 18,
   "id": "important-denmark",
   "metadata": {},
   "outputs": [],
   "source": [
    "create_regional_csv(['Rwanda', 'Burundi'], 'east_afr')"
   ]
  },
  {
   "cell_type": "code",
   "execution_count": null,
   "id": "environmental-married",
   "metadata": {},
   "outputs": [],
   "source": [
    "create_regional_csv(['Ghana'], 'west_afr')"
   ]
  },
  {
   "cell_type": "markdown",
   "id": "swiss-pursuit",
   "metadata": {},
   "source": [
    "## Agricultural and Urban Areas Meeting Forest Cover Definition (>10%)\n",
    "The FAO defines *forest cover* as a land area of more than 0.5 ha, with a tree canopy cover of more than 10%, which is not primarily under agricultural or other specific non-forest land use (FAO 2000). The stacked barchart illustrates the tree cover in agriculture and urban areas that qualifies as forest under this definition. The light green portion indicates the total percentage of land that is not compliant (<10%) and the dark green indicates the total percentage of land that is compliant (>10%) for each country in a region. All results are for the year 2020."
   ]
  },
  {
   "cell_type": "code",
   "execution_count": 43,
   "id": "3295a592",
   "metadata": {},
   "outputs": [],
   "source": [
    "def fao_compliant(region, filepath, lcc):\n",
    "    \n",
    "    df = pd.read_csv(filepath)\n",
    "    \n",
    "    ag_ids = [10.0, 11.0, 12.0, 20.0, 30.0, 40.0]\n",
    "    urban_ids = [190.0]\n",
    "    \n",
    "    if lcc == 'ag':\n",
    "        df = df[df.esa_id.isin(ag_ids)]\n",
    "    \n",
    "    if lcc == 'urban':\n",
    "        df = df[df.esa_id.isin(urban_ids)]\n",
    "        \n",
    "    # get total ha per threshold per country\n",
    "    df = df.groupby(by=['country', 'tree_cover_class']).sum().reset_index()\n",
    "    df = df[['country', 'tree_cover_class', 'tof_ha']] \n",
    "    \n",
    "    # remove tree cover classes <10%\n",
    "    over10 = df[df.tree_cover_class != '0-9']\n",
    "    over20 = df[(df.tree_cover_class != '0-9') & (df.tree_cover_class != '10-19')]\n",
    "    over30 = df[(df.tree_cover_class != '0-9') & (df.tree_cover_class != '10-19') & (df.tree_cover_class != '20-29')]\n",
    "    \n",
    "    # calculate totals\n",
    "    total = sum(df.tof_ha)\n",
    "    over10_perc = sum(over10.tof_ha) / total * 100\n",
    "    over20_perc = sum(over20.tof_ha) / total * 100\n",
    "    over30_perc = sum(over30.tof_ha) / total * 100\n",
    "    \n",
    "    if lcc == 'ag':\n",
    "        print(f'Total percentage of ag land in {region} that meets FAO forest cover criterion: {round((over10_perc),2)}%')\n",
    "        print(f'Total percentage of ag land in {region} with >20% tree cover: {round((over20_perc),2)}%')\n",
    "        print(f'Total percentage of ag land in {region} with >30% tree cover:  {round((over30_perc),2)}%')\n",
    "    \n",
    "    if lcc == 'urban':\n",
    "        print(f'Total percentage of urban land in {region} that meets FAO forest cover criterion: {round((over10_perc),2)}%')\n",
    "        print(f'Total percentage of urban land in {region} with >20% tree cover: {round((over20_perc),2)}%')\n",
    "        print(f'Total percentage of urban land in {region} with >30% tree cover:  {round((over30_perc),2)}%')\n",
    "        \n",
    "    return None"
   ]
  },
  {
   "cell_type": "code",
   "execution_count": 44,
   "id": "7d6037b8",
   "metadata": {},
   "outputs": [
    {
     "name": "stdout",
     "output_type": "stream",
     "text": [
      "Total percentage of ag land in Central America that meets FAO forest cover criterion: 74.83%\n",
      "Total percentage of ag land in Central America with >20% tree cover: 62.3%\n",
      "Total percentage of ag land in Central America with >30% tree cover:  52.35%\n"
     ]
    }
   ],
   "source": [
    "fao_compliant('Central America', '/Volumes/Jessicas_Life/regional_stats/central_am.csv', 'ag')"
   ]
  },
  {
   "cell_type": "code",
   "execution_count": 45,
   "id": "e9f2579f",
   "metadata": {},
   "outputs": [
    {
     "name": "stdout",
     "output_type": "stream",
     "text": [
      "Total percentage of urban land in Central America that meets FAO forest cover criterion: 66.81%\n",
      "Total percentage of urban land in Central America with >20% tree cover: 45.73%\n",
      "Total percentage of urban land in Central America with >30% tree cover:  30.81%\n"
     ]
    }
   ],
   "source": [
    "fao_compliant('Central America', '/Volumes/Jessicas_Life/regional_stats/central_am.csv', 'urban')"
   ]
  },
  {
   "cell_type": "code",
   "execution_count": 37,
   "id": "d5643ae2",
   "metadata": {},
   "outputs": [],
   "source": [
    "def forest_cover_compliant_comb(region, figsize):\n",
    "    \n",
    "    region_df = pd.read_csv(f'/Volumes/Jessicas_Life/regional_stats/{region}.csv')\n",
    "    \n",
    "    countries = list(set(region_df.country.values))\n",
    "\n",
    "    x_labels = []\n",
    "    bar1 = []\n",
    "    bar2 = []\n",
    "\n",
    "    for country in countries:\n",
    "        \n",
    "        # filter to one country and only urban/ag land cover classes\n",
    "        country_df = region_df[region_df.country == country]\n",
    "        ids = [10.0, 11.0, 12.0, 20.0, 30.0, 40.0, 190.0]\n",
    "        country_df = country_df[country_df.esa_id.isin(ids)]\n",
    "        \n",
    "        # get total tof ha per tree cover threshold\n",
    "        country_df = country_df.groupby(by=['country', 'tree_cover_class']).sum().reset_index() \n",
    "        country_df = country_df[['country', 'tree_cover_class', 'tof_ha']]\n",
    "        \n",
    "        # calculate # ha <10% tree cover and >10% tree cover\n",
    "        under10 = country_df.tof_ha[0]\n",
    "        over10 = sum(country_df.tof_ha[1:])\n",
    "        \n",
    "        # normalize\n",
    "        total = under10 + over10\n",
    "        under10_norm = under10/total*100\n",
    "        over10_norm = over10/total*100\n",
    "        \n",
    "        x_labels.append(country)\n",
    "        bar1.append(over10_norm)\n",
    "        bar2.append(under10_norm)\n",
    "   \n",
    "    # convert to array in order to add data labels\n",
    "    bar1 = np.asarray(bar1)\n",
    "    bar2 = np.asarray(bar2)\n",
    "    \n",
    "    # create the figure\n",
    "    plt.figure(figsize=figsize)\n",
    "    plt.bar(x_labels, bar1, color=\"seagreen\", label='<10% cover')  \n",
    "    plt.bar(x_labels, bar2, bottom=bar1, color=\"honeydew\", label='>10% cover')    \n",
    "    \n",
    "    # labels\n",
    "    for xpos, ypos, yval in zip(x_labels, bar1/2, bar1):\n",
    "        plt.text(xpos, ypos, f'{round(yval)}%', ha=\"center\", va=\"center\")\n",
    "    for xpos, ypos, yval in zip(x_labels, bar1 + bar2/2, bar2):\n",
    "        plt.text(xpos, ypos, f'{round(yval)}%', ha=\"center\", va=\"center\")\n",
    "    \n",
    "    plt.xlabel(' ')\n",
    "    plt.ylabel('% Land')\n",
    "    plt.ticklabel_format(style='plain', axis='y')\n",
    "    plt.title(f'% Agricultural and Urban Land Meeting \\n Forest Cover Definition')\n",
    "    plt.legend(loc='lower right');"
   ]
  },
  {
   "cell_type": "code",
   "execution_count": 38,
   "id": "7d6e5220",
   "metadata": {},
   "outputs": [
    {
     "data": {
      "image/png": "[encoded data removed]",
      "text/plain": [
       "<Figure size 576x432 with 1 Axes>"
      ]
     },
     "metadata": {
      "needs_background": "light"
     },
     "output_type": "display_data"
    }
   ],
   "source": [
    "forest_cover_compliant_comb('central_am', (8,6))"
   ]
  },
  {
   "cell_type": "code",
   "execution_count": 15,
   "id": "certified-conviction",
   "metadata": {},
   "outputs": [],
   "source": [
    "def forest_cover_compliant(region, figsize):\n",
    "    \n",
    "    '''\n",
    "    Legend for ESA land cover categories:\n",
    "        10: 'Cropland, rainfed',\n",
    "        11: 'Cropland, rainfed',\n",
    "        12: 'Cropland, rainfed',\n",
    "        20: 'Cropland, irrigated or post-flooding',\n",
    "        30: 'Mosaic cropland / natural vegetation',\n",
    "        40: 'Mosaic natural vegetation / cropland',\n",
    "        190: 'Urban areas'\n",
    "    '''\n",
    "    \n",
    "    region_df = pd.read_csv(f'/Volumes/Jessicas_Life/regional_stats/{region}.csv')\n",
    "    \n",
    "    countries = list(set(region_df.country.values))\n",
    "\n",
    "    x_labels, ag_bar1, ag_bar2, urban_bar1, urban_bar2 = [],[],[],[],[]\n",
    "    \n",
    "    for country in countries:\n",
    "        \n",
    "        # filter to one country and only urban/ag land cover classes\n",
    "        country_df = region_df[region_df.country == country]\n",
    "        ag_ids = [10.0, 11.0, 12.0, 20.0, 30.0, 40.0]\n",
    "        urban_ids = [190.0]\n",
    "        ag_df = country_df[country_df.esa_id.isin(ag_ids)].sort_values('country')\n",
    "        urban_df = country_df[country_df.esa_id.isin(urban_ids)].sort_values('country')\n",
    "        \n",
    "        # get total tof ha per tree cover threshold\n",
    "        ag_df = ag_df.groupby(by=['country', 'tree_cover_class']).sum().reset_index() \n",
    "        ag_df = ag_df[['country', 'tree_cover_class', 'tof_ha']] \n",
    "        urban_df = urban_df.groupby(by=['country', 'tree_cover_class']).sum().reset_index() \n",
    "        urban_df = urban_df[['country', 'tree_cover_class', 'tof_ha']] \n",
    "        \n",
    "        # calculate # ha <10% tree cover and >10% tree cover\n",
    "        ag_under10 = ag_df.tof_ha[0]\n",
    "        ag_over10 = sum(ag_df.tof_ha[1:])\n",
    "        urban_under10 = urban_df.tof_ha[0]\n",
    "        urban_over10 = sum(urban_df.tof_ha[1:])\n",
    "        \n",
    "        # normalize\n",
    "        ag_under10_norm = ag_under10/(ag_under10 + ag_over10)*100\n",
    "        ag_over10_norm = ag_over10/(ag_under10 + ag_over10)*100\n",
    "        urban_under10_norm = urban_under10/(urban_under10 + urban_over10)*100\n",
    "        urban_over10_norm = urban_over10/(urban_under10 + urban_over10)*100\n",
    "        \n",
    "        x_labels.append(country)\n",
    "        ag_bar1.append(ag_over10_norm) # >10% is on the bottom\n",
    "        ag_bar2.append(ag_under10_norm) # <10% is on the top\n",
    "        urban_bar1.append(urban_over10_norm) \n",
    "        urban_bar2.append(urban_under10_norm) \n",
    "   \n",
    "    # convert to array in order to add data labels\n",
    "    ag_bar1 = np.asarray(ag_bar1)\n",
    "    ag_bar2 = np.asarray(ag_bar2)\n",
    "    urban_bar1 = np.asarray(urban_bar1)\n",
    "    urban_bar2 = np.asarray(urban_bar2)\n",
    "\n",
    "    plt.figure(figsize=figsize)\n",
    "    \n",
    "    # create ag error bars\n",
    "    ag_error = []\n",
    "    lower = [-2.41, -3.64, -3.99, -3.17, -3.89, -3.93, -3.74]\n",
    "    upper = [1.05, 0.41, -0.06, 0.53, 0.27, 0.03, 0.19]\n",
    "    for x,y in zip(lower, upper):\n",
    "        ag_error.append(y-x)\n",
    "    \n",
    "    # Ag plot\n",
    "    plt.subplot(1,2,1)\n",
    "    plt.bar(x_labels, ag_bar1, color=\"seagreen\", label='>10% tree cover', yerr=ag_error, capsize=4)  \n",
    "    plt.bar(x_labels, ag_bar2, bottom=ag_bar1, color=\"honeydew\", label='<10% tree cover')    \n",
    "    \n",
    "    # labels\n",
    "    for xpos, ypos, yval in zip(x_labels, ag_bar1/2, ag_bar1):\n",
    "        plt.text(xpos, ypos, f'{round(yval)}%', ha=\"center\", va=\"center\")\n",
    "    for xpos, ypos, yval in zip(x_labels, ag_bar1 + ag_bar2/2, ag_bar2):\n",
    "        plt.text(xpos, ypos, f'{round(yval)}%', ha=\"center\", va=\"center\")\n",
    "    \n",
    "    plt.xlabel(' ')\n",
    "    plt.ylabel('% Land')\n",
    "    plt.ticklabel_format(style='plain', axis='y')\n",
    "    plt.title(f'% Agricultural Land Meeting \\n 10% Forest Cover Criteria')\n",
    "    plt.legend(loc='lower right')\n",
    "    \n",
    "    # create urban error bars\n",
    "    urb_error = []\n",
    "    lower = [-2.90, -1.91, -3.16, -1.90, -1.94, -2.40, -2.06]\n",
    "    upper = [1.97, 0.64, 0.17, 0.64, 0.95, 0.92, 0.84]\n",
    "    for x,y in zip(lower, upper):\n",
    "        urb_error.append(y-x)\n",
    "\n",
    "    # Urban plot\n",
    "    plt.subplot(1,2,2)\n",
    "    plt.bar(x_labels, urban_bar1, color=\"seagreen\", label='>10% tree cover', yerr=urb_error, capsize=4)  \n",
    "    plt.bar(x_labels, urban_bar2, bottom=urban_bar1, color=\"honeydew\", label='<10% tree cover')    \n",
    "    \n",
    "    # labels\n",
    "    for xpos, ypos, yval in zip(x_labels, urban_bar1/2, urban_bar1):\n",
    "        plt.text(xpos, ypos, f'{round(yval)}%', ha=\"center\", va=\"center\")\n",
    "    for xpos, ypos, yval in zip(x_labels, urban_bar1 + urban_bar2/2, urban_bar2):\n",
    "        plt.text(xpos, ypos, f'{round(yval)}%', ha=\"center\", va=\"center\")\n",
    "    \n",
    "    \n",
    "    plt.xlabel(' ')\n",
    "    plt.ylabel('% Land')\n",
    "    plt.ticklabel_format(style='plain', axis='y')\n",
    "    plt.title(f'% Urban Land Meeting \\n 10% Forest Cover Criteria')\n",
    "    plt.legend(loc='lower right')\n",
    "    plt.tight_layout(); "
   ]
  },
  {
   "cell_type": "code",
   "execution_count": 16,
   "id": "b5f544f1",
   "metadata": {},
   "outputs": [
    {
     "data": {
      "image/png": "[encoded data removed]",
      "text/plain": [
       "<Figure size 1008x504 with 2 Axes>"
      ]
     },
     "metadata": {
      "needs_background": "light"
     },
     "output_type": "display_data"
    }
   ],
   "source": [
    "forest_cover_compliant('central_am', (14,7))"
   ]
  },
  {
   "cell_type": "markdown",
   "id": "expected-spare",
   "metadata": {},
   "source": [
    "## Top 5 Admins with Trees on Farms\n",
    "This function identifies the top five administrative districts with the highest tree cover estimates (average tree cover or total ha) on agriculture land cover types.  \n",
    "\n",
    "Outstanding items to address:\n",
    "- If ha of tree cover is the metric, should be weighted"
   ]
  },
  {
   "cell_type": "code",
   "execution_count": 47,
   "id": "classified-earthquake",
   "metadata": {},
   "outputs": [],
   "source": [
    "def top5_admins_ag(region):\n",
    "    \n",
    "    '''\n",
    "    Filters dataframe to the following ESA agriculture land cover types:\n",
    "    \n",
    "    Cropland, rainfed\n",
    "    Cropland, rainfed, herbaceous cover\n",
    "    Cropland, irrigated or post-flooding\n",
    "    Mosaic cropland / natural vegetation\n",
    "    Mosaic natural vegetation / cropland \n",
    "    \n",
    "    Calculates the total ha tree cover per admin AND the avg % tree cover per admin.\n",
    "    Merges the dataframes to include % of land cover class sampled and then builds\n",
    "    two separate dataframes of top 5 cities in the region with highest stats.\n",
    "    \n",
    "    '''\n",
    "    \n",
    "    df = pd.read_csv(f'/Volumes/Jessicas_Life/regional_stats/{region}.csv')\n",
    "    \n",
    "    # filter to only ag land cover classes\n",
    "    ag_ids = [10.0, 11.0, 12.0, 20.0, 30.0, 40.0]\n",
    "    df = df[df.esa_id.isin(ag_ids)]\n",
    "\n",
    "    # get total (sum) ha tree cover in ag for each admin (drop ha <10% cover)\n",
    "    df_ha = df.drop(df[df.tree_cover_class == '0-9'].index)\n",
    "    df_ha = df.groupby(by=['country', 'admin']).sum().reset_index() \n",
    "    df_ha = df_ha[['country', 'admin', 'esa_sampled_ha', 'esa_total_ha','tof_ha']] \n",
    "    \n",
    "    # add column with % of land cover class that was sampled\n",
    "    df_ha['esa_perc_samp'] = round((df_ha.esa_sampled_ha / df_ha.esa_total_ha) * 100, 2)\n",
    "\n",
    "    # now use original dataframe to get average tree cover in ag for each admin\n",
    "    df_avg = df.groupby(by=['country','admin']).mean().reset_index()\n",
    "    df_avg = df_avg[['country', 'admin', 'tof_mean']]\n",
    "    \n",
    "    # merge dataframes\n",
    "    df_merged = pd.merge(df_ha, df_avg, how='inner', left_on=['country','admin'], right_on=['country','admin'])\n",
    "    \n",
    "    # sort and print top 5 ag areas\n",
    "    top_5_ha = df_merged.sort_values(['tof_ha', 'esa_perc_samp'], ascending=(False, False))[:5]\n",
    "    top_5_avg = df_merged.sort_values(['tof_mean', 'esa_perc_samp'], ascending=(False, False))[:5]\n",
    "    \n",
    "    print('Top 5 Admins with Trees on Farms (total hectares tree cover)')\n",
    "    for i in top_5_ha.index:\n",
    "        print(f'Farms in {top_5_ha.admin[i]}, {top_5_ha.country[i]} have {top_5_ha.tof_ha[i]} ' \\\n",
    "              f'ha of tree cover >10%. ({top_5_ha.esa_perc_samp[i]}% of farms were sampled)')\n",
    "    \n",
    "    print(' ')\n",
    "    print('Top 5 Admins with Trees on Farms (average % tree cover)')\n",
    "    for i in top_5_avg.index:\n",
    "        print(f'Farms in {top_5_avg.admin[i]}, {top_5_avg.country[i]} have {round(top_5_avg.tof_mean[i], 0)}% ' \\\n",
    "              f'average tree cover. ({top_5_avg.esa_perc_samp[i]}% of farms were sampled)')\n",
    "\n",
    "    return df_merged"
   ]
  },
  {
   "cell_type": "code",
   "execution_count": 4,
   "id": "final-passage",
   "metadata": {},
   "outputs": [
    {
     "name": "stdout",
     "output_type": "stream",
     "text": [
      "Top 5 Admins with Trees on Farms (total hectares tree cover)\n",
      "Farms in Petén, Guatemala have 1844046 ha of tree cover >10%. (95.7% of farms were sampled)\n",
      "Farms in Atlántico Sur, Nicaragua have 1099550 ha of tree cover >10%. (87.86% of farms were sampled)\n",
      "Farms in Olancho, Honduras have 743352 ha of tree cover >10%. (90.25% of farms were sampled)\n",
      "Farms in Veraguas, Panama have 568600 ha of tree cover >10%. (96.59% of farms were sampled)\n",
      "Farms in Chontales, Nicaragua have 544590 ha of tree cover >10%. (95.29% of farms were sampled)\n",
      " \n",
      "Top 5 Admins with Trees on Farms (average % tree cover)\n",
      "Farms in Emberá, Panama have 66.0% average tree cover. (3.08% of farms were sampled)\n",
      "Farms in El Progreso, Guatemala have 50.0% average tree cover. (93.43% of farms were sampled)\n",
      "Farms in Estelí, Nicaragua have 47.0% average tree cover. (66.68% of farms were sampled)\n",
      "Farms in Sacatepéquez, Guatemala have 47.0% average tree cover. (97.04% of farms were sampled)\n",
      "Farms in Carazo, Nicaragua have 46.0% average tree cover. (63.98% of farms were sampled)\n"
     ]
    }
   ],
   "source": [
    "central_am = top5_admins_ag('central_am')"
   ]
  },
  {
   "cell_type": "markdown",
   "id": "greater-colors",
   "metadata": {},
   "source": [
    "## Top 5 Admins with Urban Trees\n",
    "This function identifies the top five administrative districts with the highest tree cover estimates (average tree cover or total ha) on urban land cover types.  \n",
    "\n",
    "Outstanding items to address:\n",
    "- If ha of tree cover is the metric, should be weighted"
   ]
  },
  {
   "cell_type": "code",
   "execution_count": 52,
   "id": "virtual-warehouse",
   "metadata": {},
   "outputs": [],
   "source": [
    "def top5_admins_urb(region):\n",
    "    \n",
    "    '''\n",
    "    Filters dataframe to the ESA urban land cover class. \n",
    "    \n",
    "    Calculates the total ha tree cover per admin or the comb avg  % tree cover per admin,\n",
    "    then sorts values in descending order to get top 5 admins.\n",
    "    \n",
    "    '''\n",
    "    \n",
    "    df = pd.read_csv(f'/Volumes/Jessicas_Life/regional_stats/{region}.csv')\n",
    "    \n",
    "    # filter to only urban land cover class\n",
    "    df = df[df.esa_id == 190.0]\n",
    "    \n",
    "    # get total (sum) ha tree cover in urban class for each admin\n",
    "    df_ha = df.groupby(by=['country', 'admin']).sum().reset_index() \n",
    "    df_ha = df_ha[['country', 'admin', 'esa_sampled_ha', 'esa_total_ha','tof_ha']] \n",
    "    \n",
    "    # add column with % of land cover class that was sampled\n",
    "    df_ha['esa_perc_samp'] = round((df_ha.esa_sampled_ha / df_ha.esa_total_ha) * 100, 2)\n",
    "\n",
    "    # now use original dataframe to get average tree cover in urban class for each admin\n",
    "    df_avg = df.groupby(by=['country','admin']).mean().reset_index()\n",
    "    df_avg = df_avg[['country', 'admin', 'tof_mean']]\n",
    "    \n",
    "    # merge dataframes\n",
    "    df_merged = pd.merge(df_ha, df_avg, how='inner', left_on=['country','admin'], right_on=['country','admin'])\n",
    "    \n",
    "    # sort and print top 5 urban areas\n",
    "    top_5_ha = df_merged.sort_values(['tof_ha', 'esa_perc_samp'], ascending=(False, False))[:5]\n",
    "    top_5_ha = top_5_ha.reset_index().drop('index', 1)\n",
    "    top_5_avg = df_merged.sort_values(['tof_mean', 'esa_perc_samp'], ascending=(False, False))[:5]\n",
    "    top_5_avg = top_5_avg.reset_index().drop('index', 1)\n",
    "\n",
    "    \n",
    "    print('Top 5 Cities with Trees (total hectares tree cover)')\n",
    "    for i in top_5_ha.index:\n",
    "        print(f'{top_5_ha.esa_perc_samp[i]}% of urban areas were sampled in {top_5_ha.admin[i]}, ' \\\n",
    "              f'{top_5_ha.country[i]} with {top_5_ha.tof_ha[i]} ha of tree cover >0%.')\n",
    "    \n",
    "    print(' ')\n",
    "    print('Top 5 Cities with Trees (average % tree cover)')\n",
    "    for i in top_5_avg.index:\n",
    "        print(f'{top_5_avg.esa_perc_samp[i]}% of urban areas were sampled in {top_5_avg.admin[i]}, ' \\\n",
    "              f'{top_5_avg.country[i]} with {round(top_5_avg.tof_mean[i], 0)}% average tree cover.')\n",
    "        \n",
    "    # display top 5 ha\n",
    "#     num1 = rs.open(f'{top_5_ha.country[0]}/resampled_rasters/tof/{top_5_ha.admin[0]}.tif').read(1)\n",
    "#     num2 = rs.open(f'{top_5_ha.country[1]}/resampled_rasters/tof/{top_5_ha.admin[1]}.tif').read(1)\n",
    "    \n",
    "#     plt.figure(figsize=(30,20))\n",
    "\n",
    "#     plt.subplot(1,2,1)\n",
    "#     plt.imshow(num1, cmap='Greens', vmin=0, vmax=100)\n",
    "#     plt.title(f'#1: {top_5_ha.admin[0]}, {top_5_ha.country[0]} (ha tree cover)')\n",
    "\n",
    "#     plt.subplot(1,2,2)\n",
    "#     plt.imshow(num2, cmap='Greens', vmin=0, vmax=100)\n",
    "#     plt.title(f'#2: {top_5_ha.admin[1]}, {top_5_ha.country[1]} (ha tree cover)')\n",
    "\n",
    "    # figure out where in that admin has the highest tree cover by lat/lon coordinates?\n",
    "    # long term could scale down to admin 2 level in these areas?\n",
    "\n",
    "    return None"
   ]
  },
  {
   "cell_type": "code",
   "execution_count": 53,
   "id": "hollow-membership",
   "metadata": {},
   "outputs": [
    {
     "name": "stdout",
     "output_type": "stream",
     "text": [
      "Top 5 Cities with Trees (total hectares tree cover)\n",
      "99.12% of urban areas were sampled in Guatemala, Guatemala with 30643 ha of tree cover >0%.\n",
      "97.48% of urban areas were sampled in San José, Costa Rica with 19143 ha of tree cover >0%.\n",
      "98.99% of urban areas were sampled in Panamá, Panama with 17230 ha of tree cover >0%.\n",
      "98.71% of urban areas were sampled in Quezaltenango, Guatemala with 16213 ha of tree cover >0%.\n",
      "99.02% of urban areas were sampled in San Salvador, El Salvador with 14089 ha of tree cover >0%.\n",
      " \n",
      "Top 5 Cities with Trees (average % tree cover)\n",
      "0.05% of urban areas were sampled in Gracias a Dios, Honduras with 36.0% average tree cover.\n",
      "94.04% of urban areas were sampled in Usulután, El Salvador with 36.0% average tree cover.\n",
      "68.99% of urban areas were sampled in Morazán, El Salvador with 35.0% average tree cover.\n",
      "100.0% of urban areas were sampled in Madriz, Nicaragua with 33.0% average tree cover.\n",
      "96.81% of urban areas were sampled in La Libertad, El Salvador with 32.0% average tree cover.\n"
     ]
    },
    {
     "name": "stderr",
     "output_type": "stream",
     "text": [
      "/Users/jessicaertel/anaconda3/lib/python3.7/site-packages/ipykernel_launcher.py:32: FutureWarning: In a future version of pandas all arguments of DataFrame.drop except for the argument 'labels' will be keyword-only\n",
      "/Users/jessicaertel/anaconda3/lib/python3.7/site-packages/ipykernel_launcher.py:34: FutureWarning: In a future version of pandas all arguments of DataFrame.drop except for the argument 'labels' will be keyword-only\n"
     ]
    }
   ],
   "source": [
    "top5_admins_urb('central_am')"
   ]
  },
  {
   "cell_type": "markdown",
   "id": "worst-wholesale",
   "metadata": {},
   "source": [
    "## Top 5 Admins with Fragmented Forests\n",
    "Clarification: are we calculating the number of admins with the \"most\" fragmented forests and what does that mean?\n",
    "- fragmented forest: the area of forest within one pixel of the edge\n",
    "- forest connectivity: the area of disconnected forest fragments\n",
    "\n",
    "Could replicate the approach used by [Cunningham et al. 2020](https://www.mdpi.com/2072-4292/12/19/3226/htm) and use the Guidos Toolbox [MSPA (Morphological Spatial Pattern Analysis)](https://forest.jrc.ec.europa.eu/en/activities/lpa/mspa/)\n",
    "- Soille P, Vogt P, 2009. Morphological segmentation of binary patterns. Pattern Recognition Letters 30, 4:456-459, DOI: 10.1016/j.patrec.2008.10.015 \n",
    "\n",
    "OpenForis example implementation - python?: https://github.com/openforis/mspa-analysis/blob/master/scripts/mspa.py"
   ]
  },
  {
   "cell_type": "markdown",
   "id": "typical-ceramic",
   "metadata": {},
   "source": [
    "## Tree Cover Distribution: Regional Comparisons\n",
    "This grouped barchart compares tree cover distribution in 10% canopy cover thresholds across four regions: Central America, East Africa, West Africa, Sahel). (In the future could consider a facet grid that illustrates the distribution in a barchart per country)"
   ]
  },
  {
   "cell_type": "code",
   "execution_count": 19,
   "id": "opening-playback",
   "metadata": {},
   "outputs": [],
   "source": [
    "def tree_cover_distribution(central_am, east_afr):\n",
    "    \n",
    "    # later will be updated to compare across 4 regions\n",
    "    #central_am = pd.read_csv('regional_stats/central_am.csv')\n",
    "    #east_afr = pd.read_csv('regional_stats/east_afr.csv')\n",
    "    #west_afr = pd.read_csv('regional_stats/west_afr.csv')\n",
    "    #sahel = pd.read_csv('regional_stats/sahel.csv')\n",
    "\n",
    "    central_am = central_am.groupby(by=['tree_cover_class']).sum().reset_index() \n",
    "    central_am = central_am[['tree_cover_class', 'tof_ha']]\n",
    "\n",
    "    east_afr = east_afr.groupby(by=['tree_cover_class']).sum().reset_index() \n",
    "    east_afr = east_afr[['tree_cover_class', 'tof_ha']]\n",
    "\n",
    "    labels = list(central_am.tree_cover_class)\n",
    "    x = np.arange(len(labels))  # the label locations\n",
    "    width = 0.35  \n",
    "\n",
    "    plt.figure(figsize=(10,8))\n",
    "    plt.bar(x - width/2, central_am.tof_ha, width, label='Central America')\n",
    "    plt.bar(x + width/2, east_afr.tof_ha, width, label='East Africa')\n",
    "\n",
    "    plt.title('Tree Cover Distribution by Region')\n",
    "    plt.xlabel('Thresholds (%)')\n",
    "    plt.ylabel('Total Ha')\n",
    "    plt.xticks(x, labels=labels)\n",
    "    plt.ticklabel_format(style='plain', axis='y')\n",
    "    plt.grid(axis='y', linestyle='-', linewidth=.2)\n",
    "    plt.legend();\n",
    "    \n",
    "    return None"
   ]
  },
  {
   "cell_type": "code",
   "execution_count": 20,
   "id": "unknown-museum",
   "metadata": {},
   "outputs": [],
   "source": [
    "central_am = pd.read_csv('regional_stats/central_am.csv')\n",
    "east_afr = pd.read_csv('regional_stats/east_afr.csv')"
   ]
  },
  {
   "cell_type": "code",
   "execution_count": 21,
   "id": "important-radio",
   "metadata": {},
   "outputs": [
    {
     "data": {
      "image/png": "[encoded data removed]",
      "text/plain": [
       "<Figure size 720x576 with 1 Axes>"
      ]
     },
     "metadata": {
      "needs_background": "light"
     },
     "output_type": "display_data"
    }
   ],
   "source": [
    "tree_cover_distribution(central_am, east_afr)"
   ]
  }
 ],
 "metadata": {
  "kernelspec": {
   "display_name": "Python 3",
   "language": "python",
   "name": "python3"
  },
  "language_info": {
   "codemirror_mode": {
    "name": "ipython",
    "version": 3
   },
   "file_extension": ".py",
   "mimetype": "text/x-python",
   "name": "python",
   "nbconvert_exporter": "python",
   "pygments_lexer": "ipython3",
   "version": "3.7.11"
  },
  "toc": {
   "base_numbering": 1,
   "nav_menu": {},
   "number_sections": true,
   "sideBar": true,
   "skip_h1_title": false,
   "title_cell": "Table of Contents",
   "title_sidebar": "Contents",
   "toc_cell": false,
   "toc_position": {
    "height": "calc(100% - 180px)",
    "left": "10px",
    "top": "150px",
    "width": "165px"
   },
   "toc_section_display": true,
   "toc_window_display": true
  }
 },
 "nbformat": 4,
 "nbformat_minor": 5
}
