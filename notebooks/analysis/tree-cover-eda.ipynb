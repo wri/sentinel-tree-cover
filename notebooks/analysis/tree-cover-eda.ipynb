{
 "cells": [
  {
   "cell_type": "markdown",
   "metadata": {},
   "source": [
    "# Tree Cover Statistics: Data Analysis Pipeline"
   ]
  },
  {
   "cell_type": "code",
   "execution_count": 4,
   "metadata": {},
   "outputs": [],
   "source": [
    "import os\n",
    "import rasterio as rs\n",
    "from rasterio.mask import mask\n",
    "from rasterio.merge import merge\n",
    "from rasterio.plot import show, show_hist\n",
    "from rasterio.enums import Resampling\n",
    "from rasterio import Affine, MemoryFile\n",
    "from rasterio.windows import Window\n",
    "\n",
    "import numpy as np \n",
    "import numpy.ma as ma \n",
    "import pyproj\n",
    "import geopandas as gpd \n",
    "import shapely\n",
    "from shapely.geometry.polygon import Polygon\n",
    "from shapely.geometry.multipolygon import MultiPolygon\n",
    "import pandas as pd\n",
    "import fiona\n",
    "from contextlib import contextmanager  \n",
    "from skimage.transform import resize\n",
    "import math\n",
    "import urllib.request\n",
    "from urllib.error import HTTPError\n",
    "import osgeo\n",
    "from osgeo import gdal\n",
    "from osgeo import gdalconst\n",
    "import glob\n",
    "from copy import copy"
   ]
  },
  {
   "cell_type": "markdown",
   "metadata": {},
   "source": [
    "# Data Preparation"
   ]
  },
  {
   "cell_type": "markdown",
   "metadata": {},
   "source": [
    "## Shapefile to Geojson"
   ]
  },
  {
   "cell_type": "code",
   "execution_count": 2,
   "metadata": {},
   "outputs": [],
   "source": [
    "def shape_to_gjson(country):\n",
    "    '''\n",
    "    Imports a country shapefile, translates and saves it as \n",
    "    a geojson, confirming the correct CRS and absence of \n",
    "    duplicates. Prints the number of admin 1 districts.\n",
    "    \n",
    "    Attributes\n",
    "    ----------\n",
    "    country : str\n",
    "        a string indicating the country files to import\n",
    "    \n",
    "    '''\n",
    "    if country == 'Costa Rica':\n",
    "        return 'Using existing geojson file for Costa Rica.'\n",
    "    else: \n",
    "        shapefile = glob.glob(f'{country}/shapefile/*.shp')\n",
    "        new_shp = gpd.read_file(shapefile[0])\n",
    "        new_shp.to_file(f'{country}/{country}_adminboundaries.geojson', driver='GeoJSON')\n",
    "        print(f'There are {len(new_shp)} admins in {country}.')\n",
    "        assert new_shp.crs == 'epsg:4326'\n",
    "        assert new_shp.NAME_1.duplicated().sum() == 0\n",
    "    return None"
   ]
  },
  {
   "cell_type": "markdown",
   "metadata": {},
   "source": [
    "## Create Hansen Raster"
   ]
  },
  {
   "cell_type": "code",
   "execution_count": 3,
   "metadata": {},
   "outputs": [],
   "source": [
    "def create_hansen_tif(country):\n",
    "    '''\n",
    "    Identifies the latitude and longitude coordinates for a country \n",
    "    to download Hansen 2010 tree cover and 2020 tree cover loss tif files. \n",
    "    Returns combined tifs as one file in the country's folder.\n",
    "    \n",
    "    Attributes\n",
    "    ----------\n",
    "    country : str\n",
    "        a string indicating the country files to import\n",
    "    \n",
    "    '''\n",
    "    gdal.UseExceptions()\n",
    "    shapefile = gpd.read_file(f'{country}/{country}_adminboundaries.geojson')\n",
    "\n",
    "    if not os.path.exists(f'hansen_treecover2010'):\n",
    "        os.makedirs(f'hansen_treecover2010')\n",
    "    \n",
    "    if not os.path.exists(f'hansen_lossyear2020'):\n",
    "        os.makedirs(f'hansen_lossyear2020')\n",
    "    \n",
    "    # identify min/max bounds for the country\n",
    "    bounds = shapefile.geometry.bounds\n",
    "    min_x = bounds.minx.min() \n",
    "    min_y = bounds.miny.min()\n",
    "    max_x = bounds.maxx.max()\n",
    "    max_y = bounds.maxy.max()\n",
    "\n",
    "    # identify the lowest and highest 10 lat/lon increments for the country\n",
    "    lower_x = math.floor(min_x / 10) * 10 \n",
    "    lower_y = math.ceil(min_y / 10) * 10 \n",
    "    upper_x = math.ceil(max_x / 10) * 10 \n",
    "    upper_y = math.ceil(max_y / 10) * 10\n",
    "\n",
    "    # create a list of tif file names for the country\n",
    "    tree_cover_files = []\n",
    "    loss_files = []\n",
    "    \n",
    "    print('Downloading files from GLAD...')\n",
    "    \n",
    "    for x_grid in range(lower_x, upper_x, 10):\n",
    "        for y_grid in range(lower_y, upper_y + 10, 10):\n",
    "            \n",
    "            lon = 'N' if y_grid >= 0 else 'S'\n",
    "            lat = 'E' if x_grid >= 0 else 'W'\n",
    "\n",
    "            # download tree cover and loss files from UMD\n",
    "            cover_url =  f'https://glad.umd.edu/Potapov/TCC_2010/treecover2010_' \\\n",
    "                         f'{str(y_grid).zfill(2)}{lon}_{str(np.absolute(x_grid)).zfill(3)}{lat}.tif'\n",
    "            cover_dest = f'hansen_treecover2010/{str(y_grid).zfill(2)}{lon}_{str(np.absolute(x_grid)).zfill(3)}{lat}.tif'\n",
    "\n",
    "            try:\n",
    "                urllib.request.urlretrieve(cover_url, cover_dest)\n",
    "            except urllib.error.HTTPError as err:\n",
    "                if err.code == 404:\n",
    "                    print(f'HTTP Error 404: {cover_url}')\n",
    "                    \n",
    "            loss_url =  f'https://storage.googleapis.com/earthenginepartners-hansen/GFC-2020-v1.8/Hansen_GFC-2020-v1.8_lossyear_' \\\n",
    "                         f'{str(y_grid).zfill(2)}{lon}_{str(np.absolute(x_grid)).zfill(3)}{lat}.tif'\n",
    "            loss_dest = f'hansen_lossyear2020/{str(y_grid).zfill(2)}{lon}_{str(np.absolute(x_grid)).zfill(3)}{lat}.tif'\n",
    "\n",
    "            try:\n",
    "                urllib.request.urlretrieve(loss_url, loss_dest)\n",
    "            except urllib.error.HTTPError as err:\n",
    "                if err.code == 404:\n",
    "                    print(f'HTTP Error 404: {loss_url}')\n",
    "            \n",
    "            if not os.path.exists(cover_dest) or not os.path.exists(loss_dest):\n",
    "                print(f'Files did not download.')\n",
    "                \n",
    "            tree_cover_files.append(cover_dest)\n",
    "            loss_files.append(loss_dest)\n",
    "    \n",
    "    # remove duplicate file names\n",
    "    tree_tifs = [x for x in tree_cover_files if os.path.exists(x)] \n",
    "    loss_tifs = [x for x in loss_files if os.path.exists(x)]\n",
    "    \n",
    "    # convert tree cover and loss tifs into a virtual raster tile  \n",
    "    gdal.BuildVRT(f'{country}/{country}_hansen_treecover2010.vrt', tree_tifs)\n",
    "    gdal.BuildVRT(f'{country}/{country}_hansen_loss2020.vrt', loss_tifs)\n",
    "\n",
    "    # open vrts and convert to a single .tif \n",
    "    translateoptions = gdal.TranslateOptions(format='Gtiff', \n",
    "                                              outputSRS='EPSG:4326',\n",
    "                                              outputType=gdal.GDT_Byte,\n",
    "                                              noData=255,\n",
    "                                              creationOptions=['COMPRESS=LZW'],\n",
    "                                              resampleAlg='nearest')\n",
    " \n",
    "    source = gdal.Open(f'{country}/{country}_hansen_treecover2010.vrt', )\n",
    "    ds = gdal.Translate(f'{country}/{country}_hansen_treecover2010.tif', source, options=translateoptions)\n",
    "    os.remove(f'{country}/{country}_hansen_treecover2010.vrt')\n",
    "    source = None\n",
    "    ds = None\n",
    "                      \n",
    "    source = gdal.Open(f'{country}/{country}_hansen_loss2020.vrt')\n",
    "    ds = gdal.Translate(f'{country}/{country}_hansen_loss2020.tif', source, options=translateoptions)\n",
    "    os.remove(f'{country}/{country}_hansen_loss2020.vrt')\n",
    "    source = None\n",
    "    ds = None\n",
    "    \n",
    "    assert os.path.exists(f'{country}/{country}_hansen_treecover2010.tif')\n",
    "    assert os.path.exists(f'{country}/{country}_hansen_loss2020.tif')\n",
    "\n",
    "    # if new files are properly created, delete what is not needed\n",
    "    for file in tree_cover_files:\n",
    "        os.remove(file)\n",
    "    \n",
    "    for file in loss_files:\n",
    "        os.remove(file)\n",
    "    \n",
    "    print('Hansen raster built.')\n",
    "    return None"
   ]
  },
  {
   "cell_type": "markdown",
   "metadata": {},
   "source": [
    "## Remove loss"
   ]
  },
  {
   "cell_type": "code",
   "execution_count": 4,
   "metadata": {},
   "outputs": [],
   "source": [
    "def remove_loss(country):\n",
    "    '''\n",
    "    Takes in a country name to import hansen tree cover loss tifs. Updates tree cover \n",
    "    to 0 if loss was detected between 2011-2020. Returns updated tif in the country's \n",
    "    folder.\n",
    "    \n",
    "    Attributes\n",
    "    ----------\n",
    "    country : str\n",
    "        a string indicating the country files to import\n",
    "    '''\n",
    "    gdal.UseExceptions()\n",
    "    \n",
    "    hansen_cover = rs.open(f'{country}/{country}_hansen_treecover2010.tif').read(1) \n",
    "    print(f\"The hansen cover data is {hansen_cover.nbytes / 1e6} megabytes\")\n",
    "    hansen_loss = rs.open(f'{country}/{country}_hansen_loss2020.tif').read(1)\n",
    "    print(f\"The hansen loss data is {hansen_loss.nbytes / 1e6} megabytes\")\n",
    "    \n",
    "     # assert raster shape, datatype and max/min values\n",
    "    assert hansen_cover.dtype == 'uint8'\n",
    "    assert hansen_cover.shape != (0, ) and len(hansen_cover.shape) <= 2\n",
    "    assert hansen_cover.max() <= 100 and hansen_cover.min() >= 0\n",
    "    assert hansen_loss.dtype == 'uint8'\n",
    "    assert hansen_loss.shape != (0, ) and len(hansen_loss.shape) <= 2\n",
    "    assert hansen_loss.max() <= 20 and hansen_cover.min() >= 0\n",
    "    \n",
    "    # If there was loss between 2011-2020, conver to 0 in tree cover array\n",
    "    sum_before_loss = np.sum(hansen_cover > 0) \n",
    "    hansen_cover[(hansen_loss >= 11)] = 0.\n",
    "    #hansen_cover_new = np.where((hansen_loss >= 11) & (hansen_loss <= 20), 0, hansen_cover)\n",
    "    \n",
    "    # check bin counts after loss removed\n",
    "    print(f'{sum_before_loss - (np.sum(hansen_cover > 0))} pixels converted to loss.')\n",
    "    \n",
    "    # write as a new file\n",
    "    out_meta = rs.open(f'{country}/{country}_hansen_treecover2010.tif').meta\n",
    "    out_meta.update({'driver': 'GTiff',    \n",
    "                     'dtype': 'uint8',\n",
    "                     'height': hansen_cover.shape[0],\n",
    "                     'width': hansen_cover.shape[1],\n",
    "                     'count': 1,\n",
    "                     'compress':'lzw'})\n",
    "    outpath = f'{country}/{country}_hansen_treecover2010_wloss.tif'\n",
    "    with rs.open(outpath, 'w', **out_meta) as dest:\n",
    "            dest.write(hansen_cover, 1) \n",
    "    \n",
    "    # remove original hansen tree cover and loss files\n",
    "    os.remove(f'{country}/{country}_hansen_treecover2010.tif')\n",
    "    os.remove(f'{country}/{country}_hansen_loss2020.tif')\n",
    "    hansen_cover = None\n",
    "    hansen_loss = None \n",
    "    \n",
    "    return None"
   ]
  },
  {
   "cell_type": "markdown",
   "metadata": {},
   "source": [
    "## Pad TCL Raster"
   ]
  },
  {
   "cell_type": "code",
   "execution_count": 5,
   "metadata": {},
   "outputs": [],
   "source": [
    "def pad_tcl_raster(country):\n",
    "    \n",
    "    '''\n",
    "    Increase the raster extent to match the bounds of a country's shapefile\n",
    "    and fill with no data value.\n",
    "    \n",
    "    Attributes\n",
    "    ----------\n",
    "    country : str\n",
    "        a string indicating the country files to import\n",
    "    '''\n",
    "    \n",
    "    shapefile = gpd.read_file(f'{country}/{country}_adminboundaries.geojson')\n",
    "\n",
    "    # identify min/max bounds for the country\n",
    "    bounds = shapefile.geometry.bounds\n",
    "    min_x = bounds.minx.min() \n",
    "    min_y = bounds.miny.min()\n",
    "    max_x = bounds.maxx.max()\n",
    "    max_y = bounds.maxy.max()\n",
    "    \n",
    "    # create new bounds by rounding to the nearest .1 lat/lon \n",
    "    lower_x = math.floor(min_x * 10) / 10 \n",
    "    lower_y = math.floor(min_y * 10) / 10 \n",
    "    upper_x = math.ceil(max_x * 10) / 10\n",
    "    upper_y = math.ceil(max_y * 10) / 10\n",
    "          \n",
    "    # create tif with new bounds\n",
    "    warp_options = gdal.WarpOptions(format='GTiff', \n",
    "                                    dstSRS='EPSG:4326',\n",
    "                                    dstNodata=255,\n",
    "                                    outputBounds=[lower_x, lower_y, upper_x, upper_y],\n",
    "                                    resampleAlg='near',\n",
    "                                    outputType=osgeo.gdalconst.GDT_Byte,\n",
    "                                    creationOptions=['TFW=YES', 'COMPRESS=LZW', 'BIGTIFF=YES'])   \n",
    "        \n",
    "    ds = gdal.Warp(f'{country}/{country}_tof_padded.tif', \n",
    "                   f'{country}/{country}.tif',      \n",
    "                   options=warp_options)\n",
    "    \n",
    "    ds = None\n",
    "    \n",
    "    return None"
   ]
  },
  {
   "cell_type": "markdown",
   "metadata": {},
   "source": [
    "## Clip Rasters by Admin Boundary"
   ]
  },
  {
   "cell_type": "code",
   "execution_count": 6,
   "metadata": {},
   "outputs": [],
   "source": [
    "def create_clippings(country):\n",
    "    '''\n",
    "    Takes in a country name to import tof/hansen rasters and masks out administrative \n",
    "    boundaries based on the shapefile. Saves exploded shapefile as a geojson with polygons \n",
    "    split/numbered for each admin boundary. Returns clipped rasters as individual \n",
    "    files in the country's \"clipped_rasters\" folder. Deletes the original Hansen file. \n",
    "    \n",
    "    Attributes\n",
    "    ----------\n",
    "    country : str\n",
    "        a string indicating the country files to import        \n",
    "    '''\n",
    "    \n",
    "    if not os.path.exists(f'{country}/clipped_rasters/hansen'):\n",
    "        os.makedirs(f'{country}/clipped_rasters/hansen')\n",
    "    \n",
    "    if not os.path.exists(f'{country}/clipped_rasters/tof'):\n",
    "        os.makedirs(f'{country}/clipped_rasters/tof')\n",
    "    \n",
    "    if not os.path.exists(f'{country}/clipped_rasters/esa'):\n",
    "        os.makedirs(f'{country}/clipped_rasters/esa')\n",
    "    \n",
    "    # preprocess shapefile from multipolygon to single\n",
    "    orig_shapefile = gpd.read_file(f'{country}/{country}_adminboundaries.geojson')\n",
    "    counter = 0\n",
    "    \n",
    "    for idx, row in orig_shapefile.iterrows():\n",
    "        counter += 1 if type(row.geometry) == MultiPolygon else 0\n",
    "\n",
    "    if counter > 0:\n",
    "        shapefile = orig_shapefile.explode()\n",
    "        \n",
    "        # add integer to admin name if multi polys\n",
    "        shapefile.NAME_1 = np.where(shapefile.NAME_1.duplicated(keep=False), \n",
    "                                     shapefile.NAME_1 + shapefile.groupby('NAME_1').cumcount().add(1).astype(str),\n",
    "                                     shapefile.NAME_1)\n",
    "\n",
    "        shapefile = shapefile.reset_index()\n",
    "        shapefile.drop(columns=['level_0', 'level_1'], inplace=True)\n",
    "    \n",
    "    # if no multi polys save original shapefile under new name\n",
    "    else:\n",
    "        shapefile = orig_shapefile\n",
    "    \n",
    "    shapefile.to_file(f'{country}/{country}_adminboundaries_exp.geojson', driver='GeoJSON')\n",
    "    \n",
    "    def mask_raster(polygon, admin, raster, folder):\n",
    "        out_img, out_transform = mask(dataset=raster, shapes=[polygon], crop=True, nodata=255, filled = False)\n",
    "        out_meta = raster.meta\n",
    "        out_meta.update({'driver': 'GTiff',    \n",
    "                         'dtype': 'uint8',\n",
    "                         'height': out_img.shape[1],\n",
    "                         'width': out_img.shape[2],\n",
    "                         'transform': out_transform})\n",
    "        outpath = f'{country}/clipped_rasters/{folder}/{admin}.tif'\n",
    "        with rs.open(outpath, 'w', **out_meta) as dest:\n",
    "            dest.write(out_img)\n",
    "        out_img = None\n",
    "        out_transform = None\n",
    "        return None\n",
    "    \n",
    "    # open files one by one\n",
    "    tof_raster_path = f'{country}/{country}_tof_padded.tif'\n",
    "    hansen_raster_path = f'{country}/{country}_hansen_treecover2010_wloss.tif'\n",
    "    esa_raster_path = 'ESACCI-LC-L4-LCCS-Map-300m-P1Y-2015-v2.0.7.tif'\n",
    "    \n",
    "    files_to_process = [tof_raster_path, hansen_raster_path, esa_raster_path]\n",
    "    types_to_process = ['tof', 'hansen', 'esa']\n",
    "    \n",
    "    for file, file_type in zip(files_to_process, types_to_process):\n",
    "        with rs.open(file) as raster:\n",
    "            for polygon, admin in zip(shapefile.geometry, shapefile.NAME_1):\n",
    "                # print(f\"Clipping {admin}: {file_type}\")\n",
    "                mask_raster(polygon, admin, raster, file_type)\n",
    "\n",
    "    \n",
    "    # delete tof and Hansen files once clippings created\n",
    "    os.remove(f'{country}/{country}_hansen_treecover2010_wloss.tif')\n",
    "    os.remove(f'{country}/{country}_tof_padded.tif')\n",
    "    os.remove(f'{country}/{country}_tof_padded.tfw')\n",
    "    \n",
    "    print(f\"{country}'s rasters clipped and saved.\")\n",
    "    return None"
   ]
  },
  {
   "cell_type": "markdown",
   "metadata": {},
   "source": [
    "## Resample to Match Resolution"
   ]
  },
  {
   "cell_type": "code",
   "execution_count": 7,
   "metadata": {},
   "outputs": [],
   "source": [
    "def match_extent_and_res(source, reference, out_filename, tof=False, esa=False):\n",
    "\n",
    "    '''\n",
    "    GDAL’s nearest neighbor interpolation is used match the \n",
    "    projection, bounding box and dimensions of the source dataset \n",
    "    to the reference dataset. \n",
    "    '''\n",
    "    \n",
    "    # set up the source file \n",
    "    src = gdal.Open(source, gdalconst.GA_ReadOnly)\n",
    "    src_proj = src.GetProjection()\n",
    "    src_geotrans = src.GetGeoTransform()\n",
    "\n",
    "    # set up the reference file (esa)\n",
    "    ref_ds = gdal.Open(reference, gdalconst.GA_ReadOnly)\n",
    "    ref_proj = ref_ds.GetProjection()\n",
    "    ref_geotrans = ref_ds.GetGeoTransform()\n",
    "    \n",
    "    # create height/width for the interpolation (ref dataset except for tof)\n",
    "    width = ref_ds.RasterXSize if not tof else src.RasterXSize\n",
    "    height = ref_ds.RasterYSize if not tof else src.RasterYSize\n",
    "\n",
    "    out = gdal.GetDriverByName('GTiff').Create(out_filename, width, height, 1, gdalconst.GDT_Byte)\n",
    "    rb = out.GetRasterBand(1)\n",
    "    rb.SetNoDataValue(255)\n",
    "    \n",
    "    # do not adjust the bounds for esa, use source (esa)\n",
    "    if esa:\n",
    "        ref_proj = src_proj\n",
    "    \n",
    "    # set geotrans, proj and no data val for the out file\n",
    "    out.SetGeoTransform(ref_geotrans)\n",
    "    out.SetProjection(ref_proj)\n",
    "    \n",
    "    interpolation = gdalconst.GRA_NearestNeighbour\n",
    "    gdal.ReprojectImage(src, out, src_proj, ref_proj, interpolation)\n",
    "\n",
    "    return None"
   ]
  },
  {
   "cell_type": "code",
   "execution_count": null,
   "metadata": {},
   "outputs": [],
   "source": [
    "## INSERT OPTION 1"
   ]
  },
  {
   "cell_type": "code",
   "execution_count": null,
   "metadata": {},
   "outputs": [],
   "source": [
    "## INSERT OPTION 2"
   ]
  },
  {
   "cell_type": "code",
   "execution_count": 8,
   "metadata": {},
   "outputs": [],
   "source": [
    "def apply_extent_res(country):\n",
    "    \n",
    "    '''\n",
    "    Applies match_raster_extent_and_res() to all admin files\n",
    "    for a country. The ESA and Hansen data are upsampled to match \n",
    "    TOF at 10m resolution. TOF and Hansen et al. data are resized to \n",
    "    match the dimensions and bounding box of the ESA data.\n",
    "    \n",
    "    Attributes\n",
    "    ----------\n",
    "    country : str\n",
    "        a string indicating the country files to import\n",
    "    '''\n",
    "    \n",
    "    if not os.path.exists(f'{country}/resampled_rasters/hansen'):\n",
    "        os.makedirs(f'{country}/resampled_rasters/hansen')\n",
    "    \n",
    "    if not os.path.exists(f'{country}/resampled_rasters/tof'):\n",
    "        os.makedirs(f'{country}/resampled_rasters/tof')\n",
    "    \n",
    "    if not os.path.exists(f'{country}/resampled_rasters/esa'):\n",
    "        os.makedirs(f'{country}/resampled_rasters/esa')\n",
    "        \n",
    "    \n",
    "    # import new shapefile containing only polygons\n",
    "    shapefile = gpd.read_file(f'{country}/{country}_adminboundaries_exp.geojson')\n",
    "    admin_boundaries = list(shapefile.NAME_1)\n",
    "    \n",
    "    for admin in admin_boundaries:\n",
    "        \n",
    "        # apply to esa\n",
    "        match_extent_and_res(f'{country}/clipped_rasters/esa/{admin}.tif', # source\n",
    "                             f'{country}/clipped_rasters/tof/{admin}.tif', # reference\n",
    "                             f'{country}/resampled_rasters/esa/{admin}.tif', # outpath\n",
    "                             tof = False, \n",
    "                             esa = True) \n",
    "        \n",
    "        # apply to tof\n",
    "        match_extent_and_res(f'{country}/clipped_rasters/tof/{admin}.tif', \n",
    "                             f'{country}/resampled_rasters/esa/{admin}.tif', \n",
    "                             f'{country}/resampled_rasters/tof/{admin}.tif', \n",
    "                             tof = True, \n",
    "                             esa = False) \n",
    "        \n",
    "        # apply to hansen\n",
    "        match_extent_and_res(f'{country}/clipped_rasters/hansen/{admin}.tif', \n",
    "                             f'{country}/resampled_rasters/esa/{admin}.tif', \n",
    "                             f'{country}/resampled_rasters/hansen/{admin}.tif', \n",
    "                             tof = False, \n",
    "                             esa = False) \n",
    "        \n",
    "        # assert no data value added correctly in tof rasters\n",
    "        tof = rs.open(f'{country}/resampled_rasters/tof/{admin}.tif').read(1)\n",
    "        assert tof.max() <= 255\n",
    "        \n",
    "    return None"
   ]
  },
  {
   "cell_type": "markdown",
   "metadata": {},
   "source": [
    "## Merge Admin Polygons"
   ]
  },
  {
   "cell_type": "code",
   "execution_count": 9,
   "metadata": {},
   "outputs": [],
   "source": [
    "def merge_polygons(country):\n",
    "    '''\n",
    "    Takes in a country's resampled rasters and identifies\n",
    "    which admin boundaries are composed of multipolygons. Combines individual files\n",
    "    into one for the admin district, then deletes the individual files.\n",
    "    \n",
    "    Attributes\n",
    "    ----------\n",
    "    country : str\n",
    "        a string indicating the country files to import\n",
    "    '''\n",
    "\n",
    "    shapefile = gpd.read_file(f'{country}/{country}_adminboundaries_exp.geojson')\n",
    "    admin_boundaries_all = list(shapefile.NAME_1)\n",
    "    \n",
    "    # creates a list of admins that need to be merged (digits in filename)\n",
    "    no_ints = []\n",
    "    for admin in admin_boundaries_all:\n",
    "        \n",
    "        # if any characters are digits, remove them and ad admin to list\n",
    "        if any(char.isdigit() for char in admin):\n",
    "            clean_admin = ''.join([char for char in admin if not char.isdigit()])\n",
    "            no_ints.append(clean_admin)\n",
    "\n",
    "    no_ints = list(set(no_ints))\n",
    "    print(f'{len(no_ints)} admins will be merged: {no_ints}')\n",
    "\n",
    "    datasets = ['tof', 'hansen', 'esa']\n",
    "    \n",
    "    for data in datasets:\n",
    "        for admin_2 in no_ints:\n",
    "\n",
    "            # gather list of files for that admin (ex: Puntarenas1.tif, Puntarenas2.tif, Puntarenas3.tif)\n",
    "            files_to_merge = [] # items need to be in dataset reader mode\n",
    "            files_to_delete = [] # items are just string of the file name\n",
    "\n",
    "            for path in glob.glob(f'{country}/resampled_rasters/{data}/{admin_2}?.tif'):\n",
    "                filename = os.path.basename(path) \n",
    "                files_to_delete.append(filename)\n",
    "                src = rs.open(f'{country}/resampled_rasters/{data}/{filename}')\n",
    "                files_to_merge.append(src)\n",
    "\n",
    "            # capture double digits\n",
    "            for path in glob.glob(f'{country}/resampled_rasters/{data}/{admin_2}??.tif'):\n",
    "                filename = os.path.basename(path) \n",
    "                files_to_delete.append(filename)\n",
    "                src = rs.open(f'{country}/resampled_rasters/{data}/{filename}')\n",
    "                files_to_merge.append(src)\n",
    "\n",
    "            # capture triple digits\n",
    "            for path in glob.glob(f'{country}/resampled_rasters/{data}/{admin_2}???.tif'):\n",
    "                filename = os.path.basename(path) \n",
    "                files_to_delete.append(filename)\n",
    "                src = rs.open(f'{country}/resampled_rasters/{data}/{filename}')\n",
    "                files_to_merge.append(src)\n",
    "\n",
    "            if len(files_to_merge) < 1:\n",
    "                print(f'No files to merge in {data}.')\n",
    "\n",
    "            mosaic, out_transform = merge(files_to_merge)\n",
    "\n",
    "            outpath = f'{country}/resampled_rasters/{data}/{admin_2}.tif'\n",
    "            out_meta = src.meta.copy()\n",
    "            out_meta.update({'driver': \"GTiff\",\n",
    "                             'dtype': 'uint8',\n",
    "                             'height': mosaic.shape[1],\n",
    "                             'width': mosaic.shape[2],\n",
    "                             'transform': out_transform})\n",
    "\n",
    "            with rs.open(outpath, \"w\", **out_meta) as dest:\n",
    "                dest.write(mosaic)\n",
    "\n",
    "            # delete the old separated tifs\n",
    "            for file in files_to_delete:\n",
    "                os.remove(f'{country}/resampled_rasters/{data}/{file}')\n",
    "\n",
    "    return None"
   ]
  },
  {
   "cell_type": "markdown",
   "metadata": {},
   "source": [
    "# Calculate Statistics"
   ]
  },
  {
   "cell_type": "code",
   "execution_count": 10,
   "metadata": {},
   "outputs": [],
   "source": [
    "def reshape_to_4d(raster):\n",
    "    \n",
    "    '''\n",
    "    Takes in a GTiff, identifies the dimensions and them down to the nearest 10th.\n",
    "    Returns a reshaped 10x10 grid array. \n",
    "    \n",
    "    Attributes\n",
    "    ----------\n",
    "    raster : str\n",
    "        GTiff that will be reshaped\n",
    "    '''\n",
    "    \n",
    "    def round_down(num, divisor):\n",
    "         return num - (num%divisor)\n",
    "   \n",
    "    # round down rows and cols to nearest 10th\n",
    "    rows, cols = round_down(raster.shape[0], 10), round_down(raster.shape[1], 10)\n",
    "    \n",
    "    # clip according to rounded numbers and reshape\n",
    "    rounded = raster[:rows, :cols]\n",
    "    reshaped = np.reshape(rounded, (rounded.shape[0] // 10, 10, rounded.shape[1] // 10, 10))\n",
    "        \n",
    "    return reshaped\n"
   ]
  },
  {
   "cell_type": "code",
   "execution_count": 11,
   "metadata": {},
   "outputs": [],
   "source": [
    "def calculate_stats(country):\n",
    "    \n",
    "    '''\n",
    "    Takes in a country to import appropriate tof/hansen/esa rasters. Returns a csv \n",
    "    with statistics per administrative district, per land cover class and per tree cover\n",
    "    threshold.\n",
    "    \n",
    "    Attributes\n",
    "    ----------\n",
    "    country : str\n",
    "        a string indicating the country files to import\n",
    "\n",
    "    '''\n",
    "    \n",
    "    if not os.path.exists(f'{country}/stats'):\n",
    "        os.makedirs(f'{country}/stats')\n",
    "        \n",
    "    # set up the dataframe\n",
    "    df = pd.DataFrame(columns=['country','admin','esa_id','esa_class',\n",
    "                               'esa_sampled_ha','esa_total_ha','tree_cover_class',\n",
    "                               'tof_ha','hans_ha', 'tof_mean', 'hans_mean'], dtype=object) \n",
    "    counter = 0\n",
    "    \n",
    "    folder_contents = [f for f in os.listdir(f'{country}/resampled_rasters/tof') if f != '.ipynb_checkpoints']\n",
    "    \n",
    "    # iterate through the admins\n",
    "    for file in folder_contents:\n",
    "        \n",
    "        counter += 1\n",
    "        \n",
    "        tof = rs.open(f'{country}/resampled_rasters/tof/{file}').read(1).astype(np.float32)\n",
    "        hans = rs.open(f'{country}/resampled_rasters/hansen/{file}').read(1).astype(np.float32)\n",
    "        esa = rs.open(f'{country}/resampled_rasters/esa/{file}').read(1).astype(np.float32)\n",
    "        \n",
    "        lower_rng = [x for x in range(0, 100, 10)]\n",
    "        upper_rng = [x for x in range(10, 110, 10)]\n",
    "\n",
    "        # convert values to their median for binning\n",
    "        for lower, upper in zip(lower_rng, upper_rng):\n",
    "            \n",
    "            tof[(tof >= lower) & (tof < upper)] = lower + 4.5\n",
    "            hans[(hans >= lower) & (hans < upper)] = lower + 4.5\n",
    "    \n",
    "        # iterate through the land cover classes\n",
    "        esa_classes = np.unique(esa)\n",
    "        \n",
    "        if 0 and 255 in esa_classes:\n",
    "            print('ESA contains lc labels 0 and 255.')\n",
    "        \n",
    "        for cover in esa_classes:\n",
    "            \n",
    "            # change all values that are not equal to the lcc to NaN including no data vals\n",
    "            tof_class = tof.copy()\n",
    "            tof_class[esa != cover] = np.nan \n",
    "            tof_class[tof_class == 255] = np.nan\n",
    "\n",
    "            # reshape and calculate stats\n",
    "            # if the entire array in NaNs then tof mean = 0\n",
    "            tof_reshaped = reshape_to_4d(tof_class) \n",
    "            tof_class_mean = np.nanmean(tof_reshaped)\n",
    "            tof_class_mean_per_ha = np.nanmean(tof_reshaped, axis=(1,3))\n",
    "\n",
    "            # same for Hansen\n",
    "            hans_class = hans.copy()\n",
    "            hans_class[esa != cover] = np.nan\n",
    "            hans_class[hans_class == 255] = np.nan\n",
    "\n",
    "            hans_reshaped = reshape_to_4d(hans_class)\n",
    "            hans_class_mean = np.nanmean(hans_reshaped)\n",
    "            hans_class_mean_per_ha = np.nanmean(hans_reshaped, axis=(1,3)) \n",
    "\n",
    "            # iterate through the thresholds (0-10, 10-20, 20-30)\n",
    "            for lower, upper in zip(lower_rng, upper_rng):\n",
    "\n",
    "                # calculate total ha for that threshold \n",
    "                tof_bin = np.sum((tof_class_mean_per_ha >= lower) & (tof_class_mean_per_ha < upper))\n",
    "                hans_bin = np.sum((hans_class_mean_per_ha >= lower) & (hans_class_mean_per_ha < upper))\n",
    "                bin_name = (f'{str(lower)}-{str(upper - 1)}')\n",
    "    \n",
    "                # area of lc sampled (tof is NOT null) and total area (esa raster equals cover)\n",
    "                # /100 converts 10m data to hectares\n",
    "                lc_sampled = np.sum(~np.isnan(tof_class)) / 100   \n",
    "                \n",
    "                # need to ensure this counts the no data class correctly (no data label is 0.0)\n",
    "                lc_total = np.count_nonzero(esa == cover)/100 if cover == 0.0 else np.sum(esa == cover)/100\n",
    "                \n",
    "                # check for erroneous calculations\n",
    "                if lc_sampled > lc_total:\n",
    "                    raise ValueError(f'Sampled area is greater than total area for land cover {cover} in {file}.')\n",
    "                    \n",
    "                df = df.append({'country': country, \n",
    "                               'admin': file[:-4],\n",
    "                               'esa_id': cover,\n",
    "                               'esa_sampled_ha': lc_sampled,\n",
    "                               'esa_total_ha': lc_total,\n",
    "                               'tree_cover_class': bin_name,\n",
    "                               'tof_ha': tof_bin,\n",
    "                               'hans_ha': hans_bin,\n",
    "                               'tof_mean': tof_class_mean, \n",
    "                               'hans_mean': hans_class_mean},\n",
    "                                ignore_index=True)\n",
    "        \n",
    "        # map ESA id numbers to lcc labels\n",
    "        esa_legend = {0: 'ESA No Data',\n",
    "                10: 'Cropland, rainfed',\n",
    "                11: 'Cropland, rainfed',\n",
    "                12: 'Cropland, rainfed',\n",
    "                20: 'Cropland, irrigated or post-flooding',\n",
    "                30: 'Mosaic cropland / natural vegetation',\n",
    "                40: 'Mosaic natural vegetation / cropland',\n",
    "                50: 'Tree cover, broadleaved, evergreen',\n",
    "                60: 'Tree cover, broadleaved, deciduous',\n",
    "                70: 'Tree cover, needleleaved, evergreen',\n",
    "                80: 'Tree cover, needleleaved, deciduous',\n",
    "                90: 'Tree cover, mixed leaf type',\n",
    "                100: 'Mosaic tree and shrub / herbaceous cover',\n",
    "                110: 'Mosaic herbaceous cover / tree and shrub',\n",
    "                120: 'Shrubland',\n",
    "                130: 'Grassland',\n",
    "                140: 'Lichens and mosses',\n",
    "                150: 'Sparse vegetation',\n",
    "                160: 'Tree cover, flooded, fresh or brakish water',\n",
    "                170: 'Tree cover, flooded, saline water',\n",
    "                180: 'Shrub or herbaceous cover, flooded, fresh/saline/brakish water',\n",
    "                190: 'Urban areas',\n",
    "                200: 'Bare areas',\n",
    "                210: 'Water bodies',\n",
    "                220: 'Permanent snow and ice',\n",
    "                255: 'No Data (flag)'}\n",
    "     \n",
    "        df['esa_class'] = df['esa_id'].map(esa_legend)\n",
    "        \n",
    "        if counter % 3 == 0:\n",
    "            print(f'{counter}/{len(folder_contents)} admins processed...')\n",
    "    \n",
    "    df.to_csv(f'{country}/stats/{country}_statistics.csv', index=False)\n",
    "    \n",
    "    return None"
   ]
  },
  {
   "cell_type": "markdown",
   "metadata": {},
   "source": [
    "# Test Pipeline"
   ]
  },
  {
   "cell_type": "code",
   "execution_count": 12,
   "metadata": {},
   "outputs": [],
   "source": [
    "def execute_pipe(country):\n",
    "    print('Converting shapefile to geojson...')\n",
    "    shape_to_gjson(country)\n",
    "    print('Building Hansen tree cover raster...')\n",
    "    create_hansen_tif(country)\n",
    "    print('Removing tree cover loss...')\n",
    "    remove_loss(country)\n",
    "    print('Padding tof raster...')\n",
    "    pad_tcl_raster(country)\n",
    "    print('Clipping rasters by admin boundary...')\n",
    "    create_clippings(country)\n",
    "    print('Resampling to match raster extents and resolutions...')\n",
    "    apply_extent_res(country)\n",
    "    print('Merging admins containing multiple polygons...')\n",
    "    merge_polygons(country)\n",
    "    print('Data preparation complete.')\n",
    "    print('Calculating statistics...')\n",
    "    calculate_stats(country)\n",
    "    print('Analysis complete.')\n",
    "    return None\n",
    "    "
   ]
<<<<<<< HEAD
||||||| merged common ancestors
  },
  {
   "cell_type": "code",
   "execution_count": 25,
   "metadata": {},
   "outputs": [],
   "source": [
    "#execute_pipe('Belize')"
   ]
  },
  {
   "cell_type": "code",
   "execution_count": 30,
   "metadata": {},
   "outputs": [],
   "source": [
    "#execute_pipe('El Salvador')"
   ]
  },
  {
   "cell_type": "code",
   "execution_count": 14,
   "metadata": {},
   "outputs": [],
   "source": [
    "#execute_pipe('Nicaragua')"
   ]
  },
  {
   "cell_type": "code",
   "execution_count": 15,
   "metadata": {},
   "outputs": [],
   "source": [
    "#execute_pipe('Guatemala')"
   ]
  },
  {
   "cell_type": "code",
   "execution_count": 16,
   "metadata": {},
   "outputs": [
    {
     "name": "stdout",
     "output_type": "stream",
     "text": [
      "Converting shapefile to geojson...\n",
      "There are 18 admins in Honduras.\n",
      "Building Hansen tree cover raster...\n",
      "Honduras has lon N and lat W.\n",
      "Downloading files from GLAD...\n",
      "Hansen raster built.\n",
      "Removing tree cover loss...\n",
      "35697769 pixels converted to loss.\n",
      "Padding tof raster...\n",
      "Clipping rasters by admin boundary...\n",
      "Honduras's rasters clipped and saved.\n",
      "Resampling to match raster extents and resolutions...\n",
      "Merging admins containing multiple polygons...\n",
      "7 admins will be merged: ['Islas de la Bahía', 'Colón', 'Gracias a Dios', 'Cortés', 'Valle', 'Choluteca', 'Atlántida']\n",
      "Data preparation complete.\n",
      "Calculating statistics...\n"
     ]
    },
    {
     "name": "stderr",
     "output_type": "stream",
     "text": [
      "/Users/jessicaertel/anaconda3/lib/python3.7/site-packages/ipykernel_launcher.py:61: RuntimeWarning: Mean of empty slice\n",
      "/Users/jessicaertel/anaconda3/lib/python3.7/site-packages/ipykernel_launcher.py:70: RuntimeWarning: Mean of empty slice\n"
     ]
    },
    {
     "name": "stdout",
     "output_type": "stream",
     "text": [
      "3/18 admins processed...\n",
      "6/18 admins processed...\n",
      "9/18 admins processed...\n",
      "12/18 admins processed...\n",
      "15/18 admins processed...\n",
      "18/18 admins processed...\n"
     ]
    },
    {
     "data": {
      "text/plain": [
       "'Analysis complete.'"
      ]
     },
     "execution_count": 16,
     "metadata": {},
     "output_type": "execute_result"
    }
   ],
   "source": [
    "execute_pipe('Honduras')"
   ]
  },
  {
   "cell_type": "code",
   "execution_count": 17,
   "metadata": {},
   "outputs": [
    {
     "name": "stdout",
     "output_type": "stream",
     "text": [
      "Converting shapefile to geojson...\n",
      "There are 13 admins in Panama.\n",
      "Building Hansen tree cover raster...\n",
      "Panama has lon N and lat W.\n",
      "Downloading files from GLAD...\n",
      "Hansen raster built.\n",
      "Removing tree cover loss...\n",
      "38598272 pixels converted to loss.\n",
      "Padding tof raster...\n",
      "Clipping rasters by admin boundary...\n",
      "Panama's rasters clipped and saved.\n",
      "Resampling to match raster extents and resolutions...\n"
     ]
    },
    {
     "name": "stderr",
     "output_type": "stream",
     "text": [
      "Exception ignored in: <built-in function delete_Dataset>\n",
      "RuntimeError: TIFFAppendToStrip:Write error at scanline 4\n"
     ]
    },
    {
     "ename": "RuntimeError",
     "evalue": "Attempt to create new tiff file `Panama/resampled_rasters/tof/Darién18.tif' failed: No space left on device",
     "output_type": "error",
     "traceback": [
      "\u001b[0;31m---------------------------------------------------------------------------\u001b[0m",
      "\u001b[0;31mRuntimeError\u001b[0m                              Traceback (most recent call last)",
      "\u001b[0;32m<ipython-input-17-d525ea2397ac>\u001b[0m in \u001b[0;36m<module>\u001b[0;34m\u001b[0m\n\u001b[0;32m----> 1\u001b[0;31m \u001b[0mexecute_pipe\u001b[0m\u001b[0;34m(\u001b[0m\u001b[0;34m'Panama'\u001b[0m\u001b[0;34m)\u001b[0m\u001b[0;34m\u001b[0m\u001b[0m\n\u001b[0m",
      "\u001b[0;32m<ipython-input-13-855c3441ccf2>\u001b[0m in \u001b[0;36mexecute_pipe\u001b[0;34m(country)\u001b[0m\n\u001b[1;32m     11\u001b[0m     \u001b[0mcreate_clippings\u001b[0m\u001b[0;34m(\u001b[0m\u001b[0mcountry\u001b[0m\u001b[0;34m)\u001b[0m\u001b[0;34m\u001b[0m\u001b[0m\n\u001b[1;32m     12\u001b[0m     \u001b[0mprint\u001b[0m\u001b[0;34m(\u001b[0m\u001b[0;34m'Resampling to match raster extents and resolutions...'\u001b[0m\u001b[0;34m)\u001b[0m\u001b[0;34m\u001b[0m\u001b[0m\n\u001b[0;32m---> 13\u001b[0;31m     \u001b[0mapply_extent_res\u001b[0m\u001b[0;34m(\u001b[0m\u001b[0mcountry\u001b[0m\u001b[0;34m)\u001b[0m\u001b[0;34m\u001b[0m\u001b[0m\n\u001b[0m\u001b[1;32m     14\u001b[0m     \u001b[0mprint\u001b[0m\u001b[0;34m(\u001b[0m\u001b[0;34m'Merging admins containing multiple polygons...'\u001b[0m\u001b[0;34m)\u001b[0m\u001b[0;34m\u001b[0m\u001b[0m\n\u001b[1;32m     15\u001b[0m     \u001b[0mmerge_polygons\u001b[0m\u001b[0;34m(\u001b[0m\u001b[0mcountry\u001b[0m\u001b[0;34m)\u001b[0m\u001b[0;34m\u001b[0m\u001b[0m\n",
      "\u001b[0;32m<ipython-input-9-f176140b31be>\u001b[0m in \u001b[0;36mapply_extent_res\u001b[0;34m(country)\u001b[0m\n\u001b[1;32m     34\u001b[0m                              \u001b[0;34mf'{country}/resampled_rasters/tof/{admin}.tif'\u001b[0m\u001b[0;34m,\u001b[0m\u001b[0;34m\u001b[0m\u001b[0m\n\u001b[1;32m     35\u001b[0m                              \u001b[0mtof\u001b[0m \u001b[0;34m=\u001b[0m \u001b[0;32mTrue\u001b[0m\u001b[0;34m,\u001b[0m\u001b[0;34m\u001b[0m\u001b[0m\n\u001b[0;32m---> 36\u001b[0;31m                              esa = False) \n\u001b[0m\u001b[1;32m     37\u001b[0m \u001b[0;34m\u001b[0m\u001b[0m\n\u001b[1;32m     38\u001b[0m         \u001b[0;31m# apply to hansen\u001b[0m\u001b[0;34m\u001b[0m\u001b[0;34m\u001b[0m\u001b[0m\n",
      "\u001b[0;32m<ipython-input-8-01163f36fca8>\u001b[0m in \u001b[0;36mmatch_extent_and_res\u001b[0;34m(source, reference, out_filename, tof, esa)\u001b[0m\n\u001b[1;32m     19\u001b[0m     \u001b[0mheight\u001b[0m \u001b[0;34m=\u001b[0m \u001b[0mref_ds\u001b[0m\u001b[0;34m.\u001b[0m\u001b[0mRasterYSize\u001b[0m \u001b[0;32mif\u001b[0m \u001b[0;32mnot\u001b[0m \u001b[0mtof\u001b[0m \u001b[0;32melse\u001b[0m \u001b[0msrc\u001b[0m\u001b[0;34m.\u001b[0m\u001b[0mRasterYSize\u001b[0m\u001b[0;34m\u001b[0m\u001b[0m\n\u001b[1;32m     20\u001b[0m \u001b[0;34m\u001b[0m\u001b[0m\n\u001b[0;32m---> 21\u001b[0;31m     \u001b[0mout\u001b[0m \u001b[0;34m=\u001b[0m \u001b[0mgdal\u001b[0m\u001b[0;34m.\u001b[0m\u001b[0mGetDriverByName\u001b[0m\u001b[0;34m(\u001b[0m\u001b[0;34m'GTiff'\u001b[0m\u001b[0;34m)\u001b[0m\u001b[0;34m.\u001b[0m\u001b[0mCreate\u001b[0m\u001b[0;34m(\u001b[0m\u001b[0mout_filename\u001b[0m\u001b[0;34m,\u001b[0m \u001b[0mwidth\u001b[0m\u001b[0;34m,\u001b[0m \u001b[0mheight\u001b[0m\u001b[0;34m,\u001b[0m \u001b[0;36m1\u001b[0m\u001b[0;34m,\u001b[0m \u001b[0mgdalconst\u001b[0m\u001b[0;34m.\u001b[0m\u001b[0mGDT_Byte\u001b[0m\u001b[0;34m)\u001b[0m\u001b[0;34m\u001b[0m\u001b[0m\n\u001b[0m\u001b[1;32m     22\u001b[0m     \u001b[0mrb\u001b[0m \u001b[0;34m=\u001b[0m \u001b[0mout\u001b[0m\u001b[0;34m.\u001b[0m\u001b[0mGetRasterBand\u001b[0m\u001b[0;34m(\u001b[0m\u001b[0;36m1\u001b[0m\u001b[0;34m)\u001b[0m\u001b[0;34m\u001b[0m\u001b[0m\n\u001b[1;32m     23\u001b[0m     \u001b[0mrb\u001b[0m\u001b[0;34m.\u001b[0m\u001b[0mSetNoDataValue\u001b[0m\u001b[0;34m(\u001b[0m\u001b[0;36m255\u001b[0m\u001b[0;34m)\u001b[0m\u001b[0;34m\u001b[0m\u001b[0m\n",
      "\u001b[0;32m~/anaconda3/lib/python3.7/site-packages/osgeo/gdal.py\u001b[0m in \u001b[0;36mCreate\u001b[0;34m(self, *args, **kwargs)\u001b[0m\n\u001b[1;32m   1539\u001b[0m     \u001b[0;32mdef\u001b[0m \u001b[0mCreate\u001b[0m\u001b[0;34m(\u001b[0m\u001b[0mself\u001b[0m\u001b[0;34m,\u001b[0m \u001b[0;34m*\u001b[0m\u001b[0margs\u001b[0m\u001b[0;34m,\u001b[0m \u001b[0;34m**\u001b[0m\u001b[0mkwargs\u001b[0m\u001b[0;34m)\u001b[0m\u001b[0;34m:\u001b[0m\u001b[0;34m\u001b[0m\u001b[0m\n\u001b[1;32m   1540\u001b[0m         \u001b[0;34m\"\"\"Create(Driver self, char const * utf8_path, int xsize, int ysize, int bands=1, GDALDataType eType, char ** options=None) -> Dataset\"\"\"\u001b[0m\u001b[0;34m\u001b[0m\u001b[0m\n\u001b[0;32m-> 1541\u001b[0;31m         \u001b[0;32mreturn\u001b[0m \u001b[0m_gdal\u001b[0m\u001b[0;34m.\u001b[0m\u001b[0mDriver_Create\u001b[0m\u001b[0;34m(\u001b[0m\u001b[0mself\u001b[0m\u001b[0;34m,\u001b[0m \u001b[0;34m*\u001b[0m\u001b[0margs\u001b[0m\u001b[0;34m,\u001b[0m \u001b[0;34m**\u001b[0m\u001b[0mkwargs\u001b[0m\u001b[0;34m)\u001b[0m\u001b[0;34m\u001b[0m\u001b[0m\n\u001b[0m\u001b[1;32m   1542\u001b[0m \u001b[0;34m\u001b[0m\u001b[0m\n\u001b[1;32m   1543\u001b[0m \u001b[0;34m\u001b[0m\u001b[0m\n",
      "\u001b[0;31mRuntimeError\u001b[0m: Attempt to create new tiff file `Panama/resampled_rasters/tof/Darién18.tif' failed: No space left on device"
     ]
    }
   ],
   "source": [
    "execute_pipe('Panama')"
   ]
  },
  {
   "cell_type": "code",
   "execution_count": null,
   "metadata": {},
   "outputs": [
    {
     "name": "stdout",
     "output_type": "stream",
     "text": [
      "Converting shapefile to geojson...\n",
      "There are 7 admins in Costa Rica.\n",
      "Building Hansen tree cover raster...\n",
      "Costa Rica has lon N and lat W.\n",
      "Downloading files from GLAD...\n",
      "Hansen raster built.\n",
      "Removing tree cover loss...\n",
      "38050442 pixels converted to loss.\n",
      "Padding tof raster...\n",
      "Clipping rasters by admin boundary...\n",
      "Costa Rica's rasters clipped and saved.\n",
      "Resampling to match raster extents and resolutions...\n",
      "Merging admins containing multiple polygons...\n",
      "3 admins will be merged: ['Puntarenas', 'Limón', 'Guanacaste']\n",
      "Data preparation complete.\n",
      "Calculating statistics...\n"
     ]
    },
    {
     "name": "stderr",
     "output_type": "stream",
     "text": [
      "/Users/jessicaertel/anaconda3/lib/python3.7/site-packages/ipykernel_launcher.py:61: RuntimeWarning: Mean of empty slice\n"
     ]
    }
   ],
   "source": [
    "execute_pipe('Costa Rica')"
   ]
  },
  {
   "cell_type": "code",
   "execution_count": 48,
   "metadata": {},
   "outputs": [
    {
     "name": "stdout",
     "output_type": "stream",
     "text": [
      "Converting shapefile to geojson...\n",
      "There are 6 admins in Gambia.\n",
      "Building Hansen tree cover raster...\n",
      "Gambia has lon N and lat W.\n",
      "Downloading files from GLAD...\n",
      "Hansen raster built.\n",
      "Removing tree cover loss...\n",
      "21982618 pixels converted to loss.\n",
      "Padding tof raster...\n",
      "Clipping rasters by admin boundary...\n",
      "Gambia's rasters clipped and saved.\n",
      "Resampling to match raster extents and resolutions...\n",
      "Merging admins containing multiple polygons...\n",
      "3 admins will be merged: ['Banjul', 'North Bank', 'Western']\n",
      "Data preparation complete.\n",
      "Calculating statistics...\n"
     ]
    },
    {
     "name": "stderr",
     "output_type": "stream",
     "text": [
      "/Users/jessicaertel/anaconda3/lib/python3.7/site-packages/ipykernel_launcher.py:56: RuntimeWarning: Mean of empty slice\n",
      "/Users/jessicaertel/anaconda3/lib/python3.7/site-packages/ipykernel_launcher.py:65: RuntimeWarning: Mean of empty slice\n"
     ]
    },
    {
     "name": "stdout",
     "output_type": "stream",
     "text": [
      "3/6 admins processed...\n",
      "6/6 admins processed...\n"
     ]
    },
    {
     "data": {
      "text/plain": [
       "'Analysis complete.'"
      ]
     },
     "execution_count": 48,
     "metadata": {},
     "output_type": "execute_result"
    }
   ],
   "source": [
    "execute_pipe('Gambia')"
   ]
  },
  {
   "cell_type": "code",
   "execution_count": 31,
   "metadata": {},
   "outputs": [
    {
     "name": "stdout",
     "output_type": "stream",
     "text": [
      "Converting shapefile to geojson...\n",
      "There are 17 admins in Burundi.\n",
      "Building Hansen tree cover raster...\n",
      "Burundi has lon N and lat E.\n",
      "Downloading files from GLAD...\n",
      "Hansen raster built.\n",
      "Removing tree cover loss...\n",
      "96869725 pixels converted to loss.\n",
      "Padding tof raster...\n",
      "Clipping rasters by admin boundary...\n",
      "No MultiPolygons in Burundi.\n",
      "Burundi's rasters clipped and saved.\n",
      "Resampling to match raster extents and resolutions...\n",
      "Merging admins containing multiple polygons...\n",
      "0 admins will be merged: []\n",
      "Data preparation complete.\n",
      "Calculating statistics...\n"
     ]
    },
    {
     "name": "stderr",
     "output_type": "stream",
     "text": [
      "/Users/jessicaertel/anaconda3/lib/python3.7/site-packages/ipykernel_launcher.py:56: RuntimeWarning: Mean of empty slice\n",
      "/Users/jessicaertel/anaconda3/lib/python3.7/site-packages/ipykernel_launcher.py:65: RuntimeWarning: Mean of empty slice\n"
     ]
    },
    {
     "name": "stdout",
     "output_type": "stream",
     "text": [
      "3/17 admins processed...\n",
      "6/17 admins processed...\n",
      "9/17 admins processed...\n",
      "12/17 admins processed...\n",
      "15/17 admins processed...\n"
     ]
    },
    {
     "data": {
      "text/plain": [
       "'Analysis complete.'"
      ]
     },
     "execution_count": 31,
     "metadata": {},
     "output_type": "execute_result"
    }
   ],
   "source": [
    "execute_pipe('Burundi')"
   ]
  },
  {
   "cell_type": "code",
   "execution_count": 33,
   "metadata": {},
   "outputs": [
    {
     "name": "stdout",
     "output_type": "stream",
     "text": [
      "Converting shapefile to geojson...\n",
      "There are 5 admins in Rwanda.\n",
      "Building Hansen tree cover raster...\n",
      "Rwanda has lon N and lat E.\n",
      "Downloading files from GLAD...\n",
      "Hansen raster built.\n",
      "Removing tree cover loss...\n",
      "96869725 pixels converted to loss.\n",
      "Padding tof raster...\n",
      "Clipping rasters by admin boundary...\n",
      "Rwanda's rasters clipped and saved.\n",
      "Resampling to match raster extents and resolutions...\n",
      "Merging admins containing multiple polygons...\n",
      "1 admins will be merged: ['Iburengerazuba']\n",
      "Data preparation complete.\n",
      "Calculating statistics...\n"
     ]
    },
    {
     "name": "stderr",
     "output_type": "stream",
     "text": [
      "/Users/jessicaertel/anaconda3/lib/python3.7/site-packages/ipykernel_launcher.py:56: RuntimeWarning: Mean of empty slice\n",
      "/Users/jessicaertel/anaconda3/lib/python3.7/site-packages/ipykernel_launcher.py:65: RuntimeWarning: Mean of empty slice\n"
     ]
    },
    {
     "name": "stdout",
     "output_type": "stream",
     "text": [
      "3/5 admins processed...\n"
     ]
    },
    {
     "data": {
      "text/plain": [
       "'Analysis complete.'"
      ]
     },
     "execution_count": 33,
     "metadata": {},
     "output_type": "execute_result"
    }
   ],
   "source": [
    "execute_pipe('Rwanda')"
   ]
  },
  {
   "cell_type": "markdown",
   "metadata": {},
   "source": [
    "## Sanity Checks"
   ]
  },
  {
   "cell_type": "code",
   "execution_count": 23,
   "metadata": {},
   "outputs": [
    {
     "name": "stdout",
     "output_type": "stream",
     "text": [
      "3\n"
     ]
    }
   ],
   "source": [
    "test = np.array([0,1,2,2,2,3,4,5,6,6,7,8,9]).astype(np.float32) # three 2s and two 6s\n",
    "test[test != 2] = np.nan\n",
    "print(np.sum(test == 2))\n",
    "# test2 = test[test == 2]\n",
    "# print(test2.shape)\n",
    "# print(len(test2))\n",
    "# print(np.unique(test2))"
   ]
  },
  {
   "cell_type": "code",
   "execution_count": 20,
   "metadata": {},
   "outputs": [
    {
     "name": "stdout",
     "output_type": "stream",
     "text": [
      "Total TOF: 84711484, Total ESA: 84711484\n",
      "TOF NaN count #1: 0\n",
      "TOF NaN count #2: 82762643\n",
      "TOF NaN count #3: 82762643\n",
      "(1069519,)\n",
      "1069519\n",
      "[30.]\n",
      "1069519\n"
     ]
    }
   ],
   "source": [
    "# Test with Toledo and Cayo, Belize\n",
    "tof = rs.open(f'Belize/resampled_rasters/tof/Cayo.tif').read(1).astype(np.float32)\n",
    "esa = rs.open(f'Belize/resampled_rasters/esa/Cayo.tif').read(1).astype(np.float32)\n",
    "cover = 10.0\n",
    "\n",
    "# Do tof and esa have the same total count? YES\n",
    "total = tof.shape[0]*tof.shape[1]\n",
    "print(f'Total TOF: {total}, Total ESA: {esa.shape[0]*esa.shape[1]}') \n",
    "\n",
    "# Are NaNs calculated at every step? YES\n",
    "print(f'TOF NaN count #1: {np.sum(np.isnan(tof))}') \n",
    "tof_class = tof.copy()\n",
    "tof_class[esa != cover] = np.nan\n",
    "print(f'TOF NaN count #2: {np.sum(np.isnan(tof_class))}') \n",
    "tof_class[tof_class == 255] = np.nan\n",
    "print(f'TOF NaN count #3: {np.sum(np.isnan(tof_class))}') \n",
    "\n",
    "# What if we change all non covers to no data values instead of NaN? NO CHANGE\n",
    "tof_class = tof.copy()\n",
    "tof_class[esa != cover] = 255\n",
    "lc_sampled = np.sum(tof_class != 255) / 100   \n",
    "lc_total = np.count_nonzero(esa == cover)/100 if cover == 0.0 else np.sum(esa == cover)/100\n",
    "print(f'For {cover} the sampled area is {lc_sampled} ha and the total area is {lc_total} ha.')\n",
    "\n",
    "# What if we convert all ESA non cover values to NaN too? NO CHANGE\n",
    "# TOF and ESA should not have the same number of NaNs\n",
    "print(f'ESA NaN count #1: {np.sum(np.isnan(esa))}') \n",
    "esa_class = esa.copy()\n",
    "esa_class[esa_class != 10.0] = np.nan \n",
    "print(f'ESA NaN count #2: {np.sum(np.isnan(esa_class))}') \n",
    "\n",
    "# area sampled for a land cover class equals the sum of tof pixels that are not null\n",
    "lc_sampled = np.sum(~np.isnan(tof_class)) / 100   \n",
    "\n",
    "# total area for a land cover class equals the sum of esa pixels\n",
    "# divided by 100 to convert to hectares\n",
    "# need to ensure this counts the no data class correctly (no data label is 0.0)\n",
    "lc_total = np.count_nonzero(esa_class == cover)/100 if cover == 0.0 else np.sum(esa_class == cover)/100\n",
    "print(f'For {cover} the sampled area is {lc_sampled} ha and the total area is {lc_total} ha.')"
   ]
  },
  {
   "cell_type": "code",
   "execution_count": null,
   "metadata": {},
   "outputs": [],
   "source": [
    "# check results\n",
    "tof_nans_sum = np.sum(np.isnan(tof_class))\n",
    "tof_nans_nonzero = np.count_nonzero(np.isnan(tof_class)) # same result as nans_sum, regardless of lcc\n",
    "tof_notnan = np.sum(~np.isnan(tof_class))\n",
    "\n",
    "esa_cover = np.sum(esa_class == cover)\n",
    "esa_nans_sum = np.sum(np.isnan(esa_class))\n",
    "esa_notnan = np.sum(~np.isnan(esa_class))\n",
    "\n",
    "print(f'Count of cover {cover} in tof: {tof_notnan}') # where tof is not null\n",
    "print(f'Check TOF nulls + not nulls = total: {tof_nans_sum + tof_notnan}')\n",
    "print(f'Count of cover {cover} in esa: {esa_cover}')\n",
    "print(f'Check ESA nulls + not nulls = total: {esa_nans_sum + esa_notnan}')"
   ]
  },
  {
   "cell_type": "code",
   "execution_count": 29,
   "metadata": {},
   "outputs": [
    {
     "data": {
      "image/png": "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\n",
      "text/plain": [
       "<Figure size 1440x720 with 2 Axes>"
      ]
     },
     "metadata": {
      "needs_background": "light"
     },
     "output_type": "display_data"
    }
   ],
   "source": [
    "tof = rs.open(f'Belize/resampled_rasters/tof/Toledo.tif').read(1)\n",
    "esa = rs.open(f'Belize/resampled_rasters/esa/Toledo.tif').read(1)\n",
    "\n",
    "plt.figure(figsize=(20,10))\n",
    "\n",
    "plt.subplot(1,2,1)\n",
    "plt.imshow(tof, cmap='Greens', vmin=0, vmax=100)\n",
    "plt.title(f'TOF')\n",
    "\n",
    "plt.subplot(1,2,2)\n",
    "plt.imshow(esa, cmap='Greens', vmin=0, vmax=100)\n",
    "plt.title(f'ESA');"
   ]
  },
  {
   "cell_type": "code",
   "execution_count": 31,
   "metadata": {},
   "outputs": [
    {
     "data": {
      "text/plain": [
       "array([[       0, 50727518],\n",
       "       [      10,   128197],\n",
       "       [      11,    29235],\n",
       "       [      30,    65915],\n",
       "       [      40,  1520865],\n",
       "       [      50, 39690707],\n",
       "       [      60,   111024],\n",
       "       [     100,  1385102],\n",
       "       [     110,   190144],\n",
       "       [     120,   413430],\n",
       "       [     130,   217492],\n",
       "       [     160,     7503],\n",
       "       [     170,   819481],\n",
       "       [     180,    76423],\n",
       "       [     190,    19628],\n",
       "       [     200,     8525],\n",
       "       [     210,   778034]])"
      ]
     },
     "execution_count": 31,
     "metadata": {},
     "output_type": "execute_result"
    }
   ],
   "source": [
    "# check lcc frequencies for esa\n",
    "(unique, counts) = np.unique(esa, return_counts=True)\n",
    "frequencies = np.asarray((unique, counts)).T\n",
    "frequencies"
   ]
  },
  {
   "cell_type": "code",
   "execution_count": 34,
   "metadata": {},
   "outputs": [
    {
     "data": {
      "text/plain": [
       "array([[       0, 50721714],\n",
       "       [      20,      134],\n",
       "       [      40,      500],\n",
       "       [      60,      411],\n",
       "       [      80,      957],\n",
       "       [     100,     3802]])"
      ]
     },
     "execution_count": 34,
     "metadata": {},
     "output_type": "execute_result"
    }
   ],
   "source": [
    "# check frequencies\n",
    "(unique, counts) = np.unique(tof[esa == 0], return_counts=True)\n",
    "frequencies = np.asarray((unique, counts)).T\n",
    "frequencies"
   ]
  },
  {
   "cell_type": "code",
   "execution_count": 35,
   "metadata": {},
   "outputs": [
    {
     "data": {
      "text/plain": [
       "50727518"
      ]
     },
     "execution_count": 35,
     "metadata": {},
     "output_type": "execute_result"
    }
   ],
   "source": [
    "sum(counts)"
   ]
  },
  {
   "cell_type": "code",
   "execution_count": null,
   "metadata": {},
   "outputs": [],
   "source": [
    "# Check ESA no data land cover class\n",
    "sons_esa = rs.open('El Salvador/resampled_rasters/esa/Sonsonate.tif').read(1)\n",
    "sons_tof = rs.open('El Salvador/resampled_rasters/tof/Sonsonate.tif').read(1)"
   ]
  },
  {
   "cell_type": "code",
   "execution_count": 36,
   "metadata": {},
   "outputs": [
    {
     "data": {
      "text/plain": [
       "array([  0,  20,  40,  60,  80, 100], dtype=uint8)"
      ]
     },
     "execution_count": 36,
     "metadata": {},
     "output_type": "execute_result"
    }
   ],
   "source": [
    "# check vals for Costa Rica admin\n",
    "np.unique(currid_tof)"
   ]
  },
  {
   "cell_type": "code",
   "execution_count": 37,
   "metadata": {},
   "outputs": [
    {
     "data": {
      "text/plain": [
       "array([ 0, 20, 21, 22, 23, 24, 25, 26, 27, 28, 29, 30, 31, 32, 33, 34, 35,\n",
       "       36, 37, 38, 39, 40, 41, 42, 43, 44, 45, 46, 47, 48, 49, 50, 51, 52,\n",
       "       53, 54, 55, 56, 57, 58, 59, 60, 61, 62, 63, 64, 65, 66, 67, 68, 69,\n",
       "       70, 71, 72, 73, 74, 75, 76, 77, 78, 79, 80, 81, 82, 83, 84, 85, 86,\n",
       "       87, 88, 89, 90, 91, 92, 93, 94, 95, 96, 97, 98, 99], dtype=uint8)"
      ]
     },
     "execution_count": 37,
     "metadata": {},
     "output_type": "execute_result"
    }
   ],
   "source": [
    "# check vals for El Salvador admin\n",
    "np.unique(apaneca_tof)"
   ]
  },
  {
   "cell_type": "code",
   "execution_count": 64,
   "metadata": {},
   "outputs": [
    {
     "name": "stdout",
     "output_type": "stream",
     "text": [
      "Statistics01:\n",
      "TOF avg in ES: 16.18607142857143, Hans avg in ES: 17.820428571428568\n",
      "Statistics02:\n",
      "TOF avg in ES: 23.421297258496576, Hans avg in ES: 17.658193335813635\n",
      "Statistics03:\n",
      "TOF avg in ES: 23.421297258496576, Hans avg in ES: 17.658193335813635\n"
     ]
    }
   ],
   "source": [
    "# confirm mean tree cover counts\n",
    "# will be different in stats01 because it's mean tree cover per admin\n",
    "# versus mean tree cover per admin per land cover type\n",
    "\n",
    "es1 = pd.read_csv('El Salvador/stats/El Salvador_statistics01.csv')\n",
    "es2 = pd.read_csv('El Salvador/stats/El Salvador_statistics02.csv')\n",
    "es3 = pd.read_csv('El Salvador/stats/El Salvador_statistics03.csv')\n",
    "print('Statistics01:')\n",
    "print(f'TOF avg in ES: {es1.tof_mean_tc.mean()}, Hans avg in ES: {es1.hans_mean_tc.mean()}')\n",
    "print('Statistics02:')\n",
    "print(f'TOF avg in ES: {es2.tof_mean_tc_lc.mean()}, Hans avg in ES: {es2.hans_mean_tc_lc.mean()}')\n",
    "print('Statistics03:')\n",
    "print(f'TOF avg in ES: {es3.tof_mean_tc_lc.mean()}, Hans avg in ES: {es3.hans_mean_tc_lc.mean()}')"
   ]
  },
  {
   "cell_type": "code",
   "execution_count": 65,
   "metadata": {},
   "outputs": [
    {
     "name": "stdout",
     "output_type": "stream",
     "text": [
      "Statistics01:\n",
      "TOF avg in CR: 7.111285714285714, Hans avg in CR: 25.302999999999997\n",
      "Statistics02:\n",
      "TOF avg in CR: 16.921263565891472, Hans avg in CR: 32.848781838316725\n",
      "Statistics03:\n",
      "TOF avg in CR: 16.921263565891472, Hans avg in CR: 32.848781838316725\n"
     ]
    }
   ],
   "source": [
    "cr1 = pd.read_csv('Costa Rica/stats/Costa Rica_statistics01.csv')\n",
    "cr2 = pd.read_csv('Costa Rica/stats/Costa Rica_statistics02.csv')\n",
    "cr3 = pd.read_csv('Costa Rica/stats/Costa Rica_statistics03.csv')\n",
    "\n",
    "print('Statistics01:')\n",
    "print(f'TOF avg in CR: {cr1.tof_mean_tc.mean()}, Hans avg in CR: {cr1.hans_mean_tc.mean()}')\n",
    "print('Statistics02:')\n",
    "print(f'TOF avg in CR: {cr2.tof_mean_tc_lc.mean()}, Hans avg in CR: {cr2.hans_mean_tc_lc.mean()}')\n",
    "print('Statistics03:')\n",
    "print(f'TOF avg in CR: {cr3.tof_mean_tc_lc.mean()}, Hans avg in CR: {cr3.hans_mean_tc_lc.mean()}')"
   ]
  },
  {
   "cell_type": "code",
   "execution_count": 12,
   "metadata": {},
   "outputs": [],
   "source": [
    "# ES statistics for 2nd function not calculating correctly\n",
    "es_ipcc_means = es_above[['tof_mean_tc_lc', \n",
    "                          'hans_mean_tc_lc', \n",
    "                          'ipcc_class']].groupby('ipcc_class').mean().reset_index()"
   ]
  },
  {
   "cell_type": "code",
   "execution_count": 13,
   "metadata": {},
   "outputs": [
    {
     "data": {
      "text/html": [
       "<div>\n",
       "<style scoped>\n",
       "    .dataframe tbody tr th:only-of-type {\n",
       "        vertical-align: middle;\n",
       "    }\n",
       "\n",
       "    .dataframe tbody tr th {\n",
       "        vertical-align: top;\n",
       "    }\n",
       "\n",
       "    .dataframe thead th {\n",
       "        text-align: right;\n",
       "    }\n",
       "</style>\n",
       "<table border=\"1\" class=\"dataframe\">\n",
       "  <thead>\n",
       "    <tr style=\"text-align: right;\">\n",
       "      <th></th>\n",
       "      <th>ipcc_class</th>\n",
       "      <th>tof_mean_tc_lc</th>\n",
       "      <th>hans_mean_tc_lc</th>\n",
       "    </tr>\n",
       "  </thead>\n",
       "  <tbody>\n",
       "    <tr>\n",
       "      <th>0</th>\n",
       "      <td>Agriculture</td>\n",
       "      <td>29.250907</td>\n",
       "      <td>17.826823</td>\n",
       "    </tr>\n",
       "    <tr>\n",
       "      <th>1</th>\n",
       "      <td>Forest</td>\n",
       "      <td>32.203412</td>\n",
       "      <td>17.515225</td>\n",
       "    </tr>\n",
       "    <tr>\n",
       "      <th>2</th>\n",
       "      <td>Grassland</td>\n",
       "      <td>15.547973</td>\n",
       "      <td>18.052502</td>\n",
       "    </tr>\n",
       "    <tr>\n",
       "      <th>3</th>\n",
       "      <td>Other</td>\n",
       "      <td>9.602041</td>\n",
       "      <td>17.427191</td>\n",
       "    </tr>\n",
       "    <tr>\n",
       "      <th>4</th>\n",
       "      <td>Settlement</td>\n",
       "      <td>23.999687</td>\n",
       "      <td>17.826823</td>\n",
       "    </tr>\n",
       "    <tr>\n",
       "      <th>5</th>\n",
       "      <td>Wetland</td>\n",
       "      <td>14.905611</td>\n",
       "      <td>17.346923</td>\n",
       "    </tr>\n",
       "  </tbody>\n",
       "</table>\n",
       "</div>"
      ],
      "text/plain": [
       "    ipcc_class  tof_mean_tc_lc  hans_mean_tc_lc\n",
       "0  Agriculture       29.250907        17.826823\n",
       "1       Forest       32.203412        17.515225\n",
       "2    Grassland       15.547973        18.052502\n",
       "3        Other        9.602041        17.427191\n",
       "4   Settlement       23.999687        17.826823\n",
       "5      Wetland       14.905611        17.346923"
      ]
     },
     "execution_count": 13,
     "metadata": {},
     "output_type": "execute_result"
    }
   ],
   "source": [
    "es_ipcc_means"
   ]
  },
  {
   "cell_type": "code",
   "execution_count": 14,
   "metadata": {},
   "outputs": [],
   "source": [
    "es_esa_means = es_above[['tof_mean_tc_lc', \n",
    "                          'hans_mean_tc_lc', \n",
    "                          'esa_class']].groupby('esa_class').mean().reset_index()"
   ]
  },
  {
   "cell_type": "code",
   "execution_count": 17,
   "metadata": {},
   "outputs": [],
   "source": [
    "cr_ipcc_means = cr_above[['tof_mean_tc_lc', \n",
    "                          'hans_mean_tc_lc', \n",
    "                          'ipcc_class']].groupby('ipcc_class').mean().reset_index()"
   ]
  },
  {
   "cell_type": "code",
   "execution_count": 18,
   "metadata": {
    "scrolled": true
   },
   "outputs": [
    {
     "data": {
      "text/html": [
       "<div>\n",
       "<style scoped>\n",
       "    .dataframe tbody tr th:only-of-type {\n",
       "        vertical-align: middle;\n",
       "    }\n",
       "\n",
       "    .dataframe tbody tr th {\n",
       "        vertical-align: top;\n",
       "    }\n",
       "\n",
       "    .dataframe thead th {\n",
       "        text-align: right;\n",
       "    }\n",
       "</style>\n",
       "<table border=\"1\" class=\"dataframe\">\n",
       "  <thead>\n",
       "    <tr style=\"text-align: right;\">\n",
       "      <th></th>\n",
       "      <th>ipcc_class</th>\n",
       "      <th>tof_mean_tc_lc</th>\n",
       "      <th>hans_mean_tc_lc</th>\n",
       "    </tr>\n",
       "  </thead>\n",
       "  <tbody>\n",
       "    <tr>\n",
       "      <th>0</th>\n",
       "      <td>Agriculture</td>\n",
       "      <td>21.557142</td>\n",
       "      <td>29.621502</td>\n",
       "    </tr>\n",
       "    <tr>\n",
       "      <th>1</th>\n",
       "      <td>Forest</td>\n",
       "      <td>21.932651</td>\n",
       "      <td>53.478920</td>\n",
       "    </tr>\n",
       "    <tr>\n",
       "      <th>2</th>\n",
       "      <td>Grassland</td>\n",
       "      <td>14.237551</td>\n",
       "      <td>25.316936</td>\n",
       "    </tr>\n",
       "    <tr>\n",
       "      <th>3</th>\n",
       "      <td>Other</td>\n",
       "      <td>2.697094</td>\n",
       "      <td>17.305210</td>\n",
       "    </tr>\n",
       "    <tr>\n",
       "      <th>4</th>\n",
       "      <td>Settlement</td>\n",
       "      <td>14.240675</td>\n",
       "      <td>10.024260</td>\n",
       "    </tr>\n",
       "    <tr>\n",
       "      <th>5</th>\n",
       "      <td>Wetland</td>\n",
       "      <td>7.563579</td>\n",
       "      <td>19.563395</td>\n",
       "    </tr>\n",
       "  </tbody>\n",
       "</table>\n",
       "</div>"
      ],
      "text/plain": [
       "    ipcc_class  tof_mean_tc_lc  hans_mean_tc_lc\n",
       "0  Agriculture       21.557142        29.621502\n",
       "1       Forest       21.932651        53.478920\n",
       "2    Grassland       14.237551        25.316936\n",
       "3        Other        2.697094        17.305210\n",
       "4   Settlement       14.240675        10.024260\n",
       "5      Wetland        7.563579        19.563395"
      ]
     },
     "execution_count": 18,
     "metadata": {},
     "output_type": "execute_result"
    }
   ],
   "source": [
    "cr_ipcc_means"
   ]
  },
  {
   "cell_type": "code",
   "execution_count": 19,
   "metadata": {},
   "outputs": [],
   "source": [
    "cr_esa_means = cr_above[['tof_mean_tc_lc', \n",
    "                          'hans_mean_tc_lc', \n",
    "                          'esa_class']].groupby('esa_class').mean().reset_index()"
   ]
  },
  {
   "cell_type": "markdown",
   "metadata": {},
   "source": [
    "## Old Code"
   ]
  },
  {
   "cell_type": "code",
   "execution_count": null,
   "metadata": {},
   "outputs": [],
   "source": [
    "def stats_01(country):\n",
    "    \n",
    "    '''\n",
    "    Takes in a country to import appropriate tof/hansen rasters and calculates mean tree cover \n",
    "    per admin and the total number of hectares that fall within 5 20% thresholds (0-20%, 20-40%, \n",
    "    40-60%, 60-80%). Returns a pandas dataframe with statistics saved as a csv file in the country's\n",
    "    stats folder.\n",
    "    \n",
    "    Attributes\n",
    "    ----------\n",
    "    country : str\n",
    "        a string indicating the country files to import\n",
    "    '''\n",
    "    \n",
    "    if not os.path.exists(f'{country}/stats'):\n",
    "        os.makedirs(f'{country}/stats')\n",
    "    \n",
    "    tree_cover = pd.DataFrame(columns=['admin', \n",
    "                                       'tof_mean_tc',\n",
    "                                       'hans_mean_tc',\n",
    "                                       'tof_0_20',\n",
    "                                       'tof_20_40',\n",
    "                                       'tof_40_60',\n",
    "                                       'tof_60_80',\n",
    "                                       'tof_80_100',\n",
    "                                       'hans_0_20',\n",
    "                                       'hans_20_40',\n",
    "                                       'hans_40_60',\n",
    "                                       'hans_60_80',\n",
    "                                       'hans_80_100'])\n",
    "    \n",
    "    for file in [f for f in os.listdir(f'{country}/resampled_rasters/tof') if f != '.ipynb_checkpoints']:\n",
    "        \n",
    "        tof = rs.open(f'{country}/resampled_rasters/tof/{file}').read(1)\n",
    "        hansen = rs.open(f'{country}/resampled_rasters/hansen/{file}').read(1)\n",
    "\n",
    "        # reshape to 10x10 grid - ex: (88, 10, 63, 10)\n",
    "        tof_reshaped = reshape_to_4d(tof)\n",
    "        hansen_reshaped = reshape_to_4d(hansen)\n",
    "         \n",
    "        # calculate mean tree cover for admin boundary\n",
    "        tof_mean = round(np.mean(tof_reshaped), 3)   \n",
    "        hansen_mean = round(np.mean(hansen_reshaped), 3)   \n",
    "\n",
    "        # calculate mean tree cover for each hectare\n",
    "        tof_mean_per_ha = np.mean(tof_reshaped, axis=(1,3)) \n",
    "        hansen_mean_per_ha = np.mean(hansen_reshaped, axis=(1,3)) \n",
    "        \n",
    "        # calculate num of hectares with mean tree cover 0-20, 20-40, 40-60, 60-80, 80-100\n",
    "        tof_0_20 = np.sum((tof_mean_per_ha >= 0) & (tof_mean_per_ha <= 19)) \n",
    "        tof_20_40 = np.sum((tof_mean_per_ha >= 20) & (tof_mean_per_ha <= 39)) \n",
    "        tof_40_60 = np.sum((tof_mean_per_ha >= 40) & (tof_mean_per_ha <= 59)) \n",
    "        tof_60_80 = np.sum((tof_mean_per_ha >= 60) & (tof_mean_per_ha <= 79)) \n",
    "        tof_80_100 = np.sum((tof_mean_per_ha >= 80) & (tof_mean_per_ha <= 100)) \n",
    "        \n",
    "        hans_0_20 = np.sum((hansen_mean_per_ha >= 0) & (hansen_mean_per_ha <= 19)) \n",
    "        hans_20_40 = np.sum((hansen_mean_per_ha >= 20) & (hansen_mean_per_ha <= 39)) \n",
    "        hans_40_60 = np.sum((hansen_mean_per_ha >= 40) & (hansen_mean_per_ha <= 59)) \n",
    "        hans_60_80 = np.sum((hansen_mean_per_ha >= 60) & (hansen_mean_per_ha <= 79)) \n",
    "        hans_80_100 = np.sum((hansen_mean_per_ha >= 80) & (hansen_mean_per_ha <= 100)) \n",
    "        \n",
    "        tree_cover = tree_cover.append({'admin': file[:-4], \n",
    "                                        'tof_mean_tc': tof_mean,\n",
    "                                        'hans_mean_tc': hansen_mean,\n",
    "                                        'tof_0_20': tof_0_20,\n",
    "                                        'tof_20_40': tof_20_40,\n",
    "                                        'tof_40_60': tof_40_60,\n",
    "                                        'tof_60_80': tof_60_80,\n",
    "                                        'tof_80_100': tof_80_100,\n",
    "                                        'hans_0_20': hans_0_20,\n",
    "                                        'hans_20_40': hans_20_40,\n",
    "                                        'hans_40_60': hans_40_60,\n",
    "                                        'hans_60_80': hans_60_80,\n",
    "                                        'hans_80_100': hans_80_100}, ignore_index=True)\n",
    "        # save to csv      \n",
    "        tree_cover.to_csv(f'{country}/stats/{country}_statistics01.csv', index=False)\n",
    "    \n",
    "    return None"
   ]
  },
  {
   "cell_type": "code",
   "execution_count": null,
   "metadata": {},
   "outputs": [],
   "source": [
    "def stats_02_03(country):\n",
    "    '''\n",
    "    Takes in a country to import appropriate tof/hansen rasters. Rounds the values\n",
    "    to their median. For each ESA land cover class within each admin district, calculates the mean \n",
    "    tree cover and the total number of contiguous hectares of tree cover above 10% \n",
    "    thresholds. Then calculates the total hectares of tree cover within 5\n",
    "    20% thresholds (0-20%, 20-40%, 40-60%, 60-80%). The land cover categories and numbers \n",
    "    are aggregated to display the same statistics per IPCC land cover class.\n",
    "    \n",
    "    Attributes\n",
    "    ----------\n",
    "    country : str\n",
    "        a string indicating the country files to import\n",
    "\n",
    "    '''\n",
    "    \n",
    "    # set up the dataframes\n",
    "    ipcc_above = pd.DataFrame(columns=['admin', \n",
    "                                       'esa_id',\n",
    "                                       'esa_class',\n",
    "                                       'ipcc_class',\n",
    "                                       'tof_mean_tc_lc',\n",
    "                                       'hans_mean_tc_lc',\n",
    "                                       'tof_10+','tof_20+','tof_30+','tof_40+',\n",
    "                                       'tof_50+', 'tof_60+','tof_70+','tof_80+',\n",
    "                                       'tof_90+','hans_10+','hans_20+','hans_30+', \n",
    "                                       'hans_40+','hans_50+', 'hans_60+','hans_70+',\n",
    "                                       'hans_80+','hans_90+']) \n",
    "    \n",
    "    \n",
    "    ipcc_btw = pd.DataFrame(columns=['admin', \n",
    "                                     'esa_id',\n",
    "                                     'esa_class',\n",
    "                                     'ipcc_class',\n",
    "                                     'tof_mean_tc_lc',\n",
    "                                     'hans_mean_tc_lc',\n",
    "                                     'tof_0_20','tof_20_40','tof_40_60','tof_60_80',\n",
    "                                     'tof_80_100','hans_0_20','hans_20_40','hans_40_60',\n",
    "                                     'hans_60_80','hans_80_100'])\n",
    "    \n",
    "    counter = 0\n",
    "    folder_contents = [f for f in os.listdir(f'{country}/resampled_rasters/tof') if f != '.ipynb_checkpoints']\n",
    "    \n",
    "    for file in folder_contents[:1]:\n",
    "        \n",
    "        counter += 1\n",
    "        \n",
    "        # read in \n",
    "        tof = rs.open(f'{country}/resampled_rasters/tof/{file}').read(1).astype(np.float32)\n",
    "        hans = rs.open(f'{country}/resampled_rasters/hansen/{file}').read(1).astype(np.float32)\n",
    "        esa = rs.open(f'{country}/resampled_rasters/esa/{file}').read(1).astype(np.float32)\n",
    "                \n",
    "        # convert values to their median for binning\n",
    "        for lower, upper in zip(lower_rng, upper_rng):\n",
    "            \n",
    "            tof[(tof >= lower) & (tof < upper)] = lower + 4.5\n",
    "            hans[(hans >= lower) & (hans < upper)] = lower + 4.5\n",
    "\n",
    "        \n",
    "        # identify the lccs for that admin district\n",
    "        esa_classes = np.unique(esa)\n",
    "        \n",
    "        for cover in esa_classes:\n",
    "            \n",
    "            # change all values that are not equal to the lcc to NaN including no data vals\n",
    "            tof_class = tof.copy()\n",
    "            tof_class[esa != cover] = np.nan \n",
    "            tof_class[tof_class == 255] = np.nan\n",
    "            \n",
    "            # check - count the number of non nan instances \n",
    "            #print(f'For {cover} there are {np.count_nonzero(~np.isnan(tof_class))} non NaNs') \n",
    "\n",
    "            # reshape to a 10x10 grid to calculate stats\n",
    "            # calc mean tree cover for the lcc (entire admin) and mean tree cover for the lcc per hectare\n",
    "            # note that runtime warning: mean of empty slice indicates array has nothing but nan values\n",
    "            tof_reshaped = reshape_to_4d(tof_class) \n",
    "            tof_class_mean = np.nanmean(tof_reshaped)\n",
    "            tof_class_mean_per_ha = np.nanmean(tof_reshaped, axis=(1,3))\n",
    "            \n",
    "            # same for Hansen\n",
    "            hans_class = hans.copy()\n",
    "            hans_class[esa != cover] = np.nan\n",
    "            hans_class[hans_class == 255] = np.nan\n",
    "            \n",
    "            # reshape and calculate stats\n",
    "            hans_reshaped = reshape_to_4d(hans_class)\n",
    "            hans_class_mean = np.nanmean(hans_reshaped)\n",
    "            hans_class_mean_per_ha = np.nanmean(hans_reshaped, axis=(1,3))\n",
    "\n",
    "            # calculate num of hectares above each threshold for the lcc\n",
    "            tof_ha_over10 = np.sum(tof_class_mean_per_ha > 10.0) \n",
    "            tof_ha_over20 = np.sum(tof_class_mean_per_ha > 20.0) \n",
    "            tof_ha_over30 = np.sum(tof_class_mean_per_ha > 30.0) \n",
    "            tof_ha_over40 = np.sum(tof_class_mean_per_ha > 40.0) \n",
    "            tof_ha_over50 = np.sum(tof_class_mean_per_ha > 50.0)\n",
    "            tof_ha_over60 = np.sum(tof_class_mean_per_ha > 60.0) \n",
    "            tof_ha_over70 = np.sum(tof_class_mean_per_ha > 70.0) \n",
    "            tof_ha_over80 = np.sum(tof_class_mean_per_ha > 80.0) \n",
    "            tof_ha_over90 = np.sum(tof_class_mean_per_ha > 90.0) \n",
    "            \n",
    "            hans_ha_over10 = np.sum(hans_class_mean_per_ha > 10.0) \n",
    "            hans_ha_over20 = np.sum(hans_class_mean_per_ha > 20.0) \n",
    "            hans_ha_over30 = np.sum(hans_class_mean_per_ha > 30.0) \n",
    "            hans_ha_over40 = np.sum(hans_class_mean_per_ha > 40.0) \n",
    "            hans_ha_over50 = np.sum(hans_class_mean_per_ha > 50.0) \n",
    "            hans_ha_over60 = np.sum(hans_class_mean_per_ha > 60.0) \n",
    "            hans_ha_over70 = np.sum(hans_class_mean_per_ha > 70.0) \n",
    "            hans_ha_over80 = np.sum(hans_class_mean_per_ha > 80.0) \n",
    "            hans_ha_over90 = np.sum(hans_class_mean_per_ha > 90.0)           \n",
    "            \n",
    "            # calculate num of hectares between thresholds for the lcc\n",
    "            tof_0_20 = np.sum((tof_class_mean_per_ha >= 0) & (tof_class_mean_per_ha <= 19)) \n",
    "            tof_20_40 = np.sum((tof_class_mean_per_ha >= 20) & (tof_class_mean_per_ha <= 39)) \n",
    "            tof_40_60 = np.sum((tof_class_mean_per_ha >= 40) & (tof_class_mean_per_ha <= 59)) \n",
    "            tof_60_80 = np.sum((tof_class_mean_per_ha >= 60) & (tof_class_mean_per_ha <= 79)) \n",
    "            tof_80_100 = np.sum((tof_class_mean_per_ha >= 80) & (tof_class_mean_per_ha <= 100)) \n",
    "\n",
    "            hans_0_20 = np.sum((hans_class_mean_per_ha >= 0) & (hans_class_mean_per_ha <= 19)) \n",
    "            hans_20_40 = np.sum((hans_class_mean_per_ha >= 20) & (hans_class_mean_per_ha <= 39)) \n",
    "            hans_40_60 = np.sum((hans_class_mean_per_ha >= 40) & (hans_class_mean_per_ha <= 59)) \n",
    "            hans_60_80 = np.sum((hans_class_mean_per_ha >= 60) & (hans_class_mean_per_ha <= 79)) \n",
    "            hans_80_100 = np.sum((hans_class_mean_per_ha >= 80) & (hans_class_mean_per_ha <= 100)) \n",
    "            \n",
    "            \n",
    "            ipcc_above = ipcc_above.append({'admin': file[:-4], \n",
    "                                            'esa_id': cover,\n",
    "                                            'tof_mean_tc_lc': tof_class_mean,\n",
    "                                            'hans_mean_tc_lc': hans_class_mean,\n",
    "                                            'tof_10+':tof_ha_over10,\n",
    "                                            'tof_20+':tof_ha_over20,\n",
    "                                            'tof_30+':tof_ha_over30,\n",
    "                                            'tof_40+':tof_ha_over40,\n",
    "                                            'tof_50+':tof_ha_over50, \n",
    "                                            'tof_60+':tof_ha_over60,\n",
    "                                            'tof_70+':tof_ha_over70,\n",
    "                                            'tof_80+':tof_ha_over80,\n",
    "                                            'tof_90+':tof_ha_over90,\n",
    "                                            'hans_10+':hans_ha_over10,\n",
    "                                            'hans_20+':hans_ha_over20,\n",
    "                                            'hans_30+':hans_ha_over30,\n",
    "                                            'hans_40+':hans_ha_over40,\n",
    "                                            'hans_50+':hans_ha_over50,\n",
    "                                            'hans_60+':hans_ha_over60,\n",
    "                                            'hans_70+':hans_ha_over70,\n",
    "                                            'hans_80+':hans_ha_over80,\n",
    "                                            'hans_90+':hans_ha_over90}, ignore_index=True)\n",
    "            \n",
    "            ipcc_btw = ipcc_btw.append({'admin': file[:-4], \n",
    "                                        'esa_id': cover,\n",
    "                                        'tof_mean_tc_lc': tof_class_mean,\n",
    "                                        'hans_mean_tc_lc': hans_class_mean,\n",
    "                                        'tof_0_20': tof_0_20,\n",
    "                                        'tof_20_40': tof_20_40,\n",
    "                                        'tof_40_60': tof_40_60,\n",
    "                                        'tof_60_80': tof_60_80,\n",
    "                                        'tof_80_100': tof_80_100,\n",
    "                                        'hans_0_20': hans_0_20,\n",
    "                                        'hans_20_40': hans_20_40,\n",
    "                                        'hans_40_60': hans_40_60,\n",
    "                                        'hans_60_80': hans_60_80,\n",
    "                                        'hans_80_100': hans_80_100}, ignore_index=True)\n",
    "            \n",
    "        # map ESA id numbers to lcc labels\n",
    "        esa_legend = {0: 'No Data',\n",
    "                10: 'Cropland, rainfed',\n",
    "                11: 'Cropland, rainfed, herbaceous cover',\n",
    "                20: 'Cropland, irrigated or post-flooding',\n",
    "                30: 'Mosaic cropland (>50%) / natural vegetation (tree, shrub, herbaceous cover)(<50%)',\n",
    "                40: 'Mosaic natural vegetation (tree, shrub, herbaceous cover) (>50%) / cropland (<50%)',\n",
    "                50: 'Tree cover, broadleaved, evergreen, closed to open (>15%)',\n",
    "                60: 'Tree cover, broadleaved, deciduous, closed to open (>15%)',\n",
    "                70: 'Tree cover, needleleaved, evergreen, closed to open (>15%)',\n",
    "                80: 'Tree cover, needleleaved, deciduous, closed to open (>15%)',\n",
    "                90: 'Tree cover, mixed leaf type (broadleaved and needleleaved)',\n",
    "                100: 'Mosaic tree and shrub (>50%) / herbaceous cover (<50%)',\n",
    "                110: 'Mosaic herbaceous cover (>50%) / tree and shrub (<50%)',\n",
    "                120: 'Shrubland',\n",
    "                130: 'Grassland',\n",
    "                140: 'Lichens and mosses',\n",
    "                150: 'Sparse vegetation (tree, shrub, herbaceous cover) (<15%)',\n",
    "                160: 'Tree cover, flooded, fresh or brakish water',\n",
    "                170: 'Tree cover, flooded, saline water',\n",
    "                180: 'Shrub or herbaceous cover, flooded, fresh/saline/brakish water',\n",
    "                190: 'Urban areas',\n",
    "                200: 'Bare areas',\n",
    "                210: 'Water bodies',\n",
    "                220: 'Permanent snow and ice'}\n",
    "        \n",
    "        # map ESA id numbers to ipcc labels\n",
    "        ipcc = {0: 'Other',\n",
    "                10: 'Agriculture',\n",
    "                11: 'Agriculture',\n",
    "                20: 'Agriculture',\n",
    "                30: 'Agriculture',\n",
    "                40: 'Agriculture',\n",
    "                50: 'Forest',\n",
    "                60: 'Forest',\n",
    "                70: 'Forest',\n",
    "                80: 'Forest',\n",
    "                90: 'Forest',\n",
    "                100: 'Forest',\n",
    "                110: 'Grassland',\n",
    "                120: 'Other',\n",
    "                130: 'Grassland',\n",
    "                140: 'Other',\n",
    "                150: 'Other',\n",
    "                160: 'Forest',\n",
    "                170: 'Forest',\n",
    "                180: 'Wetland',\n",
    "                190: 'Settlement',\n",
    "                200: 'Other',\n",
    "                210: 'Other',\n",
    "                220: 'Other'}\n",
    "        \n",
    "        ipcc_above['esa_class'] = ipcc_above['esa_id'].map(esa_legend)\n",
    "        ipcc_above['ipcc_class'] = ipcc_above['esa_id'].map(ipcc)\n",
    "        ipcc_btw['esa_class'] = ipcc_btw['esa_id'].map(esa_legend)\n",
    "        ipcc_btw['ipcc_class'] = ipcc_btw['esa_id'].map(ipcc)\n",
    "        \n",
    "        if counter % 2 == 0:\n",
    "            print(f'{counter}/{len(folder_contents)} admins processed...')\n",
    "    \n",
    "    # save to csv      \n",
    "    ipcc_above.to_csv(f'{country}/stats/{country}_statistics02_new.csv', index=False)\n",
    "    ipcc_btw.to_csv(f'{country}/stats/{country}_statistics03_new.csv', index=False)\n",
    "                                \n",
    "    return None"
   ]
  },
  {
   "cell_type": "code",
   "execution_count": null,
   "metadata": {},
   "outputs": [],
   "source": [
    "tof[(tof > 10) & (tof < 19)] = 14.5 \n",
    "tof[(tof > 20) & (tof < 29)] = 24.5\n",
    "tof[(tof > 30) & (tof < 39)] = 34.5\n",
    "tof[(tof > 40) & (tof < 49)] = 44.5\n",
    "tof[(tof > 50) & (tof < 59)] = 54.5\n",
    "tof[(tof > 60) & (tof < 69)] = 64.5\n",
    "tof[(tof > 70) & (tof < 79)] = 74.5\n",
    "tof[(tof > 80) & (tof < 89)] = 84.5\n",
    "tof[(tof > 90) & (tof < 99)] = 94.5\n",
    "\n",
    "hans[(hans > 0) & (hans < 9)] = 4.5 \n",
    "hans[(hans > 10) & (hans < 19)] = 14.5 \n",
    "hans[(hans > 20) & (hans < 29)] = 24.5\n",
    "hans[(hans > 30) & (hans < 39)] = 34.5\n",
    "hans[(hans > 40) & (hans < 49)] = 44.5\n",
    "hans[(hans > 50) & (hans < 59)] = 54.5\n",
    "hans[(hans > 60) & (hans < 69)] = 64.5\n",
    "hans[(hans > 70) & (hans < 79)] = 74.5\n",
    "hans[(hans > 80) & (hans < 89)] = 84.5\n",
    "hans[(hans > 90) & (hans < 99)] = 94.5\n",
    "\n",
    "tof_0_10 = np.sum((tof_class_mean_per_ha >= 0) & (tof_class_mean_per_ha <= 9))\n",
    "tof_10_20 = np.sum((tof_class_mean_per_ha >= 10) & (tof_class_mean_per_ha <= 19))   \n",
    "tof_20_30 = np.sum((tof_class_mean_per_ha >= 20) & (tof_class_mean_per_ha <= 29)) \n",
    "tof_30_40 = np.sum((tof_class_mean_per_ha >= 30) & (tof_class_mean_per_ha <= 39)) \n",
    "tof_40_50 = np.sum((tof_class_mean_per_ha >= 40) & (tof_class_mean_per_ha <= 49)) \n",
    "tof_50_60 = np.sum((tof_class_mean_per_ha >= 50) & (tof_class_mean_per_ha <= 59))\n",
    "tof_60_70 = np.sum((tof_class_mean_per_ha >= 60) & (tof_class_mean_per_ha <= 69)) \n",
    "tof_70_80 = np.sum((tof_class_mean_per_ha >= 70) & (tof_class_mean_per_ha <= 79)) \n",
    "tof_80_90 = np.sum((tof_class_mean_per_ha >= 80) & (tof_class_mean_per_ha <= 89))\n",
    "tof_90_100 = np.sum((tof_class_mean_per_ha >= 90) & (tof_class_mean_per_ha <= 100))\n",
    "\n",
    "hans_0_10 = np.sum((hans_class_mean_per_ha >= 0) & (hans_class_mean_per_ha <= 9))\n",
    "hans_10_20 = np.sum((hans_class_mean_per_ha >= 10) & (hans_class_mean_per_ha <= 19))\n",
    "hans_20_30 = np.sum((hans_class_mean_per_ha >= 20) & (hans_class_mean_per_ha <= 29))\n",
    "hans_30_40 = np.sum((hans_class_mean_per_ha >= 30) & (hans_class_mean_per_ha <= 39)) \n",
    "hans_40_50 = np.sum((hans_class_mean_per_ha >= 40) & (hans_class_mean_per_ha <= 49))\n",
    "hans_50_60 = np.sum((hans_class_mean_per_ha >= 50) & (hans_class_mean_per_ha <= 59)) \n",
    "hans_60_70 = np.sum((hans_class_mean_per_ha >= 60) & (hans_class_mean_per_ha <= 69)) \n",
    "hans_70_80 = np.sum((hans_class_mean_per_ha >= 70) & (hans_class_mean_per_ha <= 79)) \n",
    "hans_80_90 = np.sum((hans_class_mean_per_ha >= 80) & (hans_class_mean_per_ha <= 89)) \n",
    "hans_90_100 = np.sum((hans_class_mean_per_ha >= 90) & (hans_class_mean_per_ha <= 100)) "
   ]
  },
  {
   "cell_type": "code",
   "execution_count": null,
   "metadata": {},
   "outputs": [],
   "source": [
    "# ESA bounding box stays same, becomes same shape as TOF\n",
    "# esa_out.tif has the proper resolution\n",
    "match_raster_extent_and_res(esa, tof, esa_out.tif, tof=False, esa=True) \n",
    "\n",
    "# TOF bounding box becomes ESA, TOF stays same shape\n",
    "# tof=true will not resample tof\n",
    "match_raster_extent_and_res(tof, esa_out, tof_out.tif, tof=True, esa=False) \n",
    "\n",
    "# Hansen bounding box becomes TOF/ESA, Hansen shape becomes TOF/ESA\n",
    "match_raster_extent_and_res(hansen, esa_out, hansen_out.tif, tof=False, esa=False) "
   ]
  },
  {
   "cell_type": "code",
   "execution_count": 8,
   "metadata": {},
   "outputs": [],
   "source": [
    "def resample_resize(country):\n",
    "    \n",
    "    '''\n",
    "    Takes in a country name to import a clipped raster and resamples the raster\n",
    "    to convert it to higher resolution. Crops or pads TOF/Hansen rasters to match\n",
    "    the size of the ESA raster. Returns the new rasters as individuals files\n",
    "    in the country's \"resampled_rasters\" folder. \n",
    "\n",
    "    Resampling a raster involves multiplying the pixel size by the scale factor \n",
    "    and dividing the dimensions by the scale factor. A scale >1 is an upsample\n",
    "    and a scale <1: downsample.\n",
    "\n",
    "        i.e. given a pixel size of 250m, dimensions of (1024, 1024) and a scale of 2,\n",
    "        the resampled raster would have an output pixel size of 500m and dimensions of (512, 512)\n",
    "        \n",
    "    Attributes\n",
    "    ----------\n",
    "    country : str\n",
    "        a string indicating the country files to import\n",
    "    '''\n",
    "    \n",
    "    if not os.path.exists(f'{country}/resampled_rasters/hansen'):\n",
    "        os.makedirs(f'{country}/resampled_rasters/hansen')\n",
    "    \n",
    "    if not os.path.exists(f'{country}/resampled_rasters/tof'):\n",
    "        os.makedirs(f'{country}/resampled_rasters/tof')\n",
    "    \n",
    "    if not os.path.exists(f'{country}/resampled_rasters/esa'):\n",
    "        os.makedirs(f'{country}/resampled_rasters/esa')\n",
    "    \n",
    "    # import new shapefile containing only polygons\n",
    "    shapefile = gpd.read_file(f'{country}/{country}_adminboundaries_exp.geojson')\n",
    "    admin_boundaries = list(shapefile.NAME_1)\n",
    "    \n",
    "    for admin in admin_boundaries[:1]:\n",
    "        print(admin)\n",
    "         \n",
    "    # Resample ESA\n",
    "        esa_raster = rs.open(f'{country}/clipped_rasters/esa/{admin}.tif')\n",
    "        print(f'ESA original: {esa_raster.shape}')\n",
    "        \n",
    "        height = int(esa_raster.height)\n",
    "        width = int(esa_raster.width)\n",
    "        scale = 30\n",
    "        \n",
    "        # resample data to new resolution\n",
    "        esa_resampled = esa_raster.read(out_shape=(esa_raster.count, (height * scale), (width * scale)),\n",
    "                                        resampling=Resampling.nearest)\n",
    "        \n",
    "        # removes extra index\n",
    "        esa_resampled = esa_resampled.squeeze()\n",
    "        \n",
    "        # scale image transform\n",
    "        esa_transform = esa_raster.transform * esa_raster.transform.scale((width / esa_resampled.shape[-1]),\n",
    "                                                                      (height / esa_resampled.shape[-2]))\n",
    "        \n",
    "        \n",
    "        # assert raster shape, datatype and max/min values\n",
    "        assert esa_resampled.dtype == 'uint8'\n",
    "        assert esa_resampled.shape != (0, ) and len(esa_resampled.shape) <= 2\n",
    "        assert esa_resampled.max() <= 255 and esa_resampled.min() >= 0\n",
    "        \n",
    "        esa_outpath = f'{country}/resampled_rasters/esa/{admin}.tif'\n",
    "        esa_new = rs.open(esa_outpath, 'w', \n",
    "                              driver='GTiff',\n",
    "                              height=esa_resampled.shape[0], \n",
    "                              width=esa_resampled.shape[1], \n",
    "                              count=1,\n",
    "                              dtype=\"uint8\",\n",
    "                              crs='+proj=longlat +datum=WGS84 +no_defs',\n",
    "                              transform=esa_transform,\n",
    "                              compress='lzw')\n",
    "        \n",
    "        print(f'ESA after resample: {esa_new.shape}')\n",
    "        esa_new.write(esa_resampled, 1)\n",
    "        esa_new.close()\n",
    "        \n",
    "        # define parameters for gdal translate\n",
    "        esa = rs.open(f'{country}/resampled_rasters/esa/{admin}.tif')\n",
    "        esa_bounds = esa.bounds\n",
    "        translateoptions = gdal.TranslateOptions(format='Gtiff', \n",
    "                                                  outputSRS='EPSG:4326',\n",
    "                                                  outputType=gdal.GDT_Byte,\n",
    "                                                  noData=255,\n",
    "                                                  creationOptions=['COMPRESS=LZW'],\n",
    "                                                  resampleAlg='nearest')\n",
    "        \n",
    "        # Crop Hansen to ESA bounds \n",
    "        hans_raster = f'{country}/clipped_rasters/hansen/{admin}.tif'\n",
    "        hans_outpath = f'{country}/resampled_rasters/hansen/{admin}.tif'\n",
    "        print(f'Hansen original: {rs.open(hans_raster).shape}')\n",
    "        \n",
    "        source = gdal.Open(hans_raster)\n",
    "        ds = gdal.Translate(hans_outpath, \n",
    "                            source, \n",
    "                            projWin=[-90.22499999999281, 13.75833333332723, -89.78888888888166, 14.166666666660595], \n",
    "                            options=translateoptions)\n",
    "        ds = None\n",
    "        print(f'Hansen after gdal translate: {rs.open(hans_outpath).shape}')\n",
    "        \n",
    "        # Resample hansen\n",
    "        hans_raster = rs.open(hans_raster)\n",
    "        height = int(hans_raster.height)\n",
    "        width = int(hans_raster.width)\n",
    "        scale = 3\n",
    "        \n",
    "        # resample data to target shape -- use Resampling.nearest not Resampling.bilinear\n",
    "        hans_resampled = hans_raster.read(out_shape=(hans_raster.count, (height * scale), (width * scale)),\n",
    "                                          resampling=Resampling.nearest)\n",
    "        \n",
    "        # removes extra index\n",
    "        hans_resampled = hans_resampled.squeeze()\n",
    "        \n",
    "        # scale image transform\n",
    "        hans_transform = hans_raster.transform * hans_raster.transform.scale((width / hans_resampled.shape[-1]),\n",
    "                                                                           (height / hans_resampled.shape[-2]))\n",
    "        \n",
    "        \n",
    "        # assert raster shape, datatype and max/min values\n",
    "        assert hans_resampled.dtype == 'uint8'\n",
    "        assert hans_resampled.shape != (0, ) and len(hans_resampled.shape) <= 2\n",
    "        assert hans_resampled.max() <= 255 and hans_resampled.min() >= 0\n",
    "        \n",
    "        # write the resampled raster to the new folder \n",
    "        hans_new = rs.open(hans_outpath, 'w', \n",
    "                              driver='GTiff',\n",
    "                              height=hans_resampled.shape[0], \n",
    "                              width=hans_resampled.shape[1], \n",
    "                              count=1,\n",
    "                              dtype=\"uint8\",\n",
    "                              crs='+proj=longlat +datum=WGS84 +no_defs',\n",
    "                              transform=hans_transform,\n",
    "                              compress='lzw')\n",
    "        \n",
    "        print(f'Hansen after resample: {hans_new.shape}')\n",
    "        hans_new.write(hans_resampled, 1)\n",
    "        hans_new.close()\n",
    "        \n",
    "        \n",
    "        # Crop TOF to ESA bounds (move to resampled folder, skip resample)\n",
    "        tof_raster = f'{country}/clipped_rasters/tof/{admin}.tif'\n",
    "        tof_outpath = f'{country}/resampled_rasters/tof/{admin}.tif'\n",
    "        source = gdal.Open(tof_raster)\n",
    "        ds = gdal.Translate(tof_outpath, \n",
    "                            source, \n",
    "                            projWin=[-90.22499999999281, 13.75833333332723, -89.78888888888166, 14.166666666660595], \n",
    "                            options=translateoptions)\n",
    "        ds = None\n",
    "        print(f'TOF original: {rs.open(tof_raster).shape}')\n",
    "        print(f'TOF after gdal translate: {rs.open(tof_outpath).shape}')\n",
    "        print(' ')\n",
    "    return None\n"
   ]
  },
  {
   "cell_type": "code",
   "execution_count": null,
   "metadata": {},
   "outputs": [],
   "source": [
    "def match_extent_and_res(country):\n",
    "    \n",
    "    '''\n",
    "    Matches the projection, bounding box, and dimensions of source to reference\n",
    "    ''' \n",
    "   \n",
    "    # import new shapefile containing only polygons\n",
    "    shapefile = gpd.read_file(f'{country}/{country}_adminboundaries_exp.geojson')\n",
    "    admin_boundaries = list(shapefile.NAME_1)\n",
    "    \n",
    "    for admin in admin_boundaries:\n",
    "        \n",
    "        # import, get the projection and geotrans for each dataset\n",
    "        tof = gdal.Open(f'{country}/clipped_rasters/tof/{admin}.tif', gdalconst.GA_ReadOnly)     \n",
    "        tof_proj = tof.GetProjection()\n",
    "        tof_geotrans = tof.GetGeoTransform()\n",
    "        tof_outpath = f'{country}/resampled_rasters/tof/{admin}.tif'\n",
    "        \n",
    "        hans = gdal.Open(f'{country}/clipped_rasters/hansen/{admin}.tif', gdalconst.GA_ReadOnly)\n",
    "        hans_proj = hans.GetProjection()\n",
    "        hans_geotrans = hans.GetGeoTransform()\n",
    "        hans_outpath = f'{country}/resampled_rasters/hansen/{admin}.tif'\n",
    "        \n",
    "        esa = gdal.Open(f'{country}/clipped_rasters/esa/{admin}.tif', gdalconst.GA_ReadOnly)\n",
    "        esa_proj = esa.GetProjection()\n",
    "        esa_geotrans = esa.GetGeoTransform() # not used remove\n",
    "        esa_outpath = f'{country}/resampled_rasters/esa/{admin}.tif'\n",
    "                \n",
    "        # esa upsample to 10m\n",
    "        width = esa.RasterXSize\n",
    "        height = esa.RasterYSize\n",
    "        esa_out = gdal.GetDriverByName('GTiff').Create(esa_outpath, width, height, 1, gdalconst.GDT_Byte)\n",
    "        interpolation = gdalconst.GRA_NearestNeighbour\n",
    "        gdal.ReprojectImage(esa, esa_outpath, esa_proj, tof_proj, interpolation)\n",
    "\n",
    "        # set reference as resampled esa\n",
    "        esa_resampled = gdal.Open(esa_outpath, gdalconst.GA_ReadOnly)\n",
    "        esa_proj = esa_resampled.GetProjection()\n",
    "        esa_geotrans = esa_resampled.GetGeoTransform()\n",
    "        width = esa_resampled.RasterXSize\n",
    "        height = esa_resampled.RasterYSize\n",
    "        \n",
    "        # tof transform\n",
    "        tof_out = gdal.GetDriverByName('GTiff').Create(tof_outpath, width, height, 1, gdalconst.GDT_Byte)\n",
    "        tof_out.SetGeoTransform(esa_geotrans)\n",
    "        tof_out.SetProjection(esa_proj)\n",
    "        \n",
    "        interpolation = gdalconst.GRA_NearestNeighbour\n",
    "        gdal.ReprojectImage(hans, hans_out, hans_proj, tof_proj, interpolation)\n",
    "        \n",
    "        # Hansen transform\n",
    "        hans_out = gdal.GetDriverByName('GTiff').Create(hans_outpath, width, height, 1, gdalconst.GDT_Byte)\n",
    "        hans_out.SetGeoTransform(esa_geotrans)\n",
    "        hans_out.SetProjection(esa_proj)\n",
    "        \n",
    "        # resample hansen to tof\n",
    "#         interpolation = gdalconst.GRA_NearestNeighbour\n",
    "#         gdal.ReprojectImage(hans, hans_out, hans_proj, tof_proj, interpolation)\n",
    "                \n",
    "    return None\n",
    "\n",
    "def resample_resize(country):\n",
    "    \n",
    "    '''\n",
    "    Takes in a country name to import a clipped raster and resamples the raster\n",
    "    to convert it to higher resolution. Crops or pads TOF/Hansen rasters to match\n",
    "    the size of the ESA raster. Returns the new rasters as individuals files\n",
    "    in the country's \"resampled_rasters\" folder. \n",
    "\n",
    "    Resampling a raster involves multiplying the pixel size by the scale factor \n",
    "    and dividing the dimensions by the scale factor. A scale >1 is an upsample\n",
    "    and a scale <1: downsample.\n",
    "\n",
    "        i.e. given a pixel size of 250m, dimensions of (1024, 1024) and a scale of 2,\n",
    "        the resampled raster would have an output pixel size of 500m and dimensions of (512, 512)\n",
    "        \n",
    "    Attributes\n",
    "    ----------\n",
    "    country : str\n",
    "        a string indicating the country files to import\n",
    "    '''\n",
    "    \n",
    "    if not os.path.exists(f'{country}/resampled_rasters/hansen'):\n",
    "        os.makedirs(f'{country}/resampled_rasters/hansen')\n",
    "    \n",
    "    if not os.path.exists(f'{country}/resampled_rasters/tof'):\n",
    "        os.makedirs(f'{country}/resampled_rasters/tof')\n",
    "    \n",
    "    if not os.path.exists(f'{country}/resampled_rasters/esa'):\n",
    "        os.makedirs(f'{country}/resampled_rasters/esa')\n",
    "    \n",
    "    # import new shapefile containing only polygons\n",
    "    shapefile = gpd.read_file(f'{country}/{country}_adminboundaries_exp.geojson')\n",
    "    admin_boundaries = list(shapefile.NAME_1)\n",
    "    \n",
    "    for admin in admin_boundaries[:1]:\n",
    "        print(admin)\n",
    "         \n",
    "    # Resample ESA\n",
    "        esa_raster = rs.open(f'{country}/clipped_rasters/esa/{admin}.tif')\n",
    "        print(f'ESA original: {esa_raster.shape}')\n",
    "        \n",
    "        height = int(esa_raster.height)\n",
    "        width = int(esa_raster.width)\n",
    "        scale = 30\n",
    "        \n",
    "        # resample data to new resolution\n",
    "        esa_resampled = esa_raster.read(out_shape=(esa_raster.count, (height * scale), (width * scale)),\n",
    "                                        resampling=Resampling.nearest)\n",
    "        \n",
    "        # removes extra index\n",
    "        esa_resampled = esa_resampled.squeeze()\n",
    "        \n",
    "        # scale image transform\n",
    "        esa_transform = esa_raster.transform * esa_raster.transform.scale((width / esa_resampled.shape[-1]),\n",
    "                                                                      (height / esa_resampled.shape[-2]))\n",
    "        \n",
    "        \n",
    "        # assert raster shape, datatype and max/min values\n",
    "        assert esa_resampled.dtype == 'uint8'\n",
    "        assert esa_resampled.shape != (0, ) and len(esa_resampled.shape) <= 2\n",
    "        assert esa_resampled.max() <= 255 and esa_resampled.min() >= 0\n",
    "        \n",
    "        esa_outpath = f'{country}/resampled_rasters/esa/{admin}.tif'\n",
    "        esa_new = rs.open(esa_outpath, 'w', \n",
    "                              driver='GTiff',\n",
    "                              height=esa_resampled.shape[0], \n",
    "                              width=esa_resampled.shape[1], \n",
    "                              count=1,\n",
    "                              dtype=\"uint8\",\n",
    "                              crs='+proj=longlat +datum=WGS84 +no_defs',\n",
    "                              transform=esa_transform,\n",
    "                              compress='lzw')\n",
    "        \n",
    "        print(f'ESA after resample: {esa_new.shape}')\n",
    "        esa_new.write(esa_resampled, 1)\n",
    "        esa_new.close()\n",
    "        \n",
    "        # define parameters for gdal translate\n",
    "        esa = rs.open(f'{country}/resampled_rasters/esa/{admin}.tif')\n",
    "        esa_bounds = esa.bounds\n",
    "        translateoptions = gdal.TranslateOptions(format='Gtiff', \n",
    "                                                  outputSRS='EPSG:4326',\n",
    "                                                  outputType=gdal.GDT_Byte,\n",
    "                                                  noData=255,\n",
    "                                                  creationOptions=['COMPRESS=LZW'],\n",
    "                                                  resampleAlg='nearest')\n",
    "        \n",
    "        # Crop Hansen to ESA bounds \n",
    "        hans_raster = f'{country}/clipped_rasters/hansen/{admin}.tif'\n",
    "        hans_outpath = f'{country}/resampled_rasters/hansen/{admin}.tif'\n",
    "        print(f'Hansen original: {rs.open(hans_raster).shape}')\n",
    "        \n",
    "        source = gdal.Open(hans_raster)\n",
    "        ds = gdal.Translate(hans_outpath, \n",
    "                            source, \n",
    "                            projWin=[-90.22499999999281, 13.75833333332723, -89.78888888888166, 14.166666666660595], \n",
    "                            options=translateoptions)\n",
    "        ds = None\n",
    "        print(f'Hansen after gdal translate: {rs.open(hans_outpath).shape}')\n",
    "        \n",
    "        # Resample hansen\n",
    "        hans_raster = rs.open(hans_raster)\n",
    "        height = int(hans_raster.height)\n",
    "        width = int(hans_raster.width)\n",
    "        scale = 3\n",
    "        \n",
    "        # resample data to target shape -- use Resampling.nearest not Resampling.bilinear\n",
    "        hans_resampled = hans_raster.read(out_shape=(hans_raster.count, (height * scale), (width * scale)),\n",
    "                                          resampling=Resampling.nearest)\n",
    "        \n",
    "        # removes extra index\n",
    "        hans_resampled = hans_resampled.squeeze()\n",
    "        \n",
    "        # scale image transform\n",
    "        hans_transform = hans_raster.transform * hans_raster.transform.scale((width / hans_resampled.shape[-1]),\n",
    "                                                                           (height / hans_resampled.shape[-2]))\n",
    "        \n",
    "        \n",
    "        # assert raster shape, datatype and max/min values\n",
    "        assert hans_resampled.dtype == 'uint8'\n",
    "        assert hans_resampled.shape != (0, ) and len(hans_resampled.shape) <= 2\n",
    "        assert hans_resampled.max() <= 255 and hans_resampled.min() >= 0\n",
    "        \n",
    "        # write the resampled raster to the new folder \n",
    "        hans_new = rs.open(hans_outpath, 'w', \n",
    "                              driver='GTiff',\n",
    "                              height=hans_resampled.shape[0], \n",
    "                              width=hans_resampled.shape[1], \n",
    "                              count=1,\n",
    "                              dtype=\"uint8\",\n",
    "                              crs='+proj=longlat +datum=WGS84 +no_defs',\n",
    "                              transform=hans_transform,\n",
    "                              compress='lzw')\n",
    "        \n",
    "        print(f'Hansen after resample: {hans_new.shape}')\n",
    "        hans_new.write(hans_resampled, 1)\n",
    "        hans_new.close()\n",
    "        \n",
    "        \n",
    "        # Crop TOF to ESA bounds (move to resampled folder, skip resample)\n",
    "        tof_raster = f'{country}/clipped_rasters/tof/{admin}.tif'\n",
    "        tof_outpath = f'{country}/resampled_rasters/tof/{admin}.tif'\n",
    "        source = gdal.Open(tof_raster)\n",
    "        ds = gdal.Translate(tof_outpath, \n",
    "                            source, \n",
    "                            projWin=[-90.22499999999281, 13.75833333332723, -89.78888888888166, 14.166666666660595], \n",
    "                            options=translateoptions)\n",
    "        ds = None\n",
    "        print(f'TOF original: {rs.open(tof_raster).shape}')\n",
    "        print(f'TOF after gdal translate: {rs.open(tof_outpath).shape}')\n",
    "        print(' ')\n",
    "    return None\n"
   ]
  },
  {
   "cell_type": "code",
   "execution_count": 40,
   "metadata": {},
   "outputs": [],
   "source": [
    "tof = np.array([88, 84, 80, 10, 12, 17, 91, 42, 20, 23, 26, 29, 31, 39, 90, 92, 97]).astype('float32')"
   ]
  },
  {
   "cell_type": "code",
   "execution_count": 51,
   "metadata": {},
   "outputs": [
    {
     "data": {
      "text/plain": [
       "(4093998, 14244852)"
      ]
     },
     "execution_count": 51,
     "metadata": {},
     "output_type": "execute_result"
    }
   ],
   "source": [
    "# count the number of non nan and nan instances in the dataset\n",
    "np.count_nonzero(~np.isnan(tof_class)), np.count_nonzero(np.isnan(tof_class))"
   ]
  },
  {
   "cell_type": "code",
   "execution_count": 41,
   "metadata": {},
   "outputs": [
    {
     "data": {
      "text/plain": [
       "array([88., 84., 80., 10., 12., 17., 91., 42., 20., 23., 26., 29., 31.,\n",
       "       39., 95., 92., 97.], dtype=float32)"
      ]
     },
     "execution_count": 41,
     "metadata": {},
     "output_type": "execute_result"
    }
   ],
   "source": [
    "data[data < 90] += 4.5\n",
    "data[data == 90] += 5\n",
    "\n",
    "\n",
    "tof[(tof > 90) & (tof < 99)] += 4.5 # if its 91, 92, 93, etc. make it 94.5\n",
    "tof[tof == 90] += 5  # if its 90 make it 95\n",
    "tof"
   ]
  },
  {
   "cell_type": "code",
   "execution_count": 43,
   "metadata": {},
   "outputs": [
    {
     "data": {
      "text/plain": [
       "(25.4, 24.5)"
      ]
     },
     "execution_count": 43,
     "metadata": {},
     "output_type": "execute_result"
    }
   ],
   "source": [
    "test1 = np.array([21, 24, 25, 28, 29]).astype('float32')\n",
    "test2 = np.array([24.5, 24.5, 24.5, 24.5, 24.5])\n",
    "test1.mean(), test2.mean()"
   ]
  },
  {
   "cell_type": "code",
   "execution_count": 5,
   "metadata": {},
   "outputs": [
    {
     "data": {
      "text/plain": [
       "array([0. , 4.5, 4.5, 4.5, 4.5, 4.5, 4.5, 4.5, 5. , 5. , 4.5, 4.5, 4.5,\n",
       "       4.5, 4.5], dtype=float32)"
      ]
     },
     "execution_count": 5,
     "metadata": {},
     "output_type": "execute_result"
    }
   ],
   "source": [
    "tof = np.array([0, 1, 2, 5, 6, 3, 8, 9, 10, 10, 2, 4, 6, 7, 8]).astype('float32')\n",
    "\n",
    "tof[(tof > 0) & (tof < 10)] = 4.5 # if it's between 0-9 make it 4.5\n",
    "tof[tof == 10] = 5 # if it's 10 make it 15\n",
    "tof"
   ]
  },
  {
   "cell_type": "code",
   "execution_count": 28,
   "metadata": {},
   "outputs": [
    {
     "name": "stdout",
     "output_type": "stream",
     "text": [
      "Resizing...\n",
      "Filtering to 2.0 for Toledo.tif...\n"
     ]
    }
   ],
   "source": [
    "for file in [f for f in os.listdir(f'Belize/resampled_rasters/tof') if f != '.ipynb_checkpoints'][:1]:\n",
    "\n",
    "    # read in as a float in order to replace no data with NaNs\n",
    "    tof = rs.open(f'Belize/resampled_rasters/tof/{file}').read(1).astype(np.float32)\n",
    "    hans = rs.open(f'Belize/resampled_rasters/hansen/{file}').read(1).astype(np.float32)\n",
    "    esa = rs.open(f'Belize/resampled_rasters/esa/{file}').read(1).astype(np.float32)\n",
    "\n",
    "    esa[esa == 0.0] = 2.0\n",
    "    \n",
    "    # resize esa/hansen to have the same shape as tof and reshape for stats\n",
    "    print('Resizing...')\n",
    "    if esa.shape != tof.shape:\n",
    "        esa = resize(esa, tof.shape, order=0, preserve_range=True)\n",
    "\n",
    "    if hans.shape != tof.shape:\n",
    "        hans = resize(hans, tof.shape, order=0, preserve_range=True)\n",
    "\n",
    "    # identify the lccs for that admin district\n",
    "    esa_classes = np.unique(esa)\n",
    "\n",
    "    for cover in esa_classes[:1]:\n",
    "\n",
    "        # change all values that are not equal to the lcc to NaN\n",
    "        print(f'Filtering to {cover} for {file}...')\n",
    "        tof_class_new = tof.copy()\n",
    "        tof_class_new[esa != cover] = np.nan "
   ]
  },
  {
   "cell_type": "code",
   "execution_count": 16,
   "metadata": {},
   "outputs": [],
   "source": [
    "# check the value counts for tof_class\n",
    "(unique, counts) = np.unique(tof_class_new, return_counts=True)\n",
    "frequencies = np.asarray((unique, counts)).T"
   ]
  },
  {
   "cell_type": "code",
   "execution_count": 18,
   "metadata": {},
   "outputs": [
    {
     "data": {
      "text/plain": [
       "array([[0.00000e+00, 1.03472e+05],\n",
       "       [2.00000e+01, 1.45800e+03],\n",
       "       [4.00000e+01, 5.77000e+03],\n",
       "       [6.00000e+01, 4.12600e+03],\n",
       "       [8.00000e+01, 5.88300e+03],\n",
       "       [1.00000e+02, 6.60200e+03],\n",
       "       [        nan, 1.00000e+00],\n",
       "       [        nan, 1.00000e+00],\n",
       "       [        nan, 1.00000e+00],\n",
       "       [        nan, 1.00000e+00]])"
      ]
     },
     "execution_count": 18,
     "metadata": {},
     "output_type": "execute_result"
    }
   ],
   "source": [
    "frequencies[:10]"
   ]
  },
  {
   "cell_type": "code",
   "execution_count": 23,
   "metadata": {},
   "outputs": [
    {
     "data": {
      "text/plain": [
       "array([[       0, 93976598],\n",
       "       [      20,    47917],\n",
       "       [      40,   194512],\n",
       "       [      60,   160780],\n",
       "       [      80,   296476],\n",
       "       [     100,  1512940]])"
      ]
     },
     "execution_count": 23,
     "metadata": {},
     "output_type": "execute_result"
    }
   ],
   "source": [
    "tof = rs.open(f'Belize/resampled_rasters/tof/Toledo.tif').read(1)\n",
    "(unique, counts) = np.unique(tof, return_counts=True)\n",
    "toledo_tof = np.asarray((unique, counts)).T\n",
    "toledo_tof"
   ]
  },
  {
   "cell_type": "code",
   "execution_count": 5,
   "metadata": {},
   "outputs": [
    {
     "name": "stdout",
     "output_type": "stream",
     "text": [
      "esa: (22, 26), tof: (638, 746), hans: (232, 271)\n"
     ]
    }
   ],
   "source": [
    "tof = rs.open(f'Costa Rica/clipped_rasters/tof/Puntarenas1.tif').read(1)\n",
    "hans = rs.open(f'Costa Rica/clipped_rasters/hansen/Puntarenas1.tif').read(1)\n",
    "esa = rs.open(f'Costa Rica/clipped_rasters/esa/Puntarenas1.tif').read(1)\n",
    "print(f'esa: {esa.shape}, tof: {tof.shape}, hans: {hans.shape}')  "
   ]
  },
  {
   "cell_type": "code",
   "execution_count": 6,
   "metadata": {},
   "outputs": [
    {
     "name": "stdout",
     "output_type": "stream",
     "text": [
      "(660, 780) (638, 746) (696, 813)\n"
     ]
    }
   ],
   "source": [
    "print((22*30, 26*30),(638, 746),(232*3, 271*3))\n"
   ]
  },
  {
   "cell_type": "code",
   "execution_count": 82,
   "metadata": {},
   "outputs": [
    {
     "data": {
      "text/plain": [
       "(884, 631)"
      ]
     },
     "execution_count": 82,
     "metadata": {},
     "output_type": "execute_result"
    }
   ],
   "source": [
    "tof = rs.open('El Salvador/resampled_rasters/tof/Apaneca.tif').read(1)\n",
    "tof.shape "
   ]
  },
  {
   "cell_type": "code",
   "execution_count": 84,
   "metadata": {},
   "outputs": [
    {
     "data": {
      "text/plain": [
       "(884, 631)"
      ]
     },
     "execution_count": 84,
     "metadata": {},
     "output_type": "execute_result"
    }
   ],
   "source": [
    "tof = rs.open('El Salvador/resampled_rasters/tof/Apaneca.tif').read(1).astype(np.float32)\n",
    "tof[tof == 255] = np.nan\n",
    "tof.shape "
   ]
  },
  {
   "cell_type": "code",
   "execution_count": 6,
   "metadata": {},
   "outputs": [
    {
     "name": "stdout",
     "output_type": "stream",
     "text": [
      "There are 3557.54 non-contiguous hectares above 10% canopy cover\n",
      "There are 3709 contiguous hectares above 10% canopy cover\n"
     ]
    }
   ],
   "source": [
    "## EXAMPLE CODE\n",
    "\n",
    "\n",
    "tof_data = rs.open('El Salvador/resampled_rasters/tof/Apaneca.tif')\n",
    "width = tof_data.shape[1]\n",
    "height = tof_data.shape[0]\n",
    "\n",
    "tof_array = tof_data.read(1)[:13590, :25810].astype(np.float32)\n",
    "\n",
    "# non contiguous hectares\n",
    "tof_array[tof_array == 255] = np.nan\n",
    "print(f\"There are {np.sum(tof_array > 10) / 100} non-contiguous hectares above 10% canopy cover\")\n",
    "\n",
    "# contiguous hectares\n",
    "tof_array = reshape_for_stats(tof_array) #there was another reshape that didn't work\n",
    "tof_array = np.nanmean(tof_array, axis = (1, 3))\n",
    "tof_array = (np.floor(tof_array)).astype(np.uint8)\n",
    "print(f\"There are {np.sum(tof_array > 10)} contiguous hectares above 10% canopy cover\")\n",
    "bounds = tof_data.bounds\n",
    "transform = rs.transform.from_bounds(west = bounds[0], \n",
    "                                     south = bounds[1],\n",
    "                                     east = bounds[2], \n",
    "                                     north = bounds[3],\n",
    "                                     width = tof_array.shape[1], \n",
    "                                     height = tof_array.shape[0])\n",
    "\n",
    "new_dataset = rs.open(\"el salvador-one-hectare-treecover.tif\", 'w', \n",
    "                      driver='GTiff',\n",
    "                      height=tof_array.shape[0], \n",
    "                      width=tof_array.shape[1], \n",
    "                      count=1,\n",
    "                      dtype=\"uint8\",\n",
    "                      crs='+proj=longlat +datum=WGS84 +no_defs',\n",
    "                      transform=transform)\n",
    "\n",
    "new_dataset.write(np.array(tof_array), 1)\n",
    "new_dataset.close()\n",
    "\n",
    "new_dataset = rs.open(\"el salvador-one-hectare-binary.tif\", 'w', \n",
    "                      driver='GTiff',\n",
    "                      height=tof_array.shape[0], \n",
    "                      width=tof_array.shape[1], \n",
    "                      count=1,\n",
    "                      dtype=\"uint8\",\n",
    "                      crs='+proj=longlat +datum=WGS84 +no_defs',\n",
    "                      transform=transform)\n",
    "\n",
    "new_dataset.write(np.array(tof_array >= 10).astype(np.uint8), 1)\n",
    "new_dataset.close()"
   ]
  },
  {
   "cell_type": "code",
   "execution_count": 19,
   "metadata": {},
   "outputs": [],
   "source": [
    "jurisdictions = gpd.read_file('El Salvador/El Salvador_admin.geojson')"
   ]
  },
  {
   "cell_type": "code",
   "execution_count": 4,
   "metadata": {
    "scrolled": true
   },
   "outputs": [
    {
     "data": {
      "text/html": [
       "<div>\n",
       "<style scoped>\n",
       "    .dataframe tbody tr th:only-of-type {\n",
       "        vertical-align: middle;\n",
       "    }\n",
       "\n",
       "    .dataframe tbody tr th {\n",
       "        vertical-align: top;\n",
       "    }\n",
       "\n",
       "    .dataframe thead th {\n",
       "        text-align: right;\n",
       "    }\n",
       "</style>\n",
       "<table border=\"1\" class=\"dataframe\">\n",
       "  <thead>\n",
       "    <tr style=\"text-align: right;\">\n",
       "      <th></th>\n",
       "      <th>ADM0_PCODE</th>\n",
       "      <th>ADM0_ES</th>\n",
       "      <th>ADM1_PCODE</th>\n",
       "      <th>ADM1_ES</th>\n",
       "      <th>ADM2_REF</th>\n",
       "      <th>ADM2_PCODE</th>\n",
       "      <th>ADM2_ES</th>\n",
       "      <th>geometry</th>\n",
       "    </tr>\n",
       "  </thead>\n",
       "  <tbody>\n",
       "    <tr>\n",
       "      <th>0</th>\n",
       "      <td>CR</td>\n",
       "      <td>Costa Rica</td>\n",
       "      <td>CR03</td>\n",
       "      <td>Guanacaste</td>\n",
       "      <td>Guanacaste</td>\n",
       "      <td>CR0301</td>\n",
       "      <td>Abangares</td>\n",
       "      <td>MULTIPOLYGON (((375722.282 1121031.337, 375696...</td>\n",
       "    </tr>\n",
       "    <tr>\n",
       "      <th>1</th>\n",
       "      <td>CR</td>\n",
       "      <td>Costa Rica</td>\n",
       "      <td>CR07</td>\n",
       "      <td>San José</td>\n",
       "      <td>San José</td>\n",
       "      <td>CR0701</td>\n",
       "      <td>Acosta</td>\n",
       "      <td>POLYGON ((482255.682 1090408.565, 482281.722 1...</td>\n",
       "    </tr>\n",
       "    <tr>\n",
       "      <th>2</th>\n",
       "      <td>CR</td>\n",
       "      <td>Costa Rica</td>\n",
       "      <td>CR06</td>\n",
       "      <td>Puntarenas</td>\n",
       "      <td>Puntarenas</td>\n",
       "      <td>CR0601</td>\n",
       "      <td>Aguirre</td>\n",
       "      <td>MULTIPOLYGON (((486711.014 1033380.147, 486700...</td>\n",
       "    </tr>\n",
       "    <tr>\n",
       "      <th>3</th>\n",
       "      <td>CR</td>\n",
       "      <td>Costa Rica</td>\n",
       "      <td>CR01</td>\n",
       "      <td>Alajuela</td>\n",
       "      <td>Alajuela</td>\n",
       "      <td>CR0101</td>\n",
       "      <td>Alajuela</td>\n",
       "      <td>POLYGON ((482377.488 1151480.958, 482376.471 1...</td>\n",
       "    </tr>\n",
       "    <tr>\n",
       "      <th>4</th>\n",
       "      <td>CR</td>\n",
       "      <td>Costa Rica</td>\n",
       "      <td>CR07</td>\n",
       "      <td>San José</td>\n",
       "      <td>San José</td>\n",
       "      <td>CR0702</td>\n",
       "      <td>Alajuelita</td>\n",
       "      <td>POLYGON ((487024.603 1098008.676, 487070.576 1...</td>\n",
       "    </tr>\n",
       "  </tbody>\n",
       "</table>\n",
       "</div>"
      ],
      "text/plain": [
       "  ADM0_PCODE     ADM0_ES ADM1_PCODE     ADM1_ES    ADM2_REF ADM2_PCODE  \\\n",
       "0         CR  Costa Rica       CR03  Guanacaste  Guanacaste     CR0301   \n",
       "1         CR  Costa Rica       CR07    San José    San José     CR0701   \n",
       "2         CR  Costa Rica       CR06  Puntarenas  Puntarenas     CR0601   \n",
       "3         CR  Costa Rica       CR01    Alajuela    Alajuela     CR0101   \n",
       "4         CR  Costa Rica       CR07    San José    San José     CR0702   \n",
       "\n",
       "      ADM2_ES                                           geometry  \n",
       "0   Abangares  MULTIPOLYGON (((375722.282 1121031.337, 375696...  \n",
       "1      Acosta  POLYGON ((482255.682 1090408.565, 482281.722 1...  \n",
       "2     Aguirre  MULTIPOLYGON (((486711.014 1033380.147, 486700...  \n",
       "3    Alajuela  POLYGON ((482377.488 1151480.958, 482376.471 1...  \n",
       "4  Alajuelita  POLYGON ((487024.603 1098008.676, 487070.576 1...  "
      ]
     },
     "execution_count": 4,
     "metadata": {},
     "output_type": "execute_result"
    }
   ],
   "source": [
    "cr_admins = gpd.read_file('Costa Rica/cri_admbnda_adm2_2020.shp')\n",
    "cr_admins.head()"
   ]
  },
  {
   "cell_type": "code",
   "execution_count": 5,
   "metadata": {},
   "outputs": [],
   "source": [
    "# reproject the shapefile if not espg 4326\n",
    "cr_admins = cr_admins.to_crs('\"EPSG:4326\"')"
   ]
  },
  {
   "cell_type": "code",
   "execution_count": 30,
   "metadata": {},
   "outputs": [
    {
     "data": {
      "text/html": [
       "<div>\n",
       "<style scoped>\n",
       "    .dataframe tbody tr th:only-of-type {\n",
       "        vertical-align: middle;\n",
       "    }\n",
       "\n",
       "    .dataframe tbody tr th {\n",
       "        vertical-align: top;\n",
       "    }\n",
       "\n",
       "    .dataframe thead th {\n",
       "        text-align: right;\n",
       "    }\n",
       "</style>\n",
       "<table border=\"1\" class=\"dataframe\">\n",
       "  <thead>\n",
       "    <tr style=\"text-align: right;\">\n",
       "      <th></th>\n",
       "      <th>minx</th>\n",
       "      <th>miny</th>\n",
       "      <th>maxx</th>\n",
       "      <th>maxy</th>\n",
       "    </tr>\n",
       "  </thead>\n",
       "  <tbody>\n",
       "    <tr>\n",
       "      <th>0</th>\n",
       "      <td>-85.225659</td>\n",
       "      <td>10.109038</td>\n",
       "      <td>-84.827092</td>\n",
       "      <td>10.389386</td>\n",
       "    </tr>\n",
       "    <tr>\n",
       "      <th>1</th>\n",
       "      <td>-84.341693</td>\n",
       "      <td>9.622506</td>\n",
       "      <td>-84.132088</td>\n",
       "      <td>9.861633</td>\n",
       "    </tr>\n",
       "    <tr>\n",
       "      <th>2</th>\n",
       "      <td>-84.253801</td>\n",
       "      <td>9.254671</td>\n",
       "      <td>-83.840040</td>\n",
       "      <td>9.572033</td>\n",
       "    </tr>\n",
       "    <tr>\n",
       "      <th>3</th>\n",
       "      <td>-84.367680</td>\n",
       "      <td>9.914267</td>\n",
       "      <td>-84.160955</td>\n",
       "      <td>10.413694</td>\n",
       "    </tr>\n",
       "    <tr>\n",
       "      <th>4</th>\n",
       "      <td>-84.145894</td>\n",
       "      <td>9.847564</td>\n",
       "      <td>-84.084156</td>\n",
       "      <td>9.931675</td>\n",
       "    </tr>\n",
       "    <tr>\n",
       "      <th>...</th>\n",
       "      <td>...</td>\n",
       "      <td>...</td>\n",
       "      <td>...</td>\n",
       "      <td>...</td>\n",
       "    </tr>\n",
       "    <tr>\n",
       "      <th>76</th>\n",
       "      <td>-84.592696</td>\n",
       "      <td>9.569590</td>\n",
       "      <td>-84.403502</td>\n",
       "      <td>9.925489</td>\n",
       "    </tr>\n",
       "    <tr>\n",
       "      <th>77</th>\n",
       "      <td>-85.449169</td>\n",
       "      <td>10.670787</td>\n",
       "      <td>-84.880578</td>\n",
       "      <td>11.065570</td>\n",
       "    </tr>\n",
       "    <tr>\n",
       "      <th>78</th>\n",
       "      <td>-84.362149</td>\n",
       "      <td>10.048149</td>\n",
       "      <td>-84.226587</td>\n",
       "      <td>10.276312</td>\n",
       "    </tr>\n",
       "    <tr>\n",
       "      <th>79</th>\n",
       "      <td>-84.034999</td>\n",
       "      <td>9.964382</td>\n",
       "      <td>-83.858583</td>\n",
       "      <td>10.190042</td>\n",
       "    </tr>\n",
       "    <tr>\n",
       "      <th>80</th>\n",
       "      <td>-84.518360</td>\n",
       "      <td>10.167054</td>\n",
       "      <td>-84.315016</td>\n",
       "      <td>10.270422</td>\n",
       "    </tr>\n",
       "  </tbody>\n",
       "</table>\n",
       "<p>81 rows × 4 columns</p>\n",
       "</div>"
      ],
      "text/plain": [
       "         minx       miny       maxx       maxy\n",
       "0  -85.225659  10.109038 -84.827092  10.389386\n",
       "1  -84.341693   9.622506 -84.132088   9.861633\n",
       "2  -84.253801   9.254671 -83.840040   9.572033\n",
       "3  -84.367680   9.914267 -84.160955  10.413694\n",
       "4  -84.145894   9.847564 -84.084156   9.931675\n",
       "..        ...        ...        ...        ...\n",
       "76 -84.592696   9.569590 -84.403502   9.925489\n",
       "77 -85.449169  10.670787 -84.880578  11.065570\n",
       "78 -84.362149  10.048149 -84.226587  10.276312\n",
       "79 -84.034999   9.964382 -83.858583  10.190042\n",
       "80 -84.518360  10.167054 -84.315016  10.270422\n",
       "\n",
       "[81 rows x 4 columns]"
      ]
     },
     "execution_count": 30,
     "metadata": {},
     "output_type": "execute_result"
    }
   ],
   "source": [
    "cr_bounds = cr_admins.geometry.bounds\n",
    "cr_bounds"
   ]
  },
  {
   "cell_type": "code",
   "execution_count": null,
   "metadata": {},
   "outputs": [],
   "source": []
  },
  {
   "cell_type": "code",
   "execution_count": 28,
   "metadata": {},
   "outputs": [
    {
     "data": {
      "text/plain": [
       "(-90.03624725299994, 13.417916298000023, -88.95311737099996, 13.99701213800006)"
      ]
     },
     "execution_count": 28,
     "metadata": {},
     "output_type": "execute_result"
    }
   ],
   "source": [
    "bounds = jurisdictions.geometry.bounds\n",
    "min_x = bounds.minx.min()\n",
    "min_y = bounds.miny.min()\n",
    "max_x = bounds.maxx.max()\n",
    "max_y = bounds.maxy.max()\n",
    "min_x, min_y, max_x, max_y"
   ]
  },
  {
   "cell_type": "code",
   "execution_count": 43,
   "metadata": {},
   "outputs": [],
   "source": [
    "lower_x = math.floor(min_x / 10) * 10\n",
    "lower_y = math.ceil(min_y / 10) * 10\n",
    "upper_y = math.ceil(max_y / 10) * 10\n",
    "upper_x = math.ceil(max_x / 10) * 10"
   ]
  },
  {
   "cell_type": "code",
   "execution_count": 44,
   "metadata": {},
   "outputs": [
    {
     "data": {
      "text/plain": [
       "(-100, 20, -80, 20)"
      ]
     },
     "execution_count": 44,
     "metadata": {},
     "output_type": "execute_result"
    }
   ],
   "source": [
    "lower_x, lower_y, upper_x, upper_y"
   ]
  },
  {
   "cell_type": "code",
   "execution_count": 52,
   "metadata": {},
   "outputs": [
    {
     "name": "stdout",
     "output_type": "stream",
     "text": [
      "-100\n",
      "-90\n"
     ]
    }
   ],
   "source": [
    "for x in range(lower_x, upper_x, 10):\n",
    "    print(x)"
   ]
  },
  {
   "cell_type": "code",
   "execution_count": 53,
   "metadata": {},
   "outputs": [
    {
     "name": "stdout",
     "output_type": "stream",
     "text": [
      "20\n"
     ]
    }
   ],
   "source": [
    "for x in range(lower_y, upper_y + 10, 10):\n",
    "    print(x)"
   ]
  },
  {
   "cell_type": "code",
   "execution_count": 21,
   "metadata": {},
   "outputs": [],
   "source": [
    "# lower_x = np.absolute(math.floor(min_x / 10) * 10)\n",
    "# lower_y = np.absolute(math.floor(min_y / 10) * 10)\n",
    "# upper_y = np.absolute(math.ceil(max_y / 10) * 10)\n",
    "# upper_x = np.absolute(math.ceil(max_x / 10) * 10)\n",
    "# lower_x, lower_y, upper_x, upper_y"
   ]
  },
  {
   "cell_type": "code",
   "execution_count": 75,
   "metadata": {},
   "outputs": [],
   "source": [
    "def calculate_stats_esa_lc(country, shapefile):\n",
    "    \n",
    "    '''\n",
    "    Takes in a country name to import tof/hansen/esa rasters and calculates mean \n",
    "    tree cover thresholds per administrative boundary and ESA land cover \n",
    "    class. Returns a pandas dataframe with statistics.\n",
    "    \n",
    "    Attributes\n",
    "    ----------\n",
    "    country : str\n",
    "        a string indicating the country files to import\n",
    "    shapefile : .geojson or .shp file\n",
    "        shapefile containing subnational administrative boundaries level 0-2\n",
    "    '''\n",
    "    \n",
    "    tree_cover = pd.DataFrame(columns=['admin', \n",
    "                                       'esa_id', \n",
    "                                       'lc_class',\n",
    "                                       'ipcc_class',\n",
    "                                       'tof_mean_tc',\n",
    "                                       'tof_total_ha', \n",
    "                                       'hansen_mean_tc',\n",
    "                                       'hansen_total_ha',\n",
    "                                       'tof_hans'])\n",
    "    \n",
    "    admin_boundaries = list(shapefile.NAME_1)\n",
    "    \n",
    "    for admin in admin_boundaries:\n",
    "        \n",
    "        # resize esa to tof boundaries then reshape both\n",
    "        esa = rs.open(f'{country}/resampled_rasters/esa/{admin}.tif').read(1)\n",
    "        tof = rs.open(f'{country}/resampled_rasters/tof/{admin}.tif').read(1)\n",
    "        hansen = rs.open(f'{country}/resampled_rasters/hansen/{admin}.tif').read(1)\n",
    "        \n",
    "        # hard code esa to have the same shape as tof/hansen\n",
    "        if esa.shape != tof.shape:\n",
    "            esa = resize(esa, tof.shape, order=0, preserve_range=True)\n",
    "        \n",
    "        if hansen.shape != tof.shape:\n",
    "            hansen = resize(hansen, tof.shape, order=0, preserve_range=True)\n",
    "            \n",
    "        esa = reshape_for_stats(esa)\n",
    "        tof = reshape_for_stats(tof)\n",
    "        hansen = reshape_for_stats(hansen)\n",
    "        \n",
    "        # get a list of land cover classes in that jurisdiction\n",
    "        esa_classes = np.unique(esa)\n",
    "        #print(f'{len(esa_classes)} land cover classes in {juris}.')\n",
    "   \n",
    "        for cover in esa_classes:\n",
    "        \n",
    "            tof_class = tof[esa == cover]\n",
    "            hansen_class = hansen[esa == cover]\n",
    "            \n",
    "            # calculate mean tree cover for each lc class in the jurisdiction\n",
    "            tof_tc_by_class = round(np.mean(tof_class), 3)\n",
    "            hansen_tc_by_class = round(np.mean(hansen_class), 3)\n",
    "            \n",
    "            # calculate number of hectareas in each jurisdiction above 10% canopy cover per class\n",
    "            # get sum of 10m pixels above 10% and divide by 100 to convert to to non-contiguous hectares\n",
    "            tof_ha_over10 = np.sum(tof_class > 10.0) / 100 \n",
    "            hansen_ha_over10 = np.sum(hansen_class > 10.0) / 100\n",
    "            \n",
    "            \n",
    "            tree_cover = tree_cover.append({'admin': admin, \n",
    "                                            'esa_id': cover,\n",
    "                                            'tof_mean_tc': tof_tc_by_class,\n",
    "                                            'tof_total_ha': tof_ha_over10,\n",
    "                                            'hansen_mean_tc': hansen_tc_by_class,\n",
    "                                            'hansen_total_ha': hansen_ha_over10}, ignore_index=True)\n",
    "        \n",
    "        # from Appdx 1 of ESA product user guide\n",
    "        legend = {0: 'No Data',\n",
    "                10: 'Cropland, rainfed',\n",
    "                11: 'Cropland, rainfed, herbaceous cover',\n",
    "                20: 'Cropland, irrigated or post-flooding',\n",
    "                30: 'Mosaic cropland (>50%) / natural vegetation (tree, shrub, herbaceous cover)(<50%)',\n",
    "                40: 'Mosaic natural vegetation (tree, shrub, herbaceous cover) (>50%) / cropland (<50%)',\n",
    "                50: 'Tree cover, broadleaved, evergreen, closed to open (>15%)',\n",
    "                60: 'Tree cover, broadleaved, deciduous, closed to open (>15%)',\n",
    "                70: 'Tree cover, needleleaved, evergreen, closed to open (>15%)',\n",
    "                80: 'Tree cover, needleleaved, deciduous, closed to open (>15%)',\n",
    "                90: 'Tree cover, mixed leaf type (broadleaved and needleleaved)',\n",
    "                100: 'Mosaic tree and shrub (>50%) / herbaceous cover (<50%)',\n",
    "                110: 'Mosaic herbaceous cover (>50%) / tree and shrub (<50%)',\n",
    "                120: 'Shrubland',\n",
    "                130: 'Grassland',\n",
    "                140: 'Lichens and mosses',\n",
    "                150: 'Sparse vegetation (tree, shrub, herbaceous cover) (<15%)',\n",
    "                160: 'Tree cover, flooded, fresh or brakish water',\n",
    "                170: 'Tree cover, flooded, saline water',\n",
    "                180: 'Shrub or herbaceous cover, flooded, fresh/saline/brakish water',\n",
    "                190: 'Urban areas',\n",
    "                200: 'Bare areas',\n",
    "                210: 'Water bodies',\n",
    "                220: 'Permanent snow and ice'}\n",
    "        \n",
    "        # add line to map to IPCC land cover classes\n",
    "        ipcc = {0: 'Other',\n",
    "                10: 'Agriculture',\n",
    "                11: 'Agriculture',\n",
    "                20: 'Agriculture',\n",
    "                30: 'Agriculture',\n",
    "                40: 'Agriculture',\n",
    "                50: 'Forest',\n",
    "                60: 'Forest',\n",
    "                70: 'Forest',\n",
    "                80: 'Forest',\n",
    "                90: 'Forest',\n",
    "                100: 'Forest',\n",
    "                110: 'Grassland',\n",
    "                120: 'Other',\n",
    "                130: 'Grassland',\n",
    "                140: 'Other',\n",
    "                150: 'Other',\n",
    "                160: 'Forest',\n",
    "                170: 'Forest',\n",
    "                180: 'Wetland',\n",
    "                190: 'Settlement',\n",
    "                200: 'Other',\n",
    "                210: 'Other',\n",
    "                220: 'Other'}\n",
    "        \n",
    "        tree_cover['lc_class'] = tree_cover['esa_id'].map(legend)\n",
    "        tree_cover['ipcc_class'] = tree_cover['esa_id'].map(ipcc)\n",
    "        tree_cover['tof_hans'] = tree_cover['tof_total_ha'] - tree_cover['hansen_total_ha']\n",
    "        \n",
    "    print(f'{country} has {len(tree_cover.esa_id.value_counts())} land cover classes.')   \n",
    "    return tree_cover"
   ]
  },
  {
   "cell_type": "code",
   "execution_count": 37,
   "metadata": {},
   "outputs": [],
   "source": [
    "shapefile = gpd.read_file(f'insert new str')\n",
    "admin_boundaries_all = list(shapefile.NAME_1)\n",
    "\n",
    "# goals: create a list of admin names without numbers\n",
    "# identify whether the admin has 1 or 2 digits in order to properly remove them\n",
    "no_ints = []\n",
    "for admin in admin_boundaries_all:\n",
    "    # if any character is a digit\n",
    "    if any(char.isdigit() for char in admin):\n",
    "        # remove the digits and add it to the list of no ints\n",
    "        clean_admin = ''.join([char for char in admin if not char.isdigit()])\n",
    "        no_ints.append(clean_admin)\n",
    "no_ints = list(set(no_ints))    "
   ]
  },
  {
   "cell_type": "code",
   "execution_count": 50,
   "metadata": {},
   "outputs": [],
   "source": [
    "for admin_2 in no_ints:\n",
    "    # gather list of files for that admin (ex: Puntarenas1.tif, Puntarenas2.tif, Puntarenas3.tif)\n",
    "    files_to_merge = [] # this needs to be in dataset reader mode\n",
    "    files_to_delete = [] # just a string of the file name\n",
    "    for path in glob.glob(f'Costa Rica/resampled_rasters/tof/{admin_2}?.tif') and glob.glob(f'Costa Rica/resampled_rasters/tof/{admin_2}??.tif'):\n",
    "        filename = os.path.basename(path) \n",
    "#         files_to_delete.append(filename)\n",
    "#         src = rs.open(f'{country}/resampled_rasters/{data}/{filename}')\n",
    "#         files_to_merge.append(src)"
   ]
  },
  {
   "cell_type": "code",
   "execution_count": null,
   "metadata": {},
   "outputs": [],
   "source": [
    "# // matches all non-digits, replaces it with \"\" and returns the length.\n",
    "s.replaceAll(\"\\\\D\", \"\").length()"
   ]
  },
  {
   "cell_type": "code",
   "execution_count": 111,
   "metadata": {},
   "outputs": [
    {
     "name": "stdout",
     "output_type": "stream",
     "text": [
      "[]\n"
     ]
    }
   ],
   "source": [
    "files_to_merge = []\n",
    "for path in glob.glob(f'Costa Rica/resampled_rasters/hansen/Acosta?.tif'):\n",
    "    filename = os.path.basename(path) \n",
    "    files_to_merge.append(filename)\n",
    "print(files_to_merge)"
   ]
  },
  {
   "cell_type": "code",
   "execution_count": null,
   "metadata": {},
   "outputs": [],
   "source": []
  },
  {
   "cell_type": "code",
   "execution_count": null,
   "metadata": {},
   "outputs": [],
   "source": []
=======
  },
  {
   "cell_type": "code",
   "execution_count": 1,
   "metadata": {},
   "outputs": [],
   "source": [
    "# test123"
   ]
  },
  {
   "cell_type": "code",
   "execution_count": 25,
   "metadata": {},
   "outputs": [],
   "source": [
    "#execute_pipe('Belize')"
   ]
  },
  {
   "cell_type": "code",
   "execution_count": 30,
   "metadata": {},
   "outputs": [],
   "source": [
    "#execute_pipe('El Salvador')"
   ]
  },
  {
   "cell_type": "code",
   "execution_count": 14,
   "metadata": {},
   "outputs": [],
   "source": [
    "#execute_pipe('Nicaragua')"
   ]
  },
  {
   "cell_type": "code",
   "execution_count": 15,
   "metadata": {},
   "outputs": [],
   "source": [
    "#execute_pipe('Guatemala')"
   ]
  },
  {
   "cell_type": "code",
   "execution_count": 16,
   "metadata": {},
   "outputs": [
    {
     "name": "stdout",
     "output_type": "stream",
     "text": [
      "Converting shapefile to geojson...\n",
      "There are 18 admins in Honduras.\n",
      "Building Hansen tree cover raster...\n",
      "Honduras has lon N and lat W.\n",
      "Downloading files from GLAD...\n",
      "Hansen raster built.\n",
      "Removing tree cover loss...\n",
      "35697769 pixels converted to loss.\n",
      "Padding tof raster...\n",
      "Clipping rasters by admin boundary...\n",
      "Honduras's rasters clipped and saved.\n",
      "Resampling to match raster extents and resolutions...\n",
      "Merging admins containing multiple polygons...\n",
      "7 admins will be merged: ['Islas de la Bahía', 'Colón', 'Gracias a Dios', 'Cortés', 'Valle', 'Choluteca', 'Atlántida']\n",
      "Data preparation complete.\n",
      "Calculating statistics...\n"
     ]
    },
    {
     "name": "stderr",
     "output_type": "stream",
     "text": [
      "/Users/jessicaertel/anaconda3/lib/python3.7/site-packages/ipykernel_launcher.py:61: RuntimeWarning: Mean of empty slice\n",
      "/Users/jessicaertel/anaconda3/lib/python3.7/site-packages/ipykernel_launcher.py:70: RuntimeWarning: Mean of empty slice\n"
     ]
    },
    {
     "name": "stdout",
     "output_type": "stream",
     "text": [
      "3/18 admins processed...\n",
      "6/18 admins processed...\n",
      "9/18 admins processed...\n",
      "12/18 admins processed...\n",
      "15/18 admins processed...\n",
      "18/18 admins processed...\n"
     ]
    },
    {
     "data": {
      "text/plain": [
       "'Analysis complete.'"
      ]
     },
     "execution_count": 16,
     "metadata": {},
     "output_type": "execute_result"
    }
   ],
   "source": [
    "execute_pipe('Honduras')"
   ]
  },
  {
   "cell_type": "code",
   "execution_count": 17,
   "metadata": {},
   "outputs": [
    {
     "name": "stdout",
     "output_type": "stream",
     "text": [
      "Converting shapefile to geojson...\n",
      "There are 13 admins in Panama.\n",
      "Building Hansen tree cover raster...\n",
      "Panama has lon N and lat W.\n",
      "Downloading files from GLAD...\n",
      "Hansen raster built.\n",
      "Removing tree cover loss...\n",
      "38598272 pixels converted to loss.\n",
      "Padding tof raster...\n",
      "Clipping rasters by admin boundary...\n",
      "Panama's rasters clipped and saved.\n",
      "Resampling to match raster extents and resolutions...\n"
     ]
    },
    {
     "name": "stderr",
     "output_type": "stream",
     "text": [
      "Exception ignored in: <built-in function delete_Dataset>\n",
      "RuntimeError: TIFFAppendToStrip:Write error at scanline 4\n"
     ]
    },
    {
     "ename": "RuntimeError",
     "evalue": "Attempt to create new tiff file `Panama/resampled_rasters/tof/Darién18.tif' failed: No space left on device",
     "output_type": "error",
     "traceback": [
      "\u001b[0;31m---------------------------------------------------------------------------\u001b[0m",
      "\u001b[0;31mRuntimeError\u001b[0m                              Traceback (most recent call last)",
      "\u001b[0;32m<ipython-input-17-d525ea2397ac>\u001b[0m in \u001b[0;36m<module>\u001b[0;34m\u001b[0m\n\u001b[0;32m----> 1\u001b[0;31m \u001b[0mexecute_pipe\u001b[0m\u001b[0;34m(\u001b[0m\u001b[0;34m'Panama'\u001b[0m\u001b[0;34m)\u001b[0m\u001b[0;34m\u001b[0m\u001b[0m\n\u001b[0m",
      "\u001b[0;32m<ipython-input-13-855c3441ccf2>\u001b[0m in \u001b[0;36mexecute_pipe\u001b[0;34m(country)\u001b[0m\n\u001b[1;32m     11\u001b[0m     \u001b[0mcreate_clippings\u001b[0m\u001b[0;34m(\u001b[0m\u001b[0mcountry\u001b[0m\u001b[0;34m)\u001b[0m\u001b[0;34m\u001b[0m\u001b[0m\n\u001b[1;32m     12\u001b[0m     \u001b[0mprint\u001b[0m\u001b[0;34m(\u001b[0m\u001b[0;34m'Resampling to match raster extents and resolutions...'\u001b[0m\u001b[0;34m)\u001b[0m\u001b[0;34m\u001b[0m\u001b[0m\n\u001b[0;32m---> 13\u001b[0;31m     \u001b[0mapply_extent_res\u001b[0m\u001b[0;34m(\u001b[0m\u001b[0mcountry\u001b[0m\u001b[0;34m)\u001b[0m\u001b[0;34m\u001b[0m\u001b[0m\n\u001b[0m\u001b[1;32m     14\u001b[0m     \u001b[0mprint\u001b[0m\u001b[0;34m(\u001b[0m\u001b[0;34m'Merging admins containing multiple polygons...'\u001b[0m\u001b[0;34m)\u001b[0m\u001b[0;34m\u001b[0m\u001b[0m\n\u001b[1;32m     15\u001b[0m     \u001b[0mmerge_polygons\u001b[0m\u001b[0;34m(\u001b[0m\u001b[0mcountry\u001b[0m\u001b[0;34m)\u001b[0m\u001b[0;34m\u001b[0m\u001b[0m\n",
      "\u001b[0;32m<ipython-input-9-f176140b31be>\u001b[0m in \u001b[0;36mapply_extent_res\u001b[0;34m(country)\u001b[0m\n\u001b[1;32m     34\u001b[0m                              \u001b[0;34mf'{country}/resampled_rasters/tof/{admin}.tif'\u001b[0m\u001b[0;34m,\u001b[0m\u001b[0;34m\u001b[0m\u001b[0m\n\u001b[1;32m     35\u001b[0m                              \u001b[0mtof\u001b[0m \u001b[0;34m=\u001b[0m \u001b[0;32mTrue\u001b[0m\u001b[0;34m,\u001b[0m\u001b[0;34m\u001b[0m\u001b[0m\n\u001b[0;32m---> 36\u001b[0;31m                              esa = False) \n\u001b[0m\u001b[1;32m     37\u001b[0m \u001b[0;34m\u001b[0m\u001b[0m\n\u001b[1;32m     38\u001b[0m         \u001b[0;31m# apply to hansen\u001b[0m\u001b[0;34m\u001b[0m\u001b[0;34m\u001b[0m\u001b[0m\n",
      "\u001b[0;32m<ipython-input-8-01163f36fca8>\u001b[0m in \u001b[0;36mmatch_extent_and_res\u001b[0;34m(source, reference, out_filename, tof, esa)\u001b[0m\n\u001b[1;32m     19\u001b[0m     \u001b[0mheight\u001b[0m \u001b[0;34m=\u001b[0m \u001b[0mref_ds\u001b[0m\u001b[0;34m.\u001b[0m\u001b[0mRasterYSize\u001b[0m \u001b[0;32mif\u001b[0m \u001b[0;32mnot\u001b[0m \u001b[0mtof\u001b[0m \u001b[0;32melse\u001b[0m \u001b[0msrc\u001b[0m\u001b[0;34m.\u001b[0m\u001b[0mRasterYSize\u001b[0m\u001b[0;34m\u001b[0m\u001b[0m\n\u001b[1;32m     20\u001b[0m \u001b[0;34m\u001b[0m\u001b[0m\n\u001b[0;32m---> 21\u001b[0;31m     \u001b[0mout\u001b[0m \u001b[0;34m=\u001b[0m \u001b[0mgdal\u001b[0m\u001b[0;34m.\u001b[0m\u001b[0mGetDriverByName\u001b[0m\u001b[0;34m(\u001b[0m\u001b[0;34m'GTiff'\u001b[0m\u001b[0;34m)\u001b[0m\u001b[0;34m.\u001b[0m\u001b[0mCreate\u001b[0m\u001b[0;34m(\u001b[0m\u001b[0mout_filename\u001b[0m\u001b[0;34m,\u001b[0m \u001b[0mwidth\u001b[0m\u001b[0;34m,\u001b[0m \u001b[0mheight\u001b[0m\u001b[0;34m,\u001b[0m \u001b[0;36m1\u001b[0m\u001b[0;34m,\u001b[0m \u001b[0mgdalconst\u001b[0m\u001b[0;34m.\u001b[0m\u001b[0mGDT_Byte\u001b[0m\u001b[0;34m)\u001b[0m\u001b[0;34m\u001b[0m\u001b[0m\n\u001b[0m\u001b[1;32m     22\u001b[0m     \u001b[0mrb\u001b[0m \u001b[0;34m=\u001b[0m \u001b[0mout\u001b[0m\u001b[0;34m.\u001b[0m\u001b[0mGetRasterBand\u001b[0m\u001b[0;34m(\u001b[0m\u001b[0;36m1\u001b[0m\u001b[0;34m)\u001b[0m\u001b[0;34m\u001b[0m\u001b[0m\n\u001b[1;32m     23\u001b[0m     \u001b[0mrb\u001b[0m\u001b[0;34m.\u001b[0m\u001b[0mSetNoDataValue\u001b[0m\u001b[0;34m(\u001b[0m\u001b[0;36m255\u001b[0m\u001b[0;34m)\u001b[0m\u001b[0;34m\u001b[0m\u001b[0m\n",
      "\u001b[0;32m~/anaconda3/lib/python3.7/site-packages/osgeo/gdal.py\u001b[0m in \u001b[0;36mCreate\u001b[0;34m(self, *args, **kwargs)\u001b[0m\n\u001b[1;32m   1539\u001b[0m     \u001b[0;32mdef\u001b[0m \u001b[0mCreate\u001b[0m\u001b[0;34m(\u001b[0m\u001b[0mself\u001b[0m\u001b[0;34m,\u001b[0m \u001b[0;34m*\u001b[0m\u001b[0margs\u001b[0m\u001b[0;34m,\u001b[0m \u001b[0;34m**\u001b[0m\u001b[0mkwargs\u001b[0m\u001b[0;34m)\u001b[0m\u001b[0;34m:\u001b[0m\u001b[0;34m\u001b[0m\u001b[0m\n\u001b[1;32m   1540\u001b[0m         \u001b[0;34m\"\"\"Create(Driver self, char const * utf8_path, int xsize, int ysize, int bands=1, GDALDataType eType, char ** options=None) -> Dataset\"\"\"\u001b[0m\u001b[0;34m\u001b[0m\u001b[0m\n\u001b[0;32m-> 1541\u001b[0;31m         \u001b[0;32mreturn\u001b[0m \u001b[0m_gdal\u001b[0m\u001b[0;34m.\u001b[0m\u001b[0mDriver_Create\u001b[0m\u001b[0;34m(\u001b[0m\u001b[0mself\u001b[0m\u001b[0;34m,\u001b[0m \u001b[0;34m*\u001b[0m\u001b[0margs\u001b[0m\u001b[0;34m,\u001b[0m \u001b[0;34m**\u001b[0m\u001b[0mkwargs\u001b[0m\u001b[0;34m)\u001b[0m\u001b[0;34m\u001b[0m\u001b[0m\n\u001b[0m\u001b[1;32m   1542\u001b[0m \u001b[0;34m\u001b[0m\u001b[0m\n\u001b[1;32m   1543\u001b[0m \u001b[0;34m\u001b[0m\u001b[0m\n",
      "\u001b[0;31mRuntimeError\u001b[0m: Attempt to create new tiff file `Panama/resampled_rasters/tof/Darién18.tif' failed: No space left on device"
     ]
    }
   ],
   "source": [
    "execute_pipe('Panama')"
   ]
  },
  {
   "cell_type": "code",
   "execution_count": null,
   "metadata": {},
   "outputs": [
    {
     "name": "stdout",
     "output_type": "stream",
     "text": [
      "Converting shapefile to geojson...\n",
      "There are 7 admins in Costa Rica.\n",
      "Building Hansen tree cover raster...\n",
      "Costa Rica has lon N and lat W.\n",
      "Downloading files from GLAD...\n",
      "Hansen raster built.\n",
      "Removing tree cover loss...\n",
      "38050442 pixels converted to loss.\n",
      "Padding tof raster...\n",
      "Clipping rasters by admin boundary...\n",
      "Costa Rica's rasters clipped and saved.\n",
      "Resampling to match raster extents and resolutions...\n",
      "Merging admins containing multiple polygons...\n",
      "3 admins will be merged: ['Puntarenas', 'Limón', 'Guanacaste']\n",
      "Data preparation complete.\n",
      "Calculating statistics...\n"
     ]
    },
    {
     "name": "stderr",
     "output_type": "stream",
     "text": [
      "/Users/jessicaertel/anaconda3/lib/python3.7/site-packages/ipykernel_launcher.py:61: RuntimeWarning: Mean of empty slice\n"
     ]
    }
   ],
   "source": [
    "execute_pipe('Costa Rica')"
   ]
  },
  {
   "cell_type": "code",
   "execution_count": 48,
   "metadata": {},
   "outputs": [
    {
     "name": "stdout",
     "output_type": "stream",
     "text": [
      "Converting shapefile to geojson...\n",
      "There are 6 admins in Gambia.\n",
      "Building Hansen tree cover raster...\n",
      "Gambia has lon N and lat W.\n",
      "Downloading files from GLAD...\n",
      "Hansen raster built.\n",
      "Removing tree cover loss...\n",
      "21982618 pixels converted to loss.\n",
      "Padding tof raster...\n",
      "Clipping rasters by admin boundary...\n",
      "Gambia's rasters clipped and saved.\n",
      "Resampling to match raster extents and resolutions...\n",
      "Merging admins containing multiple polygons...\n",
      "3 admins will be merged: ['Banjul', 'North Bank', 'Western']\n",
      "Data preparation complete.\n",
      "Calculating statistics...\n"
     ]
    },
    {
     "name": "stderr",
     "output_type": "stream",
     "text": [
      "/Users/jessicaertel/anaconda3/lib/python3.7/site-packages/ipykernel_launcher.py:56: RuntimeWarning: Mean of empty slice\n",
      "/Users/jessicaertel/anaconda3/lib/python3.7/site-packages/ipykernel_launcher.py:65: RuntimeWarning: Mean of empty slice\n"
     ]
    },
    {
     "name": "stdout",
     "output_type": "stream",
     "text": [
      "3/6 admins processed...\n",
      "6/6 admins processed...\n"
     ]
    },
    {
     "data": {
      "text/plain": [
       "'Analysis complete.'"
      ]
     },
     "execution_count": 48,
     "metadata": {},
     "output_type": "execute_result"
    }
   ],
   "source": [
    "execute_pipe('Gambia')"
   ]
  },
  {
   "cell_type": "code",
   "execution_count": 31,
   "metadata": {},
   "outputs": [
    {
     "name": "stdout",
     "output_type": "stream",
     "text": [
      "Converting shapefile to geojson...\n",
      "There are 17 admins in Burundi.\n",
      "Building Hansen tree cover raster...\n",
      "Burundi has lon N and lat E.\n",
      "Downloading files from GLAD...\n",
      "Hansen raster built.\n",
      "Removing tree cover loss...\n",
      "96869725 pixels converted to loss.\n",
      "Padding tof raster...\n",
      "Clipping rasters by admin boundary...\n",
      "No MultiPolygons in Burundi.\n",
      "Burundi's rasters clipped and saved.\n",
      "Resampling to match raster extents and resolutions...\n",
      "Merging admins containing multiple polygons...\n",
      "0 admins will be merged: []\n",
      "Data preparation complete.\n",
      "Calculating statistics...\n"
     ]
    },
    {
     "name": "stderr",
     "output_type": "stream",
     "text": [
      "/Users/jessicaertel/anaconda3/lib/python3.7/site-packages/ipykernel_launcher.py:56: RuntimeWarning: Mean of empty slice\n",
      "/Users/jessicaertel/anaconda3/lib/python3.7/site-packages/ipykernel_launcher.py:65: RuntimeWarning: Mean of empty slice\n"
     ]
    },
    {
     "name": "stdout",
     "output_type": "stream",
     "text": [
      "3/17 admins processed...\n",
      "6/17 admins processed...\n",
      "9/17 admins processed...\n",
      "12/17 admins processed...\n",
      "15/17 admins processed...\n"
     ]
    },
    {
     "data": {
      "text/plain": [
       "'Analysis complete.'"
      ]
     },
     "execution_count": 31,
     "metadata": {},
     "output_type": "execute_result"
    }
   ],
   "source": [
    "execute_pipe('Burundi')"
   ]
  },
  {
   "cell_type": "code",
   "execution_count": 33,
   "metadata": {},
   "outputs": [
    {
     "name": "stdout",
     "output_type": "stream",
     "text": [
      "Converting shapefile to geojson...\n",
      "There are 5 admins in Rwanda.\n",
      "Building Hansen tree cover raster...\n",
      "Rwanda has lon N and lat E.\n",
      "Downloading files from GLAD...\n",
      "Hansen raster built.\n",
      "Removing tree cover loss...\n",
      "96869725 pixels converted to loss.\n",
      "Padding tof raster...\n",
      "Clipping rasters by admin boundary...\n",
      "Rwanda's rasters clipped and saved.\n",
      "Resampling to match raster extents and resolutions...\n",
      "Merging admins containing multiple polygons...\n",
      "1 admins will be merged: ['Iburengerazuba']\n",
      "Data preparation complete.\n",
      "Calculating statistics...\n"
     ]
    },
    {
     "name": "stderr",
     "output_type": "stream",
     "text": [
      "/Users/jessicaertel/anaconda3/lib/python3.7/site-packages/ipykernel_launcher.py:56: RuntimeWarning: Mean of empty slice\n",
      "/Users/jessicaertel/anaconda3/lib/python3.7/site-packages/ipykernel_launcher.py:65: RuntimeWarning: Mean of empty slice\n"
     ]
    },
    {
     "name": "stdout",
     "output_type": "stream",
     "text": [
      "3/5 admins processed...\n"
     ]
    },
    {
     "data": {
      "text/plain": [
       "'Analysis complete.'"
      ]
     },
     "execution_count": 33,
     "metadata": {},
     "output_type": "execute_result"
    }
   ],
   "source": [
    "execute_pipe('Rwanda')"
   ]
  },
  {
   "cell_type": "markdown",
   "metadata": {},
   "source": [
    "## Sanity Checks"
   ]
  },
  {
   "cell_type": "code",
   "execution_count": 23,
   "metadata": {},
   "outputs": [
    {
     "name": "stdout",
     "output_type": "stream",
     "text": [
      "3\n"
     ]
    }
   ],
   "source": [
    "test = np.array([0,1,2,2,2,3,4,5,6,6,7,8,9]).astype(np.float32) # three 2s and two 6s\n",
    "test[test != 2] = np.nan\n",
    "print(np.sum(test == 2))\n",
    "# test2 = test[test == 2]\n",
    "# print(test2.shape)\n",
    "# print(len(test2))\n",
    "# print(np.unique(test2))"
   ]
  },
  {
   "cell_type": "code",
   "execution_count": 20,
   "metadata": {},
   "outputs": [
    {
     "name": "stdout",
     "output_type": "stream",
     "text": [
      "Total TOF: 84711484, Total ESA: 84711484\n",
      "TOF NaN count #1: 0\n",
      "TOF NaN count #2: 82762643\n",
      "TOF NaN count #3: 82762643\n",
      "(1069519,)\n",
      "1069519\n",
      "[30.]\n",
      "1069519\n"
     ]
    }
   ],
   "source": [
    "# Test with Toledo and Cayo, Belize\n",
    "tof = rs.open(f'Belize/resampled_rasters/tof/Cayo.tif').read(1).astype(np.float32)\n",
    "esa = rs.open(f'Belize/resampled_rasters/esa/Cayo.tif').read(1).astype(np.float32)\n",
    "cover = 10.0\n",
    "\n",
    "# Do tof and esa have the same total count? YES\n",
    "total = tof.shape[0]*tof.shape[1]\n",
    "print(f'Total TOF: {total}, Total ESA: {esa.shape[0]*esa.shape[1]}') \n",
    "\n",
    "# Are NaNs calculated at every step? YES\n",
    "print(f'TOF NaN count #1: {np.sum(np.isnan(tof))}') \n",
    "tof_class = tof.copy()\n",
    "tof_class[esa != cover] = np.nan\n",
    "print(f'TOF NaN count #2: {np.sum(np.isnan(tof_class))}') \n",
    "tof_class[tof_class == 255] = np.nan\n",
    "print(f'TOF NaN count #3: {np.sum(np.isnan(tof_class))}') \n",
    "\n",
    "# What if we change all non covers to no data values instead of NaN? NO CHANGE\n",
    "tof_class = tof.copy()\n",
    "tof_class[esa != cover] = 255\n",
    "lc_sampled = np.sum(tof_class != 255) / 100   \n",
    "lc_total = np.count_nonzero(esa == cover)/100 if cover == 0.0 else np.sum(esa == cover)/100\n",
    "print(f'For {cover} the sampled area is {lc_sampled} ha and the total area is {lc_total} ha.')\n",
    "\n",
    "# What if we convert all ESA non cover values to NaN too? NO CHANGE\n",
    "# TOF and ESA should not have the same number of NaNs\n",
    "print(f'ESA NaN count #1: {np.sum(np.isnan(esa))}') \n",
    "esa_class = esa.copy()\n",
    "esa_class[esa_class != 10.0] = np.nan \n",
    "print(f'ESA NaN count #2: {np.sum(np.isnan(esa_class))}') \n",
    "\n",
    "# area sampled for a land cover class equals the sum of tof pixels that are not null\n",
    "lc_sampled = np.sum(~np.isnan(tof_class)) / 100   \n",
    "\n",
    "# total area for a land cover class equals the sum of esa pixels\n",
    "# divided by 100 to convert to hectares\n",
    "# need to ensure this counts the no data class correctly (no data label is 0.0)\n",
    "lc_total = np.count_nonzero(esa_class == cover)/100 if cover == 0.0 else np.sum(esa_class == cover)/100\n",
    "print(f'For {cover} the sampled area is {lc_sampled} ha and the total area is {lc_total} ha.')"
   ]
  },
  {
   "cell_type": "code",
   "execution_count": null,
   "metadata": {},
   "outputs": [],
   "source": [
    "# check results\n",
    "tof_nans_sum = np.sum(np.isnan(tof_class))\n",
    "tof_nans_nonzero = np.count_nonzero(np.isnan(tof_class)) # same result as nans_sum, regardless of lcc\n",
    "tof_notnan = np.sum(~np.isnan(tof_class))\n",
    "\n",
    "esa_cover = np.sum(esa_class == cover)\n",
    "esa_nans_sum = np.sum(np.isnan(esa_class))\n",
    "esa_notnan = np.sum(~np.isnan(esa_class))\n",
    "\n",
    "print(f'Count of cover {cover} in tof: {tof_notnan}') # where tof is not null\n",
    "print(f'Check TOF nulls + not nulls = total: {tof_nans_sum + tof_notnan}')\n",
    "print(f'Count of cover {cover} in esa: {esa_cover}')\n",
    "print(f'Check ESA nulls + not nulls = total: {esa_nans_sum + esa_notnan}')"
   ]
  },
  {
   "cell_type": "code",
   "execution_count": 29,
   "metadata": {},
   "outputs": [
    {
     "data": {
      "image/png": "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\n",
      "text/plain": [
       "<Figure size 1440x720 with 2 Axes>"
      ]
     },
     "metadata": {
      "needs_background": "light"
     },
     "output_type": "display_data"
    }
   ],
   "source": [
    "tof = rs.open(f'Belize/resampled_rasters/tof/Toledo.tif').read(1)\n",
    "esa = rs.open(f'Belize/resampled_rasters/esa/Toledo.tif').read(1)\n",
    "\n",
    "plt.figure(figsize=(20,10))\n",
    "\n",
    "plt.subplot(1,2,1)\n",
    "plt.imshow(tof, cmap='Greens', vmin=0, vmax=100)\n",
    "plt.title(f'TOF')\n",
    "\n",
    "plt.subplot(1,2,2)\n",
    "plt.imshow(esa, cmap='Greens', vmin=0, vmax=100)\n",
    "plt.title(f'ESA');"
   ]
  },
  {
   "cell_type": "code",
   "execution_count": 31,
   "metadata": {},
   "outputs": [
    {
     "data": {
      "text/plain": [
       "array([[       0, 50727518],\n",
       "       [      10,   128197],\n",
       "       [      11,    29235],\n",
       "       [      30,    65915],\n",
       "       [      40,  1520865],\n",
       "       [      50, 39690707],\n",
       "       [      60,   111024],\n",
       "       [     100,  1385102],\n",
       "       [     110,   190144],\n",
       "       [     120,   413430],\n",
       "       [     130,   217492],\n",
       "       [     160,     7503],\n",
       "       [     170,   819481],\n",
       "       [     180,    76423],\n",
       "       [     190,    19628],\n",
       "       [     200,     8525],\n",
       "       [     210,   778034]])"
      ]
     },
     "execution_count": 31,
     "metadata": {},
     "output_type": "execute_result"
    }
   ],
   "source": [
    "# check lcc frequencies for esa\n",
    "(unique, counts) = np.unique(esa, return_counts=True)\n",
    "frequencies = np.asarray((unique, counts)).T\n",
    "frequencies"
   ]
  },
  {
   "cell_type": "code",
   "execution_count": 34,
   "metadata": {},
   "outputs": [
    {
     "data": {
      "text/plain": [
       "array([[       0, 50721714],\n",
       "       [      20,      134],\n",
       "       [      40,      500],\n",
       "       [      60,      411],\n",
       "       [      80,      957],\n",
       "       [     100,     3802]])"
      ]
     },
     "execution_count": 34,
     "metadata": {},
     "output_type": "execute_result"
    }
   ],
   "source": [
    "# check frequencies\n",
    "(unique, counts) = np.unique(tof[esa == 0], return_counts=True)\n",
    "frequencies = np.asarray((unique, counts)).T\n",
    "frequencies"
   ]
  },
  {
   "cell_type": "code",
   "execution_count": 35,
   "metadata": {},
   "outputs": [
    {
     "data": {
      "text/plain": [
       "50727518"
      ]
     },
     "execution_count": 35,
     "metadata": {},
     "output_type": "execute_result"
    }
   ],
   "source": [
    "sum(counts)"
   ]
  },
  {
   "cell_type": "code",
   "execution_count": null,
   "metadata": {},
   "outputs": [],
   "source": [
    "# Check ESA no data land cover class\n",
    "sons_esa = rs.open('El Salvador/resampled_rasters/esa/Sonsonate.tif').read(1)\n",
    "sons_tof = rs.open('El Salvador/resampled_rasters/tof/Sonsonate.tif').read(1)"
   ]
  },
  {
   "cell_type": "code",
   "execution_count": 36,
   "metadata": {},
   "outputs": [
    {
     "data": {
      "text/plain": [
       "array([  0,  20,  40,  60,  80, 100], dtype=uint8)"
      ]
     },
     "execution_count": 36,
     "metadata": {},
     "output_type": "execute_result"
    }
   ],
   "source": [
    "# check vals for Costa Rica admin\n",
    "np.unique(currid_tof)"
   ]
  },
  {
   "cell_type": "code",
   "execution_count": 37,
   "metadata": {},
   "outputs": [
    {
     "data": {
      "text/plain": [
       "array([ 0, 20, 21, 22, 23, 24, 25, 26, 27, 28, 29, 30, 31, 32, 33, 34, 35,\n",
       "       36, 37, 38, 39, 40, 41, 42, 43, 44, 45, 46, 47, 48, 49, 50, 51, 52,\n",
       "       53, 54, 55, 56, 57, 58, 59, 60, 61, 62, 63, 64, 65, 66, 67, 68, 69,\n",
       "       70, 71, 72, 73, 74, 75, 76, 77, 78, 79, 80, 81, 82, 83, 84, 85, 86,\n",
       "       87, 88, 89, 90, 91, 92, 93, 94, 95, 96, 97, 98, 99], dtype=uint8)"
      ]
     },
     "execution_count": 37,
     "metadata": {},
     "output_type": "execute_result"
    }
   ],
   "source": [
    "# check vals for El Salvador admin\n",
    "np.unique(apaneca_tof)"
   ]
  },
  {
   "cell_type": "code",
   "execution_count": 64,
   "metadata": {},
   "outputs": [
    {
     "name": "stdout",
     "output_type": "stream",
     "text": [
      "Statistics01:\n",
      "TOF avg in ES: 16.18607142857143, Hans avg in ES: 17.820428571428568\n",
      "Statistics02:\n",
      "TOF avg in ES: 23.421297258496576, Hans avg in ES: 17.658193335813635\n",
      "Statistics03:\n",
      "TOF avg in ES: 23.421297258496576, Hans avg in ES: 17.658193335813635\n"
     ]
    }
   ],
   "source": [
    "# confirm mean tree cover counts\n",
    "# will be different in stats01 because it's mean tree cover per admin\n",
    "# versus mean tree cover per admin per land cover type\n",
    "\n",
    "es1 = pd.read_csv('El Salvador/stats/El Salvador_statistics01.csv')\n",
    "es2 = pd.read_csv('El Salvador/stats/El Salvador_statistics02.csv')\n",
    "es3 = pd.read_csv('El Salvador/stats/El Salvador_statistics03.csv')\n",
    "print('Statistics01:')\n",
    "print(f'TOF avg in ES: {es1.tof_mean_tc.mean()}, Hans avg in ES: {es1.hans_mean_tc.mean()}')\n",
    "print('Statistics02:')\n",
    "print(f'TOF avg in ES: {es2.tof_mean_tc_lc.mean()}, Hans avg in ES: {es2.hans_mean_tc_lc.mean()}')\n",
    "print('Statistics03:')\n",
    "print(f'TOF avg in ES: {es3.tof_mean_tc_lc.mean()}, Hans avg in ES: {es3.hans_mean_tc_lc.mean()}')"
   ]
  },
  {
   "cell_type": "code",
   "execution_count": 65,
   "metadata": {},
   "outputs": [
    {
     "name": "stdout",
     "output_type": "stream",
     "text": [
      "Statistics01:\n",
      "TOF avg in CR: 7.111285714285714, Hans avg in CR: 25.302999999999997\n",
      "Statistics02:\n",
      "TOF avg in CR: 16.921263565891472, Hans avg in CR: 32.848781838316725\n",
      "Statistics03:\n",
      "TOF avg in CR: 16.921263565891472, Hans avg in CR: 32.848781838316725\n"
     ]
    }
   ],
   "source": [
    "cr1 = pd.read_csv('Costa Rica/stats/Costa Rica_statistics01.csv')\n",
    "cr2 = pd.read_csv('Costa Rica/stats/Costa Rica_statistics02.csv')\n",
    "cr3 = pd.read_csv('Costa Rica/stats/Costa Rica_statistics03.csv')\n",
    "\n",
    "print('Statistics01:')\n",
    "print(f'TOF avg in CR: {cr1.tof_mean_tc.mean()}, Hans avg in CR: {cr1.hans_mean_tc.mean()}')\n",
    "print('Statistics02:')\n",
    "print(f'TOF avg in CR: {cr2.tof_mean_tc_lc.mean()}, Hans avg in CR: {cr2.hans_mean_tc_lc.mean()}')\n",
    "print('Statistics03:')\n",
    "print(f'TOF avg in CR: {cr3.tof_mean_tc_lc.mean()}, Hans avg in CR: {cr3.hans_mean_tc_lc.mean()}')"
   ]
  },
  {
   "cell_type": "code",
   "execution_count": 12,
   "metadata": {},
   "outputs": [],
   "source": [
    "# ES statistics for 2nd function not calculating correctly\n",
    "es_ipcc_means = es_above[['tof_mean_tc_lc', \n",
    "                          'hans_mean_tc_lc', \n",
    "                          'ipcc_class']].groupby('ipcc_class').mean().reset_index()"
   ]
  },
  {
   "cell_type": "code",
   "execution_count": 13,
   "metadata": {},
   "outputs": [
    {
     "data": {
      "text/html": [
       "<div>\n",
       "<style scoped>\n",
       "    .dataframe tbody tr th:only-of-type {\n",
       "        vertical-align: middle;\n",
       "    }\n",
       "\n",
       "    .dataframe tbody tr th {\n",
       "        vertical-align: top;\n",
       "    }\n",
       "\n",
       "    .dataframe thead th {\n",
       "        text-align: right;\n",
       "    }\n",
       "</style>\n",
       "<table border=\"1\" class=\"dataframe\">\n",
       "  <thead>\n",
       "    <tr style=\"text-align: right;\">\n",
       "      <th></th>\n",
       "      <th>ipcc_class</th>\n",
       "      <th>tof_mean_tc_lc</th>\n",
       "      <th>hans_mean_tc_lc</th>\n",
       "    </tr>\n",
       "  </thead>\n",
       "  <tbody>\n",
       "    <tr>\n",
       "      <th>0</th>\n",
       "      <td>Agriculture</td>\n",
       "      <td>29.250907</td>\n",
       "      <td>17.826823</td>\n",
       "    </tr>\n",
       "    <tr>\n",
       "      <th>1</th>\n",
       "      <td>Forest</td>\n",
       "      <td>32.203412</td>\n",
       "      <td>17.515225</td>\n",
       "    </tr>\n",
       "    <tr>\n",
       "      <th>2</th>\n",
       "      <td>Grassland</td>\n",
       "      <td>15.547973</td>\n",
       "      <td>18.052502</td>\n",
       "    </tr>\n",
       "    <tr>\n",
       "      <th>3</th>\n",
       "      <td>Other</td>\n",
       "      <td>9.602041</td>\n",
       "      <td>17.427191</td>\n",
       "    </tr>\n",
       "    <tr>\n",
       "      <th>4</th>\n",
       "      <td>Settlement</td>\n",
       "      <td>23.999687</td>\n",
       "      <td>17.826823</td>\n",
       "    </tr>\n",
       "    <tr>\n",
       "      <th>5</th>\n",
       "      <td>Wetland</td>\n",
       "      <td>14.905611</td>\n",
       "      <td>17.346923</td>\n",
       "    </tr>\n",
       "  </tbody>\n",
       "</table>\n",
       "</div>"
      ],
      "text/plain": [
       "    ipcc_class  tof_mean_tc_lc  hans_mean_tc_lc\n",
       "0  Agriculture       29.250907        17.826823\n",
       "1       Forest       32.203412        17.515225\n",
       "2    Grassland       15.547973        18.052502\n",
       "3        Other        9.602041        17.427191\n",
       "4   Settlement       23.999687        17.826823\n",
       "5      Wetland       14.905611        17.346923"
      ]
     },
     "execution_count": 13,
     "metadata": {},
     "output_type": "execute_result"
    }
   ],
   "source": [
    "es_ipcc_means"
   ]
  },
  {
   "cell_type": "code",
   "execution_count": 14,
   "metadata": {},
   "outputs": [],
   "source": [
    "es_esa_means = es_above[['tof_mean_tc_lc', \n",
    "                          'hans_mean_tc_lc', \n",
    "                          'esa_class']].groupby('esa_class').mean().reset_index()"
   ]
  },
  {
   "cell_type": "code",
   "execution_count": 17,
   "metadata": {},
   "outputs": [],
   "source": [
    "cr_ipcc_means = cr_above[['tof_mean_tc_lc', \n",
    "                          'hans_mean_tc_lc', \n",
    "                          'ipcc_class']].groupby('ipcc_class').mean().reset_index()"
   ]
  },
  {
   "cell_type": "code",
   "execution_count": 18,
   "metadata": {
    "scrolled": true
   },
   "outputs": [
    {
     "data": {
      "text/html": [
       "<div>\n",
       "<style scoped>\n",
       "    .dataframe tbody tr th:only-of-type {\n",
       "        vertical-align: middle;\n",
       "    }\n",
       "\n",
       "    .dataframe tbody tr th {\n",
       "        vertical-align: top;\n",
       "    }\n",
       "\n",
       "    .dataframe thead th {\n",
       "        text-align: right;\n",
       "    }\n",
       "</style>\n",
       "<table border=\"1\" class=\"dataframe\">\n",
       "  <thead>\n",
       "    <tr style=\"text-align: right;\">\n",
       "      <th></th>\n",
       "      <th>ipcc_class</th>\n",
       "      <th>tof_mean_tc_lc</th>\n",
       "      <th>hans_mean_tc_lc</th>\n",
       "    </tr>\n",
       "  </thead>\n",
       "  <tbody>\n",
       "    <tr>\n",
       "      <th>0</th>\n",
       "      <td>Agriculture</td>\n",
       "      <td>21.557142</td>\n",
       "      <td>29.621502</td>\n",
       "    </tr>\n",
       "    <tr>\n",
       "      <th>1</th>\n",
       "      <td>Forest</td>\n",
       "      <td>21.932651</td>\n",
       "      <td>53.478920</td>\n",
       "    </tr>\n",
       "    <tr>\n",
       "      <th>2</th>\n",
       "      <td>Grassland</td>\n",
       "      <td>14.237551</td>\n",
       "      <td>25.316936</td>\n",
       "    </tr>\n",
       "    <tr>\n",
       "      <th>3</th>\n",
       "      <td>Other</td>\n",
       "      <td>2.697094</td>\n",
       "      <td>17.305210</td>\n",
       "    </tr>\n",
       "    <tr>\n",
       "      <th>4</th>\n",
       "      <td>Settlement</td>\n",
       "      <td>14.240675</td>\n",
       "      <td>10.024260</td>\n",
       "    </tr>\n",
       "    <tr>\n",
       "      <th>5</th>\n",
       "      <td>Wetland</td>\n",
       "      <td>7.563579</td>\n",
       "      <td>19.563395</td>\n",
       "    </tr>\n",
       "  </tbody>\n",
       "</table>\n",
       "</div>"
      ],
      "text/plain": [
       "    ipcc_class  tof_mean_tc_lc  hans_mean_tc_lc\n",
       "0  Agriculture       21.557142        29.621502\n",
       "1       Forest       21.932651        53.478920\n",
       "2    Grassland       14.237551        25.316936\n",
       "3        Other        2.697094        17.305210\n",
       "4   Settlement       14.240675        10.024260\n",
       "5      Wetland        7.563579        19.563395"
      ]
     },
     "execution_count": 18,
     "metadata": {},
     "output_type": "execute_result"
    }
   ],
   "source": [
    "cr_ipcc_means"
   ]
  },
  {
   "cell_type": "code",
   "execution_count": 19,
   "metadata": {},
   "outputs": [],
   "source": [
    "cr_esa_means = cr_above[['tof_mean_tc_lc', \n",
    "                          'hans_mean_tc_lc', \n",
    "                          'esa_class']].groupby('esa_class').mean().reset_index()"
   ]
  },
  {
   "cell_type": "markdown",
   "metadata": {},
   "source": [
    "## Old Code"
   ]
  },
  {
   "cell_type": "code",
   "execution_count": null,
   "metadata": {},
   "outputs": [],
   "source": [
    "def stats_01(country):\n",
    "    \n",
    "    '''\n",
    "    Takes in a country to import appropriate tof/hansen rasters and calculates mean tree cover \n",
    "    per admin and the total number of hectares that fall within 5 20% thresholds (0-20%, 20-40%, \n",
    "    40-60%, 60-80%). Returns a pandas dataframe with statistics saved as a csv file in the country's\n",
    "    stats folder.\n",
    "    \n",
    "    Attributes\n",
    "    ----------\n",
    "    country : str\n",
    "        a string indicating the country files to import\n",
    "    '''\n",
    "    \n",
    "    if not os.path.exists(f'{country}/stats'):\n",
    "        os.makedirs(f'{country}/stats')\n",
    "    \n",
    "    tree_cover = pd.DataFrame(columns=['admin', \n",
    "                                       'tof_mean_tc',\n",
    "                                       'hans_mean_tc',\n",
    "                                       'tof_0_20',\n",
    "                                       'tof_20_40',\n",
    "                                       'tof_40_60',\n",
    "                                       'tof_60_80',\n",
    "                                       'tof_80_100',\n",
    "                                       'hans_0_20',\n",
    "                                       'hans_20_40',\n",
    "                                       'hans_40_60',\n",
    "                                       'hans_60_80',\n",
    "                                       'hans_80_100'])\n",
    "    \n",
    "    for file in [f for f in os.listdir(f'{country}/resampled_rasters/tof') if f != '.ipynb_checkpoints']:\n",
    "        \n",
    "        tof = rs.open(f'{country}/resampled_rasters/tof/{file}').read(1)\n",
    "        hansen = rs.open(f'{country}/resampled_rasters/hansen/{file}').read(1)\n",
    "\n",
    "        # reshape to 10x10 grid - ex: (88, 10, 63, 10)\n",
    "        tof_reshaped = reshape_to_4d(tof)\n",
    "        hansen_reshaped = reshape_to_4d(hansen)\n",
    "         \n",
    "        # calculate mean tree cover for admin boundary\n",
    "        tof_mean = round(np.mean(tof_reshaped), 3)   \n",
    "        hansen_mean = round(np.mean(hansen_reshaped), 3)   \n",
    "\n",
    "        # calculate mean tree cover for each hectare\n",
    "        tof_mean_per_ha = np.mean(tof_reshaped, axis=(1,3)) \n",
    "        hansen_mean_per_ha = np.mean(hansen_reshaped, axis=(1,3)) \n",
    "        \n",
    "        # calculate num of hectares with mean tree cover 0-20, 20-40, 40-60, 60-80, 80-100\n",
    "        tof_0_20 = np.sum((tof_mean_per_ha >= 0) & (tof_mean_per_ha <= 19)) \n",
    "        tof_20_40 = np.sum((tof_mean_per_ha >= 20) & (tof_mean_per_ha <= 39)) \n",
    "        tof_40_60 = np.sum((tof_mean_per_ha >= 40) & (tof_mean_per_ha <= 59)) \n",
    "        tof_60_80 = np.sum((tof_mean_per_ha >= 60) & (tof_mean_per_ha <= 79)) \n",
    "        tof_80_100 = np.sum((tof_mean_per_ha >= 80) & (tof_mean_per_ha <= 100)) \n",
    "        \n",
    "        hans_0_20 = np.sum((hansen_mean_per_ha >= 0) & (hansen_mean_per_ha <= 19)) \n",
    "        hans_20_40 = np.sum((hansen_mean_per_ha >= 20) & (hansen_mean_per_ha <= 39)) \n",
    "        hans_40_60 = np.sum((hansen_mean_per_ha >= 40) & (hansen_mean_per_ha <= 59)) \n",
    "        hans_60_80 = np.sum((hansen_mean_per_ha >= 60) & (hansen_mean_per_ha <= 79)) \n",
    "        hans_80_100 = np.sum((hansen_mean_per_ha >= 80) & (hansen_mean_per_ha <= 100)) \n",
    "        \n",
    "        tree_cover = tree_cover.append({'admin': file[:-4], \n",
    "                                        'tof_mean_tc': tof_mean,\n",
    "                                        'hans_mean_tc': hansen_mean,\n",
    "                                        'tof_0_20': tof_0_20,\n",
    "                                        'tof_20_40': tof_20_40,\n",
    "                                        'tof_40_60': tof_40_60,\n",
    "                                        'tof_60_80': tof_60_80,\n",
    "                                        'tof_80_100': tof_80_100,\n",
    "                                        'hans_0_20': hans_0_20,\n",
    "                                        'hans_20_40': hans_20_40,\n",
    "                                        'hans_40_60': hans_40_60,\n",
    "                                        'hans_60_80': hans_60_80,\n",
    "                                        'hans_80_100': hans_80_100}, ignore_index=True)\n",
    "        # save to csv      \n",
    "        tree_cover.to_csv(f'{country}/stats/{country}_statistics01.csv', index=False)\n",
    "    \n",
    "    return None"
   ]
  },
  {
   "cell_type": "code",
   "execution_count": null,
   "metadata": {},
   "outputs": [],
   "source": [
    "def stats_02_03(country):\n",
    "    '''\n",
    "    Takes in a country to import appropriate tof/hansen rasters. Rounds the values\n",
    "    to their median. For each ESA land cover class within each admin district, calculates the mean \n",
    "    tree cover and the total number of contiguous hectares of tree cover above 10% \n",
    "    thresholds. Then calculates the total hectares of tree cover within 5\n",
    "    20% thresholds (0-20%, 20-40%, 40-60%, 60-80%). The land cover categories and numbers \n",
    "    are aggregated to display the same statistics per IPCC land cover class.\n",
    "    \n",
    "    Attributes\n",
    "    ----------\n",
    "    country : str\n",
    "        a string indicating the country files to import\n",
    "\n",
    "    '''\n",
    "    \n",
    "    # set up the dataframes\n",
    "    ipcc_above = pd.DataFrame(columns=['admin', \n",
    "                                       'esa_id',\n",
    "                                       'esa_class',\n",
    "                                       'ipcc_class',\n",
    "                                       'tof_mean_tc_lc',\n",
    "                                       'hans_mean_tc_lc',\n",
    "                                       'tof_10+','tof_20+','tof_30+','tof_40+',\n",
    "                                       'tof_50+', 'tof_60+','tof_70+','tof_80+',\n",
    "                                       'tof_90+','hans_10+','hans_20+','hans_30+', \n",
    "                                       'hans_40+','hans_50+', 'hans_60+','hans_70+',\n",
    "                                       'hans_80+','hans_90+']) \n",
    "    \n",
    "    \n",
    "    ipcc_btw = pd.DataFrame(columns=['admin', \n",
    "                                     'esa_id',\n",
    "                                     'esa_class',\n",
    "                                     'ipcc_class',\n",
    "                                     'tof_mean_tc_lc',\n",
    "                                     'hans_mean_tc_lc',\n",
    "                                     'tof_0_20','tof_20_40','tof_40_60','tof_60_80',\n",
    "                                     'tof_80_100','hans_0_20','hans_20_40','hans_40_60',\n",
    "                                     'hans_60_80','hans_80_100'])\n",
    "    \n",
    "    counter = 0\n",
    "    folder_contents = [f for f in os.listdir(f'{country}/resampled_rasters/tof') if f != '.ipynb_checkpoints']\n",
    "    \n",
    "    for file in folder_contents[:1]:\n",
    "        \n",
    "        counter += 1\n",
    "        \n",
    "        # read in \n",
    "        tof = rs.open(f'{country}/resampled_rasters/tof/{file}').read(1).astype(np.float32)\n",
    "        hans = rs.open(f'{country}/resampled_rasters/hansen/{file}').read(1).astype(np.float32)\n",
    "        esa = rs.open(f'{country}/resampled_rasters/esa/{file}').read(1).astype(np.float32)\n",
    "                \n",
    "        # convert values to their median for binning\n",
    "        for lower, upper in zip(lower_rng, upper_rng):\n",
    "            \n",
    "            tof[(tof >= lower) & (tof < upper)] = lower + 4.5\n",
    "            hans[(hans >= lower) & (hans < upper)] = lower + 4.5\n",
    "\n",
    "        \n",
    "        # identify the lccs for that admin district\n",
    "        esa_classes = np.unique(esa)\n",
    "        \n",
    "        for cover in esa_classes:\n",
    "            \n",
    "            # change all values that are not equal to the lcc to NaN including no data vals\n",
    "            tof_class = tof.copy()\n",
    "            tof_class[esa != cover] = np.nan \n",
    "            tof_class[tof_class == 255] = np.nan\n",
    "            \n",
    "            # check - count the number of non nan instances \n",
    "            #print(f'For {cover} there are {np.count_nonzero(~np.isnan(tof_class))} non NaNs') \n",
    "\n",
    "            # reshape to a 10x10 grid to calculate stats\n",
    "            # calc mean tree cover for the lcc (entire admin) and mean tree cover for the lcc per hectare\n",
    "            # note that runtime warning: mean of empty slice indicates array has nothing but nan values\n",
    "            tof_reshaped = reshape_to_4d(tof_class) \n",
    "            tof_class_mean = np.nanmean(tof_reshaped)\n",
    "            tof_class_mean_per_ha = np.nanmean(tof_reshaped, axis=(1,3))\n",
    "            \n",
    "            # same for Hansen\n",
    "            hans_class = hans.copy()\n",
    "            hans_class[esa != cover] = np.nan\n",
    "            hans_class[hans_class == 255] = np.nan\n",
    "            \n",
    "            # reshape and calculate stats\n",
    "            hans_reshaped = reshape_to_4d(hans_class)\n",
    "            hans_class_mean = np.nanmean(hans_reshaped)\n",
    "            hans_class_mean_per_ha = np.nanmean(hans_reshaped, axis=(1,3))\n",
    "\n",
    "            # calculate num of hectares above each threshold for the lcc\n",
    "            tof_ha_over10 = np.sum(tof_class_mean_per_ha > 10.0) \n",
    "            tof_ha_over20 = np.sum(tof_class_mean_per_ha > 20.0) \n",
    "            tof_ha_over30 = np.sum(tof_class_mean_per_ha > 30.0) \n",
    "            tof_ha_over40 = np.sum(tof_class_mean_per_ha > 40.0) \n",
    "            tof_ha_over50 = np.sum(tof_class_mean_per_ha > 50.0)\n",
    "            tof_ha_over60 = np.sum(tof_class_mean_per_ha > 60.0) \n",
    "            tof_ha_over70 = np.sum(tof_class_mean_per_ha > 70.0) \n",
    "            tof_ha_over80 = np.sum(tof_class_mean_per_ha > 80.0) \n",
    "            tof_ha_over90 = np.sum(tof_class_mean_per_ha > 90.0) \n",
    "            \n",
    "            hans_ha_over10 = np.sum(hans_class_mean_per_ha > 10.0) \n",
    "            hans_ha_over20 = np.sum(hans_class_mean_per_ha > 20.0) \n",
    "            hans_ha_over30 = np.sum(hans_class_mean_per_ha > 30.0) \n",
    "            hans_ha_over40 = np.sum(hans_class_mean_per_ha > 40.0) \n",
    "            hans_ha_over50 = np.sum(hans_class_mean_per_ha > 50.0) \n",
    "            hans_ha_over60 = np.sum(hans_class_mean_per_ha > 60.0) \n",
    "            hans_ha_over70 = np.sum(hans_class_mean_per_ha > 70.0) \n",
    "            hans_ha_over80 = np.sum(hans_class_mean_per_ha > 80.0) \n",
    "            hans_ha_over90 = np.sum(hans_class_mean_per_ha > 90.0)           \n",
    "            \n",
    "            # calculate num of hectares between thresholds for the lcc\n",
    "            tof_0_20 = np.sum((tof_class_mean_per_ha >= 0) & (tof_class_mean_per_ha <= 19)) \n",
    "            tof_20_40 = np.sum((tof_class_mean_per_ha >= 20) & (tof_class_mean_per_ha <= 39)) \n",
    "            tof_40_60 = np.sum((tof_class_mean_per_ha >= 40) & (tof_class_mean_per_ha <= 59)) \n",
    "            tof_60_80 = np.sum((tof_class_mean_per_ha >= 60) & (tof_class_mean_per_ha <= 79)) \n",
    "            tof_80_100 = np.sum((tof_class_mean_per_ha >= 80) & (tof_class_mean_per_ha <= 100)) \n",
    "\n",
    "            hans_0_20 = np.sum((hans_class_mean_per_ha >= 0) & (hans_class_mean_per_ha <= 19)) \n",
    "            hans_20_40 = np.sum((hans_class_mean_per_ha >= 20) & (hans_class_mean_per_ha <= 39)) \n",
    "            hans_40_60 = np.sum((hans_class_mean_per_ha >= 40) & (hans_class_mean_per_ha <= 59)) \n",
    "            hans_60_80 = np.sum((hans_class_mean_per_ha >= 60) & (hans_class_mean_per_ha <= 79)) \n",
    "            hans_80_100 = np.sum((hans_class_mean_per_ha >= 80) & (hans_class_mean_per_ha <= 100)) \n",
    "            \n",
    "            \n",
    "            ipcc_above = ipcc_above.append({'admin': file[:-4], \n",
    "                                            'esa_id': cover,\n",
    "                                            'tof_mean_tc_lc': tof_class_mean,\n",
    "                                            'hans_mean_tc_lc': hans_class_mean,\n",
    "                                            'tof_10+':tof_ha_over10,\n",
    "                                            'tof_20+':tof_ha_over20,\n",
    "                                            'tof_30+':tof_ha_over30,\n",
    "                                            'tof_40+':tof_ha_over40,\n",
    "                                            'tof_50+':tof_ha_over50, \n",
    "                                            'tof_60+':tof_ha_over60,\n",
    "                                            'tof_70+':tof_ha_over70,\n",
    "                                            'tof_80+':tof_ha_over80,\n",
    "                                            'tof_90+':tof_ha_over90,\n",
    "                                            'hans_10+':hans_ha_over10,\n",
    "                                            'hans_20+':hans_ha_over20,\n",
    "                                            'hans_30+':hans_ha_over30,\n",
    "                                            'hans_40+':hans_ha_over40,\n",
    "                                            'hans_50+':hans_ha_over50,\n",
    "                                            'hans_60+':hans_ha_over60,\n",
    "                                            'hans_70+':hans_ha_over70,\n",
    "                                            'hans_80+':hans_ha_over80,\n",
    "                                            'hans_90+':hans_ha_over90}, ignore_index=True)\n",
    "            \n",
    "            ipcc_btw = ipcc_btw.append({'admin': file[:-4], \n",
    "                                        'esa_id': cover,\n",
    "                                        'tof_mean_tc_lc': tof_class_mean,\n",
    "                                        'hans_mean_tc_lc': hans_class_mean,\n",
    "                                        'tof_0_20': tof_0_20,\n",
    "                                        'tof_20_40': tof_20_40,\n",
    "                                        'tof_40_60': tof_40_60,\n",
    "                                        'tof_60_80': tof_60_80,\n",
    "                                        'tof_80_100': tof_80_100,\n",
    "                                        'hans_0_20': hans_0_20,\n",
    "                                        'hans_20_40': hans_20_40,\n",
    "                                        'hans_40_60': hans_40_60,\n",
    "                                        'hans_60_80': hans_60_80,\n",
    "                                        'hans_80_100': hans_80_100}, ignore_index=True)\n",
    "            \n",
    "        # map ESA id numbers to lcc labels\n",
    "        esa_legend = {0: 'No Data',\n",
    "                10: 'Cropland, rainfed',\n",
    "                11: 'Cropland, rainfed, herbaceous cover',\n",
    "                20: 'Cropland, irrigated or post-flooding',\n",
    "                30: 'Mosaic cropland (>50%) / natural vegetation (tree, shrub, herbaceous cover)(<50%)',\n",
    "                40: 'Mosaic natural vegetation (tree, shrub, herbaceous cover) (>50%) / cropland (<50%)',\n",
    "                50: 'Tree cover, broadleaved, evergreen, closed to open (>15%)',\n",
    "                60: 'Tree cover, broadleaved, deciduous, closed to open (>15%)',\n",
    "                70: 'Tree cover, needleleaved, evergreen, closed to open (>15%)',\n",
    "                80: 'Tree cover, needleleaved, deciduous, closed to open (>15%)',\n",
    "                90: 'Tree cover, mixed leaf type (broadleaved and needleleaved)',\n",
    "                100: 'Mosaic tree and shrub (>50%) / herbaceous cover (<50%)',\n",
    "                110: 'Mosaic herbaceous cover (>50%) / tree and shrub (<50%)',\n",
    "                120: 'Shrubland',\n",
    "                130: 'Grassland',\n",
    "                140: 'Lichens and mosses',\n",
    "                150: 'Sparse vegetation (tree, shrub, herbaceous cover) (<15%)',\n",
    "                160: 'Tree cover, flooded, fresh or brakish water',\n",
    "                170: 'Tree cover, flooded, saline water',\n",
    "                180: 'Shrub or herbaceous cover, flooded, fresh/saline/brakish water',\n",
    "                190: 'Urban areas',\n",
    "                200: 'Bare areas',\n",
    "                210: 'Water bodies',\n",
    "                220: 'Permanent snow and ice'}\n",
    "        \n",
    "        # map ESA id numbers to ipcc labels\n",
    "        ipcc = {0: 'Other',\n",
    "                10: 'Agriculture',\n",
    "                11: 'Agriculture',\n",
    "                20: 'Agriculture',\n",
    "                30: 'Agriculture',\n",
    "                40: 'Agriculture',\n",
    "                50: 'Forest',\n",
    "                60: 'Forest',\n",
    "                70: 'Forest',\n",
    "                80: 'Forest',\n",
    "                90: 'Forest',\n",
    "                100: 'Forest',\n",
    "                110: 'Grassland',\n",
    "                120: 'Other',\n",
    "                130: 'Grassland',\n",
    "                140: 'Other',\n",
    "                150: 'Other',\n",
    "                160: 'Forest',\n",
    "                170: 'Forest',\n",
    "                180: 'Wetland',\n",
    "                190: 'Settlement',\n",
    "                200: 'Other',\n",
    "                210: 'Other',\n",
    "                220: 'Other'}\n",
    "        \n",
    "        ipcc_above['esa_class'] = ipcc_above['esa_id'].map(esa_legend)\n",
    "        ipcc_above['ipcc_class'] = ipcc_above['esa_id'].map(ipcc)\n",
    "        ipcc_btw['esa_class'] = ipcc_btw['esa_id'].map(esa_legend)\n",
    "        ipcc_btw['ipcc_class'] = ipcc_btw['esa_id'].map(ipcc)\n",
    "        \n",
    "        if counter % 2 == 0:\n",
    "            print(f'{counter}/{len(folder_contents)} admins processed...')\n",
    "    \n",
    "    # save to csv      \n",
    "    ipcc_above.to_csv(f'{country}/stats/{country}_statistics02_new.csv', index=False)\n",
    "    ipcc_btw.to_csv(f'{country}/stats/{country}_statistics03_new.csv', index=False)\n",
    "                                \n",
    "    return None"
   ]
  },
  {
   "cell_type": "code",
   "execution_count": null,
   "metadata": {},
   "outputs": [],
   "source": [
    "tof[(tof > 10) & (tof < 19)] = 14.5 \n",
    "tof[(tof > 20) & (tof < 29)] = 24.5\n",
    "tof[(tof > 30) & (tof < 39)] = 34.5\n",
    "tof[(tof > 40) & (tof < 49)] = 44.5\n",
    "tof[(tof > 50) & (tof < 59)] = 54.5\n",
    "tof[(tof > 60) & (tof < 69)] = 64.5\n",
    "tof[(tof > 70) & (tof < 79)] = 74.5\n",
    "tof[(tof > 80) & (tof < 89)] = 84.5\n",
    "tof[(tof > 90) & (tof < 99)] = 94.5\n",
    "\n",
    "hans[(hans > 0) & (hans < 9)] = 4.5 \n",
    "hans[(hans > 10) & (hans < 19)] = 14.5 \n",
    "hans[(hans > 20) & (hans < 29)] = 24.5\n",
    "hans[(hans > 30) & (hans < 39)] = 34.5\n",
    "hans[(hans > 40) & (hans < 49)] = 44.5\n",
    "hans[(hans > 50) & (hans < 59)] = 54.5\n",
    "hans[(hans > 60) & (hans < 69)] = 64.5\n",
    "hans[(hans > 70) & (hans < 79)] = 74.5\n",
    "hans[(hans > 80) & (hans < 89)] = 84.5\n",
    "hans[(hans > 90) & (hans < 99)] = 94.5\n",
    "\n",
    "tof_0_10 = np.sum((tof_class_mean_per_ha >= 0) & (tof_class_mean_per_ha <= 9))\n",
    "tof_10_20 = np.sum((tof_class_mean_per_ha >= 10) & (tof_class_mean_per_ha <= 19))   \n",
    "tof_20_30 = np.sum((tof_class_mean_per_ha >= 20) & (tof_class_mean_per_ha <= 29)) \n",
    "tof_30_40 = np.sum((tof_class_mean_per_ha >= 30) & (tof_class_mean_per_ha <= 39)) \n",
    "tof_40_50 = np.sum((tof_class_mean_per_ha >= 40) & (tof_class_mean_per_ha <= 49)) \n",
    "tof_50_60 = np.sum((tof_class_mean_per_ha >= 50) & (tof_class_mean_per_ha <= 59))\n",
    "tof_60_70 = np.sum((tof_class_mean_per_ha >= 60) & (tof_class_mean_per_ha <= 69)) \n",
    "tof_70_80 = np.sum((tof_class_mean_per_ha >= 70) & (tof_class_mean_per_ha <= 79)) \n",
    "tof_80_90 = np.sum((tof_class_mean_per_ha >= 80) & (tof_class_mean_per_ha <= 89))\n",
    "tof_90_100 = np.sum((tof_class_mean_per_ha >= 90) & (tof_class_mean_per_ha <= 100))\n",
    "\n",
    "hans_0_10 = np.sum((hans_class_mean_per_ha >= 0) & (hans_class_mean_per_ha <= 9))\n",
    "hans_10_20 = np.sum((hans_class_mean_per_ha >= 10) & (hans_class_mean_per_ha <= 19))\n",
    "hans_20_30 = np.sum((hans_class_mean_per_ha >= 20) & (hans_class_mean_per_ha <= 29))\n",
    "hans_30_40 = np.sum((hans_class_mean_per_ha >= 30) & (hans_class_mean_per_ha <= 39)) \n",
    "hans_40_50 = np.sum((hans_class_mean_per_ha >= 40) & (hans_class_mean_per_ha <= 49))\n",
    "hans_50_60 = np.sum((hans_class_mean_per_ha >= 50) & (hans_class_mean_per_ha <= 59)) \n",
    "hans_60_70 = np.sum((hans_class_mean_per_ha >= 60) & (hans_class_mean_per_ha <= 69)) \n",
    "hans_70_80 = np.sum((hans_class_mean_per_ha >= 70) & (hans_class_mean_per_ha <= 79)) \n",
    "hans_80_90 = np.sum((hans_class_mean_per_ha >= 80) & (hans_class_mean_per_ha <= 89)) \n",
    "hans_90_100 = np.sum((hans_class_mean_per_ha >= 90) & (hans_class_mean_per_ha <= 100)) "
   ]
  },
  {
   "cell_type": "code",
   "execution_count": null,
   "metadata": {},
   "outputs": [],
   "source": [
    "# ESA bounding box stays same, becomes same shape as TOF\n",
    "# esa_out.tif has the proper resolution\n",
    "match_raster_extent_and_res(esa, tof, esa_out.tif, tof=False, esa=True) \n",
    "\n",
    "# TOF bounding box becomes ESA, TOF stays same shape\n",
    "# tof=true will not resample tof\n",
    "match_raster_extent_and_res(tof, esa_out, tof_out.tif, tof=True, esa=False) \n",
    "\n",
    "# Hansen bounding box becomes TOF/ESA, Hansen shape becomes TOF/ESA\n",
    "match_raster_extent_and_res(hansen, esa_out, hansen_out.tif, tof=False, esa=False) "
   ]
  },
  {
   "cell_type": "code",
   "execution_count": 8,
   "metadata": {},
   "outputs": [],
   "source": [
    "def resample_resize(country):\n",
    "    \n",
    "    '''\n",
    "    Takes in a country name to import a clipped raster and resamples the raster\n",
    "    to convert it to higher resolution. Crops or pads TOF/Hansen rasters to match\n",
    "    the size of the ESA raster. Returns the new rasters as individuals files\n",
    "    in the country's \"resampled_rasters\" folder. \n",
    "\n",
    "    Resampling a raster involves multiplying the pixel size by the scale factor \n",
    "    and dividing the dimensions by the scale factor. A scale >1 is an upsample\n",
    "    and a scale <1: downsample.\n",
    "\n",
    "        i.e. given a pixel size of 250m, dimensions of (1024, 1024) and a scale of 2,\n",
    "        the resampled raster would have an output pixel size of 500m and dimensions of (512, 512)\n",
    "        \n",
    "    Attributes\n",
    "    ----------\n",
    "    country : str\n",
    "        a string indicating the country files to import\n",
    "    '''\n",
    "    \n",
    "    if not os.path.exists(f'{country}/resampled_rasters/hansen'):\n",
    "        os.makedirs(f'{country}/resampled_rasters/hansen')\n",
    "    \n",
    "    if not os.path.exists(f'{country}/resampled_rasters/tof'):\n",
    "        os.makedirs(f'{country}/resampled_rasters/tof')\n",
    "    \n",
    "    if not os.path.exists(f'{country}/resampled_rasters/esa'):\n",
    "        os.makedirs(f'{country}/resampled_rasters/esa')\n",
    "    \n",
    "    # import new shapefile containing only polygons\n",
    "    shapefile = gpd.read_file(f'{country}/{country}_adminboundaries_exp.geojson')\n",
    "    admin_boundaries = list(shapefile.NAME_1)\n",
    "    \n",
    "    for admin in admin_boundaries[:1]:\n",
    "        print(admin)\n",
    "         \n",
    "    # Resample ESA\n",
    "        esa_raster = rs.open(f'{country}/clipped_rasters/esa/{admin}.tif')\n",
    "        print(f'ESA original: {esa_raster.shape}')\n",
    "        \n",
    "        height = int(esa_raster.height)\n",
    "        width = int(esa_raster.width)\n",
    "        scale = 30\n",
    "        \n",
    "        # resample data to new resolution\n",
    "        esa_resampled = esa_raster.read(out_shape=(esa_raster.count, (height * scale), (width * scale)),\n",
    "                                        resampling=Resampling.nearest)\n",
    "        \n",
    "        # removes extra index\n",
    "        esa_resampled = esa_resampled.squeeze()\n",
    "        \n",
    "        # scale image transform\n",
    "        esa_transform = esa_raster.transform * esa_raster.transform.scale((width / esa_resampled.shape[-1]),\n",
    "                                                                      (height / esa_resampled.shape[-2]))\n",
    "        \n",
    "        \n",
    "        # assert raster shape, datatype and max/min values\n",
    "        assert esa_resampled.dtype == 'uint8'\n",
    "        assert esa_resampled.shape != (0, ) and len(esa_resampled.shape) <= 2\n",
    "        assert esa_resampled.max() <= 255 and esa_resampled.min() >= 0\n",
    "        \n",
    "        esa_outpath = f'{country}/resampled_rasters/esa/{admin}.tif'\n",
    "        esa_new = rs.open(esa_outpath, 'w', \n",
    "                              driver='GTiff',\n",
    "                              height=esa_resampled.shape[0], \n",
    "                              width=esa_resampled.shape[1], \n",
    "                              count=1,\n",
    "                              dtype=\"uint8\",\n",
    "                              crs='+proj=longlat +datum=WGS84 +no_defs',\n",
    "                              transform=esa_transform,\n",
    "                              compress='lzw')\n",
    "        \n",
    "        print(f'ESA after resample: {esa_new.shape}')\n",
    "        esa_new.write(esa_resampled, 1)\n",
    "        esa_new.close()\n",
    "        \n",
    "        # define parameters for gdal translate\n",
    "        esa = rs.open(f'{country}/resampled_rasters/esa/{admin}.tif')\n",
    "        esa_bounds = esa.bounds\n",
    "        translateoptions = gdal.TranslateOptions(format='Gtiff', \n",
    "                                                  outputSRS='EPSG:4326',\n",
    "                                                  outputType=gdal.GDT_Byte,\n",
    "                                                  noData=255,\n",
    "                                                  creationOptions=['COMPRESS=LZW'],\n",
    "                                                  resampleAlg='nearest')\n",
    "        \n",
    "        # Crop Hansen to ESA bounds \n",
    "        hans_raster = f'{country}/clipped_rasters/hansen/{admin}.tif'\n",
    "        hans_outpath = f'{country}/resampled_rasters/hansen/{admin}.tif'\n",
    "        print(f'Hansen original: {rs.open(hans_raster).shape}')\n",
    "        \n",
    "        source = gdal.Open(hans_raster)\n",
    "        ds = gdal.Translate(hans_outpath, \n",
    "                            source, \n",
    "                            projWin=[-90.22499999999281, 13.75833333332723, -89.78888888888166, 14.166666666660595], \n",
    "                            options=translateoptions)\n",
    "        ds = None\n",
    "        print(f'Hansen after gdal translate: {rs.open(hans_outpath).shape}')\n",
    "        \n",
    "        # Resample hansen\n",
    "        hans_raster = rs.open(hans_raster)\n",
    "        height = int(hans_raster.height)\n",
    "        width = int(hans_raster.width)\n",
    "        scale = 3\n",
    "        \n",
    "        # resample data to target shape -- use Resampling.nearest not Resampling.bilinear\n",
    "        hans_resampled = hans_raster.read(out_shape=(hans_raster.count, (height * scale), (width * scale)),\n",
    "                                          resampling=Resampling.nearest)\n",
    "        \n",
    "        # removes extra index\n",
    "        hans_resampled = hans_resampled.squeeze()\n",
    "        \n",
    "        # scale image transform\n",
    "        hans_transform = hans_raster.transform * hans_raster.transform.scale((width / hans_resampled.shape[-1]),\n",
    "                                                                           (height / hans_resampled.shape[-2]))\n",
    "        \n",
    "        \n",
    "        # assert raster shape, datatype and max/min values\n",
    "        assert hans_resampled.dtype == 'uint8'\n",
    "        assert hans_resampled.shape != (0, ) and len(hans_resampled.shape) <= 2\n",
    "        assert hans_resampled.max() <= 255 and hans_resampled.min() >= 0\n",
    "        \n",
    "        # write the resampled raster to the new folder \n",
    "        hans_new = rs.open(hans_outpath, 'w', \n",
    "                              driver='GTiff',\n",
    "                              height=hans_resampled.shape[0], \n",
    "                              width=hans_resampled.shape[1], \n",
    "                              count=1,\n",
    "                              dtype=\"uint8\",\n",
    "                              crs='+proj=longlat +datum=WGS84 +no_defs',\n",
    "                              transform=hans_transform,\n",
    "                              compress='lzw')\n",
    "        \n",
    "        print(f'Hansen after resample: {hans_new.shape}')\n",
    "        hans_new.write(hans_resampled, 1)\n",
    "        hans_new.close()\n",
    "        \n",
    "        \n",
    "        # Crop TOF to ESA bounds (move to resampled folder, skip resample)\n",
    "        tof_raster = f'{country}/clipped_rasters/tof/{admin}.tif'\n",
    "        tof_outpath = f'{country}/resampled_rasters/tof/{admin}.tif'\n",
    "        source = gdal.Open(tof_raster)\n",
    "        ds = gdal.Translate(tof_outpath, \n",
    "                            source, \n",
    "                            projWin=[-90.22499999999281, 13.75833333332723, -89.78888888888166, 14.166666666660595], \n",
    "                            options=translateoptions)\n",
    "        ds = None\n",
    "        print(f'TOF original: {rs.open(tof_raster).shape}')\n",
    "        print(f'TOF after gdal translate: {rs.open(tof_outpath).shape}')\n",
    "        print(' ')\n",
    "    return None\n"
   ]
  },
  {
   "cell_type": "code",
   "execution_count": null,
   "metadata": {},
   "outputs": [],
   "source": [
    "def match_extent_and_res(country):\n",
    "    \n",
    "    '''\n",
    "    Matches the projection, bounding box, and dimensions of source to reference\n",
    "    ''' \n",
    "   \n",
    "    # import new shapefile containing only polygons\n",
    "    shapefile = gpd.read_file(f'{country}/{country}_adminboundaries_exp.geojson')\n",
    "    admin_boundaries = list(shapefile.NAME_1)\n",
    "    \n",
    "    for admin in admin_boundaries:\n",
    "        \n",
    "        # import, get the projection and geotrans for each dataset\n",
    "        tof = gdal.Open(f'{country}/clipped_rasters/tof/{admin}.tif', gdalconst.GA_ReadOnly)     \n",
    "        tof_proj = tof.GetProjection()\n",
    "        tof_geotrans = tof.GetGeoTransform()\n",
    "        tof_outpath = f'{country}/resampled_rasters/tof/{admin}.tif'\n",
    "        \n",
    "        hans = gdal.Open(f'{country}/clipped_rasters/hansen/{admin}.tif', gdalconst.GA_ReadOnly)\n",
    "        hans_proj = hans.GetProjection()\n",
    "        hans_geotrans = hans.GetGeoTransform()\n",
    "        hans_outpath = f'{country}/resampled_rasters/hansen/{admin}.tif'\n",
    "        \n",
    "        esa = gdal.Open(f'{country}/clipped_rasters/esa/{admin}.tif', gdalconst.GA_ReadOnly)\n",
    "        esa_proj = esa.GetProjection()\n",
    "        esa_geotrans = esa.GetGeoTransform() # not used remove\n",
    "        esa_outpath = f'{country}/resampled_rasters/esa/{admin}.tif'\n",
    "                \n",
    "        # esa upsample to 10m\n",
    "        width = esa.RasterXSize\n",
    "        height = esa.RasterYSize\n",
    "        esa_out = gdal.GetDriverByName('GTiff').Create(esa_outpath, width, height, 1, gdalconst.GDT_Byte)\n",
    "        interpolation = gdalconst.GRA_NearestNeighbour\n",
    "        gdal.ReprojectImage(esa, esa_outpath, esa_proj, tof_proj, interpolation)\n",
    "\n",
    "        # set reference as resampled esa\n",
    "        esa_resampled = gdal.Open(esa_outpath, gdalconst.GA_ReadOnly)\n",
    "        esa_proj = esa_resampled.GetProjection()\n",
    "        esa_geotrans = esa_resampled.GetGeoTransform()\n",
    "        width = esa_resampled.RasterXSize\n",
    "        height = esa_resampled.RasterYSize\n",
    "        \n",
    "        # tof transform\n",
    "        tof_out = gdal.GetDriverByName('GTiff').Create(tof_outpath, width, height, 1, gdalconst.GDT_Byte)\n",
    "        tof_out.SetGeoTransform(esa_geotrans)\n",
    "        tof_out.SetProjection(esa_proj)\n",
    "        \n",
    "        interpolation = gdalconst.GRA_NearestNeighbour\n",
    "        gdal.ReprojectImage(hans, hans_out, hans_proj, tof_proj, interpolation)\n",
    "        \n",
    "        # Hansen transform\n",
    "        hans_out = gdal.GetDriverByName('GTiff').Create(hans_outpath, width, height, 1, gdalconst.GDT_Byte)\n",
    "        hans_out.SetGeoTransform(esa_geotrans)\n",
    "        hans_out.SetProjection(esa_proj)\n",
    "        \n",
    "        # resample hansen to tof\n",
    "#         interpolation = gdalconst.GRA_NearestNeighbour\n",
    "#         gdal.ReprojectImage(hans, hans_out, hans_proj, tof_proj, interpolation)\n",
    "                \n",
    "    return None\n",
    "\n",
    "def resample_resize(country):\n",
    "    \n",
    "    '''\n",
    "    Takes in a country name to import a clipped raster and resamples the raster\n",
    "    to convert it to higher resolution. Crops or pads TOF/Hansen rasters to match\n",
    "    the size of the ESA raster. Returns the new rasters as individuals files\n",
    "    in the country's \"resampled_rasters\" folder. \n",
    "\n",
    "    Resampling a raster involves multiplying the pixel size by the scale factor \n",
    "    and dividing the dimensions by the scale factor. A scale >1 is an upsample\n",
    "    and a scale <1: downsample.\n",
    "\n",
    "        i.e. given a pixel size of 250m, dimensions of (1024, 1024) and a scale of 2,\n",
    "        the resampled raster would have an output pixel size of 500m and dimensions of (512, 512)\n",
    "        \n",
    "    Attributes\n",
    "    ----------\n",
    "    country : str\n",
    "        a string indicating the country files to import\n",
    "    '''\n",
    "    \n",
    "    if not os.path.exists(f'{country}/resampled_rasters/hansen'):\n",
    "        os.makedirs(f'{country}/resampled_rasters/hansen')\n",
    "    \n",
    "    if not os.path.exists(f'{country}/resampled_rasters/tof'):\n",
    "        os.makedirs(f'{country}/resampled_rasters/tof')\n",
    "    \n",
    "    if not os.path.exists(f'{country}/resampled_rasters/esa'):\n",
    "        os.makedirs(f'{country}/resampled_rasters/esa')\n",
    "    \n",
    "    # import new shapefile containing only polygons\n",
    "    shapefile = gpd.read_file(f'{country}/{country}_adminboundaries_exp.geojson')\n",
    "    admin_boundaries = list(shapefile.NAME_1)\n",
    "    \n",
    "    for admin in admin_boundaries[:1]:\n",
    "        print(admin)\n",
    "         \n",
    "    # Resample ESA\n",
    "        esa_raster = rs.open(f'{country}/clipped_rasters/esa/{admin}.tif')\n",
    "        print(f'ESA original: {esa_raster.shape}')\n",
    "        \n",
    "        height = int(esa_raster.height)\n",
    "        width = int(esa_raster.width)\n",
    "        scale = 30\n",
    "        \n",
    "        # resample data to new resolution\n",
    "        esa_resampled = esa_raster.read(out_shape=(esa_raster.count, (height * scale), (width * scale)),\n",
    "                                        resampling=Resampling.nearest)\n",
    "        \n",
    "        # removes extra index\n",
    "        esa_resampled = esa_resampled.squeeze()\n",
    "        \n",
    "        # scale image transform\n",
    "        esa_transform = esa_raster.transform * esa_raster.transform.scale((width / esa_resampled.shape[-1]),\n",
    "                                                                      (height / esa_resampled.shape[-2]))\n",
    "        \n",
    "        \n",
    "        # assert raster shape, datatype and max/min values\n",
    "        assert esa_resampled.dtype == 'uint8'\n",
    "        assert esa_resampled.shape != (0, ) and len(esa_resampled.shape) <= 2\n",
    "        assert esa_resampled.max() <= 255 and esa_resampled.min() >= 0\n",
    "        \n",
    "        esa_outpath = f'{country}/resampled_rasters/esa/{admin}.tif'\n",
    "        esa_new = rs.open(esa_outpath, 'w', \n",
    "                              driver='GTiff',\n",
    "                              height=esa_resampled.shape[0], \n",
    "                              width=esa_resampled.shape[1], \n",
    "                              count=1,\n",
    "                              dtype=\"uint8\",\n",
    "                              crs='+proj=longlat +datum=WGS84 +no_defs',\n",
    "                              transform=esa_transform,\n",
    "                              compress='lzw')\n",
    "        \n",
    "        print(f'ESA after resample: {esa_new.shape}')\n",
    "        esa_new.write(esa_resampled, 1)\n",
    "        esa_new.close()\n",
    "        \n",
    "        # define parameters for gdal translate\n",
    "        esa = rs.open(f'{country}/resampled_rasters/esa/{admin}.tif')\n",
    "        esa_bounds = esa.bounds\n",
    "        translateoptions = gdal.TranslateOptions(format='Gtiff', \n",
    "                                                  outputSRS='EPSG:4326',\n",
    "                                                  outputType=gdal.GDT_Byte,\n",
    "                                                  noData=255,\n",
    "                                                  creationOptions=['COMPRESS=LZW'],\n",
    "                                                  resampleAlg='nearest')\n",
    "        \n",
    "        # Crop Hansen to ESA bounds \n",
    "        hans_raster = f'{country}/clipped_rasters/hansen/{admin}.tif'\n",
    "        hans_outpath = f'{country}/resampled_rasters/hansen/{admin}.tif'\n",
    "        print(f'Hansen original: {rs.open(hans_raster).shape}')\n",
    "        \n",
    "        source = gdal.Open(hans_raster)\n",
    "        ds = gdal.Translate(hans_outpath, \n",
    "                            source, \n",
    "                            projWin=[-90.22499999999281, 13.75833333332723, -89.78888888888166, 14.166666666660595], \n",
    "                            options=translateoptions)\n",
    "        ds = None\n",
    "        print(f'Hansen after gdal translate: {rs.open(hans_outpath).shape}')\n",
    "        \n",
    "        # Resample hansen\n",
    "        hans_raster = rs.open(hans_raster)\n",
    "        height = int(hans_raster.height)\n",
    "        width = int(hans_raster.width)\n",
    "        scale = 3\n",
    "        \n",
    "        # resample data to target shape -- use Resampling.nearest not Resampling.bilinear\n",
    "        hans_resampled = hans_raster.read(out_shape=(hans_raster.count, (height * scale), (width * scale)),\n",
    "                                          resampling=Resampling.nearest)\n",
    "        \n",
    "        # removes extra index\n",
    "        hans_resampled = hans_resampled.squeeze()\n",
    "        \n",
    "        # scale image transform\n",
    "        hans_transform = hans_raster.transform * hans_raster.transform.scale((width / hans_resampled.shape[-1]),\n",
    "                                                                           (height / hans_resampled.shape[-2]))\n",
    "        \n",
    "        \n",
    "        # assert raster shape, datatype and max/min values\n",
    "        assert hans_resampled.dtype == 'uint8'\n",
    "        assert hans_resampled.shape != (0, ) and len(hans_resampled.shape) <= 2\n",
    "        assert hans_resampled.max() <= 255 and hans_resampled.min() >= 0\n",
    "        \n",
    "        # write the resampled raster to the new folder \n",
    "        hans_new = rs.open(hans_outpath, 'w', \n",
    "                              driver='GTiff',\n",
    "                              height=hans_resampled.shape[0], \n",
    "                              width=hans_resampled.shape[1], \n",
    "                              count=1,\n",
    "                              dtype=\"uint8\",\n",
    "                              crs='+proj=longlat +datum=WGS84 +no_defs',\n",
    "                              transform=hans_transform,\n",
    "                              compress='lzw')\n",
    "        \n",
    "        print(f'Hansen after resample: {hans_new.shape}')\n",
    "        hans_new.write(hans_resampled, 1)\n",
    "        hans_new.close()\n",
    "        \n",
    "        \n",
    "        # Crop TOF to ESA bounds (move to resampled folder, skip resample)\n",
    "        tof_raster = f'{country}/clipped_rasters/tof/{admin}.tif'\n",
    "        tof_outpath = f'{country}/resampled_rasters/tof/{admin}.tif'\n",
    "        source = gdal.Open(tof_raster)\n",
    "        ds = gdal.Translate(tof_outpath, \n",
    "                            source, \n",
    "                            projWin=[-90.22499999999281, 13.75833333332723, -89.78888888888166, 14.166666666660595], \n",
    "                            options=translateoptions)\n",
    "        ds = None\n",
    "        print(f'TOF original: {rs.open(tof_raster).shape}')\n",
    "        print(f'TOF after gdal translate: {rs.open(tof_outpath).shape}')\n",
    "        print(' ')\n",
    "    return None\n"
   ]
  },
  {
   "cell_type": "code",
   "execution_count": 40,
   "metadata": {},
   "outputs": [],
   "source": [
    "tof = np.array([88, 84, 80, 10, 12, 17, 91, 42, 20, 23, 26, 29, 31, 39, 90, 92, 97]).astype('float32')"
   ]
  },
  {
   "cell_type": "code",
   "execution_count": 51,
   "metadata": {},
   "outputs": [
    {
     "data": {
      "text/plain": [
       "(4093998, 14244852)"
      ]
     },
     "execution_count": 51,
     "metadata": {},
     "output_type": "execute_result"
    }
   ],
   "source": [
    "# count the number of non nan and nan instances in the dataset\n",
    "np.count_nonzero(~np.isnan(tof_class)), np.count_nonzero(np.isnan(tof_class))"
   ]
  },
  {
   "cell_type": "code",
   "execution_count": 41,
   "metadata": {},
   "outputs": [
    {
     "data": {
      "text/plain": [
       "array([88., 84., 80., 10., 12., 17., 91., 42., 20., 23., 26., 29., 31.,\n",
       "       39., 95., 92., 97.], dtype=float32)"
      ]
     },
     "execution_count": 41,
     "metadata": {},
     "output_type": "execute_result"
    }
   ],
   "source": [
    "data[data < 90] += 4.5\n",
    "data[data == 90] += 5\n",
    "\n",
    "\n",
    "tof[(tof > 90) & (tof < 99)] += 4.5 # if its 91, 92, 93, etc. make it 94.5\n",
    "tof[tof == 90] += 5  # if its 90 make it 95\n",
    "tof"
   ]
  },
  {
   "cell_type": "code",
   "execution_count": 43,
   "metadata": {},
   "outputs": [
    {
     "data": {
      "text/plain": [
       "(25.4, 24.5)"
      ]
     },
     "execution_count": 43,
     "metadata": {},
     "output_type": "execute_result"
    }
   ],
   "source": [
    "test1 = np.array([21, 24, 25, 28, 29]).astype('float32')\n",
    "test2 = np.array([24.5, 24.5, 24.5, 24.5, 24.5])\n",
    "test1.mean(), test2.mean()"
   ]
  },
  {
   "cell_type": "code",
   "execution_count": 5,
   "metadata": {},
   "outputs": [
    {
     "data": {
      "text/plain": [
       "array([0. , 4.5, 4.5, 4.5, 4.5, 4.5, 4.5, 4.5, 5. , 5. , 4.5, 4.5, 4.5,\n",
       "       4.5, 4.5], dtype=float32)"
      ]
     },
     "execution_count": 5,
     "metadata": {},
     "output_type": "execute_result"
    }
   ],
   "source": [
    "tof = np.array([0, 1, 2, 5, 6, 3, 8, 9, 10, 10, 2, 4, 6, 7, 8]).astype('float32')\n",
    "\n",
    "tof[(tof > 0) & (tof < 10)] = 4.5 # if it's between 0-9 make it 4.5\n",
    "tof[tof == 10] = 5 # if it's 10 make it 15\n",
    "tof"
   ]
  },
  {
   "cell_type": "code",
   "execution_count": 28,
   "metadata": {},
   "outputs": [
    {
     "name": "stdout",
     "output_type": "stream",
     "text": [
      "Resizing...\n",
      "Filtering to 2.0 for Toledo.tif...\n"
     ]
    }
   ],
   "source": [
    "for file in [f for f in os.listdir(f'Belize/resampled_rasters/tof') if f != '.ipynb_checkpoints'][:1]:\n",
    "\n",
    "    # read in as a float in order to replace no data with NaNs\n",
    "    tof = rs.open(f'Belize/resampled_rasters/tof/{file}').read(1).astype(np.float32)\n",
    "    hans = rs.open(f'Belize/resampled_rasters/hansen/{file}').read(1).astype(np.float32)\n",
    "    esa = rs.open(f'Belize/resampled_rasters/esa/{file}').read(1).astype(np.float32)\n",
    "\n",
    "    esa[esa == 0.0] = 2.0\n",
    "    \n",
    "    # resize esa/hansen to have the same shape as tof and reshape for stats\n",
    "    print('Resizing...')\n",
    "    if esa.shape != tof.shape:\n",
    "        esa = resize(esa, tof.shape, order=0, preserve_range=True)\n",
    "\n",
    "    if hans.shape != tof.shape:\n",
    "        hans = resize(hans, tof.shape, order=0, preserve_range=True)\n",
    "\n",
    "    # identify the lccs for that admin district\n",
    "    esa_classes = np.unique(esa)\n",
    "\n",
    "    for cover in esa_classes[:1]:\n",
    "\n",
    "        # change all values that are not equal to the lcc to NaN\n",
    "        print(f'Filtering to {cover} for {file}...')\n",
    "        tof_class_new = tof.copy()\n",
    "        tof_class_new[esa != cover] = np.nan "
   ]
  },
  {
   "cell_type": "code",
   "execution_count": 16,
   "metadata": {},
   "outputs": [],
   "source": [
    "# check the value counts for tof_class\n",
    "(unique, counts) = np.unique(tof_class_new, return_counts=True)\n",
    "frequencies = np.asarray((unique, counts)).T"
   ]
  },
  {
   "cell_type": "code",
   "execution_count": 18,
   "metadata": {},
   "outputs": [
    {
     "data": {
      "text/plain": [
       "array([[0.00000e+00, 1.03472e+05],\n",
       "       [2.00000e+01, 1.45800e+03],\n",
       "       [4.00000e+01, 5.77000e+03],\n",
       "       [6.00000e+01, 4.12600e+03],\n",
       "       [8.00000e+01, 5.88300e+03],\n",
       "       [1.00000e+02, 6.60200e+03],\n",
       "       [        nan, 1.00000e+00],\n",
       "       [        nan, 1.00000e+00],\n",
       "       [        nan, 1.00000e+00],\n",
       "       [        nan, 1.00000e+00]])"
      ]
     },
     "execution_count": 18,
     "metadata": {},
     "output_type": "execute_result"
    }
   ],
   "source": [
    "frequencies[:10]"
   ]
  },
  {
   "cell_type": "code",
   "execution_count": 23,
   "metadata": {},
   "outputs": [
    {
     "data": {
      "text/plain": [
       "array([[       0, 93976598],\n",
       "       [      20,    47917],\n",
       "       [      40,   194512],\n",
       "       [      60,   160780],\n",
       "       [      80,   296476],\n",
       "       [     100,  1512940]])"
      ]
     },
     "execution_count": 23,
     "metadata": {},
     "output_type": "execute_result"
    }
   ],
   "source": [
    "tof = rs.open(f'Belize/resampled_rasters/tof/Toledo.tif').read(1)\n",
    "(unique, counts) = np.unique(tof, return_counts=True)\n",
    "toledo_tof = np.asarray((unique, counts)).T\n",
    "toledo_tof"
   ]
  },
  {
   "cell_type": "code",
   "execution_count": 5,
   "metadata": {},
   "outputs": [
    {
     "name": "stdout",
     "output_type": "stream",
     "text": [
      "esa: (22, 26), tof: (638, 746), hans: (232, 271)\n"
     ]
    }
   ],
   "source": [
    "tof = rs.open(f'Costa Rica/clipped_rasters/tof/Puntarenas1.tif').read(1)\n",
    "hans = rs.open(f'Costa Rica/clipped_rasters/hansen/Puntarenas1.tif').read(1)\n",
    "esa = rs.open(f'Costa Rica/clipped_rasters/esa/Puntarenas1.tif').read(1)\n",
    "print(f'esa: {esa.shape}, tof: {tof.shape}, hans: {hans.shape}')  "
   ]
  },
  {
   "cell_type": "code",
   "execution_count": 6,
   "metadata": {},
   "outputs": [
    {
     "name": "stdout",
     "output_type": "stream",
     "text": [
      "(660, 780) (638, 746) (696, 813)\n"
     ]
    }
   ],
   "source": [
    "print((22*30, 26*30),(638, 746),(232*3, 271*3))\n"
   ]
  },
  {
   "cell_type": "code",
   "execution_count": 82,
   "metadata": {},
   "outputs": [
    {
     "data": {
      "text/plain": [
       "(884, 631)"
      ]
     },
     "execution_count": 82,
     "metadata": {},
     "output_type": "execute_result"
    }
   ],
   "source": [
    "tof = rs.open('El Salvador/resampled_rasters/tof/Apaneca.tif').read(1)\n",
    "tof.shape "
   ]
  },
  {
   "cell_type": "code",
   "execution_count": 84,
   "metadata": {},
   "outputs": [
    {
     "data": {
      "text/plain": [
       "(884, 631)"
      ]
     },
     "execution_count": 84,
     "metadata": {},
     "output_type": "execute_result"
    }
   ],
   "source": [
    "tof = rs.open('El Salvador/resampled_rasters/tof/Apaneca.tif').read(1).astype(np.float32)\n",
    "tof[tof == 255] = np.nan\n",
    "tof.shape "
   ]
  },
  {
   "cell_type": "code",
   "execution_count": 6,
   "metadata": {},
   "outputs": [
    {
     "name": "stdout",
     "output_type": "stream",
     "text": [
      "There are 3557.54 non-contiguous hectares above 10% canopy cover\n",
      "There are 3709 contiguous hectares above 10% canopy cover\n"
     ]
    }
   ],
   "source": [
    "## EXAMPLE CODE\n",
    "\n",
    "\n",
    "tof_data = rs.open('El Salvador/resampled_rasters/tof/Apaneca.tif')\n",
    "width = tof_data.shape[1]\n",
    "height = tof_data.shape[0]\n",
    "\n",
    "tof_array = tof_data.read(1)[:13590, :25810].astype(np.float32)\n",
    "\n",
    "# non contiguous hectares\n",
    "tof_array[tof_array == 255] = np.nan\n",
    "print(f\"There are {np.sum(tof_array > 10) / 100} non-contiguous hectares above 10% canopy cover\")\n",
    "\n",
    "# contiguous hectares\n",
    "tof_array = reshape_for_stats(tof_array) #there was another reshape that didn't work\n",
    "tof_array = np.nanmean(tof_array, axis = (1, 3))\n",
    "tof_array = (np.floor(tof_array)).astype(np.uint8)\n",
    "print(f\"There are {np.sum(tof_array > 10)} contiguous hectares above 10% canopy cover\")\n",
    "bounds = tof_data.bounds\n",
    "transform = rs.transform.from_bounds(west = bounds[0], \n",
    "                                     south = bounds[1],\n",
    "                                     east = bounds[2], \n",
    "                                     north = bounds[3],\n",
    "                                     width = tof_array.shape[1], \n",
    "                                     height = tof_array.shape[0])\n",
    "\n",
    "new_dataset = rs.open(\"el salvador-one-hectare-treecover.tif\", 'w', \n",
    "                      driver='GTiff',\n",
    "                      height=tof_array.shape[0], \n",
    "                      width=tof_array.shape[1], \n",
    "                      count=1,\n",
    "                      dtype=\"uint8\",\n",
    "                      crs='+proj=longlat +datum=WGS84 +no_defs',\n",
    "                      transform=transform)\n",
    "\n",
    "new_dataset.write(np.array(tof_array), 1)\n",
    "new_dataset.close()\n",
    "\n",
    "new_dataset = rs.open(\"el salvador-one-hectare-binary.tif\", 'w', \n",
    "                      driver='GTiff',\n",
    "                      height=tof_array.shape[0], \n",
    "                      width=tof_array.shape[1], \n",
    "                      count=1,\n",
    "                      dtype=\"uint8\",\n",
    "                      crs='+proj=longlat +datum=WGS84 +no_defs',\n",
    "                      transform=transform)\n",
    "\n",
    "new_dataset.write(np.array(tof_array >= 10).astype(np.uint8), 1)\n",
    "new_dataset.close()"
   ]
  },
  {
   "cell_type": "code",
   "execution_count": 19,
   "metadata": {},
   "outputs": [],
   "source": [
    "jurisdictions = gpd.read_file('El Salvador/El Salvador_admin.geojson')"
   ]
  },
  {
   "cell_type": "code",
   "execution_count": 4,
   "metadata": {
    "scrolled": true
   },
   "outputs": [
    {
     "data": {
      "text/html": [
       "<div>\n",
       "<style scoped>\n",
       "    .dataframe tbody tr th:only-of-type {\n",
       "        vertical-align: middle;\n",
       "    }\n",
       "\n",
       "    .dataframe tbody tr th {\n",
       "        vertical-align: top;\n",
       "    }\n",
       "\n",
       "    .dataframe thead th {\n",
       "        text-align: right;\n",
       "    }\n",
       "</style>\n",
       "<table border=\"1\" class=\"dataframe\">\n",
       "  <thead>\n",
       "    <tr style=\"text-align: right;\">\n",
       "      <th></th>\n",
       "      <th>ADM0_PCODE</th>\n",
       "      <th>ADM0_ES</th>\n",
       "      <th>ADM1_PCODE</th>\n",
       "      <th>ADM1_ES</th>\n",
       "      <th>ADM2_REF</th>\n",
       "      <th>ADM2_PCODE</th>\n",
       "      <th>ADM2_ES</th>\n",
       "      <th>geometry</th>\n",
       "    </tr>\n",
       "  </thead>\n",
       "  <tbody>\n",
       "    <tr>\n",
       "      <th>0</th>\n",
       "      <td>CR</td>\n",
       "      <td>Costa Rica</td>\n",
       "      <td>CR03</td>\n",
       "      <td>Guanacaste</td>\n",
       "      <td>Guanacaste</td>\n",
       "      <td>CR0301</td>\n",
       "      <td>Abangares</td>\n",
       "      <td>MULTIPOLYGON (((375722.282 1121031.337, 375696...</td>\n",
       "    </tr>\n",
       "    <tr>\n",
       "      <th>1</th>\n",
       "      <td>CR</td>\n",
       "      <td>Costa Rica</td>\n",
       "      <td>CR07</td>\n",
       "      <td>San José</td>\n",
       "      <td>San José</td>\n",
       "      <td>CR0701</td>\n",
       "      <td>Acosta</td>\n",
       "      <td>POLYGON ((482255.682 1090408.565, 482281.722 1...</td>\n",
       "    </tr>\n",
       "    <tr>\n",
       "      <th>2</th>\n",
       "      <td>CR</td>\n",
       "      <td>Costa Rica</td>\n",
       "      <td>CR06</td>\n",
       "      <td>Puntarenas</td>\n",
       "      <td>Puntarenas</td>\n",
       "      <td>CR0601</td>\n",
       "      <td>Aguirre</td>\n",
       "      <td>MULTIPOLYGON (((486711.014 1033380.147, 486700...</td>\n",
       "    </tr>\n",
       "    <tr>\n",
       "      <th>3</th>\n",
       "      <td>CR</td>\n",
       "      <td>Costa Rica</td>\n",
       "      <td>CR01</td>\n",
       "      <td>Alajuela</td>\n",
       "      <td>Alajuela</td>\n",
       "      <td>CR0101</td>\n",
       "      <td>Alajuela</td>\n",
       "      <td>POLYGON ((482377.488 1151480.958, 482376.471 1...</td>\n",
       "    </tr>\n",
       "    <tr>\n",
       "      <th>4</th>\n",
       "      <td>CR</td>\n",
       "      <td>Costa Rica</td>\n",
       "      <td>CR07</td>\n",
       "      <td>San José</td>\n",
       "      <td>San José</td>\n",
       "      <td>CR0702</td>\n",
       "      <td>Alajuelita</td>\n",
       "      <td>POLYGON ((487024.603 1098008.676, 487070.576 1...</td>\n",
       "    </tr>\n",
       "  </tbody>\n",
       "</table>\n",
       "</div>"
      ],
      "text/plain": [
       "  ADM0_PCODE     ADM0_ES ADM1_PCODE     ADM1_ES    ADM2_REF ADM2_PCODE  \\\n",
       "0         CR  Costa Rica       CR03  Guanacaste  Guanacaste     CR0301   \n",
       "1         CR  Costa Rica       CR07    San José    San José     CR0701   \n",
       "2         CR  Costa Rica       CR06  Puntarenas  Puntarenas     CR0601   \n",
       "3         CR  Costa Rica       CR01    Alajuela    Alajuela     CR0101   \n",
       "4         CR  Costa Rica       CR07    San José    San José     CR0702   \n",
       "\n",
       "      ADM2_ES                                           geometry  \n",
       "0   Abangares  MULTIPOLYGON (((375722.282 1121031.337, 375696...  \n",
       "1      Acosta  POLYGON ((482255.682 1090408.565, 482281.722 1...  \n",
       "2     Aguirre  MULTIPOLYGON (((486711.014 1033380.147, 486700...  \n",
       "3    Alajuela  POLYGON ((482377.488 1151480.958, 482376.471 1...  \n",
       "4  Alajuelita  POLYGON ((487024.603 1098008.676, 487070.576 1...  "
      ]
     },
     "execution_count": 4,
     "metadata": {},
     "output_type": "execute_result"
    }
   ],
   "source": [
    "cr_admins = gpd.read_file('Costa Rica/cri_admbnda_adm2_2020.shp')\n",
    "cr_admins.head()"
   ]
  },
  {
   "cell_type": "code",
   "execution_count": 5,
   "metadata": {},
   "outputs": [],
   "source": [
    "# reproject the shapefile if not espg 4326\n",
    "cr_admins = cr_admins.to_crs('\"EPSG:4326\"')"
   ]
  },
  {
   "cell_type": "code",
   "execution_count": 30,
   "metadata": {},
   "outputs": [
    {
     "data": {
      "text/html": [
       "<div>\n",
       "<style scoped>\n",
       "    .dataframe tbody tr th:only-of-type {\n",
       "        vertical-align: middle;\n",
       "    }\n",
       "\n",
       "    .dataframe tbody tr th {\n",
       "        vertical-align: top;\n",
       "    }\n",
       "\n",
       "    .dataframe thead th {\n",
       "        text-align: right;\n",
       "    }\n",
       "</style>\n",
       "<table border=\"1\" class=\"dataframe\">\n",
       "  <thead>\n",
       "    <tr style=\"text-align: right;\">\n",
       "      <th></th>\n",
       "      <th>minx</th>\n",
       "      <th>miny</th>\n",
       "      <th>maxx</th>\n",
       "      <th>maxy</th>\n",
       "    </tr>\n",
       "  </thead>\n",
       "  <tbody>\n",
       "    <tr>\n",
       "      <th>0</th>\n",
       "      <td>-85.225659</td>\n",
       "      <td>10.109038</td>\n",
       "      <td>-84.827092</td>\n",
       "      <td>10.389386</td>\n",
       "    </tr>\n",
       "    <tr>\n",
       "      <th>1</th>\n",
       "      <td>-84.341693</td>\n",
       "      <td>9.622506</td>\n",
       "      <td>-84.132088</td>\n",
       "      <td>9.861633</td>\n",
       "    </tr>\n",
       "    <tr>\n",
       "      <th>2</th>\n",
       "      <td>-84.253801</td>\n",
       "      <td>9.254671</td>\n",
       "      <td>-83.840040</td>\n",
       "      <td>9.572033</td>\n",
       "    </tr>\n",
       "    <tr>\n",
       "      <th>3</th>\n",
       "      <td>-84.367680</td>\n",
       "      <td>9.914267</td>\n",
       "      <td>-84.160955</td>\n",
       "      <td>10.413694</td>\n",
       "    </tr>\n",
       "    <tr>\n",
       "      <th>4</th>\n",
       "      <td>-84.145894</td>\n",
       "      <td>9.847564</td>\n",
       "      <td>-84.084156</td>\n",
       "      <td>9.931675</td>\n",
       "    </tr>\n",
       "    <tr>\n",
       "      <th>...</th>\n",
       "      <td>...</td>\n",
       "      <td>...</td>\n",
       "      <td>...</td>\n",
       "      <td>...</td>\n",
       "    </tr>\n",
       "    <tr>\n",
       "      <th>76</th>\n",
       "      <td>-84.592696</td>\n",
       "      <td>9.569590</td>\n",
       "      <td>-84.403502</td>\n",
       "      <td>9.925489</td>\n",
       "    </tr>\n",
       "    <tr>\n",
       "      <th>77</th>\n",
       "      <td>-85.449169</td>\n",
       "      <td>10.670787</td>\n",
       "      <td>-84.880578</td>\n",
       "      <td>11.065570</td>\n",
       "    </tr>\n",
       "    <tr>\n",
       "      <th>78</th>\n",
       "      <td>-84.362149</td>\n",
       "      <td>10.048149</td>\n",
       "      <td>-84.226587</td>\n",
       "      <td>10.276312</td>\n",
       "    </tr>\n",
       "    <tr>\n",
       "      <th>79</th>\n",
       "      <td>-84.034999</td>\n",
       "      <td>9.964382</td>\n",
       "      <td>-83.858583</td>\n",
       "      <td>10.190042</td>\n",
       "    </tr>\n",
       "    <tr>\n",
       "      <th>80</th>\n",
       "      <td>-84.518360</td>\n",
       "      <td>10.167054</td>\n",
       "      <td>-84.315016</td>\n",
       "      <td>10.270422</td>\n",
       "    </tr>\n",
       "  </tbody>\n",
       "</table>\n",
       "<p>81 rows × 4 columns</p>\n",
       "</div>"
      ],
      "text/plain": [
       "         minx       miny       maxx       maxy\n",
       "0  -85.225659  10.109038 -84.827092  10.389386\n",
       "1  -84.341693   9.622506 -84.132088   9.861633\n",
       "2  -84.253801   9.254671 -83.840040   9.572033\n",
       "3  -84.367680   9.914267 -84.160955  10.413694\n",
       "4  -84.145894   9.847564 -84.084156   9.931675\n",
       "..        ...        ...        ...        ...\n",
       "76 -84.592696   9.569590 -84.403502   9.925489\n",
       "77 -85.449169  10.670787 -84.880578  11.065570\n",
       "78 -84.362149  10.048149 -84.226587  10.276312\n",
       "79 -84.034999   9.964382 -83.858583  10.190042\n",
       "80 -84.518360  10.167054 -84.315016  10.270422\n",
       "\n",
       "[81 rows x 4 columns]"
      ]
     },
     "execution_count": 30,
     "metadata": {},
     "output_type": "execute_result"
    }
   ],
   "source": [
    "cr_bounds = cr_admins.geometry.bounds\n",
    "cr_bounds"
   ]
  },
  {
   "cell_type": "code",
   "execution_count": null,
   "metadata": {},
   "outputs": [],
   "source": []
  },
  {
   "cell_type": "code",
   "execution_count": 28,
   "metadata": {},
   "outputs": [
    {
     "data": {
      "text/plain": [
       "(-90.03624725299994, 13.417916298000023, -88.95311737099996, 13.99701213800006)"
      ]
     },
     "execution_count": 28,
     "metadata": {},
     "output_type": "execute_result"
    }
   ],
   "source": [
    "bounds = jurisdictions.geometry.bounds\n",
    "min_x = bounds.minx.min()\n",
    "min_y = bounds.miny.min()\n",
    "max_x = bounds.maxx.max()\n",
    "max_y = bounds.maxy.max()\n",
    "min_x, min_y, max_x, max_y"
   ]
  },
  {
   "cell_type": "code",
   "execution_count": 43,
   "metadata": {},
   "outputs": [],
   "source": [
    "lower_x = math.floor(min_x / 10) * 10\n",
    "lower_y = math.ceil(min_y / 10) * 10\n",
    "upper_y = math.ceil(max_y / 10) * 10\n",
    "upper_x = math.ceil(max_x / 10) * 10"
   ]
  },
  {
   "cell_type": "code",
   "execution_count": 44,
   "metadata": {},
   "outputs": [
    {
     "data": {
      "text/plain": [
       "(-100, 20, -80, 20)"
      ]
     },
     "execution_count": 44,
     "metadata": {},
     "output_type": "execute_result"
    }
   ],
   "source": [
    "lower_x, lower_y, upper_x, upper_y"
   ]
  },
  {
   "cell_type": "code",
   "execution_count": 52,
   "metadata": {},
   "outputs": [
    {
     "name": "stdout",
     "output_type": "stream",
     "text": [
      "-100\n",
      "-90\n"
     ]
    }
   ],
   "source": [
    "for x in range(lower_x, upper_x, 10):\n",
    "    print(x)"
   ]
  },
  {
   "cell_type": "code",
   "execution_count": 53,
   "metadata": {},
   "outputs": [
    {
     "name": "stdout",
     "output_type": "stream",
     "text": [
      "20\n"
     ]
    }
   ],
   "source": [
    "for x in range(lower_y, upper_y + 10, 10):\n",
    "    print(x)"
   ]
  },
  {
   "cell_type": "code",
   "execution_count": 21,
   "metadata": {},
   "outputs": [],
   "source": [
    "# lower_x = np.absolute(math.floor(min_x / 10) * 10)\n",
    "# lower_y = np.absolute(math.floor(min_y / 10) * 10)\n",
    "# upper_y = np.absolute(math.ceil(max_y / 10) * 10)\n",
    "# upper_x = np.absolute(math.ceil(max_x / 10) * 10)\n",
    "# lower_x, lower_y, upper_x, upper_y"
   ]
  },
  {
   "cell_type": "code",
   "execution_count": 75,
   "metadata": {},
   "outputs": [],
   "source": [
    "def calculate_stats_esa_lc(country, shapefile):\n",
    "    \n",
    "    '''\n",
    "    Takes in a country name to import tof/hansen/esa rasters and calculates mean \n",
    "    tree cover thresholds per administrative boundary and ESA land cover \n",
    "    class. Returns a pandas dataframe with statistics.\n",
    "    \n",
    "    Attributes\n",
    "    ----------\n",
    "    country : str\n",
    "        a string indicating the country files to import\n",
    "    shapefile : .geojson or .shp file\n",
    "        shapefile containing subnational administrative boundaries level 0-2\n",
    "    '''\n",
    "    \n",
    "    tree_cover = pd.DataFrame(columns=['admin', \n",
    "                                       'esa_id', \n",
    "                                       'lc_class',\n",
    "                                       'ipcc_class',\n",
    "                                       'tof_mean_tc',\n",
    "                                       'tof_total_ha', \n",
    "                                       'hansen_mean_tc',\n",
    "                                       'hansen_total_ha',\n",
    "                                       'tof_hans'])\n",
    "    \n",
    "    admin_boundaries = list(shapefile.NAME_1)\n",
    "    \n",
    "    for admin in admin_boundaries:\n",
    "        \n",
    "        # resize esa to tof boundaries then reshape both\n",
    "        esa = rs.open(f'{country}/resampled_rasters/esa/{admin}.tif').read(1)\n",
    "        tof = rs.open(f'{country}/resampled_rasters/tof/{admin}.tif').read(1)\n",
    "        hansen = rs.open(f'{country}/resampled_rasters/hansen/{admin}.tif').read(1)\n",
    "        \n",
    "        # hard code esa to have the same shape as tof/hansen\n",
    "        if esa.shape != tof.shape:\n",
    "            esa = resize(esa, tof.shape, order=0, preserve_range=True)\n",
    "        \n",
    "        if hansen.shape != tof.shape:\n",
    "            hansen = resize(hansen, tof.shape, order=0, preserve_range=True)\n",
    "            \n",
    "        esa = reshape_for_stats(esa)\n",
    "        tof = reshape_for_stats(tof)\n",
    "        hansen = reshape_for_stats(hansen)\n",
    "        \n",
    "        # get a list of land cover classes in that jurisdiction\n",
    "        esa_classes = np.unique(esa)\n",
    "        #print(f'{len(esa_classes)} land cover classes in {juris}.')\n",
    "   \n",
    "        for cover in esa_classes:\n",
    "        \n",
    "            tof_class = tof[esa == cover]\n",
    "            hansen_class = hansen[esa == cover]\n",
    "            \n",
    "            # calculate mean tree cover for each lc class in the jurisdiction\n",
    "            tof_tc_by_class = round(np.mean(tof_class), 3)\n",
    "            hansen_tc_by_class = round(np.mean(hansen_class), 3)\n",
    "            \n",
    "            # calculate number of hectareas in each jurisdiction above 10% canopy cover per class\n",
    "            # get sum of 10m pixels above 10% and divide by 100 to convert to to non-contiguous hectares\n",
    "            tof_ha_over10 = np.sum(tof_class > 10.0) / 100 \n",
    "            hansen_ha_over10 = np.sum(hansen_class > 10.0) / 100\n",
    "            \n",
    "            \n",
    "            tree_cover = tree_cover.append({'admin': admin, \n",
    "                                            'esa_id': cover,\n",
    "                                            'tof_mean_tc': tof_tc_by_class,\n",
    "                                            'tof_total_ha': tof_ha_over10,\n",
    "                                            'hansen_mean_tc': hansen_tc_by_class,\n",
    "                                            'hansen_total_ha': hansen_ha_over10}, ignore_index=True)\n",
    "        \n",
    "        # from Appdx 1 of ESA product user guide\n",
    "        legend = {0: 'No Data',\n",
    "                10: 'Cropland, rainfed',\n",
    "                11: 'Cropland, rainfed, herbaceous cover',\n",
    "                20: 'Cropland, irrigated or post-flooding',\n",
    "                30: 'Mosaic cropland (>50%) / natural vegetation (tree, shrub, herbaceous cover)(<50%)',\n",
    "                40: 'Mosaic natural vegetation (tree, shrub, herbaceous cover) (>50%) / cropland (<50%)',\n",
    "                50: 'Tree cover, broadleaved, evergreen, closed to open (>15%)',\n",
    "                60: 'Tree cover, broadleaved, deciduous, closed to open (>15%)',\n",
    "                70: 'Tree cover, needleleaved, evergreen, closed to open (>15%)',\n",
    "                80: 'Tree cover, needleleaved, deciduous, closed to open (>15%)',\n",
    "                90: 'Tree cover, mixed leaf type (broadleaved and needleleaved)',\n",
    "                100: 'Mosaic tree and shrub (>50%) / herbaceous cover (<50%)',\n",
    "                110: 'Mosaic herbaceous cover (>50%) / tree and shrub (<50%)',\n",
    "                120: 'Shrubland',\n",
    "                130: 'Grassland',\n",
    "                140: 'Lichens and mosses',\n",
    "                150: 'Sparse vegetation (tree, shrub, herbaceous cover) (<15%)',\n",
    "                160: 'Tree cover, flooded, fresh or brakish water',\n",
    "                170: 'Tree cover, flooded, saline water',\n",
    "                180: 'Shrub or herbaceous cover, flooded, fresh/saline/brakish water',\n",
    "                190: 'Urban areas',\n",
    "                200: 'Bare areas',\n",
    "                210: 'Water bodies',\n",
    "                220: 'Permanent snow and ice'}\n",
    "        \n",
    "        # add line to map to IPCC land cover classes\n",
    "        ipcc = {0: 'Other',\n",
    "                10: 'Agriculture',\n",
    "                11: 'Agriculture',\n",
    "                20: 'Agriculture',\n",
    "                30: 'Agriculture',\n",
    "                40: 'Agriculture',\n",
    "                50: 'Forest',\n",
    "                60: 'Forest',\n",
    "                70: 'Forest',\n",
    "                80: 'Forest',\n",
    "                90: 'Forest',\n",
    "                100: 'Forest',\n",
    "                110: 'Grassland',\n",
    "                120: 'Other',\n",
    "                130: 'Grassland',\n",
    "                140: 'Other',\n",
    "                150: 'Other',\n",
    "                160: 'Forest',\n",
    "                170: 'Forest',\n",
    "                180: 'Wetland',\n",
    "                190: 'Settlement',\n",
    "                200: 'Other',\n",
    "                210: 'Other',\n",
    "                220: 'Other'}\n",
    "        \n",
    "        tree_cover['lc_class'] = tree_cover['esa_id'].map(legend)\n",
    "        tree_cover['ipcc_class'] = tree_cover['esa_id'].map(ipcc)\n",
    "        tree_cover['tof_hans'] = tree_cover['tof_total_ha'] - tree_cover['hansen_total_ha']\n",
    "        \n",
    "    print(f'{country} has {len(tree_cover.esa_id.value_counts())} land cover classes.')   \n",
    "    return tree_cover"
   ]
  },
  {
   "cell_type": "code",
   "execution_count": 37,
   "metadata": {},
   "outputs": [],
   "source": [
    "shapefile = gpd.read_file(f'insert new str')\n",
    "admin_boundaries_all = list(shapefile.NAME_1)\n",
    "\n",
    "# goals: create a list of admin names without numbers\n",
    "# identify whether the admin has 1 or 2 digits in order to properly remove them\n",
    "no_ints = []\n",
    "for admin in admin_boundaries_all:\n",
    "    # if any character is a digit\n",
    "    if any(char.isdigit() for char in admin):\n",
    "        # remove the digits and add it to the list of no ints\n",
    "        clean_admin = ''.join([char for char in admin if not char.isdigit()])\n",
    "        no_ints.append(clean_admin)\n",
    "no_ints = list(set(no_ints))    "
   ]
  },
  {
   "cell_type": "code",
   "execution_count": 50,
   "metadata": {},
   "outputs": [],
   "source": [
    "for admin_2 in no_ints:\n",
    "    # gather list of files for that admin (ex: Puntarenas1.tif, Puntarenas2.tif, Puntarenas3.tif)\n",
    "    files_to_merge = [] # this needs to be in dataset reader mode\n",
    "    files_to_delete = [] # just a string of the file name\n",
    "    for path in glob.glob(f'Costa Rica/resampled_rasters/tof/{admin_2}?.tif') and glob.glob(f'Costa Rica/resampled_rasters/tof/{admin_2}??.tif'):\n",
    "        filename = os.path.basename(path) \n",
    "#         files_to_delete.append(filename)\n",
    "#         src = rs.open(f'{country}/resampled_rasters/{data}/{filename}')\n",
    "#         files_to_merge.append(src)"
   ]
  },
  {
   "cell_type": "code",
   "execution_count": null,
   "metadata": {},
   "outputs": [],
   "source": [
    "# // matches all non-digits, replaces it with \"\" and returns the length.\n",
    "s.replaceAll(\"\\\\D\", \"\").length()"
   ]
  },
  {
   "cell_type": "code",
   "execution_count": 111,
   "metadata": {},
   "outputs": [
    {
     "name": "stdout",
     "output_type": "stream",
     "text": [
      "[]\n"
     ]
    }
   ],
   "source": [
    "files_to_merge = []\n",
    "for path in glob.glob(f'Costa Rica/resampled_rasters/hansen/Acosta?.tif'):\n",
    "    filename = os.path.basename(path) \n",
    "    files_to_merge.append(filename)\n",
    "print(files_to_merge)"
   ]
  },
  {
   "cell_type": "code",
   "execution_count": null,
   "metadata": {},
   "outputs": [],
   "source": []
  },
  {
   "cell_type": "code",
   "execution_count": null,
   "metadata": {},
   "outputs": [],
   "source": []
>>>>>>> 8cd8208ea90ccac0be8e9b349f719d438f026b59
  }
 ],
 "metadata": {
  "kernelspec": {
   "display_name": "Python 3",
   "language": "python",
   "name": "python3"
  },
  "language_info": {
   "codemirror_mode": {
    "name": "ipython",
    "version": 3
   },
   "file_extension": ".py",
   "mimetype": "text/x-python",
   "name": "python",
   "nbconvert_exporter": "python",
   "pygments_lexer": "ipython3",
<<<<<<< HEAD
   "version": "3.7.11"
||||||| merged common ancestors
   "version": "3.7.0"
=======
   "version": "3.8.8"
>>>>>>> 8cd8208ea90ccac0be8e9b349f719d438f026b59
  },
  "toc": {
   "base_numbering": 1,
   "nav_menu": {},
   "number_sections": true,
   "sideBar": true,
   "skip_h1_title": false,
   "title_cell": "Table of Contents",
   "title_sidebar": "Contents",
   "toc_cell": false,
   "toc_position": {
    "height": "calc(100% - 180px)",
    "left": "10px",
    "top": "150px",
    "width": "174.006px"
   },
   "toc_section_display": true,
   "toc_window_display": true
  }
 },
 "nbformat": 4,
 "nbformat_minor": 2
}
