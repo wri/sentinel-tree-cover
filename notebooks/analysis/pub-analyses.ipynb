{
 "cells": [
  {
   "cell_type": "markdown",
   "id": "c43a63cc",
   "metadata": {},
   "source": [
    "# Publication Analyses \n",
    "This notebook contains analyses and statistics for use in the publication. It is organized by section, and indicates which sections will contain the output."
   ]
  },
  {
   "cell_type": "code",
   "execution_count": null,
   "id": "45b584a2",
   "metadata": {},
   "outputs": [],
   "source": [
    "import pandas as pd\n",
    "import numpy as np\n",
    "import matplotlib.pyplot as plt\n",
    "import seaborn as sns\n",
    "\n",
    "import sys\n",
    "sys.path.append('scripts/')\n",
    "import statistical_analyses as st\n",
    "\n",
    "%load_ext autoreload\n",
    "%autoreload 2"
   ]
  },
  {
   "cell_type": "markdown",
   "id": "512f8b10",
   "metadata": {},
   "source": [
    "# Aggregate Regional Statistics\n",
    "Combines country level statistics spreadsheets by region."
   ]
  },
  {
   "cell_type": "code",
   "execution_count": null,
   "id": "f1017e36",
   "metadata": {},
   "outputs": [],
   "source": [
    "# create Brazil (admins will be mix of states and admin2 districts)\n",
    "st.create_regional_csv(['Acre', 'Alagoas', 'Amapa', 'Amazonas', 'Bahia', 'Ceara', 'Distrito Federal',\n",
    "                        'Espirito Santo', 'Goias', 'Maranhao', 'Mato Grosso', 'Mato Grosso do Sul',\n",
    "                        'Minas Gerais', 'Para', 'Paraiba', 'Parana', 'Pernambuco', 'Piaui', 'Rio de Janeiro',\n",
    "                        'Rio Grande do Norte', 'Rondonia', 'Roraima','Sao Paulo', 'Sergipe', 'Tocantins'],\n",
    "                        'Brazil')"
   ]
  },
  {
   "cell_type": "code",
   "execution_count": null,
   "id": "d1445cf0",
   "metadata": {},
   "outputs": [],
   "source": [
    "# create Indonesia\n",
    "st.create_regional_csv(['Papua', 'Celebes', 'Sumatra', 'Kalimantan', 'Java'],\n",
    "                       'Indonesia')"
   ]
  },
  {
   "cell_type": "code",
   "execution_count": null,
   "id": "540a6fa2",
   "metadata": {},
   "outputs": [],
   "source": [
    "# Latin America\n",
    "st.create_regional_csv(['Argentina', 'Belize', 'Bolivia', 'Brazil', 'Costa Rica', 'Colombia', 'Chile', \n",
    "                        'Ecuador', 'El Salvador', 'French Guiana', 'Guatemala', 'Honduras', 'Mexico', \n",
    "                        'Nicaragua', 'Panama', 'Paraguay', 'Peru', 'Suriname', 'Venezuela'], \n",
    "                        'lat_am')"
   ]
  },
  {
   "cell_type": "code",
   "execution_count": null,
   "id": "46db7a2b",
   "metadata": {},
   "outputs": [],
   "source": [
    "# Caribbean\n",
    "st.create_regional_csv(['Caribbean', 'Cuba', 'Dominican Republic', 'Haiti', 'Guyana', 'Jamaica'],\n",
    "                       'caribbean')"
   ]
  },
  {
   "cell_type": "code",
   "execution_count": null,
   "id": "df25a114",
   "metadata": {},
   "outputs": [],
   "source": [
    "# West Africa\n",
    "st.create_regional_csv(['Benin', 'Burkina Faso', 'Cameroon', 'Gambia', 'Ghana', 'Guinea', 'Guinea-Bissau', \n",
    "                      'Ivory Coast', 'Liberia', 'Mali', 'Mauritania', 'Niger', 'Nigeria',\n",
    "                      'Senegal', 'Sierra Leone', 'Togo'], \n",
    "                      'west_af')"
   ]
  },
  {
   "cell_type": "code",
   "execution_count": null,
   "id": "80b8470d",
   "metadata": {},
   "outputs": [],
   "source": [
    "# East Africa\n",
    "st.create_regional_csv(['Burundi', 'Ethiopia', 'Eritrea', 'Kenya', 'Madagascar', 'Malawi', 'Mozambique',\n",
    "                        'Rwanda', 'Somalia', 'Tanzania', 'Uganda', 'Zambia', 'Zimbabwe'], \n",
    "                        'east_af')"
   ]
  },
  {
   "cell_type": "code",
   "execution_count": null,
   "id": "09bf823e",
   "metadata": {},
   "outputs": [],
   "source": [
    "# Central / South Africa\n",
    "st.create_regional_csv(['Botswana', 'Chad', 'Central African Republic', 'Democratic Republic of the Congo',\n",
    "                        'Equatorial Guinea', 'Swaziland', 'Gabon', 'Republic of Congo', 'Sudan', 'South Sudan',\n",
    "                        'Angola', 'Lesotho', 'Namibia', 'South Africa'], \n",
    "                        'central_south_af')"
   ]
  },
  {
   "cell_type": "code",
   "execution_count": null,
   "id": "62461f83",
   "metadata": {},
   "outputs": [],
   "source": [
    "# Asia \n",
    "st.create_regional_csv(['Australia','Bangladesh', 'Brunei', 'Cambodia', 'China', 'East Timor', 'Fiji',\n",
    "                        'Hong Kong', 'India', 'India islands', 'Indonesia', 'Laos', 'Malaysia', 'Myanmar', \n",
    "                        'New Caledonia','Solomon Islands', 'Singapore', 'Sri Lanka', 'Taiwan', 'Thailand', \n",
    "                        'Philippines', 'Papua New Guinea','Vanuatu', 'Vietnam', 'Saudi Arabia', 'Yemen'],\n",
    "                        'asia')"
   ]
  },
  {
   "cell_type": "markdown",
   "id": "3fe327fb",
   "metadata": {},
   "source": [
    "# Supplementary Index\n",
    "\n",
    "## Table 1"
   ]
  },
  {
   "cell_type": "code",
   "execution_count": null,
   "id": "932604dc",
   "metadata": {},
   "outputs": [],
   "source": [
    "def si_table1(dst_file, regions):\n",
    "    \n",
    "    '''\n",
    "    For insertion in the supplementary index. Creates a table illustrating the following \n",
    "    metrics for cropland and urban areas in each country:\n",
    "    \n",
    "    1) Average tree cover \n",
    "    2) % land containing >10% tree cover.\n",
    "    \n",
    "    Saves table as csv file and returns as df.\n",
    "    \n",
    "    '''\n",
    "    \n",
    "    table = pd.DataFrame(columns=['region',\n",
    "                                 'country',\n",
    "                                 'lcc',\n",
    "                                 'perc_over10',\n",
    "                                 'avg'], dtype=object)\n",
    "\n",
    "    for region in regions:\n",
    "        \n",
    "        region_df = pd.read_csv(f'statistics/{region}.csv')\n",
    "\n",
    "        for country in sorted(set(list(region_df.country.values))):\n",
    "\n",
    "            # Create an ag df for the country\n",
    "            country_df = region_df[region_df.country == country]\n",
    "            ag_ids = [10.0, 11.0, 12.0, 20.0, 30.0, 40.0]\n",
    "            ag_df = country_df[country_df.esa_id.isin(ag_ids)]\n",
    "\n",
    "            # Calculate total TML ag ha >10%\n",
    "            ag_ha = ag_df[['country', 'tree_cover_class', 'tof_ha']].groupby(by=['country', 'tree_cover_class']).sum().reset_index() \n",
    "            ag_ha_over10 = sum(ag_ha.tof_ha[1:])\n",
    "\n",
    "            # Calculate total ha (sum of tof ha == sum of esa sampled)\n",
    "            ag_sampled = sum(ag_ha.tof_ha) \n",
    "\n",
    "            # quick assertion that total is accurate\n",
    "            ag_sampled_check = ag_df[['country', 'admin', 'esa_id', 'esa_sampled_ha']].drop_duplicates()\n",
    "            ag_sampled_check = ag_sampled_check.groupby(by=['country']).sum().reset_index() \n",
    "            ag_sampled_check = ag_sampled_check.esa_sampled_ha[0]\n",
    "            \n",
    "            if ag_sampled != ag_sampled_check:\n",
    "                print(f'Warning: {country} does not pass ag check')\n",
    "            \n",
    "            # % ag land with >10% cover\n",
    "            ag_perc_over10 = (ag_ha_over10 / ag_sampled) * 100\n",
    "\n",
    "            # avg tree cover \n",
    "            ag_avg = ag_df[['country', 'admin', 'tof_mean']].drop_duplicates(ignore_index=True)\n",
    "            ag_avg = ag_avg.groupby('country').mean().reset_index()\n",
    "\n",
    "            table = table.append({'region': region, \n",
    "                                'country': country,\n",
    "                                'lcc': 'Cropland',\n",
    "                                'perc_over10': round(ag_perc_over10, 2),\n",
    "                                'avg': round(ag_avg.tof_mean[0], 2)},\n",
    "                                ignore_index=True)\n",
    "\n",
    "\n",
    "            # Create an urban df for the country\n",
    "            urban_ids = [190.0]\n",
    "            urban_df = country_df[country_df.esa_id.isin(urban_ids)]\n",
    "            \n",
    "            # Calculate total TML urban ha >10%\n",
    "            urban_ha = urban_df[['country', 'tree_cover_class', 'tof_ha']].groupby(by=['country', 'tree_cover_class']).sum().reset_index() \n",
    "            urban_ha_over10 = sum(urban_ha.tof_ha[1:])\n",
    "            \n",
    "            # total sampled urban ha\n",
    "            urban_sampled = sum(urban_ha.tof_ha)\n",
    "            \n",
    "            # quick assertion that total is accurate\n",
    "            urban_sampled_check = urban_df[['country', 'admin', 'esa_id', 'esa_sampled_ha']].drop_duplicates()\n",
    "            urban_sampled_check = urban_sampled_check.groupby(by=['country']).sum().reset_index() \n",
    "            urban_sampled_check = urban_sampled_check.esa_sampled_ha[0]\n",
    "\n",
    "            if urban_sampled != urban_sampled_check:\n",
    "                print(f'Warning: {country} does not pass urban check')\n",
    "            \n",
    "            # % urban land with >10% cover\n",
    "            urban_perc_over10 = (urban_ha_over10 / urban_sampled) * 100\n",
    "\n",
    "            # avg tree cover\n",
    "            urban_avg = urban_df[['country', 'admin', 'tof_mean']].drop_duplicates(ignore_index=True)\n",
    "            urban_avg = urban_avg.groupby('country').mean().reset_index()\n",
    "\n",
    "            table = table.append({'region': region, \n",
    "                                'country': country,\n",
    "                                'lcc': 'Urban',\n",
    "                                'perc_over10': round(urban_perc_over10, 2),\n",
    "                                'avg': round(urban_avg.tof_mean[0], 2)},\n",
    "                                ignore_index=True)         \n",
    "\n",
    "    table.to_csv(dst_file, index=False)\n",
    "\n",
    "    return table"
   ]
  },
  {
   "cell_type": "code",
   "execution_count": null,
   "id": "50477c5b",
   "metadata": {},
   "outputs": [],
   "source": [
    "si = si_table1('statistics/si_table1.csv', ['lat_am', 'caribbean', 'west_af', 'east_af', 'central_south_af', 'asia'])"
   ]
  },
  {
   "cell_type": "markdown",
   "id": "12bbd4b0",
   "metadata": {},
   "source": [
    "# Main Paper"
   ]
  },
  {
   "cell_type": "markdown",
   "id": "e97a5c5f",
   "metadata": {},
   "source": [
    "## Results"
   ]
  },
  {
   "cell_type": "code",
   "execution_count": null,
   "id": "37e7449b",
   "metadata": {},
   "outputs": [],
   "source": [
    "def total_ha(dst_file, regions):\n",
    "    \n",
    "    '''\n",
    "    For insertion of statistics in the \"Results\" section. Creates a table illustrating \n",
    "    the following metrics for cropland and urban areas in each country:\n",
    "\n",
    "    1) Total ha above 10% \n",
    "    \n",
    "    Saves table as csv file and returns as df.\n",
    "    \n",
    "    '''\n",
    "    \n",
    "    table = pd.DataFrame(columns=['region', 'country', 'lcc', 'ha_over10', 'ha_total'], dtype=object)\n",
    "\n",
    "    for region in regions:\n",
    "        \n",
    "        region_df = pd.read_csv(f'statistics/{region}.csv')\n",
    "\n",
    "        for country in sorted(set(list(region_df.country.values))):\n",
    "\n",
    "            country_df = region_df[region_df.country == country]\n",
    "\n",
    "            # add cropland (ag) analyses\n",
    "            ag_ids = [10.0, 11.0, 12.0, 20.0, 30.0, 40.0]\n",
    "            ag_df = country_df[country_df.esa_id.isin(ag_ids)]\n",
    "            ag_df = ag_df[['country', 'admin', 'tree_cover_class', 'tof_ha']]\n",
    "            \n",
    "            # sum all cropland ha >10\n",
    "            ag_over10 = ag_df[ag_df.tree_cover_class != '0-9']\n",
    "            ag_over10 = sum(ag_over10.tof_ha)\n",
    "            ag_total = sum(ag_df.tof_ha)\n",
    "           \n",
    "            table = table.append({'region': region, \n",
    "                                'country': country,\n",
    "                                'lcc': 'Cropland',\n",
    "                                'ha_over10': ag_over10,\n",
    "                                'ha_total': ag_total},\n",
    "                                ignore_index=True)\n",
    "            \n",
    "            # add urban analyses\n",
    "            urban_ids = [190.0]\n",
    "            urban_df = country_df[country_df.esa_id.isin(urban_ids)]\n",
    "            urban_df = urban_df[['country', 'admin', 'tree_cover_class', 'tof_ha']]\n",
    "            \n",
    "            # sum all urban ha >10\n",
    "            urban_over10 = urban_df[urban_df.tree_cover_class != '0-9']\n",
    "            urban_over10 = sum(urban_over10.tof_ha)\n",
    "            urban_total = sum(urban_df.tof_ha)\n",
    "           \n",
    "            table = table.append({'region': region, \n",
    "                                'country': country,\n",
    "                                'lcc': 'Urban',\n",
    "                                'ha_over10': urban_over10,\n",
    "                                'ha_total': urban_total},\n",
    "                                ignore_index=True)\n",
    "            \n",
    "    table.to_csv(dst_file, index=False)\n",
    "    print(f'Total ha of cropland >10%: {table.groupby(\"lcc\")[\"ha_over10\"].sum()[0]}')\n",
    "    print(f'Total ha of urban land >10%: {table.groupby(\"lcc\")[\"ha_over10\"].sum()[1]}')\n",
    "    \n",
    "    return table\n"
   ]
  },
  {
   "cell_type": "code",
   "execution_count": null,
   "id": "3f4b2781",
   "metadata": {},
   "outputs": [],
   "source": [
    "results = total_ha('statistics/results_totalha.csv', ['lat_am', 'caribbean', 'west_af', 'east_af', 'central_south_af', 'asia'])"
   ]
  },
  {
   "cell_type": "code",
   "execution_count": null,
   "id": "68f1a380",
   "metadata": {},
   "outputs": [],
   "source": [
    "total_ha('statistics/test.csv', ['Costa Rica_statistics_full_tmlonly'])"
   ]
  },
  {
   "cell_type": "code",
   "execution_count": null,
   "id": "b5ef4354",
   "metadata": {},
   "outputs": [],
   "source": [
    "crop = results[results.lcc == 'Cropland']\n",
    "sum(crop.ha_total)\n",
    "total_cropland = 1001823223\n",
    "round((525597003/total_cropland)*100, 2)"
   ]
  },
  {
   "cell_type": "code",
   "execution_count": null,
   "id": "f69f2ddc",
   "metadata": {},
   "outputs": [],
   "source": [
    "def total_ha_pantropics(dst_file):\n",
    "    \n",
    "    table = pd.DataFrame(columns=['region', 'country', 'ha_over10'], dtype=object)\n",
    "    regions = ['lat_am', 'caribbean', 'west_af', 'east_af', 'central_south_af', 'asia']\n",
    "    \n",
    "    for region in regions:\n",
    "        \n",
    "        region_df = pd.read_csv(f'statistics/{region}.csv')\n",
    "\n",
    "        for country in sorted(set(list(region_df.country.values))):\n",
    "\n",
    "            country_df = region_df[region_df.country == country]\n",
    "            \n",
    "            over10 = country_df[country_df.tree_cover_class != '0-9']\n",
    "            over10 = sum(over10.tof_ha)\n",
    "            \n",
    "            table = table.append({'region': region, \n",
    "                                 'country': country,\n",
    "                                 'ha_over10': over10},\n",
    "                                  ignore_index=True)\n",
    "    \n",
    "    table.to_csv(dst_file, index=False)\n",
    "    print(f'Total ha of land >10% in the tropics: {table.ha_over10.sum()}')\n",
    "\n",
    "    return table"
   ]
  },
  {
   "cell_type": "code",
   "execution_count": null,
   "id": "15b382be",
   "metadata": {},
   "outputs": [],
   "source": [
    "total = total_ha_pantropics('statistics/results_totalha_pantropics.csv')"
   ]
  },
  {
   "cell_type": "markdown",
   "id": "2659415c",
   "metadata": {},
   "source": [
    "## Table 3\n",
    "The extent of trees on, and tree cover of, urban and cropland within the tropics. "
   ]
  },
  {
   "cell_type": "code",
   "execution_count": null,
   "id": "8338c51e",
   "metadata": {},
   "outputs": [],
   "source": [
    "def main_table3(dst_file):\n",
    "    \n",
    "    '''\n",
    "    Creates a table illustrating the following metrics for cropland and urban areas in each region:\n",
    "    1) Average tree cover per land cover class.\n",
    "    2) % cropland and urban land containing >10% tree cover.\n",
    "    \n",
    "    Saves table as csv file and returns as df.\n",
    "    '''\n",
    "    df = pd.read_csv('statistics/si_table1.csv')\n",
    "    \n",
    "    region_avg = df.groupby(['region', 'lcc']).mean().reset_index()\n",
    "    region_avg = region_avg.round(2)\n",
    "    \n",
    "    region_avg.to_csv(dst_file, index=False)\n",
    "    \n",
    "    return region_avg"
   ]
  },
  {
   "cell_type": "code",
   "execution_count": null,
   "id": "683314f7",
   "metadata": {},
   "outputs": [],
   "source": [
    "df = main_table3('statistics/main_table3.csv')"
   ]
  },
  {
   "cell_type": "code",
   "execution_count": null,
   "id": "a9001355",
   "metadata": {},
   "outputs": [],
   "source": [
    "df"
   ]
  },
  {
   "cell_type": "code",
   "execution_count": null,
   "id": "2c230960",
   "metadata": {},
   "outputs": [],
   "source": [
    "# calculate average cropland >10% in tropics\n",
    "cropland = df[df.lcc == 'Cropland']\n",
    "mean_cropland = cropland.perc_over10.mean()\n",
    "mean_cropland"
   ]
  },
  {
   "cell_type": "code",
   "execution_count": null,
   "id": "f5b73711",
   "metadata": {},
   "outputs": [],
   "source": [
    "# calculate average urban >10% in tropics\n",
    "urban = df[df.lcc == 'Urban']\n",
    "mean_urban = urban.perc_over10.mean()\n",
    "mean_urban"
   ]
  },
  {
   "cell_type": "code",
   "execution_count": null,
   "id": "358e8b85",
   "metadata": {},
   "outputs": [],
   "source": [
    "def main_table1(region):\n",
    "    \n",
    "    '''\n",
    "    Produces the following metrics for a given region:\n",
    "    1) Average tree cover for the entire region\n",
    "    2) A dataframe containing the avg tree cover for each country in the region\n",
    "    \n",
    "    Returns statistic and df.\n",
    "    '''\n",
    "    \n",
    "    df = pd.read_csv(f'statistics/{region}.csv')\n",
    "    \n",
    "    # filter df to one line per lcc, per admin, per country\n",
    "    df = df[['country', 'admin', 'esa_id', 'esa_class', 'tof_mean']].drop_duplicates(ignore_index=True)\n",
    "\n",
    "    # get the average tree cover per country\n",
    "    country_avg = df[['country', 'tof_mean']].groupby('country').mean().reset_index()\n",
    "    \n",
    "    # get the regional average\n",
    "    regional_avg = round(country_avg.tof_mean.mean(), 2)\n",
    "    \n",
    "    return country_avg, regional_avg\n"
   ]
  },
  {
   "cell_type": "code",
   "execution_count": null,
   "id": "895888de",
   "metadata": {},
   "outputs": [],
   "source": [
    "la_country_avg, la_regional_avg = main_table1('lat_am')"
   ]
  },
  {
   "cell_type": "code",
   "execution_count": null,
   "id": "1b16e917",
   "metadata": {},
   "outputs": [],
   "source": [
    "la_regional_avg"
   ]
  },
  {
   "cell_type": "code",
   "execution_count": null,
   "id": "e0c0cdc8",
   "metadata": {},
   "outputs": [],
   "source": [
    "la_country_avg"
   ]
  },
  {
   "cell_type": "code",
   "execution_count": null,
   "id": "66c20442",
   "metadata": {},
   "outputs": [],
   "source": [
    "df1 = la_country_avg[la_country_avg.country.isin(['Costa Rica', 'Nicaragua', 'El Salvador'])]\n",
    "df2 = wa_country_avg[wa_country_avg.country == 'Senegal']\n",
    "df3 = ea_country_avg[ea_country_avg.country == 'Rwanda']\n",
    "comb2 = pd.concat([df1, df2, df3], ignore_index=True)\n",
    "comb2.to_csv('statistics/GFWcomp_countryavg.csv', index=False)"
   ]
  },
  {
   "cell_type": "code",
   "execution_count": null,
   "id": "e1b64ec1",
   "metadata": {},
   "outputs": [],
   "source": [
    "wa_country_avg, wa_regional_avg = main_table1('west_af')"
   ]
  },
  {
   "cell_type": "code",
   "execution_count": null,
   "id": "ec8525b7",
   "metadata": {},
   "outputs": [],
   "source": [
    "wa_regional_avg"
   ]
  },
  {
   "cell_type": "code",
   "execution_count": null,
   "id": "73ef3b5b",
   "metadata": {},
   "outputs": [],
   "source": [
    "wa_country_avg"
   ]
  },
  {
   "cell_type": "code",
   "execution_count": null,
   "id": "18bc23a4",
   "metadata": {},
   "outputs": [],
   "source": [
    "ea_country_avg, ea_regional_avg = main_table1('east_af')"
   ]
  },
  {
   "cell_type": "code",
   "execution_count": null,
   "id": "c797057b",
   "metadata": {},
   "outputs": [],
   "source": [
    "ea_regional_avg"
   ]
  },
  {
   "cell_type": "code",
   "execution_count": null,
   "id": "d8ef45ec",
   "metadata": {},
   "outputs": [],
   "source": [
    "ea_country_avg"
   ]
  },
  {
   "cell_type": "markdown",
   "id": "01f6af2f",
   "metadata": {},
   "source": [
    "## Discussion"
   ]
  },
  {
   "cell_type": "markdown",
   "id": "e1aca006",
   "metadata": {},
   "source": [
    "### Agricultural tree cover"
   ]
  },
  {
   "cell_type": "code",
   "execution_count": null,
   "id": "10d56411",
   "metadata": {},
   "outputs": [],
   "source": [
    "# Figure out total tree cover >10%, >20% and >30% for Central America\n",
    "\n",
    "def zomer_comparison(region):\n",
    "    \n",
    "    df = pd.read_csv(f'statistics/{region}.csv')\n",
    "    \n",
    "    ag_ids = [10.0, 11.0, 12.0, 20.0, 30.0, 40.0]\n",
    "    df = df[df.esa_id.isin(ag_ids)]\n",
    "    \n",
    "    # get total ha per threshold per country\n",
    "    df = df.groupby(by=['country', 'tree_cover_class']).sum().reset_index()\n",
    "    df = df[['country', 'tree_cover_class', 'tof_ha']] \n",
    "    \n",
    "    # remove tree cover classes <10%\n",
    "    over10 = df[df.tree_cover_class != '0-9']\n",
    "    over20 = df[(df.tree_cover_class != '0-9') & (df.tree_cover_class != '10-19')]\n",
    "    over30 = df[(df.tree_cover_class != '0-9') & (df.tree_cover_class != '10-19') & (df.tree_cover_class != '20-29')]\n",
    "    \n",
    "    # calculate totals\n",
    "    total = sum(df.tof_ha)\n",
    "    over10_ha = sum(over10.tof_ha)\n",
    "    over10_perc = sum(over10.tof_ha) / total * 100\n",
    "    over20_perc = sum(over20.tof_ha) / total * 100\n",
    "    over30_perc = sum(over30.tof_ha) / total * 100\n",
    "\n",
    "    print(f'Total percentage of ag land in {region} >10%: {round((over10_perc),2)}%')\n",
    "    print(f'Total percentage of ag land in {region} >20%: {round((over20_perc),2)}%')\n",
    "    print(f'Total percentage of ag land in {region} >30%:  {round((over30_perc),2)}%')    \n",
    "\n",
    "    return None"
   ]
  },
  {
   "cell_type": "code",
   "execution_count": null,
   "id": "18c0bb90",
   "metadata": {},
   "outputs": [],
   "source": [
    "zomer_comparison('central_am')"
   ]
  },
  {
   "cell_type": "code",
   "execution_count": null,
   "id": "578cc018",
   "metadata": {},
   "outputs": [],
   "source": [
    "# which region has the highest percentage of tree cover on cropland\n",
    "df = pd.read_csv('statistics/main_table3.csv')\n",
    "top_crop = df[df.lcc == 'Cropland']\n",
    "top_crop.sort_values(by='perc_over10', ascending=False)"
   ]
  },
  {
   "cell_type": "markdown",
   "id": "0d101846",
   "metadata": {},
   "source": [
    "### Urban tree cover"
   ]
  },
  {
   "cell_type": "code",
   "execution_count": null,
   "id": "1553291c",
   "metadata": {},
   "outputs": [],
   "source": [
    "# use SI table to display results highest avg tree cover in urban areas (top 20)\n",
    "urban = si[si.lcc == 'Urban']\n",
    "top20 = urban.sort_values(by='perc_over10', ascending=False)[:20]\n",
    "top20[top20.region == 'asia']"
   ]
  },
  {
   "cell_type": "code",
   "execution_count": null,
   "id": "ddff30d9",
   "metadata": {},
   "outputs": [],
   "source": [
    "top20[(top20.region == 'lat_am') | (top20.region == 'caribbean')]"
   ]
  },
  {
   "cell_type": "markdown",
   "id": "9a529cb0",
   "metadata": {},
   "source": [
    "## Produce total ha tree cover per 10% threshold"
   ]
  },
  {
   "cell_type": "code",
   "execution_count": null,
   "id": "42c516c8",
   "metadata": {},
   "outputs": [],
   "source": [
    "df = pd.read_csv('statistics/lat_am.csv')"
   ]
  },
  {
   "cell_type": "code",
   "execution_count": null,
   "id": "04b69643",
   "metadata": {},
   "outputs": [],
   "source": [
    "# filter to countries of interest\n",
    "interest = ['Costa Rica', 'El Salvador', 'Nicaragua']\n",
    "la = df[df.country.isin(interest)]"
   ]
  },
  {
   "cell_type": "code",
   "execution_count": null,
   "id": "7fa1db35",
   "metadata": {},
   "outputs": [],
   "source": [
    "la = la[['country', 'tree_cover_class', 'tof_ha']]\n",
    "#la = la.groupby(by=['country','tree_cover_class']).sum()"
   ]
  },
  {
   "cell_type": "code",
   "execution_count": null,
   "id": "4d9367c6",
   "metadata": {},
   "outputs": [],
   "source": [
    "# same process for Rwanda and Senegal\n",
    "df = pd.read_csv('statistics/west_af.csv')\n",
    "sen = df[df.country == 'Senegal']\n",
    "sen = sen[['country', 'tree_cover_class', 'tof_ha']]\n",
    "#sen = sen.groupby(by=['country','tree_cover_class']).sum()"
   ]
  },
  {
   "cell_type": "code",
   "execution_count": null,
   "id": "ff24dfd9",
   "metadata": {},
   "outputs": [],
   "source": [
    "df = pd.read_csv('statistics/east_af.csv')\n",
    "wanda = df[df.country == 'Rwanda']\n",
    "wanda = wanda[['country', 'tree_cover_class', 'tof_ha']]\n",
    "#wanda = wanda.groupby(by=['country','tree_cover_class']).sum()"
   ]
  },
  {
   "cell_type": "code",
   "execution_count": null,
   "id": "c38fb816",
   "metadata": {},
   "outputs": [],
   "source": [
    "comb = pd.concat([la, sen, wanda], ignore_index=True)\n",
    "comb = comb.groupby(by=['country','tree_cover_class']).sum()"
   ]
  },
  {
   "cell_type": "code",
   "execution_count": null,
   "id": "07cf22d5",
   "metadata": {},
   "outputs": [],
   "source": [
    "comb.to_csv('statistics/GFWcomp_totalha.csv')"
   ]
  }
 ],
 "metadata": {
  "kernelspec": {
   "display_name": "tml-analysis",
   "language": "python",
   "name": "tml-analysis"
  },
  "language_info": {
   "codemirror_mode": {
    "name": "ipython",
    "version": 3
   },
   "file_extension": ".py",
   "mimetype": "text/x-python",
   "name": "python",
   "nbconvert_exporter": "python",
   "pygments_lexer": "ipython3",
   "version": "3.8.5"
  },
  "toc": {
   "base_numbering": 1,
   "nav_menu": {},
   "number_sections": true,
   "sideBar": true,
   "skip_h1_title": false,
   "title_cell": "Table of Contents",
   "title_sidebar": "Contents",
   "toc_cell": false,
   "toc_position": {
    "height": "calc(100% - 180px)",
    "left": "10px",
    "top": "150px",
    "width": "232px"
   },
   "toc_section_display": true,
   "toc_window_display": true
  },
  "varInspector": {
   "cols": {
    "lenName": 16,
    "lenType": 16,
    "lenVar": 40
   },
   "kernels_config": {
    "python": {
     "delete_cmd_postfix": "",
     "delete_cmd_prefix": "del ",
     "library": "var_list.py",
     "varRefreshCmd": "print(var_dic_list())"
    },
    "r": {
     "delete_cmd_postfix": ") ",
     "delete_cmd_prefix": "rm(",
     "library": "var_list.r",
     "varRefreshCmd": "cat(var_dic_list()) "
    }
   },
   "types_to_exclude": [
    "module",
    "function",
    "builtin_function_or_method",
    "instance",
    "_Feature"
   ],
   "window_display": false
  }
 },
 "nbformat": 4,
 "nbformat_minor": 5
}
