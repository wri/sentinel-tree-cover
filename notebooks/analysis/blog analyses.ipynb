{
 "cells": [
  {
   "cell_type": "code",
   "execution_count": null,
   "id": "c6d3c1cf",
   "metadata": {},
   "outputs": [],
   "source": [
    "import numpy as np\n",
    "import rasterio as rs\n",
    "import hickle as hkl\n",
    "import os\n",
    "import hickle as hkl\n",
    "import seaborn as sns\n",
    "import matplotlib.pyplot as plt\n",
    "from glob import glob\n",
    "import pandas as pd\n",
    "\n"
   ]
  },
  {
   "cell_type": "code",
   "execution_count": null,
   "id": "7f6a8cfc",
   "metadata": {},
   "outputs": [],
   "source": [
    "x = pd.read_csv(\"../../src/asia_grid.csv\")\n",
    "x = x[x['country'] == 'Australia']\n",
    "x.reset_index(inplace = True)\n",
    "x.to_csv(\"../../src/australia.csv\")"
   ]
  },
  {
   "cell_type": "code",
   "execution_count": null,
   "id": "9b509ee1",
   "metadata": {},
   "outputs": [],
   "source": [
    "x.shape"
   ]
  },
  {
   "cell_type": "code",
   "execution_count": null,
   "id": "e0f1a153",
   "metadata": {},
   "outputs": [],
   "source": [
    "import numpy as np\n",
    "import scipy\n",
    "\n",
    "x = rs.open(\"5714X1349Y_FINAL.tif\").read(1)\n",
    "plt.figure(figsize=(12,10))\n",
    "sns.heatmap(x)\n",
    "print(np.mean(x))"
   ]
  },
  {
   "cell_type": "code",
   "execution_count": null,
   "id": "e8a6b5cd",
   "metadata": {},
   "outputs": [],
   "source": [
    "from sklearn.neighbors import kneighbors_graph\n",
    "import networkx\n",
    "\n",
    "nb = kneighbors_graph(x, n_neighbors = 3)\n",
    "g = networkx.from_scipy_sparse_matrix(nb)\n",
    "l = networkx.k_core(g)\n",
    "l = networkx.to_numpy_array(l)\n",
    "\n"
   ]
  },
  {
   "cell_type": "code",
   "execution_count": null,
   "id": "696fefe6",
   "metadata": {},
   "outputs": [],
   "source": [
    "def Func(a):\n",
    "    a = np.sum(a > 40) #np.sum((a > 5) & (a < 40))\n",
    "    return a\n",
    "\n",
    "\n",
    "%time xmax = scipy.ndimage.generic_filter(x, Func, 3)"
   ]
  },
  {
   "cell_type": "code",
   "execution_count": null,
   "id": "9e63cc7a",
   "metadata": {},
   "outputs": [],
   "source": [
    "sns.heatmap(xmax)"
   ]
  },
  {
   "cell_type": "code",
   "execution_count": null,
   "id": "278608a9",
   "metadata": {},
   "outputs": [],
   "source": [
    "xnew = np.copy(x)\n",
    "xnew[xmax < 1 ] = 0.\n",
    "plt.figure(figsize=(12,10))\n",
    "sns.heatmap(x - xnew)"
   ]
  },
  {
   "cell_type": "code",
   "execution_count": null,
   "id": "55825943",
   "metadata": {},
   "outputs": [],
   "source": [
    "plt.figure(figsize=(12,10))\n",
    "sns.heatmap(xnew)"
   ]
  },
  {
   "cell_type": "code",
   "execution_count": null,
   "id": "bd2b52c4",
   "metadata": {},
   "outputs": [],
   "source": []
  }
 ],
 "metadata": {
  "kernelspec": {
   "display_name": "tf",
   "language": "python",
   "name": "tf"
  },
  "language_info": {
   "codemirror_mode": {
    "name": "ipython",
    "version": 3
   },
   "file_extension": ".py",
   "mimetype": "text/x-python",
   "name": "python",
   "nbconvert_exporter": "python",
   "pygments_lexer": "ipython3",
   "version": "3.7.10"
  }
 },
 "nbformat": 4,
 "nbformat_minor": 5
}
