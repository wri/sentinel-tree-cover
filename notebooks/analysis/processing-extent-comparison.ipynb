{
 "cells": [
  {
   "cell_type": "markdown",
   "id": "9b77154b",
   "metadata": {},
   "source": [
    "# EDA: Comparison of Partial and Full Processing Extents"
   ]
  },
  {
   "cell_type": "markdown",
   "id": "39a71e0b",
   "metadata": {},
   "source": [
    "This notebook is an exploratory analyses that compares statistics between the partially processed and the fully processed (wall to wall) TML data. It focuses on Central America and West Africa.\n",
    "\n",
    "**Area sampled (per land cover class)**\n",
    "- The 'No Data (flag)' land cover classes is removed.\n",
    "- We expect and see that the dark yellow bars are higher and the dark purple bars are smaller, indicating an increase in the sampling area during full processing. The most significant increases are in the tree cover (broadleaved/deciduous, broadleaved/evergreen) classes, as these were intentionally omitted in the initial processing extent.\n",
    "- Additional labels for some land cover classes (same ESA label but different ESA ID number) were identified. This could result in a higher count of hectares for the sampled and total area for a land cover class if these labels were not previously identified.\n",
    "- The no data glag is removed. If a land cover class does not appear in the visualization (a warning will print) the country did not have data for that land cover class in the initial processing, but does include that land cover class in the full processing.\n",
    "\n",
    "**Total hectares of tree cover (per land cover class)**\n",
    "- We expect and see the greatest differences in the tree cover (broadleaved/deciduous, broadleaved/evergreen) class. This is logical given the initial processing extent intentionally omitted these classes.\n",
    "- We see an increase in the total hectares on cropland, which could be a result of the additional encoding/labeling of ESA ID's in that land cover category.\n",
    "- Note: hectares of tree cover are not weighted by the percentage of tree cover within that hectare. A hectare with 10% tree cover is counted the same as a hectare with 90% tree cover.\n",
    "\n",
    "**Forest cover compliant (per country)**\n",
    "- In Central America, there's a fluctution of ~1% between the partial and full processing.\n"
   ]
  },
  {
   "cell_type": "code",
   "execution_count": null,
   "id": "dc1ae40f",
   "metadata": {},
   "outputs": [],
   "source": [
    "import os\n",
    "import rasterio as rs\n",
    "import numpy as np \n",
    "import seaborn as sns\n",
    "import matplotlib.pyplot as plt\n",
    "import geopandas as gpd \n",
    "import pandas as pd\n",
    "import fiona\n",
    "\n",
    "from rasterio.plot import show\n",
    "from numpy.ma import masked_array"
   ]
  },
  {
   "cell_type": "markdown",
   "id": "1f15c3bd",
   "metadata": {},
   "source": [
    "## Area sampled (per land cover class)"
   ]
  },
  {
   "cell_type": "code",
   "execution_count": null,
   "id": "97368349",
   "metadata": {},
   "outputs": [],
   "source": [
    "def compare_lc_sampled(country):\n",
    "    \n",
    "    ## This needs to include a check for land cover class IDs that were missed in partial processing ##\n",
    "    \n",
    "    # get the full and partial processing extent for the country\n",
    "    full_proc = pd.read_csv(f'comparisons/full_processing_area.csv')\n",
    "    partial_proc = pd.read_csv(f'comparisons/partial_processing_area.csv')\n",
    "    extent_full = full_proc[full_proc.country == country]\n",
    "    extent_partial = partial_proc[partial_proc.country == country]\n",
    "    \n",
    "    full = pd.read_csv(f'comparisons/{country}_statistics_full.csv')\n",
    "    partial = pd.read_csv(f'comparisons/{country}_statistics_partial.csv')\n",
    "\n",
    "    # set up the dataframe and calculate the area sampled for the full\n",
    "    full = full[['country', 'admin', 'esa_class', 'esa_id', 'esa_sampled_ha', 'esa_total_ha']]\n",
    "    full = full.drop_duplicates(keep='first', ignore_index=True)\n",
    "    full['esa_not_sampled'] = full['esa_total_ha'] - full['esa_sampled_ha']\n",
    "    full = full.groupby(by=['esa_class']).sum().reset_index()\n",
    "    full = full[full.esa_class != 'No Data (flag)']\n",
    "    #full['esa_perc_sampled'] = round((full['esa_sampled_ha'] / full['esa_total_ha']) * 100, 1)\n",
    "\n",
    "    # apply the same to the partial \n",
    "    partial = partial[['country', 'admin', 'esa_class','esa_id','esa_sampled_ha', 'esa_total_ha']]\n",
    "    partial = partial.drop_duplicates(keep='first', ignore_index=True)\n",
    "    partial['esa_not_sampled'] = partial['esa_total_ha'] - partial['esa_sampled_ha']\n",
    "    partial = partial.groupby(by=['esa_class']).sum().reset_index()\n",
    "    partial = partial[partial.esa_class != 'No Data (flag)']\n",
    "    #partial['esa_perc_sampled'] = round((partial['esa_sampled_ha'] / partial['esa_total_ha']) * 100, 1)\n",
    "    \n",
    "    print(f'Processing extent for {country}:')\n",
    "    print(f'Calculated extent sampled (full): {round(full.esa_sampled_ha.sum(),1)} ha')\n",
    "    print(f'Actual extent sampled (full): {extent_full.full_area_ha.item()} ha')\n",
    "          \n",
    "    # check for differences in lccs sampled\n",
    "    full_classes = list(full.esa_class.values)\n",
    "    partial_classes = list(partial.esa_class.values)\n",
    "    list_difference = [item for item in partial_classes if item not in full_classes]\n",
    "    if len(list_difference) > 0:\n",
    "        partial.drop(partial[partial.esa_class == list_difference[0]].index, inplace = True)\n",
    "        print(f'{list_difference} caused shape mismatch and was dropped from the partial dataset.')\n",
    "\n",
    "    # create the position of the grouped bars\n",
    "    width = 0.4\n",
    "    pos1 = np.arange(len(full))\n",
    "    pos2 = pos1 + width\n",
    "\n",
    "    plt.figure(figsize=(15,9))\n",
    "\n",
    "    # create the position of the stacked bars\n",
    "    classes = list(full.esa_class.values)\n",
    "    bars1 = full.esa_sampled_ha\n",
    "    bars2 = full.esa_not_sampled\n",
    "    bars3 = partial.esa_sampled_ha\n",
    "    bars4 = partial.esa_not_sampled\n",
    "\n",
    "    plt.barh(pos1, bars1, width, color=\"gold\", edgecolor='white', label='sampled (full)')  \n",
    "    plt.barh(pos1, bars2, width, left=bars1, color=\"darkslateblue\", edgecolor='white', label='not sampled (full)')\n",
    "    #f3e151  #6c3376\n",
    "    plt.barh(pos2, bars3, width, color=\"palegoldenrod\", edgecolor='white', label='sampled (partial)')  \n",
    "    plt.barh(pos2, bars4, width, left=bars3, color=\"slateblue\", edgecolor='white', label='not sampled (partial)')\n",
    "\n",
    "    plt.title(f'Land Cover Sampled in {country}')\n",
    "    plt.xlabel('Tree Cover (ha)')\n",
    "    plt.yticks(pos1 + width / 2, classes)\n",
    "    plt.ticklabel_format(useOffset=False, style='plain', axis='x')\n",
    "    plt.grid(axis='x', linestyle='-', linewidth=.2)\n",
    "    plt.legend(loc='lower right');\n",
    "    \n",
    "    return None\n",
    "    "
   ]
  },
  {
   "cell_type": "code",
   "execution_count": null,
   "id": "b9dd39f4",
   "metadata": {},
   "outputs": [],
   "source": [
    "compare_lc_sampled('El Salvador')"
   ]
  },
  {
   "cell_type": "code",
   "execution_count": null,
   "id": "797c4e03",
   "metadata": {},
   "outputs": [],
   "source": [
    "compare_lc_sampled('Costa Rica')"
   ]
  },
  {
   "cell_type": "code",
   "execution_count": null,
   "id": "68686392",
   "metadata": {},
   "outputs": [],
   "source": [
    "compare_lc_sampled('Belize')"
   ]
  },
  {
   "cell_type": "code",
   "execution_count": null,
   "id": "8d5570d3",
   "metadata": {},
   "outputs": [],
   "source": [
    "compare_lc_sampled('Panama')"
   ]
  },
  {
   "cell_type": "code",
   "execution_count": null,
   "id": "08b3dae5",
   "metadata": {},
   "outputs": [],
   "source": [
    "compare_lc_sampled('Honduras')"
   ]
  },
  {
   "cell_type": "code",
   "execution_count": null,
   "id": "37270819",
   "metadata": {},
   "outputs": [],
   "source": [
    "compare_lc_sampled('Nicaragua')"
   ]
  },
  {
   "cell_type": "code",
   "execution_count": null,
   "id": "71f6cb10",
   "metadata": {},
   "outputs": [],
   "source": [
    "compare_lc_sampled('Guatemala')"
   ]
  },
  {
   "cell_type": "markdown",
   "id": "9b526c66",
   "metadata": {},
   "source": [
    "## Total hectares of tree cover"
   ]
  },
  {
   "cell_type": "code",
   "execution_count": null,
   "id": "f74a3de6",
   "metadata": {},
   "outputs": [],
   "source": [
    "def compare_lc_totalha(country):\n",
    "    \n",
    "    full = pd.read_csv(f'comparisons/{country}_statistics_full.csv')\n",
    "    partial = pd.read_csv(f'comparisons/{country}_statistics.csv')\n",
    "    \n",
    "    full_sum = full.groupby('esa_class').sum()\n",
    "    full_sum = full_sum[['tof_ha', 'hans_ha']]\n",
    "    partial_sum = partial.groupby('esa_class').sum()\n",
    "    partial_sum = partial_sum[['tof_ha', 'hans_ha']]\n",
    "\n",
    "    diverge_sum = full_sum - partial_sum\n",
    "    colors = ['red' if x < 0 else 'green' for x in diverge_sum.tof_ha]\n",
    "\n",
    "    plt.figure(figsize=(15,7))\n",
    "    plt.hlines(y=diverge_sum.index,\n",
    "               xmin=0,\n",
    "               xmax=diverge_sum.tof_ha,\n",
    "               alpha=0.7,\n",
    "               linewidth=7,\n",
    "               colors=colors)\n",
    "               #label=str(diverge_sum.tof_ha))\n",
    "    \n",
    "    plt.ticklabel_format(useOffset=False, style='plain', axis='x')\n",
    "    plt.grid(axis='x', linestyle='-', linewidth=.2)\n",
    "    plt.title(f'Difference in TML tree cover (hectares) per land cover class: {country}')\n",
    "    plt.xlabel('tree cover (ha)');\n",
    "    \n",
    "    return None"
   ]
  },
  {
   "cell_type": "code",
   "execution_count": null,
   "id": "8acda738",
   "metadata": {},
   "outputs": [],
   "source": [
    "compare_lc_totalha('Panama')"
   ]
  },
  {
   "cell_type": "code",
   "execution_count": null,
   "id": "8a69a0ae",
   "metadata": {},
   "outputs": [],
   "source": [
    "compare_lc_totalha('Guatemala')"
   ]
  },
  {
   "cell_type": "code",
   "execution_count": null,
   "id": "337839b4",
   "metadata": {},
   "outputs": [],
   "source": [
    "compare_lc_totalha('El Salvador')"
   ]
  },
  {
   "cell_type": "code",
   "execution_count": null,
   "id": "65c957b5",
   "metadata": {},
   "outputs": [],
   "source": [
    "compare_lc_totalha('Nicaragua')"
   ]
  },
  {
   "cell_type": "code",
   "execution_count": null,
   "id": "aa733c4d",
   "metadata": {},
   "outputs": [],
   "source": [
    "compare_lc_totalha('Belize')"
   ]
  },
  {
   "cell_type": "code",
   "execution_count": null,
   "id": "f3b2d687",
   "metadata": {},
   "outputs": [],
   "source": [
    "compare_lc_totalha('Honduras')"
   ]
  },
  {
   "cell_type": "code",
   "execution_count": null,
   "id": "f43cc7ee",
   "metadata": {},
   "outputs": [],
   "source": [
    "def compare_lc_mean(country):\n",
    "\n",
    "    full = pd.read_csv(f'comparisons/{country}_statistics_full.csv')\n",
    "    partial = pd.read_csv(f'comparisons/{country}_statistics.csv')\n",
    "\n",
    "    full_mean = full.groupby('esa_class').mean()\n",
    "    full_mean = full_mean[['tof_mean']]\n",
    "    partial_mean = partial.groupby('esa_class').mean()\n",
    "    partial_mean = partial_mean[['tof_mean']]\n",
    "    mean_merged = full_mean.merge(partial_mean, on='esa_class')\n",
    "\n",
    "    plt.figure(figsize=(12,8))\n",
    "\n",
    "    width = 0.4\n",
    "    pos1 = np.arange(len(mean_merged))\n",
    "    pos2 = pos1 + width\n",
    "\n",
    "    plt.barh(pos1, mean_merged.tof_mean_x, width, color='gold', edgecolor='white', label='Full')\n",
    "    plt.barh(pos2, mean_merged.tof_mean_y, width, color='palegoldenrod', edgecolor='white', label='Partial')\n",
    "\n",
    "    plt.xlabel('% Tree Cover')\n",
    "    plt.yticks(pos1 + width / 2, mean_merged.index.values)\n",
    "    plt.title(f'Mean Tree Cover per Land Cover Class: {country}')\n",
    "    plt.grid(axis='x', linestyle='-', linewidth=.3)\n",
    "    plt.legend();\n",
    "\n",
    "    return None"
   ]
  },
  {
   "cell_type": "markdown",
   "id": "10dcd3c7",
   "metadata": {},
   "source": [
    "## Forest Cover Compliant"
   ]
  },
  {
   "cell_type": "code",
   "execution_count": null,
   "id": "3a15e1ec",
   "metadata": {},
   "outputs": [],
   "source": [
    "def create_regional_csv(list_of_countries, region, extent):\n",
    "    '''\n",
    "    Merges the statistics for a list of countries into a single csv \n",
    "    file to permit regional analyses.\n",
    "    '''\n",
    "    \n",
    "    regional_df = pd.DataFrame()\n",
    "    dfs_to_concat = []\n",
    "    \n",
    "    for country in list_of_countries:\n",
    "        country_df = pd.read_csv(f'comparisons/{country}_statistics_{extent}.csv')\n",
    "        dfs_to_concat.append(country_df)\n",
    "    \n",
    "    regional_df = pd.concat(dfs_to_concat, ignore_index=True)\n",
    "    regional_df.to_csv(f'comparisons/{region}_{extent}.csv', index=False)\n",
    "    \n",
    "    return None"
   ]
  },
  {
   "cell_type": "code",
   "execution_count": null,
   "id": "e562e95a",
   "metadata": {},
   "outputs": [],
   "source": [
    "# central america full processing\n",
    "create_regional_csv(['Belize', \n",
    "                     'Honduras', \n",
    "                     'Guatemala', \n",
    "                     'El Salvador', \n",
    "                     'Costa Rica', \n",
    "                     'Nicaragua', \n",
    "                     'Panama'], 'central_america', 'full')"
   ]
  },
  {
   "cell_type": "code",
   "execution_count": null,
   "id": "0f61e6ab",
   "metadata": {},
   "outputs": [],
   "source": [
    "# central america partial processing\n",
    "create_regional_csv(['Belize', \n",
    "                     'Honduras', \n",
    "                     'Guatemala', \n",
    "                     'El Salvador', \n",
    "                     'Costa Rica', \n",
    "                     'Nicaragua', \n",
    "                     'Panama'], 'central_america', 'partial')"
   ]
  },
  {
   "cell_type": "code",
   "execution_count": null,
   "id": "4e5618a2",
   "metadata": {},
   "outputs": [],
   "source": [
    "# west africa full processing (missing Cape Verde, Ghana, Mali, Nigeria)\n",
    "create_regional_csv(['Benin',\n",
    "                    'Burkina Faso',\n",
    "                    'Ivory Coast',\n",
    "                    'Gambia',\n",
    "                    'Guinea',\n",
    "                    'Liberia',\n",
    "                    'Mauritania',\n",
    "                    'Niger',\n",
    "                    'Senegal',\n",
    "                    'Sierra Leone',\n",
    "                    'Togo'], 'west_africa', 'full')"
   ]
  },
  {
   "cell_type": "code",
   "execution_count": null,
   "id": "430f1fff",
   "metadata": {},
   "outputs": [],
   "source": [
    "def compare_forest_cover_compliant(region, extent, figsize, rotation):\n",
    "    \n",
    "    region_df = pd.read_csv(f'comparisons/{region}_{extent}.csv')\n",
    "    \n",
    "    countries = list(set(region_df.country.values))\n",
    "\n",
    "    x_labels, ag_bar1, ag_bar2, urban_bar1, urban_bar2 = [],[],[],[],[]\n",
    "    \n",
    "    for country in countries:\n",
    "        \n",
    "        # filter to one country and only urban/ag land cover classes\n",
    "        country_df = region_df[region_df.country == country]\n",
    "        ag_ids = [10.0, 11.0, 12.0, 20.0, 30.0, 40.0]\n",
    "        urban_ids = [190.0]\n",
    "        ag_df = country_df[country_df.esa_id.isin(ag_ids)].sort_values('country')\n",
    "        urban_df = country_df[country_df.esa_id.isin(urban_ids)].sort_values('country')\n",
    "        \n",
    "        # get total tof ha per tree cover threshold\n",
    "        ag_df = ag_df.groupby(by=['country', 'tree_cover_class']).sum().reset_index() \n",
    "        ag_df = ag_df[['country', 'tree_cover_class', 'tof_ha']] \n",
    "        urban_df = urban_df.groupby(by=['country', 'tree_cover_class']).sum().reset_index() \n",
    "        urban_df = urban_df[['country', 'tree_cover_class', 'tof_ha']] \n",
    "        \n",
    "        # calculate # ha <10% tree cover and >10% tree cover\n",
    "        ag_under10 = ag_df.tof_ha[0] \n",
    "        ag_over10 = sum(ag_df.tof_ha[1:])\n",
    "        urban_under10 = urban_df.tof_ha[0]\n",
    "        urban_over10 = sum(urban_df.tof_ha[1:])\n",
    "        \n",
    "        # normalize\n",
    "        ag_under10_norm = ag_under10/(ag_under10 + ag_over10)*100\n",
    "        ag_over10_norm = ag_over10/(ag_under10 + ag_over10)*100\n",
    "        urban_under10_norm = urban_under10/(urban_under10 + urban_over10)*100\n",
    "        urban_over10_norm = urban_over10/(urban_under10 + urban_over10)*100\n",
    "        \n",
    "        x_labels.append(country)\n",
    "        ag_bar1.append(ag_over10_norm) # >10% is on the bottom\n",
    "        ag_bar2.append(ag_under10_norm) # <10% is on the top\n",
    "        urban_bar1.append(urban_over10_norm) \n",
    "        urban_bar2.append(urban_under10_norm) \n",
    "   \n",
    "    # convert to array in order to add data labels\n",
    "    ag_bar1 = np.asarray(ag_bar1)\n",
    "    ag_bar2 = np.asarray(ag_bar2)\n",
    "    urban_bar1 = np.asarray(urban_bar1)\n",
    "    urban_bar2 = np.asarray(urban_bar2)\n",
    "\n",
    "    plt.figure(figsize=figsize)\n",
    "        \n",
    "    # Ag plot\n",
    "    plt.subplot(1,2,1)\n",
    "    plt.bar(x_labels, ag_bar1, color=\"seagreen\", label='>10% tree cover', capsize=4)  \n",
    "    plt.bar(x_labels, ag_bar2, bottom=ag_bar1, color=\"honeydew\", label='<10% tree cover')    \n",
    "    \n",
    "    # labels\n",
    "    for xpos, ypos, yval in zip(x_labels, ag_bar1/2, ag_bar1):\n",
    "        plt.text(xpos, ypos, f'{round(yval)}%', ha=\"center\", va=\"center\")\n",
    "    for xpos, ypos, yval in zip(x_labels, ag_bar1 + ag_bar2/2, ag_bar2):\n",
    "        plt.text(xpos, ypos, f'{round(yval)}%', ha=\"center\", va=\"center\")\n",
    "    \n",
    "    plt.xlabel(' ')\n",
    "    plt.xticks(rotation=rotation)\n",
    "    plt.ylabel('% Land')\n",
    "    plt.ticklabel_format(style='plain', axis='y')\n",
    "    plt.title(f'% Agricultural Land Meeting \\n 10% Forest Cover Criteria \\n ({extent})')\n",
    "    plt.legend(loc='lower right')\n",
    "    \n",
    "    # Urban plot\n",
    "    plt.subplot(1,2,2)\n",
    "    plt.bar(x_labels, urban_bar1, color=\"seagreen\", label='>10% tree cover', capsize=4)  \n",
    "    plt.bar(x_labels, urban_bar2, bottom=urban_bar1, color=\"honeydew\", label='<10% tree cover')    \n",
    "    \n",
    "    # labels\n",
    "    for xpos, ypos, yval in zip(x_labels, urban_bar1/2, urban_bar1):\n",
    "        plt.text(xpos, ypos, f'{round(yval)}%', ha=\"center\", va=\"center\")\n",
    "    for xpos, ypos, yval in zip(x_labels, urban_bar1 + urban_bar2/2, urban_bar2):\n",
    "        plt.text(xpos, ypos, f'{round(yval)}%', ha=\"center\", va=\"center\")\n",
    "    \n",
    "    \n",
    "    plt.xlabel(' ')\n",
    "    plt.xticks(rotation=rotation)\n",
    "    plt.ylabel('% Land')\n",
    "    plt.ticklabel_format(style='plain', axis='y')\n",
    "    plt.title(f'% Urban Land Meeting \\n 10% Forest Cover Criteria \\n ({extent})')\n",
    "    plt.legend(loc='lower right')\n",
    "    plt.tight_layout(); "
   ]
  },
  {
   "cell_type": "code",
   "execution_count": null,
   "id": "65418626",
   "metadata": {},
   "outputs": [],
   "source": [
    "compare_forest_cover_compliant('central_america', 'partial', (14,7), 0)"
   ]
  },
  {
   "cell_type": "code",
   "execution_count": null,
   "id": "5fcb00b6",
   "metadata": {},
   "outputs": [],
   "source": [
    "compare_forest_cover_compliant('central_america', 'full', (14,7), 0)"
   ]
  },
  {
   "cell_type": "code",
   "execution_count": null,
   "id": "7de3d1ac",
   "metadata": {},
   "outputs": [],
   "source": [
    "compare_forest_cover_compliant('west_africa', 'full', (14,7), 55)"
   ]
  },
  {
   "cell_type": "code",
   "execution_count": null,
   "id": "2a5d9fda",
   "metadata": {},
   "outputs": [],
   "source": [
    "# >20%\n",
    "compare_forest_cover_compliant('west_africa', 'full', (14,7), 55)"
   ]
  }
 ],
 "metadata": {
  "kernelspec": {
   "display_name": "tml-analysis",
   "language": "python",
   "name": "tml-analysis"
  },
  "language_info": {
   "codemirror_mode": {
    "name": "ipython",
    "version": 3
   },
   "file_extension": ".py",
   "mimetype": "text/x-python",
   "name": "python",
   "nbconvert_exporter": "python",
   "pygments_lexer": "ipython3",
   "version": "3.8.5"
  },
  "toc": {
   "base_numbering": 1,
   "nav_menu": {},
   "number_sections": true,
   "sideBar": true,
   "skip_h1_title": false,
   "title_cell": "Table of Contents",
   "title_sidebar": "Contents",
   "toc_cell": false,
   "toc_position": {
    "height": "calc(100% - 180px)",
    "left": "10px",
    "top": "150px",
    "width": "184px"
   },
   "toc_section_display": true,
   "toc_window_display": true
  },
  "varInspector": {
   "cols": {
    "lenName": 16,
    "lenType": 16,
    "lenVar": 40
   },
   "kernels_config": {
    "python": {
     "delete_cmd_postfix": "",
     "delete_cmd_prefix": "del ",
     "library": "var_list.py",
     "varRefreshCmd": "print(var_dic_list())"
    },
    "r": {
     "delete_cmd_postfix": ") ",
     "delete_cmd_prefix": "rm(",
     "library": "var_list.r",
     "varRefreshCmd": "cat(var_dic_list()) "
    }
   },
   "types_to_exclude": [
    "module",
    "function",
    "builtin_function_or_method",
    "instance",
    "_Feature"
   ],
   "window_display": false
  }
 },
 "nbformat": 4,
 "nbformat_minor": 5
}
