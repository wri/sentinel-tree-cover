{
 "cells": [
  {
   "cell_type": "code",
   "execution_count": 1,
   "id": "a9baf511",
   "metadata": {},
   "outputs": [],
   "source": [
    "import numpy as np\n",
    "\n",
    "import pandas as pd\n",
    "import seaborn as sns\n",
    "import matplotlib.pyplot as plt"
   ]
  },
  {
   "cell_type": "code",
   "execution_count": 2,
   "id": "031382e8",
   "metadata": {},
   "outputs": [],
   "source": [
    "x = np.load('../../src/cloud_img.npy')\n",
    "y = np.load('../../src/cloud_dates.npy')\n"
   ]
  },
  {
   "cell_type": "code",
   "execution_count": 26,
   "id": "7b2ed268",
   "metadata": {},
   "outputs": [
    {
     "data": {
      "text/plain": [
       "317"
      ]
     },
     "execution_count": 26,
     "metadata": {},
     "output_type": "execute_result"
    }
   ],
   "source": [
    "y[61]"
   ]
  },
  {
   "cell_type": "code",
   "execution_count": 29,
   "id": "a88d3e75",
   "metadata": {},
   "outputs": [
    {
     "name": "stdout",
     "output_type": "stream",
     "text": [
      "80 80\n"
     ]
    }
   ],
   "source": [
    "mid_idx = x.shape[1] // 2\n",
    "mid_idx_y = x.shape[2] // 2\n",
    "print(mid_idx, mid_idx_y)"
   ]
  },
  {
   "cell_type": "code",
   "execution_count": 2,
   "id": "58717737",
   "metadata": {},
   "outputs": [],
   "source": [
    "import imageio\n",
    "images = []\n",
    "filenames = ['2017.png', '2018.png', '2019.png', '2020.png', '2021.png']\n",
    "for filename in filenames:\n",
    "    images.append(imageio.imread(filename))\n",
    "imageio.mimsave('anr_burkina_faso.gif', images, duration = 0.75)"
   ]
  },
  {
   "cell_type": "code",
   "execution_count": 4,
   "id": "9bca6823",
   "metadata": {},
   "outputs": [],
   "source": [
    "c = np.load(\"../../src/cloud.npy\")\n",
    "d = np.load(\"../../src/cloud_date.npy\")\n",
    "c[c == 255] = np.nan"
   ]
  },
  {
   "cell_type": "code",
   "execution_count": 11,
   "id": "197d7862",
   "metadata": {},
   "outputs": [
    {
     "data": {
      "text/plain": [
       "0.24099378881987576"
      ]
     },
     "execution_count": 11,
     "metadata": {},
     "output_type": "execute_result"
    }
   ],
   "source": [
    "np.nanmean(c[42] == 100)"
   ]
  },
  {
   "cell_type": "code",
   "execution_count": 15,
   "id": "c7ad1bd4",
   "metadata": {},
   "outputs": [
    {
     "name": "stdout",
     "output_type": "stream",
     "text": [
      "245\n"
     ]
    },
    {
     "data": {
      "text/plain": [
       "<AxesSubplot:>"
      ]
     },
     "execution_count": 15,
     "metadata": {},
     "output_type": "execute_result"
    },
    {
     "data": {
      "image/png": "[encoded data removed]",
      "text/plain": [
       "<Figure size 432x288 with 2 Axes>"
      ]
     },
     "metadata": {
      "needs_background": "light"
     },
     "output_type": "display_data"
    }
   ],
   "source": [
    "idx = 42\n",
    "print(d[idx])\n",
    "sns.heatmap(c[idx])"
   ]
  }
 ],
 "metadata": {
  "kernelspec": {
   "display_name": "tf",
   "language": "python",
   "name": "tf"
  },
  "language_info": {
   "codemirror_mode": {
    "name": "ipython",
    "version": 3
   },
   "file_extension": ".py",
   "mimetype": "text/x-python",
   "name": "python",
   "nbconvert_exporter": "python",
   "pygments_lexer": "ipython3",
   "version": "3.7.10"
  }
 },
 "nbformat": 4,
 "nbformat_minor": 5
}
