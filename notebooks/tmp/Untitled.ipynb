{
 "cells": [
  {
   "cell_type": "code",
   "execution_count": 1,
   "id": "d8391c36-17a2-43c2-b736-a2975d325a87",
   "metadata": {},
   "outputs": [],
   "source": [
    "def image_latlon_pxpy(local_folder, X, Y, latitude, longitude):\n",
    "    X = str(X)\n",
    "    Y = str(Y)\n",
    "    fname = f\"{local_folder}/{X}/{Y}/{X}X{Y}Y_FINAL.tif\"\n",
    "    #print(fname, os.path.exists(fname))\n",
    "    if os.path.exists(fname):\n",
    "        dataset = rs.open(fname)\n",
    "        px = longitude\n",
    "        py = latitude\n",
    "        px_pc = (px - dataset.bounds.left) / (dataset.bounds.right - dataset.bounds.left)\n",
    "        py_pc = (dataset.bounds.top - py) / (dataset.bounds.top - dataset.bounds.bottom)\n",
    "        return (np.floor(px_pc*dataset.width), np.floor(py_pc*dataset.height)), dataset.height, dataset.width\n",
    "    else:\n",
    "        return (0, 0), 0, 0\n",
    "\n",
    "def check_ard_availability(local_folder, train_df, deploy_df, output_df, pixel_dist=16):\n",
    "    '''\n",
    "    Given a plot level CEO csv (one row per plot), identifies where ARD is not available.\n",
    "    Identifies available data by calculating whether plot centroids are \n",
    "    >16 pixels away from a TTC tile edge.\n",
    "    Requires TTC final tifs to be stored locally for image_latlon_pxpy()\n",
    "    The output csv contains new columns X_tile and Y_tile which indicate\n",
    "    the TTC tile id. Where the row contains 0 are areas where ARD is not\n",
    "    available. \n",
    "    '''\n",
    "    train_df = pd.read_csv(train_df)\n",
    "    deploy_df = pd.read_csv(deploy_df) \n",
    "    \n",
    "    train_df['X_tile'] = 0\n",
    "    train_df['Y_tile'] = 0\n",
    "    train_df['X_px'] = 0\n",
    "    train_df['Y_px'] = 0\n",
    "    train_df['X'] = 0.\n",
    "    train_df['Y'] = 0.\n",
    "    \n",
    "    deploy_lons = deploy_df.X\n",
    "    deploy_lats = deploy_df.Y\n",
    "    \n",
    "    for i, val in train_df[:100].iterrows():\n",
    "        #try:\n",
    "        lon = val.lon\n",
    "        lat = val.lat\n",
    "        x_tile = np.argmin(abs(lon - deploy_lons))\n",
    "        lon_tile = deploy_df.X[x_tile]\n",
    "        x_tile = deploy_df.X_tile[x_tile]\n",
    "        \n",
    "        y_tile = np.argmin(abs(lat - deploy_lats))\n",
    "        lat_tile = deploy_df.Y[y_tile]\n",
    "        y_tile = deploy_df.Y_tile[y_tile]\n",
    "        \n",
    "        l, w, h = image_latlon_pxpy(local_folder, x_tile, y_tile, lat, lon)\n",
    "        #print(l, w, h)\n",
    "        if l[0] > pixel_dist and l[1] > pixel_dist:\n",
    "            if l[0] < (w - pixel_dist) and l[1] < (h - pixel_dist): \n",
    "                train_df.iloc[i, train_df.columns.get_loc('X_tile')] = x_tile\n",
    "                train_df.iloc[i, train_df.columns.get_loc('Y_tile')] = y_tile\n",
    "\n",
    "                train_df.iloc[i, train_df.columns.get_loc('X')] = lon_tile\n",
    "                train_df.iloc[i, train_df.columns.get_loc('Y')] = lat_tile\n",
    "\n",
    "                train_df.iloc[i, train_df.columns.get_loc('X_px')] = l[0]\n",
    "                train_df.iloc[i, train_df.columns.get_loc('Y_px')] = l[1]\n",
    "        else:\n",
    "            print(\"skipping\", l, w, h)\n",
    "        #except:\n",
    "        #    continue\n",
    "            \n",
    "    # drop rows where ARD is not available\n",
    "    train_df = train_df[(train_df.X_tile != 0) & (train_df.Y_tile != 0)]\n",
    "    train_df.to_csv(output_df, index = False)\n",
    "    \n",
    "    return None"
   ]
  },
  {
   "cell_type": "code",
   "execution_count": 7,
   "id": "9e1d188c-f258-42e9-a128-4d39908690d9",
   "metadata": {},
   "outputs": [
    {
     "name": "stdout",
     "output_type": "stream",
     "text": [
      "skipping (446.0, -1.0) 618 614\n",
      "skipping (8.0, 194.0) 618 612\n",
      "skipping (2.0, 265.0) 618 610\n"
     ]
    }
   ],
   "source": [
    "import pandas as pd\n",
    "import numpy as np\n",
    "import rasterio as rs\n",
    "import os\n",
    "check_ard_availability(local_folder = '/Volumes/John/tof-output-2020/', deploy_df = '../../src/process_area_2022.csv',\n",
    "                       train_df = 'ceo-plantations-train-v23-plot.csv', output_df = 'ceo-plantations-train-v23-plot-output.csv',\n",
    "                       pixel_dist=16)"
   ]
  },
  {
   "cell_type": "code",
   "execution_count": null,
   "id": "3d201d0b-2f94-4474-90fb-899d279c79d6",
   "metadata": {},
   "outputs": [],
   "source": []
  }
 ],
 "metadata": {
  "kernelspec": {
   "display_name": "Python 3 (ipykernel)",
   "language": "python",
   "name": "python3"
  },
  "language_info": {
   "codemirror_mode": {
    "name": "ipython",
    "version": 3
   },
   "file_extension": ".py",
   "mimetype": "text/x-python",
   "name": "python",
   "nbconvert_exporter": "python",
   "pygments_lexer": "ipython3",
   "version": "3.10.13"
  }
 },
 "nbformat": 4,
 "nbformat_minor": 5
}
