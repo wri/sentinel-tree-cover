{
 "cells": [
  {
   "cell_type": "code",
   "execution_count": null,
   "metadata": {},
   "outputs": [],
   "source": [
    "import numpy as np \n",
    "\n",
    "import seaborn as sns\n",
    "import matplotlib.pyplot as plt\n",
    "%matplotlib inline\n",
    "import os\n",
    "\n",
    "import rasterio\n",
    "from rasterio.transform import from_origin\n",
    "from tqdm import tnrange, tqdm_notebook\n",
    "from sentinelhub import WmsRequest, WcsRequest, MimeType, CRS, BBox, constants\n",
    "from scipy.ndimage import median_filter\n",
    "from skimage.transform import resize\n",
    "import pandas as pd"
   ]
  },
  {
   "cell_type": "markdown",
   "metadata": {},
   "source": [
    "# Tanzania subregion"
   ]
  },
  {
   "cell_type": "code",
   "execution_count": null,
   "metadata": {},
   "outputs": [],
   "source": [
    "data = pd.read_csv(\"../../data/project-val/tanzania-subregion-val.csv\")\n",
    "data = data.drop('IMAGERY_TITLE', axis = 1)\n",
    "data =data.dropna(axis = 0)\n",
    "data.shape\n",
    "\n",
    "lon = data['LON']\n",
    "lat = data['LAT']\n",
    "label = data['TREE']\n",
    "y_size = len(lat.unique())\n",
    "x_size = len(lon.unique())\n",
    "\n",
    "\n",
    "possible_ys = sorted(lat.unique())\n",
    "possible_xs = sorted(lon.unique())\n",
    "arr = np.empty((y_size, x_size))\n",
    "plot_ids = sorted(list(data['PLOT_ID'].unique()))"
   ]
  },
  {
   "cell_type": "code",
   "execution_count": null,
   "metadata": {},
   "outputs": [],
   "source": [
    "finished = []\n",
    "for x, y, tree in zip(lon, lat, label):\n",
    "    x_id = possible_xs.index(x)\n",
    "    y_id = possible_ys.index(y)\n",
    "    if (x, y) not in finished:\n",
    "        arr[y_id, x_id] = np.min([tree, 1])\n",
    "        finished.append((x, y))\n",
    "plt.figure(figsize=(5, 9))\n",
    "sns.heatmap(np.flipud(arr[:, :]))"
   ]
  },
  {
   "cell_type": "code",
   "execution_count": null,
   "metadata": {},
   "outputs": [],
   "source": [
    "plt.figure(figsize=(5, 9))\n",
    "#sns.heatmap(np.flipud(arr[44:-50, 8:]))\n",
    "sns.heatmap(np.flipud(arr[5:-20, 7:-10]))\n"
   ]
  },
  {
   "cell_type": "markdown",
   "metadata": {},
   "source": [
    "# Ghana subregion"
   ]
  },
  {
   "cell_type": "code",
   "execution_count": null,
   "metadata": {},
   "outputs": [],
   "source": [
    "data = pd.read_csv(\"../../data/project-val/ghana-subregion-val.csv\")\n",
    "data = data.drop('IMAGERY_TITLE', axis = 1)\n",
    "data =data.dropna(axis = 0)\n",
    "data.shape\n",
    "\n",
    "lon = data['LON']\n",
    "lat = data['LAT']\n",
    "label = data['TREE']\n",
    "y_size = len(lat.unique())\n",
    "x_size = len(lon.unique())\n",
    "\n",
    "\n",
    "possible_ys = sorted(lat.unique())\n",
    "possible_xs = sorted(lon.unique())\n",
    "arr = np.empty((y_size, x_size))\n",
    "plot_ids = sorted(list(data['PLOT_ID'].unique()))"
   ]
  },
  {
   "cell_type": "code",
   "execution_count": null,
   "metadata": {},
   "outputs": [],
   "source": [
    "finished = []\n",
    "for x, y, tree in zip(lon, lat, label):\n",
    "    x_id = possible_xs.index(x)\n",
    "    y_id = possible_ys.index(y)\n",
    "    if (x, y) not in finished:\n",
    "        arr[y_id, x_id] = np.min([tree, 1])\n",
    "        finished.append((x, y))\n",
    "plt.figure(figsize=(5, 9))\n",
    "sns.heatmap(np.flipud(arr[44:-50, 8:]))"
   ]
  },
  {
   "cell_type": "markdown",
   "metadata": {},
   "source": [
    "# Honduras subregion"
   ]
  },
  {
   "cell_type": "code",
   "execution_count": null,
   "metadata": {},
   "outputs": [],
   "source": [
    "data = pd.read_csv(\"../../data/project-val/honduras-subregion-val.csv\")\n",
    "data = data.drop('IMAGERY_TITLE', axis = 1)\n",
    "data =data.dropna(axis = 0)\n",
    "data.shape\n",
    "\n",
    "lon = data['LON']\n",
    "lat = data['LAT']\n",
    "label = data['TREE']\n",
    "y_size = len(lat.unique())\n",
    "x_size = len(lon.unique())\n",
    "\n",
    "\n",
    "possible_ys = sorted(lat.unique())\n",
    "possible_xs = sorted(lon.unique())\n",
    "arr = np.empty((y_size, x_size))\n",
    "plot_ids = sorted(list(data['PLOT_ID'].unique()))"
   ]
  },
  {
   "cell_type": "code",
   "execution_count": null,
   "metadata": {},
   "outputs": [],
   "source": [
    "finished = []\n",
    "for x, y, tree in zip(lon, lat, label):\n",
    "    x_id = possible_xs.index(x)\n",
    "    y_id = possible_ys.index(y)\n",
    "    if (x, y) not in finished:\n",
    "        arr[y_id, x_id] = np.min([tree, 1])\n",
    "        finished.append((x, y))\n",
    "plt.figure(figsize=(5, 9))\n",
    "sns.heatmap(np.flipud(arr[:, :]))"
   ]
  }
 ],
 "metadata": {
  "kernelspec": {
   "display_name": "remote_sensing",
   "language": "python",
   "name": "remote_sensing"
  },
  "language_info": {
   "codemirror_mode": {
    "name": "ipython",
    "version": 3
   },
   "file_extension": ".py",
   "mimetype": "text/x-python",
   "name": "python",
   "nbconvert_exporter": "python",
   "pygments_lexer": "ipython3",
   "version": "3.6.8"
  }
 },
 "nbformat": 4,
 "nbformat_minor": 2
}
