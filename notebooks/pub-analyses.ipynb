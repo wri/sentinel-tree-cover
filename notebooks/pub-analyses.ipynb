{
 "cells": [
  {
   "cell_type": "markdown",
   "id": "c43a63cc",
   "metadata": {},
   "source": [
    "# Publication Analyses \n",
    "This notebook contains analyses and statistics for use in the publication. It is organized by section, and indicates where the output will be used in the paper."
   ]
  },
  {
   "cell_type": "code",
   "execution_count": 1,
   "id": "45b584a2",
   "metadata": {},
   "outputs": [],
   "source": [
    "import pandas as pd\n",
    "import numpy as np\n",
    "import matplotlib.pyplot as plt\n",
    "import seaborn as sns\n",
    "\n",
    "import sys\n",
    "#sys.path.append('scripts/')\n",
    "#import statistical_analyses as st\n",
    "\n",
    "%load_ext autoreload\n",
    "%autoreload 2"
   ]
  },
  {
   "cell_type": "markdown",
   "id": "512f8b10",
   "metadata": {},
   "source": [
    "# Aggregate Regional Statistics\n",
    "Combines country level statistics spreadsheets by region."
   ]
  },
  {
   "cell_type": "code",
   "execution_count": 9,
   "id": "daea646f",
   "metadata": {},
   "outputs": [
    {
     "data": {
      "text/plain": [
       "120"
      ]
     },
     "execution_count": 9,
     "metadata": {},
     "output_type": "execute_result"
    }
   ],
   "source": [
    "files = ['Acre', 'Alagoas', 'Amapa', 'Amazonas', 'Bahia', 'Ceara', 'Distrito Federal',\n",
    "                        'Espirito Santo', 'Goias', 'Maranhao', 'Mato Grosso', 'Mato Grosso do Sul',\n",
    "                        'Minas Gerais', 'Para', 'Paraiba', 'Parana', 'Pernambuco', 'Piaui', 'Rio de Janeiro',\n",
    "                        'Rio Grande do Norte', 'Rondonia', 'Roraima','Sao Paulo', 'Sergipe', 'Tocantins']\n",
    "\n",
    "files = files + ['Papua', 'Celebes', 'Sumatra', 'Kalimantan', 'Java']\n",
    "files = files + ['Argentina', 'Belize', 'Bolivia', 'Costa Rica', 'Colombia', 'Chile', \n",
    "                        'Ecuador', 'El Salvador', 'French Guiana', 'Guatemala', 'Honduras', 'Mexico', \n",
    "                        'Nicaragua', 'Panama', 'Paraguay', 'Peru', 'Suriname', 'Venezuela']\n",
    "files = files + ['Caribbean', 'Cuba', 'Dominican Republic', 'Haiti', 'Guyana', 'Jamaica']\n",
    "\n",
    "files = files + ['Benin', 'Burkina Faso', 'Cameroon', 'Gambia', 'Ghana', 'Guinea', 'Guinea-Bissau', \n",
    "                      'Ivory Coast', 'Liberia', 'Mali', 'Mauritania', 'Niger', 'Nigeria',\n",
    "                      'Senegal', 'Sierra Leone', 'Togo']\n",
    "files = files + ['Burundi', 'Ethiopia', 'Eritrea', 'Kenya', 'Madagascar', 'Malawi', 'Mozambique',\n",
    "                        'Rwanda', 'Somalia', 'Tanzania', 'Uganda', 'Zambia', 'Zimbabwe']\n",
    "files = files + ['Botswana', 'Chad', 'Central African Republic', 'Democratic Republic of the Congo',\n",
    "                        'Equatorial Guinea', 'Swaziland', 'Gabon', 'Republic of Congo', 'Sudan', 'South Sudan',\n",
    "                        'Angola', 'Lesotho', 'Namibia', 'South Africa']\n",
    "files = files + ['Australia','Bangladesh', 'Brunei', 'Cambodia', 'China', 'East Timor', 'Hong Kong',\n",
    "                        'India', 'India islands', 'Laos', 'Malaysia', 'Myanmar', 'New Caledonia',\n",
    "                        'Solomon Islands', 'Singapore', 'Sri Lanka', 'Taiwan', 'Thailand', 'Philippines',\n",
    "                        'Vanuatu', 'Vietnam', 'Saudi Arabia', 'Yemen']\n",
    "# missing fiji?\n",
    "len(files)"
   ]
  },
  {
   "cell_type": "code",
   "execution_count": 8,
   "id": "f1017e36",
   "metadata": {},
   "outputs": [],
   "source": [
    "# create Brazil (admins will be mix of states and admin2 districts)\n",
    "st.create_regional_csv(['Acre', 'Alagoas', 'Amapa', 'Amazonas', 'Bahia', 'Ceara', 'Distrito Federal',\n",
    "                        'Espirito Santo', 'Goias', 'Maranhao', 'Mato Grosso', 'Mato Grosso do Sul',\n",
    "                        'Minas Gerais', 'Para', 'Paraiba', 'Parana', 'Pernambuco', 'Piaui', 'Rio de Janeiro',\n",
    "                        'Rio Grande do Norte', 'Rondonia', 'Roraima','Sao Paulo', 'Sergipe', 'Tocantins'],\n",
    "                        'Brazil')"
   ]
  },
  {
   "cell_type": "code",
   "execution_count": 205,
   "id": "d1445cf0",
   "metadata": {},
   "outputs": [],
   "source": [
    "# create Indonesia\n",
    "st.create_regional_csv(['Papua', 'Celebes', 'Sumatra', 'Kalimantan', 'Java'],\n",
    "                       'Indonesia')"
   ]
  },
  {
   "cell_type": "code",
   "execution_count": 13,
   "id": "540a6fa2",
   "metadata": {},
   "outputs": [],
   "source": [
    "# Latin America\n",
    "st.create_regional_csv(['Argentina', 'Belize', 'Bolivia', 'Brazil', 'Costa Rica', 'Colombia', 'Chile', \n",
    "                        'Ecuador', 'El Salvador', 'French Guiana', 'Guatemala', 'Honduras', 'Mexico', \n",
    "                        'Nicaragua', 'Panama', 'Paraguay', 'Peru', 'Suriname', 'Venezuela'], \n",
    "                        'lat_am')"
   ]
  },
  {
   "cell_type": "code",
   "execution_count": 15,
   "id": "46db7a2b",
   "metadata": {},
   "outputs": [],
   "source": [
    "# Caribbean\n",
    "st.create_regional_csv(['Caribbean', 'Cuba', 'Dominican Republic', 'Haiti', 'Guyana', 'Jamaica'],\n",
    "                       'caribbean')"
   ]
  },
  {
   "cell_type": "code",
   "execution_count": 16,
   "id": "df25a114",
   "metadata": {},
   "outputs": [],
   "source": [
    "# West Africa\n",
    "st.create_regional_csv(['Benin', 'Burkina Faso', 'Cameroon', 'Gambia', 'Ghana', 'Guinea', 'Guinea-Bissau', \n",
    "                      'Ivory Coast', 'Liberia', 'Mali', 'Mauritania', 'Niger', 'Nigeria',\n",
    "                      'Senegal', 'Sierra Leone', 'Togo'], \n",
    "                      'west_af')"
   ]
  },
  {
   "cell_type": "code",
   "execution_count": 91,
   "id": "80b8470d",
   "metadata": {},
   "outputs": [],
   "source": [
    "# East Africa\n",
    "st.create_regional_csv(['Burundi', 'Ethiopia', 'Eritrea', 'Kenya', 'Madagascar', 'Malawi', 'Mozambique',\n",
    "                        'Rwanda', 'Somalia', 'Tanzania', 'Uganda', 'Zambia', 'Zimbabwe'], \n",
    "                        'east_af')"
   ]
  },
  {
   "cell_type": "code",
   "execution_count": 92,
   "id": "09bf823e",
   "metadata": {},
   "outputs": [],
   "source": [
    "# Central / South Africa\n",
    "st.create_regional_csv(['Botswana', 'Chad', 'Central African Republic', 'Democratic Republic of the Congo',\n",
    "                        'Equatorial Guinea', 'Swaziland', 'Gabon', 'Republic of Congo', 'Sudan', 'South Sudan',\n",
    "                        'Angola', 'Lesotho', 'Namibia', 'South Africa'], \n",
    "                        'central_south_af')"
   ]
  },
  {
   "cell_type": "code",
   "execution_count": 13,
   "id": "62461f83",
   "metadata": {},
   "outputs": [],
   "source": [
    "# Asia \n",
    "st.create_regional_csv(['Australia','Bangladesh', 'Brunei', 'Cambodia', 'China', 'East Timor', 'Hong Kong',\n",
    "                        'India', 'India islands', 'Indonesia', 'Laos', 'Malaysia', 'Myanmar', 'New Caledonia',\n",
    "                        'Solomon Islands', 'Singapore', 'Sri Lanka', 'Taiwan', 'Thailand', 'Philippines',\n",
    "                        'Vanuatu', 'Vietnam', 'Saudi Arabia', 'Yemen'],\n",
    "                        'asia')"
   ]
  },
  {
   "cell_type": "markdown",
   "id": "3fe327fb",
   "metadata": {},
   "source": [
    "# Supplementary Index\n",
    "\n",
    "## Table 1"
   ]
  },
  {
   "cell_type": "code",
   "execution_count": 18,
   "id": "932604dc",
   "metadata": {},
   "outputs": [],
   "source": [
    "def si_table1(dst_file, regions):\n",
    "    \n",
    "    '''\n",
    "    For insertion in the supplementary index. Creates a table illustrating the following \n",
    "    metrics for cropland and urban areas in each country:\n",
    "    \n",
    "    1) Average tree cover \n",
    "    2) % land containing >10% tree cover.\n",
    "    \n",
    "    Saves table as csv file and returns as df.\n",
    "    \n",
    "    '''\n",
    "    \n",
    "    table = pd.DataFrame(columns=['region',\n",
    "                                 'country',\n",
    "                                 'lcc',\n",
    "                                 'perc_over10',\n",
    "                                 'avg'], dtype=object)\n",
    "\n",
    "    for region in regions:\n",
    "        \n",
    "        region_df = pd.read_csv(f'statistics/{region}.csv')\n",
    "\n",
    "        for country in sorted(set(list(region_df.country.values))):\n",
    "\n",
    "            # Create an ag df for the country\n",
    "            country_df = region_df[region_df.country == country]\n",
    "            ag_ids = [10.0, 11.0, 12.0, 20.0, 30.0, 40.0]\n",
    "            ag_df = country_df[country_df.esa_id.isin(ag_ids)]\n",
    "\n",
    "            # Calculate total TML ag ha >10%\n",
    "            ag_ha = ag_df[['country', 'tree_cover_class', 'tof_ha']].groupby(by=['country', 'tree_cover_class']).sum().reset_index() \n",
    "            ag_ha_over10 = sum(ag_ha.tof_ha[1:])\n",
    "\n",
    "            # Calculate total ha (sum of tof ha == sum of esa sampled)\n",
    "            ag_sampled = sum(ag_ha.tof_ha) \n",
    "\n",
    "            # quick assertion that total is accurate\n",
    "            ag_sampled_check = ag_df[['country', 'admin', 'esa_id', 'esa_sampled_ha']].drop_duplicates()\n",
    "            ag_sampled_check = ag_sampled_check.groupby(by=['country']).sum().reset_index() \n",
    "            ag_sampled_check = ag_sampled_check.esa_sampled_ha[0]\n",
    "            \n",
    "            if ag_sampled != ag_sampled_check:\n",
    "                print(f'Warning: {country} does not pass ag check')\n",
    "            \n",
    "            # % ag land with >10% cover\n",
    "            ag_perc_over10 = (ag_ha_over10 / ag_sampled) * 100\n",
    "\n",
    "            # avg tree cover \n",
    "            ag_avg = ag_df[['country', 'admin', 'tof_mean']].drop_duplicates(ignore_index=True)\n",
    "            ag_avg = ag_avg.groupby('country').mean().reset_index()\n",
    "\n",
    "            table = table.append({'region': region, \n",
    "                                'country': country,\n",
    "                                'lcc': 'Cropland',\n",
    "                                'perc_over10': round(ag_perc_over10, 2),\n",
    "                                'avg': round(ag_avg.tof_mean[0], 2)},\n",
    "                                ignore_index=True)\n",
    "\n",
    "\n",
    "            # Create an urban df for the country\n",
    "            urban_ids = [190.0]\n",
    "            urban_df = country_df[country_df.esa_id.isin(urban_ids)]\n",
    "            \n",
    "            # Calculate total TML urban ha >10%\n",
    "            urban_ha = urban_df[['country', 'tree_cover_class', 'tof_ha']].groupby(by=['country', 'tree_cover_class']).sum().reset_index() \n",
    "            urban_ha_over10 = sum(urban_ha.tof_ha[1:])\n",
    "            \n",
    "            # total sampled urban ha\n",
    "            urban_sampled = sum(urban_ha.tof_ha)\n",
    "            \n",
    "            # quick assertion that total is accurate\n",
    "            urban_sampled_check = urban_df[['country', 'admin', 'esa_id', 'esa_sampled_ha']].drop_duplicates()\n",
    "            urban_sampled_check = urban_sampled_check.groupby(by=['country']).sum().reset_index() \n",
    "            urban_sampled_check = urban_sampled_check.esa_sampled_ha[0]\n",
    "\n",
    "            if urban_sampled != urban_sampled_check:\n",
    "                print(f'Warning: {country} does not pass urban check')\n",
    "            \n",
    "            # % urban land with >10% cover\n",
    "            urban_perc_over10 = (urban_ha_over10 / urban_sampled) * 100\n",
    "\n",
    "            # avg tree cover\n",
    "            urban_avg = urban_df[['country', 'admin', 'tof_mean']].drop_duplicates(ignore_index=True)\n",
    "            urban_avg = urban_avg.groupby('country').mean().reset_index()\n",
    "\n",
    "            table = table.append({'region': region, \n",
    "                                'country': country,\n",
    "                                'lcc': 'Urban',\n",
    "                                'perc_over10': round(urban_perc_over10, 2),\n",
    "                                'avg': round(urban_avg.tof_mean[0], 2)},\n",
    "                                ignore_index=True)         \n",
    "\n",
    "    table.to_csv(dst_file, index=False)\n",
    "\n",
    "    return table"
   ]
  },
  {
   "cell_type": "code",
   "execution_count": 15,
   "id": "50477c5b",
   "metadata": {},
   "outputs": [
    {
     "name": "stdout",
     "output_type": "stream",
     "text": [
      "Warning: Australia does not pass ag check\n"
     ]
    }
   ],
   "source": [
    "si = si_table1('statistics/si_table1.csv', ['lat_am', 'caribbean', 'west_af', 'east_af', 'central_south_af', 'asia'])"
   ]
  },
  {
   "cell_type": "markdown",
   "id": "12bbd4b0",
   "metadata": {},
   "source": [
    "# Main Paper"
   ]
  },
  {
   "cell_type": "markdown",
   "id": "e97a5c5f",
   "metadata": {},
   "source": [
    "## Results"
   ]
  },
  {
   "cell_type": "code",
   "execution_count": 8,
   "id": "37e7449b",
   "metadata": {},
   "outputs": [],
   "source": [
    "def total_ha(dst_file, regions):\n",
    "    \n",
    "    '''\n",
    "    For insertion of statistics in the \"Results\" section. Creates a table illustrating \n",
    "    the following metrics for cropland and urban areas in each country:\n",
    "\n",
    "    1) Total ha above 10% \n",
    "    \n",
    "    Saves table as csv file and returns as df.\n",
    "    \n",
    "    '''\n",
    "    \n",
    "    table = pd.DataFrame(columns=['region', 'country', 'lcc', 'ha_over10'], dtype=object)\n",
    "\n",
    "    for region in regions:\n",
    "        \n",
    "        region_df = pd.read_csv(f'stats/{region}.csv')\n",
    "\n",
    "        for country in sorted(set(list(region_df.country.values))):\n",
    "\n",
    "            country_df = region_df[region_df.country == country]\n",
    "\n",
    "            # add cropland (ag) analyses\n",
    "            ag_ids = [10.0, 11.0, 12.0, 20.0, 30.0, 40.0]\n",
    "            ag_df = country_df[country_df.esa_id.isin(ag_ids)]\n",
    "            ag_df = ag_df[['country', 'admin', 'tree_cover_class', 'tof_ha']]\n",
    "            \n",
    "            # sum all cropland ha >10\n",
    "            ag_over10 = ag_df[ag_df.tree_cover_class != '0-9']\n",
    "            ag_over10 = sum(ag_over10.tof_ha)\n",
    "\n",
    "           \n",
    "            table = table.append({'region': region, \n",
    "                                'country': country,\n",
    "                                'lcc': 'Cropland',\n",
    "                                'ha_over10': ag_over10},\n",
    "                                ignore_index=True)\n",
    "            \n",
    "            # add urban analyses\n",
    "            urban_ids = [190.0]\n",
    "            urban_df = country_df[country_df.esa_id.isin(urban_ids)]\n",
    "            urban_df = urban_df[['country', 'admin', 'tree_cover_class', 'tof_ha']]\n",
    "            \n",
    "            # sum all urban ha >10\n",
    "            urban_over10 = urban_df[urban_df.tree_cover_class != '0-9']\n",
    "            urban_over10 = sum(urban_over10.tof_ha)\n",
    "\n",
    "           \n",
    "            table = table.append({'region': region, \n",
    "                                'country': country,\n",
    "                                'lcc': 'Urban',\n",
    "                                'ha_over10': urban_over10},\n",
    "                                ignore_index=True)\n",
    "            \n",
    "    #table.to_csv(dst_file, index=False)\n",
    "    print(f'Total ha of cropland >10%: {table.groupby(\"lcc\")[\"ha_over10\"].sum()[0]}')\n",
    "    print(f'Total ha of urban land >10%: {table.groupby(\"lcc\")[\"ha_over10\"].sum()[1]}')\n",
    "    print(f'Total ha of land >10%: {table[\"ha_over10\"].sum()}')\n",
    "    \n",
    "    return table\n"
   ]
  },
  {
   "cell_type": "code",
   "execution_count": 9,
   "id": "a341bb4f",
   "metadata": {},
   "outputs": [
    {
     "name": "stdout",
     "output_type": "stream",
     "text": [
      "Total ha of cropland >10%: 1550405\n",
      "Total ha of urban land >10%: 52494\n",
      "Total ha of land >10%: 1602899\n"
     ]
    }
   ],
   "source": [
    "results = total_ha(None, ['Guatemala'])"
   ]
  },
  {
   "cell_type": "code",
   "execution_count": 22,
   "id": "549959f6",
   "metadata": {},
   "outputs": [
    {
     "name": "stdout",
     "output_type": "stream",
     "text": [
      "Total ha of cropland >10%: 321516190\n",
      "Total ha of urban land >10%: 4489620\n"
     ]
    }
   ],
   "source": [
    "results = total_ha('statistics/results_totalha.csv', ['lat_am', 'caribbean', 'west_af', 'east_af', 'central_south_af'])"
   ]
  },
  {
   "cell_type": "code",
   "execution_count": 28,
   "id": "f69f2ddc",
   "metadata": {},
   "outputs": [],
   "source": [
    "def total_ha_pantropics(regions):\n",
    "    \n",
    "    table = pd.DataFrame(columns=['region', 'country', 'ha_over10'], dtype=object)\n",
    "    #regions = ['lat_am', 'caribbean', 'west_af', 'east_af', 'central_south_af']\n",
    "    \n",
    "    for region in regions:\n",
    "        \n",
    "        region_df = pd.read_csv(f'stats/{region}.csv')\n",
    "\n",
    "        for country in sorted(set(list(region_df.country.values))):\n",
    "\n",
    "            country_df = region_df[region_df.country == country]\n",
    "            \n",
    "            over10 = country_df[country_df.tree_cover_class != '0-9']\n",
    "            over10 = sum(over10.tof_ha)\n",
    "            \n",
    "            table = table.append({'region': region, \n",
    "                                 'country': country,\n",
    "                                 'ha_over10': over10},\n",
    "                                  ignore_index=True)\n",
    "    \n",
    "    #table.to_csv(dst_file, index=False)\n",
    "        print(f'Total km of land >10% in {region}: {table.ha_over10.sum() / 1e2}')\n",
    "\n",
    "    return table"
   ]
  },
  {
   "cell_type": "code",
   "execution_count": 29,
   "id": "15b382be",
   "metadata": {},
   "outputs": [
    {
     "name": "stdout",
     "output_type": "stream",
     "text": [
      "Total km of land >10% in Mali: 209734.66\n",
      "Total km of land >10% in Guatemala: 86630.13\n",
      "Total km of land >10% in Tanzania: 600981.16\n"
     ]
    }
   ],
   "source": [
    "total = total_ha_pantropics(['Mali'])\n",
    "total = total_ha_pantropics(['Guatemala'])\n",
    "total = total_ha_pantropics(['Tanzania'])"
   ]
  },
  {
   "cell_type": "markdown",
   "id": "2659415c",
   "metadata": {},
   "source": [
    "## Table 3\n",
    "The extent of trees on, and tree cover of, urban and cropland within the tropics. "
   ]
  },
  {
   "cell_type": "code",
   "execution_count": 5,
   "id": "8338c51e",
   "metadata": {},
   "outputs": [],
   "source": [
    "def main_table3(dst_file):\n",
    "    \n",
    "    '''\n",
    "    Creates a table illustrating the following metrics for cropland and urban areas in each region:\n",
    "    1) Average tree cover per land cover class.\n",
    "    2) % cropland and urban land containing >10% tree cover.\n",
    "    \n",
    "    Saves table as csv file and returns as df.\n",
    "    '''\n",
    "    df = pd.read_csv('statistics/si_table1.csv')\n",
    "    \n",
    "    region_avg = df.groupby(['region', 'lcc']).mean().reset_index()\n",
    "    region_avg = region_avg.round(2)\n",
    "    \n",
    "    region_avg.to_csv(dst_file, index=False)\n",
    "    \n",
    "    return region_avg"
   ]
  },
  {
   "cell_type": "code",
   "execution_count": 6,
   "id": "683314f7",
   "metadata": {},
   "outputs": [],
   "source": [
    "df = main_table3('statistics/main_table3.csv')"
   ]
  },
  {
   "cell_type": "code",
   "execution_count": 7,
   "id": "a9001355",
   "metadata": {},
   "outputs": [
    {
     "data": {
      "text/html": [
       "<div>\n",
       "<style scoped>\n",
       "    .dataframe tbody tr th:only-of-type {\n",
       "        vertical-align: middle;\n",
       "    }\n",
       "\n",
       "    .dataframe tbody tr th {\n",
       "        vertical-align: top;\n",
       "    }\n",
       "\n",
       "    .dataframe thead th {\n",
       "        text-align: right;\n",
       "    }\n",
       "</style>\n",
       "<table border=\"1\" class=\"dataframe\">\n",
       "  <thead>\n",
       "    <tr style=\"text-align: right;\">\n",
       "      <th></th>\n",
       "      <th>region</th>\n",
       "      <th>lcc</th>\n",
       "      <th>perc_over10</th>\n",
       "      <th>avg</th>\n",
       "    </tr>\n",
       "  </thead>\n",
       "  <tbody>\n",
       "    <tr>\n",
       "      <th>0</th>\n",
       "      <td>asia</td>\n",
       "      <td>Cropland</td>\n",
       "      <td>65.86</td>\n",
       "      <td>37.40</td>\n",
       "    </tr>\n",
       "    <tr>\n",
       "      <th>1</th>\n",
       "      <td>asia</td>\n",
       "      <td>Urban</td>\n",
       "      <td>63.26</td>\n",
       "      <td>26.99</td>\n",
       "    </tr>\n",
       "    <tr>\n",
       "      <th>2</th>\n",
       "      <td>caribbean</td>\n",
       "      <td>Cropland</td>\n",
       "      <td>65.07</td>\n",
       "      <td>35.48</td>\n",
       "    </tr>\n",
       "    <tr>\n",
       "      <th>3</th>\n",
       "      <td>caribbean</td>\n",
       "      <td>Urban</td>\n",
       "      <td>71.45</td>\n",
       "      <td>27.23</td>\n",
       "    </tr>\n",
       "    <tr>\n",
       "      <th>4</th>\n",
       "      <td>central_south_af</td>\n",
       "      <td>Cropland</td>\n",
       "      <td>51.45</td>\n",
       "      <td>29.69</td>\n",
       "    </tr>\n",
       "    <tr>\n",
       "      <th>5</th>\n",
       "      <td>central_south_af</td>\n",
       "      <td>Urban</td>\n",
       "      <td>50.73</td>\n",
       "      <td>17.75</td>\n",
       "    </tr>\n",
       "    <tr>\n",
       "      <th>6</th>\n",
       "      <td>east_af</td>\n",
       "      <td>Cropland</td>\n",
       "      <td>52.20</td>\n",
       "      <td>23.01</td>\n",
       "    </tr>\n",
       "    <tr>\n",
       "      <th>7</th>\n",
       "      <td>east_af</td>\n",
       "      <td>Urban</td>\n",
       "      <td>44.61</td>\n",
       "      <td>14.96</td>\n",
       "    </tr>\n",
       "    <tr>\n",
       "      <th>8</th>\n",
       "      <td>lat_am</td>\n",
       "      <td>Cropland</td>\n",
       "      <td>55.23</td>\n",
       "      <td>29.53</td>\n",
       "    </tr>\n",
       "    <tr>\n",
       "      <th>9</th>\n",
       "      <td>lat_am</td>\n",
       "      <td>Urban</td>\n",
       "      <td>53.27</td>\n",
       "      <td>21.71</td>\n",
       "    </tr>\n",
       "    <tr>\n",
       "      <th>10</th>\n",
       "      <td>west_af</td>\n",
       "      <td>Cropland</td>\n",
       "      <td>54.27</td>\n",
       "      <td>31.50</td>\n",
       "    </tr>\n",
       "    <tr>\n",
       "      <th>11</th>\n",
       "      <td>west_af</td>\n",
       "      <td>Urban</td>\n",
       "      <td>45.50</td>\n",
       "      <td>14.94</td>\n",
       "    </tr>\n",
       "  </tbody>\n",
       "</table>\n",
       "</div>"
      ],
      "text/plain": [
       "              region       lcc  perc_over10    avg\n",
       "0               asia  Cropland        65.86  37.40\n",
       "1               asia     Urban        63.26  26.99\n",
       "2          caribbean  Cropland        65.07  35.48\n",
       "3          caribbean     Urban        71.45  27.23\n",
       "4   central_south_af  Cropland        51.45  29.69\n",
       "5   central_south_af     Urban        50.73  17.75\n",
       "6            east_af  Cropland        52.20  23.01\n",
       "7            east_af     Urban        44.61  14.96\n",
       "8             lat_am  Cropland        55.23  29.53\n",
       "9             lat_am     Urban        53.27  21.71\n",
       "10           west_af  Cropland        54.27  31.50\n",
       "11           west_af     Urban        45.50  14.94"
      ]
     },
     "execution_count": 7,
     "metadata": {},
     "output_type": "execute_result"
    }
   ],
   "source": [
    "df"
   ]
  },
  {
   "cell_type": "code",
   "execution_count": 10,
   "id": "2c230960",
   "metadata": {},
   "outputs": [
    {
     "data": {
      "text/plain": [
       "57.346666666666664"
      ]
     },
     "execution_count": 10,
     "metadata": {},
     "output_type": "execute_result"
    }
   ],
   "source": [
    "# calculate average cropland >10% in tropics\n",
    "cropland = df[df.lcc == 'Cropland']\n",
    "mean_cropland = cropland.perc_over10.mean()\n",
    "mean_cropland"
   ]
  },
  {
   "cell_type": "code",
   "execution_count": 11,
   "id": "f5b73711",
   "metadata": {},
   "outputs": [
    {
     "data": {
      "text/plain": [
       "54.803333333333335"
      ]
     },
     "execution_count": 11,
     "metadata": {},
     "output_type": "execute_result"
    }
   ],
   "source": [
    "# calculate average urban >10% in tropics\n",
    "urban = df[df.lcc == 'Urban']\n",
    "mean_urban = urban.perc_over10.mean()\n",
    "mean_urban"
   ]
  },
  {
   "cell_type": "code",
   "execution_count": 21,
   "id": "358e8b85",
   "metadata": {},
   "outputs": [],
   "source": [
    "def main_table1(region):\n",
    "    \n",
    "    '''\n",
    "    Creates a table illustrating the following metrics for cropland and urban areas in each region:\n",
    "    1) Average tree cover per land cover class.\n",
    "    2) % cropland and urban land containing >10% tree cover.\n",
    "    \n",
    "    Saves table as csv file and returns as df.\n",
    "    '''\n",
    "    \n",
    "    df = pd.read_csv(f'statistics/{region}.csv')\n",
    "    \n",
    "    # filter df to one line per lcc, per admin, per country\n",
    "    df = df[['country', 'admin', 'esa_id', 'esa_class', 'tof_mean']].drop_duplicates(ignore_index=True)\n",
    "\n",
    "    # get the average tree cover per country\n",
    "    country_avg = df[['country', 'tof_mean']].groupby('country').mean().reset_index()\n",
    "    \n",
    "    # get the regional average\n",
    "    regional_avg = round(country_avg.tof_mean.mean(), 2)\n",
    "    \n",
    "    return country_avg, regional_avg\n"
   ]
  },
  {
   "cell_type": "code",
   "execution_count": 54,
   "id": "895888de",
   "metadata": {},
   "outputs": [],
   "source": [
    "la_country_avg, la_regional_avg = avg_tree_cover_regional('lat_am')"
   ]
  },
  {
   "cell_type": "code",
   "execution_count": 55,
   "id": "1b16e917",
   "metadata": {},
   "outputs": [
    {
     "data": {
      "text/plain": [
       "37.52"
      ]
     },
     "execution_count": 55,
     "metadata": {},
     "output_type": "execute_result"
    }
   ],
   "source": [
    "la_regional_avg"
   ]
  },
  {
   "cell_type": "code",
   "execution_count": 56,
   "id": "e0c0cdc8",
   "metadata": {},
   "outputs": [
    {
     "data": {
      "text/html": [
       "<div>\n",
       "<style scoped>\n",
       "    .dataframe tbody tr th:only-of-type {\n",
       "        vertical-align: middle;\n",
       "    }\n",
       "\n",
       "    .dataframe tbody tr th {\n",
       "        vertical-align: top;\n",
       "    }\n",
       "\n",
       "    .dataframe thead th {\n",
       "        text-align: right;\n",
       "    }\n",
       "</style>\n",
       "<table border=\"1\" class=\"dataframe\">\n",
       "  <thead>\n",
       "    <tr style=\"text-align: right;\">\n",
       "      <th></th>\n",
       "      <th>country</th>\n",
       "      <th>tof_mean</th>\n",
       "    </tr>\n",
       "  </thead>\n",
       "  <tbody>\n",
       "    <tr>\n",
       "      <th>0</th>\n",
       "      <td>Belize</td>\n",
       "      <td>33.171111</td>\n",
       "    </tr>\n",
       "    <tr>\n",
       "      <th>1</th>\n",
       "      <td>Costa Rica</td>\n",
       "      <td>38.207190</td>\n",
       "    </tr>\n",
       "    <tr>\n",
       "      <th>2</th>\n",
       "      <td>El Salvador</td>\n",
       "      <td>37.859950</td>\n",
       "    </tr>\n",
       "    <tr>\n",
       "      <th>3</th>\n",
       "      <td>Guatemala</td>\n",
       "      <td>41.923313</td>\n",
       "    </tr>\n",
       "    <tr>\n",
       "      <th>4</th>\n",
       "      <td>Honduras</td>\n",
       "      <td>39.987024</td>\n",
       "    </tr>\n",
       "    <tr>\n",
       "      <th>5</th>\n",
       "      <td>Nicaragua</td>\n",
       "      <td>36.550468</td>\n",
       "    </tr>\n",
       "    <tr>\n",
       "      <th>6</th>\n",
       "      <td>Panama</td>\n",
       "      <td>45.803624</td>\n",
       "    </tr>\n",
       "    <tr>\n",
       "      <th>7</th>\n",
       "      <td>Paraguay</td>\n",
       "      <td>26.634319</td>\n",
       "    </tr>\n",
       "  </tbody>\n",
       "</table>\n",
       "</div>"
      ],
      "text/plain": [
       "       country   tof_mean\n",
       "0       Belize  33.171111\n",
       "1   Costa Rica  38.207190\n",
       "2  El Salvador  37.859950\n",
       "3    Guatemala  41.923313\n",
       "4     Honduras  39.987024\n",
       "5    Nicaragua  36.550468\n",
       "6       Panama  45.803624\n",
       "7     Paraguay  26.634319"
      ]
     },
     "execution_count": 56,
     "metadata": {},
     "output_type": "execute_result"
    }
   ],
   "source": [
    "la_country_avg"
   ]
  },
  {
   "cell_type": "code",
   "execution_count": 57,
   "id": "e1b64ec1",
   "metadata": {},
   "outputs": [],
   "source": [
    "wa_country_avg, wa_regional_avg = avg_tree_cover_regional('west_af')"
   ]
  },
  {
   "cell_type": "code",
   "execution_count": 58,
   "id": "ec8525b7",
   "metadata": {},
   "outputs": [
    {
     "data": {
      "text/plain": [
       "27.37"
      ]
     },
     "execution_count": 58,
     "metadata": {},
     "output_type": "execute_result"
    }
   ],
   "source": [
    "wa_regional_avg"
   ]
  },
  {
   "cell_type": "code",
   "execution_count": 59,
   "id": "73ef3b5b",
   "metadata": {},
   "outputs": [
    {
     "data": {
      "text/html": [
       "<div>\n",
       "<style scoped>\n",
       "    .dataframe tbody tr th:only-of-type {\n",
       "        vertical-align: middle;\n",
       "    }\n",
       "\n",
       "    .dataframe tbody tr th {\n",
       "        vertical-align: top;\n",
       "    }\n",
       "\n",
       "    .dataframe thead th {\n",
       "        text-align: right;\n",
       "    }\n",
       "</style>\n",
       "<table border=\"1\" class=\"dataframe\">\n",
       "  <thead>\n",
       "    <tr style=\"text-align: right;\">\n",
       "      <th></th>\n",
       "      <th>country</th>\n",
       "      <th>tof_mean</th>\n",
       "    </tr>\n",
       "  </thead>\n",
       "  <tbody>\n",
       "    <tr>\n",
       "      <th>0</th>\n",
       "      <td>Benin</td>\n",
       "      <td>19.830355</td>\n",
       "    </tr>\n",
       "    <tr>\n",
       "      <th>1</th>\n",
       "      <td>Burkina Faso</td>\n",
       "      <td>17.107922</td>\n",
       "    </tr>\n",
       "    <tr>\n",
       "      <th>2</th>\n",
       "      <td>Gambia</td>\n",
       "      <td>33.805464</td>\n",
       "    </tr>\n",
       "    <tr>\n",
       "      <th>3</th>\n",
       "      <td>Ghana</td>\n",
       "      <td>21.394469</td>\n",
       "    </tr>\n",
       "    <tr>\n",
       "      <th>4</th>\n",
       "      <td>Guinea</td>\n",
       "      <td>35.784328</td>\n",
       "    </tr>\n",
       "    <tr>\n",
       "      <th>5</th>\n",
       "      <td>Guinea Bissau</td>\n",
       "      <td>38.091484</td>\n",
       "    </tr>\n",
       "    <tr>\n",
       "      <th>6</th>\n",
       "      <td>Ivory Coast</td>\n",
       "      <td>39.294233</td>\n",
       "    </tr>\n",
       "    <tr>\n",
       "      <th>7</th>\n",
       "      <td>Liberia</td>\n",
       "      <td>55.827200</td>\n",
       "    </tr>\n",
       "    <tr>\n",
       "      <th>8</th>\n",
       "      <td>Mali</td>\n",
       "      <td>16.698218</td>\n",
       "    </tr>\n",
       "    <tr>\n",
       "      <th>9</th>\n",
       "      <td>Mauritania</td>\n",
       "      <td>9.144545</td>\n",
       "    </tr>\n",
       "    <tr>\n",
       "      <th>10</th>\n",
       "      <td>Niger</td>\n",
       "      <td>9.672887</td>\n",
       "    </tr>\n",
       "    <tr>\n",
       "      <th>11</th>\n",
       "      <td>Nigeria</td>\n",
       "      <td>30.409799</td>\n",
       "    </tr>\n",
       "    <tr>\n",
       "      <th>12</th>\n",
       "      <td>Senegal</td>\n",
       "      <td>22.628682</td>\n",
       "    </tr>\n",
       "    <tr>\n",
       "      <th>13</th>\n",
       "      <td>Sierra Leone</td>\n",
       "      <td>40.636165</td>\n",
       "    </tr>\n",
       "    <tr>\n",
       "      <th>14</th>\n",
       "      <td>Togo</td>\n",
       "      <td>20.195000</td>\n",
       "    </tr>\n",
       "  </tbody>\n",
       "</table>\n",
       "</div>"
      ],
      "text/plain": [
       "          country   tof_mean\n",
       "0           Benin  19.830355\n",
       "1    Burkina Faso  17.107922\n",
       "2          Gambia  33.805464\n",
       "3           Ghana  21.394469\n",
       "4          Guinea  35.784328\n",
       "5   Guinea Bissau  38.091484\n",
       "6     Ivory Coast  39.294233\n",
       "7         Liberia  55.827200\n",
       "8            Mali  16.698218\n",
       "9      Mauritania   9.144545\n",
       "10          Niger   9.672887\n",
       "11        Nigeria  30.409799\n",
       "12        Senegal  22.628682\n",
       "13   Sierra Leone  40.636165\n",
       "14           Togo  20.195000"
      ]
     },
     "execution_count": 59,
     "metadata": {},
     "output_type": "execute_result"
    }
   ],
   "source": [
    "wa_country_avg"
   ]
  },
  {
   "cell_type": "code",
   "execution_count": 60,
   "id": "18bc23a4",
   "metadata": {},
   "outputs": [],
   "source": [
    "ea_country_avg, ea_regional_avg = avg_tree_cover_regional('east_af')"
   ]
  },
  {
   "cell_type": "code",
   "execution_count": 61,
   "id": "c797057b",
   "metadata": {},
   "outputs": [
    {
     "data": {
      "text/plain": [
       "23.29"
      ]
     },
     "execution_count": 61,
     "metadata": {},
     "output_type": "execute_result"
    }
   ],
   "source": [
    "ea_regional_avg"
   ]
  },
  {
   "cell_type": "code",
   "execution_count": 62,
   "id": "d8ef45ec",
   "metadata": {},
   "outputs": [
    {
     "data": {
      "text/html": [
       "<div>\n",
       "<style scoped>\n",
       "    .dataframe tbody tr th:only-of-type {\n",
       "        vertical-align: middle;\n",
       "    }\n",
       "\n",
       "    .dataframe tbody tr th {\n",
       "        vertical-align: top;\n",
       "    }\n",
       "\n",
       "    .dataframe thead th {\n",
       "        text-align: right;\n",
       "    }\n",
       "</style>\n",
       "<table border=\"1\" class=\"dataframe\">\n",
       "  <thead>\n",
       "    <tr style=\"text-align: right;\">\n",
       "      <th></th>\n",
       "      <th>country</th>\n",
       "      <th>tof_mean</th>\n",
       "    </tr>\n",
       "  </thead>\n",
       "  <tbody>\n",
       "    <tr>\n",
       "      <th>0</th>\n",
       "      <td>Eritrea</td>\n",
       "      <td>15.137423</td>\n",
       "    </tr>\n",
       "    <tr>\n",
       "      <th>1</th>\n",
       "      <td>Ethiopia</td>\n",
       "      <td>23.946181</td>\n",
       "    </tr>\n",
       "    <tr>\n",
       "      <th>2</th>\n",
       "      <td>Kenya</td>\n",
       "      <td>29.861059</td>\n",
       "    </tr>\n",
       "    <tr>\n",
       "      <th>3</th>\n",
       "      <td>Madagascar</td>\n",
       "      <td>25.360762</td>\n",
       "    </tr>\n",
       "    <tr>\n",
       "      <th>4</th>\n",
       "      <td>Rwanda</td>\n",
       "      <td>27.784130</td>\n",
       "    </tr>\n",
       "    <tr>\n",
       "      <th>5</th>\n",
       "      <td>South Sudan</td>\n",
       "      <td>25.552124</td>\n",
       "    </tr>\n",
       "    <tr>\n",
       "      <th>6</th>\n",
       "      <td>Sudan</td>\n",
       "      <td>15.404814</td>\n",
       "    </tr>\n",
       "  </tbody>\n",
       "</table>\n",
       "</div>"
      ],
      "text/plain": [
       "       country   tof_mean\n",
       "0      Eritrea  15.137423\n",
       "1     Ethiopia  23.946181\n",
       "2        Kenya  29.861059\n",
       "3   Madagascar  25.360762\n",
       "4       Rwanda  27.784130\n",
       "5  South Sudan  25.552124\n",
       "6        Sudan  15.404814"
      ]
     },
     "execution_count": 62,
     "metadata": {},
     "output_type": "execute_result"
    }
   ],
   "source": [
    "ea_country_avg"
   ]
  },
  {
   "cell_type": "markdown",
   "id": "01f6af2f",
   "metadata": {},
   "source": [
    "## Discussion"
   ]
  },
  {
   "cell_type": "markdown",
   "id": "0d101846",
   "metadata": {},
   "source": [
    "### Urban tree cover"
   ]
  },
  {
   "cell_type": "code",
   "execution_count": 18,
   "id": "1553291c",
   "metadata": {},
   "outputs": [
    {
     "data": {
      "text/html": [
       "<div>\n",
       "<style scoped>\n",
       "    .dataframe tbody tr th:only-of-type {\n",
       "        vertical-align: middle;\n",
       "    }\n",
       "\n",
       "    .dataframe tbody tr th {\n",
       "        vertical-align: top;\n",
       "    }\n",
       "\n",
       "    .dataframe thead th {\n",
       "        text-align: right;\n",
       "    }\n",
       "</style>\n",
       "<table border=\"1\" class=\"dataframe\">\n",
       "  <thead>\n",
       "    <tr style=\"text-align: right;\">\n",
       "      <th></th>\n",
       "      <th>region</th>\n",
       "      <th>country</th>\n",
       "      <th>lcc</th>\n",
       "      <th>perc_over10</th>\n",
       "      <th>avg</th>\n",
       "    </tr>\n",
       "  </thead>\n",
       "  <tbody>\n",
       "    <tr>\n",
       "      <th>173</th>\n",
       "      <td>asia</td>\n",
       "      <td>Sri Lanka</td>\n",
       "      <td>Urban</td>\n",
       "      <td>88.76</td>\n",
       "      <td>39.01</td>\n",
       "    </tr>\n",
       "    <tr>\n",
       "      <th>179</th>\n",
       "      <td>asia</td>\n",
       "      <td>Vanuatu</td>\n",
       "      <td>Urban</td>\n",
       "      <td>88.70</td>\n",
       "      <td>55.38</td>\n",
       "    </tr>\n",
       "    <tr>\n",
       "      <th>171</th>\n",
       "      <td>asia</td>\n",
       "      <td>Solomon Islands</td>\n",
       "      <td>Urban</td>\n",
       "      <td>85.94</td>\n",
       "      <td>57.13</td>\n",
       "    </tr>\n",
       "    <tr>\n",
       "      <th>141</th>\n",
       "      <td>asia</td>\n",
       "      <td>Brunei</td>\n",
       "      <td>Urban</td>\n",
       "      <td>79.88</td>\n",
       "      <td>29.80</td>\n",
       "    </tr>\n",
       "    <tr>\n",
       "      <th>153</th>\n",
       "      <td>asia</td>\n",
       "      <td>India Islands</td>\n",
       "      <td>Urban</td>\n",
       "      <td>78.16</td>\n",
       "      <td>40.10</td>\n",
       "    </tr>\n",
       "    <tr>\n",
       "      <th>157</th>\n",
       "      <td>asia</td>\n",
       "      <td>Laos</td>\n",
       "      <td>Urban</td>\n",
       "      <td>76.83</td>\n",
       "      <td>22.34</td>\n",
       "    </tr>\n",
       "    <tr>\n",
       "      <th>177</th>\n",
       "      <td>asia</td>\n",
       "      <td>Thailand</td>\n",
       "      <td>Urban</td>\n",
       "      <td>74.87</td>\n",
       "      <td>28.10</td>\n",
       "    </tr>\n",
       "    <tr>\n",
       "      <th>161</th>\n",
       "      <td>asia</td>\n",
       "      <td>Myanmar</td>\n",
       "      <td>Urban</td>\n",
       "      <td>74.67</td>\n",
       "      <td>31.57</td>\n",
       "    </tr>\n",
       "    <tr>\n",
       "      <th>139</th>\n",
       "      <td>asia</td>\n",
       "      <td>Bangladesh</td>\n",
       "      <td>Urban</td>\n",
       "      <td>73.69</td>\n",
       "      <td>31.35</td>\n",
       "    </tr>\n",
       "  </tbody>\n",
       "</table>\n",
       "</div>"
      ],
      "text/plain": [
       "    region          country    lcc  perc_over10    avg\n",
       "173   asia        Sri Lanka  Urban        88.76  39.01\n",
       "179   asia          Vanuatu  Urban        88.70  55.38\n",
       "171   asia  Solomon Islands  Urban        85.94  57.13\n",
       "141   asia           Brunei  Urban        79.88  29.80\n",
       "153   asia    India Islands  Urban        78.16  40.10\n",
       "157   asia             Laos  Urban        76.83  22.34\n",
       "177   asia         Thailand  Urban        74.87  28.10\n",
       "161   asia          Myanmar  Urban        74.67  31.57\n",
       "139   asia       Bangladesh  Urban        73.69  31.35"
      ]
     },
     "execution_count": 18,
     "metadata": {},
     "output_type": "execute_result"
    }
   ],
   "source": [
    "# use SI table to display results highest avg tree cover in urban areas (top 20)\n",
    "urban = si[si.lcc == 'Urban']\n",
    "top20 = urban.sort_values(by='perc_over10', ascending=False)[:20]\n",
    "top20[top20.region == 'asia']"
   ]
  },
  {
   "cell_type": "code",
   "execution_count": 19,
   "id": "ddff30d9",
   "metadata": {},
   "outputs": [
    {
     "data": {
      "text/html": [
       "<div>\n",
       "<style scoped>\n",
       "    .dataframe tbody tr th:only-of-type {\n",
       "        vertical-align: middle;\n",
       "    }\n",
       "\n",
       "    .dataframe tbody tr th {\n",
       "        vertical-align: top;\n",
       "    }\n",
       "\n",
       "    .dataframe thead th {\n",
       "        text-align: right;\n",
       "    }\n",
       "</style>\n",
       "<table border=\"1\" class=\"dataframe\">\n",
       "  <thead>\n",
       "    <tr style=\"text-align: right;\">\n",
       "      <th></th>\n",
       "      <th>region</th>\n",
       "      <th>country</th>\n",
       "      <th>lcc</th>\n",
       "      <th>perc_over10</th>\n",
       "      <th>avg</th>\n",
       "    </tr>\n",
       "  </thead>\n",
       "  <tbody>\n",
       "    <tr>\n",
       "      <th>31</th>\n",
       "      <td>lat_am</td>\n",
       "      <td>Paraguay</td>\n",
       "      <td>Urban</td>\n",
       "      <td>84.61</td>\n",
       "      <td>28.23</td>\n",
       "    </tr>\n",
       "    <tr>\n",
       "      <th>43</th>\n",
       "      <td>caribbean</td>\n",
       "      <td>Dominican Republic</td>\n",
       "      <td>Urban</td>\n",
       "      <td>79.94</td>\n",
       "      <td>28.34</td>\n",
       "    </tr>\n",
       "    <tr>\n",
       "      <th>41</th>\n",
       "      <td>caribbean</td>\n",
       "      <td>Cuba</td>\n",
       "      <td>Urban</td>\n",
       "      <td>77.45</td>\n",
       "      <td>25.01</td>\n",
       "    </tr>\n",
       "    <tr>\n",
       "      <th>39</th>\n",
       "      <td>caribbean</td>\n",
       "      <td>Caribbean</td>\n",
       "      <td>Urban</td>\n",
       "      <td>76.50</td>\n",
       "      <td>34.08</td>\n",
       "    </tr>\n",
       "    <tr>\n",
       "      <th>17</th>\n",
       "      <td>lat_am</td>\n",
       "      <td>El Salvador</td>\n",
       "      <td>Urban</td>\n",
       "      <td>76.29</td>\n",
       "      <td>32.49</td>\n",
       "    </tr>\n",
       "    <tr>\n",
       "      <th>49</th>\n",
       "      <td>caribbean</td>\n",
       "      <td>Jamaica</td>\n",
       "      <td>Urban</td>\n",
       "      <td>75.98</td>\n",
       "      <td>33.20</td>\n",
       "    </tr>\n",
       "    <tr>\n",
       "      <th>3</th>\n",
       "      <td>lat_am</td>\n",
       "      <td>Belize</td>\n",
       "      <td>Urban</td>\n",
       "      <td>73.91</td>\n",
       "      <td>23.01</td>\n",
       "    </tr>\n",
       "    <tr>\n",
       "      <th>27</th>\n",
       "      <td>lat_am</td>\n",
       "      <td>Nicaragua</td>\n",
       "      <td>Urban</td>\n",
       "      <td>73.23</td>\n",
       "      <td>24.47</td>\n",
       "    </tr>\n",
       "  </tbody>\n",
       "</table>\n",
       "</div>"
      ],
      "text/plain": [
       "       region             country    lcc  perc_over10    avg\n",
       "31     lat_am            Paraguay  Urban        84.61  28.23\n",
       "43  caribbean  Dominican Republic  Urban        79.94  28.34\n",
       "41  caribbean                Cuba  Urban        77.45  25.01\n",
       "39  caribbean           Caribbean  Urban        76.50  34.08\n",
       "17     lat_am         El Salvador  Urban        76.29  32.49\n",
       "49  caribbean             Jamaica  Urban        75.98  33.20\n",
       "3      lat_am              Belize  Urban        73.91  23.01\n",
       "27     lat_am           Nicaragua  Urban        73.23  24.47"
      ]
     },
     "execution_count": 19,
     "metadata": {},
     "output_type": "execute_result"
    }
   ],
   "source": [
    "top20[(top20.region == 'lat_am') | (top20.region == 'caribbean')]"
   ]
  }
 ],
 "metadata": {
  "kernelspec": {
   "display_name": "tf",
   "language": "python",
   "name": "tf"
  },
  "language_info": {
   "codemirror_mode": {
    "name": "ipython",
    "version": 3
   },
   "file_extension": ".py",
   "mimetype": "text/x-python",
   "name": "python",
   "nbconvert_exporter": "python",
   "pygments_lexer": "ipython3",
   "version": "3.7.10"
  },
  "toc": {
   "base_numbering": 1,
   "nav_menu": {},
   "number_sections": true,
   "sideBar": true,
   "skip_h1_title": false,
   "title_cell": "Table of Contents",
   "title_sidebar": "Contents",
   "toc_cell": false,
   "toc_position": {
    "height": "calc(100% - 180px)",
    "left": "10px",
    "top": "150px",
    "width": "232px"
   },
   "toc_section_display": true,
   "toc_window_display": true
  },
  "varInspector": {
   "cols": {
    "lenName": 16,
    "lenType": 16,
    "lenVar": 40
   },
   "kernels_config": {
    "python": {
     "delete_cmd_postfix": "",
     "delete_cmd_prefix": "del ",
     "library": "var_list.py",
     "varRefreshCmd": "print(var_dic_list())"
    },
    "r": {
     "delete_cmd_postfix": ") ",
     "delete_cmd_prefix": "rm(",
     "library": "var_list.r",
     "varRefreshCmd": "cat(var_dic_list()) "
    }
   },
   "types_to_exclude": [
    "module",
    "function",
    "builtin_function_or_method",
    "instance",
    "_Feature"
   ],
   "window_display": false
  }
 },
 "nbformat": 4,
 "nbformat_minor": 5
}
