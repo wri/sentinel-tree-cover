{
 "cells": [
  {
   "cell_type": "code",
   "execution_count": null,
   "metadata": {},
   "outputs": [],
   "source": [
    "import numpy as np\n",
    "import seaborn as sns\n",
    "import matplotlib.pyplot as plt\n",
    "%matplotlib inline\n",
    "import os\n",
    "\n"
   ]
  },
  {
   "cell_type": "markdown",
   "metadata": {},
   "source": [
    "# Sentinel 1"
   ]
  },
  {
   "cell_type": "code",
   "execution_count": null,
   "metadata": {},
   "outputs": [],
   "source": [
    "files = [x for x in os.listdir(\"../../data/test-s1\") if '.npy' in x]"
   ]
  },
  {
   "cell_type": "code",
   "execution_count": null,
   "metadata": {},
   "outputs": [],
   "source": [
    "for file in files:\n",
    "    if os.path.exists(\"../../data/old-s1/\" + file):\n",
    "        old_s1 = np.load(\"../../data/old-s1/\" + file)\n",
    "        new_s1 = np.load(\"../../data/test-s1/\" + file)\n",
    "        #diffs = np.mean(abs(old_s1 - new_s1))\n",
    "        #diffs = diffs / np.mean(old_s1)\n",
    "        old_max = np.max(old_s1)\n",
    "        new_max = np.max(new_s1)\n",
    "        if old_max > 1:\n",
    "            print(f\"The old max was {old_max} and the new max is {new_max}\")"
   ]
  },
  {
   "cell_type": "markdown",
   "metadata": {},
   "source": [
    "# Sentinel 2"
   ]
  },
  {
   "cell_type": "code",
   "execution_count": null,
   "metadata": {},
   "outputs": [],
   "source": [
    "files = [x for x in os.listdir(\"../../data/test-s2\") if '.npy' in x]"
   ]
  },
  {
   "cell_type": "code",
   "execution_count": null,
   "metadata": {},
   "outputs": [],
   "source": [
    "for file in [\"136752916.npy\"]:\n",
    "    if os.path.exists(\"../../data/old-s2/\" + file):\n",
    "        old_s2 = np.load(\"../../data/old-s2/\" + file)\n",
    "        new_s2 = np.load(\"../../data/test-s2/\" + file)\n",
    "        diffs = np.mean(abs(old_s2 - new_s2))\n",
    "        diffs = diffs / np.mean(old_s2)\n",
    "        old_max = np.max(old_s2)\n",
    "        new_max = np.max(new_s2)\n",
    "        if diffs > 0.1:\n",
    "            print(f\"The difference is {diffs} for {file}\")\n",
    "        #print(f\"The old max was {old_max} and the new max is {new_max}\")"
   ]
  },
  {
   "cell_type": "code",
   "execution_count": null,
   "metadata": {},
   "outputs": [],
   "source": [
    "sns.heatmap(old_s2[5, :, :, 3])"
   ]
  },
  {
   "cell_type": "code",
   "execution_count": null,
   "metadata": {},
   "outputs": [],
   "source": [
    "sns.heatmap(new_s2[5, :, :, 3])"
   ]
  },
  {
   "cell_type": "code",
   "execution_count": null,
   "metadata": {},
   "outputs": [],
   "source": []
  }
 ],
 "metadata": {
  "kernelspec": {
   "display_name": "remote_sensing",
   "language": "python",
   "name": "remote_sensing"
  },
  "language_info": {
   "codemirror_mode": {
    "name": "ipython",
    "version": 3
   },
   "file_extension": ".py",
   "mimetype": "text/x-python",
   "name": "python",
   "nbconvert_exporter": "python",
   "pygments_lexer": "ipython3",
   "version": "3.6.8"
  }
 },
 "nbformat": 4,
 "nbformat_minor": 2
}
