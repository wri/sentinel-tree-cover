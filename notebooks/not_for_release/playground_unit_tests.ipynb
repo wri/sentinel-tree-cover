{
 "cells": [
  {
   "cell_type": "code",
   "execution_count": null,
   "metadata": {},
   "outputs": [],
   "source": [
    "import numpy as np\n",
    "import seaborn as sns\n",
    "import matplotlib.pyplot as plt\n",
    "%matplotlib inline\n",
    "import hickle as hkl\n",
    "import os"
   ]
  },
  {
   "cell_type": "code",
   "execution_count": null,
   "metadata": {},
   "outputs": [],
   "source": [
    "%run ../../src/downloading/utils.py\n",
    "%run ../../src/models/utils.py"
   ]
  },
  {
   "cell_type": "code",
   "execution_count": null,
   "metadata": {},
   "outputs": [],
   "source": [
    "bands = np.concatenate([np.full(shape = (1, 16, 16, 1), \n",
    "                          fill_value = x) for x in range(0, 7)], axis = 0)\n",
    "\n",
    "image_dates = np.array([0, 22, 105, 232, 295, 310, 330])\n",
    "\n",
    "bands, max_time = calculate_and_save_best_images(bands, image_dates)\n",
    "band_means = np.mean(bands, axis = (1, 2, 3))"
   ]
  },
  {
   "cell_type": "code",
   "execution_count": null,
   "metadata": {},
   "outputs": [],
   "source": [
    "band_means[2]"
   ]
  },
  {
   "cell_type": "code",
   "execution_count": null,
   "metadata": {},
   "outputs": [],
   "source": [
    "clouds_a = hkl.load(\"../../tile_data/senegal-tucker-a/raw/clouds/clouds_0_1.hkl\")"
   ]
  },
  {
   "cell_type": "code",
   "execution_count": null,
   "metadata": {},
   "outputs": [],
   "source": [
    "np.argmax(np.mean(clouds_a, axis = (1, 2)))"
   ]
  },
  {
   "cell_type": "code",
   "execution_count": null,
   "metadata": {},
   "outputs": [],
   "source": [
    "sns.heatmap(clouds_a[np.argmax(np.mean(clouds_a, axis = (1, 2))), :300, :300])"
   ]
  },
  {
   "cell_type": "markdown",
   "metadata": {},
   "source": [
    "# Cloud and cloud shadow interpolation"
   ]
  },
  {
   "cell_type": "code",
   "execution_count": null,
   "metadata": {},
   "outputs": [],
   "source": [
    "def remove_cloud_and_shadows(tiles, probs, shadows, image_dates, wsize = 9):\n",
    "    \"\"\" Interpolates clouds and shadows for each time step with \n",
    "        linear combination of proximal clean time steps for each\n",
    "        region of specified window size\n",
    "        \n",
    "        Parameters:\n",
    "         tiles (arr):\n",
    "         probs (arr): \n",
    "         shadows (arr):\n",
    "         image_dates (list):\n",
    "         wsize (int): \n",
    "    \n",
    "        Returns:\n",
    "         tiles (arr): \n",
    "    \"\"\"\n",
    "    \n",
    "    def _fspecial_gauss(size, sigma):\n",
    "        x, y = np.mgrid[-size//2 + 1:size//2 + 1, -size//2 + 1:size//2 + 1]\n",
    "        g = np.exp(-((x**2 + y**2)/(2.0*sigma**2)))\n",
    "        return g\n",
    "\n",
    "    c_arr = np.reshape(_fspecial_gauss(wsize, ((wsize/2) - 1 ) / 2), (1, wsize, wsize, 1))\n",
    "    o_arr = 1 - c_arr\n",
    "\n",
    "    c_probs = np.copy(probs) - np.min(probs, axis = 0)\n",
    "    c_probs[np.where(c_probs >= 0.33)] = 1.\n",
    "    c_probs[np.where(c_probs < 0.33)] = 0.\n",
    "    \n",
    "    c_probs += shadows\n",
    "    c_probs[np.where(c_probs >= 1.)] = 1.\n",
    "    n_interp = 0\n",
    "    \n",
    "    \n",
    "    for x in range(0, tiles.shape[1] - (wsize - 1), 1):\n",
    "        for y in range(0, tiles.shape[2] - (wsize - 1), 1):\n",
    "            subs = c_probs[:, x:x + wsize, y:y+wsize]\n",
    "            satisfactory = np.argwhere(np.sum(subs, axis = (1, 2)) < (wsize*wsize)/10)\n",
    "            for date in range(0, tiles.shape[0]):\n",
    "                if np.sum(subs[date]) >= (wsize*wsize)/10:\n",
    "                    n_interp += 1\n",
    "                    before, after = calculate_proximal_steps(date, satisfactory)\n",
    "                    before = date + before\n",
    "                    after = date + after\n",
    "                    after = before if after >= tiles.shape[0] else after\n",
    "                    before = after if before < 0 else before\n",
    "\n",
    "                    before_array = tiles[before, x:x+wsize, y:y+wsize, : ]\n",
    "                    after_array = tiles[after, x:x+wsize, y:y+wsize, : ]\n",
    "                    original_array = tiles[np.newaxis, date, x:x+wsize, y:y + wsize, :]\n",
    "                    \n",
    "                    n_days_before = abs(image_dates[date] - image_dates[before])\n",
    "                    n_days_after = abs(image_dates[date] - image_dates[after])\n",
    "                    before_weight = 1 - n_days_before / (n_days_before + n_days_after)\n",
    "                    after_weight = 1 - before_weight\n",
    "                    \n",
    "                    candidate = before_weight*before_array + after_weight * after_array\n",
    "                    candidate = candidate * c_arr + original_array[np.newaxis] * o_arr\n",
    "                    tiles[date, x:x+wsize, y:y+wsize, : ] = candidate \n",
    "                    \n",
    "    print(\"Interpolated {} px\".format(n_interp))\n",
    "    return tiles"
   ]
  },
  {
   "cell_type": "code",
   "execution_count": null,
   "metadata": {},
   "outputs": [],
   "source": [
    "clouds = np.zeros((3, 632, 632))\n",
    "shadows = np.zeros((3, 632, 632))\n",
    "image_dates = np.array([3, 15, 30])\n",
    "clouds[1] = clouds_a[32]\n",
    "clouds[np.where(clouds >= 0.33)] = 1.\n",
    "clouds[np.where(clouds < 0.33)] = 0.\n",
    "\n",
    "\n",
    "#clouds[1, 18:28, 0:12] = 1.\n",
    "#clouds[1, 10:20, 8:15] = 1.\n",
    "\n",
    "#clouds[1, 18:20, 26:28] = 1.\n",
    "\n",
    "#clouds[1, 2:5, 26:29] = 1.\n",
    "# Things to watch for\n",
    "# before, after = 0, 2\n",
    "# mean(bef) = 0\n",
    "# mean(aft) = 2.0"
   ]
  },
  {
   "cell_type": "code",
   "execution_count": null,
   "metadata": {},
   "outputs": [],
   "source": [
    "bands = ([np.full(shape = (1, 632, 632, 1), \n",
    "                          fill_value = float(x)) for x in range(0, 3)])\n",
    "bands = np.concatenate(bands, axis = 0)\n",
    "tiles = remove_cloud_and_shadows(bands, clouds, shadows, image_dates)"
   ]
  },
  {
   "cell_type": "code",
   "execution_count": null,
   "metadata": {},
   "outputs": [],
   "source": [
    "sns.heatmap(tiles[1, :200, :200, 0])"
   ]
  },
  {
   "cell_type": "code",
   "execution_count": null,
   "metadata": {},
   "outputs": [],
   "source": [
    "sns.heatmap(clouds[1, :200, :200])"
   ]
  },
  {
   "cell_type": "markdown",
   "metadata": {},
   "source": [
    "# Tiling validation"
   ]
  },
  {
   "cell_type": "code",
   "execution_count": null,
   "metadata": {},
   "outputs": [],
   "source": [
    "arr = np.random.rand(1, 128, 128)\n",
    "tile_arr = np.stack(tile_images(arr))"
   ]
  },
  {
   "cell_type": "code",
   "execution_count": null,
   "metadata": {},
   "outputs": [],
   "source": [
    "tile_arr.shape"
   ]
  },
  {
   "cell_type": "code",
   "execution_count": null,
   "metadata": {},
   "outputs": [],
   "source": [
    "SIZE = 9\n",
    "SIZE_N = SIZE*SIZE\n",
    "SIZE_UR = (SIZE - 1) * (SIZE - 1)\n",
    "SIZE_R = (SIZE - 1) * SIZE\n",
    "SIZE_U = SIZE_R\n",
    "TOTAL = SIZE_N + SIZE_UR + SIZE_R + SIZE_U\n",
    "\n",
    "def validate_tiling(arr):\n",
    "    preds = np.stack(tile_images(arr))\n",
    "    preds = preds[:, 0, 1:-1, 1:-1]\n",
    "    \n",
    "    preds_stacked = []\n",
    "    for i in range(0, SIZE_N, SIZE):\n",
    "        preds_stacked.append(np.concatenate(preds[i:i + SIZE], axis = 1))\n",
    "    stacked = np.concatenate(preds_stacked, axis = 0)\n",
    "        \n",
    "    preds_overlap = []\n",
    "    for scene in range(SIZE_N, SIZE_N+SIZE_UR, SIZE - 1):\n",
    "        to_concat = np.concatenate(preds[scene:scene+ (SIZE - 1)], axis = 1)\n",
    "        preds_overlap.append(to_concat)    \n",
    "    overlapped = np.concatenate(preds_overlap, axis = 0)\n",
    "    overlapped = np.pad(overlapped, (7, 7), 'constant', constant_values = 0)\n",
    "        \n",
    "    preds_up = []\n",
    "    for scene in range(SIZE_N+SIZE_UR, SIZE_N+SIZE_UR+SIZE_R, SIZE):\n",
    "        to_concat = np.concatenate(preds[scene:scene+SIZE], axis = 1)\n",
    "        preds_up.append(to_concat)   \n",
    "    up = np.concatenate(preds_up, axis = 0)\n",
    "    up = np.pad(up, ((7,7), (0,0)), 'constant', constant_values = 0)\n",
    "        \n",
    "    preds_right = []\n",
    "    for scene in range(SIZE_N+SIZE_UR+SIZE_R, TOTAL, SIZE - 1):\n",
    "        to_concat = np.concatenate(preds[scene:scene+SIZE-1], axis = 1)\n",
    "        preds_right.append(to_concat)   \n",
    "    right = np.concatenate(preds_right, axis = 0)\n",
    "    right = np.pad(right, ((0, 0), (7, 7)), 'constant', constant_values = 0)\n",
    "    \n",
    "    stacked = stacked + overlapped + right + up\n",
    "    return stacked"
   ]
  },
  {
   "cell_type": "code",
   "execution_count": null,
   "metadata": {},
   "outputs": [],
   "source": [
    "validated = validate_tiling(arr)\n",
    "\n",
    "np.sum(validated[7:-7, 7:-7]/4 - (arr[0, 8:-8, 8:-8]))"
   ]
  }
 ],
 "metadata": {
  "kernelspec": {
   "display_name": "remote_sensing",
   "language": "python",
   "name": "remote_sensing"
  },
  "language_info": {
   "codemirror_mode": {
    "name": "ipython",
    "version": 3
   },
   "file_extension": ".py",
   "mimetype": "text/x-python",
   "name": "python",
   "nbconvert_exporter": "python",
   "pygments_lexer": "ipython3",
   "version": "3.6.8"
  }
 },
 "nbformat": 4,
 "nbformat_minor": 2
}
