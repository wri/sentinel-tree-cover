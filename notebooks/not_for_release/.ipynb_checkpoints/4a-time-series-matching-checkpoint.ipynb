{
 "cells": [
  {
   "cell_type": "code",
   "execution_count": null,
   "metadata": {},
   "outputs": [],
   "source": [
    "import numpy as np\n",
    "import hickle as hkl\n",
    "import seaborn as sns\n",
    "import matplotlib.pyplot as plt\n",
    "%matplotlib inline\n",
    "\n",
    "%run ../src/downloading/utils.py"
   ]
  },
  {
   "cell_type": "code",
   "execution_count": null,
   "metadata": {},
   "outputs": [],
   "source": [
    "%run ../src/pca/pca_filter.py"
   ]
  },
  {
   "cell_type": "code",
   "execution_count": null,
   "metadata": {},
   "outputs": [],
   "source": [
    "def pif_pca(input_year, reference):\n",
    "    pif_mask = numpy.ones((142* 142*5*5), dtype=numpy.bool)\n",
    "    for date in range(0, 24, 2):\n",
    "        for band in range(0, 5):\n",
    "            pif_band_mask = pca_fit_and_filter_pixel_list(input_year[date, ..., band].flatten(),\n",
    "                                            reference[date, ..., band].flatten(),\n",
    "                                            660)\n",
    "            pif_mask = numpy.logical_and(pif_mask, pif_band_mask)\n",
    "            print(np.sum(pif_mask))\n",
    "    return np.argwhere(pif_mask == True)"
   ]
  },
  {
   "cell_type": "code",
   "execution_count": null,
   "metadata": {},
   "outputs": [],
   "source": [
    "pifs = np.argwhere(pif_mask == True)"
   ]
  },
  {
   "cell_type": "code",
   "execution_count": null,
   "metadata": {},
   "outputs": [],
   "source": [
    "a = np.array([1, 2, 3])\n",
    "b = np.array([4, 5, 6])\n",
    "np.stack([a, b]).T"
   ]
  },
  {
   "cell_type": "code",
   "execution_count": null,
   "metadata": {},
   "outputs": [],
   "source": [
    "landscape = 'pilot-kenya'\n",
    "path = f\"../tile_data/{landscape}/\""
   ]
  },
  {
   "cell_type": "code",
   "execution_count": null,
   "metadata": {},
   "outputs": [],
   "source": [
    "from tqdm import tnrange, tqdm_notebook\n",
    "from sklearn.linear_model import LinearRegression\n",
    "from scipy.stats import pearsonr\n",
    "from sklearn.cross_decomposition import CCA\n",
    "\n",
    "\n",
    "\n",
    "def load_years(x, y):\n",
    "    x17 = hkl.load(path + f\"2017/processed/{str(x)}/{str(y)}.hkl\")\n",
    "    x18 = hkl.load(path + f\"2018/processed/{str(x)}/{str(y)}.hkl\")\n",
    "    x19 = hkl.load(path + f\"2019/processed/{str(x)}/{str(y)}.hkl\")\n",
    "    #x17 = hkl.load(path + f\"2017/raw/s2/0_0.hkl\")\n",
    "    #x18 = hkl.load(path + f\"2018/raw/s2/0_0.hkl\")\n",
    "    #x19 = hkl.load(path + f\"2019/raw/s2/0_0.hkl\")\n",
    "    return x17, x18, x19\n",
    "\n",
    "def load_reference_years(input_year, target_year):\n",
    "    inp = np.empty((24, 5, 5, 142, 142, 17))\n",
    "    targ = np.empty((24, 5, 5, 142, 142, 17))\n",
    "    for x in tnrange(0, 5):\n",
    "        for y in range(0, 5):\n",
    "            inp_x = hkl.load(path + f\"{str(input_year)}/processed/{str(x)}/{str(y)}.hkl\")\n",
    "            targ_x = hkl.load(path + f\"{str(target_year)}/processed/{str(x)}/{str(y)}.hkl\")\n",
    "            inp[:, x, y, ...] = inp_x[...,]\n",
    "            targ[:, x, y, ...] = targ_x[...]\n",
    "    inp = inp.reshape(24, 5*5*142*142, 17)\n",
    "    targ = targ.reshape(24, 5*5*142*142, 17)\n",
    "    return inp, targ\n",
    "\n",
    "#inp, targ = load_reference_years(2017, 2019)\n",
    "x17, x18, x19 = load_years(3, 2)\n",
    "#x17 = np.delete(x17, 10, -1)\n",
    "#x19 = np.delete(x19, 10, -1)\n",
    "\n",
    "sns.lineplot([x for x in range(0,x17.shape[0])], np.mean(x17[..., 3], axis = (1, 2)))\n",
    "sns.scatterplot([x for x in range(0,x18.shape[0])],  np.mean(x18[..., 3], axis = (1, 2)))\n",
    "sns.scatterplot([x for x in range(0,x19.shape[0])],  np.mean(x19[..., 3], axis = (1, 2)))"
   ]
  },
  {
   "cell_type": "code",
   "execution_count": null,
   "metadata": {},
   "outputs": [],
   "source": [
    "all_data = np.concatenate([x17, x18, x19], axis = 0)\n",
    "g = sns.scatterplot([x for x in range(0,all_data.shape[0])], np.mean(all_data[..., 15], axis = (1, 2)))\n",
    "#g.set(ylim=(15000, 21000))\n",
    "plt.show()"
   ]
  },
  {
   "cell_type": "code",
   "execution_count": null,
   "metadata": {},
   "outputs": [],
   "source": [
    "all_data = np.concatenate([x17, x18, x19], axis = 0)\n",
    "sns.scatterplot([x for x in range(0,all_data.shape[0])], np.mean(all_data[..., 3], axis = (1, 2)))"
   ]
  },
  {
   "cell_type": "code",
   "execution_count": null,
   "metadata": {},
   "outputs": [],
   "source": [
    "from sklearn.decomposition import PCA\n",
    "diffs_all = np.zeros((142, 142))\n",
    "for date in tnrange(0, 1):\n",
    "    x = x17[date, ..., :10].reshape(142*142, 10)\n",
    "    y = x19[date, ..., :10].reshape(142*142, 10)\n",
    "    pca = PCA(n_components=2)\n",
    "    pca.fit(x, y)\n",
    "    #xs = cca.transform(x)\n",
    "    "
   ]
  },
  {
   "cell_type": "code",
   "execution_count": null,
   "metadata": {},
   "outputs": [],
   "source": []
  },
  {
   "cell_type": "code",
   "execution_count": null,
   "metadata": {},
   "outputs": [],
   "source": [
    "diffs_all = np.zeros((142, 142))\n",
    "for date in tnrange(0, 24):\n",
    "    x = x17[date, ..., :10].reshape(142*142, 10)\n",
    "    y = x19[date, ..., :10].reshape(142*142, 10)\n",
    "    cca = CCA(n_components=2)\n",
    "    cca.fit(x, y)\n",
    "    xs = cca.transform(x)\n",
    "    ys = cca.transform(y)\n",
    "    diffs = np.sum(abs(xs - ys)**2, axis = 1)\n",
    "\n",
    "    diffs = diffs.reshape(142, 142)\n",
    "    diffs_all += diffs\n",
    "sns.heatmap(diffs_all.reshape(142, 142))\n",
    "diffs_all = diffs_all.reshape(142*142)\n",
    "pifs = np.argwhere(diffs_all < np.percentile(diffs_all, 1))"
   ]
  },
  {
   "cell_type": "code",
   "execution_count": null,
   "metadata": {},
   "outputs": [],
   "source": [
    "output = x17.copy()\n",
    "    \n",
    "for date in range(0, 24):\n",
    "    for band in [0, 1, 2, 3, 4, 5, 6, 7, 8, 9, 11, 12, 13, 14]:\n",
    "        input_ = x17[..., band].reshape(24, 142*142)\n",
    "        target = x19[..., band].reshape(24, 142*142)\n",
    "\n",
    "        target = target[:, pifs]\n",
    "        input_ = input_[:, pifs]\n",
    "        target_date = target[date].squeeze()[:, np.newaxis]\n",
    "        input_date = input_[date].squeeze()[:, np.newaxis]\n",
    "        reg = LinearRegression()\n",
    "        reg.fit(input_date, target_date)\n",
    "        input_updated = reg.predict(x17[date, ..., band].reshape(142*142, 1))\n",
    "\n",
    "        output[date, ..., band] = input_updated.reshape(1, 142, 142)"
   ]
  },
  {
   "cell_type": "code",
   "execution_count": null,
   "metadata": {},
   "outputs": [],
   "source": [
    "cca.coef_.shape"
   ]
  },
  {
   "cell_type": "code",
   "execution_count": null,
   "metadata": {},
   "outputs": [],
   "source": [
    "x = x17[:, ..., :4].reshape(24, 142*142, 4)\n",
    "x = np.swapaxes(x, 0, 1).reshape(142*142, 24*4)\n",
    "y = x19[:, ..., :4].reshape(24, 142*142, 4)\n",
    "y = np.swapaxes(y, 0, 1).reshape(142*142, 24*4)\n",
    "cca = CCA(n_components=3)\n",
    "cca.fit(x, y)\n",
    "xs = cca.transform(x)\n",
    "ys = cca.transform(y)\n",
    "#xs = np.sum(xs, axis = 1)\n",
    "#ys = np.sum(ys, axis = 1)\n",
    "diffs = abs(xs - ys)\n",
    "diffs = np.sum(diffs, axis = 1)\n",
    "#diffs = (diffs - np.mean(diffs)) / np.std(diffs)\n",
    "\n",
    "diffs = diffs.reshape(142, 142)\n",
    "cutoff = np.percentile(diffs, 0.1)\n",
    "new = np.zeros_like(diffs)\n",
    "new[np.where(diffs < cutoff)] = 1.\n",
    "#ys = ys.reshape(142, 142)\n",
    "#diffs = abs(xs - ys)\n",
    "sns.heatmap(diffs)"
   ]
  },
  {
   "cell_type": "code",
   "execution_count": null,
   "metadata": {},
   "outputs": [],
   "source": [
    "cca.x_weights_"
   ]
  },
  {
   "cell_type": "code",
   "execution_count": null,
   "metadata": {},
   "outputs": [],
   "source": [
    "pearsons = np.empty(142*142)\n",
    "input_year = x17[..., 3].reshape(24, 142*142)\n",
    "reference = x19[..., 3].reshape(24, 142*142)\n",
    "    \n",
    "for i in tnrange(pearsons.shape[0]):\n",
    "    pearsons[i] = pearsonr(input_year[:, i], reference[:, i])[0]\n",
    "pearsons = np.reshape(pearsons, (142, 142))\n",
    "sns.heatmap(pearsons)"
   ]
  },
  {
   "cell_type": "code",
   "execution_count": null,
   "metadata": {},
   "outputs": [],
   "source": [
    "from sklearn.linear_model import LinearRegression\n",
    "from scipy.stats import pearsonr\n",
    "\n",
    "from sklearn.cross_decomposition import CCA\n",
    "\n",
    "def identify_pifs_pairs(input_year, reference):\n",
    "    diffs_all = np.zeros(142*142*5*5)\n",
    "    for date in tnrange(0, 24):\n",
    "        x = input_year[date, ..., :10].reshape(142*142*5*5, 10)\n",
    "        y = reference[date, ..., :10].reshape(142*142*5*5, 10)\n",
    "        cca = CCA(n_components=2)\n",
    "        cca.fit(x, y)\n",
    "        xs = cca.transform(x)\n",
    "        ys = cca.transform(y)\n",
    "        diffs = np.sum(abs(xs - ys), axis = 1)\n",
    "        diffs = diffs.reshape(142*142*5*5)\n",
    "        diffs_all += diffs\n",
    "    diffs = np.argwhere(diffs_all < np.percentile(diffs, 0.5))\n",
    "    return diffs\n",
    "\n",
    "def identify_pifs_new(input_year, reference):\n",
    "    x = input_year[:, :, :10]\n",
    "    x = np.swapaxes(x, 0, 1).reshape(142*142*5*5, 24*10)\n",
    "    y = reference[:, ..., :10]\n",
    "    y = np.swapaxes(y, 0, 1).reshape(142*142*5*5, 24*10)\n",
    "    cca = CCA(n_components=2)\n",
    "    xs, ys = cca.fit_transform(x, y)\n",
    "    diffs = abs(xs - ys)\n",
    "    diffs = np.sum(diffs**2, axis = 1)\n",
    "    diffs = (diffs - np.mean(diffs)) / np.std(diffs)\n",
    "    diffs = np.argwhere(diffs < np.percentile(diffs, 1))\n",
    "    return diffs#np.argwhere(diffs < np.percentile(diffs, 1))\n",
    "\n",
    "def identify_pifs(input_year, reference):\n",
    "    pearsons = np.empty(142*142*5*5)\n",
    "    input_year = input_year[..., 3].reshape(24, 142*142*5*5)\n",
    "    reference = reference[..., 3].reshape(24, 142*142*5*5)\n",
    "    \n",
    "    for i in tnrange(pearsons.shape[0]):\n",
    "        pearsons[i] = pearsonr(input_year[:, i], reference[:, i])[0]\n",
    "    \n",
    "    pifs = np.argwhere(pearsons > np.percentile(pearsons, 99))\n",
    "    #stacked = np.concatenate([input_year, reference], axis = 0)\n",
    "    #stacked = stacked[..., 3].reshape(48, 142*142*5*5)\n",
    "    #stacked = np.percentile(stacked, 75, 0) - np.percentile(stacked, 25, 0)\n",
    "    #pifs = np.argwhere(stacked < np.percentile(stacked, 2))\n",
    "    #diffs = abs( 1 - (abs(input_year[..., 3] / reference[..., 3])) )#\n",
    "    #diffs = diffs.reshape(24, 142*142)\n",
    "    #diffs = np.std(diffs, axis = (0))\n",
    "    #pifs = np.argwhere((diffs < 0.05))\n",
    "    return pifs, pearsons\n",
    "\n",
    "\n",
    "def linear_adjust_pif(pifs, small_input, small_target, large_input, large_target):\n",
    "    output = small_input.copy()\n",
    "    \n",
    "    for date in range(0, 24):\n",
    "        for band in [0, 1, 2, 3, 4, 5, 6, 7, 8, 9, 11, 12, 13, 14]:\n",
    "            input_ = large_input[..., band].reshape(24, 142*142*5*5)\n",
    "            target = large_target[..., band].reshape(24, 142*142*5*5)\n",
    "            \n",
    "            target = target[:, pifs]\n",
    "            input_ = input_[:, pifs]\n",
    "            target_date = target[date].squeeze()[:, np.newaxis]\n",
    "            input_date = input_[date].squeeze()[:, np.newaxis]\n",
    "            reg = LinearRegression().fit(input_date, target_date)\n",
    "            input_updated = reg.predict(small_input[date, ..., band].reshape(142*142, 1))\n",
    "\n",
    "            output[date, ..., band] = input_updated.reshape(1, 142, 142)\n",
    "    return output\n",
    "\n",
    "#pifs = identify_pifs_new(inp, targ)\n",
    "pifs = identify_pifs_new(x17, x19)\n",
    "#sns.scatterplot([x for x in range(len(diffs))], sorted(diffs))\n"
   ]
  },
  {
   "cell_type": "code",
   "execution_count": null,
   "metadata": {},
   "outputs": [],
   "source": [
    "output = linear_adjust_pif(pifs, x17, x19, inp, targ)"
   ]
  },
  {
   "cell_type": "code",
   "execution_count": null,
   "metadata": {},
   "outputs": [],
   "source": [
    "idx = 1212\n",
    "sns.scatterplot([x for x in range(24)], x17[..., 5].reshape(24, 142*142)[:, idx])\n",
    "sns.lineplot([x for x in range(24)], x19[..., 5].reshape(24, 142*142)[:, idx])\n",
    "sns.lineplot([x for x in range(24)], output[..., 5].reshape(24, 142*142)[:, idx])"
   ]
  },
  {
   "cell_type": "code",
   "execution_count": null,
   "metadata": {},
   "outputs": [],
   "source": [
    "sns.scatterplot([x for x in range(0,24)], np.mean(x17[..., 3], axis = (1, 2)))\n",
    "sns.lineplot([x for x in range(0,24)],  np.mean(output[..., 3], axis = (1, 2)))\n",
    "sns.lineplot([x for x in range(0,24)],  np.mean(x19[..., 3], axis = (1, 2)))"
   ]
  },
  {
   "cell_type": "markdown",
   "metadata": {},
   "source": [
    "### for date in range(0, 24):\n",
    "    x17[date] = hist_match(x17[date], x19[date])\n",
    "    x18[date] = hist_match(x18[date], x19[date])"
   ]
  },
  {
   "cell_type": "code",
   "execution_count": null,
   "metadata": {},
   "outputs": [],
   "source": [
    "sns.scatterplot([x for x in range(0,24)], np.mean(x17[..., 9], axis = (1, 2)))\n",
    "sns.scatterplot([x for x in range(0,24)],  np.mean(x18[..., 9], axis = (1, 2)))\n",
    "sns.scatterplot([x for x in range(0,24)],  np.mean(x19[..., 9], axis = (1, 2)))"
   ]
  },
  {
   "cell_type": "code",
   "execution_count": null,
   "metadata": {},
   "outputs": [],
   "source": []
  }
 ],
 "metadata": {
  "kernelspec": {
   "display_name": "remote_sensing",
   "language": "python",
   "name": "remote_sensing"
  },
  "language_info": {
   "codemirror_mode": {
    "name": "ipython",
    "version": 3
   },
   "file_extension": ".py",
   "mimetype": "text/x-python",
   "name": "python",
   "nbconvert_exporter": "python",
   "pygments_lexer": "ipython3",
   "version": "3.6.8"
  }
 },
 "nbformat": 4,
 "nbformat_minor": 2
}
