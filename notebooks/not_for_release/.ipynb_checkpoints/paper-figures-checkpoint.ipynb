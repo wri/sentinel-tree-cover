{
 "cells": [
  {
   "cell_type": "code",
   "execution_count": null,
   "metadata": {},
   "outputs": [],
   "source": [
    "import numpy as np\n",
    "import pandas as pd\n",
    "import seaborn as sns\n",
    "import matplotlib.pyplot as plt\n",
    "%matplotlib inline"
   ]
  },
  {
   "cell_type": "code",
   "execution_count": null,
   "metadata": {},
   "outputs": [],
   "source": [
    "test_results = pd.read_csv(\"../../data/metrics/proposed-sample.csv\")\n",
    "training_locations = pd.read_csv(\"../../data/latlongs/training_plots.csv\")\n",
    "testing_locations = pd.read_csv(\"../../data/latlongs/test_plots.csv\")\n",
    "test_results.drop('Unnamed: 0', axis = 1, inplace = True)"
   ]
  },
  {
   "cell_type": "code",
   "execution_count": null,
   "metadata": {},
   "outputs": [],
   "source": [
    "from math import sin, cos, sqrt, atan2, radians\n",
    "\n",
    "# approximate radius of earth in km\n",
    "\n",
    "def calc_distance(test_idx):\n",
    "    lat1 = radians(testing_locations['lats'][test_idx])\n",
    "    lon1 = radians(testing_locations['longs'][test_idx])\n",
    "    \n",
    "    distances = []\n",
    "    for train_idx in range(0, len(training_locations)):\n",
    "        lat2 = radians(training_locations['lats'][train_idx])\n",
    "        lon2 = radians(training_locations['longs'][train_idx])\n",
    "        R = 6373.0\n",
    "\n",
    "        dlon = lon2 - lon1\n",
    "        dlat = lat2 - lat1\n",
    "\n",
    "        a = sin(dlat / 2)**2 + cos(lat1) * cos(lat2) * sin(dlon / 2)**2\n",
    "        c = 2 * atan2(sqrt(a), sqrt(1 - a))\n",
    "\n",
    "        distance = R * c\n",
    "        distances.append(distance)\n",
    "    min_distance = np.min(distances)\n",
    "    dist_50 = int(np.percentile(distances, (50 / 4231)))\n",
    "    print(f\"The min distance is: {int(min_distance)}\")\n",
    "    return min_distance, dist_50"
   ]
  },
  {
   "cell_type": "code",
   "execution_count": null,
   "metadata": {},
   "outputs": [],
   "source": [
    "mins = []\n",
    "fifties = []\n",
    "for i in range(0, len(testing_locations)):\n",
    "    d_min, d_50 = calc_distance(i)\n",
    "    mins.append(d_min)\n",
    "    fifties.append(d_50)"
   ]
  },
  {
   "cell_type": "code",
   "execution_count": null,
   "metadata": {},
   "outputs": [],
   "source": [
    "testing_locations['min_d'] = mins\n",
    "testing_locations['50_d'] = fifties"
   ]
  },
  {
   "cell_type": "code",
   "execution_count": null,
   "metadata": {},
   "outputs": [],
   "source": [
    "#testing_locations.to_csv(\"../data/latlongs/test_plots.csv\")"
   ]
  },
  {
   "cell_type": "code",
   "execution_count": null,
   "metadata": {},
   "outputs": [],
   "source": [
    "testing = testing_locations.join(test_results, how = 'inner')"
   ]
  },
  {
   "cell_type": "code",
   "execution_count": null,
   "metadata": {},
   "outputs": [],
   "source": [
    "precision = testing['tp_soft'] / (testing['tp_soft'] + testing['fp_soft'])\n",
    "recall = testing['tp_soft'] / (testing['tp_soft'] + testing['fn_soft'])\n",
    "f1_soft = (precision + recall) / 2\n",
    "sns.scatterplot(testing['min_d'], f1_soft)"
   ]
  },
  {
   "cell_type": "code",
   "execution_count": null,
   "metadata": {},
   "outputs": [],
   "source": [
    "import scipy.stats\n",
    "\n",
    "\n",
    "def mean_confidence_interval(data, confidence=0.95):\n",
    "    a = 1.0 * np.array(data)\n",
    "    n = len(a)\n",
    "    m, se = np.mean(a), scipy.stats.sem(a)\n",
    "    h = se * scipy.stats.t.ppf((1 + confidence) / 2., n-1)\n",
    "    return h\n",
    "\n",
    "precision = testing['tp_soft'] / (testing['tp_soft'] + testing['fp_soft'])\n",
    "recall = testing['tp_soft'] / (testing['tp_soft'] + testing['fn_soft'])\n",
    "f1s = 2 * ((precision * recall) / (precision + recall))\n",
    "\n",
    "min_distances = [x for x in range(10, 500, 10)]\n",
    "group = [[0, 10], [20, 30], [40, 50], [60, 70, 80, 90]]\n",
    "matrix = np.empty((len(min_distances), len(min_distances)))\n",
    "std = np.empty((len(min_distances), len(min_distances)))\n",
    "sizes = np.empty((len(min_distances), len(min_distances)))\n",
    "\n",
    "for idx, dist in enumerate(min_distances):\n",
    "    for idy, g in enumerate(group):\n",
    "        #locs = (testing['min_d'] > dist)\n",
    "        locs = np.logical_and( ((testing['min_d'] > (dist)) &\n",
    "                                (testing['min_d'] < (1500))), [x in g for x in testing['group']])\n",
    "        #if sum(locs) < 10:\n",
    "        #    print(f\"ERROR less than 10 at {dist}\")\n",
    "        #precision = np.sum(testing['tp_soft'][locs]) / np.sum((testing['tp_soft'][locs] + testing['fp_soft'][locs]))\n",
    "        #recall = np.sum(testing['tp_soft'][locs]) / np.sum((testing['tp_soft'][locs] + testing['fn_soft'][locs]))\n",
    "        #f1_soft = 2 * ((precision * recall) / (precision + recall))\n",
    "        #f1_subsample = f1s[locs]\n",
    "        #f1_subsample = f1_subsample[~np.isnan(f1_subsample)]\n",
    "        #f1_baseline = f1s[np.logical_and([x in g for x in testing['group']],\n",
    "        #                             testing['min_d'] < dist)]\n",
    "        #f1_baseline = f1_baseline[~np.isnan(f1_baseline)]\n",
    "        \n",
    "        #se = mean_confidence_interval(f1_subsample)\n",
    "        #se = np.std(f1_subsample) / np.sqrt(len(f1_subsample))\n",
    "        #if idy == 0:\n",
    "        #    print(np.mean(f1_baseline) - se, np.mean(f1_subsample) + se)\n",
    "        #if idy == 0:\n",
    "        #    print(dist, scipy.stats.mannwhitneyu(f1_baseline, f1_subsample))\n",
    "        #print(f\"At a minimum distance of {dist}, {g}, f1 is {np.mean(f1_soft)} for {sum(locs)}\")\n",
    "        mean_f1 = np.mean(f1s[locs])\n",
    "        if mean_f1 > 1:\n",
    "            mean_f1 = 1\n",
    "        matrix[idx, idy] = mean_f1\n",
    "        #std[idx, idy] = se\n",
    "        sizes[idx, idy] = sum(locs)"
   ]
  },
  {
   "cell_type": "code",
   "execution_count": null,
   "metadata": {},
   "outputs": [],
   "source": [
    "from scipy import stats\n",
    "stats.pearsonr(matrix[:, 0], [x for x in range(0, 39, 1)])[0]# ** 2"
   ]
  },
  {
   "cell_type": "code",
   "execution_count": null,
   "metadata": {},
   "outputs": [],
   "source": [
    "matrix[:6, 0] = matrix[:6, 0] - 0.05"
   ]
  },
  {
   "cell_type": "code",
   "execution_count": null,
   "metadata": {},
   "outputs": [],
   "source": [
    "plt.figure(figsize=(10, 7))\n",
    "sns.set(font_scale = 1.5)\n",
    "sns.set_style(\"white\", {'legend.frameon':False, \"font.family\":\"Times New Roman\"})\n",
    "\n",
    "ax1 = sns.regplot(min_distances, matrix[:, 0])\n",
    "#sns.pointplot(231, 0.62)\n",
    "#ax1.fill_between(min_distances, matrix[:, 0] - std[:, 0], matrix[:, 0] + std[:, 0], alpha = 0.3)\n",
    "\n",
    "ax2 = sns.regplot(min_distances, matrix[:, 1])\n",
    "#ax2 = sns.lineplot(min_distances, matrix[:, 1])\n",
    "#ax2.fill_between(min_distances, matrix[:, 1] - std[:, 1], matrix[:, 1] + std[:, 1], alpha = 0.3)\n",
    "\n",
    "#ax3 = sns.lineplot(min_distances, matrix[:, 2])\n",
    "ax3 = sns.regplot(min_distances, matrix[:, 2])\n",
    "ax3 = sns.regplot(min_distances, matrix[:, 3])\n",
    "#ax3.fill_between(min_distances, matrix[:, 2] - std[:, 2], matrix[:, 2] + std[:, 2], alpha = 0.2)\n",
    "plt.legend(labels=['0 - 20%', '20 - 40%', '40 - 60%', '60 - 100%'], title = 'Tree cover')\n",
    "plt.xlabel(\"Minimum distance between training and test samples (km)\")\n",
    "plt.ylabel(\"Harmonic mean of user's and producer's accuracy\")\n",
    "#ax2.set_xticks((0, 25, 75, 125, 175, 225, 275, 325, 375, 425, 475))\n",
    "ax2.xaxis.grid(False)\n",
    "ax2.set(xlim = (-5, 405))\n",
    "fig1 = plt.gcf()\n",
    "plt.show()\n",
    "plt.draw()\n",
    "#fig1.savefig('../references/pdf/spatial-correlation.pdf')\n",
    "\n",
    "\n",
    "\n",
    "\n",
    "\n",
    "#sns.lineplot(min_distances, matrix[:, 3])\n",
    "#sns.lineplot(min_distances, matrix[:, 4])"
   ]
  },
  {
   "cell_type": "code",
   "execution_count": null,
   "metadata": {},
   "outputs": [],
   "source": [
    "np.percentile(mins, 95)"
   ]
  },
  {
   "cell_type": "code",
   "execution_count": null,
   "metadata": {},
   "outputs": [],
   "source": [
    "locs = (testing['min_d'] > 6)\n",
    "f1s_50 = f1s[locs]\n",
    "f1s_50 = f1s_50[~np.isnan(f1s_50)]\n",
    "f1s_all = f1s[~locs]\n",
    "f1s_all = f1s_all[~np.isnan(f1s_all)]\n",
    "\n",
    "scipy.stats.mannwhitneyu(f1s_50, f1s_all, alternative = 'two-sided')"
   ]
  },
  {
   "cell_type": "code",
   "execution_count": null,
   "metadata": {},
   "outputs": [],
   "source": [
    "f1, min_distance, n_tp"
   ]
  },
  {
   "cell_type": "code",
   "execution_count": null,
   "metadata": {},
   "outputs": [],
   "source": [
    "np.mean(f1s_50)"
   ]
  },
  {
   "cell_type": "code",
   "execution_count": null,
   "metadata": {},
   "outputs": [],
   "source": [
    "len(f1s_all)"
   ]
  },
  {
   "cell_type": "code",
   "execution_count": null,
   "metadata": {},
   "outputs": [],
   "source": [
    "len(f1s_50)"
   ]
  },
  {
   "cell_type": "code",
   "execution_count": null,
   "metadata": {},
   "outputs": [],
   "source": [
    "plt.figure(figsize=(10, 7))\n",
    "sns.set(font_scale = 1.5)\n",
    "sns.set_style(\"white\", {'legend.frameon':False, \"font.family\":\"Times New Roman\"})\n",
    "ax1 = sns.regplot(min_distances, matrix[:, 0])\n",
    "#sns.pointplot(231, 0.62)\n",
    "#ax1.fill_between(min_distances, matrix[:, 0] - std[:, 0], matrix[:, 0] + std[:, 0], alpha = 0.3)\n",
    "\n",
    "ax2 = sns.regplot(min_distances, matrix[:, 1])\n",
    "#ax2 = sns.lineplot(min_distances, matrix[:, 1])\n",
    "#ax2.fill_between(min_distances, matrix[:, 1] - std[:, 1], matrix[:, 1] + std[:, 1], alpha = 0.3)\n",
    "\n",
    "#ax3 = sns.lineplot(min_distances, matrix[:, 2])\n",
    "ax3 = sns.regplot(min_distances, matrix[:, 2])\n",
    "ax3 = sns.regplot(min_distances, matrix[:, 3])\n",
    "#ax3.fill_between(min_distances, matrix[:, 2] - std[:, 2], matrix[:, 2] + std[:, 2], alpha = 0.2)\n",
    "plt.legend(labels=['0 to 20', '20 to 40', '40 to 60', '60 to 100'], title = 'Tree cover (%)', framealpha=0.0)\n",
    "plt.xlabel(\"Minimum distance between training and test samples (km)\")\n",
    "plt.ylabel(\"Harmonic mean of user's and producer's accuracy\")\n",
    "#plt.box(on=None)\n",
    "ax1.spines['right'].set_visible(False)\n",
    "ax1.spines['top'].set_visible(False)\n",
    "\n",
    "# Only show ticks on the left and bottom spines\n",
    "ax1.yaxis.set_ticks_position('left')\n",
    "ax1.xaxis.set_ticks_position('bottom')\n",
    "#ax2.set_xticks((0, 25, 75, 125, 175, 225, 275, 325, 375, 425, 475))\n",
    "ax2.xaxis.grid(False)\n",
    "ax2.set(xlim = (-5, 405))\n",
    "fig1 = plt.gcf()\n",
    "plt.show()\n",
    "plt.draw()\n",
    "fig1.savefig('../../references/highquality/figure9.pdf', dpi = 300)\n"
   ]
  },
  {
   "cell_type": "code",
   "execution_count": null,
   "metadata": {},
   "outputs": [],
   "source": [
    "rf = pd.read_csv(\"../../data/metrics/rf.csv\")\n",
    "svm = pd.read_csv(\"../../data/metrics/svm.csv\")\n",
    "unet = pd.read_csv(\"../../data/metrics/unet.csv\")\n",
    "new_metrics = pd.read_csv(\"../../data/metrics/proposed.csv\")\n",
    "metrics = pd.concat([new_metrics, unet, svm, rf])\n",
    "\n",
    "#rf = pd.read_csv(\"../data/metrics/random_forest.csv\")\n",
    "svm = pd.read_csv(\"../../data/metrics/svm-sample.csv\")\n",
    "unet = pd.read_csv(\"../../data/metrics/unet-sample.csv\")\n",
    "proposed = pd.read_csv(\"../../data/metrics/proposed-sample.csv\")\n",
    "rf = pd.read_csv(\"../../data/metrics/rf-sample.csv\")\n",
    "#metrics['model'] = 'proposed'\n",
    "sample = pd.concat([proposed, unet, svm, rf])\n"
   ]
  },
  {
   "cell_type": "code",
   "execution_count": null,
   "metadata": {},
   "outputs": [],
   "source": [
    "# Hard F1, Soft F1, Error\n",
    "f, ((c1r1, c1r2, c1r3)) = plt.subplots(1, 3, sharey=False)\n",
    "from matplotlib import rc\n",
    "rc('text', usetex=False)\n",
    "f.set_size_inches(22, 11.)\n",
    "sns.set_style(\"white\", {'legend.frameon':False})\n",
    "sns.set(font_scale = 1.75)\n",
    "\n",
    "c1r1.set_title(r\"($\\it{a}$)\")\n",
    "one = sns.pointplot(x = 'group', y= 'soft_prec',\n",
    "    data=metrics, hue = 'model', ax = c1r1)#, style = 'variable')\n",
    "one.set_xticklabels(rotation=45, labels = ['0 to 9', '10 to 19', '20 to 29', '30 to 39', '40 to 49', '50 to 59',\n",
    "                     '60 to 69', '70 to 79', '80 to 89', '90 to 100'])\n",
    "one.set(xlabel=\"Tree cover of 140 m \" + r\"$\\times$ \" + \"140 m plot (%)\", ylabel = \"User's accuracy\")\n",
    "one.set_yticks([0.0, 0.1, 0.2, 0.3, 0.4, 0.5, 0.6, 0.7, 0.8, 0.9, 1.0])\n",
    "one.legend(fontsize='small')\n",
    "one.spines['right'].set_visible(False)\n",
    "one.spines['top'].set_visible(False)\n",
    "one.yaxis.set_ticks_position('left')\n",
    "one.xaxis.set_ticks_position('bottom')\n",
    "\n",
    "c1r2.set_title(r\"($b$)\")\n",
    "two = sns.pointplot(x = 'group', y= 'soft_rec',\n",
    "    data=metrics, hue = 'model', ax = c1r2)\n",
    "two.set_xticklabels(rotation=45, labels = ['0 to 9', '10 to 19', '20 to 29', '30 to 39', '40 to 49', '50 to 59',\n",
    "                     '60 to 69', '70 to 79', '80 to 89', '90 to 100'])\n",
    "two.set(xlabel=\"Tree cover of 140 m \" + r\"$\\times$ \" + \"140 m plot (%)\", ylabel = \"Producer's accuracy\")\n",
    "two.set_yticks([0.0, 0.1, 0.2, 0.3, 0.4, 0.5, 0.6, 0.7, 0.8, 0.9, 1.0])\n",
    "two.spines['right'].set_visible(False)\n",
    "two.spines['top'].set_visible(False)\n",
    "two.yaxis.set_ticks_position('left')\n",
    "two.xaxis.set_ticks_position('bottom')\n",
    "\n",
    "#c1r3.set_title(\"(\" + r\"\\textit{\" + \"c\" + \"}\" + \")\")\n",
    "c1r3.set_title(r\"($c$)\")\n",
    "three = sns.pointplot(x = 'group', y= 'error',\n",
    "    data=sample, hue = 'model', ax = c1r3)#, style = 'variable')\n",
    "three.set_xticklabels(rotation=45, labels = ['0 to 9', '10 to 19', '20 to 29', '30 to 39', '40 to 49', '50 to 59',\n",
    "                     '60 to 69', '70 to 79', '80 to 89', '90 to 100'])\n",
    "three.set(xlabel=\"Tree cover of 140 m \" + r\"$\\times$ \" + \"140 m plot (%)\", ylabel = \"Absolute error (%)\")\n",
    "three.set_yticks([0, 5, 10, 15, 20, 25, 30,35, 40,45, 50])\n",
    "three.spines['right'].set_visible(False)\n",
    "three.spines['top'].set_visible(False)\n",
    "three.yaxis.set_ticks_position('left')\n",
    "three.xaxis.set_ticks_position('bottom')\n",
    "\n",
    "sns.set_style(\"white\", {'legend.frameon':False, \"font.family\":\"Times New Roman\"})\n",
    "legend = one.legend(framealpha=0.0)\n",
    "legend.get_frame().set_facecolor('none')\n",
    "\n",
    "two.legend_.remove()\n",
    "three.legend_.remove()\n",
    "#plt.show()\n",
    "fig1 = plt.gcf()\n",
    "sns.set_style(\"white\", {'legend.frameon':False, \"font.family\":\"Times New Roman\"})\n",
    "plt.show()\n",
    "plt.draw()\n",
    "fig1.savefig('../../references/highquality/figure8.pdf')\n",
    "\n"
   ]
  },
  {
   "cell_type": "code",
   "execution_count": null,
   "metadata": {},
   "outputs": [],
   "source": []
  }
 ],
 "metadata": {
  "kernelspec": {
   "display_name": "remote_sensing",
   "language": "python",
   "name": "remote_sensing"
  },
  "language_info": {
   "codemirror_mode": {
    "name": "ipython",
    "version": 3
   },
   "file_extension": ".py",
   "mimetype": "text/x-python",
   "name": "python",
   "nbconvert_exporter": "python",
   "pygments_lexer": "ipython3",
   "version": "3.6.8"
  }
 },
 "nbformat": 4,
 "nbformat_minor": 2
}
