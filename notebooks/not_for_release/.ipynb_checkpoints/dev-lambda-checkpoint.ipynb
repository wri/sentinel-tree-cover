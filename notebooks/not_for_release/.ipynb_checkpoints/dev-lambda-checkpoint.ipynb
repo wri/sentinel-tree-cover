{
 "cells": [
  {
   "cell_type": "code",
   "execution_count": null,
   "metadata": {},
   "outputs": [],
   "source": [
    "import numpy as np\n",
    "import hickle as hkl\n",
    "from scipy.sparse.linalg import splu\n",
    "from scipy import sparse\n",
    "import scipy\n",
    "from tqdm import tqdm_notebook, tnrange\n",
    "import seaborn as sns\n",
    "import matplotlib.pyplot as plt\n",
    "%matplotlib inline\n",
    "%run ../../src/downloading/utils.py"
   ]
  },
  {
   "cell_type": "markdown",
   "metadata": {},
   "source": [
    "The idea is to:\n",
    "\n",
    "* Look at the MSE only for the original data\n",
    "* ID whether to horizontally or linearly interpolate the data in calc_and_save\n",
    "* Look at a graph to see what the best value of lambda is\n",
    "\n",
    "Do this for a different range of len(data_x) / 72 and plot the best value of lambda for each range of data availability\n",
    "Adjust the scatterplto to show the original data and the smoothed data side by side with the residuals (?)"
   ]
  },
  {
   "cell_type": "code",
   "execution_count": null,
   "metadata": {},
   "outputs": [],
   "source": [
    "data_old = hkl.load(\"../../tile_data/uganda-agroforestry-2/2019/raw/s2/0_0.hkl\")\n",
    "dates = hkl.load(\"../../tile_data/uganda-agroforestry-2/2019/raw/misc/s2_dates_0_0.hkl\")\n",
    "clouds = hkl.load(\"../../tile_data/uganda-agroforestry-2/2019/raw/clouds/clouds_0_0.hkl\")\n",
    "#data = data = data[:, :, :, 0]"
   ]
  },
  {
   "cell_type": "code",
   "execution_count": null,
   "metadata": {},
   "outputs": [],
   "source": [
    "cloud_means = np.mean(clouds, axis = (1, 2))\n",
    "to_remove = np.argwhere(cloud_means > 0.02)\n",
    "data_old = np.delete(data_old, to_remove, 0)\n",
    "dates = np.delete(dates, to_remove, 0)\n",
    "dates.shape"
   ]
  },
  {
   "cell_type": "code",
   "execution_count": null,
   "metadata": {},
   "outputs": [],
   "source": [
    "idxes = []\n",
    "idxes_original = []\n",
    "closest = np.array([x for x in range(0, 360, 5)])\n",
    "for idx, val in enumerate(closest):\n",
    "    if np.min(abs(val - dates)) == 0:\n",
    "        idxes.append(idx)\n",
    "        idxes_original.append(np.argmin(abs(val - dates)))\n",
    "idxes = np.array(idxes)\n",
    "idxes_original = np.array(idxes_original)"
   ]
  },
  {
   "cell_type": "code",
   "execution_count": null,
   "metadata": {},
   "outputs": [],
   "source": [
    "data, _ = calculate_and_save_best_images(data_old, dates)"
   ]
  },
  {
   "cell_type": "code",
   "execution_count": null,
   "metadata": {},
   "outputs": [],
   "source": [
    "data = data[..., 0]\n",
    "data_old = data_old[..., 0]"
   ]
  },
  {
   "cell_type": "code",
   "execution_count": null,
   "metadata": {},
   "outputs": [],
   "source": [
    "data.shape"
   ]
  },
  {
   "cell_type": "code",
   "execution_count": null,
   "metadata": {},
   "outputs": [],
   "source": [
    "def initialize_smoother(lmbd: int = 800, dim = 29) -> np.ndarray:\n",
    "    diagonals = np.zeros(2*2+1)\n",
    "    diagonals[2] = 1.\n",
    "    for i in range(2):\n",
    "        diff = diagonals[:-1] - diagonals[1:]\n",
    "        diagonals = diff\n",
    "    offsets = np.arange(2+1)\n",
    "    shape = (dim - 2, dim)\n",
    "    E = sparse.eye(dim, format = 'csc')\n",
    "    D = scipy.sparse.diags(diagonals, offsets, shape)\n",
    "    D = D.conj().T.dot(D) * lmbd\n",
    "    coefmat = E + D\n",
    "    splu_coef = splu(coefmat)\n",
    "    return splu_coef\n",
    "\n",
    "def smooth(y: np.ndarray, splu_coef: np.ndarray) -> np.ndarray:\n",
    "    ''' \n",
    "    Apply whittaker smoothing to a 1-dimensional array, returning a 1-dimensional array\n",
    "    '''\n",
    "    return splu_coef.solve(np.array(y))"
   ]
  },
  {
   "cell_type": "code",
   "execution_count": null,
   "metadata": {},
   "outputs": [],
   "source": [
    "sns.scatterplot([x for x in range(data_old.shape[0])], data_old[:, 55, 55])"
   ]
  },
  {
   "cell_type": "code",
   "execution_count": null,
   "metadata": {},
   "outputs": [],
   "source": [
    "sns.scatterplot([x for x in range(data.shape[0])], data[:, 55, 55])"
   ]
  },
  {
   "cell_type": "code",
   "execution_count": null,
   "metadata": {},
   "outputs": [],
   "source": [
    "sns.scatterplot([x for x in range(data.shape[0])], data[:, 55, 55])"
   ]
  },
  {
   "cell_type": "code",
   "execution_count": null,
   "metadata": {},
   "outputs": [],
   "source": [
    "print(\"Horizintaol method\")\n",
    "errors2 = []\n",
    "for lmbd in [x for x in range(0, 1000, 100)]:\n",
    "\n",
    "    splu_coef = initialize_smoother(lmbd, int(data.shape[0]))\n",
    "\n",
    "    smoothed = np.copy(data)\n",
    "    for x_value in tnrange(smoothed.shape[1]):\n",
    "        for y_value in range(smoothed.shape[2]):\n",
    "            smoothed[:, x_value, y_value] = smooth(data[:, x_value, y_value], splu_coef)\n",
    "    sns.scatterplot([x for x in range(data.shape[0])], smoothed[:, 35, 35])\n",
    "    plt.show()\n",
    "    \n",
    "    original_data = data_old[idxes_original]\n",
    "    new_data = smoothed[idxes]\n",
    "    mean_error = np.sum(abs(new_data - original_data)) / np.sum(original_data)\n",
    "    errors2.append(mean_error)\n",
    "    print(f\"Lambda {lmbd}: error: {mean_error}\")"
   ]
  },
  {
   "cell_type": "code",
   "execution_count": null,
   "metadata": {},
   "outputs": [],
   "source": [
    "errors2 = []\n",
    "for lmbd in [x for x in range(0, 1000, 100)]:\n",
    "\n",
    "    splu_coef = initialize_smoother(lmbd, int(data.shape[0]))\n",
    "\n",
    "    smoothed = np.copy(data)\n",
    "    for x_value in tnrange(smoothed.shape[1]):\n",
    "        for y_value in range(smoothed.shape[2]):\n",
    "            smoothed[:, x_value, y_value] = smooth(data[:, x_value, y_value], splu_coef)\n",
    "    sns.scatterplot([x for x in range(data.shape[0])], smoothed[:, 35, 35])\n",
    "    plt.show()\n",
    "    \n",
    "    original_data = data_old[idxes_original]\n",
    "    new_data = smoothed[idxes]\n",
    "    mean_error = np.sum(abs(new_data - original_data)) / np.sum(original_data)\n",
    "    errors2.append(mean_error)\n",
    "    print(f\"Lambda {lmbd}: error: {mean_error}\")"
   ]
  },
  {
   "cell_type": "code",
   "execution_count": null,
   "metadata": {},
   "outputs": [],
   "source": [
    "# (27, ) out of 72\n",
    "sns.scatterplot([x for x in range(len(errors2) - 1)], np.array(errors2)[1:])"
   ]
  },
  {
   "cell_type": "code",
   "execution_count": null,
   "metadata": {},
   "outputs": [],
   "source": [
    "# (10, ) out of 72\n",
    "sns.scatterplot([x for x in range(len(errors2) - 1)], np.array(errors2)[1:]*1000)"
   ]
  },
  {
   "cell_type": "code",
   "execution_count": null,
   "metadata": {},
   "outputs": [],
   "source": [
    "np.array(errors2) - np.array(errors)"
   ]
  }
 ],
 "metadata": {
  "kernelspec": {
   "display_name": "remote_sensing",
   "language": "python",
   "name": "remote_sensing"
  },
  "language_info": {
   "codemirror_mode": {
    "name": "ipython",
    "version": 3
   },
   "file_extension": ".py",
   "mimetype": "text/x-python",
   "name": "python",
   "nbconvert_exporter": "python",
   "pygments_lexer": "ipython3",
   "version": "3.6.8"
  }
 },
 "nbformat": 4,
 "nbformat_minor": 2
}
