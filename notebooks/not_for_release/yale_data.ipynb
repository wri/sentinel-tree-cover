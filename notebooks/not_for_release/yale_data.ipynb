{
 "cells": [
  {
   "cell_type": "code",
   "execution_count": null,
   "metadata": {},
   "outputs": [],
   "source": [
    "import pandas as pd\n",
    "import numpy as np"
   ]
  },
  {
   "cell_type": "code",
   "execution_count": null,
   "metadata": {},
   "outputs": [],
   "source": [
    "plot_id = 128"
   ]
  },
  {
   "cell_type": "code",
   "execution_count": null,
   "metadata": {},
   "outputs": [],
   "source": [
    "arr = np.load(\"../tile_data/nicaragua/1/1.npy\")\n",
    "def tile_data(arr):\n",
    "    tiled = []\n",
    "    for x in range(0, 128, 16):\n",
    "        for y in range(0, 128, 16):\n",
    "            tiled.append(arr[:, x:x+16, y:y+16, :])\n",
    "    return tiled\n",
    "\n",
    "tiled = tile_data(arr)\n",
    "plot_ids = [str(x).zfill(5) for x in range(plot_id, plot_id + 64)]\n",
    "for i in range(len(tiled)):\n",
    "    np.save(\"../data/yale/unlabeled/{}.npy\".format(plot_ids[i]), tiled[i])\n",
    "plot_id += 64"
   ]
  },
  {
   "cell_type": "code",
   "execution_count": null,
   "metadata": {},
   "outputs": [],
   "source": []
  }
 ],
 "metadata": {
  "kernelspec": {
   "display_name": "remote_sensing",
   "language": "python",
   "name": "remote_sensing"
  },
  "language_info": {
   "codemirror_mode": {
    "name": "ipython",
    "version": 3
   },
   "file_extension": ".py",
   "mimetype": "text/x-python",
   "name": "python",
   "nbconvert_exporter": "python",
   "pygments_lexer": "ipython3",
   "version": "3.6.8"
  }
 },
 "nbformat": 4,
 "nbformat_minor": 2
}
