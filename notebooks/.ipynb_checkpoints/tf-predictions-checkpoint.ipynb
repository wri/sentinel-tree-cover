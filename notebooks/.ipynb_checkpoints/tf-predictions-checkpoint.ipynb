{
 "cells": [
  {
   "cell_type": "code",
   "execution_count": null,
   "metadata": {},
   "outputs": [],
   "source": [
    "import tensorflow as tf\n",
    "sess = tf.Session()\n",
    "from keras import backend as K\n",
    "K.set_session(sess)\n",
    "\n",
    "import numpy as np \n",
    "\n",
    "import seaborn as sns\n",
    "import matplotlib.pyplot as plt\n",
    "%matplotlib inline\n",
    "import os\n",
    "\n",
    "import rasterio\n",
    "from rasterio.transform import from_origin\n",
    "\n",
    "\n"
   ]
  },
  {
   "cell_type": "code",
   "execution_count": null,
   "metadata": {},
   "outputs": [],
   "source": [
    "new_saver = tf.train.import_meta_graph('../models/dev_best/model.meta')\n",
    "new_saver.restore(sess, tf.train.latest_checkpoint('../models/dev_best/'))"
   ]
  },
  {
   "cell_type": "code",
   "execution_count": null,
   "metadata": {},
   "outputs": [],
   "source": [
    "image_size = 14\n",
    "pred_x = []\n",
    "pred_len = []\n",
    "SHAPE_X = 18\n",
    "SHAPE_Y = 12\n",
    "pred_files = [\"../data/test/\" + str(x) + \".npy\" for x in range(0, SHAPE_X*SHAPE_Y)]\n",
    "\n",
    "\n",
    "\n",
    "def remove_blank_steps(array):\n",
    "    to_update = {}\n",
    "    sets = []\n",
    "    for k in range(6):\n",
    "        for i in range(array.shape[0]):\n",
    "            for k in range(array.shape[-1]):\n",
    "                mean = (np.mean(array[i, :, :, k]))\n",
    "                if mean == 0:\n",
    "                    sets.append(i)\n",
    "                    if i < array.shape[0] - 1:\n",
    "                        array[i, :, :, k] = array[i + 1, :, :, k]\n",
    "                    else:\n",
    "                        array[i, :, :, k] = array[i - 1, :, :, k]\n",
    "                if mean == 1:\n",
    "                    sets.append(i)\n",
    "                    if i < array.shape[0] - 1:\n",
    "                        array[i, :, :, k] = array[i + 1, :, :, k]\n",
    "                    else:\n",
    "                        array[i, :, :, k] = array[i - 1, :, :, k]\n",
    "    for i in range(array.shape[0]):\n",
    "        for k in range(array.shape[-1]):\n",
    "            mean = (np.mean(array[i, :, :, k]))\n",
    "            if mean == 0:\n",
    "                if i < array.shape[0] - 2:\n",
    "                    array[i, :, :, k] = array[i + 2, :, :, k]\n",
    "                else:\n",
    "                    array[i, :, :, k] = array[i - 2, :, :, k]\n",
    "            if mean == 1:\n",
    "                if i < array.shape[0] - 2:\n",
    "                    array[i, :, :, k] = array[i + 2, :, :, k]\n",
    "                else:\n",
    "                    array[i, :, :, k] = array[i - 2, :, :, k]\n",
    "    return array\n",
    "\n",
    "\n",
    "def ndvi(x):\n",
    "    # (B8 - B4)/(B8 + B4)\n",
    "    ndvis = [(im[:, :, 6] - im[:, :, 2]) / (im[:, :, 6] + im[:, :, 2]) for im in x]\n",
    "    min_ndvi = min([np.min(x) for x in ndvis])\n",
    "    max_ndvi = max([np.max(x) for x in ndvis])\n",
    "    if min_ndvi < -1 or max_ndvi > 1:\n",
    "        print(\"ERROR\")\n",
    "    ndvis = [((x + 1) / 2) for x in ndvis]\n",
    "    min_ndvi = min([np.min(x) for x in ndvis])\n",
    "    max_ndvi = max([np.max(x) for x in ndvis])\n",
    "    print(min_ndvi, max_ndvi)\n",
    "    x_padding = np.zeros((x.shape[0], image_size, image_size, 1))\n",
    "    x = np.concatenate((x, x_padding), axis = 3)\n",
    "    # Iterate over each time step and add NDVI in as the 11th channel\n",
    "    for i in range(x.shape[0]):\n",
    "        x[i, :, :, 10] = ndvis[i]\n",
    "    return x\n",
    "\n",
    "\n",
    "def evi(x):\n",
    "    # 2.5 x (08 - 04) / (08 + 6 * 04 - 7.5 * 02 + 1)\n",
    "    evis = [2.5 * ((im[:, :, 6] - im[:, :, 2]) / (im[:, :, 6] + 6 * im[:,:, 2] - 7.5 * im[:, :, 0] + 1)) for im in x]\n",
    "    x_padding = np.zeros((x.shape[0], image_size, image_size, 1))\n",
    "    x = np.concatenate((x, x_padding), axis = 3)\n",
    "    # Iterate over each time step and add NDVI in as the 11th channel\n",
    "    for i in range(x.shape[0]):\n",
    "        x[i, :, :, 11] = evis[i]\n",
    "    return x\n",
    "    \n",
    "def savi(x):\n",
    "    # (1.5)(08 - 04)/ (08 + 04 + 0.5)\n",
    "    savis = [(1.5 * im[:, :, 6] - im[:, :, 2]) / (im[:, :, 6] + im[:, :, 2] + 0.5) for im in x]\n",
    "    x_padding = np.zeros((x.shape[0], image_size, image_size, 1))\n",
    "    x = np.concatenate((x, x_padding), axis = 3)\n",
    "    # Iterate over each time step and add NDVI in as the 11th channel\n",
    "    for i in range(x.shape[0]):\n",
    "        x[i, :, :, 12] = savis[i]\n",
    "    return x\n",
    "\n",
    "for i in pred_files:\n",
    "    data = np.load(i)\n",
    "    print(i)\n",
    "    data = ndvi(data)\n",
    "    data = evi(data)\n",
    "    data = savi(data)\n",
    "    data = remove_blank_steps(data)\n",
    "    pred_len.append(data.shape[0])\n",
    "    if data.shape[0] < 24:\n",
    "        padding = np.zeros((24 - data.shape[0], 14, 14, 13))\n",
    "        data = np.concatenate((data, padding), axis = 0)\n",
    "    pred_x.append(data)\n",
    "pred_len = np.stack(pred_len).reshape((len(pred_len), 1))"
   ]
  },
  {
   "cell_type": "code",
   "execution_count": null,
   "metadata": {},
   "outputs": [],
   "source": [
    "logits = tf.get_default_graph().get_tensor_by_name(\"conv2d_4/Sigmoid:0\")\n",
    "inp = tf.get_default_graph().get_tensor_by_name(\"Placeholder:0\")\n",
    "length = tf.get_default_graph().get_tensor_by_name(\"Placeholder_1:0\")"
   ]
  },
  {
   "cell_type": "code",
   "execution_count": null,
   "metadata": {},
   "outputs": [],
   "source": [
    "preds = []\n",
    "for i in range(int(len(pred_files) / 2)):\n",
    "    left_inp = pred_x[2*i].reshape(1, 24, 14, 14, 13)\n",
    "    left_len = np.array(pred_len[2*i]).reshape(1, 1)\n",
    "    right_inp = pred_x[(2*i)+1].reshape(1, 24, 14, 14, 13)\n",
    "    right_len = np.array(pred_len[(2*i)+1]).reshape(1, 1)\n",
    "    middle_inp = np.concatenate((left_inp[:, :, :, 7:, :], right_inp[:, :, :, :7, :]), axis = -2)\n",
    "    left = sess.run(logits, feed_dict={inp:left_inp, length:left_len}).reshape(16, 16)\n",
    "    right = sess.run(logits, feed_dict={inp:right_inp, length:right_len}).reshape(16, 16)\n",
    "    middle = sess.run(logits, feed_dict={inp:middle_inp, length:left_len}).reshape(16, 16)\n",
    "    left = left[1:15, 1:15]\n",
    "    right = right[1:15, 1:15]\n",
    "    middle = middle[1:15, 1:15]\n",
    "    left[:, 7:] = (2*left[:, 7:] + middle[:, :7])/3\n",
    "    right[:, :7] = (2*right[:, :7] + middle[:, 7:])/3\n",
    "    preds.append(left)\n",
    "    preds.append(right)\n",
    "    #y = sess.run([logits], feed_dict={inp: pred_x[i].reshape(1, 24, 14, 14, 11),\n",
    "    #                          length: pred_len[i].reshape(1, 1),\n",
    "    #                          })[0]\n",
    "    #pred = y.reshape(14, 14)\n",
    "    #pred[np.where(pred > 0.45)] = 1\n",
    "    #pred[np.where(pred < 0.40)] = 0\n",
    "    #preds.append(pred)\n",
    "    \n",
    "#row1 = np.concatenate(preds[:SHAPE_X], axis = 1)\n",
    "#row2 = np.concatenate(preds[SHAPE_X:2*SHAPE_X], axis = 1)\n",
    "#row3 = np.concatenate(preds[2*SHAPE_X:], axis = 1)\n",
    "#print(row3.shape)\n",
    "#stacked = np.concatenate((row3, row2, row1), axis = 0)"
   ]
  },
  {
   "cell_type": "code",
   "execution_count": null,
   "metadata": {},
   "outputs": [],
   "source": [
    "preds_stacked = []\n",
    "for i in range(0, SHAPE_X*SHAPE_Y, SHAPE_X):\n",
    "    preds_stacked.append(np.concatenate(preds[i:i + SHAPE_X], axis = 1))\n",
    "\n",
    "preds_stacked.reverse()\n",
    "stacked = np.concatenate(preds_stacked, axis = 0)\n",
    "stacked.shape"
   ]
  },
  {
   "cell_type": "code",
   "execution_count": null,
   "metadata": {},
   "outputs": [],
   "source": [
    "plt.figure(figsize=(18, 9))\n",
    "stacked[np.where(stacked > 0.3)] = 1\n",
    "stacked[np.where(stacked < 0.2)] = 0\n",
    "\n",
    "sns.heatmap(stacked)"
   ]
  },
  {
   "cell_type": "code",
   "execution_count": null,
   "metadata": {},
   "outputs": [],
   "source": [
    "plt.figure(figsize=(18, 9))\n",
    "#stacked[np.where(stacked > 0.3)] = 1\n",
    "#stacked[np.where(stacked < 0.2)] = 0\n",
    "\n",
    "sns.heatmap(stacked)"
   ]
  },
  {
   "cell_type": "code",
   "execution_count": null,
   "metadata": {},
   "outputs": [],
   "source": [
    "plt.figure(figsize=(18, 9))\n",
    "stacked[np.where(stacked > 0.45)] = 1\n",
    "stacked[np.where(stacked < 0.45)] = 0\n",
    "\n",
    "sns.heatmap(stacked)"
   ]
  },
  {
   "cell_type": "code",
   "execution_count": null,
   "metadata": {},
   "outputs": [],
   "source": [
    "transform = rasterio.transform.from_bounds(west = 38.170059593640175, south = 13.58143369769838,\n",
    "                                           east = 38.19339515703414, north = 13.596699659838286,\n",
    "                                           width = stacked.shape[0], height = stacked.shape[1])\n",
    "\n",
    "new_dataset = rasterio.open('test6.tif', 'w', driver = 'GTiff',\n",
    "                            height = stacked.shape[0], width = stacked.shape[1], count = 1,\n",
    "                           dtype = str(stacked.dtype),\n",
    "                           crs = '+proj=longlat +ellps=WGS84 +datum=WGS84 +no_defs',\n",
    "                           transform=transform)\n",
    "new_dataset.write(stacked, 1)\n",
    "new_dataset.close()"
   ]
  },
  {
   "cell_type": "code",
   "execution_count": null,
   "metadata": {},
   "outputs": [],
   "source": [
    "import itertools\n",
    "def local_sum(arr):\n",
    "    indices_x = [x for x in range(0, arr.shape[0] - 1, 2)]\n",
    "    indices_y = [x for x in range(0, arr.shape[1] - 1, 2)]\n",
    "    perms = [(x, y) for x, y in itertools.product(indices_x, indices_y)]\n",
    "    #perms = ([list(zip(indices_x, p)) for p in itertools.permutations(indices_y)])\n",
    "    #perms = [item for sublist in perms for item in sublist]\n",
    "    #perms = list(set(perms))\n",
    "    indexes = [([a, a + 2], [b, b + 2]) for a,b in perms]\n",
    "    #print(perms)\n",
    "    for i in indexes:\n",
    "        sub = arr[i[0][0]:i[0][1], i[1][0]:i[1][1]]\n",
    "        summed = (sum(sum(sub)))\n",
    "        summed = np.array([[summed for x in range(2)] for y in range(2)])\n",
    "        arr[i[0][0]:i[0][1], i[1][0]:i[1][1]] = summed\n",
    "    return arr"
   ]
  },
  {
   "cell_type": "code",
   "execution_count": null,
   "metadata": {},
   "outputs": [],
   "source": [
    "summed = local_sum(stacked)\n",
    "summed[np.where(summed > 1)] = 1"
   ]
  },
  {
   "cell_type": "code",
   "execution_count": null,
   "metadata": {},
   "outputs": [],
   "source": [
    "plt.figure(figsize=(18, 10))\n",
    "sns.heatmap(summed)"
   ]
  },
  {
   "cell_type": "code",
   "execution_count": null,
   "metadata": {},
   "outputs": [],
   "source": []
  }
 ],
 "metadata": {
  "kernelspec": {
   "display_name": "remote_sensing",
   "language": "python",
   "name": "remote_sensing"
  },
  "language_info": {
   "codemirror_mode": {
    "name": "ipython",
    "version": 3
   },
   "file_extension": ".py",
   "mimetype": "text/x-python",
   "name": "python",
   "nbconvert_exporter": "python",
   "pygments_lexer": "ipython3",
   "version": "3.6.8"
  }
 },
 "nbformat": 4,
 "nbformat_minor": 2
}
