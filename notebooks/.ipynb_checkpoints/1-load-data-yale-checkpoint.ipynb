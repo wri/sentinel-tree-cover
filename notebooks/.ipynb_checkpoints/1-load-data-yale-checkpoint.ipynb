{
 "cells": [
  {
   "cell_type": "code",
   "execution_count": null,
   "metadata": {},
   "outputs": [],
   "source": [
    "from tqdm import tqdm_notebook, tnrange\n",
    "import numpy as np\n",
    "from random import shuffle\n",
    "import pandas as pd\n",
    "import os\n",
    "import random"
   ]
  },
  {
   "cell_type": "markdown",
   "metadata": {},
   "source": [
    "# Additional function definitions"
   ]
  },
  {
   "cell_type": "code",
   "execution_count": null,
   "metadata": {},
   "outputs": [],
   "source": [
    "def reconstruct_images(plot_id):\n",
    "    '''\n",
    "    Takes a plot ID and subsets the input pd.DataFrame to that plot ID\n",
    "    returns a (14, 14) array-like list with binary labels\n",
    "    '''\n",
    "    subs = df[df['PLOT_ID'] == plot_id]\n",
    "    rows = []\n",
    "    lats = reversed(sorted(subs['LAT'].unique()))\n",
    "    for i, val in enumerate(lats):\n",
    "        subs_lat = subs[subs['LAT'] == val]\n",
    "        subs_lat = subs_lat.sort_values('LON', axis = 0)\n",
    "        rows.append(list(subs_lat['TREE']))\n",
    "    return rows"
   ]
  },
  {
   "cell_type": "markdown",
   "metadata": {},
   "source": [
    "# Data loading"
   ]
  },
  {
   "cell_type": "code",
   "execution_count": null,
   "metadata": {},
   "outputs": [],
   "source": [
    "source = 'train'\n",
    "sentinel_1 = True"
   ]
  },
  {
   "cell_type": "code",
   "execution_count": null,
   "metadata": {},
   "outputs": [],
   "source": [
    "# For either train or test data, loop through each plot and determine whether there is\n",
    "# labelled Y data for it -- returning one dataframe for the entire data set\n",
    "\n",
    "if source == 'train':\n",
    "    folder = '../data/train-super/'\n",
    "    dfs = []\n",
    "    for i in os.listdir(\"../data/train-csv/\"):\n",
    "        if \".DS\" not in i:\n",
    "            print(i)\n",
    "            df = pd.read_csv(\"../data/train-csv/\" + i).drop('IMAGERY_TITLE', axis = 1)\n",
    "            df['country'] = i.split(\".\")[0]\n",
    "            dfs.append(df)\n",
    "            \n",
    "    for i in range(len(dfs)):\n",
    "        print(dfs[i].shape[0])\n",
    "        if \"PL_PLOTID\" in dfs[i].columns:\n",
    "                dfs[i] = dfs[i].drop(\"PL_PLOTID\", axis = 1)\n",
    "        if 'STACKINGPROFILEDG' in dfs[i].columns:\n",
    "            dfs[i] = dfs[i].drop('STACKINGPROFILEDG', axis = 1)\n",
    "        if 'IMAGERYYEARDG' in dfs[i].columns:\n",
    "            dfs[i] = dfs[i].drop('IMAGERYYEARDG', axis = 1)\n",
    "    \n",
    "            \n",
    "    df = pd.concat(dfs, ignore_index = True)\n",
    "    df = df.dropna(axis = 0)\n",
    "\n",
    "    existing = [int(x[:-4]) for x in os.listdir(folder) if \".DS\" not in x]\n",
    "    df = df[df['PLOT_ID'].isin(existing)]\n",
    "    plot_ids = sorted(df['PLOT_ID'].unique())\n",
    "    \n",
    "if source == 'test':\n",
    "    folder = \"../data/test-super/\"\n",
    "    dfs = []\n",
    "    for i in sorted(os.listdir(\"../data/test-csv/\")):\n",
    "        if \".DS\" not in i and \".csv\" in i:\n",
    "            print(i)\n",
    "            df = pd.read_csv(\"../data/test-csv/\" + i).drop('IMAGERY_TITLE', axis = 1)\n",
    "            if \"PL_PLOTID\" in df.columns:\n",
    "                df = df.drop(\"PL_PLOTID\", axis = 1)\n",
    "            if 'STACKINGPROFILEDG' in df.columns:\n",
    "                df = df.drop('STACKINGPROFILEDG', axis = 1)\n",
    "            if 'IMAGERYYEARDG' in df.columns:\n",
    "                df = df.drop('IMAGERYYEARDG', axis = 1)\n",
    "            print(i, df.columns)\n",
    "            df = df.dropna(axis = 0)\n",
    "            df['country'] = i.split(\".\")[0]\n",
    "            dfs.append(df)\n",
    "        \n",
    "    if len(dfs) > 1:\n",
    "        df = pd.concat(dfs, ignore_index = True)\n",
    "    print(df.shape[0]/196)\n",
    "    \n",
    "    print(df.columns)\n",
    "    df = df.dropna(axis = 0)\n",
    "    existing = [int(x[:-4]) for x in os.listdir(folder) if \".DS\" not in x]\n",
    "    df = df[df['PLOT_ID'].isin(existing)]\n",
    "    df = df.sort_values('country', axis = 0)\n",
    "    plot_ids = sorted(df['PLOT_ID'].unique())"
   ]
  },
  {
   "cell_type": "code",
   "execution_count": null,
   "metadata": {},
   "outputs": [],
   "source": [
    "# Subset out the plot ids to remove those which do not have X data\n",
    "existing = [int(x[:-4]) for x in os.listdir(\"../data/{}-super\".format(source)) if \".DS_S\" not in x]\n",
    "df = df[df['PLOT_ID'].isin(existing)]"
   ]
  },
  {
   "cell_type": "code",
   "execution_count": null,
   "metadata": {},
   "outputs": [],
   "source": [
    "# Initiate empty lists to store the X and Y data in\n",
    "data_x, data_y, lengths = [], [], []\n",
    "    \n",
    "    \n",
    "countries = {}\n",
    "count = 0\n",
    "to_remove = []\n",
    "# Iterate over each plot\n",
    "for i in tnrange(len(plot_ids)):\n",
    "    skip = True if sentinel_1 else False\n",
    "    # Load the sentinel imagery\n",
    "    if (str(plot_ids[i]) + \".npy\")in os.listdir(\"../data/{}-super/\".format(source)):\n",
    "        country = df[df['PLOT_ID'] == plot_ids[i]]['country'].unique()\n",
    "        if str(country[0]) not in countries.keys():\n",
    "            countries[str(country[0])] = [count, count]\n",
    "        countries[str(country[0])][1] = count\n",
    "        x = np.load(\"../data/{}-super/\".format(source) + str(plot_ids[i]) + \".npy\")\n",
    "        if sentinel_1 and os.path.isfile(\"../data/{}-s1/{}.npy\".format(source, str(plot_ids[i]))):\n",
    "            skip = False\n",
    "            s1 = np.load(\"../data/{}-s1/{}.npy\".format(source, str(plot_ids[i])))\n",
    "            x = np.concatenate([x, s1], axis = -1)\n",
    "        count += 1\n",
    "    y = reconstruct_images(plot_ids[i])\n",
    "    if not skip:\n",
    "        lengths.append(x.shape[0])\n",
    "        data_x.append(x)\n",
    "        data_y.append(y)\n",
    "print(\"Finished data loading\")\n",
    "\n",
    "data_x = np.stack(data_x)\n",
    "data_y = np.stack(data_y)\n",
    "lengths = np.stack(lengths)"
   ]
  },
  {
   "cell_type": "markdown",
   "metadata": {},
   "source": [
    "# Data writing"
   ]
  },
  {
   "cell_type": "code",
   "execution_count": null,
   "metadata": {},
   "outputs": [],
   "source": [
    "# This writes a (N_samples, time, width, height, channels) X data that is not standardized\n",
    "# and a (N_samples, width, height) Y data where the Y is a 0 / 1 binary tree presence\n",
    "# The X data is 16x16, and the Y data is 14x14 -- so the X data incorporates an extra boundary\n",
    "# pixel, which should be downsampled before output layer with a convolution layer with no padding\n",
    "\n",
    "if source == 'train':\n",
    "    np.save(\"../tile_data/processed/data_x_l2a_processed.npy\", data_x)\n",
    "    np.save(\"../tile_data/processed/data_y_l2a_processed.npy\", np.array(data_y))\n",
    "    np.save(\"../tile_data/processed/length_l2a_processed.npy\", np.array(lengths))\n",
    "if source == 'test' or source == \"project\":\n",
    "    print(\"Writing test data\")\n",
    "    np.save(\"../tile_data/processed/test_x_l2a_processed.npy\", data_x)\n",
    "    np.save(\"../tile_data/processed/test_y_l2a_processed.npy\", data_y)\n",
    "    np.save(\"../tile_data/processed/test_length_l2a_processed.npy\", lengths)"
   ]
  }
 ],
 "metadata": {
  "kernelspec": {
   "display_name": "remote_sensing",
   "language": "python",
   "name": "remote_sensing"
  },
  "language_info": {
   "codemirror_mode": {
    "name": "ipython",
    "version": 3
   },
   "file_extension": ".py",
   "mimetype": "text/x-python",
   "name": "python",
   "nbconvert_exporter": "python",
   "pygments_lexer": "ipython3",
   "version": "3.6.8"
  }
 },
 "nbformat": 4,
 "nbformat_minor": 2
}
