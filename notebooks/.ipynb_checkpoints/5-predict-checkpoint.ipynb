{
 "cells": [
  {
   "cell_type": "code",
   "execution_count": null,
   "metadata": {},
   "outputs": [],
   "source": [
    "import tensorflow as tf\n",
    "sess = tf.Session()\n",
    "from keras import backend as K\n",
    "K.set_session(sess)\n",
    "from osgeo import ogr, osr\n",
    "\n",
    "import numpy as np \n",
    "\n",
    "import seaborn as sns\n",
    "import matplotlib.pyplot as plt\n",
    "%matplotlib inline\n",
    "import os\n",
    "\n",
    "import rasterio\n",
    "from rasterio.transform import from_origin\n",
    "from tqdm import tnrange, tqdm_notebook\n",
    "from sentinelhub import WmsRequest, WcsRequest, MimeType, CRS, BBox, constants\n"
   ]
  },
  {
   "cell_type": "code",
   "execution_count": null,
   "metadata": {},
   "outputs": [],
   "source": [
    "new_saver = tf.train.import_meta_graph('../models/f1_auc/model.meta')\n",
    "new_saver.restore(sess, tf.train.latest_checkpoint('../models/f1_auc/'))"
   ]
  },
  {
   "cell_type": "code",
   "execution_count": null,
   "metadata": {},
   "outputs": [],
   "source": [
    "# setup function to reproject coordinates\n",
    "EPSG = CRS.WGS84\n",
    "\n",
    "def convertCoords(xy, src='', targ=''):\n",
    "\n",
    "    srcproj = osr.SpatialReference()\n",
    "    srcproj.ImportFromEPSG(src)\n",
    "    targproj = osr.SpatialReference()\n",
    "    if isinstance(targ, str):\n",
    "        targproj.ImportFromProj4(targ)\n",
    "    else:\n",
    "        targproj.ImportFromEPSG(targ)\n",
    "    transform = osr.CoordinateTransformation(srcproj, targproj)\n",
    "\n",
    "    pt = ogr.Geometry(ogr.wkbPoint)\n",
    "    pt.AddPoint(xy[0], xy[1])\n",
    "    pt.Transform(transform)\n",
    "    return([pt.GetX(), pt.GetY()])\n",
    "\n",
    "def bounding_box(point, x_offset_max = 140, y_offset_max = 140):\n",
    "    # LONG, LAT FOR SOME REASON\n",
    "    tl = point\n",
    "    \n",
    "    if 48 <= tl[0] <= 54:\n",
    "        epsg = 32639 if tl[1] > 0 else 32739\n",
    "    if 42 <= tl[0] <= 48:\n",
    "        epsg = 32638 if tl[1] > 0 else 32738\n",
    "    if 36 <= tl[0] <= 42:\n",
    "        epsg = 32637 if tl[1] > 0 else 32737\n",
    "    if 30 <= tl[0] <= 36:\n",
    "        epsg = 32636 if tl[1] > 0 else 32736\n",
    "    if 24 <= tl[0] <= 30:\n",
    "        epsg = 32635 if tl[1] > 0 else 32735\n",
    "    if 18 <= tl[0] <= 24:\n",
    "        epsg = 32634 if tl[1] > 0 else 32734\n",
    "\n",
    "    tl = convertCoords(tl, 4326, epsg)\n",
    "    \n",
    "    br = (tl[0], tl[1])\n",
    "    tl = ((tl[0] + (x_offset_max)), (tl[1] + (y_offset_max)))\n",
    "    #tl = (tl[0] - 10, tl[1] - 10)\n",
    "    br = convertCoords(br, epsg, 4326)\n",
    "    tl = convertCoords(tl, epsg, 4326)\n",
    "    \n",
    "    min_x = tl[0] # original X offset - 10 meters\n",
    "    max_x = br[0] # original X offset + 10*GRID_SIZE meters\n",
    "    \n",
    "    min_y = tl[1] # original Y offset - 10 meters\n",
    "    max_y = br[1] # original Y offset + 10 meters + 140 meters\n",
    "    # (min_x, min_y), (max_x, max_y)\n",
    "    # (bl, tr)\n",
    "    return [(min_x, min_y), (max_x, max_y)]"
   ]
  },
  {
   "cell_type": "code",
   "execution_count": null,
   "metadata": {},
   "outputs": [],
   "source": [
    "point = (38.157342, 13.567941)\n",
    "image_size = 16\n",
    "pred_x = []\n",
    "pred_len = []\n",
    "SHAPE_X = 150\n",
    "SHAPE_Y = 44\n",
    "pred_files = [\"../data/test_final/\" + str(x) + \".npy\" for x in range(0, SHAPE_X*SHAPE_Y)]\n",
    "\n",
    "\n",
    "max_point = bounding_box(point, x_offset_max = 140*(SHAPE_X+1), y_offset_max = 140*(SHAPE_Y+1))\n",
    "print(max_point)\n",
    "\n",
    "west = point[0]\n",
    "east = max_point[0][0]\n",
    "south = point[1]\n",
    "north = max_point[0][1]\n",
    "west = 38.157342\n",
    "#east = 38.35303923647131\n",
    "print(west, east, south, north)"
   ]
  },
  {
   "cell_type": "code",
   "execution_count": null,
   "metadata": {},
   "outputs": [],
   "source": [
    "max_point"
   ]
  },
  {
   "cell_type": "code",
   "execution_count": null,
   "metadata": {},
   "outputs": [],
   "source": [
    "from tqdm import tqdm_notebook, tnrange\n",
    "\n",
    "\n",
    "for i in tnrange(len(pred_files)):\n",
    "    data = np.load(pred_files[i])\n",
    "    data = ndvi(data)\n",
    "    data = evi(data)\n",
    "    x = savi(data)\n",
    "    x = remove_blank_steps(x)\n",
    "    x[:, :, :, 10] /= 90\n",
    "    pred_len.append(x.shape[0])\n",
    "    if x.shape[0] < 24:\n",
    "        padding = np.zeros((24 - x.shape[0], 16, 16, 14))\n",
    "        x = np.concatenate((x, padding), axis = 0)\n",
    "    pred_x.append(x)\n",
    "pred_len = np.stack(pred_len).reshape((len(pred_len), 1))"
   ]
  },
  {
   "cell_type": "code",
   "execution_count": null,
   "metadata": {},
   "outputs": [],
   "source": [
    "pred_x = np.stack(pred_x)\n",
    "print(pred_x.shape)"
   ]
  },
  {
   "cell_type": "code",
   "execution_count": null,
   "metadata": {},
   "outputs": [],
   "source": [
    "min_all = [9.99999901978299e-05,\n",
    " 9.99999901978299e-05,\n",
    " 9.999999747378752e-05,\n",
    " 9.999999747378752e-05,\n",
    " 9.99999901978299e-05,\n",
    " 9.99999901978299e-05,\n",
    " 9.99999901978299e-05,\n",
    " 9.99999901978299e-05,\n",
    " 9.99999901978299e-05,\n",
    " 9.999999747378752e-05,\n",
    " 0.0,\n",
    " 0.0009784996509552002,\n",
    " -0.5551546856795396,\n",
    " -0.3278700462567416]\n",
    "\n",
    "max_all = [0.513949990272522,\n",
    " 0.42543330788612366,\n",
    " 0.6383500099182129,\n",
    " 0.4751499891281128,\n",
    " 0.4751499891281128,\n",
    " 0.5809000134468079,\n",
    " 0.5490999817848206,\n",
    " 0.5982999801635742,\n",
    " 0.5999249815940857,\n",
    " 0.6338000297546387,\n",
    " 0.8164800855848524,\n",
    " 0.9996761083602905,\n",
    " 0.960464043379473,\n",
    " 0.7620595406861992]\n",
    "\n",
    "\n",
    "for x in range(0, pred_x.shape[-1]):\n",
    "    \n",
    "    #min_all.append(mins)\n",
    "    #max_all.append(maxs)\n",
    "    pred_x[:, :, :, :, x] = np.clip(pred_x[:, :, :, :, x], min_all[x], max_all[x])\n",
    "    pred_x[:, :, :, :, x] = (pred_x[:, :, :, :, x] - min_all[x]) / (max_all[x] - min_all[x])\n",
    "    mins, maxs = (np.min(pred_x[:, :, :, :, x]), np.max(pred_x[:, :, :, :, x]))\n",
    "    print(mins, maxs)\n",
    "    \n",
    "print(\"The data has been scaled to [0, 1]\")"
   ]
  },
  {
   "cell_type": "code",
   "execution_count": null,
   "metadata": {},
   "outputs": [],
   "source": [
    "for i in range(50):\n",
    "    try:\n",
    "        logits = tf.get_default_graph().get_tensor_by_name(\"conv2d_{}/Sigmoid:0\".format(i))\n",
    "    except Exception:\n",
    "        pass\n",
    "    "
   ]
  },
  {
   "cell_type": "code",
   "execution_count": null,
   "metadata": {},
   "outputs": [],
   "source": [
    "#logits = tf.get_default_graph().get_tensor_by_name(\"conv2d_11/Sigmoid:0\")\n",
    "inp = tf.get_default_graph().get_tensor_by_name(\"Placeholder:0\")\n",
    "length = tf.get_default_graph().get_tensor_by_name(\"Placeholder_1:0\")"
   ]
  },
  {
   "cell_type": "code",
   "execution_count": null,
   "metadata": {},
   "outputs": [],
   "source": [
    "preds = []\n",
    "for i in tnrange(int(len(pred_files) / 2)):\n",
    "    one = pred_x[2*i].reshape(1, 24, 16, 16, 14)\n",
    "    two = pred_x[(2*i)+1].reshape(1, 24, 16, 16, 14)\n",
    "    #three = pred_x[(4*i)+2].reshape(1, 24, 16, 16, 13)\n",
    "    #four = pred_x[(4*i)+3].reshape(1, 24, 16, 16, 13)\n",
    "    #middle_1 = np.concatenate((one[:, :, :, 7:, :], two[:, :, :, :7, :]), axis = -2)\n",
    "    #middle_2 = np.concatenate((two[:, :, :, 7:, :], three[:, :, :, :7, :]), axis = -2)\n",
    "    #middle_3 = np.concatenate((three[:, :, :, 7:, :], four[:, :, :, :7, :]), axis = -2)\n",
    "    left_len = np.array(pred_len[2*i]).reshape(1, 1)\n",
    "    right_len = np.array(pred_len[(2*i)+1]).reshape(1, 1)\n",
    "\n",
    "    one = sess.run(logits, feed_dict={inp:one, length:left_len}).reshape(14, 14)\n",
    "    two = sess.run(logits, feed_dict={inp:two, length:right_len}).reshape(14, 14)\n",
    "    #three = sess.run(logits, feed_dict={inp:three, length:right_len}).reshape(12, 12)\n",
    "    #four = sess.run(logits, feed_dict={inp:four, length:right_len}).reshape(12, 12)\n",
    "    #middle_1 = sess.run(logits, feed_dict={inp:middle_1, length:left_len}).reshape(12, 12)\n",
    "    #middle_2 = sess.run(logits, feed_dict={inp:middle_2, length:left_len}).reshape(14, 14)\n",
    "    #middle_3 = sess.run(logits, feed_dict={inp:middle_3, length:left_len}).reshape(14, 14)\n",
    "    #one[:, 6:] = (one[:, 6:] + middle_1[:, :6])/2\n",
    "    #two[:, :6] = (two[:, :6] + middle_1[:, 6:])/2\n",
    "    #two[:, 7:] = (two[:, 7:] + middle_2[:, :7])/2\n",
    "    #three[:, :7] = (three[:, :7] + middle_2[:, 7:])/2\n",
    "    #three[:, 7:] = (three[:, 7:] + middle_3[:, :7])/2\n",
    "    #four[:, :7] = (four[:, :7] + middle_3[:, 7:])/2\n",
    "    \n",
    "    preds.append(one)\n",
    "    preds.append(two)\n",
    "    #preds.append(three)\n",
    "    #preds.append(four)"
   ]
  },
  {
   "cell_type": "code",
   "execution_count": null,
   "metadata": {},
   "outputs": [],
   "source": [
    "preds_stacked = []\n",
    "for i in range(0, SHAPE_X*SHAPE_Y, SHAPE_X):\n",
    "    preds_stacked.append(np.concatenate(preds[i:i + SHAPE_X], axis = 1))\n",
    "\n",
    "preds_stacked.reverse()\n",
    "stacked = np.concatenate(preds_stacked, axis = 0)\n",
    "stacked.shape\n",
    "\n",
    "plt.figure(figsize=(18, 7))\n",
    "stacked[np.where(stacked > 0.45)] = 0.7\n",
    "stacked[np.where(stacked < 0.45)] = -1\n",
    "\n",
    "sns.heatmap(stacked)"
   ]
  },
  {
   "cell_type": "code",
   "execution_count": null,
   "metadata": {},
   "outputs": [],
   "source": [
    "preds_stacked = []\n",
    "for i in range(0, SHAPE_X*SHAPE_Y, SHAPE_X):\n",
    "    preds_stacked.append(np.concatenate(preds[i:i + SHAPE_X], axis = 1))\n",
    "\n",
    "preds_stacked.reverse()\n",
    "stacked = np.concatenate(preds_stacked, axis = 0)\n",
    "stacked.shape\n",
    "\n",
    "plt.figure(figsize=(18, 7))\n",
    "stacked[np.where(stacked > 0.45)] = 0.7\n",
    "stacked[np.where(stacked < 0.45)] = -1\n",
    "\n",
    "sns.heatmap(stacked)"
   ]
  },
  {
   "cell_type": "code",
   "execution_count": null,
   "metadata": {},
   "outputs": [],
   "source": [
    "plt.figure(figsize=(18, 6))\n",
    "stacked[np.where(stacked > 0.3)] = 0.7\n",
    "stacked[np.where(stacked < 0.3)] = -1\n",
    "\n",
    "sns.heatmap(stacked)"
   ]
  },
  {
   "cell_type": "code",
   "execution_count": null,
   "metadata": {},
   "outputs": [],
   "source": [
    "plt.figure(figsize=(18, 3))\n",
    "#stacked[np.where(stacked > 0.3)] = 0.7\n",
    "#stacked[np.where(stacked < 0.3)] = -1\n",
    "\n",
    "sns.heatmap(stacked)"
   ]
  },
  {
   "cell_type": "code",
   "execution_count": null,
   "metadata": {},
   "outputs": [],
   "source": [
    "plt.figure(figsize=(18, 6))\n",
    "#stacked[np.where(stacked > 0.5)] = 0.7\n",
    "#stacked[np.where(stacked < 0.5)] = -1\n",
    "\n",
    "sns.heatmap(stacked)"
   ]
  },
  {
   "cell_type": "code",
   "execution_count": null,
   "metadata": {},
   "outputs": [],
   "source": [
    "plt.figure(figsize=(18, 15))\n",
    "stacked[np.where(stacked > 0.)] = 0.7\n",
    "stacked[np.where(stacked < 0.4)] = -1\n",
    "\n",
    "sns.heatmap(stacked)"
   ]
  },
  {
   "cell_type": "code",
   "execution_count": null,
   "metadata": {},
   "outputs": [],
   "source": [
    "max_point = bounding_box(point, x_offset_max = 140*(SHAPE_X+2), y_offset_max = 140*(SHAPE_Y+1))\n",
    "print(max_point)\n",
    "\n",
    "west = point[0] + 0.0012\n",
    "east = max_point[0][0] - 0.001\n",
    "south = point[1] + 0.0017\n",
    "north = max_point[0][1]\n",
    "#west = 38.157342\n",
    "#east = 38.35303923647131\n",
    "print(west, south, east, north)"
   ]
  },
  {
   "cell_type": "code",
   "execution_count": null,
   "metadata": {},
   "outputs": [],
   "source": [
    "transform = rasterio.transform.from_bounds(west = west, south = south,\n",
    "                                           east = east, north = north,\n",
    "                                           width = stacked.shape[1], height = stacked.shape[1])\n",
    "\n",
    "new_dataset = rasterio.open('../../ce-hosting/includes/tigray_leaflet2.tif', 'w', driver = 'GTiff',\n",
    "                           height = stacked.shape[1], width = stacked.shape[1], count = 1,\n",
    "                           dtype = str(stacked.dtype),\n",
    "                           crs = '+proj=longlat +ellps=WGS84 +datum=WGS84 +no_defs',\n",
    "                           transform=transform)\n",
    "new_dataset.write(stacked, 1)\n",
    "new_dataset.close()"
   ]
  },
  {
   "cell_type": "code",
   "execution_count": null,
   "metadata": {},
   "outputs": [],
   "source": [
    "import itertools\n",
    "def local_sum(arr):\n",
    "    indices_x = [x for x in range(0, arr.shape[0] - 1, 2)]\n",
    "    indices_y = [x for x in range(0, arr.shape[1] - 1, 2)]\n",
    "    perms = [(x, y) for x, y in itertools.product(indices_x, indices_y)]\n",
    "    #perms = ([list(zip(indices_x, p)) for p in itertools.permutations(indices_y)])\n",
    "    #perms = [item for sublist in perms for item in sublist]\n",
    "    #perms = list(set(perms))\n",
    "    indexes = [([a, a + 2], [b, b + 2]) for a,b in perms]\n",
    "    #print(perms)\n",
    "    for i in indexes:\n",
    "        sub = arr[i[0][0]:i[0][1], i[1][0]:i[1][1]]\n",
    "        summed = (sum(sum(sub)))\n",
    "        summed = np.array([[summed for x in range(2)] for y in range(2)])\n",
    "        arr[i[0][0]:i[0][1], i[1][0]:i[1][1]] = summed\n",
    "    return arr"
   ]
  },
  {
   "cell_type": "code",
   "execution_count": null,
   "metadata": {},
   "outputs": [],
   "source": [
    "summed = local_sum(stacked)\n",
    "summed[np.where(summed > 1)] = 1"
   ]
  },
  {
   "cell_type": "code",
   "execution_count": null,
   "metadata": {},
   "outputs": [],
   "source": [
    "plt.figure(figsize=(18, 10))\n",
    "sns.heatmap(summed)"
   ]
  },
  {
   "cell_type": "code",
   "execution_count": null,
   "metadata": {},
   "outputs": [],
   "source": []
  }
 ],
 "metadata": {
  "kernelspec": {
   "display_name": "policy-toolkit",
   "language": "python",
   "name": "policy-toolkit"
  },
  "language_info": {
   "codemirror_mode": {
    "name": "ipython",
    "version": 3
   },
   "file_extension": ".py",
   "mimetype": "text/x-python",
   "name": "python",
   "nbconvert_exporter": "python",
   "pygments_lexer": "ipython3",
   "version": "3.7.3"
  }
 },
 "nbformat": 4,
 "nbformat_minor": 2
}
