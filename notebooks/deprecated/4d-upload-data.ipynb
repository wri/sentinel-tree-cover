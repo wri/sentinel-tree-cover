{
 "cells": [
  {
   "cell_type": "code",
   "execution_count": 7,
   "metadata": {},
   "outputs": [],
   "source": [
    "import boto3\n",
    "import numpy\n",
    "import yaml\n",
    "import os\n",
    "from boto3.s3.transfer import TransferConfig"
   ]
  },
  {
   "cell_type": "code",
   "execution_count": 4,
   "metadata": {},
   "outputs": [],
   "source": [
    "with open(\"../config.yaml\", 'r') as stream:\n",
    "    key = (yaml.safe_load(stream))\n",
    "    API_KEY = key['key']\n",
    "    AWSKEY = key['awskey']\n",
    "    AWSSECRET = key['awssecret']"
   ]
  },
  {
   "cell_type": "code",
   "execution_count": 24,
   "metadata": {},
   "outputs": [],
   "source": [
    "class FileUploader:\n",
    "    def __init__(self, stream = False):\n",
    "        self.total = 0\n",
    "        self.uploaded = 0\n",
    "        self.percent = 0\n",
    "        self.session = boto3.Session(\n",
    "            aws_access_key_id=AWSKEY,\n",
    "            aws_secret_access_key=AWSSECRET,\n",
    "        )\n",
    "        self.s3 = boto3.client('s3')\n",
    "        self.stream = stream\n",
    "\n",
    "    def upload_callback(self, size):\n",
    "        if self.total == 0:\n",
    "            return\n",
    "        self.uploaded += size\n",
    "        percent = int(self.uploaded / self.total * 100)\n",
    "        if percent > self.percent:\n",
    "            print(\"{} %\".format(int(self.uploaded / self.total * 100)))\n",
    "            self.percent = percent\n",
    "\n",
    "    def upload(self, bucket, key, file):\n",
    "        self.total = os.stat(file).st_size\n",
    "\n",
    "        if self.stream:\n",
    "            with open(file, 'rb') as data:\n",
    "                boto3.client('s3',\n",
    "                    aws_access_key_id=AWSKEY,\n",
    "                    aws_secret_access_key=AWSSECRET,\n",
    "                ).upload_fileobj(\n",
    "                    data, bucket, key, \n",
    "                    Config=TransferConfig(5*(1024**3)), Callback=self.upload_callback\n",
    "                )\n",
    "            \n",
    "        else:\n",
    "             boto3.client('s3',\n",
    "                    aws_access_key_id=AWSKEY,\n",
    "                    aws_secret_access_key=AWSSECRET,\n",
    "                ).upload_file(\n",
    "                    file, bucket, key, \n",
    "                    Config=TransferConfig(5*(1024**3)), Callback=self.upload_callback\n",
    "                )"
   ]
  },
  {
   "cell_type": "code",
   "execution_count": null,
   "metadata": {},
   "outputs": [],
   "source": [
    "uploader = FileUploader(stream = False)\n",
    "\n",
    "uploader.upload(bucket = 'restoration-mapper-archive',\n",
    "                key = 'test-raw.zip',\n",
    "                file = '../raw/test-raw.zip')"
   ]
  },
  {
   "cell_type": "markdown",
   "metadata": {},
   "source": [
    "# Convert .npy to .hkl files to save 13% storage space"
   ]
  },
  {
   "cell_type": "code",
   "execution_count": null,
   "metadata": {},
   "outputs": [],
   "source": [
    "import os\n",
    "import numpy as np\n",
    "import hickle as hkl\n",
    "# 1.3 before\n",
    "\n",
    "files = [os.path.join(dp, f) for dp, dn, fn in os.walk(os.path.expanduser(\"../raw/train-raw/\")) for f in fn]\n",
    "files = [x for x in files if \".npy\" in x]\n",
    "files = [x for x in files if \"output\" not in x]\n",
    "files = [x for x in files if \"processed\" not in x]\n",
    "\n",
    "for file in files:\n",
    "    print(file)\n",
    "    loaded = np.load(file)\n",
    "    hkl_path = file[:-4] + \".hkl\"\n",
    "    hkl.dump(loaded, hkl_path, mode='w', compression='gzip')\n",
    "    os.remove(file)"
   ]
  }
 ],
 "metadata": {
  "kernelspec": {
   "display_name": "remote_sensing",
   "language": "python",
   "name": "remote_sensing"
  },
  "language_info": {
   "codemirror_mode": {
    "name": "ipython",
    "version": 3
   },
   "file_extension": ".py",
   "mimetype": "text/x-python",
   "name": "python",
   "nbconvert_exporter": "python",
   "pygments_lexer": "ipython3",
   "version": "3.6.8"
  }
 },
 "nbformat": 4,
 "nbformat_minor": 2
}
