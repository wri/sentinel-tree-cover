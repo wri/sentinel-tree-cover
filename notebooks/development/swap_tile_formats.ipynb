{
 "cells": [
  {
   "cell_type": "code",
   "execution_count": null,
   "metadata": {},
   "outputs": [],
   "source": [
    "import os\n",
    "import glob\n",
    "import pandas as pd"
   ]
  },
  {
   "cell_type": "code",
   "execution_count": null,
   "metadata": {},
   "outputs": [],
   "source": [
    "old = pd.read_csv(\"../../src/processing_area_june_28.csv\")\n",
    "new = pd.read_csv(\"../../src/processing_area_nov_10.csv\")\n",
    "\n",
    "\n"
   ]
  },
  {
   "cell_type": "code",
   "execution_count": null,
   "metadata": {},
   "outputs": [],
   "source": [
    "\n",
    "import numpy as np\n",
    "len(np.unique(new['Y']))"
   ]
  },
  {
   "cell_type": "code",
   "execution_count": null,
   "metadata": {},
   "outputs": [],
   "source": [
    "new.head(5)"
   ]
  },
  {
   "cell_type": "code",
   "execution_count": null,
   "metadata": {},
   "outputs": [],
   "source": [
    "new['Y'] = np.around(new['Y'], 4)\n",
    "old['Y'] = np.around(old['Y'], 4)\n",
    "new['X'] = np.around(new['X'], 4)\n",
    "old['X'] = np.around(old['X'], 4)"
   ]
  },
  {
   "cell_type": "code",
   "execution_count": null,
   "metadata": {},
   "outputs": [],
   "source": [
    "old_y = np.unique(old['Y'])\n",
    "new_y = np.unique(new['Y'])\n",
    "\n",
    "old_x = np.unique(old['X'])\n",
    "new_x = np.unique(new['X'])\n",
    "\n",
    "to_remove_y = [x for x in new_y if x not in old_y]\n",
    "to_remove_x = [x for x in new_x if x not in old_x]\n",
    "print(len(to_remove_x))\n",
    "\n",
    "for i in to_remove_y:\n",
    "    new = new[new.Y != i]\n",
    "    \n",
    "for i in to_remove_x:\n",
    "    new = new[new.X != i]"
   ]
  },
  {
   "cell_type": "code",
   "execution_count": null,
   "metadata": {},
   "outputs": [],
   "source": [
    "new.to_csv(\"temp.csv\")\n",
    "\n"
   ]
  },
  {
   "cell_type": "code",
   "execution_count": null,
   "metadata": {},
   "outputs": [],
   "source": [
    "new = pd.merge(new, old, on = ['X', 'Y'], how = 'left')\n",
    "\n",
    "\n"
   ]
  },
  {
   "cell_type": "code",
   "execution_count": null,
   "metadata": {},
   "outputs": [],
   "source": [
    "def id_tile_number(new, old, idx):\n",
    "    if np.isnan(new['Y_tile'][idx]):\n",
    "        new_y = new['Y'][idx]\n",
    "        new_x = new['X'][idx]\n",
    "        y_tile = np.unique(old[old['Y'] == new_y]['Y_tile'])\n",
    "        x_tile = np.unique(old[old['X'] == new_x]['X_tile'])\n",
    "        assert len(y_tile) == 1\n",
    "        assert len(x_tile) == 1\n",
    "        new['X_tile'][idx] = x_tile[0]\n",
    "        new['Y_tile'][idx] = y_tile[0]\n"
   ]
  },
  {
   "cell_type": "code",
   "execution_count": null,
   "metadata": {},
   "outputs": [],
   "source": [
    "import warnings \n",
    "warnings.simplefilter(action='ignore') \n",
    "from tqdm.notebook import tnrange\n",
    "for row in tnrange(len(new)):\n",
    "    id_tile_number(new, old, row)"
   ]
  },
  {
   "cell_type": "code",
   "execution_count": null,
   "metadata": {},
   "outputs": [],
   "source": [
    "new.head(5)"
   ]
  },
  {
   "cell_type": "code",
   "execution_count": null,
   "metadata": {},
   "outputs": [],
   "source": []
  },
  {
   "cell_type": "code",
   "execution_count": null,
   "metadata": {},
   "outputs": [],
   "source": [
    "new.to_csv(\"../../src/processing_area_nov_10.csv\", index = False)\n",
    "\n",
    "\n"
   ]
  },
  {
   "cell_type": "code",
   "execution_count": null,
   "metadata": {},
   "outputs": [],
   "source": [
    "base_folder = \"../project-monitoring/tof/\"\n",
    "from shutil import copyfile, copytree\n",
    "\n",
    "for folder_y in os.listdir(base_folder):\n",
    "    if \".\" not in folder_y:\n",
    "        for folder_x in os.listdir(base_folder + folder_y):\n",
    "            if \".\" not in folder_x:\n",
    "                for file in os.listdir(base_folder + folder_y + \"/\" + folder_x):\n",
    "                    if file[-4:] == \".tif\":\n",
    "                        source_file = file\n",
    "                        source = old[old['X_tile'].astype(str) == folder_y]\n",
    "                        source = source[source['Y_tile'].astype(str) == folder_x]\n",
    "                        source = source.reset_index(drop = True)\n",
    "                        source_y = source['Y'][0]\n",
    "                        source_x = source['X'][0]\n",
    "                        dest = new[np.isclose(new['Y'], source_y)]\n",
    "                        dest = dest[np.isclose(dest['X'], source_x)]\n",
    "                        dest = dest.reset_index(drop = True)\n",
    "                        dest_x = dest['X_tile'][0]\n",
    "                        dest_y = dest['Y_tile'][0]\n",
    "                        #print(folder_y, dest_x)\n",
    "                        #print(folder_x, dest_y)\n",
    "                        \n",
    "                        new_dir = \"../project-monitoring/tiles/\" + str(dest_x) + \"/\" + str(dest_y) + \"/\"\n",
    "                        new_file = f'{new_dir}{dest_x}X{dest_y}Y_v1.tif'\n",
    "                        old_file = f'{base_folder}{folder_y}/{folder_x}/{file}'\n",
    "                        \n",
    "                        \n",
    "                        if not os.path.exists(os.path.realpath(new_dir)):\n",
    "                            os.makedirs(os.path.realpath(new_dir))\n",
    "                        copyfile(old_file, new_file)"
   ]
  },
  {
   "cell_type": "markdown",
   "metadata": {},
   "source": [
    "# Create temp copy of individual country for reprocessing"
   ]
  },
  {
   "cell_type": "code",
   "execution_count": null,
   "metadata": {},
   "outputs": [],
   "source": [
    "df = new[new['country'] == 'Rwanda']\n",
    "df.head(5)"
   ]
  },
  {
   "cell_type": "code",
   "execution_count": null,
   "metadata": {},
   "outputs": [],
   "source": [
    "from shutil import copyfile, copytree\n",
    "\n",
    "for index, row in df.iterrows():\n",
    "    x = str(int(row['X_tile']))\n",
    "    y = str(int(row['Y_tile']))\n",
    "    old_path = f'../../project-monitoring/tof-output/{str(x)}/{str(y)}/'\n",
    "    new_path = f'../../project-monitoring/rwanda/{str(x)}/{str(y)}/'\n",
    "    if os.path.isdir(old_path):\n",
    "        copytree(old_path, new_path)\n"
   ]
  }
 ],
 "metadata": {
  "kernelspec": {
   "display_name": "remote_sensing",
   "language": "python",
   "name": "remote_sensing"
  },
  "language_info": {
   "codemirror_mode": {
    "name": "ipython",
    "version": 3
   },
   "file_extension": ".py",
   "mimetype": "text/x-python",
   "name": "python",
   "nbconvert_exporter": "python",
   "pygments_lexer": "ipython3",
   "version": "3.8.8"
  }
 },
 "nbformat": 4,
 "nbformat_minor": 2
}
