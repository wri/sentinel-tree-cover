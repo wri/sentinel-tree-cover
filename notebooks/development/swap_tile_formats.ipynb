{
 "cells": [
  {
   "cell_type": "code",
   "execution_count": 1,
   "metadata": {},
   "outputs": [],
   "source": [
    "import os\n",
    "import glob\n",
    "import pandas as pd"
   ]
  },
  {
   "cell_type": "code",
   "execution_count": 12,
   "metadata": {},
   "outputs": [],
   "source": [
    "old = pd.read_csv(\"../../src/processing_area_june_23.csv\")\n",
    "new = pd.read_csv(\"../../src/processing_area_june_28.csv\")"
   ]
  },
  {
   "cell_type": "code",
   "execution_count": 13,
   "metadata": {},
   "outputs": [
    {
     "data": {
      "text/plain": [
       "1644"
      ]
     },
     "execution_count": 13,
     "metadata": {},
     "output_type": "execute_result"
    }
   ],
   "source": [
    "import numpy as np\n",
    "len(np.unique(new['Y']))"
   ]
  },
  {
   "cell_type": "code",
   "execution_count": 22,
   "metadata": {},
   "outputs": [],
   "source": [
    "new['Y'] = np.around(new['Y'], 12)\n",
    "old['Y'] = np.around(old['Y'], 12)\n",
    "new['X'] = np.around(new['X'], 12)\n",
    "old['X'] = np.around(old['X'], 12)"
   ]
  },
  {
   "cell_type": "code",
   "execution_count": 27,
   "metadata": {},
   "outputs": [],
   "source": [
    "old_y = np.unique(old['Y'])\n",
    "new_y = np.unique(new['Y'])\n",
    "\n",
    "old_x = np.unique(old['X'])\n",
    "new_x = np.unique(new['X'])\n",
    "\n",
    "to_remove_y = [x for x in new_y if x not in old_y]\n",
    "to_remove_x = [x for x in new_x if x not in old_x]\n",
    "\n",
    "for i in to_remove_y:\n",
    "    new = new[new.Y != i]\n",
    "    \n",
    "for i in to_remove_x:\n",
    "    new = new[new.X != i]"
   ]
  },
  {
   "cell_type": "code",
   "execution_count": 28,
   "metadata": {},
   "outputs": [],
   "source": [
    "new.to_csv(\"temp.csv\")"
   ]
  },
  {
   "cell_type": "code",
   "execution_count": 29,
   "metadata": {},
   "outputs": [],
   "source": [
    "new = pd.merge(new, old, on = ['X', 'Y'], how = 'left')"
   ]
  },
  {
   "cell_type": "code",
   "execution_count": 30,
   "metadata": {},
   "outputs": [],
   "source": [
    "def id_tile_number(new, old, idx):\n",
    "    if np.isnan(new['Y_tile'][idx]):\n",
    "        new_y = new['Y'][idx]\n",
    "        new_x = new['X'][idx]\n",
    "        y_tile = np.unique(old[old['Y'] == new_y]['Y_tile'])\n",
    "        x_tile = np.unique(old[old['X'] == new_x]['X_tile'])\n",
    "        assert len(y_tile) == 1\n",
    "        assert len(x_tile) == 1\n",
    "        new['X_tile'][idx] = x_tile[0]\n",
    "        new['Y_tile'][idx] = y_tile[0]\n"
   ]
  },
  {
   "cell_type": "code",
   "execution_count": 31,
   "metadata": {},
   "outputs": [
    {
     "data": {
      "application/vnd.jupyter.widget-view+json": {
       "model_id": "b9ae02b7dba94028b0ca8e440754f812",
       "version_major": 2,
       "version_minor": 0
      },
      "text/plain": [
       "HBox(children=(IntProgress(value=0, max=431105), HTML(value='')))"
      ]
     },
     "metadata": {},
     "output_type": "display_data"
    },
    {
     "name": "stderr",
     "output_type": "stream",
     "text": [
      "/Users/john.brandt/.local/lib/python3.6/site-packages/ipykernel_launcher.py:9: SettingWithCopyWarning: \n",
      "A value is trying to be set on a copy of a slice from a DataFrame\n",
      "\n",
      "See the caveats in the documentation: http://pandas.pydata.org/pandas-docs/stable/indexing.html#indexing-view-versus-copy\n",
      "  if __name__ == '__main__':\n",
      "/Users/john.brandt/.local/lib/python3.6/site-packages/ipykernel_launcher.py:10: SettingWithCopyWarning: \n",
      "A value is trying to be set on a copy of a slice from a DataFrame\n",
      "\n",
      "See the caveats in the documentation: http://pandas.pydata.org/pandas-docs/stable/indexing.html#indexing-view-versus-copy\n",
      "  # Remove the CWD from sys.path while we load stuff.\n"
     ]
    },
    {
     "name": "stdout",
     "output_type": "stream",
     "text": [
      "\n"
     ]
    }
   ],
   "source": [
    "from tqdm.notebook import tnrange\n",
    "for row in tnrange(len(new)):\n",
    "    id_tile_number(new, old, row)"
   ]
  },
  {
   "cell_type": "code",
   "execution_count": 33,
   "metadata": {},
   "outputs": [],
   "source": [
    "new.to_csv(\"processing_area_june_28.csv\")"
   ]
  },
  {
   "cell_type": "code",
   "execution_count": 71,
   "metadata": {},
   "outputs": [],
   "source": [
    "base_folder = \"../project-monitoring/tof/\"\n",
    "from shutil import copyfile, copytree\n",
    "\n",
    "for folder_y in os.listdir(base_folder):\n",
    "    if \".\" not in folder_y:\n",
    "        for folder_x in os.listdir(base_folder + folder_y):\n",
    "            if \".\" not in folder_x:\n",
    "                for file in os.listdir(base_folder + folder_y + \"/\" + folder_x):\n",
    "                    if file[-4:] == \".tif\":\n",
    "                        source_file = file\n",
    "                        source = old[old['X_tile'].astype(str) == folder_y]\n",
    "                        source = source[source['Y_tile'].astype(str) == folder_x]\n",
    "                        source = source.reset_index(drop = True)\n",
    "                        source_y = source['Y'][0]\n",
    "                        source_x = source['X'][0]\n",
    "                        dest = new[np.isclose(new['Y'], source_y)]\n",
    "                        dest = dest[np.isclose(dest['X'], source_x)]\n",
    "                        dest = dest.reset_index(drop = True)\n",
    "                        dest_x = dest['X_tile'][0]\n",
    "                        dest_y = dest['Y_tile'][0]\n",
    "                        #print(folder_y, dest_x)\n",
    "                        #print(folder_x, dest_y)\n",
    "                        \n",
    "                        new_dir = \"../project-monitoring/tiles/\" + str(dest_x) + \"/\" + str(dest_y) + \"/\"\n",
    "                        new_file = f'{new_dir}{dest_x}X{dest_y}Y_v1.tif'\n",
    "                        old_file = f'{base_folder}{folder_y}/{folder_x}/{file}'\n",
    "                        \n",
    "                        \n",
    "                        if not os.path.exists(os.path.realpath(new_dir)):\n",
    "                            os.makedirs(os.path.realpath(new_dir))\n",
    "                        copyfile(old_file, new_file)"
   ]
  },
  {
   "cell_type": "markdown",
   "metadata": {},
   "source": [
    "# Create temp copy of individual country for reprocessing"
   ]
  },
  {
   "cell_type": "code",
   "execution_count": 4,
   "metadata": {},
   "outputs": [
    {
     "data": {
      "text/html": [
       "<div>\n",
       "<style scoped>\n",
       "    .dataframe tbody tr th:only-of-type {\n",
       "        vertical-align: middle;\n",
       "    }\n",
       "\n",
       "    .dataframe tbody tr th {\n",
       "        vertical-align: top;\n",
       "    }\n",
       "\n",
       "    .dataframe thead th {\n",
       "        text-align: right;\n",
       "    }\n",
       "</style>\n",
       "<table border=\"1\" class=\"dataframe\">\n",
       "  <thead>\n",
       "    <tr style=\"text-align: right;\">\n",
       "      <th></th>\n",
       "      <th>Y</th>\n",
       "      <th>X</th>\n",
       "      <th>country</th>\n",
       "      <th>Y_tile</th>\n",
       "      <th>X_tile</th>\n",
       "    </tr>\n",
       "  </thead>\n",
       "  <tbody>\n",
       "    <tr>\n",
       "      <th>138843</th>\n",
       "      <td>-1.138889</td>\n",
       "      <td>30.416667</td>\n",
       "      <td>Rwanda</td>\n",
       "      <td>943</td>\n",
       "      <td>2233</td>\n",
       "    </tr>\n",
       "    <tr>\n",
       "      <th>138844</th>\n",
       "      <td>-1.194444</td>\n",
       "      <td>30.305556</td>\n",
       "      <td>Rwanda</td>\n",
       "      <td>942</td>\n",
       "      <td>2231</td>\n",
       "    </tr>\n",
       "    <tr>\n",
       "      <th>138845</th>\n",
       "      <td>-1.194444</td>\n",
       "      <td>30.361111</td>\n",
       "      <td>Rwanda</td>\n",
       "      <td>942</td>\n",
       "      <td>2232</td>\n",
       "    </tr>\n",
       "    <tr>\n",
       "      <th>138846</th>\n",
       "      <td>-1.194444</td>\n",
       "      <td>30.416667</td>\n",
       "      <td>Rwanda</td>\n",
       "      <td>942</td>\n",
       "      <td>2233</td>\n",
       "    </tr>\n",
       "    <tr>\n",
       "      <th>138847</th>\n",
       "      <td>-1.250000</td>\n",
       "      <td>30.250000</td>\n",
       "      <td>Rwanda</td>\n",
       "      <td>941</td>\n",
       "      <td>2230</td>\n",
       "    </tr>\n",
       "  </tbody>\n",
       "</table>\n",
       "</div>"
      ],
      "text/plain": [
       "               Y          X country  Y_tile  X_tile\n",
       "138843 -1.138889  30.416667  Rwanda     943    2233\n",
       "138844 -1.194444  30.305556  Rwanda     942    2231\n",
       "138845 -1.194444  30.361111  Rwanda     942    2232\n",
       "138846 -1.194444  30.416667  Rwanda     942    2233\n",
       "138847 -1.250000  30.250000  Rwanda     941    2230"
      ]
     },
     "execution_count": 4,
     "metadata": {},
     "output_type": "execute_result"
    }
   ],
   "source": [
    "df = new[new['country'] == 'Rwanda']\n",
    "df.head(5)"
   ]
  },
  {
   "cell_type": "code",
   "execution_count": 10,
   "metadata": {},
   "outputs": [],
   "source": [
    "from shutil import copyfile, copytree\n",
    "\n",
    "for index, row in df.iterrows():\n",
    "    x = str(int(row['X_tile']))\n",
    "    y = str(int(row['Y_tile']))\n",
    "    old_path = f'../../project-monitoring/tof-output/{str(x)}/{str(y)}/'\n",
    "    new_path = f'../../project-monitoring/rwanda/{str(x)}/{str(y)}/'\n",
    "    if os.path.isdir(old_path):\n",
    "        copytree(old_path, new_path)\n"
   ]
  }
 ],
 "metadata": {
  "kernelspec": {
   "display_name": "remote_sensing",
   "language": "python",
   "name": "remote_sensing"
  },
  "language_info": {
   "codemirror_mode": {
    "name": "ipython",
    "version": 3
   },
   "file_extension": ".py",
   "mimetype": "text/x-python",
   "name": "python",
   "nbconvert_exporter": "python",
   "pygments_lexer": "ipython3",
   "version": "3.8.8"
  }
 },
 "nbformat": 4,
 "nbformat_minor": 2
}
