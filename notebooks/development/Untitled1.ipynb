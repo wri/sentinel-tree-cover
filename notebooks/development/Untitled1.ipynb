{
 "cells": [
  {
   "cell_type": "code",
   "execution_count": null,
   "id": "23dc4c63",
   "metadata": {},
   "outputs": [],
   "source": [
    "import pandas as pd\n",
    "import numpy as np\n",
    "import hickle as hkl\n",
    "\n",
    "import seaborn as sns\n",
    "import matplotlib.pyplot as plt\n",
    "%matplotlib inline"
   ]
  },
  {
   "cell_type": "code",
   "execution_count": null,
   "id": "e49ce9b6",
   "metadata": {},
   "outputs": [],
   "source": [
    "from skimage.transform import resize\n",
    "s1 = hkl.load(\"../analysis/tifs/s12.hkl\")\n",
    "#i = np.load(\"tifs/interp.npy\")\n",
    "sns.heatmap(s1[3, :, :, 1])\n",
    "print(np.mean(s1))"
   ]
  },
  {
   "cell_type": "code",
   "execution_count": null,
   "id": "f4a39034",
   "metadata": {},
   "outputs": [],
   "source": [
    "?resize"
   ]
  },
  {
   "cell_type": "code",
   "execution_count": null,
   "id": "1429f497",
   "metadata": {},
   "outputs": [],
   "source": [
    "s1 = s1.reshape((s1.shape[0], s1.shape[1] // 2, 2, s1.shape[2] // 2, 2, 2))\n",
    "s1 = np.mean(s1, (2, 4))\n",
    "s1 = resize(s1, (s1.shape[0], s1.shape[1] * 2, s1.shape[2] * 2, 2), order = 1)\n",
    "print(np.mean(s1))"
   ]
  },
  {
   "cell_type": "code",
   "execution_count": null,
   "id": "da85b59a",
   "metadata": {},
   "outputs": [],
   "source": [
    "#sns.heatmap(s1[0, :, :, 1])\n",
    "s2 = resize(s2, (s2.shape[0], s2.shape[1] * 2, s2.shape[2] * 2, s2.shape[-1]), order = 1, preserve_range = True,\n",
    "           anti_aliasing = False, )"
   ]
  },
  {
   "cell_type": "code",
   "execution_count": null,
   "id": "7726f5ac",
   "metadata": {},
   "outputs": [],
   "source": [
    "sentinel2 = np.empty((s2.shape[0],  s2.shape[1] * 2, s2.shape[2] * 2, 10))\n",
    "for band in range(6):\n",
    "        for time in range(sentinel2.shape[0]):\n",
    "            sentinel2[time, ..., band + 4] = resize(s2[time,..., band], (s2.shape[1] * 2,  s2.shape[2] * 2), 1)"
   ]
  },
  {
   "cell_type": "code",
   "execution_count": null,
   "id": "33011f96",
   "metadata": {},
   "outputs": [],
   "source": [
    "sns.heatmap(s2[3, :, :, 1])"
   ]
  },
  {
   "cell_type": "code",
   "execution_count": null,
   "id": "ba4080bf",
   "metadata": {},
   "outputs": [],
   "source": [
    "shadow = np.load(\"tifs/shadow.npy\")\n",
    "cloud = np.load(\"tifs/cloud.npy\")"
   ]
  },
  {
   "cell_type": "code",
   "execution_count": null,
   "id": "64d6c073",
   "metadata": {},
   "outputs": [],
   "source": [
    "sns.heatmap(cloud[22])"
   ]
  },
  {
   "cell_type": "code",
   "execution_count": null,
   "id": "473ea797",
   "metadata": {},
   "outputs": [],
   "source": [
    "sns.heatmap(shadow[22, ..., 6])"
   ]
  },
  {
   "cell_type": "code",
   "execution_count": null,
   "id": "d1cea0f0",
   "metadata": {},
   "outputs": [],
   "source": [
    "def mcm_shadow_mask(arr: np.ndarray, \n",
    "                    c_probs: np.ndarray) -> np.ndarray:\n",
    "    \"\"\" Calculates the multitemporal shadow mask for Sentinel-2 using\n",
    "        the methods from Candra et al. 2020 on L1C images and matching\n",
    "        outputs to the s2cloudless cloud probabilities\n",
    "\n",
    "        Parameters:\n",
    "         arr (arr): (Time, X, Y, Band) array of L1C data scaled from [0, 1]\n",
    "         c_probs (arr): (Time, X, Y) array of S2cloudless cloud probabilities\n",
    "        Returns:\n",
    "         shadows_new (arr): cloud mask after Candra et al. 2020 and cloud matching \n",
    "         shadows_original (arr): cloud mask after Candra et al. 2020\n",
    "    \"\"\"\n",
    "    import time\n",
    "    imsize = arr.shape[1]\n",
    "\n",
    "    if imsize % 8 != 0:\n",
    "        pad_amt = 1 #int((imsize % 8) // 2)\n",
    "\n",
    "        arr = np.pad(arr, ((0, 0), (pad_amt, pad_amt), (pad_amt, pad_amt), (0, 0)))\n",
    "        c_probs = np.pad(c_probs, ((0, 0), (pad_amt, pad_amt), (pad_amt, pad_amt)))\n",
    "\n",
    "    assert arr.dtype == np.uint16\n",
    "    assert arr.shape[1] == c_probs.shape[1]\n",
    "    size = arr.shape[1]\n",
    "\n",
    "    # Create empty arrays for shadows, clouds\n",
    "    shadows = np.empty_like(arr)[..., 0]\n",
    "    clouds = np.empty_like(shadows)\n",
    "    # Iterate through time steps, develop local reference images\n",
    "    # and calculate cloud/shadow based on Candra et al. 2020\n",
    "    for time in range(arr.shape[0]):\n",
    "        lower = np.max([0, time - 3])\n",
    "        upper = np.min([arr.shape[0], time + 4])\n",
    "        ri = np.median(arr[lower:upper], axis = 0).astype(np.float32)\n",
    "        \n",
    "            \n",
    "\n",
    "        deltab2 = (arr[time, ..., 0] - ri[..., 0]) > int(0.10 * 65535)\n",
    "        deltab8a = (arr[time, ..., 3] - ri[..., 3]) < int(-0.06 * 65535)\n",
    "        deltab11 = (arr[time, ..., 5] - ri[..., 5]) < int(-0.06 * 65535)\n",
    "        deltab3 = (arr[time, ..., 1] - ri[..., 1]) > int(0.08 * 65535)\n",
    "        deltab4 = (arr[time, ..., 2] - ri[..., 2]) > int(0.08 * 65535)\n",
    "        ti0 = arr[time, ..., 0] < int(0.095 * 65535)\n",
    "        ti10 = arr[time, ..., 4] > int(0.01 * 65535)\n",
    "        clouds_i = (deltab2 * deltab3 * deltab4) + ti10\n",
    "        clouds_i = clouds_i * 1\n",
    "        clouds_i[clouds_i > 1] = 1.\n",
    "\n",
    "        shadows_i = ((1 - clouds_i) * deltab11 * deltab8a * ti0)\n",
    "        shadows_i = shadows_i * 1\n",
    "\n",
    "        clouds[time] = clouds_i\n",
    "        shadows[time] = shadows_i\n",
    "        if time == 22:\n",
    "            ri_out = ri\n",
    "\n",
    "    # Iterate through clouds, shadows, remove cloud/shadow where\n",
    "    # The same px is positive in subsequent time steps (likely FP)\n",
    "    clouds_new = np.copy(clouds)\n",
    "    for time in range(1, clouds.shape[-1], 1):\n",
    "        moving_sums = np.sum(clouds[time - 1:time + 2], axis = (0))\n",
    "        moving_sums = moving_sums >= 3\n",
    "        clouds_new[time - 1:time + 2, moving_sums] = 0.\n",
    "    clouds = clouds_new\n",
    "\n",
    "    # Remove shadows if multiple time steps are shadows\n",
    "    shadows_new = np.copy(shadows)\n",
    "    for time in range(1, shadows.shape[-1], 1):\n",
    "        moving_sums = np.sum(shadows[time - 1:time + 1], axis = 0)\n",
    "        moving_sums = moving_sums >= 2\n",
    "        if np.sum(moving_sums > 0):\n",
    "        \tprint(f\"Removing {np.sum(moving_sums)}, time {time}\")\n",
    "        shadows_new[time - 1:time + 1, moving_sums] = 0.\n",
    "    shadows = shadows_new\n",
    "    print(np.sum(shadows), np.sum(clouds))\n",
    "\n",
    "    # Combine cloud and shadow\n",
    "    shadows = shadows + clouds\n",
    "    shadows[shadows > 1] = 1.\n",
    "    return shadows, ri_out\n",
    "\n",
    "shadows, ri = mcm_shadow_mask(shadow, cloud)"
   ]
  },
  {
   "cell_type": "code",
   "execution_count": null,
   "id": "c675988c",
   "metadata": {},
   "outputs": [],
   "source": [
    "sns.heatmap(shadow[22, ..., 3])"
   ]
  },
  {
   "cell_type": "code",
   "execution_count": null,
   "id": "98134b74",
   "metadata": {},
   "outputs": [],
   "source": [
    "sns.heatmap(shadow[22, ..., 0] <  int(0.119 * 65535))"
   ]
  },
  {
   "cell_type": "code",
   "execution_count": null,
   "id": "752826fc",
   "metadata": {},
   "outputs": [],
   "source": [
    "deltab8a = (shadow[22, ..., 3] - ri[..., 3]) < int(-0.06 * 65535)\n",
    "deltab11 = (shadow[22, ..., 5] - ri[..., 5]) < int(-0.06 * 65535)\n",
    "ti0 = shadow[22, ..., 0] < int(0.12 * 65535)\n",
    "\n",
    "sns.heatmap(deltab11 * deltab8a * ti0)"
   ]
  },
  {
   "cell_type": "code",
   "execution_count": null,
   "id": "9338b5e8",
   "metadata": {},
   "outputs": [],
   "source": [
    "np.min(shadow[22,...,  0])"
   ]
  },
  {
   "cell_type": "code",
   "execution_count": null,
   "id": "1d3fd107",
   "metadata": {},
   "outputs": [],
   "source": [
    "plt.figure(figsize=(10,7.5))\n",
    "sns.heatmap(shadow[8, ...])"
   ]
  },
  {
   "cell_type": "code",
   "execution_count": null,
   "id": "4c935c77",
   "metadata": {},
   "outputs": [],
   "source": [
    "plt.figure(figsize=(10,7.5))\n",
    "sns.heatmap(s2[6, :, 2:-2, 3])"
   ]
  },
  {
   "cell_type": "code",
   "execution_count": null,
   "id": "522cbec0",
   "metadata": {},
   "outputs": [],
   "source": [
    "sns.heatmap(i[8])"
   ]
  },
  {
   "cell_type": "code",
   "execution_count": null,
   "id": "43482ea0",
   "metadata": {},
   "outputs": [],
   "source": []
  }
 ],
 "metadata": {
  "kernelspec": {
   "display_name": "tf",
   "language": "python",
   "name": "tf"
  },
  "language_info": {
   "codemirror_mode": {
    "name": "ipython",
    "version": 3
   },
   "file_extension": ".py",
   "mimetype": "text/x-python",
   "name": "python",
   "nbconvert_exporter": "python",
   "pygments_lexer": "ipython3",
   "version": "3.7.10"
  }
 },
 "nbformat": 4,
 "nbformat_minor": 5
}
