{
 "cells": [
  {
   "cell_type": "code",
   "execution_count": null,
   "metadata": {},
   "outputs": [],
   "source": [
    "import numpy as np\n",
    "import seaborn as sns\n",
    "import matplotlib.pyplot as plt\n",
    "%matplotlib inline"
   ]
  },
  {
   "cell_type": "code",
   "execution_count": null,
   "metadata": {},
   "outputs": [],
   "source": [
    "test_y = np.load(\"test_y.npy\")\n",
    "test_pred = np.load(\"test_out.npy\")\n",
    "\n",
    "\n",
    "upper = 1.01\n",
    "lower = 0.1\n",
    "\n",
    "size_x = [3, 4, 5, 7, 10]\n",
    "size_y = [3, 4, 5, 7, 10]\n",
    "sample_size = 10000\n",
    "test_samples = np.random.randint(0, test_y.shape[0], sample_size)\n",
    "\n",
    "\n",
    "\n",
    "for decile in [0, 0.1, 0.2, 0.3, 0.4, 0.5, 0.6, 0.7, 0.8, 0.9]:\n",
    "    lower = decile\n",
    "    upper = decile + 0.1\n",
    "    errors = np.empty((sample_size, 5))\n",
    "    errors[:] = np.nan\n",
    "    idx = 0\n",
    "    for x, y in zip(size_x, size_y):\n",
    "        for i, sample in enumerate(test_samples):\n",
    "            start_x = np.random.randint(0, 14 - x)\n",
    "            start_y = np.random.randint(0, 14 - y)\n",
    "\n",
    "            pred = np.copy(test_pred[sample, start_x:start_x + x, start_y : start_y + y])\n",
    "            pred[pred >= 0.5] = 1.\n",
    "            pred[pred < 0.5] = 0.\n",
    "            #print(pred)\n",
    "            true = np.copy(test_y[sample, start_x:start_x + x, start_y : start_y + y])\n",
    "            true_mean = np.mean(true)\n",
    "            if true_mean >= lower and true_mean < upper:\n",
    "                pred_mean = np.mean(pred)\n",
    "                plot_error = true_mean - pred_mean\n",
    "                errors[i, idx] = plot_error\n",
    "        idx += 1\n",
    "    boots = np.zeros((5000))\n",
    "    for sample in range(boots.shape[0]):\n",
    "        samp_i = np.random.choice(errors[:, -1], size=boots.shape[0], replace=True, p=None)\n",
    "        boots[sample] = np.nanmean(samp_i)\n",
    "        \n",
    "    print(decile, \"Lower\", np.nanpercentile(boots, 2.5, axis = 0))\n",
    "    print(decile, \"Upper\", np.nanpercentile(boots, 97.5, axis = 0))\n",
    "    \n",
    "    "
   ]
  },
  {
   "cell_type": "code",
   "execution_count": null,
   "metadata": {},
   "outputs": [],
   "source": [
    "np.nanpercentile(errors, 97.5, axis = 0)"
   ]
  },
  {
   "cell_type": "code",
   "execution_count": null,
   "metadata": {},
   "outputs": [],
   "source": [
    "np.nanmean(errors, axis = 0)"
   ]
  },
  {
   "cell_type": "code",
   "execution_count": null,
   "metadata": {},
   "outputs": [],
   "source": [
    "np.nanpercentile(errors, 90, axis = 0)"
   ]
  },
  {
   "cell_type": "code",
   "execution_count": null,
   "metadata": {},
   "outputs": [],
   "source": [
    "test_y = np.load(\"test_y.npy\")\n",
    "test_pred = np.load(\"test_out.npy\")\n",
    "\n",
    "l = [2, 2, 3, 3, 4, 4, 5, 5,]\n",
    "r = [2, 3, 3, 4, 4, 5, 5, 6,]\n",
    "\n",
    "size_x = [3, 4, 5, 10]\n",
    "size_y = [3, 4, 5, 10]\n",
    "sample_size = 100\n",
    "\n",
    "\n",
    "upper = 1.1\n",
    "lower = 0.8\n",
    "\n",
    "print(f\"Error for tree cover between {lower * 100} and {upper * 100}%\")\n",
    "\n",
    "\n",
    "for size_l, size_r in zip(l ,r):\n",
    "\n",
    "    labeled_cc = np.mean(test_y[:, size_l:-size_r], axis = (1, 2))\n",
    "    pred_cc = np.nanmean(test_pred[:, size_l:-size_r], axis = (1, 2))\n",
    "    \n",
    "    \n",
    "    \n",
    "    pred_cc[labeled_cc >= upper] = np.nan\n",
    "    pred_cc[labeled_cc < lower] = np.nan\n",
    "    labeled_cc[labeled_cc >= upper] = np.nan\n",
    "    labeled_cc[labeled_cc <  lower] = np.nan\n",
    "\n",
    "    \n",
    "    labeled_cc = labeled_cc[~np.isnan(labeled_cc)]\n",
    "    pred_cc = pred_cc[~np.isnan(pred_cc)]\n",
    "    diff = abs(labeled_cc - pred_cc)\n",
    "    tc_error = np.nanmean(diff).astype(np.float32)\n",
    "    \n",
    "    tc_5 = np.around(np.percentile(diff, 2.5), 3).astype(np.float32)\n",
    "    tc_95 = np.around(np.percentile(diff, 95), 3).astype(np.float32)\n",
    "    print(f\"{((14 - size_l - size_r)**2)/100} ha plots: \"\n",
    "          f\"tree cover error (avg, 95th percentile): {np.around(100*np.around(tc_error, 4), 3)}%, {np.around(100*tc_95, 4)}%\")"
   ]
  },
  {
   "cell_type": "code",
   "execution_count": null,
   "metadata": {},
   "outputs": [],
   "source": [
    "sns.heatmap(test_pred[666, 4:-4, 4:-4])"
   ]
  },
  {
   "cell_type": "code",
   "execution_count": null,
   "metadata": {},
   "outputs": [],
   "source": [
    "np.mean(test_pred[666, 4:-4, 4:-4])"
   ]
  },
  {
   "cell_type": "code",
   "execution_count": null,
   "metadata": {},
   "outputs": [],
   "source": [
    "plt.figure(figsize=(5.1,4)) #758\n",
    "sns.heatmap(test_y[815, 4:-5, 4:-5], cmap = \"Greens\").set_title('Tree cover = 7/25 = 28%')"
   ]
  },
  {
   "cell_type": "code",
   "execution_count": null,
   "metadata": {},
   "outputs": [],
   "source": [
    "np.mean(test_pred[815, 4:-5, 4:-5])"
   ]
  },
  {
   "cell_type": "code",
   "execution_count": null,
   "metadata": {},
   "outputs": [],
   "source": [
    "avg_error = np.zeros((8, 4))\n",
    "sns.heatmap(avg_error)"
   ]
  },
  {
   "cell_type": "code",
   "execution_count": null,
   "metadata": {},
   "outputs": [],
   "source": [
    "test_y = np.load(\"test_y.npy\")\n",
    "test_pred = np.load(\"test_preds.npy\")\n",
    "\n",
    "l = [2, 2, 3, 3, 4, 4, 5, 5,]\n",
    "r = [2, 3, 3, 4, 4, 5, 5, 6,]\n",
    "test_pred[test_pred >= 0.7] = 1.\n",
    "test_pred[test_pred < 0.7] = 0.\n",
    "\n",
    "for size_l, size_r in zip(l ,r):\n",
    "    labeled_cc = np.mean(test_y[:, size_l:-size_r], axis = (1, 2))\n",
    "    \n",
    "    pred_cc = np.nanmean(test_pred[:, size_l:-size_r], axis = (1, 2))\n",
    "    pred_cc[labeled_cc >= 1.1] = np.nan\n",
    "    pred_cc[labeled_cc < 0.8] = np.nan\n",
    "    labeled_cc[labeled_cc >= 1.1] = np.nan\n",
    "    labeled_cc[labeled_cc < 0.8] = np.nan\n",
    "\n",
    "    \n",
    "    labeled_cc = labeled_cc[~np.isnan(labeled_cc)]\n",
    "    pred_cc = pred_cc[~np.isnan(pred_cc)]\n",
    "    diff = abs(labeled_cc - pred_cc)\n",
    "    tc_error = np.nanmean(diff).astype(np.float32)\n",
    "    \n",
    "    tc_5 = np.around(np.percentile(diff, 2.5), 3).astype(np.float32)\n",
    "    tc_95 = np.around(np.percentile(diff, 95), 3).astype(np.float32)\n",
    "    print(f\"{((14 - size_l - size_r)**2)/100} ha plots: \"\n",
    "          f\"tree cover error (avg, 99th percentile): {np.around(100*np.around(tc_error, 4), 3)}, {np.around(100*tc_95, 4)}%\")"
   ]
  },
  {
   "cell_type": "code",
   "execution_count": null,
   "metadata": {},
   "outputs": [],
   "source": [
    "test_y = np.load(\"test_y.npy\")\n",
    "test_pred = np.load(\"test_out.npy\")\n",
    "\n",
    "l = [2, 2, 3, 3, 4, 4, 5, 5,]\n",
    "r = [2, 3, 3, 4, 4, 5, 5, 6,]\n",
    "test_pred[test_pred >= 0.7] = 1.\n",
    "test_pred[test_pred < 0.7] = 0.\n",
    "\n",
    "for size_l, size_r in zip(l ,r):\n",
    "    labeled_cc = np.mean(test_y[:, size_l:-size_r], axis = (1, 2))\n",
    "    \n",
    "    pred_cc = np.nanmean(test_pred[:, size_l:-size_r], axis = (1, 2))\n",
    "    pred_cc[labeled_cc >= 1.1] = np.nan\n",
    "    pred_cc[labeled_cc < 0.8] = np.nan\n",
    "    labeled_cc[labeled_cc >= 1.1] = np.nan\n",
    "    labeled_cc[labeled_cc < 0.8] = np.nan\n",
    "\n",
    "    \n",
    "    labeled_cc = labeled_cc[~np.isnan(labeled_cc)]\n",
    "    pred_cc = pred_cc[~np.isnan(pred_cc)]\n",
    "    diff = abs(labeled_cc - pred_cc)\n",
    "    tc_error = np.nanmean(diff).astype(np.float32)\n",
    "    \n",
    "    tc_5 = np.around(np.percentile(diff, 2.5), 3).astype(np.float32)\n",
    "    tc_95 = np.around(np.percentile(diff, 95), 3).astype(np.float32)\n",
    "    print(f\"{((14 - size_l - size_r)**2)/100} ha plots: \"\n",
    "          f\"tree cover error (avg, 99th percentile): {np.around(100*np.around(tc_error, 4), 3)}, {np.around(100*tc_95, 4)}%\")"
   ]
  },
  {
   "cell_type": "code",
   "execution_count": null,
   "metadata": {},
   "outputs": [],
   "source": [
    "belize = [90056, 16426, 10027, 7691, 6250, 5184, 4457, 3757, 4107, 7779]\n",
    "costa_rica = [175987, 59032, 45015, 38107, 33342, 29974, 26542, 24372, 25738, 38633,]\n",
    "el_salvador = [122162, 70380, 61678, 54790, 48388, 41995, 34703, 27483, 20858, 14263, ]\n",
    "guatemala = [791755, 274102, 175783, 127673, 99089, 79690 ,65536, 56314, 57553, 119706, ]\n",
    "honduras = [304851, 132810, 95165, 72996, 57619, 45939, 36438, 29195, 25819, 32573, ]\n",
    "nicaragua = [302085, 127811, 103966, 89043, 78763, 71013, 64892, 60263, 61251, 60637, ]\n",
    "panama = [329679, 189061, 148696, 124192, 105185, 87474, 72141, 60145, 55325, 64615, ]\n",
    "\n",
    "def extrapolate_sampling(deciles, n):\n",
    "    samples = np.empty(n)\n",
    "    for i in range(samples.shape[0]):\n",
    "        boot_sample = np.random.choice(np.arange(0, 100, 10), 56000, p = deciles / np.sum(deciles))\n",
    "        samples[i] = np.sum(boot_sample >= 10) / n\n",
    "    print(np.percentile(samples, 97.5) - np.percentile(samples, 2.5) / 2)\n",
    "    \n",
    "    \n"
   ]
  },
  {
   "cell_type": "code",
   "execution_count": null,
   "metadata": {},
   "outputs": [],
   "source": [
    "extrapolate_sampling(panama, 20000)\n",
    "\n"
   ]
  },
  {
   "cell_type": "code",
   "execution_count": null,
   "metadata": {},
   "outputs": [],
   "source": []
  }
 ],
 "metadata": {
  "kernelspec": {
   "display_name": "remote_sensing",
   "language": "python",
   "name": "remote_sensing"
  },
  "language_info": {
   "codemirror_mode": {
    "name": "ipython",
    "version": 3
   },
   "file_extension": ".py",
   "mimetype": "text/x-python",
   "name": "python",
   "nbconvert_exporter": "python",
   "pygments_lexer": "ipython3",
   "version": "3.8.8"
  }
 },
 "nbformat": 4,
 "nbformat_minor": 2
}
