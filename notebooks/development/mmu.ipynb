{
 "cells": [
  {
   "cell_type": "code",
   "execution_count": 1,
   "metadata": {},
   "outputs": [],
   "source": [
    "import numpy as np\n",
    "import seaborn as sns\n",
    "import matplotlib.pyplot as plt\n",
    "%matplotlib inline"
   ]
  },
  {
   "cell_type": "code",
   "execution_count": 23,
   "metadata": {},
   "outputs": [
    {
     "name": "stdout",
     "output_type": "stream",
     "text": [
      "0 Lower 0.0036117109092247677\n",
      "0 Upper 0.005395336076155481\n",
      "0.1 Lower 0.020000000216981985\n",
      "0.1 Upper 0.0360942212081931\n",
      "0.2 Lower 0.002040621463678168\n",
      "0.2 Upper 0.03260134440440133\n",
      "0.3 Lower -0.022934022270706025\n",
      "0.3 Upper 0.012986244995604686\n",
      "0.4 Lower -0.05936043856420218\n",
      "0.4 Upper -0.004999997999332849\n",
      "0.5 Lower -0.1017149021540863\n",
      "0.5 Upper -0.03278989573703335\n",
      "0.6 Lower -0.12099074026721494\n",
      "0.6 Upper -0.052103478209819275\n",
      "0.7 Lower -0.05854553011192604\n",
      "0.7 Upper -0.004373832089048073\n",
      "0.8 Lower -0.07338139509594672\n",
      "0.8 Upper -0.028766697080168015\n",
      "0.9 Lower -0.015354758630912511\n",
      "0.9 Upper 0.0261308660338537\n"
     ]
    }
   ],
   "source": [
    "test_y = np.load(\"test_y.npy\")\n",
    "test_pred = np.load(\"test_out.npy\")\n",
    "\n",
    "\n",
    "upper = 1.01\n",
    "lower = 0.1\n",
    "\n",
    "size_x = [3, 4, 5, 7, 10]\n",
    "size_y = [3, 4, 5, 7, 10]\n",
    "sample_size = 10000\n",
    "test_samples = np.random.randint(0, test_y.shape[0], sample_size)\n",
    "\n",
    "\n",
    "\n",
    "for decile in [0, 0.1, 0.2, 0.3, 0.4, 0.5, 0.6, 0.7, 0.8, 0.9]:\n",
    "    lower = decile\n",
    "    upper = decile + 0.1\n",
    "    errors = np.empty((sample_size, 5))\n",
    "    errors[:] = np.nan\n",
    "    idx = 0\n",
    "    for x, y in zip(size_x, size_y):\n",
    "        for i, sample in enumerate(test_samples):\n",
    "            start_x = np.random.randint(0, 14 - x)\n",
    "            start_y = np.random.randint(0, 14 - y)\n",
    "\n",
    "            pred = np.copy(test_pred[sample, start_x:start_x + x, start_y : start_y + y])\n",
    "            pred[pred >= 0.5] = 1.\n",
    "            pred[pred < 0.5] = 0.\n",
    "            #print(pred)\n",
    "            true = np.copy(test_y[sample, start_x:start_x + x, start_y : start_y + y])\n",
    "            true_mean = np.mean(true)\n",
    "            if true_mean >= lower and true_mean < upper:\n",
    "                pred_mean = np.mean(pred)\n",
    "                plot_error = true_mean - pred_mean\n",
    "                errors[i, idx] = plot_error\n",
    "        idx += 1\n",
    "    boots = np.zeros((5000))\n",
    "    for sample in range(boots.shape[0]):\n",
    "        samp_i = np.random.choice(errors[:, -1], size=boots.shape[0], replace=True, p=None)\n",
    "        boots[sample] = np.nanmean(samp_i)\n",
    "        \n",
    "    print(decile, \"Lower\", np.nanpercentile(boots, 2.5, axis = 0))\n",
    "    print(decile, \"Upper\", np.nanpercentile(boots, 97.5, axis = 0))\n",
    "    \n",
    "    "
   ]
  },
  {
   "cell_type": "code",
   "execution_count": 6,
   "metadata": {},
   "outputs": [
    {
     "data": {
      "text/plain": [
       "array([0.33333333, 0.3125    , 0.24000001, 0.20408163, 0.17      ])"
      ]
     },
     "execution_count": 6,
     "metadata": {},
     "output_type": "execute_result"
    }
   ],
   "source": [
    "np.nanpercentile(errors, 97.5, axis = 0)"
   ]
  },
  {
   "cell_type": "code",
   "execution_count": 4,
   "metadata": {},
   "outputs": [
    {
     "data": {
      "text/plain": [
       "array([ 1.52038287e-02,  5.12160768e-03, -8.41509840e-05, -3.54394040e-03,\n",
       "       -3.88021749e-03])"
      ]
     },
     "execution_count": 4,
     "metadata": {},
     "output_type": "execute_result"
    }
   ],
   "source": [
    "np.nanmean(errors, axis = 0)"
   ]
  },
  {
   "cell_type": "code",
   "execution_count": 136,
   "metadata": {},
   "outputs": [
    {
     "data": {
      "text/plain": [
       "array([0.33333335, 0.3125    , 0.28      , 0.2244898 , 0.19      ])"
      ]
     },
     "execution_count": 136,
     "metadata": {},
     "output_type": "execute_result"
    }
   ],
   "source": [
    "np.nanpercentile(errors, 90, axis = 0)"
   ]
  },
  {
   "cell_type": "code",
   "execution_count": 16,
   "metadata": {},
   "outputs": [
    {
     "name": "stdout",
     "output_type": "stream",
     "text": [
      "Error for tree cover between 80.0 and 110.00000000000001%\n",
      "1.0 ha plots: tree cover error (avg, 95th percentile): 3.56%, 10.4%\n",
      "0.81 ha plots: tree cover error (avg, 95th percentile): 3.57%, 9.7%\n",
      "0.64 ha plots: tree cover error (avg, 95th percentile): 3.47%, 10.0%\n",
      "0.49 ha plots: tree cover error (avg, 95th percentile): 3.55%, 9.4%\n",
      "0.36 ha plots: tree cover error (avg, 95th percentile): 3.55%, 9.8%\n",
      "0.25 ha plots: tree cover error (avg, 95th percentile): 3.67%, 10.9%\n",
      "0.16 ha plots: tree cover error (avg, 95th percentile): 3.46%, 9.7%\n",
      "0.09 ha plots: tree cover error (avg, 95th percentile): 3.51%, 9.6%\n"
     ]
    }
   ],
   "source": [
    "test_y = np.load(\"test_y.npy\")\n",
    "test_pred = np.load(\"test_out.npy\")\n",
    "\n",
    "l = [2, 2, 3, 3, 4, 4, 5, 5,]\n",
    "r = [2, 3, 3, 4, 4, 5, 5, 6,]\n",
    "\n",
    "size_x = [3, 4, 5, 10]\n",
    "size_y = [3, 4, 5, 10]\n",
    "sample_size = 100\n",
    "\n",
    "\n",
    "upper = 1.1\n",
    "lower = 0.8\n",
    "\n",
    "print(f\"Error for tree cover between {lower * 100} and {upper * 100}%\")\n",
    "\n",
    "\n",
    "for size_l, size_r in zip(l ,r):\n",
    "\n",
    "    labeled_cc = np.mean(test_y[:, size_l:-size_r], axis = (1, 2))\n",
    "    pred_cc = np.nanmean(test_pred[:, size_l:-size_r], axis = (1, 2))\n",
    "    \n",
    "    \n",
    "    \n",
    "    pred_cc[labeled_cc >= upper] = np.nan\n",
    "    pred_cc[labeled_cc < lower] = np.nan\n",
    "    labeled_cc[labeled_cc >= upper] = np.nan\n",
    "    labeled_cc[labeled_cc <  lower] = np.nan\n",
    "\n",
    "    \n",
    "    labeled_cc = labeled_cc[~np.isnan(labeled_cc)]\n",
    "    pred_cc = pred_cc[~np.isnan(pred_cc)]\n",
    "    diff = abs(labeled_cc - pred_cc)\n",
    "    tc_error = np.nanmean(diff).astype(np.float32)\n",
    "    \n",
    "    tc_5 = np.around(np.percentile(diff, 2.5), 3).astype(np.float32)\n",
    "    tc_95 = np.around(np.percentile(diff, 95), 3).astype(np.float32)\n",
    "    print(f\"{((14 - size_l - size_r)**2)/100} ha plots: \"\n",
    "          f\"tree cover error (avg, 95th percentile): {np.around(100*np.around(tc_error, 4), 3)}%, {np.around(100*tc_95, 4)}%\")"
   ]
  },
  {
   "cell_type": "code",
   "execution_count": 158,
   "metadata": {},
   "outputs": [
    {
     "data": {
      "text/plain": [
       "<matplotlib.axes._subplots.AxesSubplot at 0x1a2172c780>"
      ]
     },
     "execution_count": 158,
     "metadata": {},
     "output_type": "execute_result"
    },
    {
     "data": {
      "image/png": "[encoded data removed]",
      "text/plain": [
       "<Figure size 432x288 with 2 Axes>"
      ]
     },
     "metadata": {
      "needs_background": "light"
     },
     "output_type": "display_data"
    }
   ],
   "source": [
    "sns.heatmap(test_pred[666, 4:-4, 4:-4])"
   ]
  },
  {
   "cell_type": "code",
   "execution_count": 160,
   "metadata": {},
   "outputs": [
    {
     "data": {
      "text/plain": [
       "0.1496079307463434"
      ]
     },
     "execution_count": 160,
     "metadata": {},
     "output_type": "execute_result"
    }
   ],
   "source": [
    "np.mean(test_pred[666, 4:-4, 4:-4])"
   ]
  },
  {
   "cell_type": "code",
   "execution_count": 321,
   "metadata": {},
   "outputs": [
    {
     "data": {
      "text/plain": [
       "Text(0.5, 1, 'Tree cover = 7/25 = 28%')"
      ]
     },
     "execution_count": 321,
     "metadata": {},
     "output_type": "execute_result"
    },
    {
     "data": {
      "image/png": "[encoded data removed]",
      "text/plain": [
       "<Figure size 367.2x288 with 2 Axes>"
      ]
     },
     "metadata": {
      "needs_background": "light"
     },
     "output_type": "display_data"
    }
   ],
   "source": [
    "plt.figure(figsize=(5.1,4)) #758\n",
    "sns.heatmap(test_y[815, 4:-5, 4:-5], cmap = \"Greens\").set_title('Tree cover = 7/25 = 28%')"
   ]
  },
  {
   "cell_type": "code",
   "execution_count": 318,
   "metadata": {},
   "outputs": [
    {
     "data": {
      "text/plain": [
       "0.3184706926345825"
      ]
     },
     "execution_count": 318,
     "metadata": {},
     "output_type": "execute_result"
    }
   ],
   "source": [
    "np.mean(test_pred[815, 4:-5, 4:-5])"
   ]
  },
  {
   "cell_type": "code",
   "execution_count": 65,
   "metadata": {},
   "outputs": [
    {
     "data": {
      "text/plain": [
       "<matplotlib.axes._subplots.AxesSubplot at 0x1a1f4e7780>"
      ]
     },
     "execution_count": 65,
     "metadata": {},
     "output_type": "execute_result"
    },
    {
     "data": {
      "image/png": "[encoded data removed]",
      "text/plain": [
       "<Figure size 432x288 with 2 Axes>"
      ]
     },
     "metadata": {
      "needs_background": "light"
     },
     "output_type": "display_data"
    }
   ],
   "source": [
    "avg_error = np.zeros((8, 4))\n",
    "sns.heatmap(avg_error)"
   ]
  },
  {
   "cell_type": "code",
   "execution_count": 126,
   "metadata": {},
   "outputs": [
    {
     "name": "stdout",
     "output_type": "stream",
     "text": [
      "1.0 ha plots: tree cover error (avg, 99th percentile): 3.7, 14.1%\n",
      "0.81 ha plots: tree cover error (avg, 99th percentile): 3.7, 16.4%\n",
      "0.64 ha plots: tree cover error (avg, 99th percentile): 3.6, 13.2%\n",
      "0.49 ha plots: tree cover error (avg, 99th percentile): 3.88, 16.0%\n",
      "0.36 ha plots: tree cover error (avg, 99th percentile): 3.9, 14.0%\n",
      "0.25 ha plots: tree cover error (avg, 99th percentile): 3.79, 16.6%\n",
      "0.16 ha plots: tree cover error (avg, 99th percentile): 3.69, 12.5%\n",
      "0.09 ha plots: tree cover error (avg, 99th percentile): 3.77, 16.0%\n"
     ]
    }
   ],
   "source": [
    "test_y = np.load(\"test_y.npy\")\n",
    "test_pred = np.load(\"test_preds.npy\")\n",
    "\n",
    "l = [2, 2, 3, 3, 4, 4, 5, 5,]\n",
    "r = [2, 3, 3, 4, 4, 5, 5, 6,]\n",
    "test_pred[test_pred >= 0.7] = 1.\n",
    "test_pred[test_pred < 0.7] = 0.\n",
    "\n",
    "for size_l, size_r in zip(l ,r):\n",
    "    labeled_cc = np.mean(test_y[:, size_l:-size_r], axis = (1, 2))\n",
    "    \n",
    "    pred_cc = np.nanmean(test_pred[:, size_l:-size_r], axis = (1, 2))\n",
    "    pred_cc[labeled_cc >= 1.1] = np.nan\n",
    "    pred_cc[labeled_cc < 0.8] = np.nan\n",
    "    labeled_cc[labeled_cc >= 1.1] = np.nan\n",
    "    labeled_cc[labeled_cc < 0.8] = np.nan\n",
    "\n",
    "    \n",
    "    labeled_cc = labeled_cc[~np.isnan(labeled_cc)]\n",
    "    pred_cc = pred_cc[~np.isnan(pred_cc)]\n",
    "    diff = abs(labeled_cc - pred_cc)\n",
    "    tc_error = np.nanmean(diff).astype(np.float32)\n",
    "    \n",
    "    tc_5 = np.around(np.percentile(diff, 2.5), 3).astype(np.float32)\n",
    "    tc_95 = np.around(np.percentile(diff, 95), 3).astype(np.float32)\n",
    "    print(f\"{((14 - size_l - size_r)**2)/100} ha plots: \"\n",
    "          f\"tree cover error (avg, 99th percentile): {np.around(100*np.around(tc_error, 4), 3)}, {np.around(100*tc_95, 4)}%\")"
   ]
  },
  {
   "cell_type": "code",
   "execution_count": 4,
   "metadata": {},
   "outputs": [
    {
     "name": "stdout",
     "output_type": "stream",
     "text": [
      "1.0 ha plots: tree cover error (avg, 99th percentile): 2.42, 12.7%\n",
      "0.81 ha plots: tree cover error (avg, 99th percentile): 2.43, 11.0%\n",
      "0.64 ha plots: tree cover error (avg, 99th percentile): 2.3, 11.6%\n",
      "0.49 ha plots: tree cover error (avg, 99th percentile): 2.31, 11.2%\n",
      "0.36 ha plots: tree cover error (avg, 99th percentile): 2.26, 10.7%\n",
      "0.25 ha plots: tree cover error (avg, 99th percentile): 2.4, 12.9%\n",
      "0.16 ha plots: tree cover error (avg, 99th percentile): 2.08, 10.7%\n",
      "0.09 ha plots: tree cover error (avg, 99th percentile): 2.26, 11.9%\n"
     ]
    }
   ],
   "source": [
    "test_y = np.load(\"test_y.npy\")\n",
    "test_pred = np.load(\"test_out.npy\")\n",
    "\n",
    "l = [2, 2, 3, 3, 4, 4, 5, 5,]\n",
    "r = [2, 3, 3, 4, 4, 5, 5, 6,]\n",
    "test_pred[test_pred >= 0.7] = 1.\n",
    "test_pred[test_pred < 0.7] = 0.\n",
    "\n",
    "for size_l, size_r in zip(l ,r):\n",
    "    labeled_cc = np.mean(test_y[:, size_l:-size_r], axis = (1, 2))\n",
    "    \n",
    "    pred_cc = np.nanmean(test_pred[:, size_l:-size_r], axis = (1, 2))\n",
    "    pred_cc[labeled_cc >= 1.1] = np.nan\n",
    "    pred_cc[labeled_cc < 0.8] = np.nan\n",
    "    labeled_cc[labeled_cc >= 1.1] = np.nan\n",
    "    labeled_cc[labeled_cc < 0.8] = np.nan\n",
    "\n",
    "    \n",
    "    labeled_cc = labeled_cc[~np.isnan(labeled_cc)]\n",
    "    pred_cc = pred_cc[~np.isnan(pred_cc)]\n",
    "    diff = abs(labeled_cc - pred_cc)\n",
    "    tc_error = np.nanmean(diff).astype(np.float32)\n",
    "    \n",
    "    tc_5 = np.around(np.percentile(diff, 2.5), 3).astype(np.float32)\n",
    "    tc_95 = np.around(np.percentile(diff, 95), 3).astype(np.float32)\n",
    "    print(f\"{((14 - size_l - size_r)**2)/100} ha plots: \"\n",
    "          f\"tree cover error (avg, 99th percentile): {np.around(100*np.around(tc_error, 4), 3)}, {np.around(100*tc_95, 4)}%\")"
   ]
  },
  {
   "cell_type": "code",
   "execution_count": 42,
   "metadata": {},
   "outputs": [],
   "source": [
    "belize = [90056, 16426, 10027, 7691, 6250, 5184, 4457, 3757, 4107, 7779]\n",
    "costa_rica = [175987, 59032, 45015, 38107, 33342, 29974, 26542, 24372, 25738, 38633,]\n",
    "el_salvador = [122162, 70380, 61678, 54790, 48388, 41995, 34703, 27483, 20858, 14263, ]\n",
    "guatemala = [791755, 274102, 175783, 127673, 99089, 79690 ,65536, 56314, 57553, 119706, ]\n",
    "honduras = [304851, 132810, 95165, 72996, 57619, 45939, 36438, 29195, 25819, 32573, ]\n",
    "nicaragua = [302085, 127811, 103966, 89043, 78763, 71013, 64892, 60263, 61251, 60637, ]\n",
    "panama = [329679, 189061, 148696, 124192, 105185, 87474, 72141, 60145, 55325, 64615, ]\n",
    "\n",
    "def extrapolate_sampling(deciles, n):\n",
    "    samples = np.empty(n)\n",
    "    for i in range(samples.shape[0]):\n",
    "        boot_sample = np.random.choice(np.arange(0, 100, 10), 56000, p = deciles / np.sum(deciles))\n",
    "        samples[i] = np.sum(boot_sample >= 10) / n\n",
    "    print(np.percentile(samples, 97.5) - np.percentile(samples, 2.5) / 2)\n",
    "    \n",
    "    \n"
   ]
  },
  {
   "cell_type": "code",
   "execution_count": 43,
   "metadata": {},
   "outputs": [
    {
     "name": "stdout",
     "output_type": "stream",
     "text": [
      "1.0421750000000003\n"
     ]
    }
   ],
   "source": [
    "extrapolate_sampling(panama, 20000)\n",
    "\n"
   ]
  },
  {
   "cell_type": "code",
   "execution_count": null,
   "metadata": {},
   "outputs": [],
   "source": []
  }
 ],
 "metadata": {
  "kernelspec": {
   "display_name": "remote_sensing",
   "language": "python",
   "name": "remote_sensing"
  },
  "language_info": {
   "codemirror_mode": {
    "name": "ipython",
    "version": 3
   },
   "file_extension": ".py",
   "mimetype": "text/x-python",
   "name": "python",
   "nbconvert_exporter": "python",
   "pygments_lexer": "ipython3",
   "version": "3.8.8"
  }
 },
 "nbformat": 4,
 "nbformat_minor": 2
}
