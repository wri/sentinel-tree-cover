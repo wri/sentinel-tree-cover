{
 "cells": [
  {
   "cell_type": "markdown",
   "metadata": {},
   "source": [
    "# Step 2: Fill holes in processing area"
   ]
  },
  {
   "cell_type": "code",
   "execution_count": null,
   "metadata": {},
   "outputs": [],
   "source": [
    "import gdal\n",
    "import numpy as np\n",
    "import rasterio\n",
    "from tqdm.notebook import tnrange\n",
    "\n",
    "\n",
    "ds = gdal.Open('process_area_june_28.tif')\n",
    "band1 = ds.GetRasterBand(1).ReadAsArray()\n",
    "band2 = np.copy(band1)"
   ]
  },
  {
   "cell_type": "code",
   "execution_count": null,
   "metadata": {},
   "outputs": [],
   "source": [
    "from tqdm.notebook import tnrange\n",
    "\n",
    "for iteration in range(0, 2):\n",
    "    for x_window in tnrange(1, band1.shape[0] - 2, 1):\n",
    "        for y_window in range(1, band1.shape[1] - 2, 1):\n",
    "            window = band2[x_window - 1: x_window + 2, y_window - 1: y_window + 2]\n",
    "            if window[1, 1] == 0:\n",
    "                u = window[0, 1]\n",
    "                d = window[2, 1]\n",
    "                l = window[1, 0]\n",
    "                r = window[1, 2]\n",
    "                if (u + d) == 2 or (l + r) == 2:\n",
    "                    band2[x_window, y_window] = 1.\n"
   ]
  },
  {
   "cell_type": "code",
   "execution_count": null,
   "metadata": {},
   "outputs": [],
   "source": [
    "for iteration in range(0, 1):\n",
    "    for x_window in tnrange(2, band1.shape[0] - 3, 1):\n",
    "        for y_window in range(2, band1.shape[1] - 3, 1):\n",
    "            window = band1[x_window - 2: x_window + 2, y_window - 2: y_window + 2]\n",
    "            # -2, -1, 0, 1\n",
    "            if np.sum(window[1:3, 1:3]) == 0:\n",
    "                u = np.sum(window[0, 1:3])\n",
    "                d = np.sum(window[3, 1:3])\n",
    "                l = np.sum(window[1:3, 0])\n",
    "                r = np.sum(window[1:3, 3])\n",
    "                if (u + d) >= 3 or (l + r) >= 3:\n",
    "                    band2[x_window - 1: x_window +1, y_window -1: y_window + 1] = 1.\n",
    "\n"
   ]
  },
  {
   "cell_type": "code",
   "execution_count": null,
   "metadata": {},
   "outputs": [],
   "source": [
    "for iteration in range(0, 2):\n",
    "    for x_window in tnrange(1, band1.shape[0] - 2, 1):\n",
    "        for y_window in range(1, band1.shape[1] - 2, 1):\n",
    "            window = band2[x_window - 1: x_window + 2, y_window - 1: y_window + 2]\n",
    "            if window[1, 1] == 0:\n",
    "                u = window[0, 1]\n",
    "                d = window[2, 1]\n",
    "                l = window[1, 0]\n",
    "                r = window[1, 2]\n",
    "                if (u + d) == 2 or (l + r) == 2:\n",
    "                    band2[x_window, y_window] = 1."
   ]
  },
  {
   "cell_type": "code",
   "execution_count": null,
   "metadata": {},
   "outputs": [],
   "source": [
    "band1 = np.copy(band2)\n",
    "for iteration in range(0, 1):\n",
    "    for x_window in tnrange(2, band1.shape[0] - 3, 1):\n",
    "        for y_window in range(2, band1.shape[1] - 3, 1):\n",
    "            window = band1[x_window - 2: x_window + 2, y_window - 2: y_window + 2]\n",
    "            if np.sum(window[1:3, 1:3]) == 0:\n",
    "                u = np.sum(window[0, 1:3])\n",
    "                d = np.sum(window[3, 1:3])\n",
    "                l = np.sum(window[1:3, 0])\n",
    "                r = np.sum(window[1:3, 3])\n",
    "                if (u + d) >= 3 or (l + r) >= 3:\n",
    "                    band2[x_window - 1: x_window +1, y_window -1: y_window + 1] = 1."
   ]
  },
  {
   "cell_type": "code",
   "execution_count": null,
   "metadata": {},
   "outputs": [],
   "source": [
    "for iteration in range(0, 2):\n",
    "    for x_window in tnrange(1, band1.shape[0] - 2, 1):\n",
    "        for y_window in range(1, band1.shape[1] - 2, 1):\n",
    "            window = band2[x_window - 1: x_window + 2, y_window - 1: y_window + 2]\n",
    "            if window[1, 1] == 0:\n",
    "                u = window[0, 1]\n",
    "                d = window[2, 1]\n",
    "                l = window[1, 0]\n",
    "                r = window[1, 2]\n",
    "                if (u + d) == 2 or (l + r) == 2:\n",
    "                    band2[x_window, y_window] = 1."
   ]
  },
  {
   "cell_type": "code",
   "execution_count": null,
   "metadata": {},
   "outputs": [],
   "source": [
    "transform = rasterio.transform.from_bounds(west = -117.0, south = -55.5,\n",
    "                                           east = 51.00, north = 37.5000000000,\n",
    "                                           width = band1.shape[1], \n",
    "                                           height = band1.shape[0])\n",
    "\n",
    "new_dataset = rasterio.open(\"process_area_june_28_filled_revisit.tif\", 'w', driver = 'GTiff',\n",
    "                           height = band2.shape[0], width = band2.shape[1], count = 1,\n",
    "                           dtype = 'uint16',#str(stacked.dtype),\n",
    "                           crs = '+proj=longlat +ellps=WGS84 +datum=WGS84 +no_defs',\n",
    "                           transform=transform)\n",
    "new_dataset.write(band2, 1)\n",
    "new_dataset.close()"
   ]
  },
  {
   "cell_type": "code",
   "execution_count": null,
   "metadata": {},
   "outputs": [],
   "source": [
    "np.sum(band2)"
   ]
  },
  {
   "cell_type": "markdown",
   "metadata": {},
   "source": [
    "# Step 1: Convert to 6 x 6 km binary raster"
   ]
  },
  {
   "cell_type": "code",
   "execution_count": null,
   "metadata": {},
   "outputs": [],
   "source": [
    "import gdal\n",
    "import numpy as np\n",
    "ds = gdal.Open('sa_africa_binary_new.tif')\n",
    "\n",
    "options_str = '-ot Byte'\n",
    "\n",
    "ds = gdal.Translate('new_coords.tif', ds, projWin = [-117.0, 37.5, 51.00, -55.5],\n",
    "                   options=options_str)\n",
    "ds = None\n",
    "#band1 = ds.GetRasterBand(1).ReadAsArray()"
   ]
  },
  {
   "cell_type": "code",
   "execution_count": null,
   "metadata": {},
   "outputs": [],
   "source": [
    "ds = gdal.Open('lulc_sa_africa_binary.tif')\n",
    "band1 = ds.GetRasterBand(1).ReadAsArray()"
   ]
  },
  {
   "cell_type": "code",
   "execution_count": null,
   "metadata": {},
   "outputs": [],
   "source": [
    "print(band1.shape)"
   ]
  },
  {
   "cell_type": "code",
   "execution_count": null,
   "metadata": {},
   "outputs": [],
   "source": [
    "band1 = band1[:33480, :60480]\n",
    "\n",
    "band1 = np.reshape(band1, ((33480 // 20, 20, 60480 // 20, 20)))"
   ]
  },
  {
   "cell_type": "code",
   "execution_count": null,
   "metadata": {},
   "outputs": [],
   "source": [
    "band1 = np.sum(band1, axis = (1, 3))"
   ]
  },
  {
   "cell_type": "code",
   "execution_count": null,
   "metadata": {},
   "outputs": [],
   "source": [
    "band1 = band1.astype(np.uint16)"
   ]
  },
  {
   "cell_type": "code",
   "execution_count": null,
   "metadata": {},
   "outputs": [],
   "source": [
    "print(f\"The total TOF area is: {np.sum(band1) * ((300*300) / (1000*1000))}\")\n",
    "\n"
   ]
  },
  {
   "cell_type": "code",
   "execution_count": null,
   "metadata": {},
   "outputs": [],
   "source": [
    "import seaborn as sns\n",
    "import matplotlib.pyplot as plt\n",
    "%matplotlib inline\n",
    "\n",
    "plt.figure(figsize=(20,17))\n",
    "plt.imshow(band1, cmap='Greens', vmin=0, vmax=100)\n",
    "plt.show()"
   ]
  },
  {
   "cell_type": "code",
   "execution_count": null,
   "metadata": {},
   "outputs": [],
   "source": [
    "import rasterio\n",
    "transform = rasterio.transform.from_bounds(west = -117.0, south = -55.5,\n",
    "                                           east = 51.00, north = 37.5000000000,\n",
    "                                           width = band1.shape[1], \n",
    "                                           height = band1.shape[0])\n",
    "\n",
    "new_dataset = rasterio.open(\"output_summed.tif\", 'w', driver = 'GTiff',\n",
    "                           height = band1.shape[0], width = band1.shape[1], count = 1,\n",
    "                           dtype = 'uint16',#str(stacked.dtype),\n",
    "                           crs = '+proj=longlat +ellps=WGS84 +datum=WGS84 +no_defs',\n",
    "                           transform=transform)\n",
    "new_dataset.write(band1, 1)\n",
    "new_dataset.close()"
   ]
  },
  {
   "cell_type": "code",
   "execution_count": null,
   "metadata": {},
   "outputs": [],
   "source": [
    "np.max(band1)"
   ]
  },
  {
   "cell_type": "code",
   "execution_count": null,
   "metadata": {},
   "outputs": [],
   "source": [
    "for thresh in [0.3, 0.35, 0.4, 0.45, 0.5]:\n",
    "    test = np.copy(band1)\n",
    "    test[test < thresh * 400] = 0\n",
    "    test[test >= thresh * 400] = 1\n",
    "    print(np.sum(test))# / np.sum(band1))# / 9161269)\n",
    "    #print(test[:100, :100])\n",
    "    #print(test)"
   ]
  },
  {
   "cell_type": "code",
   "execution_count": null,
   "metadata": {},
   "outputs": [],
   "source": [
    "!gdalwarp -of GTiff -srcnodata 0 -dstnodata 0 -ot Uint16 -cutline clipping/cutline.shp -crop_to_cutline output_summed.tif Cutted_new.tif"
   ]
  },
  {
   "cell_type": "code",
   "execution_count": null,
   "metadata": {},
   "outputs": [],
   "source": [
    "import gdal\n",
    "import numpy as np\n",
    "ds = gdal.Open('output_summed.tif')\n",
    "band1 = ds.GetRasterBand(1).ReadAsArray()"
   ]
  },
  {
   "cell_type": "code",
   "execution_count": null,
   "metadata": {},
   "outputs": [],
   "source": []
  },
  {
   "cell_type": "code",
   "execution_count": null,
   "metadata": {},
   "outputs": [],
   "source": [
    "print(f\"The total TOF area is: {np.sum(band1) * ((300*300) / (1000*1000))}\")\n",
    "\n"
   ]
  },
  {
   "cell_type": "code",
   "execution_count": null,
   "metadata": {},
   "outputs": [],
   "source": [
    "import seaborn as sns\n",
    "import matplotlib.pyplot as plt\n",
    "%matplotlib inline\n",
    "\n",
    "plt.figure(figsize=(20,17))\n",
    "plt.imshow(band1, cmap='Greens', vmin=0, vmax=100)\n",
    "plt.show()"
   ]
  },
  {
   "cell_type": "code",
   "execution_count": null,
   "metadata": {},
   "outputs": [],
   "source": [
    "for thresh in [0.2, 0.25, 0.3, 0.35]:\n",
    "    test = np.copy(band1)\n",
    "    test[test < thresh * 400] = 0\n",
    "    test[test >= thresh * 400] = 1\n",
    "    print(np.sum(test) * 36)# / np.sum(band1))# / 9161269)\n",
    "    #print(test[:100, :100])\n",
    "    #print(test)"
   ]
  },
  {
   "cell_type": "code",
   "execution_count": null,
   "metadata": {},
   "outputs": [],
   "source": [
    "test = np.copy(band1)\n",
    "test[test < 0.35 * 400] = 0.\n",
    "test[test >= 0.35 * 400] = 1."
   ]
  },
  {
   "cell_type": "code",
   "execution_count": null,
   "metadata": {},
   "outputs": [],
   "source": [
    "import seaborn as sns\n",
    "import matplotlib.pyplot as plt\n",
    "%matplotlib inline\n",
    "\n",
    "plt.figure(figsize=(20,17))\n",
    "plt.imshow(test, cmap='Greens', vmin=0, vmax=1)\n",
    "plt.show()"
   ]
  },
  {
   "cell_type": "code",
   "execution_count": null,
   "metadata": {},
   "outputs": [],
   "source": [
    "for thresh in [0.1, 0.2, 0.25, 0.3, 0.35, 0.4, 0.45, 0.5]:\n",
    "    test = np.copy(band1)\n",
    "    test[test < thresh * 400] = 0\n",
    "    #test[test >= thresh * 400] = 1\n",
    "    print((np.sum(test)) / np.sum(band1))"
   ]
  },
  {
   "cell_type": "code",
   "execution_count": null,
   "metadata": {},
   "outputs": [],
   "source": [
    "import rasterio\n",
    "transform = rasterio.transform.from_bounds(west = -117.0, south = -55.5,\n",
    "                                           east = 51.00, north = 37.5000000000,\n",
    "                                           width = band1.shape[1], \n",
    "                                           height = band1.shape[0])\n",
    "\n",
    "new_dataset = rasterio.open(\"processing_area_mar_17.tif\", 'w', driver = 'GTiff',\n",
    "                           height = test.shape[0], width = test.shape[1], count = 1,\n",
    "                           dtype = 'uint16',#str(stacked.dtype),\n",
    "                           crs = '+proj=longlat +ellps=WGS84 +datum=WGS84 +no_defs',\n",
    "                           transform=transform)\n",
    "new_dataset.write(test, 1)\n",
    "new_dataset.close()"
   ]
  },
  {
   "cell_type": "markdown",
   "metadata": {},
   "source": [
    "# Step 3: Add in all urban areas\n",
    "\n",
    "The threshold for urban areas is 20/400 = 5%\n",
    "The overall thres4hold is 35%"
   ]
  },
  {
   "cell_type": "code",
   "execution_count": null,
   "metadata": {},
   "outputs": [],
   "source": [
    "import gdal\n",
    "import numpy as np\n",
    "ds = gdal.Open('sa_africa_lulc.tif')\n",
    "band1 = ds.GetRasterBand(1).ReadAsArray()"
   ]
  },
  {
   "cell_type": "code",
   "execution_count": null,
   "metadata": {},
   "outputs": [],
   "source": [
    "band1[band1 == 10] = 255.\n",
    "band1[band1 == 20] = 255.\n",
    "band1[band1 < 255 ] = 0.\n",
    "band1[band1 == 255] = 1.\n",
    "print(np.sum(band1))"
   ]
  },
  {
   "cell_type": "code",
   "execution_count": null,
   "metadata": {},
   "outputs": [],
   "source": [
    "print(band1.shape)"
   ]
  },
  {
   "cell_type": "code",
   "execution_count": null,
   "metadata": {},
   "outputs": [],
   "source": [
    "band1 = band1[:33480, :60480]\n",
    "\n",
    "band1 = np.reshape(band1, ((33480 // 20, 20, 60480 // 20, 20)))"
   ]
  },
  {
   "cell_type": "code",
   "execution_count": null,
   "metadata": {},
   "outputs": [],
   "source": [
    "band1 = np.sum(band1, axis = (1, 3))"
   ]
  },
  {
   "cell_type": "code",
   "execution_count": null,
   "metadata": {},
   "outputs": [],
   "source": [
    "import seaborn as sns\n",
    "import matplotlib.pyplot as plt\n",
    "%matplotlib inline\n",
    "\n",
    "plt.figure(figsize=(20,17))\n",
    "plt.imshow(band1, cmap='Greens', vmin=0, vmax=1)\n",
    "plt.show()"
   ]
  },
  {
   "cell_type": "code",
   "execution_count": null,
   "metadata": {},
   "outputs": [],
   "source": [
    "band1[band1 < 40] = 0.\n",
    "band1[band1 >= 40] = 1."
   ]
  },
  {
   "cell_type": "code",
   "execution_count": null,
   "metadata": {},
   "outputs": [],
   "source": [
    "band1 = band1.astype(np.uint16)"
   ]
  },
  {
   "cell_type": "code",
   "execution_count": null,
   "metadata": {},
   "outputs": [],
   "source": [
    "import rasterio\n",
    "transform = rasterio.transform.from_bounds(west = -117.0, south = -55.5,\n",
    "                                           east = 51.00, north = 37.5000000000,\n",
    "                                           width = band1.shape[1], \n",
    "                                           height = band1.shape[0])\n",
    "\n",
    "new_dataset = rasterio.open(\"crop_6km.tif\", 'w', driver = 'GTiff',\n",
    "                           height = band1.shape[0], width = band1.shape[1], count = 1,\n",
    "                           dtype = 'uint16',#str(stacked.dtype),\n",
    "                           crs = '+proj=longlat +ellps=WGS84 +datum=WGS84 +no_defs',\n",
    "                           transform=transform)\n",
    "new_dataset.write(band1, 1)\n",
    "new_dataset.close()"
   ]
  },
  {
   "cell_type": "code",
   "execution_count": null,
   "metadata": {},
   "outputs": [],
   "source": [
    "np.sum(band1)"
   ]
  },
  {
   "cell_type": "code",
   "execution_count": null,
   "metadata": {},
   "outputs": [],
   "source": [
    "band1.shape"
   ]
  },
  {
   "cell_type": "markdown",
   "metadata": {},
   "source": [
    "# Step 4: Combine the tifs"
   ]
  },
  {
   "cell_type": "code",
   "execution_count": null,
   "metadata": {},
   "outputs": [],
   "source": [
    "ds = gdal.Open('tof_processing_area_june_23.tif')\n",
    "process_area = ds.GetRasterBand(1).ReadAsArray()\n",
    "ds = None\n",
    "\n",
    "ds = gdal.Open('urban_6km.tif')\n",
    "urban = ds.GetRasterBand(1).ReadAsArray()\n",
    "ds = None\n",
    "\n",
    "ds = gdal.Open('crop_6km.tif')\n",
    "crop = ds.GetRasterBand(1).ReadAsArray()\n",
    "ds = None"
   ]
  },
  {
   "cell_type": "code",
   "execution_count": null,
   "metadata": {},
   "outputs": [],
   "source": [
    "process_area = process_area + urban + crop\n",
    "process_area[process_area > 1] = 1."
   ]
  },
  {
   "cell_type": "code",
   "execution_count": null,
   "metadata": {},
   "outputs": [],
   "source": [
    "import rasterio\n",
    "transform = rasterio.transform.from_bounds(west = -117.0, south = -55.5,\n",
    "                                           east = 51.00, north = 37.5000000000,\n",
    "                                           width = band1.shape[1], \n",
    "                                           height = band1.shape[0])\n",
    "\n",
    "new_dataset = rasterio.open(\"process_area_june_28.tif\", 'w', driver = 'GTiff',\n",
    "                           height = band1.shape[0], width = band1.shape[1], count = 1,\n",
    "                           dtype = 'uint16',#str(stacked.dtype),\n",
    "                           crs = '+proj=longlat +ellps=WGS84 +datum=WGS84 +no_defs',\n",
    "                           transform=transform)\n",
    "new_dataset.write(process_area, 1)\n",
    "new_dataset.close()"
   ]
  },
  {
   "cell_type": "markdown",
   "metadata": {},
   "source": [
    "# Step 5: Compare the coverage"
   ]
  },
  {
   "cell_type": "code",
   "execution_count": null,
   "metadata": {},
   "outputs": [],
   "source": [
    "import gdal\n",
    "import numpy as np\n",
    "import rasterio\n",
    "from tqdm.notebook import tnrange"
   ]
  },
  {
   "cell_type": "code",
   "execution_count": null,
   "metadata": {},
   "outputs": [],
   "source": [
    "ds = gdal.Open('sa_africa_lulc.tif')\n",
    "lulc = ds.GetRasterBand(1).ReadAsArray()\n",
    "lulc = lulc[:, :60480]\n",
    "ds = None\n",
    "\n",
    "ds = gdal.Open('process_area_june_28_filled.tif')\n",
    "area = ds.GetRasterBand(1).ReadAsArray()\n",
    "area = area.repeat(20,axis=0).repeat(20,axis=1)\n",
    "ds = None"
   ]
  },
  {
   "cell_type": "code",
   "execution_count": null,
   "metadata": {},
   "outputs": [],
   "source": [
    "unique_all, counts_all = np.unique(lulc, return_counts=True)\n",
    "for x, y in zip(unique_all, counts_all):\n",
    "    print(f\"{x}: {y}\")"
   ]
  },
  {
   "cell_type": "code",
   "execution_count": null,
   "metadata": {},
   "outputs": [],
   "source": [
    "for x, y, z in zip(unique_process[1:], counts_process[1:], counts_all):\n",
    "    if x in unique_all:\n",
    "    print(f\"{x}: {y}, {y/z}\")"
   ]
  },
  {
   "cell_type": "code",
   "execution_count": null,
   "metadata": {},
   "outputs": [],
   "source": []
  },
  {
   "cell_type": "code",
   "execution_count": null,
   "metadata": {},
   "outputs": [],
   "source": [
    "lulc[area == 0] = 0.\n",
    "\n",
    "unique_process, counts_process = np.unique(lulc, return_counts=True)"
   ]
  },
  {
   "cell_type": "code",
   "execution_count": null,
   "metadata": {},
   "outputs": [],
   "source": [
    "import pandas as pd\n",
    "process = pd.DataFrame({\"id\": unique_process, \"count\": counts_process})\n",
    "total =  pd.DataFrame({\"id\": unique_all, \"count_all\": counts_all})"
   ]
  },
  {
   "cell_type": "code",
   "execution_count": null,
   "metadata": {},
   "outputs": [],
   "source": [
    "overall = pd.merge(process, total)"
   ]
  },
  {
   "cell_type": "code",
   "execution_count": null,
   "metadata": {},
   "outputs": [],
   "source": [
    "overall['percent'] = overall['count'] / overall['count_all']"
   ]
  },
  {
   "cell_type": "code",
   "execution_count": null,
   "metadata": {},
   "outputs": [],
   "source": [
    "names = ['Crop rainfed', 'Herbaceous', 'Tree or shrub', 'Crop irrigated',\n",
    "        'Mosaic cropland' ,'Mosaic natural', '']"
   ]
  },
  {
   "cell_type": "code",
   "execution_count": null,
   "metadata": {},
   "outputs": [],
   "source": [
    "overall.to_csv(\"coverage.csv\")"
   ]
  },
  {
   "cell_type": "markdown",
   "metadata": {},
   "source": [
    "## All areas"
   ]
  },
  {
   "cell_type": "code",
   "execution_count": null,
   "metadata": {},
   "outputs": [],
   "source": [
    "import rasterio as rs\n",
    "import numpy as np\n",
    "ds = rs.open('sa_africa_lulc.tif').read(1)"
   ]
  },
  {
   "cell_type": "code",
   "execution_count": null,
   "metadata": {},
   "outputs": [],
   "source": [
    "ds[ds == 0] = 255.\n",
    "ds[ds == 200] = 255.\n",
    "ds[ds == 210] = 255.\n",
    "ds[ds < 255 ] = 1.\n",
    "ds[ds == 255] = 0.\n",
    "print(np.sum(ds))"
   ]
  },
  {
   "cell_type": "code",
   "execution_count": null,
   "metadata": {},
   "outputs": [],
   "source": [
    "ds = ds[:33480, :60480]\n",
    "\n",
    "ds = np.reshape(ds, ((33480 // 20, 20, 60480 // 20, 20)))"
   ]
  },
  {
   "cell_type": "code",
   "execution_count": null,
   "metadata": {},
   "outputs": [],
   "source": [
    "ds = np.sum(ds, axis = (1, 3))"
   ]
  },
  {
   "cell_type": "code",
   "execution_count": null,
   "metadata": {},
   "outputs": [],
   "source": [
    "ds[ds < 40] = 0.\n",
    "ds[ds >= 40] = 1."
   ]
  },
  {
   "cell_type": "code",
   "execution_count": null,
   "metadata": {},
   "outputs": [],
   "source": [
    "import rasterio\n",
    "transform = rasterio.transform.from_bounds(west = -117.0, south = -55.5,\n",
    "                                           east = 51.00, north = 37.5000000000,\n",
    "                                           width = ds.shape[1], \n",
    "                                           height = ds.shape[0])\n",
    "\n",
    "new_dataset = rasterio.open(\"process_area_nov_2.tif\", 'w', driver = 'GTiff',\n",
    "                           height = ds.shape[0], width = ds.shape[1], count = 1,\n",
    "                           dtype = 'uint16',#str(stacked.dtype),\n",
    "                           crs = '+proj=longlat +ellps=WGS84 +datum=WGS84 +no_defs',\n",
    "                           transform=transform)\n",
    "new_dataset.write(ds, 1)\n",
    "new_dataset.close()"
   ]
  },
  {
   "cell_type": "markdown",
   "metadata": {},
   "source": [
    "# Asia"
   ]
  },
  {
   "cell_type": "code",
   "execution_count": null,
   "metadata": {},
   "outputs": [],
   "source": [
    "import rasterio as rs\n",
    "import numpy as np\n",
    "ds = rs.open('esa_asia.tif').read(1)\n",
    "\n",
    "ds[ds == 0] = 255.\n",
    "ds[ds == 200] = 255.\n",
    "ds[ds == 210] = 255.\n",
    "ds[ds < 255 ] = 1.\n",
    "ds[ds == 255] = 0.\n",
    "print(np.sum(ds))"
   ]
  },
  {
   "cell_type": "code",
   "execution_count": null,
   "metadata": {},
   "outputs": [],
   "source": [
    "ds.shape"
   ]
  },
  {
   "cell_type": "code",
   "execution_count": null,
   "metadata": {},
   "outputs": [],
   "source": [
    "#ds = ds[:, :-4]\n",
    "ds = np.reshape(ds, ((34200 // 20, 20, 46400 // 20, 20)))\n",
    "ds = np.sum(ds, axis = (1, 3))\n",
    "ds[ds < 5] = 0.\n",
    "ds[ds >= 5] = 1.\n",
    "\n",
    "import rasterio\n",
    "transform = rasterio.transform.from_bounds(west = 51.1, south = -55.0,\n",
    "                                           east = 180., north = 40.,\n",
    "                                           width = ds.shape[1], \n",
    "                                           height = ds.shape[0])\n",
    "\n",
    "new_dataset = rasterio.open(\"asia_process_area.tif\", 'w', driver = 'GTiff',\n",
    "                           height = ds.shape[0], width = ds.shape[1], count = 1,\n",
    "                           dtype = 'uint16',#str(stacked.dtype),\n",
    "                           crs = '+proj=longlat +ellps=WGS84 +datum=WGS84 +no_defs',\n",
    "                           transform=transform)\n",
    "new_dataset.write(ds, 1)\n",
    "new_dataset.close()"
   ]
  },
  {
   "cell_type": "code",
   "execution_count": null,
   "metadata": {},
   "outputs": [],
   "source": []
  }
 ],
 "metadata": {
  "kernelspec": {
   "display_name": "remote_sensing",
   "language": "python",
   "name": "remote_sensing"
  },
  "language_info": {
   "codemirror_mode": {
    "name": "ipython",
    "version": 3
   },
   "file_extension": ".py",
   "mimetype": "text/x-python",
   "name": "python",
   "nbconvert_exporter": "python",
   "pygments_lexer": "ipython3",
   "version": "3.8.8"
  }
 },
 "nbformat": 4,
 "nbformat_minor": 2
}
