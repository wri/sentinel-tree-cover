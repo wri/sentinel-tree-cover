{
 "cells": [
  {
   "cell_type": "code",
   "execution_count": 1,
   "id": "10bf1aa8",
   "metadata": {},
   "outputs": [],
   "source": [
    "import pandas as pd"
   ]
  },
  {
   "cell_type": "code",
   "execution_count": 2,
   "id": "77ca80dc",
   "metadata": {},
   "outputs": [],
   "source": [
    "data = pd.read_csv(\"../../src/somalia_sept.csv\")\n",
    "data['X_tile'] = data['X_tile'].str.extract('(\\d+)', expand=False)\n",
    "data['X_tile'] = pd.to_numeric(data['X_tile'])\n",
    "data['Y_tile'] = data['Y_tile'].str.extract('(\\d+)', expand=False)\n",
    "data['Y_tile'] = pd.to_numeric(data['Y_tile'])"
   ]
  },
  {
   "cell_type": "code",
   "execution_count": 3,
   "id": "395ba7b6",
   "metadata": {},
   "outputs": [
    {
     "data": {
      "text/html": [
       "<div>\n",
       "<style scoped>\n",
       "    .dataframe tbody tr th:only-of-type {\n",
       "        vertical-align: middle;\n",
       "    }\n",
       "\n",
       "    .dataframe tbody tr th {\n",
       "        vertical-align: top;\n",
       "    }\n",
       "\n",
       "    .dataframe thead th {\n",
       "        text-align: right;\n",
       "    }\n",
       "</style>\n",
       "<table border=\"1\" class=\"dataframe\">\n",
       "  <thead>\n",
       "    <tr style=\"text-align: right;\">\n",
       "      <th></th>\n",
       "      <th>X</th>\n",
       "      <th>Y</th>\n",
       "      <th>Y_tile</th>\n",
       "      <th>X_tile</th>\n",
       "      <th>country</th>\n",
       "    </tr>\n",
       "  </thead>\n",
       "  <tbody>\n",
       "    <tr>\n",
       "      <th>0</th>\n",
       "      <td>43.6944</td>\n",
       "      <td>3.6944</td>\n",
       "      <td>1030</td>\n",
       "      <td>2472</td>\n",
       "      <td>Somalia</td>\n",
       "    </tr>\n",
       "    <tr>\n",
       "      <th>1</th>\n",
       "      <td>43.7500</td>\n",
       "      <td>3.6944</td>\n",
       "      <td>1030</td>\n",
       "      <td>2473</td>\n",
       "      <td>Somalia</td>\n",
       "    </tr>\n",
       "    <tr>\n",
       "      <th>2</th>\n",
       "      <td>43.8056</td>\n",
       "      <td>3.6944</td>\n",
       "      <td>1030</td>\n",
       "      <td>2474</td>\n",
       "      <td>Somalia</td>\n",
       "    </tr>\n",
       "    <tr>\n",
       "      <th>3</th>\n",
       "      <td>43.8611</td>\n",
       "      <td>3.6944</td>\n",
       "      <td>1030</td>\n",
       "      <td>2475</td>\n",
       "      <td>Somalia</td>\n",
       "    </tr>\n",
       "    <tr>\n",
       "      <th>4</th>\n",
       "      <td>43.9167</td>\n",
       "      <td>3.6944</td>\n",
       "      <td>1030</td>\n",
       "      <td>2476</td>\n",
       "      <td>Somalia</td>\n",
       "    </tr>\n",
       "  </tbody>\n",
       "</table>\n",
       "</div>"
      ],
      "text/plain": [
       "         X       Y  Y_tile  X_tile  country\n",
       "0  43.6944  3.6944    1030    2472  Somalia\n",
       "1  43.7500  3.6944    1030    2473  Somalia\n",
       "2  43.8056  3.6944    1030    2474  Somalia\n",
       "3  43.8611  3.6944    1030    2475  Somalia\n",
       "4  43.9167  3.6944    1030    2476  Somalia"
      ]
     },
     "execution_count": 3,
     "metadata": {},
     "output_type": "execute_result"
    }
   ],
   "source": [
    "data.head(5)"
   ]
  },
  {
   "cell_type": "code",
   "execution_count": 13,
   "id": "d4362cca",
   "metadata": {},
   "outputs": [],
   "source": [
    "import subprocess\n",
    "import os\n",
    "for index, row in data.iterrows():\n",
    "    if not os.path.isfile(f\"somalia/{row['X_tile']}X{row['Y_tile']}Y_FINAL.tif\"):\n",
    "        l = f\"s3://tof-output/2020/tiles/{row['X_tile']}/{row['Y_tile']}/{row['X_tile']}X{row['Y_tile']}Y_FINAL.tif\"\n",
    "        subprocess.run(['aws', 's3', 'cp', l, 'somalia/'])\n",
    "    "
   ]
  },
  {
   "cell_type": "code",
   "execution_count": 15,
   "id": "80d1d084",
   "metadata": {},
   "outputs": [],
   "source": [
    "import subprocess\n",
    "import os\n",
    "for index, row in data.iterrows():\n",
    "    if not os.path.isfile(f\"smooth/{row['X_tile']}X{row['Y_tile']}Y_SMOOTH_X.tif\"):\n",
    "        l = f\"s3://tof-output/2020/tiles/{row['X_tile']}/{row['Y_tile']}/{row['X_tile']}X{row['Y_tile']}Y_SMOOTH_X.tif\"\n",
    "        subprocess.run(['aws', 's3', 'cp', l, 'smooth/'])\n",
    "    "
   ]
  },
  {
   "cell_type": "code",
   "execution_count": 13,
   "id": "61e16fc6",
   "metadata": {},
   "outputs": [],
   "source": [
    "data = data.sort_values(by=['X_tile'], ascending = False)"
   ]
  },
  {
   "cell_type": "code",
   "execution_count": 6,
   "id": "39d1c188",
   "metadata": {},
   "outputs": [],
   "source": [
    "import subprocess\n",
    "import os\n",
    "for index, row in data.iterrows():\n",
    "    file = f\"{row['X_tile']}X{row['Y_tile']}Y_SMOOTH_XY.tif\"\n",
    "    file_x = f\"{row['X_tile']}X{row['Y_tile']}Y_SMOOTH_X.tif\"\n",
    "    file_y = f\"{row['X_tile']}X{row['Y_tile']}Y_SMOOTH_Y.tif\"\n",
    "    \n",
    "    if not os.path.isfile(f\"smooth/{file}\"):\n",
    "        l = f\"s3://tof-output/2020/tiles/{row['X_tile']}/{row['Y_tile']}/{file}\"\n",
    "        subprocess.run(['aws', 's3', 'cp', l, 'smooth/'])\n",
    "        \n",
    "    if not os.path.isfile(f\"smooth/{file}\") and not os.path.isfile(f\"smooth/{file_y}\"):\n",
    "        l = f\"s3://tof-output/2020/tiles/{row['X_tile']}/{row['Y_tile']}/{file_y}\"\n",
    "        subprocess.run(['aws', 's3', 'cp', l, 'smooth/'])\n",
    "        \n",
    "    if not os.path.isfile(f\"smooth/{file}\") and not os.path.isfile(f\"smooth/{file_y}\"):\n",
    "        if not os.path.isfile(f\"smooth/{file_x}\"):\n",
    "            l = f\"s3://tof-output/2020/tiles/{row['X_tile']}/{row['Y_tile']}/{file_x}\"\n",
    "            subprocess.run(['aws', 's3', 'cp', l, 'smooth/'])"
   ]
  },
  {
   "cell_type": "code",
   "execution_count": null,
   "id": "4e94daa6",
   "metadata": {},
   "outputs": [],
   "source": []
  }
 ],
 "metadata": {
  "kernelspec": {
   "display_name": "remote_sensing",
   "language": "python",
   "name": "remote_sensing"
  },
  "language_info": {
   "codemirror_mode": {
    "name": "ipython",
    "version": 3
   },
   "file_extension": ".py",
   "mimetype": "text/x-python",
   "name": "python",
   "nbconvert_exporter": "python",
   "pygments_lexer": "ipython3",
   "version": "3.8.8"
  }
 },
 "nbformat": 4,
 "nbformat_minor": 5
}
