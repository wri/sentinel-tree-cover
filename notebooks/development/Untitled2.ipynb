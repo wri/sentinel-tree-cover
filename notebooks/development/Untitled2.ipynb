{
 "cells": [
  {
   "cell_type": "code",
   "execution_count": null,
   "id": "b48970ec",
   "metadata": {},
   "outputs": [],
   "source": [
    "import rasterio as rs\n",
    "import numpy as np"
   ]
  },
  {
   "cell_type": "code",
   "execution_count": null,
   "id": "e3cce273",
   "metadata": {},
   "outputs": [],
   "source": [
    "tof = rs.open(\"tifs/tof.tif\").read(1).astype(np.float32)\n",
    "esa = rs.open(\"tifs/esa.tif\").read(1).astype(np.float32)"
   ]
  },
  {
   "cell_type": "code",
   "execution_count": null,
   "id": "1542ef40",
   "metadata": {},
   "outputs": [],
   "source": [
    "np.max(tof)"
   ]
  },
  {
   "cell_type": "code",
   "execution_count": null,
   "id": "e35e33b3",
   "metadata": {},
   "outputs": [],
   "source": [
    "cover = 10.0"
   ]
  },
  {
   "cell_type": "code",
   "execution_count": null,
   "id": "5a56c3bc",
   "metadata": {},
   "outputs": [],
   "source": [
    "\n",
    "tof[tof == 255] = np.nan"
   ]
  },
  {
   "cell_type": "code",
   "execution_count": null,
   "id": "4486c23c",
   "metadata": {},
   "outputs": [],
   "source": [
    "np.sum(~np.isnan(tof)) / 100"
   ]
  },
  {
   "cell_type": "code",
   "execution_count": null,
   "id": "214311d0",
   "metadata": {},
   "outputs": [],
   "source": [
    "tof[tof == 0] = np.nan"
   ]
  },
  {
   "cell_type": "code",
   "execution_count": null,
   "id": "210a513a",
   "metadata": {},
   "outputs": [],
   "source": [
    "tof[esa != cover] = np.nan \n",
    "print(np.sum(~np.isnan(tof)) / 100 )\n",
    "print(np.sum(esa == cover)/ 100)"
   ]
  },
  {
   "cell_type": "code",
   "execution_count": null,
   "id": "1d8190d1",
   "metadata": {},
   "outputs": [],
   "source": [
    "%matplotlib inline\n",
    "import matplotlib.pyplot as plt\n",
    "\n",
    "\n",
    "plt.figure(figsize=(20,10))\n",
    "\n",
    "plt.subplot(1,2,1)\n",
    "plt.imshow(tof, cmap='Greens', vmin=0, vmax=100)\n",
    "plt.title(f'TOF')\n",
    "\n",
    "plt.subplot(1,2,2)\n",
    "plt.imshow(esa, cmap='Greens', vmin=0, vmax=100)\n",
    "plt.title(f'ESA');"
   ]
  },
  {
   "cell_type": "code",
   "execution_count": null,
   "id": "b467079a",
   "metadata": {},
   "outputs": [],
   "source": [
    "tof"
   ]
  }
 ],
 "metadata": {
  "kernelspec": {
   "display_name": "tf",
   "language": "python",
   "name": "tf"
  },
  "language_info": {
   "codemirror_mode": {
    "name": "ipython",
    "version": 3
   },
   "file_extension": ".py",
   "mimetype": "text/x-python",
   "name": "python",
   "nbconvert_exporter": "python",
   "pygments_lexer": "ipython3",
   "version": "3.7.10"
  }
 },
 "nbformat": 4,
 "nbformat_minor": 5
}
