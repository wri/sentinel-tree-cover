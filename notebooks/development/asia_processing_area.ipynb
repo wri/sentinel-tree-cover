{
 "cells": [
  {
   "cell_type": "markdown",
   "id": "8b9cb9af",
   "metadata": {},
   "source": [
    "# Step 1: Convert to 6 x 6 km binary raster"
   ]
  },
  {
   "cell_type": "code",
   "execution_count": null,
   "id": "f213603a",
   "metadata": {},
   "outputs": [],
   "source": [
    "import rasterio\n",
    "import numpy as np\n",
    "ds = rasterio.open('esa_asia.tif')\n",
    "band1 = ds.read(1)"
   ]
  },
  {
   "cell_type": "code",
   "execution_count": null,
   "id": "f8e80819",
   "metadata": {},
   "outputs": [],
   "source": [
    "band1.shape"
   ]
  },
  {
   "cell_type": "code",
   "execution_count": null,
   "id": "963a69b3",
   "metadata": {},
   "outputs": [],
   "source": [
    "band1 = band1[:, :46400]\n",
    "band1[band1 == 210] = 0. \n",
    "\n",
    "band1 = np.reshape(band1, ((34200 // 20, 20, 46400 // 20, 20)))\n",
    "band1 = np.sum(band1, axis = (1, 3))\n",
    "band1 = band1.astype(np.uint16)"
   ]
  },
  {
   "cell_type": "code",
   "execution_count": null,
   "id": "40ef4e56",
   "metadata": {},
   "outputs": [],
   "source": [
    "band1[band1 > 0] = 1."
   ]
  },
  {
   "cell_type": "code",
   "execution_count": null,
   "id": "75c832d2",
   "metadata": {},
   "outputs": [],
   "source": [
    "import seaborn as sns\n",
    "import matplotlib.pyplot as plt\n",
    "%matplotlib inline\n",
    "\n",
    "plt.figure(figsize=(20,17))\n",
    "plt.imshow(band1, cmap='Greens', vmin=0, vmax=1)\n",
    "plt.show()"
   ]
  },
  {
   "cell_type": "code",
   "execution_count": null,
   "id": "c564c11b",
   "metadata": {},
   "outputs": [],
   "source": [
    "print(f\"The total TOF area is: {np.sum(band1) * ((300*300) / (1000*1000))}\")"
   ]
  },
  {
   "cell_type": "code",
   "execution_count": null,
   "id": "6ab6ab1f",
   "metadata": {},
   "outputs": [],
   "source": [
    "import rasterio\n",
    "\n",
    "transform = rasterio.transform.from_bounds(west = 51.10, south = -55.0,\n",
    "                                           east = 180., north = 40.,\n",
    "                                           width = band1.shape[1], \n",
    "                                           height = band1.shape[0])\n",
    "\n",
    "new_dataset = rasterio.open(\"asia_6km.tif\", 'w', driver = 'GTiff',\n",
    "                           height = band1.shape[0], width = band1.shape[1], count = 1,\n",
    "                           dtype = 'uint16',#str(stacked.dtype),\n",
    "                           crs = '+proj=longlat +ellps=WGS84 +datum=WGS84 +no_defs',\n",
    "                           transform=transform)\n",
    "new_dataset.write(band1, 1)\n",
    "new_dataset.close()"
   ]
  },
  {
   "cell_type": "code",
   "execution_count": null,
   "id": "92538ee9",
   "metadata": {},
   "outputs": [],
   "source": [
    "import pandas as pd\n",
    "db = pd.read_csv(\"asia_grid.csv\")\n",
    "db = db.drop(['VALUE', 'Unnamed: 3'], axis = 1)\n",
    "db.head(5)\n",
    "\n",
    "min_tile_id = 5000"
   ]
  },
  {
   "cell_type": "code",
   "execution_count": null,
   "id": "eef779ee",
   "metadata": {},
   "outputs": [],
   "source": [
    "db['Y'] = np.around(db['Y'], 4)\n",
    "db['X'] = np.around(db['X'], 4)\n",
    "\n",
    "all_y = sorted(np.unique(db['Y']))\n",
    "all_x = sorted(np.unique(db['X']))"
   ]
  },
  {
   "cell_type": "code",
   "execution_count": null,
   "id": "c3f2cbf7",
   "metadata": {},
   "outputs": [],
   "source": [
    "def id_tile_num(x, y, all_x, all_y, min_x):\n",
    "    x_id = rank_x[all_x == x]\n",
    "    y_id = rank_y[all_y == y]\n",
    "    return x_id + min_x, y_id\n",
    "\n",
    "db['Y_tile'] = np.nan\n",
    "db['X_tile'] = np.nan\n",
    "\n",
    "for index, row in db.iterrows():\n",
    "    if index % 1000 == 0:\n",
    "        print(index)\n",
    "    x, y = id_tile_num(row['X'], row['Y'], all_x, all_y, 5000)\n",
    "    db['X_tile'][index] = x\n",
    "    db['Y_tile'][index] = y\n",
    "    \n",
    "db.head(20)"
   ]
  },
  {
   "cell_type": "code",
   "execution_count": null,
   "id": "24fb7573",
   "metadata": {},
   "outputs": [],
   "source": [
    "db.to_csv(\"asia_processing_area.csv\", index = False)"
   ]
  }
 ],
 "metadata": {
  "kernelspec": {
   "display_name": "tf",
   "language": "python",
   "name": "tf"
  },
  "language_info": {
   "codemirror_mode": {
    "name": "ipython",
    "version": 3
   },
   "file_extension": ".py",
   "mimetype": "text/x-python",
   "name": "python",
   "nbconvert_exporter": "python",
   "pygments_lexer": "ipython3",
   "version": "3.7.10"
  }
 },
 "nbformat": 4,
 "nbformat_minor": 5
}
