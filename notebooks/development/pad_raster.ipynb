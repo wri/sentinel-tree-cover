{
 "cells": [
  {
   "cell_type": "code",
   "execution_count": null,
   "metadata": {},
   "outputs": [],
   "source": [
    "import gdal\n",
    "import numpy as np\n",
    "import osgeo\n",
    "\n",
    "def pad_tof_raster(country, shapefile):\n",
    "    \n",
    "    '''\n",
    "    Increase the raster extent to match the boundas of a country's shapefile\n",
    "    and fill with no data value.\n",
    "    \n",
    "    Attributes\n",
    "    ----------\n",
    "    country : str\n",
    "        a string indicating the country files to import\n",
    "    shapefile : .geojson or .shp file\n",
    "        shapefile containing subnational administrative boundaries level 0-2\n",
    "    '''\n",
    "    \n",
    "    # reproject shapefile\n",
    "    shapefile = shapefile.to_crs(\"EPSG:4326\")\n",
    "\n",
    "    # identify min/max bounds for the country\n",
    "    bounds = shapefile.geometry.bounds\n",
    "    min_x = bounds.minx.min() \n",
    "    min_y = bounds.miny.min()\n",
    "    max_x = bounds.maxx.max()\n",
    "    max_y = bounds.maxy.max()\n",
    "    print(f'Original bounds: ({min_x}, {min_y}, {max_x}, {max_y})')\n",
    "    \n",
    "    # round to the nearest .1 lat/lon\n",
    "    # Lower_x: -87.6 -> -88.0 (math.floor)\n",
    "    # Lower_x: 5.5 -> 5.0 (math.floor)\n",
    "\n",
    "    # Upper_x: 11.2 -> 11.3 (math.ceil)\n",
    "    # Upper_x: -82.5 -> -82.0 (math.ceil)\n",
    "    # Upper_y: 11.22 -> 11.3 (math.ceil)\n",
    "    # Upper_y: -11.22 -> -11.2 (math.ceil)\n",
    "    \n",
    "    # So lower is math.floor, upper is math.ceil always (!!)\n",
    "    lower_x = math.floor(min_x * 1) / 1\n",
    "    lower_y = math.floor(min_y * 1) / 1 \n",
    "    upper_x = (math.ceil(max_x * 1) / 1)\n",
    "    upper_y = (math.ceil(max_y * 1) / 1)\n",
    "    print(f'Padding bounds: ({lower_x}, {lower_y}, {upper_x}, {upper_y})')\n",
    "          \n",
    "    # create tif with new output bounds, filled with no data value\n",
    "    warp_options = gdal.WarpOptions(format='Gtiff', \n",
    "                                    dstSRS='EPSG:4326',\n",
    "                                    dstNodata=255,\n",
    "                                    #targetAlignedPixels=True,\n",
    "                                    outputBounds=[lower_x, lower_y, upper_x, upper_y],\n",
    "                                    resampleAlg='near',\n",
    "                                    outputType=osgeo.gdalconst.GDT_Byte,\n",
    "                                    creationOptions=['TFW=YES', 'COMPRESS=LZW']\n",
    "                                   )\n",
    "    \n",
    "    ds = gdal.Warp(f'{country}/{country}_tof_padded.tif', # destination file\n",
    "                   f'{country}/{country}_tof.tif',        # original file\n",
    "                   options=warp_options)                  # define specifics\n",
    "    \n",
    "    return None"
   ]
  },
  {
   "cell_type": "code",
   "execution_count": null,
   "metadata": {},
   "outputs": [],
   "source": [
    "import geopandas as gpd\n",
    "import math\n",
    "pad_tof_raster('Costa Rica', gpd.read_file('data/costa-rica-wgs84.geojson'))"
   ]
  },
  {
   "cell_type": "code",
   "execution_count": null,
   "metadata": {},
   "outputs": [],
   "source": [
    "import hickle as hkl\n",
    "import numpy as np\n",
    "x = hkl.load(\"../../project-monitoring/tiles/1753/1206/raw/misc/dem_1753X1206Y.hkl\")"
   ]
  },
  {
   "cell_type": "code",
   "execution_count": null,
   "metadata": {},
   "outputs": [],
   "source": [
    "import seaborn as sns\n",
    "import matplotlib.pyplot as plt\n",
    "%matplotlib inline\n",
    "sns.heatmap(x)"
   ]
  }
 ],
 "metadata": {
  "kernelspec": {
   "display_name": "remote_sensing",
   "language": "python",
   "name": "remote_sensing"
  },
  "language_info": {
   "codemirror_mode": {
    "name": "ipython",
    "version": 3
   },
   "file_extension": ".py",
   "mimetype": "text/x-python",
   "name": "python",
   "nbconvert_exporter": "python",
   "pygments_lexer": "ipython3",
   "version": "3.6.8"
  }
 },
 "nbformat": 4,
 "nbformat_minor": 2
}
