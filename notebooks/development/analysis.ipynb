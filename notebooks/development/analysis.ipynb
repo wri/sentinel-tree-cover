{
 "cells": [
  {
   "cell_type": "markdown",
   "metadata": {},
   "source": [
    "# Step 2: Fill holes in processing area"
   ]
  },
  {
   "cell_type": "code",
   "execution_count": 1,
   "metadata": {},
   "outputs": [],
   "source": [
    "import gdal\n",
    "import numpy as np\n",
    "import rasterio\n",
    "from tqdm.notebook import tnrange\n",
    "\n",
    "\n",
    "ds = gdal.Open('process_area_june_28.tif')\n",
    "band1 = ds.GetRasterBand(1).ReadAsArray()\n",
    "band2 = np.copy(band1)"
   ]
  },
  {
   "cell_type": "code",
   "execution_count": 155,
   "metadata": {},
   "outputs": [
    {
     "data": {
      "application/vnd.jupyter.widget-view+json": {
       "model_id": "01e460a4a99440bd82a13e44cd325d75",
       "version_major": 2,
       "version_minor": 0
      },
      "text/plain": [
       "HBox(children=(IntProgress(value=0, max=1671), HTML(value='')))"
      ]
     },
     "metadata": {},
     "output_type": "display_data"
    },
    {
     "name": "stdout",
     "output_type": "stream",
     "text": [
      "\n"
     ]
    },
    {
     "data": {
      "application/vnd.jupyter.widget-view+json": {
       "model_id": "68c2478d8c2d4755b116b89280282f27",
       "version_major": 2,
       "version_minor": 0
      },
      "text/plain": [
       "HBox(children=(IntProgress(value=0, max=1671), HTML(value='')))"
      ]
     },
     "metadata": {},
     "output_type": "display_data"
    },
    {
     "name": "stdout",
     "output_type": "stream",
     "text": [
      "\n"
     ]
    }
   ],
   "source": [
    "from tqdm.notebook import tnrange\n",
    "\n",
    "for iteration in range(0, 2):\n",
    "    for x_window in tnrange(1, band1.shape[0] - 2, 1):\n",
    "        for y_window in range(1, band1.shape[1] - 2, 1):\n",
    "            window = band2[x_window - 1: x_window + 2, y_window - 1: y_window + 2]\n",
    "            if window[1, 1] == 0:\n",
    "                u = window[0, 1]\n",
    "                d = window[2, 1]\n",
    "                l = window[1, 0]\n",
    "                r = window[1, 2]\n",
    "                if (u + d) == 2 or (l + r) == 2:\n",
    "                    band2[x_window, y_window] = 1.\n"
   ]
  },
  {
   "cell_type": "code",
   "execution_count": 156,
   "metadata": {},
   "outputs": [
    {
     "data": {
      "application/vnd.jupyter.widget-view+json": {
       "model_id": "71729f90bdd94477acef3518927b825c",
       "version_major": 2,
       "version_minor": 0
      },
      "text/plain": [
       "HBox(children=(IntProgress(value=0, max=1669), HTML(value='')))"
      ]
     },
     "metadata": {},
     "output_type": "display_data"
    },
    {
     "name": "stdout",
     "output_type": "stream",
     "text": [
      "\n"
     ]
    }
   ],
   "source": [
    "for iteration in range(0, 1):\n",
    "    for x_window in tnrange(2, band1.shape[0] - 3, 1):\n",
    "        for y_window in range(2, band1.shape[1] - 3, 1):\n",
    "            window = band1[x_window - 2: x_window + 2, y_window - 2: y_window + 2]\n",
    "            # -2, -1, 0, 1\n",
    "            if np.sum(window[1:3, 1:3]) == 0:\n",
    "                u = np.sum(window[0, 1:3])\n",
    "                d = np.sum(window[3, 1:3])\n",
    "                l = np.sum(window[1:3, 0])\n",
    "                r = np.sum(window[1:3, 3])\n",
    "                if (u + d) >= 3 or (l + r) >= 3:\n",
    "                    band2[x_window - 1: x_window +1, y_window -1: y_window + 1] = 1.\n",
    "\n"
   ]
  },
  {
   "cell_type": "code",
   "execution_count": 2,
   "metadata": {},
   "outputs": [
    {
     "data": {
      "application/vnd.jupyter.widget-view+json": {
       "model_id": "5d92d9d43ddf40bf907332ac4d41b776",
       "version_major": 2,
       "version_minor": 0
      },
      "text/plain": [
       "HBox(children=(IntProgress(value=0, max=1671), HTML(value='')))"
      ]
     },
     "metadata": {},
     "output_type": "display_data"
    },
    {
     "name": "stdout",
     "output_type": "stream",
     "text": [
      "\n"
     ]
    },
    {
     "data": {
      "application/vnd.jupyter.widget-view+json": {
       "model_id": "6d88f984ed9e45058155ca00d13c4d9f",
       "version_major": 2,
       "version_minor": 0
      },
      "text/plain": [
       "HBox(children=(IntProgress(value=0, max=1671), HTML(value='')))"
      ]
     },
     "metadata": {},
     "output_type": "display_data"
    },
    {
     "name": "stdout",
     "output_type": "stream",
     "text": [
      "\n"
     ]
    }
   ],
   "source": [
    "for iteration in range(0, 2):\n",
    "    for x_window in tnrange(1, band1.shape[0] - 2, 1):\n",
    "        for y_window in range(1, band1.shape[1] - 2, 1):\n",
    "            window = band2[x_window - 1: x_window + 2, y_window - 1: y_window + 2]\n",
    "            if window[1, 1] == 0:\n",
    "                u = window[0, 1]\n",
    "                d = window[2, 1]\n",
    "                l = window[1, 0]\n",
    "                r = window[1, 2]\n",
    "                if (u + d) == 2 or (l + r) == 2:\n",
    "                    band2[x_window, y_window] = 1."
   ]
  },
  {
   "cell_type": "code",
   "execution_count": 158,
   "metadata": {},
   "outputs": [
    {
     "data": {
      "application/vnd.jupyter.widget-view+json": {
       "model_id": "37457dc9fbe74795a60f63d22b9f39a8",
       "version_major": 2,
       "version_minor": 0
      },
      "text/plain": [
       "HBox(children=(IntProgress(value=0, max=1669), HTML(value='')))"
      ]
     },
     "metadata": {},
     "output_type": "display_data"
    },
    {
     "name": "stdout",
     "output_type": "stream",
     "text": [
      "\n"
     ]
    }
   ],
   "source": [
    "band1 = np.copy(band2)\n",
    "for iteration in range(0, 1):\n",
    "    for x_window in tnrange(2, band1.shape[0] - 3, 1):\n",
    "        for y_window in range(2, band1.shape[1] - 3, 1):\n",
    "            window = band1[x_window - 2: x_window + 2, y_window - 2: y_window + 2]\n",
    "            if np.sum(window[1:3, 1:3]) == 0:\n",
    "                u = np.sum(window[0, 1:3])\n",
    "                d = np.sum(window[3, 1:3])\n",
    "                l = np.sum(window[1:3, 0])\n",
    "                r = np.sum(window[1:3, 3])\n",
    "                if (u + d) >= 3 or (l + r) >= 3:\n",
    "                    band2[x_window - 1: x_window +1, y_window -1: y_window + 1] = 1."
   ]
  },
  {
   "cell_type": "code",
   "execution_count": 159,
   "metadata": {},
   "outputs": [
    {
     "data": {
      "application/vnd.jupyter.widget-view+json": {
       "model_id": "50e3ca20006640a6a048df2a46d6d317",
       "version_major": 2,
       "version_minor": 0
      },
      "text/plain": [
       "HBox(children=(IntProgress(value=0, max=1671), HTML(value='')))"
      ]
     },
     "metadata": {},
     "output_type": "display_data"
    },
    {
     "name": "stdout",
     "output_type": "stream",
     "text": [
      "\n"
     ]
    },
    {
     "data": {
      "application/vnd.jupyter.widget-view+json": {
       "model_id": "7c9828a25c8b4f0fa58d84cf29b73c73",
       "version_major": 2,
       "version_minor": 0
      },
      "text/plain": [
       "HBox(children=(IntProgress(value=0, max=1671), HTML(value='')))"
      ]
     },
     "metadata": {},
     "output_type": "display_data"
    },
    {
     "name": "stdout",
     "output_type": "stream",
     "text": [
      "\n"
     ]
    }
   ],
   "source": [
    "for iteration in range(0, 2):\n",
    "    for x_window in tnrange(1, band1.shape[0] - 2, 1):\n",
    "        for y_window in range(1, band1.shape[1] - 2, 1):\n",
    "            window = band2[x_window - 1: x_window + 2, y_window - 1: y_window + 2]\n",
    "            if window[1, 1] == 0:\n",
    "                u = window[0, 1]\n",
    "                d = window[2, 1]\n",
    "                l = window[1, 0]\n",
    "                r = window[1, 2]\n",
    "                if (u + d) == 2 or (l + r) == 2:\n",
    "                    band2[x_window, y_window] = 1."
   ]
  },
  {
   "cell_type": "code",
   "execution_count": 3,
   "metadata": {},
   "outputs": [],
   "source": [
    "transform = rasterio.transform.from_bounds(west = -117.0, south = -55.5,\n",
    "                                           east = 51.00, north = 37.5000000000,\n",
    "                                           width = band1.shape[1], \n",
    "                                           height = band1.shape[0])\n",
    "\n",
    "new_dataset = rasterio.open(\"process_area_june_28_filled_revisit.tif\", 'w', driver = 'GTiff',\n",
    "                           height = band2.shape[0], width = band2.shape[1], count = 1,\n",
    "                           dtype = 'uint16',#str(stacked.dtype),\n",
    "                           crs = '+proj=longlat +ellps=WGS84 +datum=WGS84 +no_defs',\n",
    "                           transform=transform)\n",
    "new_dataset.write(band2, 1)\n",
    "new_dataset.close()"
   ]
  },
  {
   "cell_type": "code",
   "execution_count": 4,
   "metadata": {},
   "outputs": [
    {
     "data": {
      "text/plain": [
       "407886"
      ]
     },
     "execution_count": 4,
     "metadata": {},
     "output_type": "execute_result"
    }
   ],
   "source": [
    "np.sum(band2)"
   ]
  },
  {
   "cell_type": "markdown",
   "metadata": {},
   "source": [
    "# Step 1: Convert to 6 x 6 km binary raster"
   ]
  },
  {
   "cell_type": "code",
   "execution_count": 8,
   "metadata": {},
   "outputs": [],
   "source": [
    "import gdal\n",
    "import numpy as np\n",
    "ds = gdal.Open('sa_africa_binary_new.tif')\n",
    "\n",
    "options_str = '-ot Byte'\n",
    "\n",
    "ds = gdal.Translate('new_coords.tif', ds, projWin = [-117.0, 37.5, 51.00, -55.5],\n",
    "                   options=options_str)\n",
    "ds = None"
   ]
  },
  {
   "cell_type": "code",
   "execution_count": 6,
   "metadata": {},
   "outputs": [
    {
     "ename": "AttributeError",
     "evalue": "'NoneType' object has no attribute 'GetRasterBand'",
     "output_type": "error",
     "traceback": [
      "\u001b[0;31m---------------------------------------------------------------------------\u001b[0m",
      "\u001b[0;31mAttributeError\u001b[0m                            Traceback (most recent call last)",
      "\u001b[0;32m<ipython-input-6-00cb7b4bd237>\u001b[0m in \u001b[0;36m<module>\u001b[0;34m\u001b[0m\n\u001b[1;32m      1\u001b[0m \u001b[0mds\u001b[0m \u001b[0;34m=\u001b[0m \u001b[0mgdal\u001b[0m\u001b[0;34m.\u001b[0m\u001b[0mOpen\u001b[0m\u001b[0;34m(\u001b[0m\u001b[0;34m'lulc_sa_africa_binary.tif'\u001b[0m\u001b[0;34m)\u001b[0m\u001b[0;34m\u001b[0m\u001b[0;34m\u001b[0m\u001b[0m\n\u001b[0;32m----> 2\u001b[0;31m \u001b[0mband1\u001b[0m \u001b[0;34m=\u001b[0m \u001b[0mds\u001b[0m\u001b[0;34m.\u001b[0m\u001b[0mGetRasterBand\u001b[0m\u001b[0;34m(\u001b[0m\u001b[0;36m1\u001b[0m\u001b[0;34m)\u001b[0m\u001b[0;34m.\u001b[0m\u001b[0mReadAsArray\u001b[0m\u001b[0;34m(\u001b[0m\u001b[0;34m)\u001b[0m\u001b[0;34m\u001b[0m\u001b[0;34m\u001b[0m\u001b[0m\n\u001b[0m",
      "\u001b[0;31mAttributeError\u001b[0m: 'NoneType' object has no attribute 'GetRasterBand'"
     ]
    }
   ],
   "source": [
    "ds = gdal.Open('lulc_sa_africa_binary.tif')\n",
    "band1 = ds.GetRasterBand(1).ReadAsArray()"
   ]
  },
  {
   "cell_type": "code",
   "execution_count": 4,
   "metadata": {},
   "outputs": [],
   "source": [
    "band1 = band1[:33480, :60480]\n",
    "\n",
    "band1 = np.reshape(band1, ((33480 // 20, 20, 60480 // 20, 20)))\n",
    "band1 = np.sum(band1, axis = (1, 3))\n",
    "band1 = band1.astype(np.uint16)"
   ]
  },
  {
   "cell_type": "code",
   "execution_count": 16,
   "metadata": {},
   "outputs": [
    {
     "name": "stdout",
     "output_type": "stream",
     "text": [
      "The total TOF area is: 9159970.86\n"
     ]
    }
   ],
   "source": [
    "print(f\"The total TOF area is: {np.sum(band1) * ((300*300) / (1000*1000))}\")\n",
    "\n"
   ]
  },
  {
   "cell_type": "code",
   "execution_count": 18,
   "metadata": {},
   "outputs": [],
   "source": [
    "import rasterio\n",
    "transform = rasterio.transform.from_bounds(west = -117.0, south = -55.5,\n",
    "                                           east = 51.00, north = 37.5000000000,\n",
    "                                           width = band1.shape[1], \n",
    "                                           height = band1.shape[0])\n",
    "\n",
    "new_dataset = rasterio.open(\"output_summed.tif\", 'w', driver = 'GTiff',\n",
    "                           height = band1.shape[0], width = band1.shape[1], count = 1,\n",
    "                           dtype = 'uint16',#str(stacked.dtype),\n",
    "                           crs = '+proj=longlat +ellps=WGS84 +datum=WGS84 +no_defs',\n",
    "                           transform=transform)\n",
    "new_dataset.write(band1, 1)\n",
    "new_dataset.close()"
   ]
  },
  {
   "cell_type": "code",
   "execution_count": 28,
   "metadata": {},
   "outputs": [],
   "source": [
    "import gdal\n",
    "import numpy as np\n",
    "ds = gdal.Open('output_summed.tif')\n",
    "band1 = ds.GetRasterBand(1).ReadAsArray()"
   ]
  },
  {
   "cell_type": "code",
   "execution_count": 22,
   "metadata": {},
   "outputs": [
    {
     "name": "stdout",
     "output_type": "stream",
     "text": [
      "The total TOF area is: 8316601.02\n"
     ]
    }
   ],
   "source": [
    "print(f\"The total TOF area is: {np.sum(band1) * ((300*300) / (1000*1000))}\")\n",
    "\n"
   ]
  },
  {
   "cell_type": "code",
   "execution_count": 24,
   "metadata": {},
   "outputs": [
    {
     "name": "stdout",
     "output_type": "stream",
     "text": [
      "13289940.0\n",
      "11752596.0\n",
      "10464084.0\n",
      "9344844.0\n"
     ]
    }
   ],
   "source": [
    "for thresh in [0.2, 0.25, 0.3, 0.35]:\n",
    "    test = np.copy(band1)\n",
    "    test[test < thresh * 400] = 0\n",
    "    test[test >= thresh * 400] = 1\n",
    "    print(np.sum(test) * 36)# / np.sum(band1))# / 9161269)\n",
    "    #print(test[:100, :100])\n",
    "    #print(test)"
   ]
  },
  {
   "cell_type": "code",
   "execution_count": 29,
   "metadata": {},
   "outputs": [],
   "source": [
    "test = np.copy(band1)\n",
    "test[test < 0.35 * 400] = 0.\n",
    "test[test >= 0.35 * 400] = 1."
   ]
  },
  {
   "cell_type": "code",
   "execution_count": 30,
   "metadata": {},
   "outputs": [
    {
     "data": {
      "image/png": "[encoded data removed]",
      "text/plain": [
       "<Figure size 1440x1224 with 1 Axes>"
      ]
     },
     "metadata": {
      "needs_background": "light"
     },
     "output_type": "display_data"
    }
   ],
   "source": [
    "import seaborn as sns\n",
    "import matplotlib.pyplot as plt\n",
    "%matplotlib inline\n",
    "\n",
    "plt.figure(figsize=(20,17))\n",
    "plt.imshow(test, cmap='Greens', vmin=0, vmax=1)\n",
    "plt.show()"
   ]
  },
  {
   "cell_type": "code",
   "execution_count": 31,
   "metadata": {},
   "outputs": [],
   "source": [
    "import rasterio\n",
    "transform = rasterio.transform.from_bounds(west = -117.0, south = -55.5,\n",
    "                                           east = 51.00, north = 37.5000000000,\n",
    "                                           width = band1.shape[1], \n",
    "                                           height = band1.shape[0])\n",
    "\n",
    "new_dataset = rasterio.open(\"processing_area_mar_17.tif\", 'w', driver = 'GTiff',\n",
    "                           height = test.shape[0], width = test.shape[1], count = 1,\n",
    "                           dtype = 'uint16',#str(stacked.dtype),\n",
    "                           crs = '+proj=longlat +ellps=WGS84 +datum=WGS84 +no_defs',\n",
    "                           transform=transform)\n",
    "new_dataset.write(test, 1)\n",
    "new_dataset.close()"
   ]
  },
  {
   "cell_type": "markdown",
   "metadata": {},
   "source": [
    "# Step 3: Add in all urban areas\n",
    "\n",
    "The threshold for urban areas is 20/400 = 5%\n",
    "The overall thres4hold is 35%"
   ]
  },
  {
   "cell_type": "code",
   "execution_count": 135,
   "metadata": {},
   "outputs": [],
   "source": [
    "import gdal\n",
    "import numpy as np\n",
    "ds = gdal.Open('sa_africa_lulc.tif')\n",
    "band1 = ds.GetRasterBand(1).ReadAsArray()"
   ]
  },
  {
   "cell_type": "code",
   "execution_count": 136,
   "metadata": {},
   "outputs": [
    {
     "name": "stdout",
     "output_type": "stream",
     "text": [
      "38818703\n"
     ]
    }
   ],
   "source": [
    "band1[band1 == 10] = 255.\n",
    "band1[band1 == 20] = 255.\n",
    "band1[band1 < 255 ] = 0.\n",
    "band1[band1 == 255] = 1.\n",
    "print(np.sum(band1))"
   ]
  },
  {
   "cell_type": "code",
   "execution_count": 137,
   "metadata": {},
   "outputs": [
    {
     "name": "stdout",
     "output_type": "stream",
     "text": [
      "(33480, 60516)\n"
     ]
    }
   ],
   "source": [
    "print(band1.shape)"
   ]
  },
  {
   "cell_type": "code",
   "execution_count": 138,
   "metadata": {},
   "outputs": [],
   "source": [
    "band1 = band1[:33480, :60480]\n",
    "\n",
    "band1 = np.reshape(band1, ((33480 // 20, 20, 60480 // 20, 20)))"
   ]
  },
  {
   "cell_type": "code",
   "execution_count": 139,
   "metadata": {},
   "outputs": [],
   "source": [
    "band1 = np.sum(band1, axis = (1, 3))"
   ]
  },
  {
   "cell_type": "code",
   "execution_count": 140,
   "metadata": {},
   "outputs": [
    {
     "data": {
      "image/png": "[encoded data removed]",
      "text/plain": [
       "<Figure size 1440x1224 with 1 Axes>"
      ]
     },
     "metadata": {
      "needs_background": "light"
     },
     "output_type": "display_data"
    }
   ],
   "source": [
    "import seaborn as sns\n",
    "import matplotlib.pyplot as plt\n",
    "%matplotlib inline\n",
    "\n",
    "plt.figure(figsize=(20,17))\n",
    "plt.imshow(band1, cmap='Greens', vmin=0, vmax=1)\n",
    "plt.show()"
   ]
  },
  {
   "cell_type": "code",
   "execution_count": 141,
   "metadata": {},
   "outputs": [],
   "source": [
    "band1[band1 < 40] = 0.\n",
    "band1[band1 >= 40] = 1."
   ]
  },
  {
   "cell_type": "code",
   "execution_count": 142,
   "metadata": {},
   "outputs": [],
   "source": [
    "band1 = band1.astype(np.uint16)"
   ]
  },
  {
   "cell_type": "code",
   "execution_count": 143,
   "metadata": {},
   "outputs": [],
   "source": [
    "import rasterio\n",
    "transform = rasterio.transform.from_bounds(west = -117.0, south = -55.5,\n",
    "                                           east = 51.00, north = 37.5000000000,\n",
    "                                           width = band1.shape[1], \n",
    "                                           height = band1.shape[0])\n",
    "\n",
    "new_dataset = rasterio.open(\"crop_6km.tif\", 'w', driver = 'GTiff',\n",
    "                           height = band1.shape[0], width = band1.shape[1], count = 1,\n",
    "                           dtype = 'uint16',#str(stacked.dtype),\n",
    "                           crs = '+proj=longlat +ellps=WGS84 +datum=WGS84 +no_defs',\n",
    "                           transform=transform)\n",
    "new_dataset.write(band1, 1)\n",
    "new_dataset.close()"
   ]
  },
  {
   "cell_type": "code",
   "execution_count": 144,
   "metadata": {},
   "outputs": [
    {
     "data": {
      "text/plain": [
       "217369"
      ]
     },
     "execution_count": 144,
     "metadata": {},
     "output_type": "execute_result"
    }
   ],
   "source": [
    "np.sum(band1)"
   ]
  },
  {
   "cell_type": "code",
   "execution_count": 145,
   "metadata": {},
   "outputs": [
    {
     "data": {
      "text/plain": [
       "(1674, 3024)"
      ]
     },
     "execution_count": 145,
     "metadata": {},
     "output_type": "execute_result"
    }
   ],
   "source": [
    "band1.shape"
   ]
  },
  {
   "cell_type": "markdown",
   "metadata": {},
   "source": [
    "# Step X add in mosaic cropland"
   ]
  },
  {
   "cell_type": "code",
   "execution_count": 4,
   "metadata": {},
   "outputs": [
    {
     "name": "stdout",
     "output_type": "stream",
     "text": [
      "37233070\n"
     ]
    }
   ],
   "source": [
    "import numpy as np\n",
    "import rasterio\n",
    "\n",
    "ds = rasterio.open('sa_africa_lulc.tif')\n",
    "band1 = ds.read(1)\n",
    "\n",
    "band1[band1 == 30] = 255.\n",
    "band1[band1 == 40] = 255.\n",
    "band1[band1 < 255 ] = 0.\n",
    "band1[band1 == 255] = 1.\n",
    "print(np.sum(band1))\n",
    "\n",
    "band1 = band1[:33480, :60480]\n",
    "\n",
    "band1 = np.reshape(band1, ((33480 // 20, 20, 60480 // 20, 20)))\n",
    "band1 = np.sum(band1, axis = (1, 3))\n",
    "\n",
    "band1[band1 < 80] = 0.\n",
    "band1[band1 >= 80] = 1.\n",
    "band1 = band1.astype(np.uint16)\n",
    "\n",
    "transform = rasterio.transform.from_bounds(west = -117.0, south = -55.5,\n",
    "                                           east = 51.00, north = 37.5000000000,\n",
    "                                           width = band1.shape[1], \n",
    "                                           height = band1.shape[0])\n",
    "\n",
    "new_dataset = rasterio.open(\"crop_mosaic_6km.tif\", 'w', driver = 'GTiff',\n",
    "                           height = band1.shape[0], width = band1.shape[1], count = 1,\n",
    "                           dtype = 'uint16',#str(stacked.dtype),\n",
    "                           crs = '+proj=longlat +ellps=WGS84 +datum=WGS84 +no_defs',\n",
    "                           transform=transform)\n",
    "new_dataset.write(band1, 1)\n",
    "new_dataset.close()"
   ]
  },
  {
   "cell_type": "markdown",
   "metadata": {},
   "source": [
    "# Step X.2 Add in mosaic herbaceous"
   ]
  },
  {
   "cell_type": "code",
   "execution_count": 9,
   "metadata": {},
   "outputs": [
    {
     "name": "stdout",
     "output_type": "stream",
     "text": [
      "6685145\n"
     ]
    }
   ],
   "source": [
    "import numpy as np\n",
    "import rasterio\n",
    "\n",
    "ds = rasterio.open('tifs/sa_africa_lulc.tif')\n",
    "band1 = ds.read(1)\n",
    "\n",
    "band1[band1 == 110] = 255.\n",
    "band1[band1 < 255 ] = 0.\n",
    "band1[band1 == 255] = 1.\n",
    "print(np.sum(band1))\n",
    "\n",
    "band1 = band1[:33480, :60480]\n",
    "\n",
    "band1 = np.reshape(band1, ((33480 // 20, 20, 60480 // 20, 20)))\n",
    "band1 = np.sum(band1, axis = (1, 3))\n",
    "\n",
    "band1[band1 < 80] = 0.\n",
    "band1[band1 >= 80] = 1.\n",
    "band1 = band1.astype(np.uint16)\n",
    "\n",
    "transform = rasterio.transform.from_bounds(west = -117.0, south = -55.5,\n",
    "                                           east = 51.00, north = 37.5000000000,\n",
    "                                           width = band1.shape[1], \n",
    "                                           height = band1.shape[0])\n",
    "\n",
    "new_dataset = rasterio.open(\"tifs/herb_mosaic_6km.tif\", 'w', driver = 'GTiff',\n",
    "                           height = band1.shape[0], width = band1.shape[1], count = 1,\n",
    "                           dtype = 'uint16',#str(stacked.dtype),\n",
    "                           crs = '+proj=longlat +ellps=WGS84 +datum=WGS84 +no_defs',\n",
    "                           transform=transform)\n",
    "new_dataset.write(band1, 1)\n",
    "new_dataset.close()"
   ]
  },
  {
   "cell_type": "markdown",
   "metadata": {},
   "source": [
    "# Step 4: Combine the tifs"
   ]
  },
  {
   "cell_type": "code",
   "execution_count": 146,
   "metadata": {},
   "outputs": [],
   "source": [
    "ds = gdal.Open('tof_processing_area_june_23.tif')\n",
    "process_area = ds.GetRasterBand(1).ReadAsArray()\n",
    "ds = None\n",
    "\n",
    "ds = gdal.Open('urban_6km.tif')\n",
    "urban = ds.GetRasterBand(1).ReadAsArray()\n",
    "ds = None\n",
    "\n",
    "ds = gdal.Open('crop_6km.tif')\n",
    "crop = ds.GetRasterBand(1).ReadAsArray()\n",
    "ds = None"
   ]
  },
  {
   "cell_type": "code",
   "execution_count": 150,
   "metadata": {},
   "outputs": [],
   "source": [
    "process_area = process_area + urban + crop\n",
    "process_area[process_area > 1] = 1."
   ]
  },
  {
   "cell_type": "code",
   "execution_count": 153,
   "metadata": {},
   "outputs": [],
   "source": [
    "import rasterio\n",
    "transform = rasterio.transform.from_bounds(west = -117.0, south = -55.5,\n",
    "                                           east = 51.00, north = 37.5000000000,\n",
    "                                           width = band1.shape[1], \n",
    "                                           height = band1.shape[0])\n",
    "\n",
    "new_dataset = rasterio.open(\"process_area_june_28.tif\", 'w', driver = 'GTiff',\n",
    "                           height = band1.shape[0], width = band1.shape[1], count = 1,\n",
    "                           dtype = 'uint16',#str(stacked.dtype),\n",
    "                           crs = '+proj=longlat +ellps=WGS84 +datum=WGS84 +no_defs',\n",
    "                           transform=transform)\n",
    "new_dataset.write(process_area, 1)\n",
    "new_dataset.close()"
   ]
  },
  {
   "cell_type": "markdown",
   "metadata": {},
   "source": [
    "# Step 5: Compare the coverage"
   ]
  },
  {
   "cell_type": "code",
   "execution_count": 1,
   "metadata": {},
   "outputs": [
    {
     "ename": "ModuleNotFoundError",
     "evalue": "No module named 'gdal'",
     "output_type": "error",
     "traceback": [
      "\u001b[0;31m---------------------------------------------------------------------------\u001b[0m",
      "\u001b[0;31mModuleNotFoundError\u001b[0m                       Traceback (most recent call last)",
      "\u001b[0;32m<ipython-input-1-8dd78bc3dc68>\u001b[0m in \u001b[0;36m<module>\u001b[0;34m\u001b[0m\n\u001b[0;32m----> 1\u001b[0;31m \u001b[0;32mimport\u001b[0m \u001b[0mgdal\u001b[0m\u001b[0;34m\u001b[0m\u001b[0;34m\u001b[0m\u001b[0m\n\u001b[0m\u001b[1;32m      2\u001b[0m \u001b[0;32mimport\u001b[0m \u001b[0mnumpy\u001b[0m \u001b[0;32mas\u001b[0m \u001b[0mnp\u001b[0m\u001b[0;34m\u001b[0m\u001b[0;34m\u001b[0m\u001b[0m\n\u001b[1;32m      3\u001b[0m \u001b[0;32mimport\u001b[0m \u001b[0mrasterio\u001b[0m\u001b[0;34m\u001b[0m\u001b[0;34m\u001b[0m\u001b[0m\n\u001b[1;32m      4\u001b[0m \u001b[0;32mfrom\u001b[0m \u001b[0mtqdm\u001b[0m\u001b[0;34m.\u001b[0m\u001b[0mnotebook\u001b[0m \u001b[0;32mimport\u001b[0m \u001b[0mtnrange\u001b[0m\u001b[0;34m\u001b[0m\u001b[0;34m\u001b[0m\u001b[0m\n",
      "\u001b[0;31mModuleNotFoundError\u001b[0m: No module named 'gdal'"
     ]
    }
   ],
   "source": [
    "import gdal\n",
    "import numpy as np\n",
    "import rasterio\n",
    "from tqdm.notebook import tnrange"
   ]
  },
  {
   "cell_type": "code",
   "execution_count": 13,
   "metadata": {},
   "outputs": [],
   "source": [
    "ds = gdal.Open('sa_africa_lulc.tif')\n",
    "lulc = ds.GetRasterBand(1).ReadAsArray()\n",
    "lulc = lulc[:, :60480]\n",
    "ds = None\n",
    "\n",
    "ds = gdal.Open('process_area_june_28_filled.tif')\n",
    "area = ds.GetRasterBand(1).ReadAsArray()\n",
    "area = area.repeat(20,axis=0).repeat(20,axis=1)\n",
    "ds = None"
   ]
  },
  {
   "cell_type": "code",
   "execution_count": 14,
   "metadata": {},
   "outputs": [
    {
     "name": "stdout",
     "output_type": "stream",
     "text": [
      "10: 35763622\n",
      "11: 34234671\n",
      "12: 404588\n",
      "20: 3040271\n",
      "30: 20003819\n",
      "40: 17223725\n",
      "50: 101802166\n",
      "60: 24422542\n",
      "61: 5536478\n",
      "62: 36907449\n",
      "70: 8047771\n",
      "80: 148379\n",
      "90: 3422183\n",
      "100: 12652758\n",
      "110: 6684981\n",
      "120: 94365804\n",
      "121: 5\n",
      "122: 1156863\n",
      "130: 45484942\n",
      "140: 31\n",
      "150: 16465751\n",
      "151: 63\n",
      "152: 490759\n",
      "153: 4201505\n",
      "160: 5348896\n",
      "170: 962912\n",
      "180: 7276287\n",
      "190: 2206710\n",
      "200: 144509271\n",
      "201: 552705\n",
      "202: 102799\n",
      "210: 1390812345\n",
      "220: 637349\n"
     ]
    }
   ],
   "source": [
    "unique_all, counts_all = np.unique(lulc, return_counts=True)\n",
    "for x, y in zip(unique_all, counts_all):\n",
    "    print(f\"{x}: {y}\")"
   ]
  },
  {
   "cell_type": "code",
   "execution_count": 19,
   "metadata": {},
   "outputs": [
    {
     "name": "stdout",
     "output_type": "stream",
     "text": [
      "10: 34357195, 0.9606743690557964\n",
      "11: 16895318, 0.49351483471244695\n",
      "12: 227179, 0.5615070145431896\n",
      "20: 2956561, 0.9724662702765642\n",
      "30: 16221515, 0.8109209046532565\n",
      "40: 13343893, 0.774739088089249\n",
      "50: 12159322, 0.11944070030887162\n",
      "60: 3578304, 0.1465164437018882\n",
      "61: 516667, 0.09332051892918206\n",
      "62: 7314171, 0.19817601048503786\n",
      "70: 969752, 0.12049945258134209\n",
      "80: 45774, 0.30849378955242995\n",
      "90: 400502, 0.1170311464933348\n",
      "100: 9069933, 0.7168344640749471\n",
      "110: 5289943, 0.79131758190487\n",
      "120: 17715950, 0.18773696878585383\n",
      "122: 476382, 95276.4\n",
      "130: 14318855, 12.377312611778578\n",
      "140: 16, 3.517647664583149e-07\n",
      "150: 1872201, 60393.58064516129\n",
      "151: 20, 1.214642441756832e-06\n",
      "152: 95546, 1516.6031746031747\n",
      "153: 3547557, 7.228715112713164\n",
      "160: 441435, 0.10506592280623253\n",
      "170: 269115, 0.05031225135055907\n",
      "180: 1605079, 1.6669010252234888\n",
      "190: 2045317, 0.2810935027713998\n",
      "200: 4046653, 1.8337946535793104\n",
      "201: 134383, 0.0009299264958578333\n",
      "202: 3876, 0.007012782587456238\n",
      "210: 2639264, 25.674024066381968\n",
      "220: 7922, 5.695951742504845e-06\n"
     ]
    }
   ],
   "source": [
    "for x, y, z in zip(unique_process[1:], counts_process[1:], counts_all):\n",
    "    if x in unique_all:\n",
    "    print(f\"{x}: {y}, {y/z}\")"
   ]
  },
  {
   "cell_type": "code",
   "execution_count": null,
   "metadata": {},
   "outputs": [],
   "source": [
    "lulc[area == 0] = 0.\n",
    "\n",
    "unique_process, counts_process = np.unique(lulc, return_counts=True)"
   ]
  },
  {
   "cell_type": "code",
   "execution_count": 25,
   "metadata": {},
   "outputs": [],
   "source": [
    "import pandas as pd\n",
    "process = pd.DataFrame({\"id\": unique_process, \"count\": counts_process})\n",
    "total =  pd.DataFrame({\"id\": unique_all, \"count_all\": counts_all})"
   ]
  },
  {
   "cell_type": "code",
   "execution_count": 28,
   "metadata": {},
   "outputs": [],
   "source": [
    "overall = pd.merge(process, total)"
   ]
  },
  {
   "cell_type": "code",
   "execution_count": 30,
   "metadata": {},
   "outputs": [],
   "source": [
    "overall['percent'] = overall['count'] / overall['count_all']"
   ]
  },
  {
   "cell_type": "code",
   "execution_count": null,
   "metadata": {},
   "outputs": [],
   "source": [
    "names = ['Crop rainfed', 'Herbaceous', 'Tree or shrub', 'Crop irrigated',\n",
    "        'Mosaic cropland' ,'Mosaic natural', '']"
   ]
  },
  {
   "cell_type": "code",
   "execution_count": 32,
   "metadata": {},
   "outputs": [],
   "source": [
    "overall.to_csv(\"coverage.csv\")"
   ]
  },
  {
   "cell_type": "markdown",
   "metadata": {},
   "source": [
    "# More workspace"
   ]
  },
  {
   "cell_type": "code",
   "execution_count": 2,
   "metadata": {},
   "outputs": [],
   "source": [
    "import numpy as np\n",
    "import rasterio\n",
    "\n",
    "ds = rasterio.open('tifs/process_area_june_28_filled.tif')\n",
    "current_area = ds.read(1)"
   ]
  },
  {
   "cell_type": "code",
   "execution_count": 3,
   "metadata": {},
   "outputs": [
    {
     "data": {
      "text/plain": [
       "431414"
      ]
     },
     "execution_count": 3,
     "metadata": {},
     "output_type": "execute_result"
    }
   ],
   "source": [
    "np.sum(current_area)"
   ]
  },
  {
   "cell_type": "code",
   "execution_count": 11,
   "metadata": {},
   "outputs": [
    {
     "data": {
      "text/plain": [
       "434231"
      ]
     },
     "execution_count": 11,
     "metadata": {},
     "output_type": "execute_result"
    }
   ],
   "source": [
    "ds = rasterio.open('tifs/herb_mosaic_6km.tif')\n",
    "crop_area = ds.read(1)\n",
    "np.sum(np.logical_or(crop_area == 1, current_area == 1))"
   ]
  },
  {
   "cell_type": "code",
   "execution_count": null,
   "metadata": {},
   "outputs": [],
   "source": []
  }
 ],
 "metadata": {
  "kernelspec": {
   "display_name": "tf",
   "language": "python",
   "name": "tf"
  },
  "language_info": {
   "codemirror_mode": {
    "name": "ipython",
    "version": 3
   },
   "file_extension": ".py",
   "mimetype": "text/x-python",
   "name": "python",
   "nbconvert_exporter": "python",
   "pygments_lexer": "ipython3",
   "version": "3.7.10"
  }
 },
 "nbformat": 4,
 "nbformat_minor": 2
}
