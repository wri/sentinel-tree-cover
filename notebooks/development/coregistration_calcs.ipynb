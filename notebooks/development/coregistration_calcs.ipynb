{
 "cells": [
  {
   "cell_type": "code",
   "execution_count": 95,
   "id": "901508a7",
   "metadata": {},
   "outputs": [],
   "source": [
    "import numpy as np"
   ]
  },
  {
   "cell_type": "code",
   "execution_count": 96,
   "id": "6602d941",
   "metadata": {},
   "outputs": [],
   "source": [
    "sentinel_mean = np.array([2.5, 2.5])\n",
    "sentinel_cov = np.full((2, 2), (2.0) ** 2)\n",
    "sentinel = np.random.multivariate_normal(sentinel_mean, sentinel_cov, 100000)"
   ]
  },
  {
   "cell_type": "code",
   "execution_count": 97,
   "id": "b18eb083",
   "metadata": {},
   "outputs": [],
   "source": [
    "wv_mean = np.array([2.3, 2.3])\n",
    "wv_cov = np.full((2, 2), (2.1 ** 2))\n",
    "wv = np.random.multivariate_normal(wv_mean, wv_cov, 100000)"
   ]
  },
  {
   "cell_type": "code",
   "execution_count": 98,
   "id": "77c275e8",
   "metadata": {},
   "outputs": [
    {
     "data": {
      "text/plain": [
       "2.3125429296234037"
      ]
     },
     "execution_count": 98,
     "metadata": {},
     "output_type": "execute_result"
    }
   ],
   "source": [
    "np.mean(abs(sentinel[:, 0] - wv[:, 0]))"
   ]
  },
  {
   "cell_type": "code",
   "execution_count": 99,
   "id": "ef014919",
   "metadata": {},
   "outputs": [
    {
     "data": {
      "text/plain": [
       "2.312542929448675"
      ]
     },
     "execution_count": 99,
     "metadata": {},
     "output_type": "execute_result"
    }
   ],
   "source": [
    "np.mean(abs(sentinel[:, 1] - wv[:, 1]))"
   ]
  },
  {
   "cell_type": "code",
   "execution_count": 100,
   "id": "d1808999",
   "metadata": {},
   "outputs": [],
   "source": [
    "import math\n",
    "dists = np.linalg.norm(sentinel-wv, axis = 1)"
   ]
  },
  {
   "cell_type": "code",
   "execution_count": 101,
   "id": "3ea07b3a",
   "metadata": {},
   "outputs": [
    {
     "data": {
      "text/plain": [
       "3.2704295745198766"
      ]
     },
     "execution_count": 101,
     "metadata": {},
     "output_type": "execute_result"
    }
   ],
   "source": [
    "np.mean(dists)"
   ]
  },
  {
   "cell_type": "code",
   "execution_count": null,
   "id": "4b41b3bf",
   "metadata": {},
   "outputs": [],
   "source": [
    "np.linalg.norm()"
   ]
  }
 ],
 "metadata": {
  "kernelspec": {
   "display_name": "tf",
   "language": "python",
   "name": "tf"
  },
  "language_info": {
   "codemirror_mode": {
    "name": "ipython",
    "version": 3
   },
   "file_extension": ".py",
   "mimetype": "text/x-python",
   "name": "python",
   "nbconvert_exporter": "python",
   "pygments_lexer": "ipython3",
   "version": "3.7.10"
  }
 },
 "nbformat": 4,
 "nbformat_minor": 5
}
