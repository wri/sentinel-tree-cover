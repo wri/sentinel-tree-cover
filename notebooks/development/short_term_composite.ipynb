{
 "cells": [
  {
   "cell_type": "code",
   "execution_count": null,
   "id": "29396c77",
   "metadata": {},
   "outputs": [],
   "source": [
    "import pandas as pd\n",
    "import numpy as np\n",
    "import hickle as hkl"
   ]
  },
  {
   "cell_type": "code",
   "execution_count": null,
   "id": "5cbb7b77",
   "metadata": {},
   "outputs": [],
   "source": [
    "data10 = hkl.load(\"../../project-monitoring/tiles/1620/1075/raw/s2_10/1620X1075Y.hkl\")\n",
    "data20 = hkl.load(\"../../project-monitoring/tiles/1620/1075/raw/s2_20/1620X1075Y.hkl\")\n",
    "data20 = data20.repeat(2, axis = 1).repeat(2, axis = 2)\n",
    "\n",
    "subtile = np.empty((data10.shape[0], data10.shape[1], data10.shape[2], 10))\n",
    "subtile[..., :4] = data10\n",
    "subtile[..., 4:] = data20\n",
    "\n",
    "subtile = subtile.astype(np.float32)\n",
    "subtile = subtile / 65535"
   ]
  },
  {
   "cell_type": "code",
   "execution_count": null,
   "id": "ec39069d",
   "metadata": {},
   "outputs": [],
   "source": [
    "b2 = subtile[..., 0]\n",
    "b3 = subtile[..., 1]\n",
    "b4 = subtile[..., 2]\n",
    "b8 = subtile[..., 3]\n",
    "b8a = subtile[..., 7]\n",
    "b11 = subtile[..., 8]\n",
    "b12 = subtile[..., 9]\n",
    "\n",
    "mndwi = (b3 - b11) / (b3 + b11)\n",
    "ndvi = (b8 - b4) / (b8 + b4)\n",
    "tcb = ((0.3029 * b2) + (0.2786 * b3) + (0.47 * b4) + (0.5599 * b8a) +\\\n",
    "(0.508 * b11) + (0.1872 * b12))\n",
    "\n",
    "print(mndwi.shape)\n",
    "print(ndvi.shape)\n",
    "def id_idx(x, y, mndwi, ndvi, tcb):\n",
    "    \n",
    "    ndwi_i = mndwi[:, x, y]\n",
    "    ndvi_i = ndvi[:, x,  y]\n",
    "    tcb_i = tcb[:, x, y]\n",
    "    arg_ndvi = np.argmax(ndvi_i)\n",
    "    arg_ndwi = np.argmax(ndwi_i)\n",
    "    \n",
    "    if ndwi_i[arg_ndvi] < -0.55 and (ndvi_i[arg_ndvi] - np.mean(ndvi_i)) < 0.05:\n",
    "        idx = arg_ndvi\n",
    "    elif ndvi_i[arg_ndwi] < -0.3 and (ndwi_i[arg_ndwi] - np.min(ndvi_i)) < 0.05:\n",
    "        idx = arg_ndwi\n",
    "    elif ndvi_i[arg_ndvi] > 0.6 and tcb_i[arg_ndvi] < 0.45:\n",
    "        idx = arg_ndvi\n",
    "    elif ndvi_i[arg_ndwi] < -0.2:\n",
    "        idx = arg_ndwi\n",
    "    elif tcb_i[np.argmin(ndvi_i)] > 0.45:\n",
    "        idx = np.argmin(ndvi_i)\n",
    "    else:\n",
    "        idx = arg_ndvi\n",
    "    return idx\n",
    "\n",
    "stc = np.empty((data10.shape[1], data10.shape[2], 10))\n",
    "for x in range(stc.shape[0]):\n",
    "    for y in range(stc.shape[1]):\n",
    "        idx = id_idx(x, y, mndwi, ndvi, tcb)\n",
    "        if idx is not None:\n",
    "            stc[x, y] = subtile[idx, x, y]\n",
    "        \n",
    "\n",
    "    "
   ]
  },
  {
   "cell_type": "code",
   "execution_count": null,
   "id": "d7dac014",
   "metadata": {},
   "outputs": [],
   "source": [
    "sns.heatmap(stc[..., 3], vmax = 0.5)"
   ]
  },
  {
   "cell_type": "code",
   "execution_count": null,
   "id": "61eb38a6",
   "metadata": {},
   "outputs": [],
   "source": [
    "def argmax_lastNaxes(A, N):\n",
    "    s = A.shape\n",
    "    new_shp = s[:-N] + (np.prod(s[-N:]),)\n",
    "    max_idx = A.reshape(new_shp).argmax(-1)\n",
    "    return np.unravel_index(max_idx, s[-N:])\n",
    "\n",
    "\n",
    "maxndvi = argmax_lastNaxes(ndvi, 2)"
   ]
  },
  {
   "cell_type": "code",
   "execution_count": null,
   "id": "76762865",
   "metadata": {},
   "outputs": [],
   "source": [
    "maxndvi[1].shape"
   ]
  },
  {
   "cell_type": "code",
   "execution_count": null,
   "id": "8066da28",
   "metadata": {},
   "outputs": [],
   "source": [
    "import seaborn as sns\n",
    "import matplotlib.pyplot as plt\n",
    "%matplotlib inline\n",
    "\n",
    "sns.heatmap(fourth_criteria)"
   ]
  },
  {
   "cell_type": "code",
   "execution_count": null,
   "id": "96edcce1",
   "metadata": {},
   "outputs": [],
   "source": []
  }
 ],
 "metadata": {
  "kernelspec": {
   "display_name": "tf",
   "language": "python",
   "name": "tf"
  },
  "language_info": {
   "codemirror_mode": {
    "name": "ipython",
    "version": 3
   },
   "file_extension": ".py",
   "mimetype": "text/x-python",
   "name": "python",
   "nbconvert_exporter": "python",
   "pygments_lexer": "ipython3",
   "version": "3.7.10"
  }
 },
 "nbformat": 4,
 "nbformat_minor": 5
}
