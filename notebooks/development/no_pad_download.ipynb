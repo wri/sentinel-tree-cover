{
 "cells": [
  {
   "cell_type": "code",
   "execution_count": null,
   "id": "9e25b8c2",
   "metadata": {},
   "outputs": [],
   "source": [
    "import numpy as np\n",
    "SIZE = 168\n",
    "s1 = np.empty((12, 600, 600))"
   ]
  },
  {
   "cell_type": "code",
   "execution_count": null,
   "id": "d3963d4a",
   "metadata": {},
   "outputs": [],
   "source": [
    "\n",
    "def make_overlapping_windows(tiles: np.ndarray, diff = 7) -> np.ndarray:\n",
    "    \"\"\" Takes the A x B window IDs (n, 4)for an\n",
    "     X by Y rectangle and enures that the windows are the right\n",
    "     size (e.g. square, 150 x 150) for running predictions on \"\"\"\n",
    "    tiles2 = np.copy(tiles)\n",
    "    n_x = np.sum(tiles2[:, 0] == 0)\n",
    "    n_y = np.sum(tiles2[:, 1] == 0)\n",
    "\n",
    "    tiles2[:n_x, 2] += diff\n",
    "    tiles2[-n_x:, 2] += diff\n",
    "    to_adjust = np.full((tiles.shape[0]), diff * 2).astype(np.uint16)\n",
    "    \n",
    "    for i in range(len(to_adjust)):\n",
    "        if (i % n_y == 0) or ((i + 1) % n_y == 0):\n",
    "            to_adjust[i] -= diff\n",
    "    tiles2 = tiles2.astype(np.int64)\n",
    "    tiles2[:, 3] += to_adjust\n",
    "    tiles2[n_x:-n_x, 2] += (diff * 2)\n",
    "    tiles2[n_x:, 0] -= diff\n",
    "    tiles2[:, 1] -= diff\n",
    "    tiles2[:, 3] = 182\n",
    "    tiles2[:, 2] = 182\n",
    "    tiles2[tiles2 < 0] = 0.\n",
    "    return tiles2\n",
    "\n",
    "gap_x = int(np.ceil((s1.shape[1] - SIZE) / 4))\n",
    "gap_y = int(np.ceil((s1.shape[2] - SIZE) / 4))\n",
    "tiles_folder_x = np.hstack([np.arange(0, s1.shape[1] - SIZE, gap_x), np.array(s1.shape[1] - SIZE)])\n",
    "tiles_folder_y = np.hstack([np.arange(0, s1.shape[2] - SIZE, gap_y), np.array(s1.shape[2] - SIZE)])\n",
    "print(f'There are: {len(tiles_folder_x) * len(tiles_folder_y)} subtiles')\n",
    "\n",
    "def cartesian(*arrays):\n",
    "    mesh = np.meshgrid(*arrays)  # standard numpy meshgrid\n",
    "    dim = len(mesh)  # number of dimensions\n",
    "    elements = mesh[0].size  # number of elements, any index will do\n",
    "    flat = np.concatenate(mesh).ravel()  # flatten the whole meshgrid\n",
    "    reshape = np.reshape(flat, (dim, elements)).T  # reshape and transpose\n",
    "    return reshape\n",
    "\n",
    "windows = cartesian(tiles_folder_x, tiles_folder_y)\n",
    "win_sizes = np.full_like(windows, SIZE)\n",
    "tiles_folder = np.hstack([windows, win_sizes])\n",
    "tiles_folder = np.sort(tiles_folder, axis = 0)\n",
    "tiles_folder[:, 1] = np.tile(np.unique(tiles_folder[:, 1]), \n",
    "    int(len(tiles_folder[:, 1]) / len(np.unique(tiles_folder[:, 1]))))\n",
    "tiles_array = make_overlapping_windows(tiles_folder, diff = 7)"
   ]
  },
  {
   "cell_type": "code",
   "execution_count": null,
   "id": "b6f727b9",
   "metadata": {},
   "outputs": [],
   "source": [
    "import hickle as hkl\n",
    "x = hkl.load(\"../../project-monitoring/tiles/2275/1165/raw/s1/2275X1165Y.hkl\")"
   ]
  },
  {
   "cell_type": "code",
   "execution_count": null,
   "id": "8ac1a04b",
   "metadata": {},
   "outputs": [],
   "source": [
    "np.sum(x == 65535, axis = (1, 2, 3))"
   ]
  },
  {
   "cell_type": "code",
   "execution_count": null,
   "id": "b8590a7a",
   "metadata": {},
   "outputs": [],
   "source": [
    "n_pix_oob = np.sum(x >= 65535, axis = (1, 2, 3))\n",
    "print(f\"N_oob: {n_pix_oob}\")\n",
    "to_remove = np.argwhere(n_pix_oob > (300*300)/5)\n",
    "print(to_remove)\n"
   ]
  },
  {
   "cell_type": "code",
   "execution_count": null,
   "id": "da82502d",
   "metadata": {},
   "outputs": [],
   "source": [
    "x.shape"
   ]
  },
  {
   "cell_type": "code",
   "execution_count": null,
   "id": "5eb14536",
   "metadata": {},
   "outputs": [],
   "source": [
    "import hickle as hkl\n",
    "import numpy as np"
   ]
  },
  {
   "cell_type": "code",
   "execution_count": null,
   "id": "fc871782",
   "metadata": {},
   "outputs": [],
   "source": [
    "y.shape"
   ]
  },
  {
   "cell_type": "code",
   "execution_count": null,
   "id": "bb40ede5",
   "metadata": {},
   "outputs": [],
   "source": [
    "%run ../../src/downloading/utils.py\n",
    "%run ../../src/preprocessing/whittaker_smoother.py"
   ]
  },
  {
   "cell_type": "code",
   "execution_count": null,
   "id": "fcdeff2a",
   "metadata": {},
   "outputs": [],
   "source": [
    "y.shape"
   ]
  },
  {
   "cell_type": "code",
   "execution_count": null,
   "id": "dfb066d9",
   "metadata": {},
   "outputs": [],
   "source": [
    "x = hkl.load(\"tifs/s2/1410X1196Y.hkl\")\n",
    "y = hkl.load(\"tifs/s2/1409X1196Y.hkl\")\n",
    "x = x[:, :300, :300, :]\n",
    "y = y[:, :300, :300, :]\n",
    "print(np.mean(y[9,..., 0]))\n",
    "print(np.mean(x[9, ..., 0]))\n",
    "\n",
    "x_new = np.empty((15, 600, 600, 6))\n",
    "y_new = np.empty((12, 600, 600, 6))\n",
    "for band in range(6):\n",
    "    for time in range(x.shape[0]):\n",
    "        x_new[time, ..., band] = resize(x[time,..., band], (600, 600), 1)\n",
    "        \n",
    "for band in range(6):\n",
    "    for time in range(y.shape[0]):\n",
    "        y_new[time, ..., band] = resize(y[time,..., band], (600, 600), 1)"
   ]
  },
  {
   "cell_type": "code",
   "execution_count": null,
   "id": "4d5e16b9",
   "metadata": {},
   "outputs": [],
   "source": [
    "\n",
    "x = np.delete(x, 11, 0)\n",
    "\n"
   ]
  },
  {
   "cell_type": "code",
   "execution_count": null,
   "id": "399739fd",
   "metadata": {},
   "outputs": [],
   "source": [
    "def id_iqr_outliers(arr):\n",
    "    if arr.shape[0] > 6:\n",
    "        lower_qr = np.percentile(arr, 25, axis = 0)\n",
    "        upper_qr = np.percentile(arr, 75, axis = 0)\n",
    "        iqr = (upper_qr - lower_qr) * 2\n",
    "        lower_thresh = lower_qr - iqr\n",
    "        upper_thresh = upper_qr + iqr        \n",
    "        return lower_thresh, upper_thresh\n",
    "    else:\n",
    "        return None, None\n",
    "\n",
    "\n",
    "lower_thresh, upper_thresh = id_iqr_outliers(y)\n",
    "if lower_thresh is not None and upper_thresh is not None:\n",
    "    above = np.sum(y > upper_thresh, axis = (1, 2))\n",
    "    below = np.sum(y < lower_thresh, axis = (1, 2))\n",
    "    probs = above + below\n",
    "    print(np.sum(probs > (0.5 * y.shape[1] * y.shape[2]), axis = (1)))\n"
   ]
  },
  {
   "cell_type": "code",
   "execution_count": null,
   "id": "a19884c7",
   "metadata": {},
   "outputs": [],
   "source": [
    "sns.heatmap(upper[..., 3])"
   ]
  },
  {
   "cell_type": "code",
   "execution_count": null,
   "id": "fe7fa3cd",
   "metadata": {},
   "outputs": [],
   "source": [
    "x, _ = calculate_and_save_best_images(x, x_dates)\n",
    "y, _ = calculate_and_save_best_images(y, y_dates)\n"
   ]
  },
  {
   "cell_type": "code",
   "execution_count": null,
   "id": "2ed63231",
   "metadata": {},
   "outputs": [],
   "source": [
    "x.shape"
   ]
  },
  {
   "cell_type": "code",
   "execution_count": null,
   "id": "6f582047",
   "metadata": {},
   "outputs": [],
   "source": [
    "sns.scatterplot([x for x in range(y.shape[0])], np.mean(y[..., 3], axis = (1, 2)) )"
   ]
  },
  {
   "cell_type": "code",
   "execution_count": null,
   "id": "7ca1793c",
   "metadata": {},
   "outputs": [],
   "source": [
    "\n",
    "sm = Smoother(lmbd = 800, size = 72, nbands = 6, dim = 300)\n",
    "x = sm.interpolate_array(x)\n",
    "y = sm.interpolate_array(y)"
   ]
  },
  {
   "cell_type": "code",
   "execution_count": null,
   "id": "04e7a51b",
   "metadata": {},
   "outputs": [],
   "source": [
    "x = np.concatenate([y, x], axis = 2)"
   ]
  },
  {
   "cell_type": "code",
   "execution_count": null,
   "id": "0d0df70a",
   "metadata": {},
   "outputs": [],
   "source": [
    "x_dates = hkl.load(\"tifs/s2_dates_1410X1196Y.hkl\")\n",
    "y_dates = hkl.load(\"tifs/s2_dates_1409X1196Y.hkl\")\n",
    "print(x_dates)\n",
    "print(y_dates)"
   ]
  },
  {
   "cell_type": "code",
   "execution_count": null,
   "id": "b3745a1c",
   "metadata": {},
   "outputs": [],
   "source": [
    "import seaborn as sns\n",
    "import matplotlib.pyplot as plt\n",
    "%matplotlib inline"
   ]
  },
  {
   "cell_type": "code",
   "execution_count": null,
   "id": "f5a14080",
   "metadata": {},
   "outputs": [],
   "source": [
    "plt.figure(figsize=(15,7))\n",
    "sns.heatmap(x[0, ..., 0])"
   ]
  },
  {
   "cell_type": "code",
   "execution_count": null,
   "id": "72748836",
   "metadata": {},
   "outputs": [],
   "source": [
    "def convert_to_db(x: np.ndarray, min_db: int) -> np.ndarray:\n",
    "    \"\"\" Converts unitless backscatter coefficient\n",
    "        to db with a min_db lower threshold\n",
    "        \n",
    "        Parameters:\n",
    "         x (np.ndarray): unitless backscatter (T, X, Y, B) array\n",
    "         min_db (int): integer from -50 to 0\n",
    "    \n",
    "        Returns:\n",
    "         x (np.ndarray): db backscatter (T, X, Y, B) array\n",
    "    \"\"\"\n",
    "    \n",
    "    x = 10 * np.log10(x + 1/65535)\n",
    "    x[x < -min_db] = -min_db\n",
    "    x = (x + min_db) / min_db\n",
    "    return np.clip(x, 0, 1)\n",
    "\n",
    "x = np.float32(hkl.load(\"tifs/1410X1196Y.hkl\")) / 65535\n",
    "y = np.float32(hkl.load(\"tifs/1409X1196Y.hkl\")) / 65535\n",
    "\n",
    "\n",
    "x = np.concatenate([y, x], axis = 2)\n",
    "\n",
    "x = convert_to_db(x[..., 0], 22)"
   ]
  },
  {
   "cell_type": "code",
   "execution_count": null,
   "id": "19538aa1",
   "metadata": {},
   "outputs": [],
   "source": [
    "from skimage.transform import resize\n",
    "s1 = hkl.load(\"tifs/1410X1196Y.hkl\")\n",
    "\n",
    "# The S1 data here needs to be bilinearly upsampled as it is in training time! \n",
    "s1 = s1.reshape((s1.shape[0], s1.shape[1] // 2, 2, s1.shape[2] // 2, 2, 2))\n",
    "s1 = np.mean(s1, (2, 4))\n",
    "s1 = resize(s1, (s1.shape[0], s1.shape[1] * 2, s1.shape[2] * 2, 2), order = 1)\n",
    "s1 = s1 / 65535\n",
    "s1[..., -1] = convert_to_db(s1[..., -1], 22)\n",
    "s1[..., -2] = convert_to_db(s1[..., -2], 22)"
   ]
  },
  {
   "cell_type": "code",
   "execution_count": null,
   "id": "24c6ac21",
   "metadata": {},
   "outputs": [],
   "source": [
    "plt.figure(figsize=(15,7))\n",
    "sns.heatmap(x[11])"
   ]
  },
  {
   "cell_type": "code",
   "execution_count": null,
   "id": "4e4ddc4f",
   "metadata": {},
   "outputs": [],
   "source": [
    "x = np.float32(hkl.load(\"tifs/dem_1410X1196Y.hkl\"))\n",
    "y = np.float32(hkl.load(\"tifs/dem_1409X1196Y.hkl\"))\n",
    "x = np.concatenate([y, x], axis = 1)"
   ]
  },
  {
   "cell_type": "code",
   "execution_count": null,
   "id": "79996554",
   "metadata": {},
   "outputs": [],
   "source": [
    "plt.figure(figsize=(15,7))\n",
    "sns.heatmap(x)"
   ]
  },
  {
   "cell_type": "code",
   "execution_count": null,
   "id": "df93c6ee",
   "metadata": {},
   "outputs": [],
   "source": [
    "SIZE = 168\n",
    "min_all = [0.006576638437476157, 0.0162050812542916, 0.010040436408026246, 0.013351644159609368, 0.01965362020294499,\n",
    "               0.014229037918669413, 0.015289539940489814, 0.011993591210803388, 0.008239871824216068, 0.006546120393682765,\n",
    "               0.0, 0.0, 0.0, -0.1409399364817101, -0.4973397113668104, -0.09731556326714398, -0.7193834232943873]\n",
    "max_all = [0.2691233691920348, 0.3740291447318227, 0.5171435111009385, 0.6027466239414053, 0.5650263218127718, \n",
    "           0.5747005416952773, 0.5933928435187305, 0.6034943160143434, 0.7472037842374304, 0.7000076295109483, \n",
    "           0.509269855802243, 0.948334642387533, 0.6729257769285485, 0.8177635298774327, 0.35768999002433816,\n",
    "           0.7545951919107605, 0.7602693339366691]\n",
    "\n",
    "min_all = np.array(min_all)\n",
    "max_all = np.array(max_all)\n",
    "min_all = np.broadcast_to(min_all, (13, SIZE + 14, SIZE + 14, 17)).astype(np.float32)\n",
    "max_all = np.broadcast_to(max_all, (13, SIZE + 14, SIZE + 14, 17)).astype(np.float32)\n",
    "midrange = (max_all + min_all) / 2\n",
    "midrange = midrange.astype(np.float32)\n",
    "rng = max_all - min_all\n",
    "rng = rng.astype(np.float32)"
   ]
  },
  {
   "cell_type": "code",
   "execution_count": null,
   "id": "965f0747",
   "metadata": {},
   "outputs": [],
   "source": [
    "%run ../../src/preprocessing/indices.py\n",
    "x = np.load(\"tifs/1410X1196Y/0226.npy\")\n",
    "indices = np.empty((13, x.shape[1], x.shape[2], 17))\n",
    "indices[:12, ..., :13] = x\n",
    "indices[:12, ..., 13] = evi(x)\n",
    "indices[:12, ...,  14] = bi(x)\n",
    "indices[:12, ...,  15] = msavi2(x)\n",
    "indices[:12, ...,  16] = grndvi(x)\n",
    "indices[-1] = np.median(indices[:12], axis = 0)\n",
    "\n",
    "subtile = indices\n",
    "subtile = subtile.astype(np.float32)\n",
    "subtile = np.clip(subtile, min_all, max_all)\n",
    "subtile = (subtile - midrange) / (rng / 2)\n",
    "x = subtile\n",
    "\n",
    "y = np.load(\"tifs/1409X1196Y/434226.npy\")\n",
    "indices = np.empty((13, y.shape[1], y.shape[2], 17))\n",
    "indices[:12, ..., :13] = y\n",
    "indices[:12, ..., 13] = evi(y)\n",
    "indices[:12, ...,  14] = bi(y)\n",
    "indices[:12, ...,  15] = msavi2(y)\n",
    "indices[:12, ...,  16] = grndvi(y)\n",
    "indices[-1] = np.median(indices[:12], axis = 0)\n",
    "subtile = indices\n",
    "subtile = subtile.astype(np.float32)\n",
    "subtile = np.clip(subtile, min_all, max_all)\n",
    "subtile = (subtile - midrange) / (rng / 2)\n",
    "y = subtile\n",
    "#x = np.concatenate([y, x], axis = 2)"
   ]
  },
  {
   "cell_type": "code",
   "execution_count": null,
   "id": "aca333c7",
   "metadata": {},
   "outputs": [],
   "source": [
    "plt.figure(figsize=(15,7))\n",
    "sns.heatmap(x[6, ..., 11])"
   ]
  },
  {
   "cell_type": "code",
   "execution_count": null,
   "id": "cdac1950",
   "metadata": {},
   "outputs": [],
   "source": [
    "import tensorflow as tf"
   ]
  },
  {
   "cell_type": "code",
   "execution_count": null,
   "id": "87624ed4",
   "metadata": {},
   "outputs": [],
   "source": [
    "gap_model_path = \"../../models/182-gap/\"\n",
    "gap_graph_def = tf.compat.v1.GraphDef()\n",
    "gap_file = tf.io.gfile.GFile(gap_model_path + \"gap_graph.pb\", 'rb')\n",
    "gap_graph_def.ParseFromString(gap_file.read())\n",
    "gap_graph = tf.import_graph_def(gap_graph_def, name='gap')\n",
    "gap_sess = tf.compat.v1.Session(graph=gap_graph)\n",
    "gap_logits = gap_sess.graph.get_tensor_by_name(f\"gap/conv2d_8/Sigmoid:0\")            \n",
    "gap_inp = gap_sess.graph.get_tensor_by_name(\"gap/Placeholder:0\")"
   ]
  },
  {
   "cell_type": "code",
   "execution_count": null,
   "id": "cc950832",
   "metadata": {},
   "outputs": [],
   "source": [
    "batch_x = x[-1][np.newaxis]\n",
    "lengths = np.full((batch_x.shape[0]), 12)\n",
    "preds = gap_sess.run(predict_logits,\n",
    "                      feed_dict={predict_inp:batch_x})\n",
    "preds = preds.squeeze()\n",
    "sns.heatmap(preds)"
   ]
  },
  {
   "cell_type": "code",
   "execution_count": null,
   "id": "460cabfd",
   "metadata": {},
   "outputs": [],
   "source": [
    "batch_x = y[-1][np.newaxis]\n",
    "lengths = np.full((batch_x.shape[0]), 12)\n",
    "preds = gap_sess.run(predict_logits,\n",
    "                      feed_dict={predict_inp:batch_x})\n",
    "preds = preds.squeeze()\n",
    "sns.heatmap(preds)"
   ]
  },
  {
   "cell_type": "code",
   "execution_count": null,
   "id": "ac648c49",
   "metadata": {},
   "outputs": [],
   "source": [
    "yx = np.concatenate([y, x], axis = 2)\n",
    "yx = yx[:, :, 91:-91, :]\n",
    "yx.shape"
   ]
  },
  {
   "cell_type": "code",
   "execution_count": null,
   "id": "e3e692d1",
   "metadata": {},
   "outputs": [],
   "source": [
    "batch_x = yx[-1][np.newaxis]\n",
    "lengths = np.full((batch_x.shape[0]), 12)\n",
    "preds = gap_sess.run(predict_logits,\n",
    "                      feed_dict={predict_inp:batch_x})\n",
    "preds = preds.squeeze()\n",
    "sns.heatmap(preds)"
   ]
  },
  {
   "cell_type": "code",
   "execution_count": null,
   "id": "d4aa5857",
   "metadata": {},
   "outputs": [],
   "source": []
  }
 ],
 "metadata": {
  "kernelspec": {
   "display_name": "tf",
   "language": "python",
   "name": "tf"
  },
  "language_info": {
   "codemirror_mode": {
    "name": "ipython",
    "version": 3
   },
   "file_extension": ".py",
   "mimetype": "text/x-python",
   "name": "python",
   "nbconvert_exporter": "python",
   "pygments_lexer": "ipython3",
   "version": "3.7.10"
  }
 },
 "nbformat": 4,
 "nbformat_minor": 5
}
