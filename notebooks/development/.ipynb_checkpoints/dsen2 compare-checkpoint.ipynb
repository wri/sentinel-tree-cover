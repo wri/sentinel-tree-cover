{
 "cells": [
  {
   "cell_type": "code",
   "execution_count": null,
   "metadata": {},
   "outputs": [],
   "source": [
    "import os\n",
    "import numpy as np\n",
    "%run ../../src/dsen2/utils/DSen2Net.py\n",
    "\n",
    "import seaborn as sns\n",
    "import matplotlib.pyplot as plt\n",
    "%matplotlib inline"
   ]
  },
  {
   "cell_type": "code",
   "execution_count": null,
   "metadata": {},
   "outputs": [],
   "source": [
    "MDL_PATH = \"../../src/dsen2/models/\"\n",
    "\n",
    "input_shape = ((4, None, None), (6, None, None))\n",
    "model = s2model(input_shape, num_layers=6, feature_size=128)\n",
    "predict_file = MDL_PATH+'s2_032_lr_1e-04.hdf5'\n",
    "model.load_weights(predict_file)"
   ]
  },
  {
   "cell_type": "code",
   "execution_count": null,
   "metadata": {},
   "outputs": [],
   "source": [
    "test_data = []\n",
    "files = [x for x in os.listdir(\"../../data/test-raw/\") if \".npy\" in x]\n",
    "for file in files[:60]:\n",
    "    test_data.append(np.load(\"../../data/test-raw/\" + file)[:5])\n",
    "test_data = np.concatenate(test_data, axis = 0)\n",
    "test_data = np.float32(test_data) / 65535\n",
    "print(test_data.shape)"
   ]
  },
  {
   "cell_type": "code",
   "execution_count": null,
   "metadata": {},
   "outputs": [],
   "source": [
    "from skimage.transform import resize\n",
    "\n",
    "def make_input_data(data):\n",
    "    # 10 meter band, 20 -> 40 meter band, 20 meter band\n",
    "    twentym = data[..., 4:]\n",
    "    labels = np.copy(twentym)\n",
    "    twentym = np.reshape(twentym, ((twentym.shape[0], 24, 2, 24, 2, 6)))\n",
    "    twentym = np.mean(twentym, axis = (2, 4))\n",
    "    tenm = data[..., :4]\n",
    "\n",
    "    fourty_m = np.zeros_like(data[..., 4:])\n",
    "    for sample in range(fourty_m.shape[0]):\n",
    "        fourty_m[sample] = downPixelAggr(twentym[sample])\n",
    "\n",
    "    bilinear_upsample = resize(fourty_m, (fourty_m.shape[0], 48, 48, 6), 2)\n",
    "    input_data = np.concatenate([tenm, fourty_m], axis = -1)\n",
    "    \n",
    "    return bilinear_upsample, input_data, labels\n",
    "\n",
    "def test_rmse(inp):\n",
    "    inp_20m = inp[..., 4:]\n",
    "    inp_40m = np.reshape(inp_20m, inp_20m.shape[0], 24, 2, 24, 2, 6)\n",
    "    inp_40m = np.mean(inp_40m, axis = 2, 4)\n",
    "    fourty_m = downPixelAggr(inp_40m)"
   ]
  },
  {
   "cell_type": "code",
   "execution_count": null,
   "metadata": {},
   "outputs": [],
   "source": [
    "plt.figure(figsize=(10,7.5))\n",
    "sns.heatmap(test_data[255, :, :, 4])"
   ]
  },
  {
   "cell_type": "code",
   "execution_count": null,
   "metadata": {},
   "outputs": [],
   "source": [
    "%time x = superresolve(test_data[255][np.newaxis], model)\n",
    "plt.figure(figsize=(10,7.5))\n",
    "sns.heatmap(x[0, ..., 4])"
   ]
  },
  {
   "cell_type": "code",
   "execution_count": null,
   "metadata": {},
   "outputs": [],
   "source": []
  }
 ],
 "metadata": {
  "kernelspec": {
   "display_name": "remote_sensing",
   "language": "python",
   "name": "remote_sensing"
  },
  "language_info": {
   "codemirror_mode": {
    "name": "ipython",
    "version": 3
   },
   "file_extension": ".py",
   "mimetype": "text/x-python",
   "name": "python",
   "nbconvert_exporter": "python",
   "pygments_lexer": "ipython3",
   "version": "3.6.8"
  }
 },
 "nbformat": 4,
 "nbformat_minor": 2
}
